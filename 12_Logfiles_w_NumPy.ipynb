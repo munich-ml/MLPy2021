{
  "nbformat": 4,
  "nbformat_minor": 0,
  "metadata": {
    "colab": {
      "name": "12_Logfiles_w_NumPy.ipynb",
      "provenance": [],
      "collapsed_sections": [],
      "toc_visible": true,
      "include_colab_link": true
    },
    "kernelspec": {
      "name": "python3",
      "display_name": "Python 3",
      "language": "python"
    }
  },
  "cells": [
    {
      "cell_type": "markdown",
      "metadata": {
        "id": "view-in-github",
        "colab_type": "text"
      },
      "source": [
        "<a href=\"https://colab.research.google.com/github/munich-ml/MLPy2021/blob/main/12_Logfiles_w_NumPy.ipynb\" target=\"_parent\"><img src=\"https://colab.research.google.com/assets/colab-badge.svg\" alt=\"Open In Colab\"/></a>"
      ]
    },
    {
      "cell_type": "markdown",
      "metadata": {
        "id": "827kwTxX0tuc"
      },
      "source": [
        "# Logfile challenge"
      ]
    },
    {
      "cell_type": "markdown",
      "metadata": {
        "id": "z12MmBNm4fXJ"
      },
      "source": [
        "## setup"
      ]
    },
    {
      "cell_type": "markdown",
      "metadata": {
        "id": "Wu8QLzNa0zNJ"
      },
      "source": [
        "The setup dependes on whether the notebook is executed in **Google Colab** or on the **locally in Jupyter**.\n",
        "\n",
        "- Clone GitHub project `MLPy2021` if executed in Colab\n",
        "- import `parse_logfile_string` from `helper_funcs`\n",
        "- open file `logfile.csv` and store content into variable `s`\n"
      ]
    },
    {
      "cell_type": "code",
      "metadata": {
        "id": "7qFfDsKHO1DP",
        "colab": {
          "base_uri": "https://localhost:8080/"
        },
        "outputId": "66c7adb9-ac75-4bc1-bb3f-ac2c026cfd0e"
      },
      "source": [
        "import os, sys\n",
        "import numpy as np\n",
        "\n",
        "in_colab = 'google.colab' in sys.modules   # check if note is executed within Colab\n",
        "\n",
        "# Clone the repository if executed in Google Colab\n",
        "if in_colab:  \n",
        "    if \"MLPy2021\" in os.listdir():\n",
        "        !git -C MLPy2021 pull\n",
        "    else:\n",
        "        !git clone https://github.com/munich-ml/MLPy2021/\n",
        "\n",
        "# The function `parse_logfile_string` from 10_Logfile_challenge.ipynb has been moved \n",
        "# lib.helper_funcs.py. The import path depends on Colab or local execution \n",
        "if in_colab:\n",
        "    from MLPy2021.lib.helper_funcs import parse_logfile_string\n",
        "else:\n",
        "    from lib.helper_funcs import parse_logfile_string\n",
        "\n",
        "# Reading the logfile.csv content into the <st> variable s\n",
        "# The import path depends on Colab or local execution \n",
        "if in_colab:\n",
        "    filename = os.path.join(\"MLPy2021\", \"datasets\", \"logfile.csv\")\n",
        "else:\n",
        "    filename = os.path.join(\"datasets\", \"logfile.csv\")\n",
        "\n",
        "with open(filename, \"r\") as file:\n",
        "    s = file.read()"
      ],
      "execution_count": 1,
      "outputs": [
        {
          "output_type": "stream",
          "text": [
            "Cloning into 'MLPy2021'...\n",
            "remote: Enumerating objects: 114, done.\u001b[K\n",
            "remote: Counting objects: 100% (114/114), done.\u001b[K\n",
            "remote: Compressing objects: 100% (104/104), done.\u001b[K\n",
            "remote: Total 114 (delta 60), reused 32 (delta 8), pack-reused 0\u001b[K\n",
            "Receiving objects: 100% (114/114), 2.70 MiB | 15.38 MiB/s, done.\n",
            "Resolving deltas: 100% (60/60), done.\n"
          ],
          "name": "stdout"
        }
      ]
    },
    {
      "cell_type": "markdown",
      "metadata": {
        "id": "Gov2OdFVsMkK"
      },
      "source": [
        "# recap\n",
        "\n",
        "`parse_logfile_string` is the product of the `10_Logfile_challenge.ipynb`, encapsulated in a function.\n",
        "\n",
        "Lets check its return:\n"
      ]
    },
    {
      "cell_type": "code",
      "metadata": {
        "id": "ZEVZCuaTKvfn",
        "colab": {
          "base_uri": "https://localhost:8080/"
        },
        "outputId": "7e6e0d8f-2b66-4390-d672-8b12ee3af004"
      },
      "source": [
        "log = parse_logfile_string(s)\n",
        "log"
      ],
      "execution_count": 2,
      "outputs": [
        {
          "output_type": "execute_result",
          "data": {
            "text/plain": [
              "{'data': [[5.17, 6.4, 16.05, 10.61],\n",
              "  [9.47, 34.21, 5.95, 0.293],\n",
              "  [7.65, 21.11, 0.366, 4.8],\n",
              "  [2.82, 36.06, 16.03, 6.39],\n",
              "  [2.21, 30.5, 11.65, 4.36],\n",
              "  [6.86, 6.92, 3.73, 7.39],\n",
              "  [1.67, 21.43, 7.45, 2.67],\n",
              "  [3.92, 28.49, 19.98, 9.47],\n",
              "  [6.18, 0.324, 8.59, 9.24],\n",
              "  [4.12, 25.24, 19.96, 9.84],\n",
              "  [0.02, 0.006, 0.002, 0.001],\n",
              "  [8.84, 36.11, 2.1, 1.35],\n",
              "  [8.85, 36.14, 2.14, 1.33],\n",
              "  [3.0, 36.36, 17.09, 6.98],\n",
              "  [5.9, 0.108, 10.82, 9.82],\n",
              "  [9.78, 30.57, 8.31, 0.049],\n",
              "  [8.45, 33.44, 0.621, 2.33],\n",
              "  [0.65, 4.06, 1.28, 0.438],\n",
              "  [2.95, 36.34, 16.77, 6.79],\n",
              "  [2.88, 36.22, 16.37, 6.57],\n",
              "  [8.22, 30.69, 0.155, 2.98],\n",
              "  [6.26, 0.679, 7.96, 9.05],\n",
              "  [1.1, 10.87, 3.53, 1.23],\n",
              "  [0.01, 0.0, 0.0, 0.0],\n",
              "  [9.42, 34.62, 5.61, 0.34700000000000003],\n",
              "  [1.42, 16.57, 5.57, 1.97],\n",
              "  [4.22, 23.51, 19.86, 10.01],\n",
              "  [3.46, 34.25, 19.13, 8.35],\n",
              "  [8.7, 35.46, 1.46, 1.68],\n",
              "  [4.29, 22.22, 19.75, 10.11]],\n",
              " 'names': ['x', 'sig0', 'sig1', 'sig2'],\n",
              " 'params': {'calibration factor sig0': '0.55',\n",
              "  'calibration factor sig2': '1.88',\n",
              "  'measurement date': '2021-04-06',\n",
              "  'measurement time': '08:00:00'}}"
            ]
          },
          "metadata": {
            "tags": []
          },
          "execution_count": 2
        }
      ]
    },
    {
      "cell_type": "code",
      "metadata": {
        "id": "Y_g23RwrmVBY",
        "colab": {
          "base_uri": "https://localhost:8080/"
        },
        "outputId": "42e25947-f1c6-4495-cd2e-149ffb534c2f"
      },
      "source": [
        "log.keys()"
      ],
      "execution_count": 26,
      "outputs": [
        {
          "output_type": "execute_result",
          "data": {
            "text/plain": [
              "dict_keys(['params', 'names', 'data'])"
            ]
          },
          "metadata": {
            "tags": []
          },
          "execution_count": 26
        }
      ]
    },
    {
      "cell_type": "markdown",
      "metadata": {
        "id": "zqdvwaVcEhq7"
      },
      "source": [
        "# use NumPy"
      ]
    },
    {
      "cell_type": "code",
      "metadata": {
        "id": "L4kG8K59EYlu"
      },
      "source": [
        "data = np.array(log[\"data\"])"
      ],
      "execution_count": 4,
      "outputs": []
    },
    {
      "cell_type": "code",
      "metadata": {
        "id": "Tbfx0THgFDCk",
        "colab": {
          "base_uri": "https://localhost:8080/"
        },
        "outputId": "dada6e30-1752-4351-efef-dcef5627cdd7"
      },
      "source": [
        "data"
      ],
      "execution_count": 5,
      "outputs": [
        {
          "output_type": "execute_result",
          "data": {
            "text/plain": [
              "array([[5.170e+00, 6.400e+00, 1.605e+01, 1.061e+01],\n",
              "       [9.470e+00, 3.421e+01, 5.950e+00, 2.930e-01],\n",
              "       [7.650e+00, 2.111e+01, 3.660e-01, 4.800e+00],\n",
              "       [2.820e+00, 3.606e+01, 1.603e+01, 6.390e+00],\n",
              "       [2.210e+00, 3.050e+01, 1.165e+01, 4.360e+00],\n",
              "       [6.860e+00, 6.920e+00, 3.730e+00, 7.390e+00],\n",
              "       [1.670e+00, 2.143e+01, 7.450e+00, 2.670e+00],\n",
              "       [3.920e+00, 2.849e+01, 1.998e+01, 9.470e+00],\n",
              "       [6.180e+00, 3.240e-01, 8.590e+00, 9.240e+00],\n",
              "       [4.120e+00, 2.524e+01, 1.996e+01, 9.840e+00],\n",
              "       [2.000e-02, 6.000e-03, 2.000e-03, 1.000e-03],\n",
              "       [8.840e+00, 3.611e+01, 2.100e+00, 1.350e+00],\n",
              "       [8.850e+00, 3.614e+01, 2.140e+00, 1.330e+00],\n",
              "       [3.000e+00, 3.636e+01, 1.709e+01, 6.980e+00],\n",
              "       [5.900e+00, 1.080e-01, 1.082e+01, 9.820e+00],\n",
              "       [9.780e+00, 3.057e+01, 8.310e+00, 4.900e-02],\n",
              "       [8.450e+00, 3.344e+01, 6.210e-01, 2.330e+00],\n",
              "       [6.500e-01, 4.060e+00, 1.280e+00, 4.380e-01],\n",
              "       [2.950e+00, 3.634e+01, 1.677e+01, 6.790e+00],\n",
              "       [2.880e+00, 3.622e+01, 1.637e+01, 6.570e+00],\n",
              "       [8.220e+00, 3.069e+01, 1.550e-01, 2.980e+00],\n",
              "       [6.260e+00, 6.790e-01, 7.960e+00, 9.050e+00],\n",
              "       [1.100e+00, 1.087e+01, 3.530e+00, 1.230e+00],\n",
              "       [1.000e-02, 0.000e+00, 0.000e+00, 0.000e+00],\n",
              "       [9.420e+00, 3.462e+01, 5.610e+00, 3.470e-01],\n",
              "       [1.420e+00, 1.657e+01, 5.570e+00, 1.970e+00],\n",
              "       [4.220e+00, 2.351e+01, 1.986e+01, 1.001e+01],\n",
              "       [3.460e+00, 3.425e+01, 1.913e+01, 8.350e+00],\n",
              "       [8.700e+00, 3.546e+01, 1.460e+00, 1.680e+00],\n",
              "       [4.290e+00, 2.222e+01, 1.975e+01, 1.011e+01]])"
            ]
          },
          "metadata": {
            "tags": []
          },
          "execution_count": 5
        }
      ]
    },
    {
      "cell_type": "code",
      "metadata": {
        "id": "GXrt4gWqEgx6",
        "colab": {
          "base_uri": "https://localhost:8080/"
        },
        "outputId": "2e4ca0af-cdaf-4fb2-e81c-e4d9e42f4bdb"
      },
      "source": [
        "data[:, 0]"
      ],
      "execution_count": 6,
      "outputs": [
        {
          "output_type": "execute_result",
          "data": {
            "text/plain": [
              "array([5.17, 9.47, 7.65, 2.82, 2.21, 6.86, 1.67, 3.92, 6.18, 4.12, 0.02,\n",
              "       8.84, 8.85, 3.  , 5.9 , 9.78, 8.45, 0.65, 2.95, 2.88, 8.22, 6.26,\n",
              "       1.1 , 0.01, 9.42, 1.42, 4.22, 3.46, 8.7 , 4.29])"
            ]
          },
          "metadata": {
            "tags": []
          },
          "execution_count": 6
        }
      ]
    },
    {
      "cell_type": "markdown",
      "metadata": {
        "id": "jRsJvjkvKxPY"
      },
      "source": [
        "Ok, indexing in NumPy is very easy!\n",
        "\n"
      ]
    },
    {
      "cell_type": "markdown",
      "metadata": {
        "id": "6XHg9ctXGJs4"
      },
      "source": [
        "## Exercise\n",
        "Write a wrapper function `parse_logfile_string_to_numpy(s)`, that wraps the original `parse_logfile_string` function and converts the list of lists `data` field into a `NumPy.array`.\n",
        "\n",
        "`parse_logfile_string_to_numpy` shall return: `{'params': <type 'dict', 'names': <type 'list', 'data': <type 'numpy.ndarray'>}`"
      ]
    },
    {
      "cell_type": "code",
      "metadata": {
        "id": "7kbXpkgfMWB1"
      },
      "source": [
        "def parse_logfile_string_to_numpy(s):\n",
        "    \"\"\"\n",
        "    Wraps 'parse_logfile_string' function and converts the \"data\" list of lists to an NumPy array\n",
        "    \"\"\"\n",
        "    log_dict = parse_logfile_string(s)\n",
        "    log_dict[\"data\"] = np.array(log_dict[\"data\"])\n",
        "    return log_dict"
      ],
      "execution_count": 7,
      "outputs": []
    },
    {
      "cell_type": "markdown",
      "metadata": {
        "id": "_G_KbpvpI147"
      },
      "source": [
        "## Testing `parse_logfile_string_to_numpy` "
      ]
    },
    {
      "cell_type": "code",
      "metadata": {
        "id": "ApINZ2AjHR8I",
        "colab": {
          "base_uri": "https://localhost:8080/"
        },
        "outputId": "9b14bfd2-b974-4062-cc60-18b1d70e4774"
      },
      "source": [
        "log = parse_logfile_string_to_numpy(s)\n",
        "log"
      ],
      "execution_count": 8,
      "outputs": [
        {
          "output_type": "execute_result",
          "data": {
            "text/plain": [
              "{'data': array([[5.170e+00, 6.400e+00, 1.605e+01, 1.061e+01],\n",
              "        [9.470e+00, 3.421e+01, 5.950e+00, 2.930e-01],\n",
              "        [7.650e+00, 2.111e+01, 3.660e-01, 4.800e+00],\n",
              "        [2.820e+00, 3.606e+01, 1.603e+01, 6.390e+00],\n",
              "        [2.210e+00, 3.050e+01, 1.165e+01, 4.360e+00],\n",
              "        [6.860e+00, 6.920e+00, 3.730e+00, 7.390e+00],\n",
              "        [1.670e+00, 2.143e+01, 7.450e+00, 2.670e+00],\n",
              "        [3.920e+00, 2.849e+01, 1.998e+01, 9.470e+00],\n",
              "        [6.180e+00, 3.240e-01, 8.590e+00, 9.240e+00],\n",
              "        [4.120e+00, 2.524e+01, 1.996e+01, 9.840e+00],\n",
              "        [2.000e-02, 6.000e-03, 2.000e-03, 1.000e-03],\n",
              "        [8.840e+00, 3.611e+01, 2.100e+00, 1.350e+00],\n",
              "        [8.850e+00, 3.614e+01, 2.140e+00, 1.330e+00],\n",
              "        [3.000e+00, 3.636e+01, 1.709e+01, 6.980e+00],\n",
              "        [5.900e+00, 1.080e-01, 1.082e+01, 9.820e+00],\n",
              "        [9.780e+00, 3.057e+01, 8.310e+00, 4.900e-02],\n",
              "        [8.450e+00, 3.344e+01, 6.210e-01, 2.330e+00],\n",
              "        [6.500e-01, 4.060e+00, 1.280e+00, 4.380e-01],\n",
              "        [2.950e+00, 3.634e+01, 1.677e+01, 6.790e+00],\n",
              "        [2.880e+00, 3.622e+01, 1.637e+01, 6.570e+00],\n",
              "        [8.220e+00, 3.069e+01, 1.550e-01, 2.980e+00],\n",
              "        [6.260e+00, 6.790e-01, 7.960e+00, 9.050e+00],\n",
              "        [1.100e+00, 1.087e+01, 3.530e+00, 1.230e+00],\n",
              "        [1.000e-02, 0.000e+00, 0.000e+00, 0.000e+00],\n",
              "        [9.420e+00, 3.462e+01, 5.610e+00, 3.470e-01],\n",
              "        [1.420e+00, 1.657e+01, 5.570e+00, 1.970e+00],\n",
              "        [4.220e+00, 2.351e+01, 1.986e+01, 1.001e+01],\n",
              "        [3.460e+00, 3.425e+01, 1.913e+01, 8.350e+00],\n",
              "        [8.700e+00, 3.546e+01, 1.460e+00, 1.680e+00],\n",
              "        [4.290e+00, 2.222e+01, 1.975e+01, 1.011e+01]]),\n",
              " 'names': ['x', 'sig0', 'sig1', 'sig2'],\n",
              " 'params': {'calibration factor sig0': '0.55',\n",
              "  'calibration factor sig2': '1.88',\n",
              "  'measurement date': '2021-04-06',\n",
              "  'measurement time': '08:00:00'}}"
            ]
          },
          "metadata": {
            "tags": []
          },
          "execution_count": 8
        }
      ]
    },
    {
      "cell_type": "code",
      "metadata": {
        "id": "jco-HFBOIWCx",
        "colab": {
          "base_uri": "https://localhost:8080/"
        },
        "outputId": "611f3dec-f53b-43dd-8b0e-ef93d846370e"
      },
      "source": [
        "type(log[\"data\"])"
      ],
      "execution_count": 9,
      "outputs": [
        {
          "output_type": "execute_result",
          "data": {
            "text/plain": [
              "numpy.ndarray"
            ]
          },
          "metadata": {
            "tags": []
          },
          "execution_count": 9
        }
      ]
    },
    {
      "cell_type": "markdown",
      "metadata": {
        "id": "l-AZq-sIQ16s"
      },
      "source": [
        "## Create `apply calibration` function"
      ]
    },
    {
      "cell_type": "code",
      "metadata": {
        "id": "NhGsE4DOKwxj"
      },
      "source": [
        "def apply_calibration(log):\n",
        "    for param, cal_factor in log[\"params\"].items():\n",
        "        if \"calibration factor\" in param:\n",
        "            sig = param.split(\" \")[-1]\n",
        "            col_index = log[\"names\"].index(sig)\n",
        "\n",
        "            log[\"data\"][:, col_index] *= float(cal_factor)"
      ],
      "execution_count": 10,
      "outputs": []
    },
    {
      "cell_type": "code",
      "metadata": {
        "id": "l0pCU4f9Lrqy",
        "colab": {
          "base_uri": "https://localhost:8080/"
        },
        "outputId": "9a97a5e3-5f91-49e5-f5d7-9d1cfeae33a7"
      },
      "source": [
        "log = parse_logfile_string_to_numpy(s)\n",
        "\n",
        "print(\"data head before calibration:\")\n",
        "print(log[\"data\"][:3, :])\n",
        "\n",
        "apply_calibration(log)\n",
        "\n",
        "print(\"data head after calibration:\")\n",
        "print(log[\"data\"][:3, :])"
      ],
      "execution_count": 11,
      "outputs": [
        {
          "output_type": "stream",
          "text": [
            "data head before calibration:\n",
            "[[ 5.17   6.4   16.05  10.61 ]\n",
            " [ 9.47  34.21   5.95   0.293]\n",
            " [ 7.65  21.11   0.366  4.8  ]]\n",
            "data head after calibration:\n",
            "[[ 5.17     3.52    16.05    19.9468 ]\n",
            " [ 9.47    18.8155   5.95     0.55084]\n",
            " [ 7.65    11.6105   0.366    9.024  ]]\n"
          ],
          "name": "stdout"
        }
      ]
    },
    {
      "cell_type": "markdown",
      "metadata": {
        "id": "RN6KO6MJPUDj"
      },
      "source": [
        "## `in-place` operation\n",
        "\n"
      ]
    },
    {
      "cell_type": "markdown",
      "metadata": {
        "id": "wLS7TRrrQ0ZW"
      },
      "source": [
        "`apply_calibration` overwrote the original data. \n",
        "\n",
        "Thus, one has to remember whether `apply_calibration` has already been executed and avoid executing it twice."
      ]
    },
    {
      "cell_type": "markdown",
      "metadata": {
        "id": "1bi2s7hNKwzB"
      },
      "source": [
        "## adding a new column `sig1_cal`\n"
      ]
    },
    {
      "cell_type": "code",
      "metadata": {
        "id": "HdXsEwBlKxOQ"
      },
      "source": [
        "col_idx = 1\n",
        "row_max = 5"
      ],
      "execution_count": 12,
      "outputs": []
    },
    {
      "cell_type": "code",
      "metadata": {
        "id": "O_1XlEIULrBZ",
        "colab": {
          "base_uri": "https://localhost:8080/"
        },
        "outputId": "0506c961-a7af-4381-fbb2-d8ea99b37240"
      },
      "source": [
        "log[\"data\"][:row_max, :]"
      ],
      "execution_count": 13,
      "outputs": [
        {
          "output_type": "execute_result",
          "data": {
            "text/plain": [
              "array([[ 5.17   ,  3.52   , 16.05   , 19.9468 ],\n",
              "       [ 9.47   , 18.8155 ,  5.95   ,  0.55084],\n",
              "       [ 7.65   , 11.6105 ,  0.366  ,  9.024  ],\n",
              "       [ 2.82   , 19.833  , 16.03   , 12.0132 ],\n",
              "       [ 2.21   , 16.775  , 11.65   ,  8.1968 ]])"
            ]
          },
          "metadata": {
            "tags": []
          },
          "execution_count": 13
        }
      ]
    },
    {
      "cell_type": "code",
      "metadata": {
        "id": "h58CZHbMSCNH",
        "colab": {
          "base_uri": "https://localhost:8080/"
        },
        "outputId": "326de789-19f6-4225-8342-826b5e9180c1"
      },
      "source": [
        "log[\"data\"][:row_max, col_idx]"
      ],
      "execution_count": 14,
      "outputs": [
        {
          "output_type": "execute_result",
          "data": {
            "text/plain": [
              "array([ 3.52  , 18.8155, 11.6105, 19.833 , 16.775 ])"
            ]
          },
          "metadata": {
            "tags": []
          },
          "execution_count": 14
        }
      ]
    },
    {
      "cell_type": "code",
      "metadata": {
        "id": "yK9PeLlkSRRa",
        "colab": {
          "base_uri": "https://localhost:8080/"
        },
        "outputId": "cc49b8c5-3c5e-4b1a-b71f-483da3f3d877"
      },
      "source": [
        "new_col = log[\"data\"][:row_max, col_idx] * 2   # arbitrary cal factor 2\n",
        "new_col\n"
      ],
      "execution_count": 15,
      "outputs": [
        {
          "output_type": "execute_result",
          "data": {
            "text/plain": [
              "array([ 7.04 , 37.631, 23.221, 39.666, 33.55 ])"
            ]
          },
          "metadata": {
            "tags": []
          },
          "execution_count": 15
        }
      ]
    },
    {
      "cell_type": "code",
      "metadata": {
        "id": "4B_RTf9kSkGQ",
        "colab": {
          "base_uri": "https://localhost:8080/"
        },
        "outputId": "bbd11288-b166-43ad-c32b-5f14a345f2aa"
      },
      "source": [
        "new_col.shape"
      ],
      "execution_count": 16,
      "outputs": [
        {
          "output_type": "execute_result",
          "data": {
            "text/plain": [
              "(5,)"
            ]
          },
          "metadata": {
            "tags": []
          },
          "execution_count": 16
        }
      ]
    },
    {
      "cell_type": "markdown",
      "metadata": {
        "id": "lJ_roeO_NrY0"
      },
      "source": [
        "`new_col` is a 1D array. Thus, `np.hstack` or `np.concatenate` can't be used!"
      ]
    },
    {
      "cell_type": "code",
      "metadata": {
        "id": "WdRYqQWZSnYF",
        "colab": {
          "base_uri": "https://localhost:8080/"
        },
        "outputId": "91b9a56e-cca0-4988-b0af-6d767e5bb5c5"
      },
      "source": [
        "new_data = np.column_stack([log[\"data\"][:row_max, :], new_col])\n",
        "new_data[:row_max, :]"
      ],
      "execution_count": 17,
      "outputs": [
        {
          "output_type": "execute_result",
          "data": {
            "text/plain": [
              "array([[ 5.17   ,  3.52   , 16.05   , 19.9468 ,  7.04   ],\n",
              "       [ 9.47   , 18.8155 ,  5.95   ,  0.55084, 37.631  ],\n",
              "       [ 7.65   , 11.6105 ,  0.366  ,  9.024  , 23.221  ],\n",
              "       [ 2.82   , 19.833  , 16.03   , 12.0132 , 39.666  ],\n",
              "       [ 2.21   , 16.775  , 11.65   ,  8.1968 , 33.55   ]])"
            ]
          },
          "metadata": {
            "tags": []
          },
          "execution_count": 17
        }
      ]
    },
    {
      "cell_type": "markdown",
      "metadata": {
        "id": "95x2jfSoWqmm"
      },
      "source": [
        "## Exercise \n",
        "Modifi `apply_calibration` to make it work **out-of-place**"
      ]
    },
    {
      "cell_type": "code",
      "metadata": {
        "id": "l27dr0FqRaT1"
      },
      "source": [
        "def apply_calibration(log):\n",
        "    for param, cal_factor in log[\"params\"].items():\n",
        "        if \"calibration factor\" in param:\n",
        "            sig = param.split(\" \")[-1]\n",
        "            col_index = log[\"names\"].index(sig)\n",
        "\n",
        "            # append the new column with calibrated data to the right\n",
        "            new_col = log[\"data\"][:, col_index] * float(cal_factor)\n",
        "            log[\"data\"] = np.column_stack([log[\"data\"], new_col])\n",
        "\n",
        "            # also add the new name to the names list\n",
        "            log[\"names\"].append(sig + \"_cal\") "
      ],
      "execution_count": 18,
      "outputs": []
    },
    {
      "cell_type": "markdown",
      "metadata": {
        "id": "EjvdP1tuObEz"
      },
      "source": [
        "## Testing `apply_calibration`"
      ]
    },
    {
      "cell_type": "code",
      "metadata": {
        "id": "cJnr-XIJV_D9",
        "colab": {
          "base_uri": "https://localhost:8080/"
        },
        "outputId": "4f1528fb-07e8-42a7-8c86-17168ce53395"
      },
      "source": [
        "log = parse_logfile_string_to_numpy(s)\n",
        "\n",
        "print(\"data head before calibration:\")\n",
        "print(log[\"names\"])\n",
        "print(log[\"data\"][:3, :])\n",
        "\n",
        "apply_calibration(log)\n",
        "\n",
        "print(\"data head after calibration:\")\n",
        "print(log[\"names\"])\n",
        "print(log[\"data\"][:3, :])"
      ],
      "execution_count": 19,
      "outputs": [
        {
          "output_type": "stream",
          "text": [
            "data head before calibration:\n",
            "['x', 'sig0', 'sig1', 'sig2']\n",
            "[[ 5.17   6.4   16.05  10.61 ]\n",
            " [ 9.47  34.21   5.95   0.293]\n",
            " [ 7.65  21.11   0.366  4.8  ]]\n",
            "data head after calibration:\n",
            "['x', 'sig0', 'sig1', 'sig2', 'sig0_cal', 'sig2_cal']\n",
            "[[ 5.17     6.4     16.05    10.61     3.52    19.9468 ]\n",
            " [ 9.47    34.21     5.95     0.293   18.8155   0.55084]\n",
            " [ 7.65    21.11     0.366    4.8     11.6105   9.024  ]]\n"
          ],
          "name": "stdout"
        }
      ]
    },
    {
      "cell_type": "markdown",
      "metadata": {
        "id": "hAtXWdpbiVEE"
      },
      "source": [
        "# Matplotlib"
      ]
    },
    {
      "cell_type": "code",
      "metadata": {
        "id": "xnW9yndmWGGN"
      },
      "source": [
        "import matplotlib.pyplot as plt"
      ],
      "execution_count": 20,
      "outputs": []
    },
    {
      "cell_type": "code",
      "metadata": {
        "id": "a7JwIDGOZoS-",
        "colab": {
          "base_uri": "https://localhost:8080/",
          "height": 265
        },
        "outputId": "6eac8839-3b30-457f-ca3e-5a42ec7a5bb8"
      },
      "source": [
        "plt.plot(log[\"data\"][:,0], log[\"data\"][:,1], \"o\");"
      ],
      "execution_count": 21,
      "outputs": [
        {
          "output_type": "display_data",
          "data": {
            "image/png": "[encoded data removed]",
            "text/plain": [
              "<Figure size 432x288 with 1 Axes>"
            ]
          },
          "metadata": {
            "tags": [],
            "needs_background": "light"
          }
        }
      ]
    },
    {
      "cell_type": "markdown",
      "metadata": {
        "id": "irlXuT52id7b"
      },
      "source": [
        "## Exercise\n",
        "Create a function `plot` takes two inputs:\n",
        "- the `log` container, and\n",
        "- `sig_names`, a list of names\n",
        "\n",
        "Make a plot incl. legend and 'not-in-names' warning message."
      ]
    },
    {
      "cell_type": "code",
      "metadata": {
        "id": "1ZNCRd5hZdpY"
      },
      "source": [
        "def plot(log, sig_names):\n",
        "    x = log[\"data\"][:, log[\"names\"].index(\"x\")]\n",
        "    for sig_name in sig_names:\n",
        "        if sig_name in log[\"names\"]:\n",
        "            y = log[\"data\"][:, log[\"names\"].index(sig_name)]\n",
        "            plt.plot(x, y, \"o\", label=sig_name)\n",
        "        else:\n",
        "            print(\"Warning, '{}' is not in 'log['names']'!\".format(sig_name))\n",
        "    plt.grid(), plt.legend(), plt.tight_layout()"
      ],
      "execution_count": 22,
      "outputs": []
    },
    {
      "cell_type": "code",
      "metadata": {
        "id": "nNLWvGuKbCVa",
        "colab": {
          "base_uri": "https://localhost:8080/"
        },
        "outputId": "a708e319-2155-4c60-af3d-e57237b8d661"
      },
      "source": [
        "log[\"names\"]"
      ],
      "execution_count": 23,
      "outputs": [
        {
          "output_type": "execute_result",
          "data": {
            "text/plain": [
              "['x', 'sig0', 'sig1', 'sig2', 'sig0_cal', 'sig2_cal']"
            ]
          },
          "metadata": {
            "tags": []
          },
          "execution_count": 23
        }
      ]
    },
    {
      "cell_type": "markdown",
      "metadata": {
        "id": "Ik2sAPMtjnEO"
      },
      "source": [
        "## Testing `plot`"
      ]
    },
    {
      "cell_type": "code",
      "metadata": {
        "id": "cBeyyFUBa8WA",
        "colab": {
          "base_uri": "https://localhost:8080/",
          "height": 330
        },
        "outputId": "bb2cd36d-cfec-453b-ec6a-32b9f6f4469e"
      },
      "source": [
        "plot(log, sig_names=[\"sig0_cal\", \"sig1_cal\", \"sig1\", \"sig42\", \"sig2_cal\"])"
      ],
      "execution_count": 24,
      "outputs": [
        {
          "output_type": "stream",
          "text": [
            "Warning, 'sig1_cal' is not in 'log['names']'!\n",
            "Warning, 'sig42' is not in 'log['names']'!\n"
          ],
          "name": "stdout"
        },
        {
          "output_type": "display_data",
          "data": {
            "image/png": "[encoded data removed]",
            "text/plain": [
              "<Figure size 432x288 with 1 Axes>"
            ]
          },
          "metadata": {
            "tags": [],
            "needs_background": "light"
          }
        }
      ]
    },
    {
      "cell_type": "code",
      "metadata": {
        "id": "Lfz5O-GIj0dv",
        "colab": {
          "base_uri": "https://localhost:8080/",
          "height": 297
        },
        "outputId": "92f5b2bb-fdd2-4552-ace5-fab37ae9ab45"
      },
      "source": [
        "plot(log, sig_names=log[\"names\"])"
      ],
      "execution_count": 25,
      "outputs": [
        {
          "output_type": "display_data",
          "data": {
            "image/png": "[encoded data removed]",
            "text/plain": [
              "<Figure size 432x288 with 1 Axes>"
            ]
          },
          "metadata": {
            "tags": [],
            "needs_background": "light"
          }
        }
      ]
    },
    {
      "cell_type": "code",
      "metadata": {
        "id": "LFEbkm8pPsEi"
      },
      "source": [
        ""
      ],
      "execution_count": 25,
      "outputs": []
    }
  ]
}