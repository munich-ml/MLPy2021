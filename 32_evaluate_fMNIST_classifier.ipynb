{
  "nbformat": 4,
  "nbformat_minor": 0,
  "metadata": {
    "kernelspec": {
      "display_name": "Python 3",
      "language": "python",
      "name": "python3"
    },
    "language_info": {
      "codemirror_mode": {
        "name": "ipython",
        "version": 3
      },
      "file_extension": ".py",
      "mimetype": "text/x-python",
      "name": "python",
      "nbconvert_exporter": "python",
      "pygments_lexer": "ipython3",
      "version": "3.7.3"
    },
    "nav_menu": {
      "height": "264px",
      "width": "369px"
    },
    "toc": {
      "navigate_menu": true,
      "number_sections": true,
      "sideBar": true,
      "threshold": 6,
      "toc_cell": false,
      "toc_section_display": "block",
      "toc_window_display": false
    },
    "colab": {
      "name": "32_evaluate_fMNIST_classifier.ipynb",
      "provenance": [],
      "collapsed_sections": [],
      "include_colab_link": true
    }
  },
  "cells": [
    {
      "cell_type": "markdown",
      "metadata": {
        "id": "view-in-github",
        "colab_type": "text"
      },
      "source": [
        "<a href=\"https://colab.research.google.com/github/munich-ml/MLPy2020/blob/master/32_evaluate_fMNIST_classifier.ipynb\" target=\"_parent\"><img src=\"https://colab.research.google.com/assets/colab-badge.svg\" alt=\"Open In Colab\"/></a>"
      ]
    },
    {
      "cell_type": "markdown",
      "metadata": {
        "id": "e2piuI4C-TVp",
        "colab_type": "text"
      },
      "source": [
        "# Intro"
      ]
    },
    {
      "cell_type": "markdown",
      "metadata": {
        "id": "C9_a-EzZ6x8B",
        "colab_type": "text"
      },
      "source": [
        "## References\n",
        "Resources used to create this notebook:\n",
        "- [scikit-learn website](https://scikit-learn.org)\n",
        "- [Matplotlib website](https://matplotlib.org/)\n",
        "- [Wikipedia](https://en.wikipedia.org/wiki/Main_Page)\n",
        "- Hands-on Machine Learning with Scikit-learn, Keras & TensorFlow, Aurelien Geron, [Book on Amazon](https://www.amazon.de/Aur%C3%A9lien-G%C3%A9ron/dp/1492032646/ref=sr_1_3?__mk_de_DE=%C3%85M%C3%85%C5%BD%C3%95%C3%91&dchild=1&keywords=Hands-on+Machine+Learning+with+Scikit-learn%2C+Keras+%26+TensorFlow%2C+Aurelien+Geron%2C&qid=1589875241&sr=8-3)\n",
        "- Introduction to Machine Learning with Python, Andreas Mueller, [Book on Amazon](https://www.amazon.de/Introduction-Machine-Learning-Python-Scientists/dp/1449369413)\n"
      ]
    },
    {
      "cell_type": "markdown",
      "metadata": {
        "id": "eNST_MlxjzH0",
        "colab_type": "text"
      },
      "source": [
        "## Setup"
      ]
    },
    {
      "cell_type": "markdown",
      "metadata": {
        "id": "kgdeO6WVjzH0",
        "colab_type": "text"
      },
      "source": [
        "First, do the common imports.\n",
        "\n",
        "Tensorflow must be 2.x, because there are major changes from 1.x"
      ]
    },
    {
      "cell_type": "code",
      "metadata": {
        "id": "4yPHaPsejzH1",
        "colab_type": "code",
        "outputId": "086665d1-4c0b-4a53-fcd2-cd7512c0f0c3",
        "colab": {
          "base_uri": "https://localhost:8080/",
          "height": 134
        }
      },
      "source": [
        "# Python ≥3.5 is required\n",
        "import sys\n",
        "assert sys.version_info >= (3, 5)\n",
        "\n",
        "# Forces tensorflow version (only in colab)\n",
        "%tensorflow_version 2.x           \n",
        "\n",
        "# TensorFlow ≥2.0 is required\n",
        "import tensorflow as tf\n",
        "from tensorflow import keras\n",
        "assert tf.__version__ >= \"2.0\"\n",
        "\n",
        "# Common imports\n",
        "import os\n",
        "import numpy as np\n",
        "import pandas as pd\n",
        "from IPython.display import Image\n",
        "\n",
        "# to make this notebook's output stable across runs\n",
        "np.random.seed(42)\n",
        "\n",
        "# Setup matplotlib\n",
        "%matplotlib inline\n",
        "import matplotlib as mpl\n",
        "import matplotlib.pyplot as plt\n",
        "mpl.rc('axes', labelsize=14)\n",
        "mpl.rc('xtick', labelsize=12)\n",
        "mpl.rc('ytick', labelsize=12)\n",
        "\n",
        "# Ignore useless warnings (see SciPy issue #5998)\n",
        "import warnings\n",
        "warnings.filterwarnings(action=\"ignore\", message=\"^internal gelsd\")\n",
        "\n",
        "# Get munich-ml helper functions from GitHub\n",
        "if \"MLPy2020\" in os.listdir():\n",
        "    !git -C MLPy2020 pull\n",
        "else:\n",
        "    !git clone https://github.com/munich-ml/MLPy2020/\n",
        "\n",
        "from MLPy2020.MLPy_helper_funcs import plot_confusion_matrix, plot_prediction_examples, pickle_in"
      ],
      "execution_count": 1,
      "outputs": [
        {
          "output_type": "stream",
          "text": [
            "Cloning into 'MLPy2020'...\n",
            "remote: Enumerating objects: 50, done.\u001b[K\n",
            "remote: Counting objects: 100% (50/50), done.\u001b[K\n",
            "remote: Compressing objects: 100% (48/48), done.\u001b[K\n",
            "remote: Total 268 (delta 28), reused 4 (delta 2), pack-reused 218\u001b[K\n",
            "Receiving objects: 100% (268/268), 4.63 MiB | 8.33 MiB/s, done.\n",
            "Resolving deltas: 100% (144/144), done.\n"
          ],
          "name": "stdout"
        }
      ]
    },
    {
      "cell_type": "markdown",
      "metadata": {
        "id": "Gl-ClkTnq1nV",
        "colab_type": "text"
      },
      "source": [
        "# Load a model"
      ]
    },
    {
      "cell_type": "markdown",
      "metadata": {
        "id": "Gp2b1spIJJ3v",
        "colab_type": "text"
      },
      "source": [
        "## Mount google drive"
      ]
    },
    {
      "cell_type": "code",
      "metadata": {
        "id": "44td_VNCHIp0",
        "colab_type": "code",
        "outputId": "d250a46e-5263-4821-f050-67084a47e1ab",
        "colab": {
          "base_uri": "https://localhost:8080/",
          "height": 33
        }
      },
      "source": [
        "mount_dir = os.path.join(os.getcwd(), \"drive\")\n",
        "mount_dir"
      ],
      "execution_count": 2,
      "outputs": [
        {
          "output_type": "execute_result",
          "data": {
            "text/plain": [
              "'/content/drive'"
            ]
          },
          "metadata": {
            "tags": []
          },
          "execution_count": 2
        }
      ]
    },
    {
      "cell_type": "code",
      "metadata": {
        "id": "_SOHBBtZG6Ul",
        "colab_type": "code",
        "outputId": "bcc1722c-f572-4591-f2d0-2f86195eef83",
        "colab": {
          "base_uri": "https://localhost:8080/",
          "height": 120
        }
      },
      "source": [
        "from google.colab import drive\n",
        "drive.mount(mount_dir)"
      ],
      "execution_count": 3,
      "outputs": [
        {
          "output_type": "stream",
          "text": [
            "Go to this URL in a browser: https://accounts.google.com/o/oauth2/auth?client_id=947318989803-6bn6qk8qdgf4n4g3pfee6491hc0brc4i.apps.googleusercontent.com&redirect_uri=urn%3aietf%3awg%3aoauth%3a2.0%3aoob&response_type=code&scope=email%20https%3a%2f%2fwww.googleapis.com%2fauth%2fdocs.test%20https%3a%2f%2fwww.googleapis.com%2fauth%2fdrive%20https%3a%2f%2fwww.googleapis.com%2fauth%2fdrive.photos.readonly%20https%3a%2f%2fwww.googleapis.com%2fauth%2fpeopleapi.readonly\n",
            "\n",
            "Enter your authorization code:\n",
            "··········\n",
            "Mounted at /content/drive\n"
          ],
          "name": "stdout"
        }
      ]
    },
    {
      "cell_type": "markdown",
      "metadata": {
        "id": "4R-fkWQ7HahD",
        "colab_type": "text"
      },
      "source": [
        "## load_model()\n",
        "\n"
      ]
    },
    {
      "cell_type": "code",
      "metadata": {
        "id": "u7DGgId6He21",
        "colab_type": "code",
        "outputId": "aa2a1f4c-eff0-4dc4-dbf4-58594714dca0",
        "colab": {
          "base_uri": "https://localhost:8080/",
          "height": 184
        }
      },
      "source": [
        "save_dir = os.path.join(mount_dir, \"My Drive\", \"Colab Notebooks\", \"models\")\n",
        "os.listdir(save_dir)"
      ],
      "execution_count": 4,
      "outputs": [
        {
          "output_type": "execute_result",
          "data": {
            "text/plain": [
              "['fMNIST_CNN_v3_ageron.h5',\n",
              " 'fMNIST_CNN_v3_ageron_data.pkl',\n",
              " 'fMNIST_CNN_v6_cmasch_mod.h5',\n",
              " 'fMNIST_CNN_v6_cmasch_mod_data.pkl',\n",
              " 'fMNIST_CNN_v6_cmasch_overfitted.h5',\n",
              " 'fMNIST_CNN_v6_cmasch_overfitted_data.pkl',\n",
              " 'fMNIST_CNN_v7_cmasch_SGD_100epochs.h5',\n",
              " 'fMNIST_CNN_v7_cmasch_SGD_100epochs_data.pkl',\n",
              " 'fMNIST_NN_v2_ageron.h5',\n",
              " 'fMNIST_NN_v2_ageron_data.pkl']"
            ]
          },
          "metadata": {
            "tags": []
          },
          "execution_count": 4
        }
      ]
    },
    {
      "cell_type": "code",
      "metadata": {
        "id": "h_zNmei3q36I",
        "colab_type": "code",
        "outputId": "cc9c3a58-a1e7-492e-dab1-614d0009e8f1",
        "colab": {
          "base_uri": "https://localhost:8080/",
          "height": 284
        }
      },
      "source": [
        "fn = \"fMNIST_NN_v2_ageron\"\t\n",
        "model = keras.models.load_model(os.path.join(save_dir, fn + \".h5\"))\n",
        "model.summary()"
      ],
      "execution_count": 5,
      "outputs": [
        {
          "output_type": "stream",
          "text": [
            "Model: \"sequential\"\n",
            "_________________________________________________________________\n",
            "Layer (type)                 Output Shape              Param #   \n",
            "=================================================================\n",
            "flatten (Flatten)            (None, 784)               0         \n",
            "_________________________________________________________________\n",
            "dense (Dense)                (None, 300)               235500    \n",
            "_________________________________________________________________\n",
            "dense_1 (Dense)              (None, 100)               30100     \n",
            "_________________________________________________________________\n",
            "dense_2 (Dense)              (None, 10)                1010      \n",
            "=================================================================\n",
            "Total params: 266,610\n",
            "Trainable params: 266,610\n",
            "Non-trainable params: 0\n",
            "_________________________________________________________________\n"
          ],
          "name": "stdout"
        }
      ]
    },
    {
      "cell_type": "markdown",
      "metadata": {
        "id": "kS2bXvR7t67p",
        "colab_type": "text"
      },
      "source": [
        "## Load the validation and test data"
      ]
    },
    {
      "cell_type": "code",
      "metadata": {
        "id": "HtiC98eepLZR",
        "colab_type": "code",
        "outputId": "a38b96cb-4230-4746-9b4b-202088e86a6a",
        "colab": {
          "base_uri": "https://localhost:8080/",
          "height": 53
        }
      },
      "source": [
        "print([var for var in vars() if not var.startswith(\"_\")])"
      ],
      "execution_count": 6,
      "outputs": [
        {
          "output_type": "stream",
          "text": [
            "['In', 'Out', 'get_ipython', 'exit', 'quit', 'sys', 'tf', 'keras', 'os', 'np', 'pd', 'Image', 'mpl', 'plt', 'warnings', 'plot_confusion_matrix', 'plot_prediction_examples', 'pickle_in', 'mount_dir', 'drive', 'save_dir', 'fn', 'model']\n"
          ],
          "name": "stdout"
        }
      ]
    },
    {
      "cell_type": "code",
      "metadata": {
        "id": "CCk7TCxip40n",
        "colab_type": "code",
        "outputId": "f1dd487f-6bae-4472-a642-7331dfcb82c9",
        "colab": {
          "base_uri": "https://localhost:8080/",
          "height": 50
        }
      },
      "source": [
        "pickle_in(os.path.join(save_dir, fn+'_data.pkl'), locals())"
      ],
      "execution_count": 9,
      "outputs": [
        {
          "output_type": "stream",
          "text": [
            "pickle_in: Updating scope with the following variables:\n",
            "['X_test', 'y_test', 'class_names', 'X_valid', 'y_valid']\n"
          ],
          "name": "stdout"
        }
      ]
    },
    {
      "cell_type": "code",
      "metadata": {
        "id": "gV8KRsq2p4yJ",
        "colab_type": "code",
        "outputId": "e9f6f1e2-12e4-4b0f-96b5-d7a954a70c07",
        "colab": {
          "base_uri": "https://localhost:8080/",
          "height": 53
        }
      },
      "source": [
        "print([var for var in vars() if not var.startswith(\"_\")])"
      ],
      "execution_count": 10,
      "outputs": [
        {
          "output_type": "stream",
          "text": [
            "['In', 'Out', 'get_ipython', 'exit', 'quit', 'sys', 'tf', 'keras', 'os', 'np', 'pd', 'Image', 'mpl', 'plt', 'warnings', 'plot_confusion_matrix', 'plot_prediction_examples', 'pickle_in', 'mount_dir', 'drive', 'save_dir', 'fn', 'model', 'X_test', 'y_test', 'class_names', 'X_valid', 'y_valid']\n"
          ],
          "name": "stdout"
        }
      ]
    },
    {
      "cell_type": "code",
      "metadata": {
        "id": "mZmA-b_hD-k1",
        "colab_type": "code",
        "outputId": "20f27681-fc42-44bc-ff20-a13a2292effe",
        "colab": {
          "base_uri": "https://localhost:8080/",
          "height": 184
        }
      },
      "source": [
        "class_names"
      ],
      "execution_count": 11,
      "outputs": [
        {
          "output_type": "execute_result",
          "data": {
            "text/plain": [
              "['T-shirt',\n",
              " 'Trouser',\n",
              " 'Pullover',\n",
              " 'Dress',\n",
              " 'Coat',\n",
              " 'Sandal',\n",
              " 'Shirt',\n",
              " 'Sneaker',\n",
              " 'Bag',\n",
              " 'Ankle boot']"
            ]
          },
          "metadata": {
            "tags": []
          },
          "execution_count": 11
        }
      ]
    },
    {
      "cell_type": "code",
      "metadata": {
        "id": "fUexjQMAEF-j",
        "colab_type": "code",
        "outputId": "ab2c7a94-9555-499a-9128-629d8e55fe54",
        "colab": {
          "base_uri": "https://localhost:8080/",
          "height": 33
        }
      },
      "source": [
        "X_valid.shape"
      ],
      "execution_count": 12,
      "outputs": [
        {
          "output_type": "execute_result",
          "data": {
            "text/plain": [
              "(5000, 28, 28)"
            ]
          },
          "metadata": {
            "tags": []
          },
          "execution_count": 12
        }
      ]
    },
    {
      "cell_type": "code",
      "metadata": {
        "id": "d-EncvSDqkUk",
        "colab_type": "code",
        "outputId": "2d529c7c-8d10-4bd2-fe33-bcbc3e3f2f0b",
        "colab": {
          "base_uri": "https://localhost:8080/",
          "height": 33
        }
      },
      "source": [
        "X_test.shape"
      ],
      "execution_count": 13,
      "outputs": [
        {
          "output_type": "execute_result",
          "data": {
            "text/plain": [
              "(10000, 28, 28)"
            ]
          },
          "metadata": {
            "tags": []
          },
          "execution_count": 13
        }
      ]
    },
    {
      "cell_type": "markdown",
      "metadata": {
        "id": "Ib4LMypVjK2b",
        "colab_type": "text"
      },
      "source": [
        "# Evaluate the model\n"
      ]
    },
    {
      "cell_type": "markdown",
      "metadata": {
        "id": "LhWLInLr6kDk",
        "colab_type": "text"
      },
      "source": [
        "###model.evaluate()\n"
      ]
    },
    {
      "cell_type": "markdown",
      "metadata": {
        "id": "aEXqxVwt6Akk",
        "colab_type": "text"
      },
      "source": [
        "`model.evaluate()` predicts restults on the testset and computes loss and metrics with respect to the expected results  "
      ]
    },
    {
      "cell_type": "code",
      "metadata": {
        "id": "VPVgUsj7jzJW",
        "colab_type": "code",
        "outputId": "eb127167-d20b-47eb-b22a-812496b551ce",
        "colab": {
          "base_uri": "https://localhost:8080/",
          "height": 33
        }
      },
      "source": [
        "model.evaluate(X_valid, y_valid);"
      ],
      "execution_count": 14,
      "outputs": [
        {
          "output_type": "stream",
          "text": [
            "157/157 [==============================] - 0s 2ms/step - loss: 0.3026 - accuracy: 0.8918\n"
          ],
          "name": "stdout"
        }
      ]
    },
    {
      "cell_type": "markdown",
      "metadata": {
        "id": "Sws5qtAd6o8X",
        "colab_type": "text"
      },
      "source": [
        "### model.predict()"
      ]
    },
    {
      "cell_type": "code",
      "metadata": {
        "id": "NUiWSt4MjzJZ",
        "colab_type": "code",
        "colab": {}
      },
      "source": [
        "pd.options.display.float_format = '{:,.2f}'.format"
      ],
      "execution_count": 0,
      "outputs": []
    },
    {
      "cell_type": "code",
      "metadata": {
        "id": "TWoI4YkYEusL",
        "colab_type": "code",
        "outputId": "e1bb03a0-fef0-4021-fdd0-0834f6c7697f",
        "colab": {
          "base_uri": "https://localhost:8080/",
          "height": 345
        }
      },
      "source": [
        "y_proba = model.predict(X_valid[:5])\n",
        "pd.DataFrame(y_proba, columns=class_names).T"
      ],
      "execution_count": 16,
      "outputs": [
        {
          "output_type": "execute_result",
          "data": {
            "text/html": [
              "<div>\n",
              "<style scoped>\n",
              "    .dataframe tbody tr th:only-of-type {\n",
              "        vertical-align: middle;\n",
              "    }\n",
              "\n",
              "    .dataframe tbody tr th {\n",
              "        vertical-align: top;\n",
              "    }\n",
              "\n",
              "    .dataframe thead th {\n",
              "        text-align: right;\n",
              "    }\n",
              "</style>\n",
              "<table border=\"1\" class=\"dataframe\">\n",
              "  <thead>\n",
              "    <tr style=\"text-align: right;\">\n",
              "      <th></th>\n",
              "      <th>0</th>\n",
              "      <th>1</th>\n",
              "      <th>2</th>\n",
              "      <th>3</th>\n",
              "      <th>4</th>\n",
              "    </tr>\n",
              "  </thead>\n",
              "  <tbody>\n",
              "    <tr>\n",
              "      <th>T-shirt</th>\n",
              "      <td>0.00</td>\n",
              "      <td>1.00</td>\n",
              "      <td>0.61</td>\n",
              "      <td>0.02</td>\n",
              "      <td>0.28</td>\n",
              "    </tr>\n",
              "    <tr>\n",
              "      <th>Trouser</th>\n",
              "      <td>0.00</td>\n",
              "      <td>0.00</td>\n",
              "      <td>0.04</td>\n",
              "      <td>0.00</td>\n",
              "      <td>0.24</td>\n",
              "    </tr>\n",
              "    <tr>\n",
              "      <th>Pullover</th>\n",
              "      <td>0.00</td>\n",
              "      <td>0.00</td>\n",
              "      <td>0.01</td>\n",
              "      <td>0.00</td>\n",
              "      <td>0.00</td>\n",
              "    </tr>\n",
              "    <tr>\n",
              "      <th>Dress</th>\n",
              "      <td>0.00</td>\n",
              "      <td>0.00</td>\n",
              "      <td>0.22</td>\n",
              "      <td>0.96</td>\n",
              "      <td>0.45</td>\n",
              "    </tr>\n",
              "    <tr>\n",
              "      <th>Coat</th>\n",
              "      <td>0.00</td>\n",
              "      <td>0.00</td>\n",
              "      <td>0.02</td>\n",
              "      <td>0.00</td>\n",
              "      <td>0.00</td>\n",
              "    </tr>\n",
              "    <tr>\n",
              "      <th>Sandal</th>\n",
              "      <td>0.00</td>\n",
              "      <td>0.00</td>\n",
              "      <td>0.00</td>\n",
              "      <td>0.00</td>\n",
              "      <td>0.00</td>\n",
              "    </tr>\n",
              "    <tr>\n",
              "      <th>Shirt</th>\n",
              "      <td>0.00</td>\n",
              "      <td>0.00</td>\n",
              "      <td>0.09</td>\n",
              "      <td>0.02</td>\n",
              "      <td>0.02</td>\n",
              "    </tr>\n",
              "    <tr>\n",
              "      <th>Sneaker</th>\n",
              "      <td>0.00</td>\n",
              "      <td>0.00</td>\n",
              "      <td>0.00</td>\n",
              "      <td>0.00</td>\n",
              "      <td>0.00</td>\n",
              "    </tr>\n",
              "    <tr>\n",
              "      <th>Bag</th>\n",
              "      <td>0.00</td>\n",
              "      <td>0.00</td>\n",
              "      <td>0.00</td>\n",
              "      <td>0.00</td>\n",
              "      <td>0.00</td>\n",
              "    </tr>\n",
              "    <tr>\n",
              "      <th>Ankle boot</th>\n",
              "      <td>1.00</td>\n",
              "      <td>0.00</td>\n",
              "      <td>0.00</td>\n",
              "      <td>0.00</td>\n",
              "      <td>0.00</td>\n",
              "    </tr>\n",
              "  </tbody>\n",
              "</table>\n",
              "</div>"
            ],
            "text/plain": [
              "              0    1    2    3    4\n",
              "T-shirt    0.00 1.00 0.61 0.02 0.28\n",
              "Trouser    0.00 0.00 0.04 0.00 0.24\n",
              "Pullover   0.00 0.00 0.01 0.00 0.00\n",
              "Dress      0.00 0.00 0.22 0.96 0.45\n",
              "Coat       0.00 0.00 0.02 0.00 0.00\n",
              "Sandal     0.00 0.00 0.00 0.00 0.00\n",
              "Shirt      0.00 0.00 0.09 0.02 0.02\n",
              "Sneaker    0.00 0.00 0.00 0.00 0.00\n",
              "Bag        0.00 0.00 0.00 0.00 0.00\n",
              "Ankle boot 1.00 0.00 0.00 0.00 0.00"
            ]
          },
          "metadata": {
            "tags": []
          },
          "execution_count": 16
        }
      ]
    },
    {
      "cell_type": "markdown",
      "metadata": {
        "id": "Cy3mDqLh6ton",
        "colab_type": "text"
      },
      "source": [
        "### model.predict_classes()"
      ]
    },
    {
      "cell_type": "code",
      "metadata": {
        "id": "lWePKzCnQCDO",
        "colab_type": "code",
        "outputId": "e808d655-6266-4942-8703-4914ae584446",
        "colab": {
          "base_uri": "https://localhost:8080/",
          "height": 104
        }
      },
      "source": [
        "y_pred = model.predict_classes(X_valid)\n",
        "y_pred"
      ],
      "execution_count": 17,
      "outputs": [
        {
          "output_type": "stream",
          "text": [
            "WARNING:tensorflow:From <ipython-input-17-43698abc9aa2>:1: Sequential.predict_classes (from tensorflow.python.keras.engine.sequential) is deprecated and will be removed after 2021-01-01.\n",
            "Instructions for updating:\n",
            "Please use instead:* `np.argmax(model.predict(x), axis=-1)`,   if your model does multi-class classification   (e.g. if it uses a `softmax` last-layer activation).* `(model.predict(x) > 0.5).astype(\"int32\")`,   if your model does binary classification   (e.g. if it uses a `sigmoid` last-layer activation).\n"
          ],
          "name": "stdout"
        },
        {
          "output_type": "execute_result",
          "data": {
            "text/plain": [
              "array([9, 0, 0, ..., 5, 8, 3])"
            ]
          },
          "metadata": {
            "tags": []
          },
          "execution_count": 17
        }
      ]
    },
    {
      "cell_type": "code",
      "metadata": {
        "id": "aHdJg5xVt4ty",
        "colab_type": "code",
        "outputId": "c1e40f28-1329-47da-b807-2c5f21f1bc14",
        "colab": {
          "base_uri": "https://localhost:8080/",
          "height": 50
        }
      },
      "source": [
        "np.array(class_names)[y_pred]"
      ],
      "execution_count": 18,
      "outputs": [
        {
          "output_type": "execute_result",
          "data": {
            "text/plain": [
              "array(['Ankle boot', 'T-shirt', 'T-shirt', ..., 'Sandal', 'Bag', 'Dress'],\n",
              "      dtype='<U10')"
            ]
          },
          "metadata": {
            "tags": []
          },
          "execution_count": 18
        }
      ]
    },
    {
      "cell_type": "code",
      "metadata": {
        "id": "nYBDRMpujzJg",
        "colab_type": "code",
        "outputId": "82f48a15-8a7a-482e-d0b9-d111ed9962d9",
        "colab": {
          "base_uri": "https://localhost:8080/",
          "height": 157
        }
      },
      "source": [
        "some_indexes = [1, 2, 3, 4, 11, 12, 23]\n",
        "plt.figure(figsize=(13, 2.5))\n",
        "for col, index in enumerate(some_indexes):\n",
        "    plt.subplot(1, len(some_indexes), col+1)\n",
        "    plt.imshow(np.squeeze(X_valid[index]), cmap=\"binary\")\n",
        "    title = \"actl='{}'\\n\".format(class_names[y_valid[index]])\n",
        "    title +=\"pred='{}'\\n\".format(class_names[y_pred[index]])\n",
        "    plt.title(title, fontsize=11), plt.axis('off')"
      ],
      "execution_count": 19,
      "outputs": [
        {
          "output_type": "display_data",
          "data": {
            "image/png": "[encoded data removed]",
            "text/plain": [
              "<Figure size 936x180 with 7 Axes>"
            ]
          },
          "metadata": {
            "tags": [],
            "needs_background": "light"
          }
        }
      ]
    },
    {
      "cell_type": "markdown",
      "metadata": {
        "id": "LnZ-K4W2jiRJ",
        "colab_type": "text"
      },
      "source": [
        "## Confusion matrix"
      ]
    },
    {
      "cell_type": "markdown",
      "metadata": {
        "id": "MpvZR4k13MRz",
        "colab_type": "text"
      },
      "source": [
        "A confusion matrix is a two dimensional histogram of actual (rows) and predicted (cols) classes. \n",
        "- the main diagonal are correct predictions\n",
        "- all other entries are fails"
      ]
    },
    {
      "cell_type": "code",
      "metadata": {
        "id": "oEdUTiv89JeQ",
        "colab_type": "code",
        "outputId": "7b2e81d2-0bb3-48d7-8ecf-8ed9f5aa062b",
        "colab": {
          "base_uri": "https://localhost:8080/",
          "height": 201
        }
      },
      "source": [
        "confusion = tf.math.confusion_matrix(y_valid, y_pred)\n",
        "confusion"
      ],
      "execution_count": 20,
      "outputs": [
        {
          "output_type": "execute_result",
          "data": {
            "text/plain": [
              "<tf.Tensor: shape=(10, 10), dtype=int32, numpy=\n",
              "array([[414,   2,   4,  14,   2,   1,  17,   0,   3,   0],\n",
              "       [  0, 548,   1,   7,   0,   0,   0,   0,   0,   0],\n",
              "       [  9,   0, 402,   7,  67,   1,  16,   1,   1,   0],\n",
              "       [ 11,   2,   4, 459,  16,   0,   7,   0,   2,   0],\n",
              "       [  0,   0,  32,  16, 431,   0,   8,   0,   1,   0],\n",
              "       [  0,   0,   0,   0,   0, 484,   0,   6,   0,   3],\n",
              "       [ 96,   2,  46,  13,  53,   0, 275,   1,   7,   0],\n",
              "       [  0,   0,   0,   0,   0,   9,   0, 491,   2,  10],\n",
              "       [  4,   0,   1,   3,   2,   1,   0,   2, 474,   3],\n",
              "       [  0,   0,   0,   0,   0,   4,   0,  18,   3, 481]], dtype=int32)>"
            ]
          },
          "metadata": {
            "tags": []
          },
          "execution_count": 20
        }
      ]
    },
    {
      "cell_type": "markdown",
      "metadata": {
        "id": "WLEFB7wF6oLI",
        "colab_type": "text"
      },
      "source": [
        "###Exercise \n",
        "Previously, we computed the **accurary** using `model.evaluate()`.\n",
        "\n",
        "$\n",
        "\\text{accuracy} = \\cfrac{truePredictons}{allPredictions}\n",
        "$ \n",
        "\n",
        "Check that result with the confusion matrix supported by **numpy**.\n",
        "\n",
        "\n",
        "Hint: The follwing line converts the **tensor** `confusion` into a **numpy array** and computes the sum of all items.\n",
        "```python\n",
        "np.array(confusion).sum()\n",
        "```\n",
        "\n"
      ]
    },
    {
      "cell_type": "markdown",
      "metadata": {
        "id": "fW5M0nnHICZu",
        "colab_type": "text"
      },
      "source": [
        "### Plotting the confusion matrix"
      ]
    },
    {
      "cell_type": "code",
      "metadata": {
        "id": "PiU0p0PHwyU_",
        "colab_type": "code",
        "outputId": "85b3bcf6-729a-48a6-ab27-12228db6faf0",
        "colab": {
          "base_uri": "https://localhost:8080/",
          "height": 338
        }
      },
      "source": [
        "plot_confusion_matrix(confusion, xticks=class_names, yticks=class_names)"
      ],
      "execution_count": 21,
      "outputs": [
        {
          "output_type": "display_data",
          "data": {
            "image/png": "[encoded data removed]",
            "text/plain": [
              "<Figure size 432x288 with 2 Axes>"
            ]
          },
          "metadata": {
            "tags": [],
            "needs_background": "light"
          }
        }
      ]
    },
    {
      "cell_type": "markdown",
      "metadata": {
        "id": "UTTpR1FP9mIm",
        "colab_type": "text"
      },
      "source": [
        "Interpretation of the confusion matrix?"
      ]
    },
    {
      "cell_type": "markdown",
      "metadata": {
        "id": "D7OGfSUR9tlS",
        "colab_type": "text"
      },
      "source": [
        "One usually focusses on the **false predictions**, thus ignoring the main diagonal may improve the visualization:"
      ]
    },
    {
      "cell_type": "code",
      "metadata": {
        "colab_type": "code",
        "outputId": "35c0c9e8-7c59-494b-cc2b-919b5b376d27",
        "id": "YrjmBYdI0IN3",
        "colab": {
          "base_uri": "https://localhost:8080/",
          "height": 338
        }
      },
      "source": [
        "plot_confusion_matrix(confusion, xticks=class_names, yticks=class_names, ignore_main_diagonal=True)"
      ],
      "execution_count": 22,
      "outputs": [
        {
          "output_type": "display_data",
          "data": {
            "image/png": "[encoded data removed]",
            "text/plain": [
              "<Figure size 432x288 with 2 Axes>"
            ]
          },
          "metadata": {
            "tags": [],
            "needs_background": "light"
          }
        }
      ]
    },
    {
      "cell_type": "markdown",
      "metadata": {
        "id": "foDTUIy0oh13",
        "colab_type": "text"
      },
      "source": [
        "## Other performance measures for classifiers\n",
        "Alternative performance measures to **accuracy**"
      ]
    },
    {
      "cell_type": "markdown",
      "metadata": {
        "id": "rw5wi_65_0pD",
        "colab_type": "text"
      },
      "source": [
        "### Precision\n",
        "Precision (ideally 1.0) is decreased by **false positives** (FP). FP means the prediction `True` is wrong.\n",
        "\n",
        "$\n",
        "\\text{precision} = \\cfrac{TP}{TP + FP}\n",
        "$\n",
        "\n",
        "Example application: *Email Spam Detection*\n",
        "FP (mail sorted out) is worse than FN (spam coming through)\n"
      ]
    },
    {
      "cell_type": "markdown",
      "metadata": {
        "colab_type": "text",
        "id": "9rMMCqJ9jiAd"
      },
      "source": [
        "### Recall\n",
        "Recall (ideally 1.0) is decreased by **false negatives** (FN). FN means the prediction `False` is wrong.\n",
        "\n",
        "$\n",
        "\\text{precision} = \\cfrac{TP}{TP + FN}\n",
        "$\n",
        "\n",
        "Example application: *Cancer Detection*\n",
        "\n",
        "FN (cancer not detected) is worse than FP (cancer detected but patient is healthy)\n"
      ]
    },
    {
      "cell_type": "markdown",
      "metadata": {
        "id": "kuPPa-Qcv4YA",
        "colab_type": "text"
      },
      "source": [
        "### Example application: *Digit 5 detector*"
      ]
    },
    {
      "cell_type": "markdown",
      "metadata": {
        "id": "MgefMZnE8i64",
        "colab_type": "text"
      },
      "source": [
        "Is the digit a '5' or not?\n"
      ]
    },
    {
      "cell_type": "code",
      "metadata": {
        "id": "dEWp4HIB1gOw",
        "colab_type": "code",
        "outputId": "d05a31b4-fac6-483c-d040-da1ad3e04f18",
        "colab": {
          "base_uri": "https://localhost:8080/",
          "height": 160
        }
      },
      "source": [
        "Image(os.path.join(\"MLPy2020\", \"images\", \"precision-recall.png\"))"
      ],
      "execution_count": 23,
      "outputs": [
        {
          "output_type": "execute_result",
          "data": {
            "image/png": "[encoded data removed]",
            "text/plain": [
              "<IPython.core.display.Image object>"
            ]
          },
          "metadata": {
            "tags": []
          },
          "execution_count": 23
        }
      ]
    },
    {
      "cell_type": "markdown",
      "metadata": {
        "id": "UrtzGnEnpm7H",
        "colab_type": "text"
      },
      "source": [
        "### F1-score\n",
        "*Harmonic mean* of precision and recall. \n",
        "\n",
        "$\n",
        "F_1 = \\cfrac{2}{{precision^{-1}} + {recall^{-1}}} = 2 \\times \\cfrac{\\text{precision}\\, \\times \\, \\text{recall}}{\\text{precision}\\, + \\, \\text{recall}} \n",
        "$\n",
        "\n",
        "Whereas *regular mean* treats all values equally, the *harmonic mean* gives more weight to low values."
      ]
    },
    {
      "cell_type": "markdown",
      "metadata": {
        "id": "GO2UDfxVpLkR",
        "colab_type": "text"
      },
      "source": [
        "## Classification report of the model\n",
        "using precision, recall, an F1-score"
      ]
    },
    {
      "cell_type": "code",
      "metadata": {
        "id": "_Og4W-uO4FdE",
        "colab_type": "code",
        "outputId": "3777009b-7717-4067-8ffa-d8145273e7a7",
        "colab": {
          "base_uri": "https://localhost:8080/",
          "height": 301
        }
      },
      "source": [
        "from sklearn.metrics import classification_report\n",
        "print(classification_report(y_valid, y_pred, target_names=class_names))"
      ],
      "execution_count": 24,
      "outputs": [
        {
          "output_type": "stream",
          "text": [
            "              precision    recall  f1-score   support\n",
            "\n",
            "     T-shirt       0.78      0.91      0.84       457\n",
            "     Trouser       0.99      0.99      0.99       556\n",
            "    Pullover       0.82      0.80      0.81       504\n",
            "       Dress       0.88      0.92      0.90       501\n",
            "        Coat       0.75      0.88      0.81       488\n",
            "      Sandal       0.97      0.98      0.97       493\n",
            "       Shirt       0.85      0.56      0.67       493\n",
            "     Sneaker       0.95      0.96      0.95       512\n",
            "         Bag       0.96      0.97      0.96       490\n",
            "  Ankle boot       0.97      0.95      0.96       506\n",
            "\n",
            "    accuracy                           0.89      5000\n",
            "   macro avg       0.89      0.89      0.89      5000\n",
            "weighted avg       0.89      0.89      0.89      5000\n",
            "\n"
          ],
          "name": "stdout"
        }
      ]
    },
    {
      "cell_type": "markdown",
      "metadata": {
        "id": "fTxB2PdBw46Z",
        "colab_type": "text"
      },
      "source": [
        "### Exercise \n",
        "Check the *precision* and *recall* values returned by `classification_report()` for one class (e.g. 'Coat')\n"
      ]
    },
    {
      "cell_type": "markdown",
      "metadata": {
        "id": "wDdnpYYOx5zp",
        "colab_type": "text"
      },
      "source": [
        "####Solution"
      ]
    },
    {
      "cell_type": "code",
      "metadata": {
        "id": "ZK05F2wFrNhg",
        "colab_type": "code",
        "outputId": "c7b4995a-44a3-4115-87b7-4bcae268859d",
        "colab": {
          "base_uri": "https://localhost:8080/",
          "height": 33
        }
      },
      "source": [
        "CLASS_LABEL = \"Coat\"\n",
        "idx = class_names.index(CLASS_LABEL)\n",
        "idx"
      ],
      "execution_count": 25,
      "outputs": [
        {
          "output_type": "execute_result",
          "data": {
            "text/plain": [
              "4"
            ]
          },
          "metadata": {
            "tags": []
          },
          "execution_count": 25
        }
      ]
    },
    {
      "cell_type": "code",
      "metadata": {
        "id": "qCRBPxXKr5mZ",
        "colab_type": "code",
        "outputId": "0ed239f7-1dad-421e-9cb3-92f25732010b",
        "colab": {
          "base_uri": "https://localhost:8080/",
          "height": 184
        }
      },
      "source": [
        "cm = np.array(confusion)\n",
        "cm"
      ],
      "execution_count": 26,
      "outputs": [
        {
          "output_type": "execute_result",
          "data": {
            "text/plain": [
              "array([[414,   2,   4,  14,   2,   1,  17,   0,   3,   0],\n",
              "       [  0, 548,   1,   7,   0,   0,   0,   0,   0,   0],\n",
              "       [  9,   0, 402,   7,  67,   1,  16,   1,   1,   0],\n",
              "       [ 11,   2,   4, 459,  16,   0,   7,   0,   2,   0],\n",
              "       [  0,   0,  32,  16, 431,   0,   8,   0,   1,   0],\n",
              "       [  0,   0,   0,   0,   0, 484,   0,   6,   0,   3],\n",
              "       [ 96,   2,  46,  13,  53,   0, 275,   1,   7,   0],\n",
              "       [  0,   0,   0,   0,   0,   9,   0, 491,   2,  10],\n",
              "       [  4,   0,   1,   3,   2,   1,   0,   2, 474,   3],\n",
              "       [  0,   0,   0,   0,   0,   4,   0,  18,   3, 481]], dtype=int32)"
            ]
          },
          "metadata": {
            "tags": []
          },
          "execution_count": 26
        }
      ]
    },
    {
      "cell_type": "code",
      "metadata": {
        "id": "vvrkFJ9asbBw",
        "colab_type": "code",
        "outputId": "a88a05fa-7f4f-4b6d-a6f7-036811b17c18",
        "colab": {
          "base_uri": "https://localhost:8080/",
          "height": 33
        }
      },
      "source": [
        "tp = cm[idx, idx]\n",
        "tp"
      ],
      "execution_count": 27,
      "outputs": [
        {
          "output_type": "execute_result",
          "data": {
            "text/plain": [
              "431"
            ]
          },
          "metadata": {
            "tags": []
          },
          "execution_count": 27
        }
      ]
    },
    {
      "cell_type": "markdown",
      "metadata": {
        "id": "cRJ9M1LHsza2",
        "colab_type": "text"
      },
      "source": [
        "FP are all predicted as \"CLASS_LABEL\" minus TP"
      ]
    },
    {
      "cell_type": "code",
      "metadata": {
        "id": "puAwgXLEsg_s",
        "colab_type": "code",
        "outputId": "9a9546b8-41b5-4161-f9e4-50ebcf610599",
        "colab": {
          "base_uri": "https://localhost:8080/",
          "height": 33
        }
      },
      "source": [
        "all_positive_predictions = cm[:, idx].sum()\n",
        "fp = all_positive_predictions - tp\n",
        "fp"
      ],
      "execution_count": 28,
      "outputs": [
        {
          "output_type": "execute_result",
          "data": {
            "text/plain": [
              "140"
            ]
          },
          "metadata": {
            "tags": []
          },
          "execution_count": 28
        }
      ]
    },
    {
      "cell_type": "markdown",
      "metadata": {
        "id": "A5PzHDmWuyNp",
        "colab_type": "text"
      },
      "source": [
        "FN are all actial \"CLASS_LABEL\" items minus TP"
      ]
    },
    {
      "cell_type": "code",
      "metadata": {
        "id": "-Ghx4cj2sf-O",
        "colab_type": "code",
        "outputId": "4aa6d21c-ef3a-4753-fb50-976a12601edc",
        "colab": {
          "base_uri": "https://localhost:8080/",
          "height": 33
        }
      },
      "source": [
        "fn = cm[idx, :].sum() - tp\n",
        "fn"
      ],
      "execution_count": 29,
      "outputs": [
        {
          "output_type": "execute_result",
          "data": {
            "text/plain": [
              "57"
            ]
          },
          "metadata": {
            "tags": []
          },
          "execution_count": 29
        }
      ]
    },
    {
      "cell_type": "code",
      "metadata": {
        "id": "po0bb7D4sXWl",
        "colab_type": "code",
        "outputId": "6ee64b93-7a60-43a0-b830-202a4890bec0",
        "colab": {
          "base_uri": "https://localhost:8080/",
          "height": 33
        }
      },
      "source": [
        "print(\"Class '{}': precision={:.2f}, recall={:.2f}\".format(CLASS_LABEL, tp/(tp+fp), tp/(tp+fn)))"
      ],
      "execution_count": 30,
      "outputs": [
        {
          "output_type": "stream",
          "text": [
            "Class 'Coat': precision=0.75, recall=0.88\n"
          ],
          "name": "stdout"
        }
      ]
    },
    {
      "cell_type": "markdown",
      "metadata": {
        "id": "yxGom7hXT5gF",
        "colab_type": "text"
      },
      "source": [
        "## Examples of predictions\n"
      ]
    },
    {
      "cell_type": "markdown",
      "metadata": {
        "id": "iEi5tAPz6Ceb",
        "colab_type": "text"
      },
      "source": [
        "Let's look at some examples of right and wrong predictions."
      ]
    },
    {
      "cell_type": "code",
      "metadata": {
        "id": "cgiGdKzpr3Cd",
        "colab_type": "code",
        "colab": {
          "base_uri": "https://localhost:8080/",
          "height": 184
        },
        "outputId": "358f646e-1207-427b-d4a9-62987215b079"
      },
      "source": [
        "class_names"
      ],
      "execution_count": 32,
      "outputs": [
        {
          "output_type": "execute_result",
          "data": {
            "text/plain": [
              "['T-shirt',\n",
              " 'Trouser',\n",
              " 'Pullover',\n",
              " 'Dress',\n",
              " 'Coat',\n",
              " 'Sandal',\n",
              " 'Shirt',\n",
              " 'Sneaker',\n",
              " 'Bag',\n",
              " 'Ankle boot']"
            ]
          },
          "metadata": {
            "tags": []
          },
          "execution_count": 32
        }
      ]
    },
    {
      "cell_type": "code",
      "metadata": {
        "id": "5niIhwOfCNkF",
        "colab_type": "code",
        "outputId": "5bd2fab2-30b5-4a81-84e9-9c7ac0a6b0db",
        "colab": {
          "base_uri": "https://localhost:8080/",
          "height": 709
        }
      },
      "source": [
        "validation_class = 6\n",
        "plot_prediction_examples(validation_class, class_names, y_pred, y_valid, X_valid)"
      ],
      "execution_count": 33,
      "outputs": [
        {
          "output_type": "stream",
          "text": [
            "Evaluating examples of test_class=6, 'Shirt'\n",
            "- true pos: 275 images\n",
            "- true neg: 4459 images\n",
            "- false pos: 48 images\n",
            "- false neg: 218 images\n"
          ],
          "name": "stdout"
        },
        {
          "output_type": "display_data",
          "data": {
            "image/png": "[encoded data removed]",
            "text/plain": [
              "<Figure size 1296x648 with 40 Axes>"
            ]
          },
          "metadata": {
            "tags": [],
            "needs_background": "light"
          }
        }
      ]
    }
  ]
}