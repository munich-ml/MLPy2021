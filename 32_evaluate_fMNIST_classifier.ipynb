{
  "nbformat": 4,
  "nbformat_minor": 0,
  "metadata": {
    "kernelspec": {
      "display_name": "Python 3",
      "language": "python",
      "name": "python3"
    },
    "language_info": {
      "codemirror_mode": {
        "name": "ipython",
        "version": 3
      },
      "file_extension": ".py",
      "mimetype": "text/x-python",
      "name": "python",
      "nbconvert_exporter": "python",
      "pygments_lexer": "ipython3",
      "version": "3.7.3"
    },
    "nav_menu": {
      "height": "264px",
      "width": "369px"
    },
    "toc": {
      "navigate_menu": true,
      "number_sections": true,
      "sideBar": true,
      "threshold": 6,
      "toc_cell": false,
      "toc_section_display": "block",
      "toc_window_display": false
    },
    "colab": {
      "name": "32_evaluate_fMNIST_classifier.ipynb",
      "provenance": [],
      "collapsed_sections": [],
      "toc_visible": true,
      "include_colab_link": true
    }
  },
  "cells": [
    {
      "cell_type": "markdown",
      "metadata": {
        "id": "view-in-github",
        "colab_type": "text"
      },
      "source": [
        "<a href=\"https://colab.research.google.com/github/munich-ml/MLPy2021/blob/main/32_evaluate_fMNIST_classifier.ipynb\" target=\"_parent\"><img src=\"https://colab.research.google.com/assets/colab-badge.svg\" alt=\"Open In Colab\"/></a>"
      ]
    },
    {
      "cell_type": "markdown",
      "metadata": {
        "id": "e2piuI4C-TVp"
      },
      "source": [
        "# Intro"
      ]
    },
    {
      "cell_type": "markdown",
      "metadata": {
        "id": "C9_a-EzZ6x8B"
      },
      "source": [
        "## References\n",
        "Resources used to create this notebook:\n",
        "- [scikit-learn website](https://scikit-learn.org)\n",
        "- [Matplotlib website](https://matplotlib.org/)\n",
        "- [Wikipedia](https://en.wikipedia.org/wiki/Main_Page)\n",
        "- Hands-on Machine Learning with Scikit-learn, Keras & TensorFlow, Aurelien Geron, [Book on Amazon](https://www.amazon.de/Aur%C3%A9lien-G%C3%A9ron/dp/1492032646/ref=sr_1_3?__mk_de_DE=%C3%85M%C3%85%C5%BD%C3%95%C3%91&dchild=1&keywords=Hands-on+Machine+Learning+with+Scikit-learn%2C+Keras+%26+TensorFlow%2C+Aurelien+Geron%2C&qid=1589875241&sr=8-3)\n",
        "- Introduction to Machine Learning with Python, Andreas Mueller, [Book on Amazon](https://www.amazon.de/Introduction-Machine-Learning-Python-Scientists/dp/1449369413)\n"
      ]
    },
    {
      "cell_type": "markdown",
      "metadata": {
        "id": "eNST_MlxjzH0"
      },
      "source": [
        "## Setup"
      ]
    },
    {
      "cell_type": "markdown",
      "metadata": {
        "id": "kgdeO6WVjzH0"
      },
      "source": [
        "First, do the common imports.\n",
        "\n",
        "Tensorflow must be 2.x, because there are major changes from 1.x"
      ]
    },
    {
      "cell_type": "code",
      "metadata": {
        "id": "4yPHaPsejzH1",
        "colab": {
          "base_uri": "https://localhost:8080/"
        },
        "outputId": "57114c94-e848-4faf-eff1-da2882d0dea5"
      },
      "source": [
        "# Python ≥3.5 is required\n",
        "import sys\n",
        "assert sys.version_info >= (3, 5)\n",
        "\n",
        "# Common imports\n",
        "import os\n",
        "import numpy as np\n",
        "import pandas as pd\n",
        "\n",
        "# to make this notebook's output stable across runs\n",
        "np.random.seed(42)\n",
        "\n",
        "# Setup matplotlib\n",
        "%matplotlib inline\n",
        "import matplotlib as mpl\n",
        "import matplotlib.pyplot as plt\n",
        "mpl.rc('axes', labelsize=14)\n",
        "mpl.rc('xtick', labelsize=12)\n",
        "mpl.rc('ytick', labelsize=12)\n",
        "\n",
        "# Ignore useless warnings (see SciPy issue #5998)\n",
        "import warnings\n",
        "warnings.filterwarnings(action=\"ignore\", message=\"^internal gelsd\")\n",
        "\n",
        "# TensorFlow ≥2.0 is required\n",
        "import tensorflow as tf\n",
        "from tensorflow import keras\n",
        "assert tf.__version__ >= \"2.0\"\n",
        "\n",
        "in_colab = 'google.colab' in sys.modules   # check if note is executed within Colab\n",
        "\n",
        "# Forces tensorflow version (only in colab)\n",
        "if in_colab:\n",
        "    %tensorflow_version 2.x           \n",
        "\n",
        "# Clone the repository if executed in Google Colab\n",
        "if in_colab:  \n",
        "    if \"MLPy2021\" in os.listdir():\n",
        "        !git -C MLPy2021 pull\n",
        "    else:\n",
        "        !git clone https://github.com/munich-ml/MLPy2021/\n",
        "\n",
        "# lib.helper_funcs.py. The import path depends on Colab or local execution \n",
        "if in_colab:\n",
        "    from MLPy2021.lib.helper_funcs import plot_confusion_matrix, plot_prediction_examples, pickle_in\n",
        "else: \n",
        "    from lib.helper_funcs import plot_confusion_matrix, plot_prediction_examples, pickle_in\n"
      ],
      "execution_count": 1,
      "outputs": [
        {
          "output_type": "stream",
          "text": [
            "Cloning into 'MLPy2021'...\n",
            "remote: Enumerating objects: 365, done.\u001b[K\n",
            "remote: Counting objects: 100% (365/365), done.\u001b[K\n",
            "remote: Compressing objects: 100% (324/324), done.\u001b[K\n",
            "remote: Total 365 (delta 192), reused 113 (delta 34), pack-reused 0\u001b[K\n",
            "Receiving objects: 100% (365/365), 13.72 MiB | 15.52 MiB/s, done.\n",
            "Resolving deltas: 100% (192/192), done.\n"
          ],
          "name": "stdout"
        }
      ]
    },
    {
      "cell_type": "markdown",
      "metadata": {
        "id": "Gl-ClkTnq1nV"
      },
      "source": [
        "# Load a model"
      ]
    },
    {
      "cell_type": "markdown",
      "metadata": {
        "id": "Gp2b1spIJJ3v"
      },
      "source": [
        "## Mount google drive"
      ]
    },
    {
      "cell_type": "code",
      "metadata": {
        "id": "44td_VNCHIp0",
        "colab": {
          "base_uri": "https://localhost:8080/",
          "height": 35
        },
        "outputId": "bef16ed2-d282-40ca-8e27-e1c4045d4423"
      },
      "source": [
        "mount_dir = os.path.join(os.getcwd(), \"drive\")\n",
        "mount_dir"
      ],
      "execution_count": 2,
      "outputs": [
        {
          "output_type": "execute_result",
          "data": {
            "application/vnd.google.colaboratory.intrinsic+json": {
              "type": "string"
            },
            "text/plain": [
              "'/content/drive'"
            ]
          },
          "metadata": {
            "tags": []
          },
          "execution_count": 2
        }
      ]
    },
    {
      "cell_type": "code",
      "metadata": {
        "id": "_SOHBBtZG6Ul",
        "colab": {
          "base_uri": "https://localhost:8080/"
        },
        "outputId": "631b5ac5-5f64-4e92-8e9f-5811445916f4"
      },
      "source": [
        "from google.colab import drive\n",
        "drive.mount(mount_dir)"
      ],
      "execution_count": 3,
      "outputs": [
        {
          "output_type": "stream",
          "text": [
            "Mounted at /content/drive\n"
          ],
          "name": "stdout"
        }
      ]
    },
    {
      "cell_type": "markdown",
      "metadata": {
        "id": "4R-fkWQ7HahD"
      },
      "source": [
        "## load_model()\n",
        "\n"
      ]
    },
    {
      "cell_type": "code",
      "metadata": {
        "id": "u7DGgId6He21",
        "colab": {
          "base_uri": "https://localhost:8080/"
        },
        "outputId": "8bbacea7-ba2d-4ee1-d2c6-9469d5b6b12a"
      },
      "source": [
        "save_dir = os.path.join(mount_dir, \"My Drive\", \"Colab Notebooks\", \"models\")\n",
        "os.listdir(save_dir)"
      ],
      "execution_count": 4,
      "outputs": [
        {
          "output_type": "execute_result",
          "data": {
            "text/plain": [
              "['fMNIST_CNN_v6_cmasch.h5',\n",
              " 'fMNIST_CNN_v6_cmasch_data.pkl',\n",
              " 'fMNIST_CNN_v4_ageron.h5',\n",
              " 'fMNIST_CNN_v4_ageron_data.pkl',\n",
              " 'fMNIST_CNN_v5_cmasch.h5',\n",
              " 'fMNIST_CNN_v5_cmasch_data.pkl',\n",
              " 'fMNIST_NN_v1_ageron.h5',\n",
              " 'fMNIST_NN_v1_ageron_data.pkl']"
            ]
          },
          "metadata": {
            "tags": []
          },
          "execution_count": 4
        }
      ]
    },
    {
      "cell_type": "code",
      "metadata": {
        "id": "h_zNmei3q36I",
        "colab": {
          "base_uri": "https://localhost:8080/"
        },
        "outputId": "1ebff4bb-7555-4921-d198-ceeb4a2b9a47"
      },
      "source": [
        "fn = \"fMNIST_NN_v1_ageron\"\t\n",
        "model = keras.models.load_model(os.path.join(save_dir, fn + \".h5\"))\n",
        "model.summary()"
      ],
      "execution_count": 5,
      "outputs": [
        {
          "output_type": "stream",
          "text": [
            "Model: \"sequential\"\n",
            "_________________________________________________________________\n",
            "Layer (type)                 Output Shape              Param #   \n",
            "=================================================================\n",
            "flatten (Flatten)            (None, 784)               0         \n",
            "_________________________________________________________________\n",
            "dense (Dense)                (None, 300)               235500    \n",
            "_________________________________________________________________\n",
            "dense_1 (Dense)              (None, 100)               30100     \n",
            "_________________________________________________________________\n",
            "dense_2 (Dense)              (None, 10)                1010      \n",
            "=================================================================\n",
            "Total params: 266,610\n",
            "Trainable params: 266,610\n",
            "Non-trainable params: 0\n",
            "_________________________________________________________________\n"
          ],
          "name": "stdout"
        }
      ]
    },
    {
      "cell_type": "markdown",
      "metadata": {
        "id": "kS2bXvR7t67p"
      },
      "source": [
        "## Load the validation and test data"
      ]
    },
    {
      "cell_type": "code",
      "metadata": {
        "id": "HtiC98eepLZR",
        "colab": {
          "base_uri": "https://localhost:8080/"
        },
        "outputId": "4738c7fd-9f03-4381-c8e2-930d9cc5d0d8"
      },
      "source": [
        "print([var for var in vars() if not var.startswith(\"_\")])"
      ],
      "execution_count": 6,
      "outputs": [
        {
          "output_type": "stream",
          "text": [
            "['In', 'Out', 'get_ipython', 'exit', 'quit', 'sys', 'os', 'np', 'pd', 'mpl', 'plt', 'warnings', 'tf', 'keras', 'in_colab', 'plot_confusion_matrix', 'plot_prediction_examples', 'pickle_in', 'mount_dir', 'drive', 'save_dir', 'fn', 'model']\n"
          ],
          "name": "stdout"
        }
      ]
    },
    {
      "cell_type": "code",
      "metadata": {
        "id": "CCk7TCxip40n",
        "colab": {
          "base_uri": "https://localhost:8080/"
        },
        "outputId": "b2034170-6223-4ea7-cb70-d8d6707cf959"
      },
      "source": [
        "pickle_in(os.path.join(save_dir, fn+'_data.pkl'), locals())"
      ],
      "execution_count": 7,
      "outputs": [
        {
          "output_type": "stream",
          "text": [
            "pickle_in: Updating scope with the following variables:\n",
            "['X_test', 'y_test', 'class_names', 'X_valid', 'y_valid']\n"
          ],
          "name": "stdout"
        }
      ]
    },
    {
      "cell_type": "code",
      "metadata": {
        "id": "gV8KRsq2p4yJ",
        "colab": {
          "base_uri": "https://localhost:8080/"
        },
        "outputId": "b4efb857-39c0-470b-eb0b-7dfb4bdd0e7c"
      },
      "source": [
        "print([var for var in vars() if not var.startswith(\"_\")])"
      ],
      "execution_count": 8,
      "outputs": [
        {
          "output_type": "stream",
          "text": [
            "['In', 'Out', 'get_ipython', 'exit', 'quit', 'sys', 'os', 'np', 'pd', 'mpl', 'plt', 'warnings', 'tf', 'keras', 'in_colab', 'plot_confusion_matrix', 'plot_prediction_examples', 'pickle_in', 'mount_dir', 'drive', 'save_dir', 'fn', 'model', 'X_test', 'y_test', 'class_names', 'X_valid', 'y_valid']\n"
          ],
          "name": "stdout"
        }
      ]
    },
    {
      "cell_type": "code",
      "metadata": {
        "id": "mZmA-b_hD-k1",
        "colab": {
          "base_uri": "https://localhost:8080/"
        },
        "outputId": "07595485-73e8-4d19-a492-a9f40c8f6a96"
      },
      "source": [
        "class_names"
      ],
      "execution_count": 9,
      "outputs": [
        {
          "output_type": "execute_result",
          "data": {
            "text/plain": [
              "['T-shirt',\n",
              " 'Trouser',\n",
              " 'Pullover',\n",
              " 'Dress',\n",
              " 'Coat',\n",
              " 'Sandal',\n",
              " 'Shirt',\n",
              " 'Sneaker',\n",
              " 'Bag',\n",
              " 'Ankle boot']"
            ]
          },
          "metadata": {
            "tags": []
          },
          "execution_count": 9
        }
      ]
    },
    {
      "cell_type": "code",
      "metadata": {
        "id": "fUexjQMAEF-j",
        "colab": {
          "base_uri": "https://localhost:8080/"
        },
        "outputId": "78b7f719-4f20-4a42-b245-5bd5ef5b5cf8"
      },
      "source": [
        "X_valid.shape"
      ],
      "execution_count": 10,
      "outputs": [
        {
          "output_type": "execute_result",
          "data": {
            "text/plain": [
              "(5000, 28, 28)"
            ]
          },
          "metadata": {
            "tags": []
          },
          "execution_count": 10
        }
      ]
    },
    {
      "cell_type": "code",
      "metadata": {
        "id": "d-EncvSDqkUk",
        "colab": {
          "base_uri": "https://localhost:8080/"
        },
        "outputId": "d0c328fd-b9a2-42a0-fac2-4ec68ceb0ffd"
      },
      "source": [
        "X_test.shape"
      ],
      "execution_count": 11,
      "outputs": [
        {
          "output_type": "execute_result",
          "data": {
            "text/plain": [
              "(10000, 28, 28)"
            ]
          },
          "metadata": {
            "tags": []
          },
          "execution_count": 11
        }
      ]
    },
    {
      "cell_type": "markdown",
      "metadata": {
        "id": "Ib4LMypVjK2b"
      },
      "source": [
        "# Evaluate the model\n"
      ]
    },
    {
      "cell_type": "markdown",
      "metadata": {
        "id": "LhWLInLr6kDk"
      },
      "source": [
        "###model.evaluate()\n"
      ]
    },
    {
      "cell_type": "markdown",
      "metadata": {
        "id": "aEXqxVwt6Akk"
      },
      "source": [
        "`model.evaluate()` predicts restults on the testset and computes loss and metrics with respect to the expected results  "
      ]
    },
    {
      "cell_type": "code",
      "metadata": {
        "id": "VPVgUsj7jzJW",
        "colab": {
          "base_uri": "https://localhost:8080/"
        },
        "outputId": "060e5d65-4ace-4674-93ad-5d6a72768533"
      },
      "source": [
        "model.evaluate(X_valid, y_valid);"
      ],
      "execution_count": 12,
      "outputs": [
        {
          "output_type": "stream",
          "text": [
            "157/157 [==============================] - 1s 2ms/step - loss: 0.3093 - accuracy: 0.8884\n"
          ],
          "name": "stdout"
        }
      ]
    },
    {
      "cell_type": "markdown",
      "metadata": {
        "id": "Sws5qtAd6o8X"
      },
      "source": [
        "### model.predict()"
      ]
    },
    {
      "cell_type": "code",
      "metadata": {
        "id": "NUiWSt4MjzJZ"
      },
      "source": [
        "pd.options.display.float_format = '{:,.2f}'.format"
      ],
      "execution_count": 13,
      "outputs": []
    },
    {
      "cell_type": "code",
      "metadata": {
        "id": "TWoI4YkYEusL",
        "colab": {
          "base_uri": "https://localhost:8080/",
          "height": 357
        },
        "outputId": "ea60d77a-4da8-483b-c3f9-283cca1de663"
      },
      "source": [
        "y_proba = model.predict(X_valid[:5])\n",
        "pd.DataFrame(y_proba, columns=class_names).T"
      ],
      "execution_count": 14,
      "outputs": [
        {
          "output_type": "execute_result",
          "data": {
            "text/html": [
              "<div>\n",
              "<style scoped>\n",
              "    .dataframe tbody tr th:only-of-type {\n",
              "        vertical-align: middle;\n",
              "    }\n",
              "\n",
              "    .dataframe tbody tr th {\n",
              "        vertical-align: top;\n",
              "    }\n",
              "\n",
              "    .dataframe thead th {\n",
              "        text-align: right;\n",
              "    }\n",
              "</style>\n",
              "<table border=\"1\" class=\"dataframe\">\n",
              "  <thead>\n",
              "    <tr style=\"text-align: right;\">\n",
              "      <th></th>\n",
              "      <th>0</th>\n",
              "      <th>1</th>\n",
              "      <th>2</th>\n",
              "      <th>3</th>\n",
              "      <th>4</th>\n",
              "    </tr>\n",
              "  </thead>\n",
              "  <tbody>\n",
              "    <tr>\n",
              "      <th>T-shirt</th>\n",
              "      <td>0.00</td>\n",
              "      <td>0.00</td>\n",
              "      <td>0.00</td>\n",
              "      <td>0.00</td>\n",
              "      <td>0.00</td>\n",
              "    </tr>\n",
              "    <tr>\n",
              "      <th>Trouser</th>\n",
              "      <td>0.00</td>\n",
              "      <td>0.00</td>\n",
              "      <td>0.00</td>\n",
              "      <td>0.00</td>\n",
              "      <td>0.00</td>\n",
              "    </tr>\n",
              "    <tr>\n",
              "      <th>Pullover</th>\n",
              "      <td>0.00</td>\n",
              "      <td>0.00</td>\n",
              "      <td>0.00</td>\n",
              "      <td>0.06</td>\n",
              "      <td>0.00</td>\n",
              "    </tr>\n",
              "    <tr>\n",
              "      <th>Dress</th>\n",
              "      <td>0.00</td>\n",
              "      <td>0.00</td>\n",
              "      <td>0.00</td>\n",
              "      <td>0.00</td>\n",
              "      <td>0.00</td>\n",
              "    </tr>\n",
              "    <tr>\n",
              "      <th>Coat</th>\n",
              "      <td>0.00</td>\n",
              "      <td>0.00</td>\n",
              "      <td>0.00</td>\n",
              "      <td>0.80</td>\n",
              "      <td>0.00</td>\n",
              "    </tr>\n",
              "    <tr>\n",
              "      <th>Sandal</th>\n",
              "      <td>0.00</td>\n",
              "      <td>0.00</td>\n",
              "      <td>0.00</td>\n",
              "      <td>0.00</td>\n",
              "      <td>0.00</td>\n",
              "    </tr>\n",
              "    <tr>\n",
              "      <th>Shirt</th>\n",
              "      <td>0.00</td>\n",
              "      <td>0.00</td>\n",
              "      <td>0.00</td>\n",
              "      <td>0.13</td>\n",
              "      <td>0.00</td>\n",
              "    </tr>\n",
              "    <tr>\n",
              "      <th>Sneaker</th>\n",
              "      <td>0.00</td>\n",
              "      <td>0.00</td>\n",
              "      <td>1.00</td>\n",
              "      <td>0.00</td>\n",
              "      <td>0.00</td>\n",
              "    </tr>\n",
              "    <tr>\n",
              "      <th>Bag</th>\n",
              "      <td>1.00</td>\n",
              "      <td>1.00</td>\n",
              "      <td>0.00</td>\n",
              "      <td>0.00</td>\n",
              "      <td>1.00</td>\n",
              "    </tr>\n",
              "    <tr>\n",
              "      <th>Ankle boot</th>\n",
              "      <td>0.00</td>\n",
              "      <td>0.00</td>\n",
              "      <td>0.00</td>\n",
              "      <td>0.00</td>\n",
              "      <td>0.00</td>\n",
              "    </tr>\n",
              "  </tbody>\n",
              "</table>\n",
              "</div>"
            ],
            "text/plain": [
              "              0    1    2    3    4\n",
              "T-shirt    0.00 0.00 0.00 0.00 0.00\n",
              "Trouser    0.00 0.00 0.00 0.00 0.00\n",
              "Pullover   0.00 0.00 0.00 0.06 0.00\n",
              "Dress      0.00 0.00 0.00 0.00 0.00\n",
              "Coat       0.00 0.00 0.00 0.80 0.00\n",
              "Sandal     0.00 0.00 0.00 0.00 0.00\n",
              "Shirt      0.00 0.00 0.00 0.13 0.00\n",
              "Sneaker    0.00 0.00 1.00 0.00 0.00\n",
              "Bag        1.00 1.00 0.00 0.00 1.00\n",
              "Ankle boot 0.00 0.00 0.00 0.00 0.00"
            ]
          },
          "metadata": {
            "tags": []
          },
          "execution_count": 14
        }
      ]
    },
    {
      "cell_type": "markdown",
      "metadata": {
        "id": "Cy3mDqLh6ton"
      },
      "source": [
        "### model.predict_classes()"
      ]
    },
    {
      "cell_type": "code",
      "metadata": {
        "id": "lWePKzCnQCDO",
        "colab": {
          "base_uri": "https://localhost:8080/"
        },
        "outputId": "e39aa388-5aab-4ee3-acaa-06b5f01ac2d9"
      },
      "source": [
        "y_pred = model.predict_classes(X_valid)\n",
        "y_pred"
      ],
      "execution_count": 15,
      "outputs": [
        {
          "output_type": "stream",
          "text": [
            "/usr/local/lib/python3.7/dist-packages/tensorflow/python/keras/engine/sequential.py:455: UserWarning: `model.predict_classes()` is deprecated and will be removed after 2021-01-01. Please use instead:* `np.argmax(model.predict(x), axis=-1)`,   if your model does multi-class classification   (e.g. if it uses a `softmax` last-layer activation).* `(model.predict(x) > 0.5).astype(\"int32\")`,   if your model does binary classification   (e.g. if it uses a `sigmoid` last-layer activation).\n",
            "  warnings.warn('`model.predict_classes()` is deprecated and '\n"
          ],
          "name": "stderr"
        },
        {
          "output_type": "execute_result",
          "data": {
            "text/plain": [
              "array([8, 8, 7, ..., 9, 7, 7])"
            ]
          },
          "metadata": {
            "tags": []
          },
          "execution_count": 15
        }
      ]
    },
    {
      "cell_type": "code",
      "metadata": {
        "id": "aHdJg5xVt4ty",
        "colab": {
          "base_uri": "https://localhost:8080/"
        },
        "outputId": "e60674bb-f46f-4768-e1af-c01fbdb2190f"
      },
      "source": [
        "np.array(class_names)[y_pred]"
      ],
      "execution_count": 16,
      "outputs": [
        {
          "output_type": "execute_result",
          "data": {
            "text/plain": [
              "array(['Bag', 'Bag', 'Sneaker', ..., 'Ankle boot', 'Sneaker', 'Sneaker'],\n",
              "      dtype='<U10')"
            ]
          },
          "metadata": {
            "tags": []
          },
          "execution_count": 16
        }
      ]
    },
    {
      "cell_type": "code",
      "metadata": {
        "id": "nYBDRMpujzJg",
        "colab": {
          "base_uri": "https://localhost:8080/",
          "height": 157
        },
        "outputId": "61e2dda1-dfa9-4d9c-da97-5db11e41b3c2"
      },
      "source": [
        "some_indexes = [1, 2, 3, 4, 11, 12, 23]\n",
        "plt.figure(figsize=(13, 2.5))\n",
        "for col, index in enumerate(some_indexes):\n",
        "    plt.subplot(1, len(some_indexes), col+1)\n",
        "    plt.imshow(np.squeeze(X_valid[index]), cmap=\"binary\")\n",
        "    title = \"actl='{}'\\n\".format(class_names[y_valid[index]])\n",
        "    title +=\"pred='{}'\\n\".format(class_names[y_pred[index]])\n",
        "    plt.title(title, fontsize=11), plt.axis('off')"
      ],
      "execution_count": 17,
      "outputs": [
        {
          "output_type": "display_data",
          "data": {
            "image/png": "[encoded data removed]",
            "text/plain": [
              "<Figure size 936x180 with 7 Axes>"
            ]
          },
          "metadata": {
            "tags": [],
            "needs_background": "light"
          }
        }
      ]
    },
    {
      "cell_type": "markdown",
      "metadata": {
        "id": "LnZ-K4W2jiRJ"
      },
      "source": [
        "## Confusion matrix"
      ]
    },
    {
      "cell_type": "markdown",
      "metadata": {
        "id": "MpvZR4k13MRz"
      },
      "source": [
        "A confusion matrix is a two dimensional histogram of actual (rows) and predicted (cols) classes. \n",
        "- the main diagonal are correct predictions\n",
        "- all other entries are fails"
      ]
    },
    {
      "cell_type": "code",
      "metadata": {
        "id": "oEdUTiv89JeQ",
        "colab": {
          "base_uri": "https://localhost:8080/"
        },
        "outputId": "443a122d-fdf2-468b-d3e7-eb1cecbbe294"
      },
      "source": [
        "confusion = tf.math.confusion_matrix(y_valid, y_pred)\n",
        "confusion"
      ],
      "execution_count": 18,
      "outputs": [
        {
          "output_type": "execute_result",
          "data": {
            "text/plain": [
              "<tf.Tensor: shape=(10, 10), dtype=int32, numpy=\n",
              "array([[409,   0,   6,  14,   3,   0,  66,   0,   1,   0],\n",
              "       [  0, 500,   0,  11,   0,   0,   2,   0,   0,   0],\n",
              "       [  7,   0, 395,   4,  42,   0,  56,   0,   2,   0],\n",
              "       [ 10,   4,   4, 434,  16,   0,   9,   0,   3,   0],\n",
              "       [  0,   0,  35,  12, 422,   0,  49,   0,   3,   0],\n",
              "       [  0,   0,   0,   0,   0, 501,   0,   9,   2,   6],\n",
              "       [ 44,   1,  24,  15,  22,   0, 405,   0,   8,   0],\n",
              "       [  0,   0,   0,   0,   0,  14,   0, 436,   0,  12],\n",
              "       [  4,   1,   2,   1,   4,   0,   6,   1, 470,   0],\n",
              "       [  0,   0,   0,   0,   0,   7,   0,  16,   0, 470]], dtype=int32)>"
            ]
          },
          "metadata": {
            "tags": []
          },
          "execution_count": 18
        }
      ]
    },
    {
      "cell_type": "markdown",
      "metadata": {
        "id": "WLEFB7wF6oLI"
      },
      "source": [
        "###Exercise \n",
        "Previously, we computed the **accurary** using `model.evaluate()`. Accuracy is defined by:\n",
        "\n",
        "$\n",
        "\\text{accuracy} = \\cfrac{\\text{all}True}{\\text{all}} \n",
        "$ \n",
        "\n",
        "Check that result with the confusion matrix supported by **numpy**.\n",
        "\n",
        "\n",
        "Hint: The follwing line converts the **tensor** `confusion` into a **numpy array** and computes the sum of all items.\n",
        "```python\n",
        "np.array(confusion).sum()\n",
        "```\n",
        "\n"
      ]
    },
    {
      "cell_type": "markdown",
      "metadata": {
        "id": "fW5M0nnHICZu"
      },
      "source": [
        "### Plotting the confusion matrix"
      ]
    },
    {
      "cell_type": "code",
      "metadata": {
        "id": "PiU0p0PHwyU_",
        "colab": {
          "base_uri": "https://localhost:8080/",
          "height": 342
        },
        "outputId": "4fcc59d5-9c62-4425-9f25-824a2c50c73a"
      },
      "source": [
        "plot_confusion_matrix(confusion, xticks=class_names, yticks=class_names)"
      ],
      "execution_count": 19,
      "outputs": [
        {
          "output_type": "display_data",
          "data": {
            "image/png": "[encoded data removed]",
            "text/plain": [
              "<Figure size 432x288 with 2 Axes>"
            ]
          },
          "metadata": {
            "tags": [],
            "needs_background": "light"
          }
        }
      ]
    },
    {
      "cell_type": "markdown",
      "metadata": {
        "id": "UTTpR1FP9mIm"
      },
      "source": [
        "Interpretation of the confusion matrix?"
      ]
    },
    {
      "cell_type": "markdown",
      "metadata": {
        "id": "D7OGfSUR9tlS"
      },
      "source": [
        "One usually focusses on the **false predictions**, thus ignoring the main diagonal may improve the visualization:"
      ]
    },
    {
      "cell_type": "code",
      "metadata": {
        "id": "YrjmBYdI0IN3",
        "colab": {
          "base_uri": "https://localhost:8080/",
          "height": 338
        },
        "outputId": "0c50b0f5-0d7d-4466-bf6f-c47b3ab32219"
      },
      "source": [
        "plot_confusion_matrix(confusion, xticks=class_names, yticks=class_names, ignore_main_diagonal=True)"
      ],
      "execution_count": 20,
      "outputs": [
        {
          "output_type": "display_data",
          "data": {
            "image/png": "[encoded data removed]",
            "text/plain": [
              "<Figure size 432x288 with 2 Axes>"
            ]
          },
          "metadata": {
            "tags": [],
            "needs_background": "light"
          }
        }
      ]
    },
    {
      "cell_type": "markdown",
      "metadata": {
        "id": "foDTUIy0oh13"
      },
      "source": [
        "## Performance measures for classifiers\n",
        "\n",
        "A **Digit-5 detector** is used as an example to compare different performance metrics:\n",
        "\n",
        "![](https://github.com/munich-ml/MLPy2021/blob/main/images/digit5-detector.png?raw=1)\n",
        "\n",
        "**True negative** for instance means:\n",
        "- **True**: The digit was classified correctly\n",
        "- **negative**: The digit is **not** a 5\n",
        "\n"
      ]
    },
    {
      "cell_type": "markdown",
      "metadata": {
        "id": "oUTCnqzLMyxO"
      },
      "source": [
        "### Accuracy\n",
        "\n",
        "Accuracy is a good measure for symmetric datasets. It's definition again:\n",
        "\n",
        "$\n",
        "\\text{accuracy} = \\cfrac{\\text{all}True}{\\text{all}} \n",
        "$ \n",
        "\n",
        "If the counts of **false negatives** greatly differ from the **false positives** or if their costs are greatly different, alternative performance measures are required."
      ]
    },
    {
      "cell_type": "markdown",
      "metadata": {
        "id": "rw5wi_65_0pD"
      },
      "source": [
        "### Precision\n",
        "Precision (ideally 1.0) is decreased by **false positives** (FP). FP means the prediction `True` is wrong.\n",
        "\n",
        "$\n",
        "\\text{precision} = \\cfrac{TP}{\\text{all}P} = \\cfrac{TP}{TP + FP}\n",
        "$\n",
        "\n",
        "Example application: *Email Spam Detection*\n",
        "FP (mail sorted out) is worse than FN (spam coming through)\n"
      ]
    },
    {
      "cell_type": "markdown",
      "metadata": {
        "id": "9rMMCqJ9jiAd"
      },
      "source": [
        "### Recall (or sensitivity)\n",
        "Recall (ideally 1.0) says how good a model is at detecting the positives. \n",
        "\n",
        "Recall is decreased by **false negatives** (FN). FN means the prediction `False` is wrong.\n",
        "\n",
        "$\n",
        "\\text{recall} = \\cfrac{TP}{\\text{all}T} = \\cfrac{TP}{TP + FN}\n",
        "$\n",
        "\n",
        "Example application: *Medical Diabetic Detection*\n",
        "\n",
        "FN (Diabetic not detected) is worse than FP (Diabetic detected but patient is healthy)\n"
      ]
    },
    {
      "cell_type": "markdown",
      "metadata": {
        "id": "SPaWgq2Kl_y9"
      },
      "source": [
        "### Specificity \n",
        "Specificity says how good a model is at detecting the negatives (avoiding false alarms).\n",
        "$\n",
        "\\text{specificity} = \\cfrac{TN}{\\text{all}N} = \\cfrac{TN}{TN + FP}\n",
        "$"
      ]
    },
    {
      "cell_type": "markdown",
      "metadata": {
        "id": "UrtzGnEnpm7H"
      },
      "source": [
        "### F1-score\n",
        "*Harmonic mean* of precision and recall. \n",
        "\n",
        "$\n",
        "F_1 = \\cfrac{2}{{precision^{-1}} + {recall^{-1}}} = 2 \\times \\cfrac{\\text{precision}\\, \\times \\, \\text{recall}}{\\text{precision}\\, + \\, \\text{recall}} \n",
        "$\n",
        "\n",
        "Whereas *regular mean* treats all values equally, the *harmonic mean* gives more weight to low values."
      ]
    },
    {
      "cell_type": "markdown",
      "metadata": {
        "id": "MgefMZnE8i64"
      },
      "source": [
        "Evaluating the **Digit-5 detector** for the various metrics\n",
        "\n",
        "![](https://github.com/munich-ml/MLPy2021/blob/main/images/precision-recall.png?raw=1)\n"
      ]
    },
    {
      "cell_type": "code",
      "metadata": {
        "id": "OXEAzPviPsk7",
        "colab": {
          "base_uri": "https://localhost:8080/"
        },
        "outputId": "fc02bd9b-bc5b-4df5-eb3b-2b4a25cdd7bd"
      },
      "source": [
        "tn, fp, fn, tp = 5, 1, 2, 3\n",
        "\n",
        "perf = {}\n",
        "perf[\"accuracy\"] = (tp+tn) / (tp+tn+fp+fn)\n",
        "perf[\"precision\"] = tp / (tp+fp)\n",
        "perf[\"recall\"] = tp / (tp+fn)\n",
        "perf[\"specificity\"] = tn / (tn+fp)\n",
        "perf[\"F1-score\"] = 2 * perf[\"precision\"]*perf[\"recall\"] / (perf[\"precision\"]+perf[\"recall\"])\n",
        "\n",
        "for label, value in perf.items():\n",
        "    print(\"{:12s}{:.0%}\".format(label, value))"
      ],
      "execution_count": 21,
      "outputs": [
        {
          "output_type": "stream",
          "text": [
            "accuracy    73%\n",
            "precision   75%\n",
            "recall      60%\n",
            "specificity 83%\n",
            "F1-score    67%\n"
          ],
          "name": "stdout"
        }
      ]
    },
    {
      "cell_type": "markdown",
      "metadata": {
        "id": "GO2UDfxVpLkR"
      },
      "source": [
        "## Classification report of the fMNIST-model\n"
      ]
    },
    {
      "cell_type": "code",
      "metadata": {
        "id": "_Og4W-uO4FdE",
        "colab": {
          "base_uri": "https://localhost:8080/"
        },
        "outputId": "8d61dd60-5f32-4c0e-adc8-78469c28e11a"
      },
      "source": [
        "from sklearn.metrics import classification_report\n",
        "print(classification_report(y_valid, y_pred, target_names=class_names))"
      ],
      "execution_count": 22,
      "outputs": [
        {
          "output_type": "stream",
          "text": [
            "              precision    recall  f1-score   support\n",
            "\n",
            "     T-shirt       0.86      0.82      0.84       499\n",
            "     Trouser       0.99      0.97      0.98       513\n",
            "    Pullover       0.85      0.78      0.81       506\n",
            "       Dress       0.88      0.90      0.89       480\n",
            "        Coat       0.83      0.81      0.82       521\n",
            "      Sandal       0.96      0.97      0.96       518\n",
            "       Shirt       0.68      0.78      0.73       519\n",
            "     Sneaker       0.94      0.94      0.94       462\n",
            "         Bag       0.96      0.96      0.96       489\n",
            "  Ankle boot       0.96      0.95      0.96       493\n",
            "\n",
            "    accuracy                           0.89      5000\n",
            "   macro avg       0.89      0.89      0.89      5000\n",
            "weighted avg       0.89      0.89      0.89      5000\n",
            "\n"
          ],
          "name": "stdout"
        }
      ]
    },
    {
      "cell_type": "markdown",
      "metadata": {
        "id": "fTxB2PdBw46Z"
      },
      "source": [
        "### Exercise \n",
        "Check the *precision* and *recall* values returned by `classification_report()` for one class (e.g. 'Coat')\n"
      ]
    },
    {
      "cell_type": "markdown",
      "metadata": {
        "id": "wDdnpYYOx5zp"
      },
      "source": [
        "####Solution"
      ]
    },
    {
      "cell_type": "code",
      "metadata": {
        "id": "LMrNwf2ZTxHj",
        "colab": {
          "base_uri": "https://localhost:8080/",
          "height": 342
        },
        "outputId": "fc3a267e-fcba-4031-fef1-f9d9213aa872"
      },
      "source": [
        "plot_confusion_matrix(confusion, xticks=class_names, yticks=class_names)"
      ],
      "execution_count": 23,
      "outputs": [
        {
          "output_type": "display_data",
          "data": {
            "image/png": "[encoded data removed]",
            "text/plain": [
              "<Figure size 432x288 with 2 Axes>"
            ]
          },
          "metadata": {
            "tags": [],
            "needs_background": "light"
          }
        }
      ]
    },
    {
      "cell_type": "code",
      "metadata": {
        "id": "ZK05F2wFrNhg",
        "colab": {
          "base_uri": "https://localhost:8080/"
        },
        "outputId": "d0a26549-301a-43cc-a377-6f3a4114ed6a"
      },
      "source": [
        "CLASS_LABEL = \"Coat\"\n",
        "idx = class_names.index(CLASS_LABEL)\n",
        "idx"
      ],
      "execution_count": 24,
      "outputs": [
        {
          "output_type": "execute_result",
          "data": {
            "text/plain": [
              "4"
            ]
          },
          "metadata": {
            "tags": []
          },
          "execution_count": 24
        }
      ]
    },
    {
      "cell_type": "code",
      "metadata": {
        "id": "47lCCBHTWG9D",
        "colab": {
          "base_uri": "https://localhost:8080/"
        },
        "outputId": "9335a2c8-27a7-4526-8aaf-1f4573e533ed"
      },
      "source": [
        "type(confusion)"
      ],
      "execution_count": 25,
      "outputs": [
        {
          "output_type": "execute_result",
          "data": {
            "text/plain": [
              "tensorflow.python.framework.ops.EagerTensor"
            ]
          },
          "metadata": {
            "tags": []
          },
          "execution_count": 25
        }
      ]
    },
    {
      "cell_type": "markdown",
      "metadata": {
        "id": "dA05XmlVWP86"
      },
      "source": [
        "Convert the **Tensor** into a familiar **numpy array** "
      ]
    },
    {
      "cell_type": "code",
      "metadata": {
        "id": "qCRBPxXKr5mZ",
        "colab": {
          "base_uri": "https://localhost:8080/"
        },
        "outputId": "f8e20a9b-2281-4e9c-8b00-91b4b54fc969"
      },
      "source": [
        "cm = np.array(confusion)\n",
        "cm"
      ],
      "execution_count": 26,
      "outputs": [
        {
          "output_type": "execute_result",
          "data": {
            "text/plain": [
              "array([[409,   0,   6,  14,   3,   0,  66,   0,   1,   0],\n",
              "       [  0, 500,   0,  11,   0,   0,   2,   0,   0,   0],\n",
              "       [  7,   0, 395,   4,  42,   0,  56,   0,   2,   0],\n",
              "       [ 10,   4,   4, 434,  16,   0,   9,   0,   3,   0],\n",
              "       [  0,   0,  35,  12, 422,   0,  49,   0,   3,   0],\n",
              "       [  0,   0,   0,   0,   0, 501,   0,   9,   2,   6],\n",
              "       [ 44,   1,  24,  15,  22,   0, 405,   0,   8,   0],\n",
              "       [  0,   0,   0,   0,   0,  14,   0, 436,   0,  12],\n",
              "       [  4,   1,   2,   1,   4,   0,   6,   1, 470,   0],\n",
              "       [  0,   0,   0,   0,   0,   7,   0,  16,   0, 470]], dtype=int32)"
            ]
          },
          "metadata": {
            "tags": []
          },
          "execution_count": 26
        }
      ]
    },
    {
      "cell_type": "code",
      "metadata": {
        "id": "vvrkFJ9asbBw",
        "colab": {
          "base_uri": "https://localhost:8080/"
        },
        "outputId": "b5befb39-7f96-4d0b-d261-aa0acc7a92d7"
      },
      "source": [
        "tp = cm[idx, idx]\n",
        "tp"
      ],
      "execution_count": 27,
      "outputs": [
        {
          "output_type": "execute_result",
          "data": {
            "text/plain": [
              "422"
            ]
          },
          "metadata": {
            "tags": []
          },
          "execution_count": 27
        }
      ]
    },
    {
      "cell_type": "markdown",
      "metadata": {
        "id": "cRJ9M1LHsza2"
      },
      "source": [
        "FP are all items predicted as ``CLASS_LABEL`` minus TP"
      ]
    },
    {
      "cell_type": "code",
      "metadata": {
        "id": "puAwgXLEsg_s",
        "colab": {
          "base_uri": "https://localhost:8080/"
        },
        "outputId": "76591e4c-c05b-4292-ef13-5d3f9788dc54"
      },
      "source": [
        "all_positive_predictions = cm[:, idx].sum()\n",
        "fp = all_positive_predictions - tp\n",
        "fp"
      ],
      "execution_count": 28,
      "outputs": [
        {
          "output_type": "execute_result",
          "data": {
            "text/plain": [
              "87"
            ]
          },
          "metadata": {
            "tags": []
          },
          "execution_count": 28
        }
      ]
    },
    {
      "cell_type": "markdown",
      "metadata": {
        "id": "A5PzHDmWuyNp"
      },
      "source": [
        "FN are all actual ``CLASS_LABEL`` items minus TP"
      ]
    },
    {
      "cell_type": "code",
      "metadata": {
        "id": "-Ghx4cj2sf-O",
        "colab": {
          "base_uri": "https://localhost:8080/"
        },
        "outputId": "1b14af9d-e807-4cdc-a873-60006737e530"
      },
      "source": [
        "fn = cm[idx, :].sum() - tp\n",
        "fn"
      ],
      "execution_count": 29,
      "outputs": [
        {
          "output_type": "execute_result",
          "data": {
            "text/plain": [
              "99"
            ]
          },
          "metadata": {
            "tags": []
          },
          "execution_count": 29
        }
      ]
    },
    {
      "cell_type": "code",
      "metadata": {
        "id": "po0bb7D4sXWl",
        "colab": {
          "base_uri": "https://localhost:8080/"
        },
        "outputId": "3b655d41-0c12-46e8-c19d-18198d4ab1fc"
      },
      "source": [
        "print(\"Class '{}': precision={:.2f}, recall={:.2f}\".format(CLASS_LABEL, tp/(tp+fp), tp/(tp+fn)))"
      ],
      "execution_count": 30,
      "outputs": [
        {
          "output_type": "stream",
          "text": [
            "Class 'Coat': precision=0.83, recall=0.81\n"
          ],
          "name": "stdout"
        }
      ]
    },
    {
      "cell_type": "markdown",
      "metadata": {
        "id": "jvkjhDZOWymb"
      },
      "source": [
        "**Conclusion**: The ``classification_report`` output is proven to be correct!"
      ]
    },
    {
      "cell_type": "markdown",
      "metadata": {
        "id": "yxGom7hXT5gF"
      },
      "source": [
        "## Examples of predictions\n"
      ]
    },
    {
      "cell_type": "markdown",
      "metadata": {
        "id": "iEi5tAPz6Ceb"
      },
      "source": [
        "Let's look at some examples of right and wrong predictions."
      ]
    },
    {
      "cell_type": "code",
      "metadata": {
        "id": "cFGSnkt5XROT",
        "colab": {
          "base_uri": "https://localhost:8080/"
        },
        "outputId": "8f9c7a01-1d24-4824-b3bc-525f07e04e25"
      },
      "source": [
        "class_names"
      ],
      "execution_count": 31,
      "outputs": [
        {
          "output_type": "execute_result",
          "data": {
            "text/plain": [
              "['T-shirt',\n",
              " 'Trouser',\n",
              " 'Pullover',\n",
              " 'Dress',\n",
              " 'Coat',\n",
              " 'Sandal',\n",
              " 'Shirt',\n",
              " 'Sneaker',\n",
              " 'Bag',\n",
              " 'Ankle boot']"
            ]
          },
          "metadata": {
            "tags": []
          },
          "execution_count": 31
        }
      ]
    },
    {
      "cell_type": "code",
      "metadata": {
        "id": "5niIhwOfCNkF",
        "colab": {
          "base_uri": "https://localhost:8080/",
          "height": 663
        },
        "outputId": "55f5e51a-d37a-48c1-9e5c-01d1383c8e1e"
      },
      "source": [
        "validation_class = 6\n",
        "plot_prediction_examples(validation_class, class_names, y_pred, y_valid, X_valid)"
      ],
      "execution_count": 32,
      "outputs": [
        {
          "output_type": "stream",
          "text": [
            "Evaluating examples of test_class=6, 'Shirt'\n",
            "- true pos: 405 images\n",
            "- true neg: 4293 images\n",
            "- false pos: 188 images\n",
            "- false neg: 114 images\n"
          ],
          "name": "stdout"
        },
        {
          "output_type": "display_data",
          "data": {
            "image/png": "[encoded data removed]",
            "text/plain": [
              "<Figure size 1296x648 with 40 Axes>"
            ]
          },
          "metadata": {
            "tags": [],
            "needs_background": "light"
          }
        }
      ]
    }
  ]
}