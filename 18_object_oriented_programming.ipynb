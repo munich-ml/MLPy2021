{
  "nbformat": 4,
  "nbformat_minor": 0,
  "metadata": {
    "colab": {
      "name": "18_object_oriented_programming.ipynb",
      "provenance": [],
      "collapsed_sections": [],
      "toc_visible": true,
      "authorship_tag": "ABX9TyP0fMahhk9RMQrxBBBD+z/s",
      "include_colab_link": true
    },
    "kernelspec": {
      "name": "python3",
      "display_name": "Python 3"
    }
  },
  "cells": [
    {
      "cell_type": "markdown",
      "metadata": {
        "id": "view-in-github",
        "colab_type": "text"
      },
      "source": [
        "<a href=\"https://colab.research.google.com/github/munich-ml/MLPy2020/blob/master/18_object_oriented_programming.ipynb\" target=\"_parent\"><img src=\"https://colab.research.google.com/assets/colab-badge.svg\" alt=\"Open In Colab\"/></a>"
      ]
    },
    {
      "cell_type": "markdown",
      "metadata": {
        "id": "e2piuI4C-TVp",
        "colab_type": "text"
      },
      "source": [
        "# Intro"
      ]
    },
    {
      "cell_type": "markdown",
      "metadata": {
        "id": "E-XxE4Ha0Plw",
        "colab_type": "text"
      },
      "source": [
        "## References"
      ]
    },
    {
      "cell_type": "markdown",
      "metadata": {
        "id": "t9JgRxTJdp9Z",
        "colab_type": "text"
      },
      "source": [
        "This tutorial is based on Corey Schafer's reference:\n",
        "- Python OOP 1 - Classes and Instances - https://youtu.be/ZDa-Z5JzLYM\n",
        "- Python OOP 2 - Class Variables - https://youtu.be/BJ-VvGyQxho\n",
        "- Python OOP 3 - Classmethods and Staticmethods - https://youtu.be/rq8cL2XMM5M\n",
        "- Python OOP 4 - Inheritance - https://youtu.be/RSl87lqOXDE\n",
        "- Python OOP 5 - Special (Magic/Dunder) Methods - https://youtu.be/3ohzBxoFHAY\n",
        "- Python OOP 6 - Property Decorators - https://youtu.be/jCzT9XFZ5bw"
      ]
    },
    {
      "cell_type": "markdown",
      "metadata": {
        "id": "IoXX4tLbdORI",
        "colab_type": "text"
      },
      "source": [
        "# Motivation for OOP"
      ]
    },
    {
      "cell_type": "markdown",
      "metadata": {
        "id": "CQd-Hm6v5jym",
        "colab_type": "text"
      },
      "source": [
        "Bundle data (**attributes**) and functions (**methods**)."
      ]
    },
    {
      "cell_type": "markdown",
      "metadata": {
        "id": "8Pc29tg5dQi-",
        "colab_type": "text"
      },
      "source": [
        "# A first simple class"
      ]
    },
    {
      "cell_type": "markdown",
      "metadata": {
        "id": "aDbHvM9I22Co",
        "colab_type": "text"
      },
      "source": [
        "The **class definition** included the blueprint for creating **instances**:"
      ]
    },
    {
      "cell_type": "code",
      "metadata": {
        "id": "dDpHet_y0sDj",
        "colab_type": "code",
        "colab": {}
      },
      "source": [
        "class Employee:\n",
        "    pass"
      ],
      "execution_count": 0,
      "outputs": []
    },
    {
      "cell_type": "markdown",
      "metadata": {
        "id": "hM59-n8n1EZm",
        "colab_type": "text"
      },
      "source": [
        "Let's create an **instance** of the **Employee class**"
      ]
    },
    {
      "cell_type": "code",
      "metadata": {
        "id": "brS8Tyf-02sY",
        "colab_type": "code",
        "colab": {}
      },
      "source": [
        "tim = Employee()\n",
        "tim.first = \"Tim\"      # add the employee's first name\n",
        "tim.last = \"Cook\"\n",
        "tim.email = \"Tim.Cook@email.com\""
      ],
      "execution_count": 0,
      "outputs": []
    },
    {
      "cell_type": "markdown",
      "metadata": {
        "id": "NJah0FhQ2m34",
        "colab_type": "text"
      },
      "source": [
        "The **attributes** `first_name`, `last_name` and `email` are associated to the **instance** and can be accessed using `instance.attribute`:"
      ]
    },
    {
      "cell_type": "code",
      "metadata": {
        "id": "t2kaAObN2Vda",
        "colab_type": "code",
        "colab": {
          "base_uri": "https://localhost:8080/",
          "height": 33
        },
        "outputId": "d444f1a5-7205-408b-e078-5a9d8175995b"
      },
      "source": [
        "tim.email"
      ],
      "execution_count": 3,
      "outputs": [
        {
          "output_type": "execute_result",
          "data": {
            "text/plain": [
              "'Tim.Cook@email.com'"
            ]
          },
          "metadata": {
            "tags": []
          },
          "execution_count": 3
        }
      ]
    },
    {
      "cell_type": "markdown",
      "metadata": {
        "id": "GjFKRumb48lg",
        "colab_type": "text"
      },
      "source": [
        "It is preferred to set instance attributes during instance creation in the `__init__` method"
      ]
    },
    {
      "cell_type": "markdown",
      "metadata": {
        "id": "5gzDIHuz4zqC",
        "colab_type": "text"
      },
      "source": [
        "# A class with `__init__` method"
      ]
    },
    {
      "cell_type": "markdown",
      "metadata": {
        "id": "YlToSxvI6GBE",
        "colab_type": "text"
      },
      "source": [
        "- **Functions** defined within classes are called **methods**.\n",
        "- When **methods** are called, they receive the **instance** itself as the first argument which is named `self` by convention.\n",
        "- `__init__` is a special method or **dunder method** which is called upon object creation."
      ]
    },
    {
      "cell_type": "code",
      "metadata": {
        "id": "x3EFKspL2VbA",
        "colab_type": "code",
        "colab": {}
      },
      "source": [
        "class Employee:\n",
        "    def __init__(self, first, last, pay):\n",
        "        self.first = first\n",
        "        self.last = last\n",
        "        self.email = first + '.' + last + '@email.com'\n",
        "        self.pay = pay"
      ],
      "execution_count": 0,
      "outputs": []
    },
    {
      "cell_type": "code",
      "metadata": {
        "id": "ea7JHwqp2VLq",
        "colab_type": "code",
        "colab": {}
      },
      "source": [
        "tim = Employee(\"Tim\", \"Cook\", pay=50000)"
      ],
      "execution_count": 0,
      "outputs": []
    },
    {
      "cell_type": "code",
      "metadata": {
        "id": "-zWwBKKM83cz",
        "colab_type": "code",
        "colab": {
          "base_uri": "https://localhost:8080/",
          "height": 33
        },
        "outputId": "567c4070-c138-410e-d6d8-51d137d350ea"
      },
      "source": [
        "tim.email"
      ],
      "execution_count": 6,
      "outputs": [
        {
          "output_type": "execute_result",
          "data": {
            "text/plain": [
              "'Tim.Cook@email.com'"
            ]
          },
          "metadata": {
            "tags": []
          },
          "execution_count": 6
        }
      ]
    },
    {
      "cell_type": "markdown",
      "metadata": {
        "id": "eJE0TDa09nrg",
        "colab_type": "text"
      },
      "source": [
        "## Print description for the employee"
      ]
    },
    {
      "cell_type": "code",
      "metadata": {
        "id": "YtGa7LMF9hkK",
        "colab_type": "code",
        "colab": {
          "base_uri": "https://localhost:8080/",
          "height": 33
        },
        "outputId": "89ed4ad7-1fe9-49de-ba14-5e4b45ccccbf"
      },
      "source": [
        "print(tim)"
      ],
      "execution_count": 7,
      "outputs": [
        {
          "output_type": "stream",
          "text": [
            "<__main__.Employee object at 0x7f758b33ddd8>\n"
          ],
          "name": "stdout"
        }
      ]
    },
    {
      "cell_type": "code",
      "metadata": {
        "id": "gGJVhwro-MIB",
        "colab_type": "code",
        "colab": {
          "base_uri": "https://localhost:8080/",
          "height": 33
        },
        "outputId": "0035b97b-7605-4377-e8c6-6babb59033f5"
      },
      "source": [
        "s = tim.first + \" \" + tim.last + \", \" + tim.email\n",
        "s += \", \" + str(tim.pay) + \"€\"\n",
        "print(s)"
      ],
      "execution_count": 8,
      "outputs": [
        {
          "output_type": "stream",
          "text": [
            "Tim Cook, Tim.Cook@email.com, 50000€\n"
          ],
          "name": "stdout"
        }
      ]
    },
    {
      "cell_type": "markdown",
      "metadata": {
        "id": "BO8-i2zc_Dk5",
        "colab_type": "text"
      },
      "source": [
        "Look's good, \n",
        "\n",
        "BUT for the next employee, the code has to be rewritten:\n",
        "\n"
      ]
    },
    {
      "cell_type": "code",
      "metadata": {
        "id": "M8JTlJWq_kR5",
        "colab_type": "code",
        "colab": {}
      },
      "source": [
        "john = Employee(\"John\", \"Doe\", pay=60000)"
      ],
      "execution_count": 0,
      "outputs": []
    },
    {
      "cell_type": "code",
      "metadata": {
        "colab_type": "code",
        "id": "34apav33_YEd",
        "colab": {
          "base_uri": "https://localhost:8080/",
          "height": 33
        },
        "outputId": "645cc076-ba5c-4e58-8f65-8a53bcd67ca9"
      },
      "source": [
        "s = john.first + \" \" + john.last + \", \" + john.email\n",
        "s += \", \" + str(john.pay) + \"€\"\n",
        "print(s)"
      ],
      "execution_count": 10,
      "outputs": [
        {
          "output_type": "stream",
          "text": [
            "John Doe, John.Doe@email.com, 60000€\n"
          ],
          "name": "stdout"
        }
      ]
    },
    {
      "cell_type": "markdown",
      "metadata": {
        "id": "DBa4_tCqAGs4",
        "colab_type": "text"
      },
      "source": [
        "Thus, it's preferrable to put the functionality into the class definition"
      ]
    },
    {
      "cell_type": "markdown",
      "metadata": {
        "id": "zniuG1rcc1A0",
        "colab_type": "text"
      },
      "source": [
        "## A class with `__str__` method\n"
      ]
    },
    {
      "cell_type": "markdown",
      "metadata": {
        "id": "8vYbCJjlAXKB",
        "colab_type": "text"
      },
      "source": [
        "The `__str__` method is executed when `str` is called on the instance."
      ]
    },
    {
      "cell_type": "code",
      "metadata": {
        "colab_type": "code",
        "id": "sS4EeaeaAsry",
        "colab": {}
      },
      "source": [
        "class Employee:\n",
        "    def __init__(self, first, last, pay):\n",
        "        self.first = first\n",
        "        self.last = last\n",
        "        self.email = first + '.' + last + '@email.com'\n",
        "        self.pay = pay\n",
        "\n",
        "    def __str__(self):\n",
        "        s = self.first + \" \" + self.last + \", \" + self.email\n",
        "        s += \", \" + str(self.pay) + \"€\"\n",
        "        return s"
      ],
      "execution_count": 0,
      "outputs": []
    },
    {
      "cell_type": "markdown",
      "metadata": {
        "id": "lfxYWfwTBdZj",
        "colab_type": "text"
      },
      "source": [
        "Let's try the new `str` functionality: "
      ]
    },
    {
      "cell_type": "code",
      "metadata": {
        "colab_type": "code",
        "id": "a7L0c5BCAssA",
        "colab": {
          "base_uri": "https://localhost:8080/",
          "height": 50
        },
        "outputId": "174c3922-f303-4ede-afda-1a59dc82c238"
      },
      "source": [
        "tim = Employee(\"Tim\", \"Cook\", pay=50000)\n",
        "john = Employee(\"John\", \"Doe\", pay=60000)\n",
        "print(tim)\n",
        "print(john)"
      ],
      "execution_count": 12,
      "outputs": [
        {
          "output_type": "stream",
          "text": [
            "Tim Cook, Tim.Cook@email.com, 50000€\n",
            "John Doe, John.Doe@email.com, 60000€\n"
          ],
          "name": "stdout"
        }
      ]
    },
    {
      "cell_type": "markdown",
      "metadata": {
        "id": "hoLtfjGNCgqy",
        "colab_type": "text"
      },
      "source": [
        "### What is happening in the background"
      ]
    },
    {
      "cell_type": "markdown",
      "metadata": {
        "id": "DWYMYBSoDBOC",
        "colab_type": "text"
      },
      "source": [
        "- `print` automatically executes `str` on the input(s), and\n",
        "- `str` calls `__str__` on its input \n",
        "\n",
        "Therefore the following two commands yield the same result:"
      ]
    },
    {
      "cell_type": "code",
      "metadata": {
        "id": "WZTEn3uqDbfT",
        "colab_type": "code",
        "colab": {
          "base_uri": "https://localhost:8080/",
          "height": 33
        },
        "outputId": "fc0a72b7-0340-4d32-9101-00265088c74c"
      },
      "source": [
        "str(john)"
      ],
      "execution_count": 13,
      "outputs": [
        {
          "output_type": "execute_result",
          "data": {
            "text/plain": [
              "'John Doe, John.Doe@email.com, 60000€'"
            ]
          },
          "metadata": {
            "tags": []
          },
          "execution_count": 13
        }
      ]
    },
    {
      "cell_type": "code",
      "metadata": {
        "id": "ZpaYh9jMCx8p",
        "colab_type": "code",
        "colab": {
          "base_uri": "https://localhost:8080/",
          "height": 33
        },
        "outputId": "c43d216a-cdb3-4cfc-a2b6-092db7545dde"
      },
      "source": [
        "john.__str__()"
      ],
      "execution_count": 14,
      "outputs": [
        {
          "output_type": "execute_result",
          "data": {
            "text/plain": [
              "'John Doe, John.Doe@email.com, 60000€'"
            ]
          },
          "metadata": {
            "tags": []
          },
          "execution_count": 14
        }
      ]
    },
    {
      "cell_type": "markdown",
      "metadata": {
        "id": "kUoGRAUREbxH",
        "colab_type": "text"
      },
      "source": [
        "`__str__` can even be called from the class. But since there is no instance (no `self`), the instance has to be passed in manually. "
      ]
    },
    {
      "cell_type": "code",
      "metadata": {
        "id": "qjDghiWmc0Nl",
        "colab_type": "code",
        "colab": {
          "base_uri": "https://localhost:8080/",
          "height": 33
        },
        "outputId": "4cce2e91-0c56-426a-a367-38e16767f3e4"
      },
      "source": [
        "Employee.__str__(john)"
      ],
      "execution_count": 15,
      "outputs": [
        {
          "output_type": "execute_result",
          "data": {
            "text/plain": [
              "'John Doe, John.Doe@email.com, 60000€'"
            ]
          },
          "metadata": {
            "tags": []
          },
          "execution_count": 15
        }
      ]
    },
    {
      "cell_type": "markdown",
      "metadata": {
        "id": "Bo834FeDBuCp",
        "colab_type": "text"
      },
      "source": [
        "# Class variables"
      ]
    },
    {
      "cell_type": "markdown",
      "metadata": {
        "id": "jU-gFi6lBySG",
        "colab_type": "text"
      },
      "source": [
        "- **Instance variables**, (like `self.first`) store data that is unique to each instance.\n",
        "- **Class variables** are shared among all instances of a class\n",
        "- As an example we'll use the anual payment raise for the `Employee` class\n"
      ]
    },
    {
      "cell_type": "code",
      "metadata": {
        "id": "nJugeiMD-8Qv",
        "colab_type": "code",
        "colab": {}
      },
      "source": [
        "class Employee:\n",
        "\n",
        "    raise_factor = 1.04     # this is the new class variable\n",
        "\n",
        "    def __init__(self, first, last, pay):\n",
        "        self.first = first\n",
        "        self.last = last\n",
        "        self.email = first + '.' + last + '@email.com'\n",
        "        self.pay = pay\n",
        "\n",
        "    def __str__(self):\n",
        "        s = self.first + \" \" + self.last + \", \" + self.email\n",
        "        s += \", \" + str(self.pay) + \"€\"\n",
        "        return s\n",
        "\n",
        "tim = Employee(\"Tim\", \"Cook\", pay=50000)\n",
        "john = Employee(\"John\", \"Doe\", pay=60000)"
      ],
      "execution_count": 0,
      "outputs": []
    },
    {
      "cell_type": "markdown",
      "metadata": {
        "id": "rpMLnyWbF8Rs",
        "colab_type": "text"
      },
      "source": [
        "The **class variable** can be accessed through the **class**:"
      ]
    },
    {
      "cell_type": "code",
      "metadata": {
        "id": "5bUeGg58-8FP",
        "colab_type": "code",
        "colab": {
          "base_uri": "https://localhost:8080/",
          "height": 33
        },
        "outputId": "c3c0e986-a372-4db9-8812-0da5a4b46120"
      },
      "source": [
        "Employee.raise_factor"
      ],
      "execution_count": 17,
      "outputs": [
        {
          "output_type": "execute_result",
          "data": {
            "text/plain": [
              "1.04"
            ]
          },
          "metadata": {
            "tags": []
          },
          "execution_count": 17
        }
      ]
    },
    {
      "cell_type": "markdown",
      "metadata": {
        "id": "Zsb54anyGdt1",
        "colab_type": "text"
      },
      "source": [
        "The **class variable** can also be accessed through the **instance**:"
      ]
    },
    {
      "cell_type": "code",
      "metadata": {
        "id": "ieWC541a-69B",
        "colab_type": "code",
        "colab": {
          "base_uri": "https://localhost:8080/",
          "height": 33
        },
        "outputId": "fbbba6b9-1641-42c9-bf1e-3839f027c4de"
      },
      "source": [
        "tim.raise_factor"
      ],
      "execution_count": 18,
      "outputs": [
        {
          "output_type": "execute_result",
          "data": {
            "text/plain": [
              "1.04"
            ]
          },
          "metadata": {
            "tags": []
          },
          "execution_count": 18
        }
      ]
    },
    {
      "cell_type": "markdown",
      "metadata": {
        "id": "eW6ZjGn_Ka_t",
        "colab_type": "text"
      },
      "source": [
        "..this is possible, because Python falls back to the **class namespace** it the variable can't be found in the **instance namespace**.\n",
        "\n",
        "The **namespaces** can be printed using `vars()`:"
      ]
    },
    {
      "cell_type": "code",
      "metadata": {
        "id": "GmstZ0hlHELI",
        "colab_type": "code",
        "colab": {
          "base_uri": "https://localhost:8080/",
          "height": 70
        },
        "outputId": "e5d9d9d9-95ef-442b-c87c-f3f14e3048c4"
      },
      "source": [
        "print(\"instance namespace:\", vars(tim))\n",
        "print(\"class namespace:   \", vars(Employee))"
      ],
      "execution_count": 19,
      "outputs": [
        {
          "output_type": "stream",
          "text": [
            "instance namespace: {'first': 'Tim', 'last': 'Cook', 'email': 'Tim.Cook@email.com', 'pay': 50000}\n",
            "class namespace:    {'__module__': '__main__', 'raise_factor': 1.04, '__init__': <function Employee.__init__ at 0x7f758aad6d90>, '__str__': <function Employee.__str__ at 0x7f758aad6d08>, '__dict__': <attribute '__dict__' of 'Employee' objects>, '__weakref__': <attribute '__weakref__' of 'Employee' objects>, '__doc__': None}\n"
          ],
          "name": "stdout"
        }
      ]
    },
    {
      "cell_type": "markdown",
      "metadata": {
        "id": "j6mzrKhVFdaG",
        "colab_type": "text"
      },
      "source": [
        "### Exercise - create `apply_raise` method\n"
      ]
    },
    {
      "cell_type": "markdown",
      "metadata": {
        "id": "2J07gjnoFhRG",
        "colab_type": "text"
      },
      "source": [
        "Create a new method `apply_raise` that applies the raise.\n",
        "#### Solution"
      ]
    },
    {
      "cell_type": "code",
      "metadata": {
        "id": "5lwMPpoDLcAb",
        "colab_type": "code",
        "colab": {}
      },
      "source": [
        "class Employee:\n",
        "\n",
        "    raise_factor = 1.04    \n",
        "\n",
        "    def __init__(self, first, last, pay):\n",
        "        self.first = first\n",
        "        self.last = last\n",
        "        self.email = first + '.' + last + '@email.com'\n",
        "        self.pay = pay\n",
        "\n",
        "    def __str__(self):\n",
        "        s = self.first + \" \" + self.last + \", \" + self.email\n",
        "        s += \", \" + str(self.pay) + \"€\"\n",
        "        return s\n",
        "\n",
        "    def apply_raise(self):                  # new method\n",
        "        self.pay *= Employee.raise_factor\n",
        "\n",
        "tim = Employee(\"Tim\", \"Cook\", pay=50000)\n",
        "john = Employee(\"John\", \"Doe\", pay=60000)"
      ],
      "execution_count": 0,
      "outputs": []
    },
    {
      "cell_type": "markdown",
      "metadata": {
        "id": "ZRfFuMU3L3U1",
        "colab_type": "text"
      },
      "source": [
        "Test the new method"
      ]
    },
    {
      "cell_type": "code",
      "metadata": {
        "id": "15bj-VvDLxQF",
        "colab_type": "code",
        "colab": {
          "base_uri": "https://localhost:8080/",
          "height": 50
        },
        "outputId": "e1c03947-f88d-4ba0-b879-977427c90378"
      },
      "source": [
        "print(john)\n",
        "john.apply_raise()\n",
        "print(john)"
      ],
      "execution_count": 21,
      "outputs": [
        {
          "output_type": "stream",
          "text": [
            "John Doe, John.Doe@email.com, 60000€\n",
            "John Doe, John.Doe@email.com, 62400.0€\n"
          ],
          "name": "stdout"
        }
      ]
    },
    {
      "cell_type": "markdown",
      "metadata": {
        "id": "kaRXra9xQzYw",
        "colab_type": "text"
      },
      "source": [
        "### Exercise - class variables"
      ]
    },
    {
      "cell_type": "markdown",
      "metadata": {
        "id": "oqPxTiHuRK_t",
        "colab_type": "text"
      },
      "source": [
        "Keep track of the number of employees using a **class variable**\n",
        "#### Solution"
      ]
    },
    {
      "cell_type": "code",
      "metadata": {
        "id": "Bp5QGXikRaJv",
        "colab_type": "code",
        "colab": {
          "base_uri": "https://localhost:8080/",
          "height": 33
        },
        "outputId": "eab79441-98d7-40e9-ce22-b53350153ea2"
      },
      "source": [
        "class Employee:\n",
        "\n",
        "    raise_factor = 1.04    \n",
        "    employee_count = 0           # new class variable\n",
        "\n",
        "    def __init__(self, first, last, pay):\n",
        "        self.first = first\n",
        "        self.last = last\n",
        "        self.email = first + '.' + last + '@email.com'\n",
        "        self.pay = pay\n",
        "        Employee.employee_count += 1\n",
        "\n",
        "    def __str__(self):\n",
        "        s = self.first + \" \" + self.last + \", \" + self.email\n",
        "        s += \", \" + str(self.pay) + \"€\"\n",
        "        return s\n",
        "\n",
        "    def apply_raise(self):                  \n",
        "        self.pay *= Employee.raise_factor\n",
        "\n",
        "tim = Employee(\"Tim\", \"Cook\", pay=50000)\n",
        "john = Employee(\"John\", \"Doe\", pay=60000)\n",
        "print(\"Number of employees: \", Employee.employee_count)"
      ],
      "execution_count": 22,
      "outputs": [
        {
          "output_type": "stream",
          "text": [
            "Number of employees:  2\n"
          ],
          "name": "stdout"
        }
      ]
    },
    {
      "cell_type": "markdown",
      "metadata": {
        "id": "PaLu2ezXZyiu",
        "colab_type": "text"
      },
      "source": [
        "# Class methods"
      ]
    },
    {
      "cell_type": "markdown",
      "metadata": {
        "id": "ii1TlORsabMs",
        "colab_type": "text"
      },
      "source": [
        "- Recap: **(Regular) methods** are associated to the instance and receive the instance itself (usually named `self`) automatically as the first argument.\n",
        "- The decorator **`@classmethod`** turns a **(regular) method** into a **class method**, associated to the class.\n",
        "- **class methods** automatically receive the class as the first agrument, named `cls` by convention."
      ]
    },
    {
      "cell_type": "code",
      "metadata": {
        "id": "7PHD14VaRFFx",
        "colab_type": "code",
        "colab": {}
      },
      "source": [
        "class Employee:\n",
        "\n",
        "    raise_factor = 1.04    \n",
        "    employee_count = 0           \n",
        "\n",
        "    def __init__(self, first, last, pay):\n",
        "        self.first = first\n",
        "        self.last = last\n",
        "        self.email = first + '.' + last + '@email.com'\n",
        "        self.pay = pay\n",
        "        Employee.employee_count += 1\n",
        "\n",
        "    def __str__(self):\n",
        "        s = self.first + \" \" + self.last + \", \" + self.email\n",
        "        s += \", \" + str(self.pay) + \"€\"\n",
        "        return s\n",
        "\n",
        "    def apply_raise(self):                  \n",
        "        self.pay *= Employee.raise_factor\n",
        "\n",
        "    @classmethod\n",
        "    def set_raise_factor(cls, factor):      # new class method\n",
        "        cls.raise_factor = factor\n",
        "\n",
        "#tim = Employee(\"Tim\", \"Cook\", pay=50000)\n",
        "#john = Employee(\"John\", \"Doe\", pay=60000)"
      ],
      "execution_count": 0,
      "outputs": []
    },
    {
      "cell_type": "code",
      "metadata": {
        "id": "vBufHNIzRVIW",
        "colab_type": "code",
        "colab": {
          "base_uri": "https://localhost:8080/",
          "height": 50
        },
        "outputId": "95645115-ef56-4c6a-bd2a-14616e4223d9"
      },
      "source": [
        "print(Employee.raise_factor)\n",
        "Employee.set_raise_factor(1.06)\n",
        "print(Employee.raise_factor)"
      ],
      "execution_count": 24,
      "outputs": [
        {
          "output_type": "stream",
          "text": [
            "1.04\n",
            "1.06\n"
          ],
          "name": "stdout"
        }
      ]
    },
    {
      "cell_type": "markdown",
      "metadata": {
        "id": "zNfZif_Mj3ze",
        "colab_type": "text"
      },
      "source": [
        "### Exercise - alternatice contructor"
      ]
    },
    {
      "cell_type": "markdown",
      "metadata": {
        "id": "ysLHfMhOeXf2",
        "colab_type": "text"
      },
      "source": [
        "Add an *alternative constructor* `from_string` to the *Employee class* that expects semicolon seperated strings as input: "
      ]
    },
    {
      "cell_type": "code",
      "metadata": {
        "id": "yPYz3CINftZZ",
        "colab_type": "code",
        "colab": {}
      },
      "source": [
        "new_employees = [\"Max;Kirn;45000\",\n",
        "                 \"Lea;Parker;60000\",\n",
        "                 \"Steve;Jobs;90000\"]"
      ],
      "execution_count": 0,
      "outputs": []
    },
    {
      "cell_type": "markdown",
      "metadata": {
        "id": "ObCzXDv1kB7k",
        "colab_type": "text"
      },
      "source": [
        "#### Solution"
      ]
    },
    {
      "cell_type": "code",
      "metadata": {
        "id": "lF9Wx8EUMWNS",
        "colab_type": "code",
        "colab": {}
      },
      "source": [
        "class Employee:\n",
        "\n",
        "    raise_factor = 1.04    \n",
        "    employee_count = 0           \n",
        "\n",
        "    def __init__(self, first, last, pay):\n",
        "        self.first = first\n",
        "        self.last = last\n",
        "        self.email = first + '.' + last + '@email.com'\n",
        "        self.pay = pay\n",
        "        Employee.employee_count += 1\n",
        "\n",
        "    def __str__(self):\n",
        "        s = self.first + \" \" + self.last + \", \" + self.email\n",
        "        s += \", \" + str(self.pay) + \"€\"\n",
        "        return s\n",
        "\n",
        "    def apply_raise(self):                  \n",
        "        self.pay *= Employee.raise_factor\n",
        "\n",
        "    @classmethod\n",
        "    def set_raise_factor(cls, factor):      # new class method\n",
        "        cls.raise_factor = factor\n",
        "\n",
        "    @classmethod\n",
        "    def from_string(cls, employee_str):\n",
        "        first, last, pay = employee_str.split(\";\")\n",
        "        employee = cls(first, last, pay)\n",
        "        return employee\n",
        "\n",
        "#tim = Employee(\"Tim\", \"Cook\", pay=50000)\n",
        "#john = Employee(\"John\", \"Doe\", pay=60000)"
      ],
      "execution_count": 0,
      "outputs": []
    },
    {
      "cell_type": "code",
      "metadata": {
        "id": "8VhyqoDxMXD-",
        "colab_type": "code",
        "colab": {
          "base_uri": "https://localhost:8080/",
          "height": 67
        },
        "outputId": "2469e1ea-5918-430d-99ef-49e301da7dd9"
      },
      "source": [
        "for employee_str in new_employees:\n",
        "    employee = Employee.from_string(employee_str)\n",
        "    print(Employee.employee_count, employee)"
      ],
      "execution_count": 27,
      "outputs": [
        {
          "output_type": "stream",
          "text": [
            "1 Max Kirn, Max.Kirn@email.com, 45000€\n",
            "2 Lea Parker, Lea.Parker@email.com, 60000€\n",
            "3 Steve Jobs, Steve.Jobs@email.com, 90000€\n"
          ],
          "name": "stdout"
        }
      ]
    },
    {
      "cell_type": "markdown",
      "metadata": {
        "id": "QAbvthjLvxfH",
        "colab_type": "text"
      },
      "source": [
        "# Static methods"
      ]
    },
    {
      "cell_type": "markdown",
      "metadata": {
        "id": "O1D4fFg_v1Nm",
        "colab_type": "text"
      },
      "source": [
        "- **Static methods** are just like regular functions, except they are bundled to a class (because of some logic connection).\n",
        "- The decorator **`@staticmethod`** turns a **(regular) method** into a **static method**.\n",
        "- Generally, **static methods** are appropriate if the instance (`self`) or the class (`cls`) is not accessed within the method"
      ]
    },
    {
      "cell_type": "markdown",
      "metadata": {
        "id": "N2OAQ13n0BmU",
        "colab_type": "text"
      },
      "source": [
        "### Exercise - `is_workday`"
      ]
    },
    {
      "cell_type": "markdown",
      "metadata": {
        "id": "R5-klz0O0PNk",
        "colab_type": "text"
      },
      "source": [
        "Add a static method `is_workday` to the Employee class that returns 'True' if the weekday is between Monday and Friday.\n",
        "\n",
        "Hint: Use the `weekday` method of `datetime`: "
      ]
    },
    {
      "cell_type": "code",
      "metadata": {
        "id": "_yK7eahez3fF",
        "colab_type": "code",
        "colab": {
          "base_uri": "https://localhost:8080/",
          "height": 33
        },
        "outputId": "8d798376-959e-44e3-ab5c-2c19d807697c"
      },
      "source": [
        "import datetime as dt\n",
        "date = dt.date.today()\n",
        "date.weekday()"
      ],
      "execution_count": 28,
      "outputs": [
        {
          "output_type": "execute_result",
          "data": {
            "text/plain": [
              "6"
            ]
          },
          "metadata": {
            "tags": []
          },
          "execution_count": 28
        }
      ]
    },
    {
      "cell_type": "markdown",
      "metadata": {
        "id": "isBMOg4D1vL1",
        "colab_type": "text"
      },
      "source": [
        "#### Solution"
      ]
    },
    {
      "cell_type": "code",
      "metadata": {
        "id": "LbUMD6QtuRr0",
        "colab_type": "code",
        "colab": {}
      },
      "source": [
        "class Employee:\n",
        "\n",
        "    raise_factor = 1.04    \n",
        "    employee_count = 0           \n",
        "\n",
        "    def __init__(self, first, last, pay):\n",
        "        self.first = first\n",
        "        self.last = last\n",
        "        self.email = first + '.' + last + '@email.com'\n",
        "        self.pay = pay\n",
        "        Employee.employee_count += 1\n",
        "\n",
        "    def __str__(self):\n",
        "        s = self.first + \" \" + self.last + \", \" + self.email\n",
        "        s += \", \" + str(self.pay) + \"€\"\n",
        "        return s\n",
        "\n",
        "    def apply_raise(self):                  \n",
        "        self.pay *= Employee.raise_factor\n",
        "\n",
        "    @classmethod\n",
        "    def set_raise_factor(cls, factor):      \n",
        "        cls.raise_factor = factor\n",
        "\n",
        "    @staticmethod\n",
        "    def is_workday(date):          # new static method\n",
        "        \"\"\"Returns 'True' if the date is Montay..Friday, else 'False'\"\"\" \n",
        "        if date.weekday() < 5:\n",
        "            return True\n",
        "        return False\n",
        "\n",
        "#tim = Employee(\"Tim\", \"Cook\", pay=50000)\n",
        "#john = Employee(\"John\", \"Doe\", pay=60000)"
      ],
      "execution_count": 0,
      "outputs": []
    },
    {
      "cell_type": "markdown",
      "metadata": {
        "id": "7SoRqnbB2GRz",
        "colab_type": "text"
      },
      "source": [
        "Test the solution"
      ]
    },
    {
      "cell_type": "code",
      "metadata": {
        "id": "bTqEIqQZvxMc",
        "colab_type": "code",
        "colab": {
          "base_uri": "https://localhost:8080/",
          "height": 50
        },
        "outputId": "ec938c7b-e603-451c-b20d-aece28bb0af1"
      },
      "source": [
        "date = dt.date(2020, 2, 28)\n",
        "print(date)\n",
        "Employee.is_workday(date)"
      ],
      "execution_count": 30,
      "outputs": [
        {
          "output_type": "stream",
          "text": [
            "2020-02-28\n"
          ],
          "name": "stdout"
        },
        {
          "output_type": "execute_result",
          "data": {
            "text/plain": [
              "True"
            ]
          },
          "metadata": {
            "tags": []
          },
          "execution_count": 30
        }
      ]
    },
    {
      "cell_type": "markdown",
      "metadata": {
        "id": "CkD7FeqT2mA2",
        "colab_type": "text"
      },
      "source": [
        "# Inheritance - creating subclasses"
      ]
    },
    {
      "cell_type": "markdown",
      "metadata": {
        "id": "vkTrsJmf2uE0",
        "colab_type": "text"
      },
      "source": [
        "- **Subclasses** inherit properties from their **parent classes**\n",
        "- **Subclasses** can also implement new functionality "
      ]
    },
    {
      "cell_type": "markdown",
      "metadata": {
        "id": "7on85MsD3Ks8",
        "colab_type": "text"
      },
      "source": [
        "Es an example, the Employee class should be subclassed into \"*Developer*\" and \"*Manager*\""
      ]
    },
    {
      "cell_type": "code",
      "metadata": {
        "id": "JHprdi4N3vD-",
        "colab_type": "code",
        "colab": {
          "base_uri": "https://localhost:8080/",
          "height": 50
        },
        "outputId": "c376c14e-857a-4ef1-b0b7-817cf84e070f"
      },
      "source": [
        "class Employee:\n",
        "\n",
        "    raise_factor = 1.04             \n",
        "\n",
        "    def __init__(self, first, last, pay):\n",
        "        self.first = first\n",
        "        self.last = last\n",
        "        self.email = first + '.' + last + '@email.com'\n",
        "        self.pay = pay\n",
        "\n",
        "    def __str__(self):\n",
        "        s = self.first + \" \" + self.last + \", \" + self.email\n",
        "        s += \", \" + str(self.pay) + \"€\"\n",
        "        return s\n",
        "\n",
        "    def apply_raise(self):                  \n",
        "        self.pay *= Employee.raise_factor\n",
        "\n",
        "\n",
        "class Developer(Employee):     # new subclass \n",
        "    pass\n",
        "\n",
        "\n",
        "tim = Developer(\"Tim\", \"Cook\", pay=50000)    \n",
        "john = Developer(\"John\", \"Doe\", pay=60000)\n",
        "print(tim)\n",
        "print(john)"
      ],
      "execution_count": 31,
      "outputs": [
        {
          "output_type": "stream",
          "text": [
            "Tim Cook, Tim.Cook@email.com, 50000€\n",
            "John Doe, John.Doe@email.com, 60000€\n"
          ],
          "name": "stdout"
        }
      ]
    },
    {
      "cell_type": "markdown",
      "metadata": {
        "id": "7sRT5t9S4r79",
        "colab_type": "text"
      },
      "source": [
        ".. the **subclass `Developer`** inherited all the functionality from it's **parent `Employee`**\n"
      ]
    },
    {
      "cell_type": "markdown",
      "metadata": {
        "id": "WQU41aP8Yzu5",
        "colab_type": "text"
      },
      "source": [
        "## `help(obj)` - method resolution order"
      ]
    },
    {
      "cell_type": "markdown",
      "metadata": {
        "id": "yXbJ_gt8ZDJt",
        "colab_type": "text"
      },
      "source": [
        "`help(obj)` provides usefull info on **instances** and **classes**:\n",
        "- **Method resolution order**, basically the *inheritance tree*\n",
        "- where methods are defined\n",
        "- attribute inheritance"
      ]
    },
    {
      "cell_type": "code",
      "metadata": {
        "id": "EHAtWGj33HNp",
        "colab_type": "code",
        "colab": {
          "base_uri": "https://localhost:8080/",
          "height": 552
        },
        "outputId": "50a22fcb-7cc0-4236-b241-f53fe81252dc"
      },
      "source": [
        "help(tim)"
      ],
      "execution_count": 32,
      "outputs": [
        {
          "output_type": "stream",
          "text": [
            "Help on Developer in module __main__ object:\n",
            "\n",
            "class Developer(Employee)\n",
            " |  Method resolution order:\n",
            " |      Developer\n",
            " |      Employee\n",
            " |      builtins.object\n",
            " |  \n",
            " |  Methods inherited from Employee:\n",
            " |  \n",
            " |  __init__(self, first, last, pay)\n",
            " |      Initialize self.  See help(type(self)) for accurate signature.\n",
            " |  \n",
            " |  __str__(self)\n",
            " |      Return str(self).\n",
            " |  \n",
            " |  apply_raise(self)\n",
            " |  \n",
            " |  ----------------------------------------------------------------------\n",
            " |  Data descriptors inherited from Employee:\n",
            " |  \n",
            " |  __dict__\n",
            " |      dictionary for instance variables (if defined)\n",
            " |  \n",
            " |  __weakref__\n",
            " |      list of weak references to the object (if defined)\n",
            " |  \n",
            " |  ----------------------------------------------------------------------\n",
            " |  Data and other attributes inherited from Employee:\n",
            " |  \n",
            " |  raise_factor = 1.04\n",
            "\n"
          ],
          "name": "stdout"
        }
      ]
    },
    {
      "cell_type": "markdown",
      "metadata": {
        "id": "zEfzZM6Q8Yem",
        "colab_type": "text"
      },
      "source": [
        ".. when `tim` was created `tim=Developer()`, Python went through the **Method resolution order**, didn't find an **`__init__` method** within the **Developer class**. It then coninued and executed **`Employee.__init__`**."
      ]
    },
    {
      "cell_type": "markdown",
      "metadata": {
        "id": "qIUOoBq99l6_",
        "colab_type": "text"
      },
      "source": [
        "## Customize the subclass"
      ]
    },
    {
      "cell_type": "markdown",
      "metadata": {
        "id": "PTXFZbvB-JCp",
        "colab_type": "text"
      },
      "source": [
        "- initiate the subclass with more arguments than the parent class can handle.\n",
        "- therefore the subclass requires a new `__init__` method"
      ]
    },
    {
      "cell_type": "code",
      "metadata": {
        "id": "CHSTCXZ62JyL",
        "colab_type": "code",
        "colab": {}
      },
      "source": [
        "class Employee:\n",
        "\n",
        "    raise_factor = 1.04             \n",
        "\n",
        "    def __init__(self, first, last, pay):\n",
        "        self.first = first\n",
        "        self.last = last\n",
        "        self.email = first + '.' + last + '@email.com'\n",
        "        self.pay = pay\n",
        "\n",
        "    def __str__(self):\n",
        "        s = self.first + \" \" + self.last + \", \" + self.email\n",
        "        s += \", \" + str(self.pay) + \"€\"\n",
        "        return s\n",
        "\n",
        "    def apply_raise(self):                  \n",
        "        self.pay *= Employee.raise_factor\n",
        "\n",
        "\n",
        "class Developer(Employee):     \n",
        "    \n",
        "    def __init__(self, first, last, pay, prog_language):  # new method \n",
        "        super().__init__(first, last, pay)\n",
        "        self.prog_language = prog_language"
      ],
      "execution_count": 0,
      "outputs": []
    },
    {
      "cell_type": "markdown",
      "metadata": {
        "id": "6J29bYTxCbLt",
        "colab_type": "text"
      },
      "source": [
        "Test the new functionality:"
      ]
    },
    {
      "cell_type": "code",
      "metadata": {
        "id": "XwfKN7OkBz0t",
        "colab_type": "code",
        "colab": {
          "base_uri": "https://localhost:8080/",
          "height": 50
        },
        "outputId": "e7eca9ae-19df-4a44-99b3-934e7e78b400"
      },
      "source": [
        "tim = Developer(\"Tim\", \"Cook\", 50000, \"Python\")    \n",
        "john = Employee(\"John\", \"Doe\", 60000)\n",
        "print(tim)\n",
        "print(john)"
      ],
      "execution_count": 34,
      "outputs": [
        {
          "output_type": "stream",
          "text": [
            "Tim Cook, Tim.Cook@email.com, 50000€\n",
            "John Doe, John.Doe@email.com, 60000€\n"
          ],
          "name": "stdout"
        }
      ]
    },
    {
      "cell_type": "markdown",
      "metadata": {
        "id": "OstMhacwC9Ld",
        "colab_type": "text"
      },
      "source": [
        ".. the test executes without errors. But the programming language is not within `Employee.__str__` method.\n",
        "\n",
        "`vars` shows the new attribute:"
      ]
    },
    {
      "cell_type": "code",
      "metadata": {
        "id": "Alt-UeXC2Jpj",
        "colab_type": "code",
        "colab": {
          "base_uri": "https://localhost:8080/",
          "height": 100
        },
        "outputId": "9a6abb0e-c513-41f9-c166-a83970649076"
      },
      "source": [
        "vars(tim)"
      ],
      "execution_count": 35,
      "outputs": [
        {
          "output_type": "execute_result",
          "data": {
            "text/plain": [
              "{'email': 'Tim.Cook@email.com',\n",
              " 'first': 'Tim',\n",
              " 'last': 'Cook',\n",
              " 'pay': 50000,\n",
              " 'prog_language': 'Python'}"
            ]
          },
          "metadata": {
            "tags": []
          },
          "execution_count": 35
        }
      ]
    },
    {
      "cell_type": "code",
      "metadata": {
        "id": "TiCNo0ym2Jfj",
        "colab_type": "code",
        "colab": {
          "base_uri": "https://localhost:8080/",
          "height": 33
        },
        "outputId": "cc3f37c1-90ec-498a-be3b-9c9d76b827f2"
      },
      "source": [
        "vars(john)"
      ],
      "execution_count": 36,
      "outputs": [
        {
          "output_type": "execute_result",
          "data": {
            "text/plain": [
              "{'email': 'John.Doe@email.com', 'first': 'John', 'last': 'Doe', 'pay': 60000}"
            ]
          },
          "metadata": {
            "tags": []
          },
          "execution_count": 36
        }
      ]
    },
    {
      "cell_type": "markdown",
      "metadata": {
        "id": "LQJNKs2uEF5t",
        "colab_type": "text"
      },
      "source": [
        "## Add a second subclass"
      ]
    },
    {
      "cell_type": "code",
      "metadata": {
        "id": "KNFbb_UN2Jcx",
        "colab_type": "code",
        "colab": {}
      },
      "source": [
        "class Employee:\n",
        "\n",
        "    raise_factor = 1.04             \n",
        "\n",
        "    def __init__(self, first, last, pay):\n",
        "        self.first = first\n",
        "        self.last = last\n",
        "        self.email = first + '.' + last + '@email.com'\n",
        "        self.pay = pay\n",
        "\n",
        "    def __str__(self):\n",
        "        s = self.first + \" \" + self.last + \", \" + self.email\n",
        "        s += \", \" + str(self.pay) + \"€\"\n",
        "        return s\n",
        "\n",
        "    def apply_raise(self):                  \n",
        "        self.pay *= Employee.raise_factor\n",
        "\n",
        "\n",
        "class Developer(Employee):     \n",
        "    \n",
        "    def __init__(self, first, last, pay, prog_language):   \n",
        "        super().__init__(first, last, pay)\n",
        "        self.prog_language = prog_language\n",
        "\n",
        "\n",
        "class Manager(Employee):        # new subclass\n",
        "    \n",
        "    def __init__(self, first, last, pay, team=None):   \n",
        "        super().__init__(first, last, pay)\n",
        "        \n",
        "        # never pass mutable datatypes (like lists) as default arguments\n",
        "        if team is None:\n",
        "            self.team = set()\n",
        "        else:\n",
        "            self.team = set(team)\n",
        "        \n",
        "    def add_to_team(self, employee):\n",
        "        self.team.add(employee) \n",
        "            \n",
        "    def remove_from_team(self, employee):\n",
        "        # discard is like remove, but ignores KeyErrors\n",
        "        self.team.discard(employee)         \n",
        "\n",
        "    def print_team(self):\n",
        "        s = str(self) + \", \"\n",
        "        if len(self.team) == 0:\n",
        "            print(str(self) + \", no team\")\n",
        "        else:\n",
        "            print(str(self) + \", team:\")\n",
        "            for member in self.team:\n",
        "                print(\"- \", member)\n",
        "        "
      ],
      "execution_count": 0,
      "outputs": []
    },
    {
      "cell_type": "markdown",
      "metadata": {
        "id": "k11vyEKRKh9O",
        "colab_type": "text"
      },
      "source": [
        "Test the new functionality"
      ]
    },
    {
      "cell_type": "code",
      "metadata": {
        "id": "xe5uTv3BIm3U",
        "colab_type": "code",
        "colab": {
          "base_uri": "https://localhost:8080/",
          "height": 67
        },
        "outputId": "dbc5f4f4-d91d-4ee1-a638-8fec948e0bd0"
      },
      "source": [
        "tim = Developer(\"Tim\", \"Cook\", 50000, \"Python\")    \n",
        "john = Developer(\"John\", \"Doe\", 60000, \"Java\")\n",
        "mike = Manager(\"Mike\", \"Kirn\", 80000, (tim, john))\n",
        "mike.print_team()"
      ],
      "execution_count": 38,
      "outputs": [
        {
          "output_type": "stream",
          "text": [
            "Mike Kirn, Mike.Kirn@email.com, 80000€, team:\n",
            "-  Tim Cook, Tim.Cook@email.com, 50000€\n",
            "-  John Doe, John.Doe@email.com, 60000€\n"
          ],
          "name": "stdout"
        }
      ]
    },
    {
      "cell_type": "code",
      "metadata": {
        "id": "_zD7VUHWJskN",
        "colab_type": "code",
        "colab": {
          "base_uri": "https://localhost:8080/",
          "height": 50
        },
        "outputId": "0d0699c6-a558-47fd-8146-692c0694687c"
      },
      "source": [
        "mike.remove_from_team(tim)\n",
        "mike.print_team()"
      ],
      "execution_count": 39,
      "outputs": [
        {
          "output_type": "stream",
          "text": [
            "Mike Kirn, Mike.Kirn@email.com, 80000€, team:\n",
            "-  John Doe, John.Doe@email.com, 60000€\n"
          ],
          "name": "stdout"
        }
      ]
    },
    {
      "cell_type": "markdown",
      "metadata": {
        "id": "_dMLPelXKlff",
        "colab_type": "text"
      },
      "source": [
        "### Exercise - custom `__str__` method"
      ]
    },
    {
      "cell_type": "markdown",
      "metadata": {
        "id": "ERO5NVlPKohP",
        "colab_type": "text"
      },
      "source": [
        "Move the `print_team` functionality to the `__str__` method of the subclass `Manager`.\n",
        "#### Solution"
      ]
    },
    {
      "cell_type": "code",
      "metadata": {
        "id": "PaN1nDiEKn5R",
        "colab_type": "code",
        "colab": {}
      },
      "source": [
        "class Employee:\n",
        "\n",
        "    raise_factor = 1.04             \n",
        "\n",
        "    def __init__(self, first, last, pay):\n",
        "        self.first = first\n",
        "        self.last = last\n",
        "        self.email = first + '.' + last + '@email.com'\n",
        "        self.pay = pay\n",
        "\n",
        "    def __str__(self):\n",
        "        s = self.first + \" \" + self.last + \", \" + self.email\n",
        "        s += \", \" + str(self.pay) + \"€\"\n",
        "        return s\n",
        "\n",
        "    def apply_raise(self):                  \n",
        "        self.pay *= Employee.raise_factor\n",
        "\n",
        "\n",
        "class Developer(Employee):     \n",
        "    \n",
        "    def __init__(self, first, last, pay, prog_language):   \n",
        "        super().__init__(first, last, pay)\n",
        "        self.prog_language = prog_language\n",
        "\n",
        "\n",
        "class Manager(Employee):        \n",
        "    \n",
        "    def __init__(self, first, last, pay, team=None):   \n",
        "        super().__init__(first, last, pay)\n",
        "        \n",
        "        if team is None:\n",
        "            self.team = set()\n",
        "        else:\n",
        "            self.team = set(team)\n",
        "        \n",
        "    def add_to_team(self, employee):\n",
        "        self.team.add(employee) \n",
        "            \n",
        "    def remove_from_team(self, employee):\n",
        "        self.team.discard(employee)         \n",
        "\n",
        "    def __str__(self):                       # new method\n",
        "        s = super().__str__() \n",
        "        if len(self.team) == 0:\n",
        "            s += \", no team\"\n",
        "        else:\n",
        "            s += \", team:\"\n",
        "            for member in self.team:\n",
        "                s += \"\\n- \" + str(member)\n",
        "        return s"
      ],
      "execution_count": 0,
      "outputs": []
    },
    {
      "cell_type": "markdown",
      "metadata": {
        "id": "fnYwiKFXqfSN",
        "colab_type": "text"
      },
      "source": [
        "Test the new method:"
      ]
    },
    {
      "cell_type": "code",
      "metadata": {
        "id": "liMrKKIsIm9f",
        "colab_type": "code",
        "colab": {
          "base_uri": "https://localhost:8080/",
          "height": 100
        },
        "outputId": "28f72689-3501-4ff9-d7c3-ea21de7fa955"
      },
      "source": [
        "tim = Developer(\"Tim\", \"Cook\", 50000, \"Python\")    \n",
        "john = Developer(\"John\", \"Doe\", 60000, \"Java\")\n",
        "mike = Manager(\"Mike\", \"Kirn\", 80000)\n",
        "for employee in (tim, john):\n",
        "    mike.add_to_team(employee)\n",
        "    print(mike)"
      ],
      "execution_count": 41,
      "outputs": [
        {
          "output_type": "stream",
          "text": [
            "Mike Kirn, Mike.Kirn@email.com, 80000€, team:\n",
            "- Tim Cook, Tim.Cook@email.com, 50000€\n",
            "Mike Kirn, Mike.Kirn@email.com, 80000€, team:\n",
            "- Tim Cook, Tim.Cook@email.com, 50000€\n",
            "- John Doe, John.Doe@email.com, 60000€\n"
          ],
          "name": "stdout"
        }
      ]
    },
    {
      "cell_type": "code",
      "metadata": {
        "id": "g1dpk8H4Im6P",
        "colab_type": "code",
        "colab": {}
      },
      "source": [
        ""
      ],
      "execution_count": 0,
      "outputs": []
    },
    {
      "cell_type": "markdown",
      "metadata": {
        "id": "e_NXixbypYM4",
        "colab_type": "text"
      },
      "source": [
        "## build-in functions `isinstance` and `issubclass`"
      ]
    },
    {
      "cell_type": "code",
      "metadata": {
        "id": "GjlVo17oqCUL",
        "colab_type": "code",
        "colab": {
          "base_uri": "https://localhost:8080/",
          "height": 167
        },
        "outputId": "6810a785-de0f-48b9-99bf-31f8a632007a"
      },
      "source": [
        "help(isinstance)"
      ],
      "execution_count": 42,
      "outputs": [
        {
          "output_type": "stream",
          "text": [
            "Help on built-in function isinstance in module builtins:\n",
            "\n",
            "isinstance(obj, class_or_tuple, /)\n",
            "    Return whether an object is an instance of a class or of a subclass thereof.\n",
            "    \n",
            "    A tuple, as in ``isinstance(x, (A, B, ...))``, may be given as the target to\n",
            "    check against. This is equivalent to ``isinstance(x, A) or isinstance(x, B)\n",
            "    or ...`` etc.\n",
            "\n"
          ],
          "name": "stdout"
        }
      ]
    },
    {
      "cell_type": "code",
      "metadata": {
        "id": "PSf97lDeov01",
        "colab_type": "code",
        "colab": {
          "base_uri": "https://localhost:8080/",
          "height": 33
        },
        "outputId": "d295a4d8-9585-4d84-8c7f-cc7f5a511a00"
      },
      "source": [
        "isinstance(mike, Developer)"
      ],
      "execution_count": 43,
      "outputs": [
        {
          "output_type": "execute_result",
          "data": {
            "text/plain": [
              "False"
            ]
          },
          "metadata": {
            "tags": []
          },
          "execution_count": 43
        }
      ]
    },
    {
      "cell_type": "code",
      "metadata": {
        "id": "NnxGtfSCovm4",
        "colab_type": "code",
        "colab": {
          "base_uri": "https://localhost:8080/",
          "height": 33
        },
        "outputId": "bd208dab-e384-4f8e-cd96-157f73ca9c5d"
      },
      "source": [
        "issubclass(Developer, Employee)"
      ],
      "execution_count": 44,
      "outputs": [
        {
          "output_type": "execute_result",
          "data": {
            "text/plain": [
              "True"
            ]
          },
          "metadata": {
            "tags": []
          },
          "execution_count": 44
        }
      ]
    },
    {
      "cell_type": "markdown",
      "metadata": {
        "id": "jTKY1yPd3Eg9",
        "colab_type": "text"
      },
      "source": [
        "# Operator overloading"
      ]
    },
    {
      "cell_type": "markdown",
      "metadata": {
        "id": "fWTKG4FQ4zhy",
        "colab_type": "text"
      },
      "source": [
        "## **`+`** operator via `__add__` method"
      ]
    },
    {
      "cell_type": "markdown",
      "metadata": {
        "id": "-nQFTa5Q5cXY",
        "colab_type": "text"
      },
      "source": [
        "When adding 2 integers, Pyhton calls the `int.__add__()` method in the background."
      ]
    },
    {
      "cell_type": "code",
      "metadata": {
        "id": "mk_m1rmE3EAr",
        "colab_type": "code",
        "colab": {
          "base_uri": "https://localhost:8080/",
          "height": 33
        },
        "outputId": "58cdef5c-9558-4a21-cf8c-713c81e62f26"
      },
      "source": [
        "5+7"
      ],
      "execution_count": 45,
      "outputs": [
        {
          "output_type": "execute_result",
          "data": {
            "text/plain": [
              "12"
            ]
          },
          "metadata": {
            "tags": []
          },
          "execution_count": 45
        }
      ]
    },
    {
      "cell_type": "code",
      "metadata": {
        "id": "eydEo_I45xKI",
        "colab_type": "code",
        "colab": {
          "base_uri": "https://localhost:8080/",
          "height": 33
        },
        "outputId": "55ebf704-207c-47bc-c8fa-7bf12cdb6157"
      },
      "source": [
        "int.__add__(5, 7)"
      ],
      "execution_count": 46,
      "outputs": [
        {
          "output_type": "execute_result",
          "data": {
            "text/plain": [
              "12"
            ]
          },
          "metadata": {
            "tags": []
          },
          "execution_count": 46
        }
      ]
    },
    {
      "cell_type": "markdown",
      "metadata": {
        "id": "kek7-Zgu6GpV",
        "colab_type": "text"
      },
      "source": [
        "When using the `+` operator on a string, the result is a concatanation of the two string. \n",
        "\n",
        "Thus, `int.__add__()` and `str.__add__()` implement different functionalities."
      ]
    },
    {
      "cell_type": "code",
      "metadata": {
        "id": "2QsLHK4k54uz",
        "colab_type": "code",
        "colab": {
          "base_uri": "https://localhost:8080/",
          "height": 33
        },
        "outputId": "c462cd24-2d53-44d8-c51b-c7aa491fa5d9"
      },
      "source": [
        "\"Py\" + \"thon\""
      ],
      "execution_count": 47,
      "outputs": [
        {
          "output_type": "execute_result",
          "data": {
            "text/plain": [
              "'Python'"
            ]
          },
          "metadata": {
            "tags": []
          },
          "execution_count": 47
        }
      ]
    },
    {
      "cell_type": "code",
      "metadata": {
        "id": "1T7REIzM5-Xf",
        "colab_type": "code",
        "colab": {
          "base_uri": "https://localhost:8080/",
          "height": 33
        },
        "outputId": "f9ae6a58-4644-48e2-9008-f3bdee9c8c75"
      },
      "source": [
        "str.__add__(\"Py\", \"thon\")"
      ],
      "execution_count": 48,
      "outputs": [
        {
          "output_type": "execute_result",
          "data": {
            "text/plain": [
              "'Python'"
            ]
          },
          "metadata": {
            "tags": []
          },
          "execution_count": 48
        }
      ]
    },
    {
      "cell_type": "markdown",
      "metadata": {
        "id": "UgAUdw737jci",
        "colab_type": "text"
      },
      "source": [
        "### Add `__add__` to the Employee class"
      ]
    },
    {
      "cell_type": "code",
      "metadata": {
        "id": "9HzPP1Vp62I4",
        "colab_type": "code",
        "colab": {}
      },
      "source": [
        "class Employee:\n",
        "\n",
        "    raise_factor = 1.04             \n",
        "\n",
        "    def __init__(self, first, last, pay):\n",
        "        self.first = first\n",
        "        self.last = last\n",
        "        self.email = first + '.' + last + '@email.com'\n",
        "        self.pay = pay\n",
        "\n",
        "    def __str__(self):\n",
        "        s = self.first + \" \" + self.last + \", \" + self.email\n",
        "        s += \", \" + str(self.pay) + \"€\"\n",
        "        return s\n",
        "\n",
        "    def apply_raise(self):                  \n",
        "        self.pay *= Employee.raise_factor\n",
        "\n",
        "    def __add__(self, other):\n",
        "        return self.pay + other.pay"
      ],
      "execution_count": 0,
      "outputs": []
    },
    {
      "cell_type": "code",
      "metadata": {
        "id": "bGy-Ps_K5-Ud",
        "colab_type": "code",
        "colab": {}
      },
      "source": [
        "tim = Employee(\"Tim\", \"Cook\", 50000)    \n",
        "john = Employee(\"John\", \"Doe\", 60000)"
      ],
      "execution_count": 0,
      "outputs": []
    },
    {
      "cell_type": "code",
      "metadata": {
        "id": "K1Jh-BXO5-P2",
        "colab_type": "code",
        "colab": {
          "base_uri": "https://localhost:8080/",
          "height": 33
        },
        "outputId": "fa1755c2-bffe-44d7-904d-9f639daafdcb"
      },
      "source": [
        "tim + john"
      ],
      "execution_count": 51,
      "outputs": [
        {
          "output_type": "execute_result",
          "data": {
            "text/plain": [
              "110000"
            ]
          },
          "metadata": {
            "tags": []
          },
          "execution_count": 51
        }
      ]
    },
    {
      "cell_type": "markdown",
      "metadata": {
        "id": "M-KQWfvy7xCF",
        "colab_type": "text"
      },
      "source": [
        ".. it may not make much sense to add two salleries, the the concept of operator overloading is demonstrated."
      ]
    },
    {
      "cell_type": "markdown",
      "metadata": {
        "id": "YI8E4Ayy89Ve",
        "colab_type": "text"
      },
      "source": [
        "## overloading the build-in `len()` "
      ]
    },
    {
      "cell_type": "code",
      "metadata": {
        "id": "rblLx16K7v_I",
        "colab_type": "code",
        "colab": {
          "base_uri": "https://localhost:8080/",
          "height": 33
        },
        "outputId": "4f598f1a-974d-4329-9cbd-6005f090da54"
      },
      "source": [
        "numbers = [3, 45, 33, 9, 11]\n",
        "len(numbers)"
      ],
      "execution_count": 52,
      "outputs": [
        {
          "output_type": "execute_result",
          "data": {
            "text/plain": [
              "5"
            ]
          },
          "metadata": {
            "tags": []
          },
          "execution_count": 52
        }
      ]
    },
    {
      "cell_type": "markdown",
      "metadata": {
        "id": "X7k2xA9O9rd4",
        "colab_type": "text"
      },
      "source": [
        ".. is the same as:"
      ]
    },
    {
      "cell_type": "code",
      "metadata": {
        "id": "oJh2Zc787v61",
        "colab_type": "code",
        "colab": {
          "base_uri": "https://localhost:8080/",
          "height": 33
        },
        "outputId": "87f4ee0c-52e7-41f3-f585-902204a21a1c"
      },
      "source": [
        "list.__len__(numbers)"
      ],
      "execution_count": 53,
      "outputs": [
        {
          "output_type": "execute_result",
          "data": {
            "text/plain": [
              "5"
            ]
          },
          "metadata": {
            "tags": []
          },
          "execution_count": 53
        }
      ]
    },
    {
      "cell_type": "markdown",
      "metadata": {
        "id": "9U5oKQ1h9vpW",
        "colab_type": "text"
      },
      "source": [
        "### Exercise - custom `__len__` method"
      ]
    },
    {
      "cell_type": "markdown",
      "metadata": {
        "id": "cGqwKO1699XO",
        "colab_type": "text"
      },
      "source": [
        "Implement a custom `__len__` method that returns the number of characters of the employee's email.\n",
        "#### Solution"
      ]
    },
    {
      "cell_type": "code",
      "metadata": {
        "id": "0_6Q9-Kd-Jaf",
        "colab_type": "code",
        "colab": {}
      },
      "source": [
        "class Employee:\n",
        "\n",
        "    raise_factor = 1.04             \n",
        "\n",
        "    def __init__(self, first, last, pay):\n",
        "        self.first = first\n",
        "        self.last = last\n",
        "        self.email = first + '.' + last + '@email.com'\n",
        "        self.pay = pay\n",
        "\n",
        "    def __str__(self):\n",
        "        s = self.first + \" \" + self.last + \", \" + self.email\n",
        "        s += \", \" + str(self.pay) + \"€\"\n",
        "        return s\n",
        "\n",
        "    def apply_raise(self):                  \n",
        "        self.pay *= Employee.raise_factor\n",
        "\n",
        "    def __len__(self):\n",
        "        return len(self.email)"
      ],
      "execution_count": 0,
      "outputs": []
    },
    {
      "cell_type": "code",
      "metadata": {
        "id": "4aDlFXTI-VV3",
        "colab_type": "code",
        "colab": {}
      },
      "source": [
        "tim = Employee(\"Tim\", \"Cook\", 50000)    \n",
        "john = Employee(\"John\", \"Doe\", 60000)"
      ],
      "execution_count": 0,
      "outputs": []
    },
    {
      "cell_type": "code",
      "metadata": {
        "id": "9BdmOhpA-Xhh",
        "colab_type": "code",
        "colab": {
          "base_uri": "https://localhost:8080/",
          "height": 50
        },
        "outputId": "2aef1f9d-4311-4a14-e1ea-3b6e9facd34b"
      },
      "source": [
        "for employee in (tim, john):\n",
        "    print(\"{}, {} characters\".format(employee, len(employee)))"
      ],
      "execution_count": 56,
      "outputs": [
        {
          "output_type": "stream",
          "text": [
            "Tim Cook, Tim.Cook@email.com, 50000€, 18 characters\n",
            "John Doe, John.Doe@email.com, 60000€, 18 characters\n"
          ],
          "name": "stdout"
        }
      ]
    },
    {
      "cell_type": "markdown",
      "metadata": {
        "id": "dHZF1uE5BfKN",
        "colab_type": "text"
      },
      "source": [
        "## Comparison operators\n"
      ]
    },
    {
      "cell_type": "code",
      "metadata": {
        "id": "QJU5Dftt_q61",
        "colab_type": "code",
        "colab": {
          "base_uri": "https://localhost:8080/",
          "height": 161
        },
        "outputId": "4c7381cc-e231-4f88-9acb-6bb2089847f8"
      },
      "source": [
        "tim >= john"
      ],
      "execution_count": 58,
      "outputs": [
        {
          "output_type": "error",
          "ename": "TypeError",
          "evalue": "ignored",
          "traceback": [
            "\u001b[0;31m---------------------------------------------------------------------------\u001b[0m",
            "\u001b[0;31mTypeError\u001b[0m                                 Traceback (most recent call last)",
            "\u001b[0;32m<ipython-input-58-eb954e1ab976>\u001b[0m in \u001b[0;36m<module>\u001b[0;34m()\u001b[0m\n\u001b[0;32m----> 1\u001b[0;31m \u001b[0mtim\u001b[0m \u001b[0;34m>=\u001b[0m \u001b[0mjohn\u001b[0m\u001b[0;34m\u001b[0m\u001b[0;34m\u001b[0m\u001b[0m\n\u001b[0m",
            "\u001b[0;31mTypeError\u001b[0m: '>=' not supported between instances of 'Employee' and 'Employee'"
          ]
        }
      ]
    },
    {
      "cell_type": "markdown",
      "metadata": {
        "id": "dosCBwUB_6M5",
        "colab_type": "text"
      },
      "source": [
        "The special methods for comparisons in Python are the following:\n",
        "- `__lt__` for `<`\n",
        "- `__le__` for `<=`\n",
        "- `__gt__` for `>`\n",
        "- `__ge__` for `>=`\n",
        "- `__eq__` for `==`\n",
        "- `__ne__` for `!=`\n",
        "\n",
        "Implementing those methods is also required for sorting:"
      ]
    },
    {
      "cell_type": "code",
      "metadata": {
        "id": "pgrvL5vqBXZg",
        "colab_type": "code",
        "colab": {
          "base_uri": "https://localhost:8080/",
          "height": 161
        },
        "outputId": "76de7be0-abb5-4529-cb1c-1b965be9ff6c"
      },
      "source": [
        "sorted([tim, john])"
      ],
      "execution_count": 60,
      "outputs": [
        {
          "output_type": "error",
          "ename": "TypeError",
          "evalue": "ignored",
          "traceback": [
            "\u001b[0;31m---------------------------------------------------------------------------\u001b[0m",
            "\u001b[0;31mTypeError\u001b[0m                                 Traceback (most recent call last)",
            "\u001b[0;32m<ipython-input-60-fc9168f066f2>\u001b[0m in \u001b[0;36m<module>\u001b[0;34m()\u001b[0m\n\u001b[0;32m----> 1\u001b[0;31m \u001b[0msorted\u001b[0m\u001b[0;34m(\u001b[0m\u001b[0;34m[\u001b[0m\u001b[0mtim\u001b[0m\u001b[0;34m,\u001b[0m \u001b[0mjohn\u001b[0m\u001b[0;34m]\u001b[0m\u001b[0;34m)\u001b[0m\u001b[0;34m\u001b[0m\u001b[0;34m\u001b[0m\u001b[0m\n\u001b[0m",
            "\u001b[0;31mTypeError\u001b[0m: '<' not supported between instances of 'Employee' and 'Employee'"
          ]
        }
      ]
    }
  ]
}