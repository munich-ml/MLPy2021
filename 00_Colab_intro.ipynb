{
  "nbformat": 4,
  "nbformat_minor": 0,
  "metadata": {
    "colab": {
      "name": "00_Colab_intro.ipynb",
      "provenance": [],
      "collapsed_sections": [],
      "toc_visible": true,
      "authorship_tag": "ABX9TyNdjHAb7D/VshwnR0XMsNJq",
      "include_colab_link": true
    },
    "kernelspec": {
      "name": "python3",
      "display_name": "Python 3"
    }
  },
  "cells": [
    {
      "cell_type": "markdown",
      "metadata": {
        "id": "view-in-github",
        "colab_type": "text"
      },
      "source": [
        "<a href=\"https://colab.research.google.com/github/munich-ml/MLPy2021/blob/main/00_Colab_intro.ipynb\" target=\"_parent\"><img src=\"https://colab.research.google.com/assets/colab-badge.svg\" alt=\"Open In Colab\"/></a>"
      ]
    },
    {
      "cell_type": "markdown",
      "metadata": {
        "id": "QUTlfg6jbu51"
      },
      "source": [
        "# Google Colab\n",
        "- **Colab** (Google Collaboratory) executes **Jupyter Notebooks** (`.ipynb` extension)\n",
        "- The notebooks consitst of **cells**, like \n",
        "> - **text cells** containing **Markdown text**, and\n",
        "> - **`code cells`** containing e.g. **`Python code`** or **`system commands`** \n",
        "\n",
        "- some important **shortcuts**:\n",
        ">- **`Ctrl`+`Shift`+`p`** opens the *command palette*\n",
        ">- **`Ctrl`+`Enter`** runs the cell \n",
        ">- **`Shift`+`Enter`** runs the cell and moves focus to the next cell \n",
        ">- **`Alt`+`Enter`** runs the cell and inserts a new code cell below\n",
        "\n",
        "\n",
        "\n",
        "\n",
        "\n"
      ]
    },
    {
      "cell_type": "markdown",
      "metadata": {
        "id": "M0wEEmS8LBgH"
      },
      "source": [
        "# first `Python code`"
      ]
    },
    {
      "cell_type": "code",
      "metadata": {
        "id": "v5p5K6hWXnIa",
        "colab": {
          "base_uri": "https://localhost:8080/"
        },
        "outputId": "b297a21e-c784-4fed-8bb6-5eb635f63e6d"
      },
      "source": [
        "message = \"Hello world\"\n",
        "print(message)"
      ],
      "execution_count": 2,
      "outputs": [
        {
          "output_type": "stream",
          "text": [
            "Hello world\n"
          ],
          "name": "stdout"
        }
      ]
    },
    {
      "cell_type": "markdown",
      "metadata": {
        "id": "4xmJaN2XZ2TH"
      },
      "source": [
        "Jupyter automatically prints the return value of the last line, thus `print` could be omitted."
      ]
    },
    {
      "cell_type": "code",
      "metadata": {
        "id": "K_Kt7oRyaCzp",
        "colab": {
          "base_uri": "https://localhost:8080/",
          "height": 35
        },
        "outputId": "1a877601-8f58-471f-d115-75eb44986994"
      },
      "source": [
        "message"
      ],
      "execution_count": 3,
      "outputs": [
        {
          "output_type": "execute_result",
          "data": {
            "application/vnd.google.colaboratory.intrinsic+json": {
              "type": "string"
            },
            "text/plain": [
              "'Hello world'"
            ]
          },
          "metadata": {
            "tags": []
          },
          "execution_count": 3
        }
      ]
    },
    {
      "cell_type": "code",
      "metadata": {
        "id": "dog855tp_CVS",
        "colab": {
          "base_uri": "https://localhost:8080/"
        },
        "outputId": "94ea5759-dbaa-42a5-a5f7-5a69ab5b2799"
      },
      "source": [
        "type(message)"
      ],
      "execution_count": 4,
      "outputs": [
        {
          "output_type": "execute_result",
          "data": {
            "text/plain": [
              "str"
            ]
          },
          "metadata": {
            "tags": []
          },
          "execution_count": 4
        }
      ]
    },
    {
      "cell_type": "markdown",
      "metadata": {
        "id": "W25gLOnQZO7Z"
      },
      "source": [
        "Strings start and end with `\"` or `'` and multiline strings with `\"\"\"` or `'''`\n",
        "\n"
      ]
    },
    {
      "cell_type": "code",
      "metadata": {
        "id": "iSy1vvMrwGLi",
        "outputId": "a171a740-443a-476e-b12a-84b5d88270c2",
        "colab": {
          "base_uri": "https://localhost:8080/",
          "height": 35
        }
      },
      "source": [
        "\"this is a string\""
      ],
      "execution_count": 5,
      "outputs": [
        {
          "output_type": "execute_result",
          "data": {
            "application/vnd.google.colaboratory.intrinsic+json": {
              "type": "string"
            },
            "text/plain": [
              "'this is a string'"
            ]
          },
          "metadata": {
            "tags": []
          },
          "execution_count": 5
        }
      ]
    },
    {
      "cell_type": "code",
      "metadata": {
        "id": "0Uzb1c90wNpc",
        "outputId": "b43f7020-1fb9-411c-c37c-5c022d23e0ab",
        "colab": {
          "base_uri": "https://localhost:8080/",
          "height": 35
        }
      },
      "source": [
        "'this is a \"str\", too'"
      ],
      "execution_count": 6,
      "outputs": [
        {
          "output_type": "execute_result",
          "data": {
            "application/vnd.google.colaboratory.intrinsic+json": {
              "type": "string"
            },
            "text/plain": [
              "'this is a \"str\", too'"
            ]
          },
          "metadata": {
            "tags": []
          },
          "execution_count": 6
        }
      ]
    },
    {
      "cell_type": "markdown",
      "metadata": {
        "id": "TrMRoio9wbFa"
      },
      "source": [
        "Python can also compute numbers:"
      ]
    },
    {
      "cell_type": "code",
      "metadata": {
        "id": "pMlL_0BH_GGU"
      },
      "source": [
        "a = 5 * 3.1"
      ],
      "execution_count": 7,
      "outputs": []
    },
    {
      "cell_type": "code",
      "metadata": {
        "id": "jwL_IJqg_VBm",
        "colab": {
          "base_uri": "https://localhost:8080/"
        },
        "outputId": "80b74bbc-2b19-4807-a79e-8d2d8c26654f"
      },
      "source": [
        "print(\"a:\", type(a), a)"
      ],
      "execution_count": 8,
      "outputs": [
        {
          "output_type": "stream",
          "text": [
            "a: <class 'float'> 15.5\n"
          ],
          "name": "stdout"
        }
      ]
    },
    {
      "cell_type": "markdown",
      "metadata": {
        "id": "8rBzh7J7mitN"
      },
      "source": [
        "# Markdown text"
      ]
    },
    {
      "cell_type": "markdown",
      "metadata": {
        "id": "3CUu-k3B1vm9"
      },
      "source": [
        "[Markdown on wiki](https://de.wikipedia.org/wiki/Markdown)\n"
      ]
    },
    {
      "cell_type": "markdown",
      "metadata": {
        "id": "crDpRnkEjjhV"
      },
      "source": [
        "### Styles\n",
        "\\**italics*\\* or \\__italics\\__\n",
        "\n",
        "**\\*\\*bold\\*\\*** or __\\_\\_bold\\_\\___\n",
        "\n",
        "\\~\\~~~strikethrough~~\\~\\~\n",
        "\n",
        "\\``monospace`\\`"
      ]
    },
    {
      "cell_type": "markdown",
      "metadata": {
        "id": "WfP8vEICi17g"
      },
      "source": [
        "### Indentation\n",
        "No indent\n",
        ">\\>One level of indentation\n",
        ">>\\>\\>Two levels of indentation\n",
        "\n"
      ]
    },
    {
      "cell_type": "markdown",
      "metadata": {
        "id": "OzJpIcJci43z"
      },
      "source": [
        "### Lists\n",
        "- One\n",
        "- Two\n",
        "\n"
      ]
    },
    {
      "cell_type": "markdown",
      "metadata": {
        "id": "tOYOeDmwi95c"
      },
      "source": [
        "\n",
        "### Links\n",
        "- A naked URL: https://google.com\n",
        "- Linked URL: \\[[Colaboratory](https://research.google.com/colaboratory)]\n",
        "- An inline image: ![https://colab.research.google.com/assets/colab-badge.svg](https://colab.research.google.com/assets/colab-badge.svg)\n",
        "\n"
      ]
    },
    {
      "cell_type": "markdown",
      "metadata": {
        "id": "tFQ9i5kCjLJA"
      },
      "source": [
        "### Equations\n",
        "\n",
        "$y=x^2$\n",
        "\n",
        "$e^{i\\pi} + \\sqrt{1} = 0$\n",
        "\n",
        "$e^x=\\sum_{i=0}^\\infty \\frac{1}{i!}x^i$\n",
        "\n",
        "$\\frac{n!}{k!(n-k)!} = {n \\choose k}$\n",
        "\n",
        "$A_{m,n} =\n",
        " \\begin{pmatrix}\n",
        "  a_{1,1} & a_{1,2} & \\cdots & a_{1,n} \\\\\n",
        "  a_{2,1} & a_{2,2} & \\cdots & a_{2,n} \\\\\n",
        "  \\vdots  & \\vdots  & \\ddots & \\vdots  \\\\\n",
        "  a_{m,1} & a_{m,2} & \\cdots & a_{m,n}\n",
        " \\end{pmatrix}$\n",
        "\n"
      ]
    },
    {
      "cell_type": "markdown",
      "metadata": {
        "id": "g6d5qUKIjN6d"
      },
      "source": [
        "### Tables\n",
        "First column name | Second column name\n",
        "--- | ---\n",
        "Row 1, Col 1 | Row 1, Col 2\n",
        "Row 2, Col 1 | Row 2, Col 2\n",
        "\n",
        "\n",
        "\n",
        "\n"
      ]
    },
    {
      "cell_type": "markdown",
      "metadata": {
        "id": "iwLlBFOE6SC3"
      },
      "source": [
        "# Shell commands"
      ]
    },
    {
      "cell_type": "markdown",
      "metadata": {
        "id": "5Buq3cj-hIbL"
      },
      "source": [
        "**Shell commands** can be executed directly from the Colab / \n",
        "IPython terminal. Anything appearing after ! on a line will be executed not by the Python kernel, but by the system command-line."
      ]
    },
    {
      "cell_type": "code",
      "metadata": {
        "id": "tl8GvRUQeXaG",
        "colab": {
          "base_uri": "https://localhost:8080/"
        },
        "outputId": "68ddff92-1aab-4782-835e-b283912c6523"
      },
      "source": [
        "!pwd"
      ],
      "execution_count": 10,
      "outputs": [
        {
          "output_type": "stream",
          "text": [
            "/content\n"
          ],
          "name": "stdout"
        }
      ]
    },
    {
      "cell_type": "code",
      "metadata": {
        "id": "FJH4ghOCeeTB",
        "colab": {
          "base_uri": "https://localhost:8080/"
        },
        "outputId": "ce4139b5-1b50-415c-dec6-ff3c80c52d30"
      },
      "source": [
        "!ls"
      ],
      "execution_count": 14,
      "outputs": [
        {
          "output_type": "stream",
          "text": [
            "sample_data\n"
          ],
          "name": "stdout"
        }
      ]
    },
    {
      "cell_type": "markdown",
      "metadata": {
        "id": "PqKtoLitlk1e"
      },
      "source": [
        "## GIT clone"
      ]
    },
    {
      "cell_type": "code",
      "metadata": {
        "id": "gH4_FtS78PHs",
        "colab": {
          "base_uri": "https://localhost:8080/"
        },
        "outputId": "8e62e8ba-4c9c-4a3c-fba7-dc17f1dc5284"
      },
      "source": [
        "!git clone https://github.com/munich-ml/MLPy2021/"
      ],
      "execution_count": 16,
      "outputs": [
        {
          "output_type": "stream",
          "text": [
            "Cloning into 'MLPy2021'...\n",
            "remote: Enumerating objects: 9, done.\u001b[K\n",
            "remote: Counting objects: 100% (9/9), done.\u001b[K\n",
            "remote: Compressing objects: 100% (8/8), done.\u001b[K\n",
            "remote: Total 9 (delta 0), reused 3 (delta 0), pack-reused 0\u001b[K\n",
            "Unpacking objects: 100% (9/9), done.\n"
          ],
          "name": "stdout"
        }
      ]
    },
    {
      "cell_type": "code",
      "metadata": {
        "id": "xEMw30TxenxJ",
        "colab": {
          "base_uri": "https://localhost:8080/"
        },
        "outputId": "583ea333-272d-473f-d0c8-eee1d49769f8"
      },
      "source": [
        "!ls"
      ],
      "execution_count": 17,
      "outputs": [
        {
          "output_type": "stream",
          "text": [
            "MLPy2021  sample_data\n"
          ],
          "name": "stdout"
        }
      ]
    }
  ]
}
