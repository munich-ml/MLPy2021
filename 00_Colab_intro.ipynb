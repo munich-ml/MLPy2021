{
  "nbformat": 4,
  "nbformat_minor": 0,
  "metadata": {
    "colab": {
      "name": "00_Colab_intro.ipynb",
      "provenance": [],
      "collapsed_sections": [],
      "toc_visible": true,
      "authorship_tag": "ABX9TyNdjHAb7D/VshwnR0XMsNJq",
      "include_colab_link": true
    },
    "kernelspec": {
      "name": "python3",
      "display_name": "Python 3"
    }
  },
  "cells": [
    {
      "cell_type": "markdown",
      "metadata": {
        "id": "view-in-github",
        "colab_type": "text"
      },
      "source": [
        "<a href=\"https://colab.research.google.com/github/munich-ml/MLPy2021/blob/main/00_Colab_intro.ipynb\" target=\"_parent\"><img src=\"https://colab.research.google.com/assets/colab-badge.svg\" alt=\"Open In Colab\"/></a>"
      ]
    },
    {
      "cell_type": "markdown",
      "metadata": {
        "id": "QUTlfg6jbu51"
      },
      "source": [
        "# Google Colab\n",
        "- **Colab** (Google Collaboratory) executes **Jupyter Notebooks** (`.ipynb` extension)\n",
        "- The notebooks consitst of **cells**, like \n",
        "> - **text cells** containing **Markdown text**, and\n",
        "> - **`code cells`** containing e.g. **`Python code`** or **`system commands`** \n",
        "\n",
        "- some important **shortcuts**:\n",
        ">- **`Ctrl`+`Shift`+`p`** opens the *command palette*\n",
        ">- **`Ctrl`+`Enter`** runs the cell \n",
        ">- **`Shift`+`Enter`** runs the cell and moves focus to the next cell \n",
        ">- **`Alt`+`Enter`** runs the cell and inserts a new code cell below\n",
        "\n",
        "\n",
        "\n",
        "\n",
        "\n"
      ]
    },
    {
      "cell_type": "markdown",
      "metadata": {
        "id": "M0wEEmS8LBgH"
      },
      "source": [
        "# first `Python code`"
      ]
    },
    {
      "cell_type": "code",
      "metadata": {
        "id": "v5p5K6hWXnIa"
      },
      "source": [
        "message = \"Hello world\"\n",
        "print(message)"
      ],
      "execution_count": null,
      "outputs": []
    },
    {
      "cell_type": "markdown",
      "metadata": {
        "id": "4xmJaN2XZ2TH"
      },
      "source": [
        "Jupyter automatically prints the return value of the last line, thus `print` could be omitted."
      ]
    },
    {
      "cell_type": "code",
      "metadata": {
        "id": "K_Kt7oRyaCzp"
      },
      "source": [
        "message"
      ],
      "execution_count": null,
      "outputs": []
    },
    {
      "cell_type": "code",
      "metadata": {
        "id": "dog855tp_CVS"
      },
      "source": [
        "type(message)"
      ],
      "execution_count": null,
      "outputs": []
    },
    {
      "cell_type": "markdown",
      "metadata": {
        "id": "W25gLOnQZO7Z"
      },
      "source": [
        "Strings start and end with `\"` or `'` and multiline strings with `\"\"\"` or `'''`\n",
        "\n"
      ]
    },
    {
      "cell_type": "code",
      "metadata": {
        "id": "iSy1vvMrwGLi"
      },
      "source": [
        "\"this is a string\""
      ],
      "execution_count": null,
      "outputs": []
    },
    {
      "cell_type": "code",
      "metadata": {
        "id": "0Uzb1c90wNpc"
      },
      "source": [
        "'this is a \"str\", too'"
      ],
      "execution_count": null,
      "outputs": []
    },
    {
      "cell_type": "markdown",
      "metadata": {
        "id": "TrMRoio9wbFa"
      },
      "source": [
        "Python can also compute numbers:"
      ]
    },
    {
      "cell_type": "code",
      "metadata": {
        "id": "pMlL_0BH_GGU"
      },
      "source": [
        "a = 5 * 3.1"
      ],
      "execution_count": null,
      "outputs": []
    },
    {
      "cell_type": "code",
      "metadata": {
        "id": "jwL_IJqg_VBm"
      },
      "source": [
        "print(\"a:\", type(a), a)"
      ],
      "execution_count": null,
      "outputs": []
    },
    {
      "cell_type": "markdown",
      "metadata": {
        "id": "8rBzh7J7mitN"
      },
      "source": [
        "# Markdown text"
      ]
    },
    {
      "cell_type": "markdown",
      "metadata": {
        "id": "3CUu-k3B1vm9"
      },
      "source": [
        "[Markdown on wiki](https://de.wikipedia.org/wiki/Markdown)\n"
      ]
    },
    {
      "cell_type": "markdown",
      "metadata": {
        "id": "crDpRnkEjjhV"
      },
      "source": [
        "### Styles\n",
        "\\**italics*\\* or \\__italics\\__\n",
        "\n",
        "**\\*\\*bold\\*\\*** or __\\_\\_bold\\_\\___\n",
        "\n",
        "\\~\\~~~strikethrough~~\\~\\~\n",
        "\n",
        "\\``monospace`\\`"
      ]
    },
    {
      "cell_type": "markdown",
      "metadata": {
        "id": "WfP8vEICi17g"
      },
      "source": [
        "### Indentation\n",
        "No indent\n",
        ">\\>One level of indentation\n",
        ">>\\>\\>Two levels of indentation\n",
        "\n"
      ]
    },
    {
      "cell_type": "markdown",
      "metadata": {
        "id": "OzJpIcJci43z"
      },
      "source": [
        "### Lists\n",
        "- One\n",
        "- Two\n",
        "\n"
      ]
    },
    {
      "cell_type": "markdown",
      "metadata": {
        "id": "tOYOeDmwi95c"
      },
      "source": [
        "\n",
        "### Links\n",
        "- A naked URL: https://google.com\n",
        "- Linked URL: \\[[Colaboratory](https://research.google.com/colaboratory)]\n",
        "- An inline image: ![https://colab.research.google.com/assets/colab-badge.svg](https://colab.research.google.com/assets/colab-badge.svg)\n",
        "\n"
      ]
    },
    {
      "cell_type": "markdown",
      "metadata": {
        "id": "tFQ9i5kCjLJA"
      },
      "source": [
        "### Equations\n",
        "\n",
        "$y=x^2$\n",
        "\n",
        "$e^{i\\pi} + \\sqrt{1} = 0$\n",
        "\n",
        "$e^x=\\sum_{i=0}^\\infty \\frac{1}{i!}x^i$\n",
        "\n",
        "$\\frac{n!}{k!(n-k)!} = {n \\choose k}$\n",
        "\n",
        "$A_{m,n} =\n",
        " \\begin{pmatrix}\n",
        "  a_{1,1} & a_{1,2} & \\cdots & a_{1,n} \\\\\n",
        "  a_{2,1} & a_{2,2} & \\cdots & a_{2,n} \\\\\n",
        "  \\vdots  & \\vdots  & \\ddots & \\vdots  \\\\\n",
        "  a_{m,1} & a_{m,2} & \\cdots & a_{m,n}\n",
        " \\end{pmatrix}$\n",
        "\n"
      ]
    },
    {
      "cell_type": "markdown",
      "metadata": {
        "id": "g6d5qUKIjN6d"
      },
      "source": [
        "### Tables\n",
        "First column name | Second column name\n",
        "--- | ---\n",
        "Row 1, Col 1 | Row 1, Col 2\n",
        "Row 2, Col 1 | Row 2, Col 2\n",
        "\n",
        "\n",
        "\n",
        "\n"
      ]
    },
    {
      "cell_type": "markdown",
      "metadata": {
        "id": "iwLlBFOE6SC3"
      },
      "source": [
        "# Shell commands"
      ]
    },
    {
      "cell_type": "markdown",
      "metadata": {
        "id": "5Buq3cj-hIbL"
      },
      "source": [
        "**Shell commands** can be executed directly from the Colab / \n",
        "IPython terminal. Anything appearing after ! on a line will be executed not by the Python kernel, but by the system command-line."
      ]
    },
    {
      "cell_type": "code",
      "metadata": {
        "id": "tl8GvRUQeXaG"
      },
      "source": [
        "!pwd"
      ],
      "execution_count": null,
      "outputs": []
    },
    {
      "cell_type": "code",
      "metadata": {
        "id": "FJH4ghOCeeTB"
      },
      "source": [
        "!ls"
      ],
      "execution_count": null,
      "outputs": []
    },
    {
      "cell_type": "markdown",
      "metadata": {
        "id": "PqKtoLitlk1e"
      },
      "source": [
        "## GIT clone"
      ]
    },
    {
      "cell_type": "code",
      "metadata": {
        "id": "gH4_FtS78PHs"
      },
      "source": [
        "!git clone https://github.com/munich-ml/MLPy2021/"
      ],
      "execution_count": null,
      "outputs": []
    },
    {
      "cell_type": "code",
      "metadata": {
        "id": "xEMw30TxenxJ"
      },
      "source": [
        "!ls"
      ],
      "execution_count": null,
      "outputs": []
    }
  ]
}