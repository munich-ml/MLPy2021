{
  "nbformat": 4,
  "nbformat_minor": 0,
  "metadata": {
    "colab": {
      "name": "__misc.ipynb",
      "provenance": [],
      "collapsed_sections": [],
      "toc_visible": true,
      "authorship_tag": "ABX9TyO01yILhqwV8emspRrkqiPS"
    },
    "kernelspec": {
      "name": "python3",
      "display_name": "Python 3"
    }
  },
  "cells": [
    {
      "cell_type": "markdown",
      "metadata": {
        "id": "Nm_MRtcEpF3D"
      },
      "source": [
        "# Python basics"
      ]
    },
    {
      "cell_type": "markdown",
      "metadata": {
        "id": "vNZpqbRjACbi"
      },
      "source": [
        "## Fibunacci recursion exercise"
      ]
    },
    {
      "cell_type": "markdown",
      "metadata": {
        "id": "hX-N3NBkAHRf"
      },
      "source": [
        "\n",
        "Write a function `calc_fibunacci(z)` that returns the Fibunacci number for the input z. \n",
        "\n",
        "Here is how you calculate Fibunacci numbers:\n",
        "- `Fibunacci(z) = `\n",
        "> - `1, if z==0` \n",
        "> - `1, if z==1` \n",
        "> - `Fibunacci(z-2) + Fibunacci(z-1), else`  \n",
        "\n",
        "\n"
      ]
    },
    {
      "cell_type": "markdown",
      "metadata": {
        "id": "Qa4Csn2FGXK6"
      },
      "source": [
        "### Recursive solution"
      ]
    },
    {
      "cell_type": "code",
      "metadata": {
        "id": "VxzLe403Ayzs"
      },
      "source": [
        "def calc_fibunacci(z):\n",
        "    \"\"\"\n",
        "    Return the <int> fibunacci number of the input <int> z\n",
        "    \"\"\"\n",
        "    if z in (0, 1):\n",
        "        return 1\n",
        "\n",
        "    return calc_fibunacci(z-2) + calc_fibunacci(z-1)"
      ],
      "execution_count": null,
      "outputs": []
    },
    {
      "cell_type": "code",
      "metadata": {
        "id": "COntkr-aA_6d",
        "colab": {
          "base_uri": "https://localhost:8080/"
        },
        "outputId": "799ed55b-09b7-4efc-b70c-255a35f10517"
      },
      "source": [
        "import time\n",
        "for i in range(30):\n",
        "    t0 = time.time()\n",
        "    fib = calc_fibunacci(i)\n",
        "    t = time.time()-t0\n",
        "    print(\"fibunacci({})={}, {:.1f}ms\".format(i, fib, t*1E3))"
      ],
      "execution_count": null,
      "outputs": [
        {
          "output_type": "stream",
          "text": [
            "fibunacci(0)=1, 0.0ms\n",
            "fibunacci(1)=1, 0.0ms\n",
            "fibunacci(2)=2, 0.0ms\n",
            "fibunacci(3)=3, 0.0ms\n",
            "fibunacci(4)=5, 0.0ms\n",
            "fibunacci(5)=8, 0.0ms\n",
            "fibunacci(6)=13, 0.0ms\n",
            "fibunacci(7)=21, 0.0ms\n",
            "fibunacci(8)=34, 0.0ms\n",
            "fibunacci(9)=55, 0.0ms\n",
            "fibunacci(10)=89, 0.0ms\n",
            "fibunacci(11)=144, 0.1ms\n",
            "fibunacci(12)=233, 0.1ms\n",
            "fibunacci(13)=377, 0.1ms\n",
            "fibunacci(14)=610, 0.3ms\n",
            "fibunacci(15)=987, 0.4ms\n",
            "fibunacci(16)=1597, 1.0ms\n",
            "fibunacci(17)=2584, 1.0ms\n",
            "fibunacci(18)=4181, 1.2ms\n",
            "fibunacci(19)=6765, 2.2ms\n",
            "fibunacci(20)=10946, 3.2ms\n",
            "fibunacci(21)=17711, 5.6ms\n",
            "fibunacci(22)=28657, 7.6ms\n",
            "fibunacci(23)=46368, 12.3ms\n",
            "fibunacci(24)=75025, 20.2ms\n",
            "fibunacci(25)=121393, 31.3ms\n",
            "fibunacci(26)=196418, 49.1ms\n",
            "fibunacci(27)=317811, 86.1ms\n",
            "fibunacci(28)=514229, 130.1ms\n",
            "fibunacci(29)=832040, 222.6ms\n"
          ],
          "name": "stdout"
        }
      ]
    },
    {
      "cell_type": "markdown",
      "metadata": {
        "id": "n4YUrkUzFfpT"
      },
      "source": [
        "### Solution using `class` and `classmethod`"
      ]
    },
    {
      "cell_type": "code",
      "metadata": {
        "id": "FgueUUmBCr9t"
      },
      "source": [
        "class Fibunacci_calculator:\n",
        "    known_fibus = {0: 1, 1: 1}\n",
        "\n",
        "    @classmethod\n",
        "    def calc(cls, z):\n",
        "        if z in cls.known_fibus.keys():\n",
        "            return cls.known_fibus[z]\n",
        "\n",
        "        cls.known_fibus[z] = cls.calc(z-2) + cls.calc(z-1)\n",
        "        return cls.known_fibus[z]"
      ],
      "execution_count": null,
      "outputs": []
    },
    {
      "cell_type": "code",
      "metadata": {
        "id": "wQ-MWS5TDvrY",
        "colab": {
          "base_uri": "https://localhost:8080/"
        },
        "outputId": "2bff70de-adde-4512-dc3b-17a588bd6d20"
      },
      "source": [
        "for i in range(30):\n",
        "    t0 = time.time()\n",
        "    fib = Fibunacci_calculator.calc(i)\n",
        "    t = time.time()-t0\n",
        "    print(\"fibunacci({})={}, {:.1f}ms\".format(i, fib, t*1E3))\n"
      ],
      "execution_count": null,
      "outputs": [
        {
          "output_type": "stream",
          "text": [
            "fibunacci(0)=1, 0.0ms\n",
            "fibunacci(1)=1, 0.0ms\n",
            "fibunacci(2)=2, 0.0ms\n",
            "fibunacci(3)=3, 0.0ms\n",
            "fibunacci(4)=5, 0.0ms\n",
            "fibunacci(5)=8, 0.0ms\n",
            "fibunacci(6)=13, 0.0ms\n",
            "fibunacci(7)=21, 0.0ms\n",
            "fibunacci(8)=34, 0.0ms\n",
            "fibunacci(9)=55, 0.0ms\n",
            "fibunacci(10)=89, 0.0ms\n",
            "fibunacci(11)=144, 0.0ms\n",
            "fibunacci(12)=233, 0.0ms\n",
            "fibunacci(13)=377, 0.0ms\n",
            "fibunacci(14)=610, 0.0ms\n",
            "fibunacci(15)=987, 0.0ms\n",
            "fibunacci(16)=1597, 0.0ms\n",
            "fibunacci(17)=2584, 0.0ms\n",
            "fibunacci(18)=4181, 0.0ms\n",
            "fibunacci(19)=6765, 0.0ms\n",
            "fibunacci(20)=10946, 0.0ms\n",
            "fibunacci(21)=17711, 0.0ms\n",
            "fibunacci(22)=28657, 0.0ms\n",
            "fibunacci(23)=46368, 0.0ms\n",
            "fibunacci(24)=75025, 0.0ms\n",
            "fibunacci(25)=121393, 0.0ms\n",
            "fibunacci(26)=196418, 0.0ms\n",
            "fibunacci(27)=317811, 0.0ms\n",
            "fibunacci(28)=514229, 0.0ms\n",
            "fibunacci(29)=832040, 0.0ms\n"
          ],
          "name": "stdout"
        }
      ]
    },
    {
      "cell_type": "markdown",
      "metadata": {
        "id": "orXxANrepJ-A"
      },
      "source": [
        "## Mutable vs. immutable Python objects\n",
        "Immutable objects can't be changes **in place**, once they are generated.\n",
        "- immutable python objects are `int`, `str`, `bool`, `tuple`,..\n",
        "- mutable python objects are `list`, `dict`, `set`,.."
      ]
    },
    {
      "cell_type": "code",
      "metadata": {
        "id": "eW7lyUQYeTUX"
      },
      "source": [
        "# helper function \n",
        "def print_var(var):\n",
        "    print(\"var '{}' of type '{}' stored in memory at {}\".format(var, type(var).__name__, id(var)))"
      ],
      "execution_count": null,
      "outputs": []
    },
    {
      "cell_type": "code",
      "metadata": {
        "id": "aMXGsqDwpHyu",
        "colab": {
          "base_uri": "https://localhost:8080/",
          "height": 34
        },
        "outputId": "318c8d20-ff2d-4a3d-aa79-aa85602d5a0e"
      },
      "source": [
        "var = 5\n",
        "print_var(var)"
      ],
      "execution_count": null,
      "outputs": [
        {
          "output_type": "stream",
          "text": [
            "var '5' of type 'int' stored in memory at 10914624\n"
          ],
          "name": "stdout"
        }
      ]
    },
    {
      "cell_type": "code",
      "metadata": {
        "id": "r-gFQwRgq0v1",
        "colab": {
          "base_uri": "https://localhost:8080/",
          "height": 34
        },
        "outputId": "47020143-d44c-4799-aed0-8155085fcee1"
      },
      "source": [
        "var += 1\n",
        "print_var(var)"
      ],
      "execution_count": null,
      "outputs": [
        {
          "output_type": "stream",
          "text": [
            "var '6' of type 'int' stored in memory at 10914656\n"
          ],
          "name": "stdout"
        }
      ]
    },
    {
      "cell_type": "markdown",
      "metadata": {
        "id": "TeNe0JEDrLq8"
      },
      "source": [
        "The memory address is different, because a new `int` has been created an assigned to `var`."
      ]
    },
    {
      "cell_type": "code",
      "metadata": {
        "id": "HD1CeTTjcudp",
        "colab": {
          "base_uri": "https://localhost:8080/",
          "height": 34
        },
        "outputId": "7f038fa9-2004-485a-da0b-12f72f3937de"
      },
      "source": [
        "var = [1, 2]\n",
        "print_var(var)"
      ],
      "execution_count": null,
      "outputs": [
        {
          "output_type": "stream",
          "text": [
            "var '[1, 2]' of type 'list' stored in memory at 140584714728904\n"
          ],
          "name": "stdout"
        }
      ]
    },
    {
      "cell_type": "code",
      "metadata": {
        "id": "GtUbTql2cud6",
        "colab": {
          "base_uri": "https://localhost:8080/",
          "height": 34
        },
        "outputId": "a4b63a2c-ec97-4517-84c5-cdb6e9de7a40"
      },
      "source": [
        "var.append(3)\n",
        "print_var(var)"
      ],
      "execution_count": null,
      "outputs": [
        {
          "output_type": "stream",
          "text": [
            "var '[1, 2, 3]' of type 'list' stored in memory at 140584714728904\n"
          ],
          "name": "stdout"
        }
      ]
    },
    {
      "cell_type": "markdown",
      "metadata": {
        "id": "od8PFMghHQxC"
      },
      "source": [
        "### Exercise on `==` and `is` operators\n",
        "- `a == b` asks whether the value of `a` is equals the value of `b`\n",
        "- `a is b` asks whether `a` is the same object as `b`\n"
      ]
    },
    {
      "cell_type": "code",
      "metadata": {
        "id": "65xHrqMkHnKm",
        "colab": {
          "base_uri": "https://localhost:8080/",
          "height": 101
        },
        "outputId": "f990d795-928c-456e-f0fe-67f2e46532cf"
      },
      "source": [
        "string_a = \"hi\"\n",
        "string_b = \"hi\"\n",
        "list_a = [1,2,3]\n",
        "list_b = [1,2,3]\n",
        "print(\"string_a == string_b returns '?'\")\n",
        "print(\"string_a is string_b returns '?'\\n\")\n",
        "print(\"list_a == list_b returns '?'\")\n",
        "print(\"list_a is list_b returns '?'\")"
      ],
      "execution_count": null,
      "outputs": [
        {
          "output_type": "stream",
          "text": [
            "string_a == string_b returns '?'\n",
            "string_a is string_b returns '?'\n",
            "\n",
            "list_a == list_b returns '?'\n",
            "list_a is list_b returns '?'\n"
          ],
          "name": "stdout"
        }
      ]
    },
    {
      "cell_type": "markdown",
      "metadata": {
        "id": "-3CaTqmcHCPz"
      },
      "source": [
        "#### Solution"
      ]
    },
    {
      "cell_type": "code",
      "metadata": {
        "id": "tHBKcV0xJ3r_",
        "colab": {
          "base_uri": "https://localhost:8080/",
          "height": 101
        },
        "outputId": "da35b001-6ea4-4d7d-ca01-8b1b1eeee0b0"
      },
      "source": [
        "print(\"string_a == string_b returns '{}'\".format(string_a == string_b))\n",
        "print(\"string_a is string_b returns '{}'\\n\".format(string_a is string_b))\n",
        "print(\"list_a == list_b returns '{}'\".format(list_a == list_b))\n",
        "print(\"list_a is list_b returns '{}'\".format(list_a is list_b))"
      ],
      "execution_count": null,
      "outputs": [
        {
          "output_type": "stream",
          "text": [
            "string_a == string_b returns 'True'\n",
            "string_a is string_b returns 'True'\n",
            "\n",
            "list_a == list_b returns 'True'\n",
            "list_a is list_b returns 'False'\n"
          ],
          "name": "stdout"
        }
      ]
    },
    {
      "cell_type": "markdown",
      "metadata": {
        "id": "r8YAaRFnGZcE"
      },
      "source": [
        "### Exercise with mutable and immutable function arguments"
      ]
    },
    {
      "cell_type": "markdown",
      "metadata": {
        "id": "zwF5gXQxQwKF"
      },
      "source": [
        "In Python, arguments are always passed to functions **by reference**, meaning the caller and the function share the same object."
      ]
    },
    {
      "cell_type": "code",
      "metadata": {
        "id": "BSQSCMpSKic4"
      },
      "source": [
        "def my_func(var):\n",
        "    \"\"\" function alters content of <list> or <bool> params \"\"\"\n",
        "    if type(var) == bool:\n",
        "        var = not(var)\n",
        "        print(\"my_func var = {}\".format(var))\n",
        "    elif type(var) == list:\n",
        "        del var[0]\n",
        "        var.append(\"my_func was executed\")\n",
        "        print(\"my_func var = {}\".format(var))\n",
        "    else:\n",
        "        raise TypeError(\"Type {} is not supported by {}\".format(type(var)))\n"
      ],
      "execution_count": null,
      "outputs": []
    },
    {
      "cell_type": "code",
      "metadata": {
        "id": "QbRZoqZLKiYU",
        "colab": {
          "base_uri": "https://localhost:8080/",
          "height": 50
        },
        "outputId": "6233d558-bbe4-4a01-9f62-7211abd0fd70"
      },
      "source": [
        "a_bool = True\n",
        "a_list = [1,2,3]\n",
        "my_func(a_bool)\n",
        "my_func(a_list)"
      ],
      "execution_count": null,
      "outputs": [
        {
          "output_type": "stream",
          "text": [
            "my_func var = False\n",
            "my_func var = [2, 3, 'my_func was executed']\n"
          ],
          "name": "stdout"
        }
      ]
    },
    {
      "cell_type": "markdown",
      "metadata": {
        "id": "Z7x8sF49OIHL"
      },
      "source": [
        "Question: What is the value of `a_bool` and `a_list` after executing `my_func`?"
      ]
    },
    {
      "cell_type": "markdown",
      "metadata": {
        "id": "2Ep0n7IZOXkN"
      },
      "source": [
        "#### Solution"
      ]
    },
    {
      "cell_type": "code",
      "metadata": {
        "id": "fFs0AaQ1KiVY",
        "colab": {
          "base_uri": "https://localhost:8080/",
          "height": 34
        },
        "outputId": "b7f4a3c1-9607-4343-abf6-3d23705cfced"
      },
      "source": [
        "a_bool"
      ],
      "execution_count": null,
      "outputs": [
        {
          "output_type": "execute_result",
          "data": {
            "text/plain": [
              "True"
            ]
          },
          "metadata": {
            "tags": []
          },
          "execution_count": 28
        }
      ]
    },
    {
      "cell_type": "code",
      "metadata": {
        "id": "cFt4JmMAOEcV",
        "colab": {
          "base_uri": "https://localhost:8080/",
          "height": 34
        },
        "outputId": "6f53f847-b6b0-4d34-d1f9-571a900d695e"
      },
      "source": [
        "a_list"
      ],
      "execution_count": null,
      "outputs": [
        {
          "output_type": "execute_result",
          "data": {
            "text/plain": [
              "[2, 3, 'my_func was executed']"
            ]
          },
          "metadata": {
            "tags": []
          },
          "execution_count": 29
        }
      ]
    },
    {
      "cell_type": "markdown",
      "metadata": {
        "id": "GnthCmvqT44F"
      },
      "source": [
        "**Explation**\n",
        "- The behaviour on the *mutable* `list` is probably what you would expect: The variable `a_list` changed in the caller scope (`__main__` in this case) because of the *call by reference* concept in Python.\n",
        "- But, the *immutable* variable `a_bool` doesn't change in the caller scope. This is because a copy of `a_bool` is created locally in `my_func` which points to the new value of `False`.\n"
      ]
    },
    {
      "cell_type": "markdown",
      "metadata": {
        "id": "TOtSf0c7JJwx"
      },
      "source": [
        "##Zen of Python"
      ]
    },
    {
      "cell_type": "markdown",
      "metadata": {
        "id": "yGaBzDuBJO8P"
      },
      "source": [
        "The https://inventwithpython.com/blog/2018/08/17/the-zen-of-python-explained/ and available as *Easter Egg* when executing `import this`"
      ]
    },
    {
      "cell_type": "code",
      "metadata": {
        "id": "lJDHtXUYJs9Z",
        "colab": {
          "base_uri": "https://localhost:8080/",
          "height": 368
        },
        "outputId": "225f6e26-22c5-4b70-b39a-0c882f12efd7"
      },
      "source": [
        "import this"
      ],
      "execution_count": null,
      "outputs": [
        {
          "output_type": "stream",
          "text": [
            "The Zen of Python, by Tim Peters\n",
            "\n",
            "Beautiful is better than ugly.\n",
            "Explicit is better than implicit.\n",
            "Simple is better than complex.\n",
            "Complex is better than complicated.\n",
            "Flat is better than nested.\n",
            "Sparse is better than dense.\n",
            "Readability counts.\n",
            "Special cases aren't special enough to break the rules.\n",
            "Although practicality beats purity.\n",
            "Errors should never pass silently.\n",
            "Unless explicitly silenced.\n",
            "In the face of ambiguity, refuse the temptation to guess.\n",
            "There should be one-- and preferably only one --obvious way to do it.\n",
            "Although that way may not be obvious at first unless you're Dutch.\n",
            "Now is better than never.\n",
            "Although never is often better than *right* now.\n",
            "If the implementation is hard to explain, it's a bad idea.\n",
            "If the implementation is easy to explain, it may be a good idea.\n",
            "Namespaces are one honking great idea -- let's do more of those!\n"
          ],
          "name": "stdout"
        }
      ]
    },
    {
      "cell_type": "markdown",
      "metadata": {
        "id": "oF0jQREMJA0W"
      },
      "source": [
        "# GitHub"
      ]
    },
    {
      "cell_type": "markdown",
      "metadata": {
        "id": "ieveOvJAJICa"
      },
      "source": [
        "##git clone\n",
        "Clone a repo from GitHub"
      ]
    },
    {
      "cell_type": "code",
      "metadata": {
        "id": "TIRL7V_QgsFG",
        "colab": {
          "base_uri": "https://localhost:8080/",
          "height": 117
        },
        "outputId": "be37ae4f-ef96-48e3-a70c-8224f5879e44"
      },
      "source": [
        "!git clone https://github.com/munich-ml/hello-world"
      ],
      "execution_count": null,
      "outputs": [
        {
          "output_type": "stream",
          "text": [
            "Cloning into 'hello-world'...\n",
            "remote: Enumerating objects: 19, done.\u001b[K\n",
            "remote: Counting objects: 100% (19/19), done.\u001b[K\n",
            "remote: Compressing objects: 100% (13/13), done.\u001b[K\n",
            "remote: Total 19 (delta 1), reused 2 (delta 0), pack-reused 0\u001b[K\n",
            "Unpacking objects: 100% (19/19), done.\n"
          ],
          "name": "stdout"
        }
      ]
    },
    {
      "cell_type": "markdown",
      "metadata": {
        "id": "Wr_HM4p3fR53"
      },
      "source": [
        "##git status\n",
        "checks the status of files you’ve changed in your working directory.\n",
        "\n",
        "\n"
      ]
    },
    {
      "cell_type": "code",
      "metadata": {
        "id": "wPeEt8CAd8qn",
        "colab": {
          "base_uri": "https://localhost:8080/",
          "height": 33
        },
        "outputId": "652d76f1-d75a-4ca8-8f42-e24e6c4e9ef8"
      },
      "source": [
        "!git status"
      ],
      "execution_count": null,
      "outputs": [
        {
          "output_type": "stream",
          "text": [
            "fatal: not a git repository (or any of the parent directories): .git\n"
          ],
          "name": "stdout"
        }
      ]
    },
    {
      "cell_type": "markdown",
      "metadata": {
        "id": "tmkOMrA6h0s5"
      },
      "source": [
        "## git pull\n",
        "Incorporates changes from a remote repository into the local copy. "
      ]
    },
    {
      "cell_type": "code",
      "metadata": {
        "id": "yibW0iFehF1p",
        "colab": {
          "base_uri": "https://localhost:8080/",
          "height": 33
        },
        "outputId": "c94faa3b-8c6c-4b17-eda5-68071676e660"
      },
      "source": [
        "!git pull"
      ],
      "execution_count": null,
      "outputs": [
        {
          "output_type": "stream",
          "text": [
            "fatal: not a git repository (or any of the parent directories): .git\n"
          ],
          "name": "stdout"
        }
      ]
    },
    {
      "cell_type": "markdown",
      "metadata": {
        "id": "iRjAWrIQjYbx"
      },
      "source": [
        "## Shell --> Python"
      ]
    },
    {
      "cell_type": "code",
      "metadata": {
        "id": "VfNFzfiNiQqK"
      },
      "source": [
        "!cd MLPy2020/\n",
        "a_python_variable = !ls"
      ],
      "execution_count": null,
      "outputs": []
    },
    {
      "cell_type": "code",
      "metadata": {
        "id": "dsyvIj-XirVD",
        "colab": {
          "base_uri": "https://localhost:8080/",
          "height": 33
        },
        "outputId": "84320206-9a79-45cb-c912-664c973830e3"
      },
      "source": [
        "a_python_variable"
      ],
      "execution_count": null,
      "outputs": [
        {
          "output_type": "execute_result",
          "data": {
            "text/plain": [
              "['MLPy2020  sample_data']"
            ]
          },
          "metadata": {
            "tags": []
          },
          "execution_count": 23
        }
      ]
    },
    {
      "cell_type": "markdown",
      "metadata": {
        "id": "3dc-XmWilvPY"
      },
      "source": [
        "## Python --> Shell"
      ]
    },
    {
      "cell_type": "code",
      "metadata": {
        "id": "nIKasEKtjM-Z",
        "colab": {
          "base_uri": "https://localhost:8080/",
          "height": 33
        },
        "outputId": "9f7deb59-bb2e-4e43-f317-e08444375266"
      },
      "source": [
        "a_message = \"Hello Command Shell!\"\n",
        "!echo {a_message}"
      ],
      "execution_count": null,
      "outputs": [
        {
          "output_type": "stream",
          "text": [
            "Hello Command Shell!\n"
          ],
          "name": "stdout"
        }
      ]
    },
    {
      "cell_type": "markdown",
      "metadata": {
        "id": "Kc1vK9vhnGJ2"
      },
      "source": [
        "# Magics\n",
        "Colab shares the notion of magics from Jupyter. There are shorthand annotations that change how a cell's text is executed. For details, see [Jupyter's magics page](http://nbviewer.jupyter.org/github/ipython/ipython/blob/1.x/examples/notebooks/Cell%20Magics.ipynb). \n"
      ]
    },
    {
      "cell_type": "code",
      "metadata": {
        "id": "b8-cCHGUoh6V",
        "colab": {
          "base_uri": "https://localhost:8080/",
          "height": 68
        },
        "outputId": "72236f8b-c3d3-4f3a-cdc7-5b280f76f241"
      },
      "source": [
        "%%html\n",
        "<p>This is regular html text.</p>\n",
        "<p><b>And this is bold!</b></p>"
      ],
      "execution_count": null,
      "outputs": [
        {
          "output_type": "display_data",
          "data": {
            "text/html": [
              "<p>This is regular html text.</p>\n",
              "<p><b>And this is bold!</b></p>"
            ],
            "text/plain": [
              "<IPython.core.display.HTML object>"
            ]
          },
          "metadata": {
            "tags": []
          }
        }
      ]
    }
  ]
}