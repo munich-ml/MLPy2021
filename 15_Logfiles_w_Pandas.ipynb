{
  "nbformat": 4,
  "nbformat_minor": 0,
  "metadata": {
    "colab": {
      "name": "15_Logfiles_w_Pandas.ipynb",
      "provenance": [],
      "collapsed_sections": [
        "RAowUwFjVh4y",
        "2sPjqImpX1mw"
      ],
      "toc_visible": true,
      "authorship_tag": "ABX9TyPmpo4HEcWyR85Uw1HhqUz3",
      "include_colab_link": true
    },
    "kernelspec": {
      "name": "python3",
      "display_name": "Python 3"
    }
  },
  "cells": [
    {
      "cell_type": "markdown",
      "metadata": {
        "id": "view-in-github",
        "colab_type": "text"
      },
      "source": [
        "<a href=\"https://colab.research.google.com/github/munich-ml/MLPy2020/blob/master/17_Logfiles_w_Pandas.ipynb\" target=\"_parent\"><img src=\"https://colab.research.google.com/assets/colab-badge.svg\" alt=\"Open In Colab\"/></a>"
      ]
    },
    {
      "cell_type": "markdown",
      "metadata": {
        "id": "827kwTxX0tuc",
        "colab_type": "text"
      },
      "source": [
        "# Logfile challenge"
      ]
    },
    {
      "cell_type": "markdown",
      "metadata": {
        "id": "z12MmBNm4fXJ",
        "colab_type": "text"
      },
      "source": [
        "## setup"
      ]
    },
    {
      "cell_type": "markdown",
      "metadata": {
        "id": "Wu8QLzNa0zNJ",
        "colab_type": "text"
      },
      "source": [
        "This following code block prepares the coding challenge:\n",
        "1. clone GitHub project `MLPy2020`\n",
        "1. import and execute `create_csv` helper function\n",
        "1. open file `logfile.csv` and store content into variable `s`\n"
      ]
    },
    {
      "cell_type": "code",
      "metadata": {
        "id": "7qFfDsKHO1DP",
        "colab_type": "code",
        "outputId": "306e057f-ce38-423f-dc19-5d4dff577733",
        "colab": {
          "base_uri": "https://localhost:8080/",
          "height": 134
        }
      },
      "source": [
        "import os\n",
        "import numpy as np\n",
        "import pandas as pd\n",
        "import matplotlib.pyplot as plt\n",
        "\n",
        "# Get munich-ml repo from GitHub\n",
        "if \"MLPy2020\" in os.listdir():\n",
        "    !git -C MLPy2020 pull\n",
        "else:\n",
        "    !git clone https://github.com/munich-ml/MLPy2020/\n",
        "\n",
        "from MLPy2020.MLPy_helper_funcs import parse_logfile_string\n",
        "\n",
        "with open(os.path.join(\"MLPy2020\", \"datasets\", \"logfile.csv\"), \"r\") as file:\n",
        "    s = file.read()\n",
        "\n",
        "    "
      ],
      "execution_count": 0,
      "outputs": [
        {
          "output_type": "stream",
          "text": [
            "Cloning into 'MLPy2020'...\n",
            "remote: Enumerating objects: 145, done.\u001b[K\n",
            "remote: Counting objects: 100% (145/145), done.\u001b[K\n",
            "remote: Compressing objects: 100% (117/117), done.\u001b[K\n",
            "remote: Total 145 (delta 68), reused 68 (delta 20), pack-reused 0\u001b[K\n",
            "Receiving objects: 100% (145/145), 721.92 KiB | 2.07 MiB/s, done.\n",
            "Resolving deltas: 100% (68/68), done.\n"
          ],
          "name": "stdout"
        }
      ]
    },
    {
      "cell_type": "markdown",
      "metadata": {
        "id": "7SzNLgBYD-ht",
        "colab_type": "text"
      },
      "source": [
        "# Reuse functions from **NumPy** session\n",
        "\n"
      ]
    },
    {
      "cell_type": "code",
      "metadata": {
        "id": "l27dr0FqRaT1",
        "colab_type": "code",
        "colab": {}
      },
      "source": [
        "def apply_calibration(log):\n",
        "    for param, cal_factor in log[\"params\"].items():\n",
        "        if \"calibration factor\" in param:\n",
        "            sig = param.split(\" \")[-1]\n",
        "            col_index = log[\"names\"].index(sig)\n",
        "\n",
        "            # append the new column with calibrated data to the right\n",
        "            new_col = log[\"data\"][:, col_index] * float(cal_factor)\n",
        "            log[\"data\"] = np.column_stack([log[\"data\"], new_col])\n",
        "\n",
        "            # also add the new name to the names list\n",
        "            log[\"names\"].append(sig + \"_cal\") "
      ],
      "execution_count": 0,
      "outputs": []
    },
    {
      "cell_type": "code",
      "metadata": {
        "id": "1ZNCRd5hZdpY",
        "colab_type": "code",
        "colab": {}
      },
      "source": [
        "def plot(log, sig_names):\n",
        "    x = log[\"data\"][:, log[\"names\"].index(\"x\")]\n",
        "    for sig_name in sig_names:\n",
        "        if sig_name in log[\"names\"]:\n",
        "            y = log[\"data\"][:, log[\"names\"].index(sig_name)]\n",
        "            plt.plot(x, y, \"o\", label=sig_name)\n",
        "        else:\n",
        "            print(\"Warning, '{}' is not in 'log['names']'!\".format(sig_name))\n",
        "    plt.grid(), plt.legend(), plt.tight_layout()"
      ],
      "execution_count": 0,
      "outputs": []
    },
    {
      "cell_type": "code",
      "metadata": {
        "id": "BCDRvxifmjX6",
        "colab_type": "code",
        "colab": {}
      },
      "source": [
        "def parse_logfile_string_to_numpy(s):\n",
        "    \"\"\"\n",
        "    Wraps 'parse_logfile_string' function and converts the \"data\" list of lists to an NumPy array\n",
        "    \"\"\"\n",
        "    log_dict = parse_logfile_string(s)\n",
        "    log_dict[\"data\"] = np.array(log_dict[\"data\"])\n",
        "    return log_dict"
      ],
      "execution_count": 0,
      "outputs": []
    },
    {
      "cell_type": "code",
      "metadata": {
        "id": "cJnr-XIJV_D9",
        "colab_type": "code",
        "outputId": "6f67cc4e-3783-4b24-dc42-dd5816a45064",
        "colab": {
          "base_uri": "https://localhost:8080/",
          "height": 184
        }
      },
      "source": [
        "log = parse_logfile_string_to_numpy(s)\n",
        "\n",
        "print(\"data head before calibration:\")\n",
        "print(log[\"names\"])\n",
        "print(log[\"data\"][:3, :])\n",
        "\n",
        "apply_calibration(log)\n",
        "\n",
        "print(\"data head after calibration:\")\n",
        "print(log[\"names\"])\n",
        "print(log[\"data\"][:3, :])"
      ],
      "execution_count": 0,
      "outputs": [
        {
          "output_type": "stream",
          "text": [
            "data head before calibration:\n",
            "['x', 'sig0', 'sig1', 'sig2']\n",
            "[[ 5.17   6.4   16.05  10.61 ]\n",
            " [ 9.47  34.21   5.95   0.293]\n",
            " [ 7.65  21.11   0.366  4.8  ]]\n",
            "data head after calibration:\n",
            "['x', 'sig0', 'sig1', 'sig2', 'sig0_cal', 'sig2_cal']\n",
            "[[ 5.17     6.4     16.05    10.61     3.52    19.9468 ]\n",
            " [ 9.47    34.21     5.95     0.293   18.8155   0.55084]\n",
            " [ 7.65    21.11     0.366    4.8     11.6105   9.024  ]]\n"
          ],
          "name": "stdout"
        }
      ]
    },
    {
      "cell_type": "code",
      "metadata": {
        "id": "cBeyyFUBa8WA",
        "colab_type": "code",
        "outputId": "2724c7bd-e6e6-491f-fc83-5ad2624b5d7d",
        "colab": {
          "base_uri": "https://localhost:8080/",
          "height": 330
        }
      },
      "source": [
        "plot(log, sig_names=[\"sig0_cal\", \"sig1_cal\", \"sig1\", \"sig42\", \"sig2_cal\"])"
      ],
      "execution_count": 0,
      "outputs": [
        {
          "output_type": "stream",
          "text": [
            "Warning, 'sig1_cal' is not in 'log['names']'!\n",
            "Warning, 'sig42' is not in 'log['names']'!\n"
          ],
          "name": "stdout"
        },
        {
          "output_type": "display_data",
          "data": {
            "image/png": "[encoded data removed]",
            "text/plain": [
              "<Figure size 432x288 with 1 Axes>"
            ]
          },
          "metadata": {
            "tags": [],
            "needs_background": "light"
          }
        }
      ]
    },
    {
      "cell_type": "markdown",
      "metadata": {
        "id": "LfyMCvh4qM37",
        "colab_type": "text"
      },
      "source": [
        "... the NumPy version still works.\n",
        "\n",
        "Next, lets introduce **Pandas**..."
      ]
    },
    {
      "cell_type": "markdown",
      "metadata": {
        "id": "hAtXWdpbiVEE",
        "colab_type": "text"
      },
      "source": [
        "# Exercise\n",
        "1. Create a `parse_logfile_string_to_pandas` that returns `data` and `names` are in a `Pandas.DataFrame`\n",
        "1. Rework `apply_calibration` function to accept the new `DataFrame`\n",
        "1. Rework `plot` function to accept the new `DataFrame`"
      ]
    },
    {
      "cell_type": "markdown",
      "metadata": {
        "id": "yshFztRHtdhf",
        "colab_type": "text"
      },
      "source": [
        "## Testing `parse_logfile_string_to_pandas` "
      ]
    },
    {
      "cell_type": "code",
      "metadata": {
        "id": "6cniKzzYslbu",
        "colab_type": "code",
        "colab": {}
      },
      "source": [
        "def parse_logfile_string_to_pandas(s):\n",
        "    \"\"\"\n",
        "    Wraps 'parse_logfile_string' function and converts the \"data\" list of lists to a Pandas DataFrame\n",
        "    \"\"\"\n",
        "    log = parse_logfile_string(s)\n",
        "    df = pd.DataFrame(np.array(log[\"data\"]), \n",
        "                      columns=log[\"names\"])\n",
        "    return {\"params\": log[\"params\"], \"data\": df}"
      ],
      "execution_count": 0,
      "outputs": []
    },
    {
      "cell_type": "code",
      "metadata": {
        "id": "F0iTxPOmnFCo",
        "colab_type": "code",
        "outputId": "fc97777f-545b-4b04-f3a9-18bed39c6a05",
        "colab": {
          "base_uri": "https://localhost:8080/",
          "height": 196
        }
      },
      "source": [
        "log = parse_logfile_string_to_pandas(s)\n",
        "log[\"data\"].head()"
      ],
      "execution_count": 0,
      "outputs": [
        {
          "output_type": "execute_result",
          "data": {
            "text/html": [
              "<div>\n",
              "<style scoped>\n",
              "    .dataframe tbody tr th:only-of-type {\n",
              "        vertical-align: middle;\n",
              "    }\n",
              "\n",
              "    .dataframe tbody tr th {\n",
              "        vertical-align: top;\n",
              "    }\n",
              "\n",
              "    .dataframe thead th {\n",
              "        text-align: right;\n",
              "    }\n",
              "</style>\n",
              "<table border=\"1\" class=\"dataframe\">\n",
              "  <thead>\n",
              "    <tr style=\"text-align: right;\">\n",
              "      <th></th>\n",
              "      <th>x</th>\n",
              "      <th>sig0</th>\n",
              "      <th>sig1</th>\n",
              "      <th>sig2</th>\n",
              "    </tr>\n",
              "  </thead>\n",
              "  <tbody>\n",
              "    <tr>\n",
              "      <th>0</th>\n",
              "      <td>5.17</td>\n",
              "      <td>6.40</td>\n",
              "      <td>16.050</td>\n",
              "      <td>10.610</td>\n",
              "    </tr>\n",
              "    <tr>\n",
              "      <th>1</th>\n",
              "      <td>9.47</td>\n",
              "      <td>34.21</td>\n",
              "      <td>5.950</td>\n",
              "      <td>0.293</td>\n",
              "    </tr>\n",
              "    <tr>\n",
              "      <th>2</th>\n",
              "      <td>7.65</td>\n",
              "      <td>21.11</td>\n",
              "      <td>0.366</td>\n",
              "      <td>4.800</td>\n",
              "    </tr>\n",
              "    <tr>\n",
              "      <th>3</th>\n",
              "      <td>2.82</td>\n",
              "      <td>36.06</td>\n",
              "      <td>16.030</td>\n",
              "      <td>6.390</td>\n",
              "    </tr>\n",
              "    <tr>\n",
              "      <th>4</th>\n",
              "      <td>2.21</td>\n",
              "      <td>30.50</td>\n",
              "      <td>11.650</td>\n",
              "      <td>4.360</td>\n",
              "    </tr>\n",
              "  </tbody>\n",
              "</table>\n",
              "</div>"
            ],
            "text/plain": [
              "      x   sig0    sig1    sig2\n",
              "0  5.17   6.40  16.050  10.610\n",
              "1  9.47  34.21   5.950   0.293\n",
              "2  7.65  21.11   0.366   4.800\n",
              "3  2.82  36.06  16.030   6.390\n",
              "4  2.21  30.50  11.650   4.360"
            ]
          },
          "metadata": {
            "tags": []
          },
          "execution_count": 8
        }
      ]
    },
    {
      "cell_type": "markdown",
      "metadata": {
        "colab_type": "text",
        "id": "GjJYuk9Wtw0D"
      },
      "source": [
        "## Testing `apply_calibration` "
      ]
    },
    {
      "cell_type": "code",
      "metadata": {
        "id": "sRRYxA4it2CP",
        "colab_type": "code",
        "colab": {}
      },
      "source": [
        "def apply_calibration(log):\n",
        "#  predecessor NumPy version\n",
        "#    for param, cal_factor in log[\"params\"].items():\n",
        "#        if \"calibration factor\" in param:\n",
        "#            sig = param.split(\" \")[-1]\n",
        "#            col_index = log[\"names\"].index(sig)\n",
        "#\n",
        "#            # append the new column with calibrated data to the right\n",
        "#            new_col = log[\"data\"][:, col_index] * float(cal_factor)\n",
        "#            log[\"data\"] = np.column_stack([log[\"data\"], new_col])\n",
        "#\n",
        "#            # also add the new name to the names list\n",
        "#            log[\"names\"].append(sig + \"_cal\") \n",
        "    \n",
        "    for param, cal_factor in log[\"params\"].items():\n",
        "        if \"calibration factor\" in param:\n",
        "            sig = param.split(\" \")[-1]\n",
        "            log[\"data\"][sig + \"_cal\"] = log[\"data\"][sig] * float(cal_factor)"
      ],
      "execution_count": 0,
      "outputs": []
    },
    {
      "cell_type": "code",
      "metadata": {
        "id": "yJCs8SDWt6fW",
        "colab_type": "code",
        "outputId": "a40c44c2-c5c1-4cad-fc32-e118eea2d134",
        "colab": {
          "base_uri": "https://localhost:8080/",
          "height": 196
        }
      },
      "source": [
        "apply_calibration(log)\n",
        "log[\"data\"].head()"
      ],
      "execution_count": 0,
      "outputs": [
        {
          "output_type": "execute_result",
          "data": {
            "text/html": [
              "<div>\n",
              "<style scoped>\n",
              "    .dataframe tbody tr th:only-of-type {\n",
              "        vertical-align: middle;\n",
              "    }\n",
              "\n",
              "    .dataframe tbody tr th {\n",
              "        vertical-align: top;\n",
              "    }\n",
              "\n",
              "    .dataframe thead th {\n",
              "        text-align: right;\n",
              "    }\n",
              "</style>\n",
              "<table border=\"1\" class=\"dataframe\">\n",
              "  <thead>\n",
              "    <tr style=\"text-align: right;\">\n",
              "      <th></th>\n",
              "      <th>x</th>\n",
              "      <th>sig0</th>\n",
              "      <th>sig1</th>\n",
              "      <th>sig2</th>\n",
              "      <th>sig0_cal</th>\n",
              "      <th>sig2_cal</th>\n",
              "    </tr>\n",
              "  </thead>\n",
              "  <tbody>\n",
              "    <tr>\n",
              "      <th>0</th>\n",
              "      <td>5.17</td>\n",
              "      <td>6.40</td>\n",
              "      <td>16.050</td>\n",
              "      <td>10.610</td>\n",
              "      <td>3.5200</td>\n",
              "      <td>19.94680</td>\n",
              "    </tr>\n",
              "    <tr>\n",
              "      <th>1</th>\n",
              "      <td>9.47</td>\n",
              "      <td>34.21</td>\n",
              "      <td>5.950</td>\n",
              "      <td>0.293</td>\n",
              "      <td>18.8155</td>\n",
              "      <td>0.55084</td>\n",
              "    </tr>\n",
              "    <tr>\n",
              "      <th>2</th>\n",
              "      <td>7.65</td>\n",
              "      <td>21.11</td>\n",
              "      <td>0.366</td>\n",
              "      <td>4.800</td>\n",
              "      <td>11.6105</td>\n",
              "      <td>9.02400</td>\n",
              "    </tr>\n",
              "    <tr>\n",
              "      <th>3</th>\n",
              "      <td>2.82</td>\n",
              "      <td>36.06</td>\n",
              "      <td>16.030</td>\n",
              "      <td>6.390</td>\n",
              "      <td>19.8330</td>\n",
              "      <td>12.01320</td>\n",
              "    </tr>\n",
              "    <tr>\n",
              "      <th>4</th>\n",
              "      <td>2.21</td>\n",
              "      <td>30.50</td>\n",
              "      <td>11.650</td>\n",
              "      <td>4.360</td>\n",
              "      <td>16.7750</td>\n",
              "      <td>8.19680</td>\n",
              "    </tr>\n",
              "  </tbody>\n",
              "</table>\n",
              "</div>"
            ],
            "text/plain": [
              "      x   sig0    sig1    sig2  sig0_cal  sig2_cal\n",
              "0  5.17   6.40  16.050  10.610    3.5200  19.94680\n",
              "1  9.47  34.21   5.950   0.293   18.8155   0.55084\n",
              "2  7.65  21.11   0.366   4.800   11.6105   9.02400\n",
              "3  2.82  36.06  16.030   6.390   19.8330  12.01320\n",
              "4  2.21  30.50  11.650   4.360   16.7750   8.19680"
            ]
          },
          "metadata": {
            "tags": []
          },
          "execution_count": 10
        }
      ]
    },
    {
      "cell_type": "markdown",
      "metadata": {
        "colab_type": "text",
        "id": "V39yKzm2wJ4D"
      },
      "source": [
        "## Testing `plot` "
      ]
    },
    {
      "cell_type": "code",
      "metadata": {
        "id": "uDVooCoPwNxn",
        "colab_type": "code",
        "colab": {}
      },
      "source": [
        "def plot(log, sig_names):\n",
        "#  predecessor NumPy version\n",
        "#    x = log[\"data\"][:, log[\"names\"].index(\"x\")]\n",
        "#    for sig_name in sig_names:\n",
        "#        if sig_name in log[\"names\"]:\n",
        "#            y = log[\"data\"][:, log[\"names\"].index(sig_name)]\n",
        "#            plt.plot(x, y, \"o\", label=sig_name)\n",
        "#        else:\n",
        "#            print(\"Warning, '{}' is not in 'log['names']'!\".format(sig_name))\n",
        "#    plt.grid(), plt.legend(), plt.tight_layout()\n",
        "\n",
        "    data = log[\"data\"]\n",
        "    for sig_name in sig_names:        \n",
        "        if sig_name in data.columns:\n",
        "            plt.plot(data[\"x\"], data[sig_name], \"o\", label=sig_name)\n",
        "        else:\n",
        "            print(\"Warning, '{}' is not in 'log['names']'!\".format(sig_name))\n",
        "    plt.grid(), plt.legend(), plt.tight_layout()\n",
        " "
      ],
      "execution_count": 0,
      "outputs": []
    },
    {
      "cell_type": "code",
      "metadata": {
        "id": "i8Mh9YZYwylg",
        "colab_type": "code",
        "outputId": "73585564-910d-45b9-ca8e-3a7479b64773",
        "colab": {
          "base_uri": "https://localhost:8080/",
          "height": 330
        }
      },
      "source": [
        "plot(log, sig_names=[\"sig0_cal\", \"sig1_cal\", \"sig1\", \"sig42\", \"sig2_cal\"])"
      ],
      "execution_count": 0,
      "outputs": [
        {
          "output_type": "stream",
          "text": [
            "Warning, 'sig1_cal' is not in 'log['names']'!\n",
            "Warning, 'sig42' is not in 'log['names']'!\n"
          ],
          "name": "stdout"
        },
        {
          "output_type": "display_data",
          "data": {
            "image/png": "[encoded data removed]",
            "text/plain": [
              "<Figure size 432x288 with 1 Axes>"
            ]
          },
          "metadata": {
            "tags": [],
            "needs_background": "light"
          }
        }
      ]
    }
  ]
}