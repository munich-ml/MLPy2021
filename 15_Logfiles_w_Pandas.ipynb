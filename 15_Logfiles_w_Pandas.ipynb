{
 "cells": [
  {
   "cell_type": "markdown",
   "metadata": {
    "colab_type": "text",
    "id": "view-in-github"
   },
   "source": [
    "<a href=\"https://colab.research.google.com/github/munich-ml/MLPy2021/blob/main/15_Logfiles_w_Pandas.ipynb\" target=\"_parent\"><img src=\"https://colab.research.google.com/assets/colab-badge.svg\" alt=\"Open In Colab\"/></a>"
   ]
  },
  {
   "cell_type": "markdown",
   "metadata": {
    "id": "827kwTxX0tuc"
   },
   "source": [
    "# Logfile challenge"
   ]
  },
  {
   "cell_type": "markdown",
   "metadata": {
    "id": "z12MmBNm4fXJ"
   },
   "source": [
    "## setup"
   ]
  },
  {
   "cell_type": "markdown",
   "metadata": {
    "id": "Wu8QLzNa0zNJ"
   },
   "source": [
    "The setup depends on whether the notebook is executed in **Google Colab** or **locally in Jupyter**.\n",
    "\n",
    "- Clone GitHub project `MLPy2021` if executed in Colab\n",
    "- import `parse_logfile_string` from `helper_funcs`\n",
    "- open file `logfile.csv` and store content into variable `s`\n",
    "\n"
   ]
  },
  {
   "cell_type": "code",
   "execution_count": 1,
   "metadata": {
    "colab": {
     "base_uri": "https://localhost:8080/"
    },
    "id": "7qFfDsKHO1DP",
    "outputId": "37c3745f-a449-474b-b2a4-e223bb5e7843"
   },
   "outputs": [],
   "source": [
    "import os, sys\n",
    "import numpy as np\n",
    "import pandas as pd\n",
    "import matplotlib.pyplot as plt\n",
    "\n",
    "in_colab = 'google.colab' in sys.modules   # check if note is executed within Colab\n",
    "\n",
    "# Clone the repository if executed in Google Colab\n",
    "if in_colab:  \n",
    "    if \"MLPy2021\" in os.listdir():\n",
    "        !git -C MLPy2021 pull\n",
    "    else:\n",
    "        !git clone https://github.com/munich-ml/MLPy2021/\n",
    "\n",
    "# The function `parse_logfile_string` from 10_Logfile_challenge.ipynb has been moved \n",
    "# lib.helper_funcs.py. The import path depends on Colab or local execution \n",
    "if in_colab:\n",
    "    from MLPy2021.lib.helper_funcs import parse_logfile_string\n",
    "else:\n",
    "    from lib.helper_funcs import parse_logfile_string\n",
    "\n",
    "# Reading the logfile.csv content into the <st> variable s\n",
    "# The import path depends on Colab or local execution \n",
    "if in_colab:\n",
    "    filename = os.path.join(\"MLPy2021\", \"datasets\", \"logfile.csv\")\n",
    "else:\n",
    "    filename = os.path.join(\"datasets\", \"logfile.csv\")\n",
    "\n",
    "with open(filename, \"r\") as file:\n",
    "    s = file.read()"
   ]
  },
  {
   "cell_type": "markdown",
   "metadata": {
    "id": "7SzNLgBYD-ht"
   },
   "source": [
    "# Reuse functions from **NumPy** session\n",
    "\n"
   ]
  },
  {
   "cell_type": "code",
   "execution_count": 2,
   "metadata": {
    "id": "l27dr0FqRaT1"
   },
   "outputs": [],
   "source": [
    "def apply_calibration(log):\n",
    "    for param, cal_factor in log[\"params\"].items():\n",
    "        if \"calibration factor\" in param:\n",
    "            sig = param.split(\" \")[-1]\n",
    "            col_index = log[\"names\"].index(sig)\n",
    "\n",
    "            # append the new column with calibrated data to the right\n",
    "            new_col = log[\"data\"][:, col_index] * float(cal_factor)\n",
    "            log[\"data\"] = np.column_stack([log[\"data\"], new_col])\n",
    "\n",
    "            # also add the new name to the names list\n",
    "            log[\"names\"].append(sig + \"_cal\") "
   ]
  },
  {
   "cell_type": "code",
   "execution_count": 3,
   "metadata": {
    "id": "1ZNCRd5hZdpY"
   },
   "outputs": [],
   "source": [
    "def plot(log, sig_names):\n",
    "    x = log[\"data\"][:, log[\"names\"].index(\"x\")]\n",
    "    for sig_name in sig_names:\n",
    "        if sig_name in log[\"names\"]:\n",
    "            y = log[\"data\"][:, log[\"names\"].index(sig_name)]\n",
    "            plt.plot(x, y, \"o\", label=sig_name)\n",
    "        else:\n",
    "            print(\"Warning, '{}' is not in 'log['names']'!\".format(sig_name))\n",
    "    plt.grid(), plt.legend(), plt.tight_layout()"
   ]
  },
  {
   "cell_type": "code",
   "execution_count": 4,
   "metadata": {
    "id": "BCDRvxifmjX6"
   },
   "outputs": [],
   "source": [
    "def parse_logfile_string_to_numpy(s):\n",
    "    \"\"\"\n",
    "    Wraps 'parse_logfile_string' function and converts the \"data\" list of lists to an NumPy array\n",
    "    \"\"\"\n",
    "    log_dict = parse_logfile_string(s)\n",
    "    log_dict[\"data\"] = np.array(log_dict[\"data\"])\n",
    "    return log_dict"
   ]
  },
  {
   "cell_type": "code",
   "execution_count": 5,
   "metadata": {
    "colab": {
     "base_uri": "https://localhost:8080/"
    },
    "id": "cJnr-XIJV_D9",
    "outputId": "0b10b5dc-09d9-46e6-8cbf-af61105aafb2"
   },
   "outputs": [
    {
     "name": "stdout",
     "output_type": "stream",
     "text": [
      "data head before calibration:\n",
      "['x', 'sig0', 'sig1', 'sig2']\n",
      "[[ 5.17   6.4   16.05  10.61 ]\n",
      " [ 9.47  34.21   5.95   0.293]\n",
      " [ 7.65  21.11   0.366  4.8  ]]\n",
      "data head after calibration:\n",
      "['x', 'sig0', 'sig1', 'sig2', 'sig0_cal', 'sig2_cal']\n",
      "[[ 5.17     6.4     16.05    10.61     3.52    19.9468 ]\n",
      " [ 9.47    34.21     5.95     0.293   18.8155   0.55084]\n",
      " [ 7.65    21.11     0.366    4.8     11.6105   9.024  ]]\n"
     ]
    }
   ],
   "source": [
    "log = parse_logfile_string_to_numpy(s)\n",
    "\n",
    "print(\"data head before calibration:\")\n",
    "print(log[\"names\"])\n",
    "print(log[\"data\"][:3, :])\n",
    "\n",
    "apply_calibration(log)\n",
    "\n",
    "print(\"data head after calibration:\")\n",
    "print(log[\"names\"])\n",
    "print(log[\"data\"][:3, :])"
   ]
  },
  {
   "cell_type": "code",
   "execution_count": 6,
   "metadata": {
    "colab": {
     "base_uri": "https://localhost:8080/",
     "height": 330
    },
    "id": "cBeyyFUBa8WA",
    "outputId": "64aad202-eb77-414d-8d13-d11c8ed7706d"
   },
   "outputs": [
    {
     "name": "stdout",
     "output_type": "stream",
     "text": [
      "Warning, 'sig1_cal' is not in 'log['names']'!\n",
      "Warning, 'sig42' is not in 'log['names']'!\n"
     ]
    },
    {
     "data": {
      "image/png": "[encoded data removed]",
      "text/plain": [
       "<Figure size 432x288 with 1 Axes>"
      ]
     },
     "metadata": {
      "needs_background": "light"
     },
     "output_type": "display_data"
    }
   ],
   "source": [
    "plot(log, sig_names=[\"sig0_cal\", \"sig1_cal\", \"sig1\", \"sig42\", \"sig2_cal\"])"
   ]
  },
  {
   "cell_type": "markdown",
   "metadata": {
    "id": "LfyMCvh4qM37"
   },
   "source": [
    "... the NumPy version still works.\n",
    "\n",
    "Next, lets introduce **Pandas**..."
   ]
  },
  {
   "cell_type": "markdown",
   "metadata": {
    "id": "hAtXWdpbiVEE"
   },
   "source": [
    "# Exercise df creation\n",
    "- Create a `parse_logfile_string_to_pandas` that returns `data` and `names` are in a `Pandas.DataFrame`\n"
   ]
  },
  {
   "cell_type": "markdown",
   "metadata": {
    "id": "M1upbJl15Oqs"
   },
   "source": [
    "## Solution"
   ]
  },
  {
   "cell_type": "code",
   "execution_count": 7,
   "metadata": {
    "id": "6cniKzzYslbu"
   },
   "outputs": [],
   "source": [
    "def parse_logfile_string_to_pandas(s):\n",
    "    \"\"\"\n",
    "    Wraps 'parse_logfile_string' function and converts the \"data\" list of lists to a Pandas DataFrame\n",
    "    \"\"\"\n",
    "    log = parse_logfile_string(s)\n",
    "    df = pd.DataFrame(np.array(log[\"data\"]), columns=log[\"names\"])\n",
    "    return {\"data\": df.set_index(\"x\"),\n",
    "            \"params\": pd.Series(log[\"params\"], name=\"params\")}"
   ]
  },
  {
   "cell_type": "markdown",
   "metadata": {
    "id": "yshFztRHtdhf"
   },
   "source": [
    "## Testing `parse_logfile_string_to_pandas` "
   ]
  },
  {
   "cell_type": "code",
   "execution_count": 8,
   "metadata": {
    "colab": {
     "base_uri": "https://localhost:8080/",
     "height": 226
    },
    "id": "F0iTxPOmnFCo",
    "outputId": "bef8170b-2619-41ff-ba8a-4fcdcab64a0d"
   },
   "outputs": [
    {
     "data": {
      "text/html": [
       "<div>\n",
       "<style scoped>\n",
       "    .dataframe tbody tr th:only-of-type {\n",
       "        vertical-align: middle;\n",
       "    }\n",
       "\n",
       "    .dataframe tbody tr th {\n",
       "        vertical-align: top;\n",
       "    }\n",
       "\n",
       "    .dataframe thead th {\n",
       "        text-align: right;\n",
       "    }\n",
       "</style>\n",
       "<table border=\"1\" class=\"dataframe\">\n",
       "  <thead>\n",
       "    <tr style=\"text-align: right;\">\n",
       "      <th></th>\n",
       "      <th>sig0</th>\n",
       "      <th>sig1</th>\n",
       "      <th>sig2</th>\n",
       "    </tr>\n",
       "    <tr>\n",
       "      <th>x</th>\n",
       "      <th></th>\n",
       "      <th></th>\n",
       "      <th></th>\n",
       "    </tr>\n",
       "  </thead>\n",
       "  <tbody>\n",
       "    <tr>\n",
       "      <th>5.17</th>\n",
       "      <td>6.40</td>\n",
       "      <td>16.050</td>\n",
       "      <td>10.610</td>\n",
       "    </tr>\n",
       "    <tr>\n",
       "      <th>9.47</th>\n",
       "      <td>34.21</td>\n",
       "      <td>5.950</td>\n",
       "      <td>0.293</td>\n",
       "    </tr>\n",
       "    <tr>\n",
       "      <th>7.65</th>\n",
       "      <td>21.11</td>\n",
       "      <td>0.366</td>\n",
       "      <td>4.800</td>\n",
       "    </tr>\n",
       "    <tr>\n",
       "      <th>2.82</th>\n",
       "      <td>36.06</td>\n",
       "      <td>16.030</td>\n",
       "      <td>6.390</td>\n",
       "    </tr>\n",
       "    <tr>\n",
       "      <th>2.21</th>\n",
       "      <td>30.50</td>\n",
       "      <td>11.650</td>\n",
       "      <td>4.360</td>\n",
       "    </tr>\n",
       "  </tbody>\n",
       "</table>\n",
       "</div>"
      ],
      "text/plain": [
       "       sig0    sig1    sig2\n",
       "x                          \n",
       "5.17   6.40  16.050  10.610\n",
       "9.47  34.21   5.950   0.293\n",
       "7.65  21.11   0.366   4.800\n",
       "2.82  36.06  16.030   6.390\n",
       "2.21  30.50  11.650   4.360"
      ]
     },
     "execution_count": 8,
     "metadata": {},
     "output_type": "execute_result"
    }
   ],
   "source": [
    "log = parse_logfile_string_to_pandas(s)\n",
    "log[\"data\"].head()"
   ]
  },
  {
   "cell_type": "code",
   "execution_count": 9,
   "metadata": {
    "colab": {
     "base_uri": "https://localhost:8080/"
    },
    "id": "X3dZwEa7xBHx",
    "outputId": "aa610c7d-20e7-4c20-ff0e-aac180c511af"
   },
   "outputs": [
    {
     "data": {
      "text/plain": [
       "measurement date           2021-04-06\n",
       "measurement time             08:00:00\n",
       "calibration factor sig0          0.55\n",
       "calibration factor sig2          1.88\n",
       "Name: params, dtype: object"
      ]
     },
     "execution_count": 9,
     "metadata": {},
     "output_type": "execute_result"
    }
   ],
   "source": [
    "log[\"params\"]"
   ]
  },
  {
   "cell_type": "markdown",
   "metadata": {
    "id": "F4PK5CJw0jzg"
   },
   "source": [
    "# Exercise df calculations\n",
    "- Rework the `apply_calibration` function to accept the new `DataFrame`\n",
    "- The predecessors implementation with NumPy support is given below for reference\n"
   ]
  },
  {
   "cell_type": "code",
   "execution_count": 10,
   "metadata": {
    "id": "sKaiCvO54Xqm"
   },
   "outputs": [],
   "source": [
    "# predecessor NumPy version\n",
    "def apply_calibration(log):\n",
    "    for param, cal_factor in log[\"params\"].items():\n",
    "        if \"calibration factor\" in param:\n",
    "            sig = param.split(\" \")[-1]\n",
    "            col_index = log[\"names\"].index(sig)\n",
    "\n",
    "            # append the new column with calibrated data to the right\n",
    "            new_col = log[\"data\"][:, col_index] * float(cal_factor)\n",
    "            log[\"data\"] = np.column_stack([log[\"data\"], new_col])\n",
    "\n",
    "            # also add the new name to the names list\n",
    "            log[\"names\"].append(sig + \"_cal\") "
   ]
  },
  {
   "cell_type": "markdown",
   "metadata": {
    "id": "zafrmA0w4uhu"
   },
   "source": [
    "## Solution"
   ]
  },
  {
   "cell_type": "code",
   "execution_count": 11,
   "metadata": {
    "id": "sRRYxA4it2CP"
   },
   "outputs": [],
   "source": [
    "def apply_calibration(log):\n",
    "    for param, cal_factor in log[\"params\"].items():\n",
    "        if \"calibration factor\" in param:\n",
    "            sig = param.split(\" \")[-1]\n",
    "            log[\"data\"][sig + \"_cal\"] = log[\"data\"][sig] * float(cal_factor)"
   ]
  },
  {
   "cell_type": "markdown",
   "metadata": {
    "id": "GjJYuk9Wtw0D"
   },
   "source": [
    "## Testing `apply_calibration` "
   ]
  },
  {
   "cell_type": "code",
   "execution_count": 12,
   "metadata": {
    "colab": {
     "base_uri": "https://localhost:8080/",
     "height": 226
    },
    "id": "yJCs8SDWt6fW",
    "outputId": "1d5928f6-cdf1-4325-bb1b-281150058ce2"
   },
   "outputs": [
    {
     "data": {
      "text/html": [
       "<div>\n",
       "<style scoped>\n",
       "    .dataframe tbody tr th:only-of-type {\n",
       "        vertical-align: middle;\n",
       "    }\n",
       "\n",
       "    .dataframe tbody tr th {\n",
       "        vertical-align: top;\n",
       "    }\n",
       "\n",
       "    .dataframe thead th {\n",
       "        text-align: right;\n",
       "    }\n",
       "</style>\n",
       "<table border=\"1\" class=\"dataframe\">\n",
       "  <thead>\n",
       "    <tr style=\"text-align: right;\">\n",
       "      <th></th>\n",
       "      <th>sig0</th>\n",
       "      <th>sig1</th>\n",
       "      <th>sig2</th>\n",
       "      <th>sig0_cal</th>\n",
       "      <th>sig2_cal</th>\n",
       "    </tr>\n",
       "    <tr>\n",
       "      <th>x</th>\n",
       "      <th></th>\n",
       "      <th></th>\n",
       "      <th></th>\n",
       "      <th></th>\n",
       "      <th></th>\n",
       "    </tr>\n",
       "  </thead>\n",
       "  <tbody>\n",
       "    <tr>\n",
       "      <th>5.17</th>\n",
       "      <td>6.40</td>\n",
       "      <td>16.050</td>\n",
       "      <td>10.610</td>\n",
       "      <td>3.5200</td>\n",
       "      <td>19.94680</td>\n",
       "    </tr>\n",
       "    <tr>\n",
       "      <th>9.47</th>\n",
       "      <td>34.21</td>\n",
       "      <td>5.950</td>\n",
       "      <td>0.293</td>\n",
       "      <td>18.8155</td>\n",
       "      <td>0.55084</td>\n",
       "    </tr>\n",
       "    <tr>\n",
       "      <th>7.65</th>\n",
       "      <td>21.11</td>\n",
       "      <td>0.366</td>\n",
       "      <td>4.800</td>\n",
       "      <td>11.6105</td>\n",
       "      <td>9.02400</td>\n",
       "    </tr>\n",
       "    <tr>\n",
       "      <th>2.82</th>\n",
       "      <td>36.06</td>\n",
       "      <td>16.030</td>\n",
       "      <td>6.390</td>\n",
       "      <td>19.8330</td>\n",
       "      <td>12.01320</td>\n",
       "    </tr>\n",
       "    <tr>\n",
       "      <th>2.21</th>\n",
       "      <td>30.50</td>\n",
       "      <td>11.650</td>\n",
       "      <td>4.360</td>\n",
       "      <td>16.7750</td>\n",
       "      <td>8.19680</td>\n",
       "    </tr>\n",
       "  </tbody>\n",
       "</table>\n",
       "</div>"
      ],
      "text/plain": [
       "       sig0    sig1    sig2  sig0_cal  sig2_cal\n",
       "x                                              \n",
       "5.17   6.40  16.050  10.610    3.5200  19.94680\n",
       "9.47  34.21   5.950   0.293   18.8155   0.55084\n",
       "7.65  21.11   0.366   4.800   11.6105   9.02400\n",
       "2.82  36.06  16.030   6.390   19.8330  12.01320\n",
       "2.21  30.50  11.650   4.360   16.7750   8.19680"
      ]
     },
     "execution_count": 12,
     "metadata": {},
     "output_type": "execute_result"
    }
   ],
   "source": [
    "apply_calibration(log)\n",
    "log[\"data\"].head()"
   ]
  },
  {
   "cell_type": "markdown",
   "metadata": {
    "id": "RNw3UmW80xQO"
   },
   "source": [
    "# Exercise df plot\n",
    "- Rework the `plot` function to accept the new `DataFrame`\n",
    "- The predecessors implementation with NumPy support is given below for reference\n",
    "- As an extra feature, make ``sig_names`` an optional parameter and plot all signals if ``sig_names`` is not provided \n"
   ]
  },
  {
   "cell_type": "code",
   "execution_count": 13,
   "metadata": {
    "id": "DGRXy7cu0w5q"
   },
   "outputs": [],
   "source": [
    "# predecessor NumPy version\n",
    "def plot(log, sig_names):\n",
    "    x = log[\"data\"][:, log[\"names\"].index(\"x\")]\n",
    "    for sig_name in sig_names:\n",
    "        if sig_name in log[\"names\"]:\n",
    "            y = log[\"data\"][:, log[\"names\"].index(sig_name)]\n",
    "            plt.plot(x, y, \"o\", label=sig_name)\n",
    "        else:\n",
    "            print(\"Warning, '{}' is not in 'log['names']'!\".format(sig_name))\n",
    "    plt.grid(), plt.legend()"
   ]
  },
  {
   "cell_type": "markdown",
   "metadata": {
    "id": "VzB4G98a1jqK"
   },
   "source": [
    "## Solution"
   ]
  },
  {
   "cell_type": "code",
   "execution_count": 14,
   "metadata": {
    "id": "uDVooCoPwNxn"
   },
   "outputs": [],
   "source": [
    "def plot(log, sig_names=None):\n",
    "    df = log[\"data\"]\n",
    "    if sig_names is None:\n",
    "        sig_names = df.columns\n",
    "    for sig_name in sig_names:        \n",
    "        if sig_name in df.columns:\n",
    "            plt.plot(df.index, df[sig_name], \"o\", label=sig_name)\n",
    "        else:\n",
    "            print(\"Warning, '{}' is not in 'log['names']'!\".format(sig_name))\n",
    "    plt.grid(), plt.legend()"
   ]
  },
  {
   "cell_type": "markdown",
   "metadata": {
    "id": "V39yKzm2wJ4D"
   },
   "source": [
    "## Testing `plot` "
   ]
  },
  {
   "cell_type": "code",
   "execution_count": 15,
   "metadata": {
    "colab": {
     "base_uri": "https://localhost:8080/",
     "height": 298
    },
    "id": "i8Mh9YZYwylg",
    "outputId": "d1451adb-34ff-4ebf-e05a-73b93cb90162"
   },
   "outputs": [
    {
     "name": "stdout",
     "output_type": "stream",
     "text": [
      "Warning, 'sig1_cal' is not in 'log['names']'!\n",
      "Warning, 'sig42' is not in 'log['names']'!\n"
     ]
    },
    {
     "data": {
      "image/png": "[encoded data removed]",
      "text/plain": [
       "<Figure size 432x288 with 1 Axes>"
      ]
     },
     "metadata": {
      "needs_background": "light"
     },
     "output_type": "display_data"
    }
   ],
   "source": [
    "plot(log, sig_names=[\"sig0_cal\", \"sig1_cal\", \"sig1\", \"sig42\", \"sig2_cal\"])"
   ]
  },
  {
   "cell_type": "code",
   "execution_count": 16,
   "metadata": {
    "colab": {
     "base_uri": "https://localhost:8080/",
     "height": 265
    },
    "id": "a5YvM1ok1swQ",
    "outputId": "fe01470c-4904-44fa-8f75-66dd7bd03435"
   },
   "outputs": [
    {
     "data": {
      "image/png": "[encoded data removed]",
      "text/plain": [
       "<Figure size 432x288 with 1 Axes>"
      ]
     },
     "metadata": {
      "needs_background": "light"
     },
     "output_type": "display_data"
    }
   ],
   "source": [
    "plot(log)"
   ]
  }
 ],
 "metadata": {
  "colab": {
   "authorship_tag": "ABX9TyPmXUWoQJClQD1O6fs/YCW3",
   "collapsed_sections": [
    "RAowUwFjVh4y",
    "2sPjqImpX1mw"
   ],
   "include_colab_link": true,
   "name": "15_Logfiles_w_Pandas.ipynb",
   "provenance": [],
   "toc_visible": true
  },
  "kernelspec": {
   "display_name": "Python 3",
   "language": "python",
   "name": "python3"
  },
  "language_info": {
   "codemirror_mode": {
    "name": "ipython",
    "version": 3
   },
   "file_extension": ".py",
   "mimetype": "text/x-python",
   "name": "python",
   "nbconvert_exporter": "python",
   "pygments_lexer": "ipython3",
   "version": "3.7.6"
  }
 },
 "nbformat": 4,
 "nbformat_minor": 1
}
