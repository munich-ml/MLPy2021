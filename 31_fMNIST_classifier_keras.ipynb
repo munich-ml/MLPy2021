{
  "nbformat": 4,
  "nbformat_minor": 0,
  "metadata": {
    "kernelspec": {
      "name": "python3",
      "display_name": "Python 3"
    },
    "language_info": {
      "codemirror_mode": {
        "name": "ipython",
        "version": 3
      },
      "file_extension": ".py",
      "mimetype": "text/x-python",
      "name": "python",
      "nbconvert_exporter": "python",
      "pygments_lexer": "ipython3",
      "version": "3.7.3"
    },
    "nav_menu": {
      "height": "264px",
      "width": "369px"
    },
    "toc": {
      "navigate_menu": true,
      "number_sections": true,
      "sideBar": true,
      "threshold": 6,
      "toc_cell": false,
      "toc_section_display": "block",
      "toc_window_display": false
    },
    "colab": {
      "name": "31_fMNIST_classifier_keras.ipynb",
      "provenance": [],
      "collapsed_sections": [],
      "include_colab_link": true
    },
    "accelerator": "GPU"
  },
  "cells": [
    {
      "cell_type": "markdown",
      "metadata": {
        "id": "view-in-github",
        "colab_type": "text"
      },
      "source": [
        "<a href=\"https://colab.research.google.com/github/munich-ml/MLPy2021/blob/main/31_fMNIST_classifier_keras.ipynb\" target=\"_parent\"><img src=\"https://colab.research.google.com/assets/colab-badge.svg\" alt=\"Open In Colab\"/></a>"
      ]
    },
    {
      "cell_type": "markdown",
      "metadata": {
        "id": "e2piuI4C-TVp"
      },
      "source": [
        "# Intro"
      ]
    },
    {
      "cell_type": "markdown",
      "metadata": {
        "id": "C9_a-EzZ6x8B"
      },
      "source": [
        "## References\n",
        "Resources used to create this notebook:\n",
        "- [scikit-learn website](https://scikit-learn.org)\n",
        "- [Matplotlib website](https://matplotlib.org/)\n",
        "- [Wikipedia](https://en.wikipedia.org/wiki/Main_Page)\n",
        "- Hands-on Machine Learning with Scikit-learn, Keras & TensorFlow, Aurelien Geron, [Book on Amazon](https://www.amazon.de/Aur%C3%A9lien-G%C3%A9ron/dp/1492032646/ref=sr_1_3?__mk_de_DE=%C3%85M%C3%85%C5%BD%C3%95%C3%91&dchild=1&keywords=Hands-on+Machine+Learning+with+Scikit-learn%2C+Keras+%26+TensorFlow%2C+Aurelien+Geron%2C&qid=1589875241&sr=8-3)\n",
        "- Introduction to Machine Learning with Python, Andreas Mueller, [Book on Amazon](https://www.amazon.de/Introduction-Machine-Learning-Python-Scientists/dp/1449369413)\n"
      ]
    },
    {
      "cell_type": "markdown",
      "metadata": {
        "id": "eNST_MlxjzH0"
      },
      "source": [
        "## Setup"
      ]
    },
    {
      "cell_type": "markdown",
      "metadata": {
        "id": "kgdeO6WVjzH0"
      },
      "source": [
        "First, do the common imports.\n",
        "\n",
        "Tensorflow must be 2.x, because there are major changes from 1.x"
      ]
    },
    {
      "cell_type": "code",
      "metadata": {
        "id": "4yPHaPsejzH1",
        "colab": {
          "base_uri": "https://localhost:8080/"
        },
        "outputId": "de95fba7-2aaf-4655-90f7-00f1e66e62ca"
      },
      "source": [
        "# Python ≥3.5 is required\n",
        "import sys\n",
        "assert sys.version_info >= (3, 5)\n",
        "\n",
        "# Common imports\n",
        "import os\n",
        "import numpy as np\n",
        "import pandas as pd\n",
        "\n",
        "# to make this notebook's output stable across runs\n",
        "np.random.seed(42)\n",
        "\n",
        "# Setup matplotlib\n",
        "%matplotlib inline\n",
        "import matplotlib as mpl\n",
        "import matplotlib.pyplot as plt\n",
        "mpl.rc('axes', labelsize=14)\n",
        "mpl.rc('xtick', labelsize=12)\n",
        "mpl.rc('ytick', labelsize=12)\n",
        "\n",
        "# Ignore useless warnings (see SciPy issue #5998)\n",
        "import warnings\n",
        "warnings.filterwarnings(action=\"ignore\", message=\"^internal gelsd\")\n",
        "\n",
        "# TensorFlow ≥2.0 is required\n",
        "import tensorflow as tf\n",
        "from tensorflow import keras\n",
        "assert tf.__version__ >= \"2.0\"\n",
        "\n",
        "in_colab = 'google.colab' in sys.modules   # check if note is executed within Colab\n",
        "\n",
        "# Forces tensorflow version (only in colab)\n",
        "if in_colab:\n",
        "    %tensorflow_version 2.x           \n",
        "\n",
        "# Clone the repository if executed in Google Colab\n",
        "if in_colab:  \n",
        "    if \"MLPy2021\" in os.listdir():\n",
        "        !git -C MLPy2021 pull\n",
        "    else:\n",
        "        !git clone https://github.com/munich-ml/MLPy2021/\n",
        "\n",
        "# lib.helper_funcs.py. The import path depends on Colab or local execution \n",
        "if in_colab:\n",
        "    from MLPy2021.lib.helper_funcs import pickle_out\n",
        "else: \n",
        "    from lib.helper_funcs import pickle_out\n"
      ],
      "execution_count": 1,
      "outputs": [
        {
          "output_type": "stream",
          "text": [
            "Cloning into 'MLPy2021'...\n",
            "remote: Enumerating objects: 313, done.\u001b[K\n",
            "remote: Counting objects: 100% (313/313), done.\u001b[K\n",
            "remote: Compressing objects: 100% (274/274), done.\u001b[K\n",
            "remote: Total 313 (delta 164), reused 107 (delta 32), pack-reused 0\u001b[K\n",
            "Receiving objects: 100% (313/313), 12.30 MiB | 11.41 MiB/s, done.\n",
            "Resolving deltas: 100% (164/164), done.\n"
          ],
          "name": "stdout"
        }
      ]
    },
    {
      "cell_type": "markdown",
      "metadata": {
        "id": "AExVh3ZXjzIM"
      },
      "source": [
        "# Get the data"
      ]
    },
    {
      "cell_type": "markdown",
      "metadata": {
        "id": "eSTBrdRijzIT"
      },
      "source": [
        "**MNIST** is probably **THE classical dataset for image recognition**. \n",
        "\n",
        "A more challanging dataset is the **[fashion MNIST](https://github.com/zalandoresearch/fashion-mnist)** from Zalando.\n",
        "\n",
        "Keras has a number of functions to load popular datasets in `keras.datasets`. \n",
        "\n",
        "The fashion MNIST dataset is already split for you between a training set and a test set, but it can be useful to split the training set further to have a validation set:\n"
      ]
    },
    {
      "cell_type": "code",
      "metadata": {
        "id": "v5knEMVQjzIU"
      },
      "source": [
        "fashion_mnist = keras.datasets.fashion_mnist\n",
        "(X_train_full, y_train_full), (X_test, y_test) = keras.datasets.fashion_mnist.load_data()"
      ],
      "execution_count": 3,
      "outputs": []
    },
    {
      "cell_type": "markdown",
      "metadata": {
        "id": "LuZcvkBxjzIn"
      },
      "source": [
        "From the dataset documentation we know, that the **labels** are **class IDs** that correspond to the following **`class_names`**:"
      ]
    },
    {
      "cell_type": "code",
      "metadata": {
        "id": "WmS0brgljzIo"
      },
      "source": [
        "class_names = [\"T-shirt\", \"Trouser\", \"Pullover\", \"Dress\", \"Coat\",\n",
        "               \"Sandal\", \"Shirt\", \"Sneaker\", \"Bag\", \"Ankle boot\"]"
      ],
      "execution_count": 4,
      "outputs": []
    },
    {
      "cell_type": "code",
      "metadata": {
        "id": "_AohFjDO7rWa",
        "outputId": "9b95d6f6-e0f2-494c-c0da-092fd8fa4959",
        "colab": {
          "base_uri": "https://localhost:8080/"
        }
      },
      "source": [
        "y_train_full[0]"
      ],
      "execution_count": 7,
      "outputs": [
        {
          "output_type": "execute_result",
          "data": {
            "text/plain": [
              "9"
            ]
          },
          "metadata": {
            "tags": []
          },
          "execution_count": 7
        }
      ]
    },
    {
      "cell_type": "code",
      "metadata": {
        "id": "5haYdhQZjzIq",
        "colab": {
          "base_uri": "https://localhost:8080/",
          "height": 35
        },
        "outputId": "6aea80e4-a603-4a74-d7b7-8cfd1c8177d6"
      },
      "source": [
        "class_names[y_train_full[0]]"
      ],
      "execution_count": 6,
      "outputs": [
        {
          "output_type": "execute_result",
          "data": {
            "application/vnd.google.colaboratory.intrinsic+json": {
              "type": "string"
            },
            "text/plain": [
              "'Ankle boot'"
            ]
          },
          "metadata": {
            "tags": []
          },
          "execution_count": 6
        }
      ]
    },
    {
      "cell_type": "markdown",
      "metadata": {
        "id": "uLCceLIoh0FV"
      },
      "source": [
        "Plot part of the dataset to get an overview\n"
      ]
    },
    {
      "cell_type": "code",
      "metadata": {
        "id": "g5w1HgKtjzIw",
        "colab": {
          "base_uri": "https://localhost:8080/",
          "height": 441
        },
        "outputId": "e70ef6bd-0306-427e-c936-b3294bdcdf68"
      },
      "source": [
        "# code for viewing, not for teaching\n",
        "n_rows = 5\n",
        "n_cols = 12\n",
        "plt.figure(figsize=(n_cols * 1.2, n_rows * 1.2))\n",
        "for row in range(n_rows):\n",
        "    for col in range(n_cols):\n",
        "        index = n_cols * row + col\n",
        "        plt.subplot(n_rows, n_cols, index + 1)\n",
        "        plt.imshow(X_train_full[index], cmap=plt.cm.binary, interpolation=\"nearest\")\n",
        "        plt.title(class_names[y_train_full[index]], fontsize=12)\n",
        "        plt.axis('off')\n",
        "plt.tight_layout()\n",
        "plt.show()"
      ],
      "execution_count": 13,
      "outputs": [
        {
          "output_type": "display_data",
          "data": {
            "image/png": "[encoded data removed]",
            "text/plain": [
              "<Figure size 1036.8x432 with 60 Axes>"
            ]
          },
          "metadata": {
            "tags": [],
            "needs_background": "light"
          }
        }
      ]
    },
    {
      "cell_type": "markdown",
      "metadata": {
        "id": "nqcw-1PbB59C"
      },
      "source": [
        "##Inpect the data\n"
      ]
    },
    {
      "cell_type": "markdown",
      "metadata": {
        "id": "_jWZzLRVjzIW"
      },
      "source": [
        "The training set contains 60,000 grayscale images, each 28x28 pixels:"
      ]
    },
    {
      "cell_type": "code",
      "metadata": {
        "id": "5xuF9Jx5jzIX",
        "colab": {
          "base_uri": "https://localhost:8080/"
        },
        "outputId": "e3bda0f3-935e-4a56-fe11-a6b90434ecb9"
      },
      "source": [
        "X_train_full.shape"
      ],
      "execution_count": 11,
      "outputs": [
        {
          "output_type": "execute_result",
          "data": {
            "text/plain": [
              "(60000, 28, 28)"
            ]
          },
          "metadata": {
            "tags": []
          },
          "execution_count": 11
        }
      ]
    },
    {
      "cell_type": "code",
      "metadata": {
        "id": "yM6pJgYP9OpE",
        "outputId": "132e58df-d553-4e57-91ad-4ce8775e7bb0",
        "colab": {
          "base_uri": "https://localhost:8080/"
        }
      },
      "source": [
        "sample_img = X_train_full[100,:,:]\n",
        "sample_img.shape"
      ],
      "execution_count": 19,
      "outputs": [
        {
          "output_type": "execute_result",
          "data": {
            "text/plain": [
              "(28, 28)"
            ]
          },
          "metadata": {
            "tags": []
          },
          "execution_count": 19
        }
      ]
    },
    {
      "cell_type": "markdown",
      "metadata": {
        "id": "pmdaXHeljzId"
      },
      "source": [
        "One may plot an image using Matplotlib's `imshow()` function::"
      ]
    },
    {
      "cell_type": "code",
      "metadata": {
        "id": "X6tiZAlmNoE7",
        "colab": {
          "base_uri": "https://localhost:8080/",
          "height": 269
        },
        "outputId": "3c4b3501-621d-4e97-8d0e-4c0d7f51e4f4"
      },
      "source": [
        "plt.imshow(sample_img, cmap=plt.cm.binary);"
      ],
      "execution_count": 23,
      "outputs": [
        {
          "output_type": "display_data",
          "data": {
            "image/png": "[encoded data removed]",
            "text/plain": [
              "<Figure size 432x288 with 1 Axes>"
            ]
          },
          "metadata": {
            "tags": [],
            "needs_background": "light"
          }
        }
      ]
    },
    {
      "cell_type": "markdown",
      "metadata": {
        "id": "ges7UgA1jzIY"
      },
      "source": [
        "Each pixel intensity is an 8bit interger value.\n",
        "- 0 is white\n",
        "- 255 is black"
      ]
    },
    {
      "cell_type": "code",
      "metadata": {
        "id": "fO9--c7bjzIZ",
        "colab": {
          "base_uri": "https://localhost:8080/"
        },
        "outputId": "2aae7b36-8558-4719-b0ee-b70e57138d05"
      },
      "source": [
        "sample_img.dtype"
      ],
      "execution_count": 30,
      "outputs": [
        {
          "output_type": "execute_result",
          "data": {
            "text/plain": [
              "dtype('uint8')"
            ]
          },
          "metadata": {
            "tags": []
          },
          "execution_count": 30
        }
      ]
    },
    {
      "cell_type": "code",
      "metadata": {
        "id": "3lFmSDPU-CAI",
        "outputId": "37ed258e-a1e3-4a70-910b-46573a365511",
        "colab": {
          "base_uri": "https://localhost:8080/"
        }
      },
      "source": [
        "pd.Series(sample_img.flatten()).value_counts().sort_index()"
      ],
      "execution_count": 28,
      "outputs": [
        {
          "output_type": "execute_result",
          "data": {
            "text/plain": [
              "0      300\n",
              "1       17\n",
              "2       12\n",
              "3        2\n",
              "4        6\n",
              "      ... \n",
              "240      1\n",
              "241      1\n",
              "249      1\n",
              "250      1\n",
              "255     15\n",
              "Length: 147, dtype: int64"
            ]
          },
          "metadata": {
            "tags": []
          },
          "execution_count": 28
        }
      ]
    },
    {
      "cell_type": "code",
      "metadata": {
        "id": "LzUAOKou_Oqx",
        "colab": {
          "base_uri": "https://localhost:8080/"
        },
        "outputId": "02a29005-a521-43fb-b014-8fb5f1b8f6c4"
      },
      "source": [
        "sample_img[:,:13]"
      ],
      "execution_count": 31,
      "outputs": [
        {
          "output_type": "execute_result",
          "data": {
            "text/plain": [
              "array([[  0,   0,   0,   0,   0,   0,   0,   0,   0,   1,   0,   0,  18],\n",
              "       [  0,   0,   0,   0,   0,   0,   0,   0,   0,   0,   0,  99, 155],\n",
              "       [  0,   0,   0,   0,   0,   0,   0,   0,   1,   0, 110, 136,   0],\n",
              "       [  0,   0,   0,   0,   0,   1,   0,   6,   0,  72, 147,   0,   0],\n",
              "       [  0,   0,   0,   0,   0,   1,   5,   0,   0, 174,   4,   0,   4],\n",
              "       [  0,   0,   0,   0,   0,   0,   8,   0, 125, 128,   0,   9,   0],\n",
              "       [  0,   0,   0,   0,   0,   0,   0,   0, 184,   9,   0,   4,   0],\n",
              "       [  0,   0,   0,   1,   0,   2,   0,  73, 158,   0,   0,   0,   0],\n",
              "       [  0,   0,   2,   5,   1,   0,   0, 157,  98,   0,   2,   0,   0],\n",
              "       [  0,   0,   0,   0,   0,   0,   0, 231,  84,   0,   2,   1,   1],\n",
              "       [  0,   0,   0,   0,   0,   0,  38, 183,  81,   0,   0,   0,   2],\n",
              "       [  0,   0, 173, 216, 193, 213, 183, 164, 167,  98,  16,   0,   0],\n",
              "       [  0,   0, 185, 221, 217, 210, 202, 222, 200, 206, 202, 204, 109],\n",
              "       [  0,   0, 183, 220, 205, 200, 193, 184, 189, 182, 173, 194, 215],\n",
              "       [  0,   0, 190, 233, 203, 206, 214, 216, 195, 183, 176, 159, 175],\n",
              "       [  0,   0, 180, 228, 201, 202, 188, 183, 178, 192, 186, 181, 181],\n",
              "       [  0,   0, 167, 235, 200, 207, 207, 209, 207, 203, 198, 189, 182],\n",
              "       [  0,   0, 152, 250, 208, 214, 209, 202, 200, 202, 205, 204, 200],\n",
              "       [  0,   0, 126, 255, 211, 215, 210, 206, 203, 203, 203, 206, 204],\n",
              "       [  0,   0, 107, 255, 212, 211, 210, 211, 208, 206, 206, 207, 208],\n",
              "       [  0,   0,  63, 232, 211, 216, 212, 214, 212, 212, 214, 212, 211],\n",
              "       [  0,   0,  14, 255, 218, 221, 215, 218, 218, 217, 215, 213, 211],\n",
              "       [  0,   0,   0, 230, 227, 214, 217, 218, 216, 217, 217, 214, 216],\n",
              "       [  0,   0,   0, 177, 233, 216, 223, 222, 213, 213, 215, 212, 220],\n",
              "       [  0,   0,   0,  10, 223, 222, 220, 211, 213, 215, 220, 222, 226],\n",
              "       [  0,   0,   0,   0, 126, 241, 208, 210, 214, 214, 216, 216, 220],\n",
              "       [  0,   0,   0,   0,   0, 188, 237, 230, 233, 255, 255, 255, 255],\n",
              "       [  0,   0,   0,   0,   0,   0,  63,  95, 108, 105, 100, 103, 104]],\n",
              "      dtype=uint8)"
            ]
          },
          "metadata": {
            "tags": []
          },
          "execution_count": 31
        }
      ]
    },
    {
      "cell_type": "markdown",
      "metadata": {
        "id": "8H96qOJScTD3"
      },
      "source": [
        "## Scale the data"
      ]
    },
    {
      "cell_type": "markdown",
      "metadata": {
        "id": "SGA6Zhd9cbEU"
      },
      "source": [
        "Since we are going to train the neural network using **Gradient Descent**, we must scale the input features. \n",
        "\n",
        "For simplicity, we just divide by 255.0 (which converts the features from `int` to `float`)"
      ]
    },
    {
      "cell_type": "code",
      "metadata": {
        "id": "JJH_ub1bcSd3",
        "colab": {
          "base_uri": "https://localhost:8080/"
        },
        "outputId": "a4d7991a-e74a-42a3-f975-70cceb0e8f4a"
      },
      "source": [
        "scale = X_train_full.max()\n",
        "scale"
      ],
      "execution_count": 32,
      "outputs": [
        {
          "output_type": "execute_result",
          "data": {
            "text/plain": [
              "255"
            ]
          },
          "metadata": {
            "tags": []
          },
          "execution_count": 32
        }
      ]
    },
    {
      "cell_type": "code",
      "metadata": {
        "id": "T7k7WQG-cShS"
      },
      "source": [
        "X_train_full = X_train_full / scale\n",
        "X_test = X_test / scale"
      ],
      "execution_count": 35,
      "outputs": []
    },
    {
      "cell_type": "code",
      "metadata": {
        "id": "DH_khHbCfGaX",
        "colab": {
          "base_uri": "https://localhost:8080/"
        },
        "outputId": "5d2207ec-e5c1-4215-908e-6221036e1115"
      },
      "source": [
        "X_test.max()"
      ],
      "execution_count": 36,
      "outputs": [
        {
          "output_type": "execute_result",
          "data": {
            "text/plain": [
              "1.0"
            ]
          },
          "metadata": {
            "tags": []
          },
          "execution_count": 36
        }
      ]
    },
    {
      "cell_type": "markdown",
      "metadata": {
        "id": "aPqqIaWmDKuR"
      },
      "source": [
        "##Split a validation set"
      ]
    },
    {
      "cell_type": "markdown",
      "metadata": {
        "id": "juKEC0CIjzIb"
      },
      "source": [
        "Let's split the *full training set* into a *validation set* and a (smaller) *training set*. But first check whether the images are sorted."
      ]
    },
    {
      "cell_type": "markdown",
      "metadata": {
        "id": "kPlSWEZ4jzIi"
      },
      "source": [
        "The labels are the class IDs (represented as uint8), from 0 to 9:"
      ]
    },
    {
      "cell_type": "code",
      "metadata": {
        "id": "5Pw_ZwgZjzIk",
        "colab": {
          "base_uri": "https://localhost:8080/"
        },
        "outputId": "b97627b9-b861-4057-f3dd-1dabc51fd05a"
      },
      "source": [
        "y_train_full"
      ],
      "execution_count": 37,
      "outputs": [
        {
          "output_type": "execute_result",
          "data": {
            "text/plain": [
              "array([9, 0, 0, ..., 3, 0, 5], dtype=uint8)"
            ]
          },
          "metadata": {
            "tags": []
          },
          "execution_count": 37
        }
      ]
    },
    {
      "cell_type": "markdown",
      "metadata": {
        "id": "ERU9jpXGXeEn"
      },
      "source": [
        "Assessing the *class ID's* randomness: "
      ]
    },
    {
      "cell_type": "code",
      "metadata": {
        "id": "eFKe7q3lSNxb",
        "colab": {
          "base_uri": "https://localhost:8080/",
          "height": 286
        },
        "outputId": "a872fd87-fdec-43e7-8a72-f8f48a68b06c"
      },
      "source": [
        "plt.plot(y_train_full[:500], \"d\")\n",
        "plt.xlabel(\"sample\"), plt.ylabel(\"class ID\")\n",
        "plt.yticks(range(len(class_names)), labels=class_names);"
      ],
      "execution_count": 41,
      "outputs": [
        {
          "output_type": "display_data",
          "data": {
            "image/png": "[encoded data removed]",
            "text/plain": [
              "<Figure size 432x288 with 1 Axes>"
            ]
          },
          "metadata": {
            "tags": [],
            "needs_background": "light"
          }
        }
      ]
    },
    {
      "cell_type": "markdown",
      "metadata": {
        "id": "JeD2uRTXYMrw"
      },
      "source": [
        "The distribution seems random. Therefore the training set can be splitted."
      ]
    },
    {
      "cell_type": "code",
      "metadata": {
        "id": "aKL0JInMjzIb"
      },
      "source": [
        "valid_size = 5000\n",
        "X_valid, X_train = X_train_full[:valid_size], X_train_full[valid_size:]\n",
        "y_valid, y_train = y_train_full[:valid_size], y_train_full[valid_size:]"
      ],
      "execution_count": 42,
      "outputs": []
    },
    {
      "cell_type": "markdown",
      "metadata": {
        "id": "Hmd6zVTqbVoo"
      },
      "source": [
        "Plot the shapes of the resulting sets"
      ]
    },
    {
      "cell_type": "code",
      "metadata": {
        "id": "-2lnV68tYsZ-",
        "colab": {
          "base_uri": "https://localhost:8080/"
        },
        "outputId": "c44fff28-e08e-4d50-8500-d774423040ea"
      },
      "source": [
        "for item in (\"X_train_full\", \"X_train\", \"X_valid\", \"X_test\"):\n",
        "    print(\"{:20}{}\".format(item+\".shape\", eval(item + \".shape\")))"
      ],
      "execution_count": 55,
      "outputs": [
        {
          "output_type": "stream",
          "text": [
            "X_train_full.shape  (60000, 28, 28)\n",
            "X_train.shape       (55000, 28, 28)\n",
            "X_valid.shape       (5000, 28, 28)\n",
            "X_test.shape        (10000, 28, 28)\n"
          ],
          "name": "stdout"
        }
      ]
    },
    {
      "cell_type": "markdown",
      "metadata": {
        "id": "Nt1J1_8DjLhE"
      },
      "source": [
        "# Build a model"
      ]
    },
    {
      "cell_type": "markdown",
      "metadata": {
        "id": "_KcSVtvPk2eS"
      },
      "source": [
        "The folloging  code creates a **classification MLP** (multi layer perceptron) with 2 hidden layers:"
      ]
    },
    {
      "cell_type": "code",
      "metadata": {
        "id": "j1jDkmA4jzIy"
      },
      "source": [
        "model = keras.models.Sequential()\n",
        "model.add(keras.layers.Flatten(input_shape=[28, 28]))\n",
        "model.add(keras.layers.Dense(300, activation=\"relu\"))\n",
        "model.add(keras.layers.Dense(100, activation=\"relu\"))\n",
        "model.add(keras.layers.Dense(10, activation=\"softmax\"))"
      ],
      "execution_count": 56,
      "outputs": []
    },
    {
      "cell_type": "markdown",
      "metadata": {
        "id": "f4Ok1P0wnglp"
      },
      "source": [
        "Alternatively to using `model.add` we can pass a list of layers to the `Sequential()` constructor"
      ]
    },
    {
      "cell_type": "code",
      "metadata": {
        "id": "fYEvpHvHjzI0"
      },
      "source": [
        "keras.backend.clear_session()\n",
        "np.random.seed(42)\n",
        "tf.random.set_seed(47)"
      ],
      "execution_count": 57,
      "outputs": []
    },
    {
      "cell_type": "code",
      "metadata": {
        "id": "Rr_-O_6NjzI2"
      },
      "source": [
        "model = keras.models.Sequential([\n",
        "    keras.layers.Flatten(input_shape=[28, 28]),\n",
        "    keras.layers.Dense(300, activation=keras.activations.relu),\n",
        "    keras.layers.Dense(100, activation=keras.activations.relu),\n",
        "    keras.layers.Dense(10, activation=keras.activations.softmax)\n",
        "])"
      ],
      "execution_count": 58,
      "outputs": []
    },
    {
      "cell_type": "code",
      "metadata": {
        "id": "2WtDyf3gtUHk",
        "colab": {
          "base_uri": "https://localhost:8080/"
        },
        "outputId": "9e64ef6d-c6a8-4d5a-f9ce-84984c90f756"
      },
      "source": [
        "keras.activations.relu([-2, -1, 0, 1, 2])"
      ],
      "execution_count": 59,
      "outputs": [
        {
          "output_type": "execute_result",
          "data": {
            "text/plain": [
              "<tf.Tensor: shape=(5,), dtype=int32, numpy=array([0, 0, 0, 1, 2], dtype=int32)>"
            ]
          },
          "metadata": {
            "tags": []
          },
          "execution_count": 59
        }
      ]
    },
    {
      "cell_type": "markdown",
      "metadata": {
        "id": "X_h-eCRNU9wL"
      },
      "source": [
        "## Model summary"
      ]
    },
    {
      "cell_type": "markdown",
      "metadata": {
        "id": "079O7pFlooUk"
      },
      "source": [
        "Let's print a summary of the model, using `model.summary()`\n"
      ]
    },
    {
      "cell_type": "code",
      "metadata": {
        "id": "zjt1mbX7jzI6",
        "colab": {
          "base_uri": "https://localhost:8080/"
        },
        "outputId": "734e86e1-be08-40ba-c98f-33e4c24d85cd"
      },
      "source": [
        "model.summary()"
      ],
      "execution_count": 60,
      "outputs": [
        {
          "output_type": "stream",
          "text": [
            "Model: \"sequential\"\n",
            "_________________________________________________________________\n",
            "Layer (type)                 Output Shape              Param #   \n",
            "=================================================================\n",
            "flatten (Flatten)            (None, 784)               0         \n",
            "_________________________________________________________________\n",
            "dense (Dense)                (None, 300)               235500    \n",
            "_________________________________________________________________\n",
            "dense_1 (Dense)              (None, 100)               30100     \n",
            "_________________________________________________________________\n",
            "dense_2 (Dense)              (None, 10)                1010      \n",
            "=================================================================\n",
            "Total params: 266,610\n",
            "Trainable params: 266,610\n",
            "Non-trainable params: 0\n",
            "_________________________________________________________________\n"
          ],
          "name": "stdout"
        }
      ]
    },
    {
      "cell_type": "markdown",
      "metadata": {
        "id": "GmEmbawQqQf9"
      },
      "source": [
        "Note the huge amount of (trainable) parameters. For example, the first hidden layer has 784 * 300 connection weights, plus 300 bias terms. This gives the model quite a flexibility to fit the training data, but it's also prone to overfitting, especially with few traning data."
      ]
    },
    {
      "cell_type": "code",
      "metadata": {
        "id": "0RdzQ099jzI8",
        "colab": {
          "base_uri": "https://localhost:8080/",
          "height": 533
        },
        "outputId": "bc59f2a6-c3bd-434b-f594-667e292dfa2f"
      },
      "source": [
        "keras.utils.plot_model(model, show_shapes=True)"
      ],
      "execution_count": 65,
      "outputs": [
        {
          "output_type": "execute_result",
          "data": {
            "image/png": "[encoded data removed]",
            "text/plain": [
              "<IPython.core.display.Image object>"
            ]
          },
          "metadata": {
            "tags": []
          },
          "execution_count": 65
        }
      ]
    },
    {
      "cell_type": "markdown",
      "metadata": {
        "id": "b1J_AUPxoJ7Z"
      },
      "source": [
        "The layers of the model can be accessed with `model.layers`"
      ]
    },
    {
      "cell_type": "code",
      "metadata": {
        "id": "qEe8Hx3kjzI-",
        "colab": {
          "base_uri": "https://localhost:8080/"
        },
        "outputId": "d2231d34-6b3b-405a-fb0f-367d67d76def"
      },
      "source": [
        "for i, layer in enumerate(model.layers):\n",
        "    print(\"layer {}: {}\".format(i, layer.name))"
      ],
      "execution_count": 66,
      "outputs": [
        {
          "output_type": "stream",
          "text": [
            "layer 0: flatten\n",
            "layer 1: dense\n",
            "layer 2: dense_1\n",
            "layer 3: dense_2\n"
          ],
          "name": "stdout"
        }
      ]
    },
    {
      "cell_type": "code",
      "metadata": {
        "id": "DQcLija2jzJB"
      },
      "source": [
        "weights, biases = model.layers[2].get_weights()"
      ],
      "execution_count": 68,
      "outputs": []
    },
    {
      "cell_type": "code",
      "metadata": {
        "id": "I_8DGrX8jzJE",
        "colab": {
          "base_uri": "https://localhost:8080/"
        },
        "outputId": "1ce56390-4897-4e3a-9012-c59235b2cadc"
      },
      "source": [
        "weights.shape"
      ],
      "execution_count": 69,
      "outputs": [
        {
          "output_type": "execute_result",
          "data": {
            "text/plain": [
              "(300, 100)"
            ]
          },
          "metadata": {
            "tags": []
          },
          "execution_count": 69
        }
      ]
    },
    {
      "cell_type": "code",
      "metadata": {
        "id": "QIrDFhiAjzJC",
        "colab": {
          "base_uri": "https://localhost:8080/"
        },
        "outputId": "97b59038-8ac6-4b1c-93dc-6f54c6edb3f8"
      },
      "source": [
        "weights"
      ],
      "execution_count": 70,
      "outputs": [
        {
          "output_type": "execute_result",
          "data": {
            "text/plain": [
              "array([[-0.08059598, -0.04436566,  0.09836388, ..., -0.00970834,\n",
              "        -0.08208367, -0.08370163],\n",
              "       [ 0.09863398,  0.0779072 ,  0.04579651, ...,  0.04844771,\n",
              "        -0.08347219, -0.12094279],\n",
              "       [ 0.03421906,  0.00415913,  0.03538304, ..., -0.02142348,\n",
              "        -0.0053408 , -0.0237003 ],\n",
              "       ...,\n",
              "       [-0.05799503, -0.07039653,  0.04351173, ...,  0.12147508,\n",
              "        -0.02084582,  0.0079603 ],\n",
              "       [-0.09212115, -0.03788842, -0.00952023, ..., -0.02874079,\n",
              "         0.03038765, -0.0189582 ],\n",
              "       [-0.09342733,  0.03829556,  0.07831021, ..., -0.08451727,\n",
              "         0.01317381, -0.06233999]], dtype=float32)"
            ]
          },
          "metadata": {
            "tags": []
          },
          "execution_count": 70
        }
      ]
    },
    {
      "cell_type": "code",
      "metadata": {
        "id": "W6xBSop2jzJI",
        "colab": {
          "base_uri": "https://localhost:8080/"
        },
        "outputId": "b4e1305b-8a19-4947-ccdc-905c0515548e"
      },
      "source": [
        "biases.shape"
      ],
      "execution_count": 71,
      "outputs": [
        {
          "output_type": "execute_result",
          "data": {
            "text/plain": [
              "(100,)"
            ]
          },
          "metadata": {
            "tags": []
          },
          "execution_count": 71
        }
      ]
    },
    {
      "cell_type": "code",
      "metadata": {
        "id": "mFFf8n0TjzJG",
        "colab": {
          "base_uri": "https://localhost:8080/"
        },
        "outputId": "33caaf70-78e1-4181-86ca-54998d494f02"
      },
      "source": [
        "biases"
      ],
      "execution_count": 72,
      "outputs": [
        {
          "output_type": "execute_result",
          "data": {
            "text/plain": [
              "array([0., 0., 0., 0., 0., 0., 0., 0., 0., 0., 0., 0., 0., 0., 0., 0., 0.,\n",
              "       0., 0., 0., 0., 0., 0., 0., 0., 0., 0., 0., 0., 0., 0., 0., 0., 0.,\n",
              "       0., 0., 0., 0., 0., 0., 0., 0., 0., 0., 0., 0., 0., 0., 0., 0., 0.,\n",
              "       0., 0., 0., 0., 0., 0., 0., 0., 0., 0., 0., 0., 0., 0., 0., 0., 0.,\n",
              "       0., 0., 0., 0., 0., 0., 0., 0., 0., 0., 0., 0., 0., 0., 0., 0., 0.,\n",
              "       0., 0., 0., 0., 0., 0., 0., 0., 0., 0., 0., 0., 0., 0., 0.],\n",
              "      dtype=float32)"
            ]
          },
          "metadata": {
            "tags": []
          },
          "execution_count": 72
        }
      ]
    },
    {
      "cell_type": "markdown",
      "metadata": {
        "id": "OOpWho9UVHvU"
      },
      "source": [
        "Note that the biases are initialized with zeros while the weights are initalized randomly. This is required to support convergence."
      ]
    },
    {
      "cell_type": "markdown",
      "metadata": {
        "id": "-w2YhxoSjYu3"
      },
      "source": [
        "# Train the model"
      ]
    },
    {
      "cell_type": "code",
      "metadata": {
        "id": "ORbe2bMijzJK"
      },
      "source": [
        "model.compile(loss=\"sparse_categorical_crossentropy\",\n",
        "              optimizer=\"sgd\",\n",
        "              metrics=[\"accuracy\"])"
      ],
      "execution_count": 74,
      "outputs": []
    },
    {
      "cell_type": "code",
      "metadata": {
        "id": "YLXl80keSno-"
      },
      "source": [
        "model.compile?"
      ],
      "execution_count": 73,
      "outputs": []
    },
    {
      "cell_type": "markdown",
      "metadata": {
        "id": "2zyxcIEkjzJL"
      },
      "source": [
        "This is equivalent to:"
      ]
    },
    {
      "cell_type": "markdown",
      "metadata": {
        "id": "avfNnVgSjzJM"
      },
      "source": [
        "```\n",
        "model.compile(loss=keras.losses.sparse_categorical_crossentropy,\n",
        "              optimizer=keras.optimizers.SGD(),\n",
        "              metrics=[keras.metrics.sparse_categorical_accuracy])\n",
        "```"
      ]
    },
    {
      "cell_type": "markdown",
      "metadata": {
        "id": "x4uCNLQCyR5a"
      },
      "source": [
        "Some explanation to the `compile` params:\n",
        "- The loss must be **sparse_**categorical_crossentropy because the labels are sparse, meaning just one value per training instance and not a tensor of len(10)\n",
        "- The optimizer is a simple **Stochastic Gradient Descent**\n",
        "- Since this is a **classifier**, it's useful to measure **accuracy** during training "
      ]
    },
    {
      "cell_type": "markdown",
      "metadata": {
        "id": "6xup3H4K0MzP"
      },
      "source": [
        "Now, let's kick-off training using `model.fit`"
      ]
    },
    {
      "cell_type": "code",
      "metadata": {
        "id": "GWwdFlwKjzJM",
        "colab": {
          "base_uri": "https://localhost:8080/"
        },
        "outputId": "6d6f731b-2406-4b3a-98e9-9b40272fdc86"
      },
      "source": [
        "history = model.fit(X_train, y_train, epochs=30, verbose=1,\n",
        "                    validation_data=(X_valid, y_valid))"
      ],
      "execution_count": 75,
      "outputs": [
        {
          "output_type": "stream",
          "text": [
            "Epoch 1/30\n",
            "1719/1719 [==============================] - 8s 3ms/step - loss: 0.9898 - accuracy: 0.6846 - val_loss: 0.5698 - val_accuracy: 0.8048\n",
            "Epoch 2/30\n",
            "1719/1719 [==============================] - 5s 3ms/step - loss: 0.5108 - accuracy: 0.8250 - val_loss: 0.4368 - val_accuracy: 0.8466\n",
            "Epoch 3/30\n",
            "1719/1719 [==============================] - 5s 3ms/step - loss: 0.4494 - accuracy: 0.8425 - val_loss: 0.4342 - val_accuracy: 0.8426\n",
            "Epoch 4/30\n",
            "1719/1719 [==============================] - 5s 3ms/step - loss: 0.4241 - accuracy: 0.8504 - val_loss: 0.3968 - val_accuracy: 0.8656\n",
            "Epoch 5/30\n",
            "1719/1719 [==============================] - 5s 3ms/step - loss: 0.4019 - accuracy: 0.8598 - val_loss: 0.3990 - val_accuracy: 0.8642\n",
            "Epoch 6/30\n",
            "1719/1719 [==============================] - 5s 3ms/step - loss: 0.3847 - accuracy: 0.8671 - val_loss: 0.3805 - val_accuracy: 0.8694\n",
            "Epoch 7/30\n",
            "1719/1719 [==============================] - 5s 3ms/step - loss: 0.3750 - accuracy: 0.8671 - val_loss: 0.3861 - val_accuracy: 0.8622\n",
            "Epoch 8/30\n",
            "1719/1719 [==============================] - 5s 3ms/step - loss: 0.3624 - accuracy: 0.8721 - val_loss: 0.3613 - val_accuracy: 0.8724\n",
            "Epoch 9/30\n",
            "1719/1719 [==============================] - 5s 3ms/step - loss: 0.3421 - accuracy: 0.8790 - val_loss: 0.3708 - val_accuracy: 0.8708\n",
            "Epoch 10/30\n",
            "1719/1719 [==============================] - 5s 3ms/step - loss: 0.3432 - accuracy: 0.8787 - val_loss: 0.3715 - val_accuracy: 0.8678\n",
            "Epoch 11/30\n",
            "1719/1719 [==============================] - 5s 3ms/step - loss: 0.3260 - accuracy: 0.8820 - val_loss: 0.3398 - val_accuracy: 0.8804\n",
            "Epoch 12/30\n",
            "1719/1719 [==============================] - 5s 3ms/step - loss: 0.3183 - accuracy: 0.8853 - val_loss: 0.3486 - val_accuracy: 0.8758\n",
            "Epoch 13/30\n",
            "1719/1719 [==============================] - 5s 3ms/step - loss: 0.3086 - accuracy: 0.8900 - val_loss: 0.3355 - val_accuracy: 0.8818\n",
            "Epoch 14/30\n",
            "1719/1719 [==============================] - 5s 3ms/step - loss: 0.3078 - accuracy: 0.8894 - val_loss: 0.3273 - val_accuracy: 0.8848\n",
            "Epoch 15/30\n",
            "1719/1719 [==============================] - 5s 3ms/step - loss: 0.2965 - accuracy: 0.8953 - val_loss: 0.3328 - val_accuracy: 0.8810\n",
            "Epoch 16/30\n",
            "1719/1719 [==============================] - 5s 3ms/step - loss: 0.2928 - accuracy: 0.8960 - val_loss: 0.3237 - val_accuracy: 0.8828\n",
            "Epoch 17/30\n",
            "1719/1719 [==============================] - 5s 3ms/step - loss: 0.2812 - accuracy: 0.8985 - val_loss: 0.3175 - val_accuracy: 0.8876\n",
            "Epoch 18/30\n",
            "1719/1719 [==============================] - 5s 3ms/step - loss: 0.2783 - accuracy: 0.9006 - val_loss: 0.3158 - val_accuracy: 0.8898\n",
            "Epoch 19/30\n",
            "1719/1719 [==============================] - 5s 3ms/step - loss: 0.2779 - accuracy: 0.8996 - val_loss: 0.3356 - val_accuracy: 0.8816\n",
            "Epoch 20/30\n",
            "1719/1719 [==============================] - 5s 3ms/step - loss: 0.2683 - accuracy: 0.9055 - val_loss: 0.3329 - val_accuracy: 0.8850\n",
            "Epoch 21/30\n",
            "1719/1719 [==============================] - 5s 3ms/step - loss: 0.2603 - accuracy: 0.9056 - val_loss: 0.3149 - val_accuracy: 0.8888\n",
            "Epoch 22/30\n",
            "1719/1719 [==============================] - 5s 3ms/step - loss: 0.2614 - accuracy: 0.9065 - val_loss: 0.3174 - val_accuracy: 0.8854\n",
            "Epoch 23/30\n",
            "1719/1719 [==============================] - 5s 3ms/step - loss: 0.2502 - accuracy: 0.9110 - val_loss: 0.3046 - val_accuracy: 0.8934\n",
            "Epoch 24/30\n",
            "1719/1719 [==============================] - 5s 3ms/step - loss: 0.2489 - accuracy: 0.9084 - val_loss: 0.3028 - val_accuracy: 0.8908\n",
            "Epoch 25/30\n",
            "1719/1719 [==============================] - 5s 3ms/step - loss: 0.2454 - accuracy: 0.9118 - val_loss: 0.3289 - val_accuracy: 0.8834\n",
            "Epoch 26/30\n",
            "1719/1719 [==============================] - 5s 3ms/step - loss: 0.2391 - accuracy: 0.9138 - val_loss: 0.3057 - val_accuracy: 0.8910\n",
            "Epoch 27/30\n",
            "1719/1719 [==============================] - 5s 3ms/step - loss: 0.2379 - accuracy: 0.9159 - val_loss: 0.3227 - val_accuracy: 0.8862\n",
            "Epoch 28/30\n",
            "1719/1719 [==============================] - 5s 3ms/step - loss: 0.2332 - accuracy: 0.9163 - val_loss: 0.3165 - val_accuracy: 0.8842\n",
            "Epoch 29/30\n",
            "1719/1719 [==============================] - 5s 3ms/step - loss: 0.2272 - accuracy: 0.9183 - val_loss: 0.2926 - val_accuracy: 0.8946\n",
            "Epoch 30/30\n",
            "1719/1719 [==============================] - 5s 3ms/step - loss: 0.2228 - accuracy: 0.9192 - val_loss: 0.2955 - val_accuracy: 0.8972\n"
          ],
          "name": "stdout"
        }
      ]
    },
    {
      "cell_type": "code",
      "metadata": {
        "id": "82xvP3IkjzJO",
        "colab": {
          "base_uri": "https://localhost:8080/",
          "height": 33
        },
        "outputId": "48a4df00-c850-4322-aa8f-1fbf6f692f1d"
      },
      "source": [
        "history.params"
      ],
      "execution_count": null,
      "outputs": [
        {
          "output_type": "execute_result",
          "data": {
            "text/plain": [
              "{'epochs': 30, 'steps': 1719, 'verbose': 1}"
            ]
          },
          "metadata": {
            "tags": []
          },
          "execution_count": 94
        }
      ]
    },
    {
      "cell_type": "code",
      "metadata": {
        "id": "bkTY_2SoH0TA",
        "outputId": "e9980a20-dbd6-449a-9bdd-678b464da104",
        "colab": {
          "base_uri": "https://localhost:8080/"
        }
      },
      "source": [
        "history.history.keys()"
      ],
      "execution_count": 89,
      "outputs": [
        {
          "output_type": "execute_result",
          "data": {
            "text/plain": [
              "dict_keys(['loss', 'accuracy', 'val_loss', 'val_accuracy'])"
            ]
          },
          "metadata": {
            "tags": []
          },
          "execution_count": 89
        }
      ]
    },
    {
      "cell_type": "code",
      "metadata": {
        "id": "BvRcpf0oGEuR",
        "outputId": "4c6d9fb4-378a-4a9d-e335-2bfd59d1e431",
        "colab": {
          "base_uri": "https://localhost:8080/",
          "height": 230
        }
      },
      "source": [
        "plt.figure(figsize=[10, 3]) \n",
        "for i, word in enumerate([\"loss\", \"accuracy\"]):\n",
        "    plt.subplot(1, 2, i+1)\n",
        "    for key, vals in history.history.items():\n",
        "        if word in key:\n",
        "            plt.plot(vals, label=key)\n",
        "    plt.grid(), plt.legend(), plt.title(word)"
      ],
      "execution_count": 88,
      "outputs": [
        {
          "output_type": "display_data",
          "data": {
            "image/png": "[encoded data removed]",
            "text/plain": [
              "<Figure size 720x216 with 2 Axes>"
            ]
          },
          "metadata": {
            "tags": [],
            "needs_background": "light"
          }
        }
      ]
    },
    {
      "cell_type": "markdown",
      "metadata": {
        "id": "5D23-to7G3HW"
      },
      "source": [
        "## Mount google drive"
      ]
    },
    {
      "cell_type": "code",
      "metadata": {
        "id": "44td_VNCHIp0",
        "colab": {
          "base_uri": "https://localhost:8080/",
          "height": 35
        },
        "outputId": "02fa304d-0f35-4777-d872-8019a17d1298"
      },
      "source": [
        "mount_dir = os.path.join(os.getcwd(), \"drive\")\n",
        "mount_dir"
      ],
      "execution_count": 90,
      "outputs": [
        {
          "output_type": "execute_result",
          "data": {
            "application/vnd.google.colaboratory.intrinsic+json": {
              "type": "string"
            },
            "text/plain": [
              "'/content/drive'"
            ]
          },
          "metadata": {
            "tags": []
          },
          "execution_count": 90
        }
      ]
    },
    {
      "cell_type": "code",
      "metadata": {
        "id": "_SOHBBtZG6Ul",
        "colab": {
          "base_uri": "https://localhost:8080/"
        },
        "outputId": "a615db73-c8fd-455b-a10f-3a1171c978db"
      },
      "source": [
        "from google.colab import drive\n",
        "drive.mount(mount_dir)"
      ],
      "execution_count": 91,
      "outputs": [
        {
          "output_type": "stream",
          "text": [
            "Mounted at /content/drive\n"
          ],
          "name": "stdout"
        }
      ]
    },
    {
      "cell_type": "markdown",
      "metadata": {
        "id": "4R-fkWQ7HahD"
      },
      "source": [
        "## model.save()\n"
      ]
    },
    {
      "cell_type": "code",
      "metadata": {
        "id": "u7DGgId6He21",
        "colab": {
          "base_uri": "https://localhost:8080/",
          "height": 35
        },
        "outputId": "06ec7532-1255-4fe6-b71b-f3e5c3531487"
      },
      "source": [
        "save_dir = os.path.join(mount_dir, \"My Drive\", \"Colab Notebooks\", \"models\")\n",
        "save_dir"
      ],
      "execution_count": 92,
      "outputs": [
        {
          "output_type": "execute_result",
          "data": {
            "application/vnd.google.colaboratory.intrinsic+json": {
              "type": "string"
            },
            "text/plain": [
              "'/content/drive/My Drive/Colab Notebooks/models'"
            ]
          },
          "metadata": {
            "tags": []
          },
          "execution_count": 92
        }
      ]
    },
    {
      "cell_type": "code",
      "metadata": {
        "id": "NuLDVcknIwKu",
        "outputId": "a497b998-bc84-4de9-cb94-ccb6f408908c",
        "colab": {
          "base_uri": "https://localhost:8080/"
        }
      },
      "source": [
        "os.path.isdir(save_dir)"
      ],
      "execution_count": 93,
      "outputs": [
        {
          "output_type": "execute_result",
          "data": {
            "text/plain": [
              "True"
            ]
          },
          "metadata": {
            "tags": []
          },
          "execution_count": 93
        }
      ]
    },
    {
      "cell_type": "code",
      "metadata": {
        "id": "qEmaH7azHexz"
      },
      "source": [
        "fn = \"fMNIST_NN_v1_ageron\"\n",
        "model.save(os.path.join(save_dir, fn + \".h5\"))"
      ],
      "execution_count": 94,
      "outputs": []
    },
    {
      "cell_type": "markdown",
      "metadata": {
        "id": "qq51fMtd2_vD"
      },
      "source": [
        "### Save validation and test data along with the model"
      ]
    },
    {
      "cell_type": "code",
      "metadata": {
        "id": "EHXemS0IhA2t"
      },
      "source": [
        "pickle_out(os.path.join(save_dir, fn+\"_data.pkl\"), locals(),\n",
        "           X_valid, y_valid, X_test, y_test, class_names)"
      ],
      "execution_count": 95,
      "outputs": []
    }
  ]
}