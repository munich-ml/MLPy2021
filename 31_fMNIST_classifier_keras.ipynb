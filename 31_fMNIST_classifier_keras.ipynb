{
  "nbformat": 4,
  "nbformat_minor": 0,
  "metadata": {
    "kernelspec": {
      "name": "python3",
      "display_name": "Python 3"
    },
    "language_info": {
      "codemirror_mode": {
        "name": "ipython",
        "version": 3
      },
      "file_extension": ".py",
      "mimetype": "text/x-python",
      "name": "python",
      "nbconvert_exporter": "python",
      "pygments_lexer": "ipython3",
      "version": "3.7.3"
    },
    "nav_menu": {
      "height": "264px",
      "width": "369px"
    },
    "toc": {
      "navigate_menu": true,
      "number_sections": true,
      "sideBar": true,
      "threshold": 6,
      "toc_cell": false,
      "toc_section_display": "block",
      "toc_window_display": false
    },
    "colab": {
      "name": "31_fMNIST_classifier_keras.ipynb",
      "provenance": [],
      "collapsed_sections": [],
      "toc_visible": true,
      "include_colab_link": true
    },
    "accelerator": "GPU"
  },
  "cells": [
    {
      "cell_type": "markdown",
      "metadata": {
        "id": "view-in-github",
        "colab_type": "text"
      },
      "source": [
        "<a href=\"https://colab.research.google.com/github/munich-ml/MLPy2020/blob/master/31_fMNIST_classifier_keras.ipynb\" target=\"_parent\"><img src=\"https://colab.research.google.com/assets/colab-badge.svg\" alt=\"Open In Colab\"/></a>"
      ]
    },
    {
      "cell_type": "markdown",
      "metadata": {
        "id": "e2piuI4C-TVp",
        "colab_type": "text"
      },
      "source": [
        "# Intro"
      ]
    },
    {
      "cell_type": "markdown",
      "metadata": {
        "id": "C9_a-EzZ6x8B",
        "colab_type": "text"
      },
      "source": [
        "## References\n",
        "Resources used to create this notebook:\n",
        "- [scikit-learn website](https://scikit-learn.org)\n",
        "- [Matplotlib website](https://matplotlib.org/)\n",
        "- [Wikipedia](https://en.wikipedia.org/wiki/Main_Page)\n",
        "- Hands-on Machine Learning with Scikit-learn, Keras & TensorFlow, Aurelien Geron, [Book on Amazon](https://www.amazon.de/Aur%C3%A9lien-G%C3%A9ron/dp/1492032646/ref=sr_1_3?__mk_de_DE=%C3%85M%C3%85%C5%BD%C3%95%C3%91&dchild=1&keywords=Hands-on+Machine+Learning+with+Scikit-learn%2C+Keras+%26+TensorFlow%2C+Aurelien+Geron%2C&qid=1589875241&sr=8-3)\n",
        "- Introduction to Machine Learning with Python, Andreas Mueller, [Book on Amazon](https://www.amazon.de/Introduction-Machine-Learning-Python-Scientists/dp/1449369413)\n"
      ]
    },
    {
      "cell_type": "markdown",
      "metadata": {
        "id": "eNST_MlxjzH0",
        "colab_type": "text"
      },
      "source": [
        "## Setup"
      ]
    },
    {
      "cell_type": "markdown",
      "metadata": {
        "id": "kgdeO6WVjzH0",
        "colab_type": "text"
      },
      "source": [
        "First, do the common imports.\n",
        "\n",
        "Tensorflow must be 2.x, because there are major changes from 1.x"
      ]
    },
    {
      "cell_type": "code",
      "metadata": {
        "id": "4yPHaPsejzH1",
        "colab_type": "code",
        "outputId": "09c9ed0e-71c2-48ff-b74a-56cfefc29780",
        "colab": {
          "base_uri": "https://localhost:8080/",
          "height": 33
        }
      },
      "source": [
        "# Python ≥3.5 is required\n",
        "import sys\n",
        "assert sys.version_info >= (3, 5)\n",
        "\n",
        "# Forces tensorflow version (only in colab)\n",
        "%tensorflow_version 2.x           \n",
        "\n",
        "# TensorFlow ≥2.0 is required\n",
        "import tensorflow as tf\n",
        "from tensorflow import keras\n",
        "assert tf.__version__ >= \"2.0\"\n",
        "\n",
        "# Common imports\n",
        "import os\n",
        "import numpy as np\n",
        "import pandas as pd\n",
        "\n",
        "# to make this notebook's output stable across runs\n",
        "np.random.seed(42)\n",
        "\n",
        "# Setup matplotlib\n",
        "%matplotlib inline\n",
        "import matplotlib as mpl\n",
        "import matplotlib.pyplot as plt\n",
        "mpl.rc('axes', labelsize=14)\n",
        "mpl.rc('xtick', labelsize=12)\n",
        "mpl.rc('ytick', labelsize=12)\n",
        "\n",
        "# Ignore useless warnings (see SciPy issue #5998)\n",
        "import warnings\n",
        "warnings.filterwarnings(action=\"ignore\", message=\"^internal gelsd\")\n",
        "\n",
        "# Get munich-ml helper functions from GitHub\n",
        "if \"MLPy2020\" in os.listdir():\n",
        "    !git -C MLPy2020 pull\n",
        "else:\n",
        "    !git clone https://github.com/munich-ml/MLPy2020/\n",
        "\n",
        "from MLPy2020.MLPy_helper_funcs import pickle_out"
      ],
      "execution_count": 54,
      "outputs": [
        {
          "output_type": "stream",
          "text": [
            "Already up to date.\n"
          ],
          "name": "stdout"
        }
      ]
    },
    {
      "cell_type": "code",
      "metadata": {
        "id": "80_aF5FGkSUV",
        "colab_type": "code",
        "outputId": "4b97c8c9-8a7d-4dc4-dba2-dbb3adcded87",
        "colab": {
          "base_uri": "https://localhost:8080/",
          "height": 33
        }
      },
      "source": [
        "tf.__version__"
      ],
      "execution_count": 55,
      "outputs": [
        {
          "output_type": "execute_result",
          "data": {
            "text/plain": [
              "'2.2.0'"
            ]
          },
          "metadata": {
            "tags": []
          },
          "execution_count": 55
        }
      ]
    },
    {
      "cell_type": "markdown",
      "metadata": {
        "id": "AExVh3ZXjzIM",
        "colab_type": "text"
      },
      "source": [
        "# Get the data"
      ]
    },
    {
      "cell_type": "markdown",
      "metadata": {
        "id": "eSTBrdRijzIT",
        "colab_type": "text"
      },
      "source": [
        "MNIST is probably THE classical dataset for image recognition. Meanwhile the more challanging fashion MNIST \\[[on Github](https://github.com/zalandoresearch/fashion-mnist)] from Zalando took over.\n",
        "\n",
        "Keras has a number of functions to load popular datasets in `keras.datasets`. \n",
        "\n",
        "The fashion MNIST dataset is already split for you between a training set and a test set, but it can be useful to split the training set further to have a validation set:\n"
      ]
    },
    {
      "cell_type": "code",
      "metadata": {
        "id": "v5knEMVQjzIU",
        "colab_type": "code",
        "colab": {}
      },
      "source": [
        "fashion_mnist = keras.datasets.fashion_mnist\n",
        "(X_train_full, y_train_full), (X_test, y_test) = keras.datasets.fashion_mnist.load_data()"
      ],
      "execution_count": 0,
      "outputs": []
    },
    {
      "cell_type": "markdown",
      "metadata": {
        "id": "LuZcvkBxjzIn",
        "colab_type": "text"
      },
      "source": [
        "From the dataset documentation we know, that the **labels** are **class IDs** that correspond to the following **`class_names`**:"
      ]
    },
    {
      "cell_type": "code",
      "metadata": {
        "id": "WmS0brgljzIo",
        "colab_type": "code",
        "colab": {}
      },
      "source": [
        "class_names = [\"T-shirt\", \"Trouser\", \"Pullover\", \"Dress\", \"Coat\",\n",
        "               \"Sandal\", \"Shirt\", \"Sneaker\", \"Bag\", \"Ankle boot\"]"
      ],
      "execution_count": 0,
      "outputs": []
    },
    {
      "cell_type": "code",
      "metadata": {
        "id": "5haYdhQZjzIq",
        "colab_type": "code",
        "outputId": "5b6b1569-86e1-4790-8260-ee19a4f4d25e",
        "colab": {
          "base_uri": "https://localhost:8080/",
          "height": 33
        }
      },
      "source": [
        "class_names[y_train_full[0]]"
      ],
      "execution_count": 59,
      "outputs": [
        {
          "output_type": "execute_result",
          "data": {
            "text/plain": [
              "'Ankle boot'"
            ]
          },
          "metadata": {
            "tags": []
          },
          "execution_count": 59
        }
      ]
    },
    {
      "cell_type": "markdown",
      "metadata": {
        "id": "uLCceLIoh0FV",
        "colab_type": "text"
      },
      "source": [
        "Plot part of the dataset to get an overview\n"
      ]
    },
    {
      "cell_type": "code",
      "metadata": {
        "id": "g5w1HgKtjzIw",
        "colab_type": "code",
        "outputId": "c922a4a6-ba06-4673-f821-d48d8da4fb7b",
        "colab": {
          "base_uri": "https://localhost:8080/",
          "height": 345
        }
      },
      "source": [
        "# code for viewing, not for teaching\n",
        "n_rows = 4\n",
        "n_cols = 12\n",
        "plt.figure(figsize=(n_cols * 1.2, n_rows * 1.2))\n",
        "for row in range(n_rows):\n",
        "    for col in range(n_cols):\n",
        "        index = n_cols * row + col\n",
        "        plt.subplot(n_rows, n_cols, index + 1)\n",
        "        plt.imshow(X_train_full[index], cmap=\"binary\", interpolation=\"nearest\")\n",
        "        plt.title(class_names[y_train_full[index]], fontsize=12)\n",
        "        plt.axis('off')\n",
        "        \n",
        "plt.tight_layout()\n",
        "plt.show()"
      ],
      "execution_count": 61,
      "outputs": [
        {
          "output_type": "display_data",
          "data": {
            "image/png": "[encoded data removed]",
            "text/plain": [
              "<Figure size 1036.8x345.6 with 48 Axes>"
            ]
          },
          "metadata": {
            "tags": [],
            "needs_background": "light"
          }
        }
      ]
    },
    {
      "cell_type": "markdown",
      "metadata": {
        "id": "nqcw-1PbB59C",
        "colab_type": "text"
      },
      "source": [
        "##Inpect the data\n"
      ]
    },
    {
      "cell_type": "markdown",
      "metadata": {
        "id": "_jWZzLRVjzIW",
        "colab_type": "text"
      },
      "source": [
        "The training set contains 60,000 grayscale images, each 28x28 pixels:"
      ]
    },
    {
      "cell_type": "code",
      "metadata": {
        "id": "5xuF9Jx5jzIX",
        "colab_type": "code",
        "outputId": "553d21c1-f04d-4c42-bc35-fa4017d8c00a",
        "colab": {
          "base_uri": "https://localhost:8080/",
          "height": 33
        }
      },
      "source": [
        "X_train_full.shape"
      ],
      "execution_count": 62,
      "outputs": [
        {
          "output_type": "execute_result",
          "data": {
            "text/plain": [
              "(60000, 28, 28)"
            ]
          },
          "metadata": {
            "tags": []
          },
          "execution_count": 62
        }
      ]
    },
    {
      "cell_type": "markdown",
      "metadata": {
        "id": "pmdaXHeljzId",
        "colab_type": "text"
      },
      "source": [
        "You can plot an image using Matplotlib's `imshow()` function, with a `'binary'`\n",
        " color map:"
      ]
    },
    {
      "cell_type": "code",
      "metadata": {
        "id": "X6tiZAlmNoE7",
        "colab_type": "code",
        "outputId": "14cb7822-fac5-4740-f113-004089e8bd55",
        "colab": {
          "base_uri": "https://localhost:8080/",
          "height": 140
        }
      },
      "source": [
        "plt.figure(figsize=(2,2))\n",
        "plt.imshow(X_train_full[100, :, :], cmap=plt.cm.binary)\n",
        "plt.axis(\"off\");"
      ],
      "execution_count": 68,
      "outputs": [
        {
          "output_type": "display_data",
          "data": {
            "image/png": "[encoded data removed]",
            "text/plain": [
              "<Figure size 144x144 with 1 Axes>"
            ]
          },
          "metadata": {
            "tags": [],
            "needs_background": "light"
          }
        }
      ]
    },
    {
      "cell_type": "markdown",
      "metadata": {
        "id": "ges7UgA1jzIY",
        "colab_type": "text"
      },
      "source": [
        "Each pixel intensity is an 8bit interger value.\n",
        "- 0 is white\n",
        "- 255 is black"
      ]
    },
    {
      "cell_type": "code",
      "metadata": {
        "id": "fO9--c7bjzIZ",
        "colab_type": "code",
        "outputId": "64d0760e-3bcd-41ad-9bd7-9067c8a246b9",
        "colab": {
          "base_uri": "https://localhost:8080/",
          "height": 33
        }
      },
      "source": [
        "type(X_train_full[0,0,0])"
      ],
      "execution_count": 9,
      "outputs": [
        {
          "output_type": "execute_result",
          "data": {
            "text/plain": [
              "numpy.uint8"
            ]
          },
          "metadata": {
            "tags": []
          },
          "execution_count": 9
        }
      ]
    },
    {
      "cell_type": "code",
      "metadata": {
        "id": "LzUAOKou_Oqx",
        "colab_type": "code",
        "outputId": "4796e93f-1d3a-4ead-c6a2-642e099014a1",
        "colab": {
          "base_uri": "https://localhost:8080/",
          "height": 502
        }
      },
      "source": [
        "X_train_full[100,:,:13]"
      ],
      "execution_count": 69,
      "outputs": [
        {
          "output_type": "execute_result",
          "data": {
            "text/plain": [
              "array([[  0,   0,   0,   0,   0,   0,   0,   0,   0,   1,   0,   0,  18],\n",
              "       [  0,   0,   0,   0,   0,   0,   0,   0,   0,   0,   0,  99, 155],\n",
              "       [  0,   0,   0,   0,   0,   0,   0,   0,   1,   0, 110, 136,   0],\n",
              "       [  0,   0,   0,   0,   0,   1,   0,   6,   0,  72, 147,   0,   0],\n",
              "       [  0,   0,   0,   0,   0,   1,   5,   0,   0, 174,   4,   0,   4],\n",
              "       [  0,   0,   0,   0,   0,   0,   8,   0, 125, 128,   0,   9,   0],\n",
              "       [  0,   0,   0,   0,   0,   0,   0,   0, 184,   9,   0,   4,   0],\n",
              "       [  0,   0,   0,   1,   0,   2,   0,  73, 158,   0,   0,   0,   0],\n",
              "       [  0,   0,   2,   5,   1,   0,   0, 157,  98,   0,   2,   0,   0],\n",
              "       [  0,   0,   0,   0,   0,   0,   0, 231,  84,   0,   2,   1,   1],\n",
              "       [  0,   0,   0,   0,   0,   0,  38, 183,  81,   0,   0,   0,   2],\n",
              "       [  0,   0, 173, 216, 193, 213, 183, 164, 167,  98,  16,   0,   0],\n",
              "       [  0,   0, 185, 221, 217, 210, 202, 222, 200, 206, 202, 204, 109],\n",
              "       [  0,   0, 183, 220, 205, 200, 193, 184, 189, 182, 173, 194, 215],\n",
              "       [  0,   0, 190, 233, 203, 206, 214, 216, 195, 183, 176, 159, 175],\n",
              "       [  0,   0, 180, 228, 201, 202, 188, 183, 178, 192, 186, 181, 181],\n",
              "       [  0,   0, 167, 235, 200, 207, 207, 209, 207, 203, 198, 189, 182],\n",
              "       [  0,   0, 152, 250, 208, 214, 209, 202, 200, 202, 205, 204, 200],\n",
              "       [  0,   0, 126, 255, 211, 215, 210, 206, 203, 203, 203, 206, 204],\n",
              "       [  0,   0, 107, 255, 212, 211, 210, 211, 208, 206, 206, 207, 208],\n",
              "       [  0,   0,  63, 232, 211, 216, 212, 214, 212, 212, 214, 212, 211],\n",
              "       [  0,   0,  14, 255, 218, 221, 215, 218, 218, 217, 215, 213, 211],\n",
              "       [  0,   0,   0, 230, 227, 214, 217, 218, 216, 217, 217, 214, 216],\n",
              "       [  0,   0,   0, 177, 233, 216, 223, 222, 213, 213, 215, 212, 220],\n",
              "       [  0,   0,   0,  10, 223, 222, 220, 211, 213, 215, 220, 222, 226],\n",
              "       [  0,   0,   0,   0, 126, 241, 208, 210, 214, 214, 216, 216, 220],\n",
              "       [  0,   0,   0,   0,   0, 188, 237, 230, 233, 255, 255, 255, 255],\n",
              "       [  0,   0,   0,   0,   0,   0,  63,  95, 108, 105, 100, 103, 104]],\n",
              "      dtype=uint8)"
            ]
          },
          "metadata": {
            "tags": []
          },
          "execution_count": 69
        }
      ]
    },
    {
      "cell_type": "markdown",
      "metadata": {
        "id": "8H96qOJScTD3",
        "colab_type": "text"
      },
      "source": [
        "## Scale the data"
      ]
    },
    {
      "cell_type": "markdown",
      "metadata": {
        "id": "SGA6Zhd9cbEU",
        "colab_type": "text"
      },
      "source": [
        "Since we are going to train the neural network using **Gradient Descent**, we must scale the input features. \n",
        "\n",
        "For simplicity, we just divide by 255.0 (which converts the features from `int` to `float`)"
      ]
    },
    {
      "cell_type": "code",
      "metadata": {
        "id": "JJH_ub1bcSd3",
        "colab_type": "code",
        "outputId": "b7685118-0963-4e2e-b011-73cb88c27901",
        "colab": {
          "base_uri": "https://localhost:8080/",
          "height": 33
        }
      },
      "source": [
        "scale = X_train_full.max()\n",
        "scale"
      ],
      "execution_count": 70,
      "outputs": [
        {
          "output_type": "execute_result",
          "data": {
            "text/plain": [
              "255"
            ]
          },
          "metadata": {
            "tags": []
          },
          "execution_count": 70
        }
      ]
    },
    {
      "cell_type": "code",
      "metadata": {
        "id": "T7k7WQG-cShS",
        "colab_type": "code",
        "colab": {}
      },
      "source": [
        "X_train_full = X_train_full / scale\n",
        "X_test = X_test / scale"
      ],
      "execution_count": 0,
      "outputs": []
    },
    {
      "cell_type": "code",
      "metadata": {
        "id": "DH_khHbCfGaX",
        "colab_type": "code",
        "outputId": "f9fb9fd6-e042-4cb9-abce-d756cbce70dd",
        "colab": {
          "base_uri": "https://localhost:8080/",
          "height": 33
        }
      },
      "source": [
        "X_test.max()"
      ],
      "execution_count": 72,
      "outputs": [
        {
          "output_type": "execute_result",
          "data": {
            "text/plain": [
              "1.0"
            ]
          },
          "metadata": {
            "tags": []
          },
          "execution_count": 72
        }
      ]
    },
    {
      "cell_type": "markdown",
      "metadata": {
        "id": "aPqqIaWmDKuR",
        "colab_type": "text"
      },
      "source": [
        "##Split a validation set"
      ]
    },
    {
      "cell_type": "markdown",
      "metadata": {
        "id": "juKEC0CIjzIb",
        "colab_type": "text"
      },
      "source": [
        "Let's split the *full training set* into a *validation set* and a (smaller) *training set*. But first check whether the images are sorted."
      ]
    },
    {
      "cell_type": "markdown",
      "metadata": {
        "id": "kPlSWEZ4jzIi",
        "colab_type": "text"
      },
      "source": [
        "The labels are the class IDs (represented as uint8), from 0 to 9:"
      ]
    },
    {
      "cell_type": "code",
      "metadata": {
        "id": "5Pw_ZwgZjzIk",
        "colab_type": "code",
        "outputId": "4075de93-aab4-492e-92ff-3e413591e372",
        "colab": {
          "base_uri": "https://localhost:8080/",
          "height": 33
        }
      },
      "source": [
        "y_train_full"
      ],
      "execution_count": 73,
      "outputs": [
        {
          "output_type": "execute_result",
          "data": {
            "text/plain": [
              "array([9, 0, 0, ..., 3, 0, 5], dtype=uint8)"
            ]
          },
          "metadata": {
            "tags": []
          },
          "execution_count": 73
        }
      ]
    },
    {
      "cell_type": "markdown",
      "metadata": {
        "id": "ERU9jpXGXeEn",
        "colab_type": "text"
      },
      "source": [
        "Assessing the *class ID's* randomness: "
      ]
    },
    {
      "cell_type": "code",
      "metadata": {
        "id": "eFKe7q3lSNxb",
        "colab_type": "code",
        "outputId": "c4cd5ae2-615e-4e64-fa7e-8284f8eeaf4f",
        "colab": {
          "base_uri": "https://localhost:8080/",
          "height": 286
        }
      },
      "source": [
        "plt.plot(y_train_full[:500], \"d\")\n",
        "plt.xlabel(\"sample\"), plt.ylabel(\"class ID\")\n",
        "plt.yticks(range(len(class_names)), labels=class_names);"
      ],
      "execution_count": 77,
      "outputs": [
        {
          "output_type": "display_data",
          "data": {
            "image/png": "[encoded data removed]",
            "text/plain": [
              "<Figure size 432x288 with 1 Axes>"
            ]
          },
          "metadata": {
            "tags": [],
            "needs_background": "light"
          }
        }
      ]
    },
    {
      "cell_type": "markdown",
      "metadata": {
        "id": "JeD2uRTXYMrw",
        "colab_type": "text"
      },
      "source": [
        "The distribution seems random. Therefore the training set can be splitted."
      ]
    },
    {
      "cell_type": "code",
      "metadata": {
        "id": "aKL0JInMjzIb",
        "colab_type": "code",
        "colab": {}
      },
      "source": [
        "valid_size = 5000\n",
        "X_valid = X_train_full[:valid_size]\n",
        "X_train = X_train_full[valid_size:]\n",
        "\n",
        "\n",
        "y_valid, y_train = y_train_full[:valid_size], y_train_full[valid_size:]"
      ],
      "execution_count": 0,
      "outputs": []
    },
    {
      "cell_type": "markdown",
      "metadata": {
        "id": "Hmd6zVTqbVoo",
        "colab_type": "text"
      },
      "source": [
        "Plot the shapes of the resulting sets"
      ]
    },
    {
      "cell_type": "code",
      "metadata": {
        "id": "-2lnV68tYsZ-",
        "colab_type": "code",
        "outputId": "184ffee2-b6ea-49a9-8db9-0c2e47083beb",
        "colab": {
          "base_uri": "https://localhost:8080/",
          "height": 84
        }
      },
      "source": [
        "for item in (\"X_train_full\", \"X_train\", \"X_valid\", \"X_test\"):\n",
        "    if item in locals():\n",
        "        print(\"{}.shape: {}\".format(item, eval(item + \".shape\")))"
      ],
      "execution_count": 76,
      "outputs": [
        {
          "output_type": "stream",
          "text": [
            "X_train_full.shape: (60000, 28, 28)\n",
            "X_train.shape: (55000, 28, 28)\n",
            "X_valid.shape: (5000, 28, 28)\n",
            "X_test.shape: (10000, 28, 28)\n"
          ],
          "name": "stdout"
        }
      ]
    },
    {
      "cell_type": "markdown",
      "metadata": {
        "id": "Nt1J1_8DjLhE",
        "colab_type": "text"
      },
      "source": [
        "# Build a model"
      ]
    },
    {
      "cell_type": "markdown",
      "metadata": {
        "id": "_KcSVtvPk2eS",
        "colab_type": "text"
      },
      "source": [
        "This colde creates a classification MLP (multi layer perceptron) with 2 hidden layers:"
      ]
    },
    {
      "cell_type": "code",
      "metadata": {
        "id": "j1jDkmA4jzIy",
        "colab_type": "code",
        "colab": {}
      },
      "source": [
        "model = keras.models.Sequential()\n",
        "model.add(keras.layers.Flatten(input_shape=[28, 28]))\n",
        "model.add(keras.layers.Dense(300, activation=\"relu\"))\n",
        "model.add(keras.layers.Dense(100, activation=\"relu\"))\n",
        "model.add(keras.layers.Dense(10, activation=\"softmax\"))"
      ],
      "execution_count": 0,
      "outputs": []
    },
    {
      "cell_type": "markdown",
      "metadata": {
        "id": "f4Ok1P0wnglp",
        "colab_type": "text"
      },
      "source": [
        "Alternatively to using `model.add` we can pass a list of layers to the `Sequential()` constructor"
      ]
    },
    {
      "cell_type": "code",
      "metadata": {
        "id": "fYEvpHvHjzI0",
        "colab_type": "code",
        "colab": {}
      },
      "source": [
        "keras.backend.clear_session()\n",
        "np.random.seed(42)\n",
        "tf.random.set_seed(47)"
      ],
      "execution_count": 0,
      "outputs": []
    },
    {
      "cell_type": "code",
      "metadata": {
        "id": "Rr_-O_6NjzI2",
        "colab_type": "code",
        "colab": {}
      },
      "source": [
        "model = keras.models.Sequential([\n",
        "    keras.layers.Flatten(input_shape=[28, 28]),\n",
        "    keras.layers.Dense(300, activation=keras.activations.relu),\n",
        "    keras.layers.Dense(100, activation=keras.activations.relu),\n",
        "    keras.layers.Dense(10, activation=keras.activations.softmax)\n",
        "])"
      ],
      "execution_count": 0,
      "outputs": []
    },
    {
      "cell_type": "code",
      "metadata": {
        "id": "2WtDyf3gtUHk",
        "colab_type": "code",
        "outputId": "269e1f86-7e00-44b2-dd5b-d99153c0fa61",
        "colab": {
          "base_uri": "https://localhost:8080/",
          "height": 33
        }
      },
      "source": [
        "keras.activations.relu([-2, -1, 0, 1, 2])"
      ],
      "execution_count": 82,
      "outputs": [
        {
          "output_type": "execute_result",
          "data": {
            "text/plain": [
              "<tf.Tensor: shape=(5,), dtype=int32, numpy=array([0, 0, 0, 1, 2], dtype=int32)>"
            ]
          },
          "metadata": {
            "tags": []
          },
          "execution_count": 82
        }
      ]
    },
    {
      "cell_type": "markdown",
      "metadata": {
        "id": "X_h-eCRNU9wL",
        "colab_type": "text"
      },
      "source": [
        "## Model summary"
      ]
    },
    {
      "cell_type": "markdown",
      "metadata": {
        "id": "079O7pFlooUk",
        "colab_type": "text"
      },
      "source": [
        "Let's print a summary of the model, using `model.summary()`\n"
      ]
    },
    {
      "cell_type": "code",
      "metadata": {
        "id": "zjt1mbX7jzI6",
        "colab_type": "code",
        "outputId": "79f3c0e9-e39c-4d06-e753-bf1476cfa601",
        "colab": {
          "base_uri": "https://localhost:8080/",
          "height": 284
        }
      },
      "source": [
        "model.summary()"
      ],
      "execution_count": 83,
      "outputs": [
        {
          "output_type": "stream",
          "text": [
            "Model: \"sequential\"\n",
            "_________________________________________________________________\n",
            "Layer (type)                 Output Shape              Param #   \n",
            "=================================================================\n",
            "flatten (Flatten)            (None, 784)               0         \n",
            "_________________________________________________________________\n",
            "dense (Dense)                (None, 300)               235500    \n",
            "_________________________________________________________________\n",
            "dense_1 (Dense)              (None, 100)               30100     \n",
            "_________________________________________________________________\n",
            "dense_2 (Dense)              (None, 10)                1010      \n",
            "=================================================================\n",
            "Total params: 266,610\n",
            "Trainable params: 266,610\n",
            "Non-trainable params: 0\n",
            "_________________________________________________________________\n"
          ],
          "name": "stdout"
        }
      ]
    },
    {
      "cell_type": "markdown",
      "metadata": {
        "id": "GmEmbawQqQf9",
        "colab_type": "text"
      },
      "source": [
        "Note the huge amount of (trainable) parameters. For example, the first hidden layer has 784 * 300 connection weights, plus 300 bias terms. This gives the model quite a flexibility to fit the training data, but it's also prone to overfitting, especially with few traning data."
      ]
    },
    {
      "cell_type": "code",
      "metadata": {
        "id": "0RdzQ099jzI8",
        "colab_type": "code",
        "outputId": "37704316-906c-4d97-e173-3ecd5e057096",
        "colab": {
          "base_uri": "https://localhost:8080/",
          "height": 533
        }
      },
      "source": [
        "keras.utils.plot_model(model, show_shapes=True)"
      ],
      "execution_count": 84,
      "outputs": [
        {
          "output_type": "execute_result",
          "data": {
            "image/png": "[encoded data removed]",
            "text/plain": [
              "<IPython.core.display.Image object>"
            ]
          },
          "metadata": {
            "tags": []
          },
          "execution_count": 84
        }
      ]
    },
    {
      "cell_type": "markdown",
      "metadata": {
        "id": "b1J_AUPxoJ7Z",
        "colab_type": "text"
      },
      "source": [
        "The layers of the model can be accessed with `model.layers`"
      ]
    },
    {
      "cell_type": "code",
      "metadata": {
        "id": "qEe8Hx3kjzI-",
        "colab_type": "code",
        "outputId": "f084e8ce-f0d1-4d8b-9c57-e8032c615314",
        "colab": {
          "base_uri": "https://localhost:8080/",
          "height": 84
        }
      },
      "source": [
        "for i, layer in enumerate(model.layers):\n",
        "    print(\"layer {}: {}\".format(i, layer.name))"
      ],
      "execution_count": 85,
      "outputs": [
        {
          "output_type": "stream",
          "text": [
            "layer 0: flatten\n",
            "layer 1: dense\n",
            "layer 2: dense_1\n",
            "layer 3: dense_2\n"
          ],
          "name": "stdout"
        }
      ]
    },
    {
      "cell_type": "code",
      "metadata": {
        "id": "DQcLija2jzJB",
        "colab_type": "code",
        "colab": {}
      },
      "source": [
        "weights, biases = model.layers[2].get_weights()"
      ],
      "execution_count": 0,
      "outputs": []
    },
    {
      "cell_type": "code",
      "metadata": {
        "id": "I_8DGrX8jzJE",
        "colab_type": "code",
        "outputId": "0702166d-390c-4faa-bf02-ff902393a4a4",
        "colab": {
          "base_uri": "https://localhost:8080/",
          "height": 33
        }
      },
      "source": [
        "weights.shape"
      ],
      "execution_count": 88,
      "outputs": [
        {
          "output_type": "execute_result",
          "data": {
            "text/plain": [
              "(300, 100)"
            ]
          },
          "metadata": {
            "tags": []
          },
          "execution_count": 88
        }
      ]
    },
    {
      "cell_type": "code",
      "metadata": {
        "id": "QIrDFhiAjzJC",
        "colab_type": "code",
        "outputId": "cb557cec-69bd-4eb1-9685-06a10ba04ff0",
        "colab": {
          "base_uri": "https://localhost:8080/",
          "height": 234
        }
      },
      "source": [
        "weights"
      ],
      "execution_count": 89,
      "outputs": [
        {
          "output_type": "execute_result",
          "data": {
            "text/plain": [
              "array([[ 0.04602376, -0.0038019 ,  0.10557164, ...,  0.05382182,\n",
              "        -0.09810888,  0.10975555],\n",
              "       [-0.0131605 , -0.0401491 , -0.01301397, ..., -0.06764732,\n",
              "        -0.05142808, -0.10832162],\n",
              "       [ 0.0748878 ,  0.11689269,  0.06693598, ...,  0.04704887,\n",
              "        -0.04119989,  0.1031863 ],\n",
              "       ...,\n",
              "       [-0.08606555,  0.1186113 , -0.11932244, ...,  0.1080649 ,\n",
              "        -0.10135629,  0.05048553],\n",
              "       [-0.1144025 , -0.06622341,  0.00440084, ..., -0.00439373,\n",
              "         0.01447021,  0.02337808],\n",
              "       [-0.10965011,  0.05632766,  0.11904002, ..., -0.0713827 ,\n",
              "         0.11915682, -0.10558839]], dtype=float32)"
            ]
          },
          "metadata": {
            "tags": []
          },
          "execution_count": 89
        }
      ]
    },
    {
      "cell_type": "code",
      "metadata": {
        "id": "W6xBSop2jzJI",
        "colab_type": "code",
        "outputId": "6cc044da-1438-4517-999d-8bc57c3bad45",
        "colab": {
          "base_uri": "https://localhost:8080/",
          "height": 33
        }
      },
      "source": [
        "biases.shape"
      ],
      "execution_count": 90,
      "outputs": [
        {
          "output_type": "execute_result",
          "data": {
            "text/plain": [
              "(100,)"
            ]
          },
          "metadata": {
            "tags": []
          },
          "execution_count": 90
        }
      ]
    },
    {
      "cell_type": "code",
      "metadata": {
        "id": "mFFf8n0TjzJG",
        "colab_type": "code",
        "outputId": "074b2089-f5ac-4527-c558-70ca2f3c2d80",
        "colab": {
          "base_uri": "https://localhost:8080/",
          "height": 134
        }
      },
      "source": [
        "biases"
      ],
      "execution_count": 91,
      "outputs": [
        {
          "output_type": "execute_result",
          "data": {
            "text/plain": [
              "array([0., 0., 0., 0., 0., 0., 0., 0., 0., 0., 0., 0., 0., 0., 0., 0., 0.,\n",
              "       0., 0., 0., 0., 0., 0., 0., 0., 0., 0., 0., 0., 0., 0., 0., 0., 0.,\n",
              "       0., 0., 0., 0., 0., 0., 0., 0., 0., 0., 0., 0., 0., 0., 0., 0., 0.,\n",
              "       0., 0., 0., 0., 0., 0., 0., 0., 0., 0., 0., 0., 0., 0., 0., 0., 0.,\n",
              "       0., 0., 0., 0., 0., 0., 0., 0., 0., 0., 0., 0., 0., 0., 0., 0., 0.,\n",
              "       0., 0., 0., 0., 0., 0., 0., 0., 0., 0., 0., 0., 0., 0., 0.],\n",
              "      dtype=float32)"
            ]
          },
          "metadata": {
            "tags": []
          },
          "execution_count": 91
        }
      ]
    },
    {
      "cell_type": "markdown",
      "metadata": {
        "id": "OOpWho9UVHvU",
        "colab_type": "text"
      },
      "source": [
        "Note that the biases are initialized with zeros while the weights are initalized randomly. This is required to support convergence."
      ]
    },
    {
      "cell_type": "markdown",
      "metadata": {
        "id": "-w2YhxoSjYu3",
        "colab_type": "text"
      },
      "source": [
        "# Train the model"
      ]
    },
    {
      "cell_type": "code",
      "metadata": {
        "id": "ORbe2bMijzJK",
        "colab_type": "code",
        "colab": {}
      },
      "source": [
        "model.compile(loss=\"sparse_categorical_crossentropy\",\n",
        "              optimizer=\"sgd\",\n",
        "              metrics=[\"accuracy\"])"
      ],
      "execution_count": 0,
      "outputs": []
    },
    {
      "cell_type": "code",
      "metadata": {
        "id": "YLXl80keSno-",
        "colab_type": "code",
        "colab": {}
      },
      "source": [
        "model.compile?"
      ],
      "execution_count": 0,
      "outputs": []
    },
    {
      "cell_type": "markdown",
      "metadata": {
        "id": "2zyxcIEkjzJL",
        "colab_type": "text"
      },
      "source": [
        "This is equivalent to:"
      ]
    },
    {
      "cell_type": "markdown",
      "metadata": {
        "id": "avfNnVgSjzJM",
        "colab_type": "text"
      },
      "source": [
        "```python\n",
        "model.compile(loss=keras.losses.sparse_categorical_crossentropy,\n",
        "              optimizer=keras.optimizers.SGD(),\n",
        "              metrics=[keras.metrics.sparse_categorical_accuracy])\n",
        "```"
      ]
    },
    {
      "cell_type": "markdown",
      "metadata": {
        "id": "x4uCNLQCyR5a",
        "colab_type": "text"
      },
      "source": [
        "Some explanation to the `compile` params:\n",
        "- The loss must be **sparse_**categorical_crossentropy because the labels are sparse, meaning just one value per training instance and not a tensor of len(10)\n",
        "- The optimizer is a simple **Stochastic Gradient Descent**\n",
        "- Since this is a **classifier**, it's useful to measure **accuracy** during training "
      ]
    },
    {
      "cell_type": "markdown",
      "metadata": {
        "id": "6xup3H4K0MzP",
        "colab_type": "text"
      },
      "source": [
        "Now, let's kick-off training using `model.fit`"
      ]
    },
    {
      "cell_type": "code",
      "metadata": {
        "id": "GWwdFlwKjzJM",
        "colab_type": "code",
        "outputId": "e44d4dd9-31fe-46e7-fca2-ff84a95984ca",
        "colab": {
          "base_uri": "https://localhost:8080/",
          "height": 1000
        }
      },
      "source": [
        "history = model.fit(X_train, y_train, epochs=30, verbose=1,\n",
        "                    validation_data=(X_valid, y_valid))"
      ],
      "execution_count": 93,
      "outputs": [
        {
          "output_type": "stream",
          "text": [
            "Epoch 1/30\n",
            "1719/1719 [==============================] - 4s 2ms/step - loss: 0.7237 - accuracy: 0.7644 - val_loss: 0.5207 - val_accuracy: 0.8234\n",
            "Epoch 2/30\n",
            "1719/1719 [==============================] - 4s 2ms/step - loss: 0.4843 - accuracy: 0.8318 - val_loss: 0.4345 - val_accuracy: 0.8538\n",
            "Epoch 3/30\n",
            "1719/1719 [==============================] - 4s 2ms/step - loss: 0.4393 - accuracy: 0.8455 - val_loss: 0.5288 - val_accuracy: 0.8002\n",
            "Epoch 4/30\n",
            "1719/1719 [==============================] - 4s 2ms/step - loss: 0.4126 - accuracy: 0.8565 - val_loss: 0.3919 - val_accuracy: 0.8652\n",
            "Epoch 5/30\n",
            "1719/1719 [==============================] - 4s 2ms/step - loss: 0.3939 - accuracy: 0.8620 - val_loss: 0.3751 - val_accuracy: 0.8678\n",
            "Epoch 6/30\n",
            "1719/1719 [==============================] - 4s 2ms/step - loss: 0.3752 - accuracy: 0.8676 - val_loss: 0.3709 - val_accuracy: 0.8714\n",
            "Epoch 7/30\n",
            "1719/1719 [==============================] - 4s 2ms/step - loss: 0.3633 - accuracy: 0.8715 - val_loss: 0.3613 - val_accuracy: 0.8714\n",
            "Epoch 8/30\n",
            "1719/1719 [==============================] - 4s 2ms/step - loss: 0.3518 - accuracy: 0.8751 - val_loss: 0.3823 - val_accuracy: 0.8630\n",
            "Epoch 9/30\n",
            "1719/1719 [==============================] - 4s 2ms/step - loss: 0.3415 - accuracy: 0.8787 - val_loss: 0.3601 - val_accuracy: 0.8692\n",
            "Epoch 10/30\n",
            "1719/1719 [==============================] - 4s 2ms/step - loss: 0.3323 - accuracy: 0.8822 - val_loss: 0.3432 - val_accuracy: 0.8778\n",
            "Epoch 11/30\n",
            "1719/1719 [==============================] - 4s 2ms/step - loss: 0.3243 - accuracy: 0.8833 - val_loss: 0.3440 - val_accuracy: 0.8778\n",
            "Epoch 12/30\n",
            "1719/1719 [==============================] - 4s 2ms/step - loss: 0.3151 - accuracy: 0.8863 - val_loss: 0.3313 - val_accuracy: 0.8828\n",
            "Epoch 13/30\n",
            "1719/1719 [==============================] - 4s 2ms/step - loss: 0.3082 - accuracy: 0.8891 - val_loss: 0.3268 - val_accuracy: 0.8878\n",
            "Epoch 14/30\n",
            "1719/1719 [==============================] - 4s 2ms/step - loss: 0.3023 - accuracy: 0.8916 - val_loss: 0.3421 - val_accuracy: 0.8774\n",
            "Epoch 15/30\n",
            "1719/1719 [==============================] - 4s 2ms/step - loss: 0.2948 - accuracy: 0.8938 - val_loss: 0.3215 - val_accuracy: 0.8852\n",
            "Epoch 16/30\n",
            "1719/1719 [==============================] - 4s 2ms/step - loss: 0.2892 - accuracy: 0.8971 - val_loss: 0.3087 - val_accuracy: 0.8900\n",
            "Epoch 17/30\n",
            "1719/1719 [==============================] - 4s 2ms/step - loss: 0.2839 - accuracy: 0.8977 - val_loss: 0.3545 - val_accuracy: 0.8732\n",
            "Epoch 18/30\n",
            "1719/1719 [==============================] - 4s 2ms/step - loss: 0.2778 - accuracy: 0.9000 - val_loss: 0.3146 - val_accuracy: 0.8892\n",
            "Epoch 19/30\n",
            "1719/1719 [==============================] - 4s 2ms/step - loss: 0.2729 - accuracy: 0.9022 - val_loss: 0.3121 - val_accuracy: 0.8896\n",
            "Epoch 20/30\n",
            "1719/1719 [==============================] - 4s 2ms/step - loss: 0.2675 - accuracy: 0.9035 - val_loss: 0.3250 - val_accuracy: 0.8828\n",
            "Epoch 21/30\n",
            "1719/1719 [==============================] - 4s 2ms/step - loss: 0.2624 - accuracy: 0.9059 - val_loss: 0.3060 - val_accuracy: 0.8928\n",
            "Epoch 22/30\n",
            "1719/1719 [==============================] - 4s 2ms/step - loss: 0.2575 - accuracy: 0.9074 - val_loss: 0.2979 - val_accuracy: 0.8958\n",
            "Epoch 23/30\n",
            "1719/1719 [==============================] - 4s 2ms/step - loss: 0.2535 - accuracy: 0.9083 - val_loss: 0.2982 - val_accuracy: 0.8934\n",
            "Epoch 24/30\n",
            "1719/1719 [==============================] - 4s 2ms/step - loss: 0.2487 - accuracy: 0.9103 - val_loss: 0.3079 - val_accuracy: 0.8874\n",
            "Epoch 25/30\n",
            "1719/1719 [==============================] - 4s 2ms/step - loss: 0.2443 - accuracy: 0.9125 - val_loss: 0.2972 - val_accuracy: 0.8958\n",
            "Epoch 26/30\n",
            "1719/1719 [==============================] - 4s 2ms/step - loss: 0.2407 - accuracy: 0.9135 - val_loss: 0.3064 - val_accuracy: 0.8882\n",
            "Epoch 27/30\n",
            "1719/1719 [==============================] - 4s 2ms/step - loss: 0.2362 - accuracy: 0.9154 - val_loss: 0.3037 - val_accuracy: 0.8936\n",
            "Epoch 28/30\n",
            "1719/1719 [==============================] - 4s 2ms/step - loss: 0.2327 - accuracy: 0.9165 - val_loss: 0.3014 - val_accuracy: 0.8910\n",
            "Epoch 29/30\n",
            "1719/1719 [==============================] - 4s 2ms/step - loss: 0.2286 - accuracy: 0.9181 - val_loss: 0.3041 - val_accuracy: 0.8928\n",
            "Epoch 30/30\n",
            "1719/1719 [==============================] - 4s 2ms/step - loss: 0.2251 - accuracy: 0.9189 - val_loss: 0.3013 - val_accuracy: 0.8950\n"
          ],
          "name": "stdout"
        }
      ]
    },
    {
      "cell_type": "code",
      "metadata": {
        "id": "82xvP3IkjzJO",
        "colab_type": "code",
        "outputId": "48a4df00-c850-4322-aa8f-1fbf6f692f1d",
        "colab": {
          "base_uri": "https://localhost:8080/",
          "height": 33
        }
      },
      "source": [
        "history.params"
      ],
      "execution_count": 94,
      "outputs": [
        {
          "output_type": "execute_result",
          "data": {
            "text/plain": [
              "{'epochs': 30, 'steps': 1719, 'verbose': 1}"
            ]
          },
          "metadata": {
            "tags": []
          },
          "execution_count": 94
        }
      ]
    },
    {
      "cell_type": "code",
      "metadata": {
        "id": "NftT4soXu1It",
        "colab_type": "code",
        "outputId": "d7dd5cd9-861c-4181-eb28-c98e06948593",
        "colab": {
          "base_uri": "https://localhost:8080/",
          "height": 297
        }
      },
      "source": [
        "fig = plt.figure(figsize=[10, 4]) \n",
        "axes = fig.subplots(nrows=1, ncols=2)\n",
        "for i, word in enumerate([\"loss\", \"accuracy\"]):\n",
        "    for key, vals in history.history.items():\n",
        "        if word in key:\n",
        "            axes[i].plot(vals, label=key)\n",
        "for ax in axes:\n",
        "    ax.grid(), ax.legend()\n",
        "fig.tight_layout()"
      ],
      "execution_count": 53,
      "outputs": [
        {
          "output_type": "display_data",
          "data": {
            "image/png": "[encoded data removed]",
            "text/plain": [
              "<Figure size 720x288 with 2 Axes>"
            ]
          },
          "metadata": {
            "tags": [],
            "needs_background": "light"
          }
        }
      ]
    },
    {
      "cell_type": "markdown",
      "metadata": {
        "id": "5D23-to7G3HW",
        "colab_type": "text"
      },
      "source": [
        "## Mount google drive"
      ]
    },
    {
      "cell_type": "code",
      "metadata": {
        "id": "44td_VNCHIp0",
        "colab_type": "code",
        "outputId": "e0b72b4a-f7ac-47e9-c02a-bc51aaa69cb2",
        "colab": {
          "base_uri": "https://localhost:8080/",
          "height": 33
        }
      },
      "source": [
        "mount_dir = os.path.join(os.getcwd(), \"drive\")\n",
        "mount_dir"
      ],
      "execution_count": 34,
      "outputs": [
        {
          "output_type": "execute_result",
          "data": {
            "text/plain": [
              "'/content/drive'"
            ]
          },
          "metadata": {
            "tags": []
          },
          "execution_count": 34
        }
      ]
    },
    {
      "cell_type": "code",
      "metadata": {
        "id": "_SOHBBtZG6Ul",
        "colab_type": "code",
        "outputId": "ceccf54c-d536-4d19-b2f0-3dbaeb1a5776",
        "colab": {
          "base_uri": "https://localhost:8080/",
          "height": 120
        }
      },
      "source": [
        "from google.colab import drive\n",
        "drive.mount(mount_dir)"
      ],
      "execution_count": 35,
      "outputs": [
        {
          "output_type": "stream",
          "text": [
            "Go to this URL in a browser: https://accounts.google.com/o/oauth2/auth?client_id=947318989803-6bn6qk8qdgf4n4g3pfee6491hc0brc4i.apps.googleusercontent.com&redirect_uri=urn%3aietf%3awg%3aoauth%3a2.0%3aoob&response_type=code&scope=email%20https%3a%2f%2fwww.googleapis.com%2fauth%2fdocs.test%20https%3a%2f%2fwww.googleapis.com%2fauth%2fdrive%20https%3a%2f%2fwww.googleapis.com%2fauth%2fdrive.photos.readonly%20https%3a%2f%2fwww.googleapis.com%2fauth%2fpeopleapi.readonly\n",
            "\n",
            "Enter your authorization code:\n",
            "··········\n",
            "Mounted at /content/drive\n"
          ],
          "name": "stdout"
        }
      ]
    },
    {
      "cell_type": "markdown",
      "metadata": {
        "id": "4R-fkWQ7HahD",
        "colab_type": "text"
      },
      "source": [
        "## model.save()\n"
      ]
    },
    {
      "cell_type": "code",
      "metadata": {
        "id": "u7DGgId6He21",
        "colab_type": "code",
        "outputId": "15b48c73-acae-4c77-85dd-fb38cd649f32",
        "colab": {
          "base_uri": "https://localhost:8080/",
          "height": 33
        }
      },
      "source": [
        "save_dir = os.path.join(mount_dir, \"My Drive\", \"Colab Notebooks\", \"models\")\n",
        "save_dir"
      ],
      "execution_count": 36,
      "outputs": [
        {
          "output_type": "execute_result",
          "data": {
            "text/plain": [
              "'/content/drive/My Drive/Colab Notebooks/models'"
            ]
          },
          "metadata": {
            "tags": []
          },
          "execution_count": 36
        }
      ]
    },
    {
      "cell_type": "code",
      "metadata": {
        "id": "qEmaH7azHexz",
        "colab_type": "code",
        "colab": {}
      },
      "source": [
        "fn = \"fMNIST_NN_v2_ageron\"\n",
        "model.save(os.path.join(save_dir, fn + \".h5\"))"
      ],
      "execution_count": 0,
      "outputs": []
    },
    {
      "cell_type": "markdown",
      "metadata": {
        "id": "qq51fMtd2_vD",
        "colab_type": "text"
      },
      "source": [
        "### Save validation and test data along with the model"
      ]
    },
    {
      "cell_type": "code",
      "metadata": {
        "id": "EHXemS0IhA2t",
        "colab_type": "code",
        "colab": {}
      },
      "source": [
        "pickle_out(os.path.join(save_dir, fn+\"_data.pkl\"), locals(),\n",
        "           X_valid, y_valid, X_test, y_test, class_names)"
      ],
      "execution_count": 0,
      "outputs": []
    }
  ]
}