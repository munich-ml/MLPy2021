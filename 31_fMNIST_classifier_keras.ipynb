{
  "nbformat": 4,
  "nbformat_minor": 0,
  "metadata": {
    "kernelspec": {
      "name": "python3",
      "display_name": "Python 3"
    },
    "language_info": {
      "codemirror_mode": {
        "name": "ipython",
        "version": 3
      },
      "file_extension": ".py",
      "mimetype": "text/x-python",
      "name": "python",
      "nbconvert_exporter": "python",
      "pygments_lexer": "ipython3",
      "version": "3.7.3"
    },
    "nav_menu": {
      "height": "264px",
      "width": "369px"
    },
    "toc": {
      "navigate_menu": true,
      "number_sections": true,
      "sideBar": true,
      "threshold": 6,
      "toc_cell": false,
      "toc_section_display": "block",
      "toc_window_display": false
    },
    "colab": {
      "name": "31_fMNIST_classifier_keras.ipynb",
      "provenance": [],
      "collapsed_sections": [],
      "toc_visible": true,
      "include_colab_link": true
    },
    "accelerator": "GPU"
  },
  "cells": [
    {
      "cell_type": "markdown",
      "metadata": {
        "id": "view-in-github",
        "colab_type": "text"
      },
      "source": [
        "<a href=\"https://colab.research.google.com/github/munich-ml/MLPy2021/blob/main/31_fMNIST_classifier_keras.ipynb\" target=\"_parent\"><img src=\"https://colab.research.google.com/assets/colab-badge.svg\" alt=\"Open In Colab\"/></a>"
      ]
    },
    {
      "cell_type": "markdown",
      "metadata": {
        "id": "e2piuI4C-TVp"
      },
      "source": [
        "# Intro"
      ]
    },
    {
      "cell_type": "markdown",
      "metadata": {
        "id": "C9_a-EzZ6x8B"
      },
      "source": [
        "## References\n",
        "Resources used to create this notebook:\n",
        "- [scikit-learn website](https://scikit-learn.org)\n",
        "- [Matplotlib website](https://matplotlib.org/)\n",
        "- [Wikipedia](https://en.wikipedia.org/wiki/Main_Page)\n",
        "- Hands-on Machine Learning with Scikit-learn, Keras & TensorFlow, Aurelien Geron, [Book on Amazon](https://www.amazon.de/Aur%C3%A9lien-G%C3%A9ron/dp/1492032646/ref=sr_1_3?__mk_de_DE=%C3%85M%C3%85%C5%BD%C3%95%C3%91&dchild=1&keywords=Hands-on+Machine+Learning+with+Scikit-learn%2C+Keras+%26+TensorFlow%2C+Aurelien+Geron%2C&qid=1589875241&sr=8-3)\n",
        "- Introduction to Machine Learning with Python, Andreas Mueller, [Book on Amazon](https://www.amazon.de/Introduction-Machine-Learning-Python-Scientists/dp/1449369413)\n"
      ]
    },
    {
      "cell_type": "markdown",
      "metadata": {
        "id": "eNST_MlxjzH0"
      },
      "source": [
        "## Setup"
      ]
    },
    {
      "cell_type": "markdown",
      "metadata": {
        "id": "kgdeO6WVjzH0"
      },
      "source": [
        "First, do the common imports.\n",
        "\n",
        "Tensorflow must be 2.x, because there are major changes from 1.x"
      ]
    },
    {
      "cell_type": "code",
      "metadata": {
        "id": "4yPHaPsejzH1",
        "outputId": "16e500a6-e729-4723-e2b8-72fe1068336e",
        "colab": {
          "base_uri": "https://localhost:8080/"
        }
      },
      "source": [
        "# Python ≥3.5 is required\n",
        "import sys\n",
        "assert sys.version_info >= (3, 5)\n",
        "\n",
        "# Common imports\n",
        "import os\n",
        "import numpy as np\n",
        "import pandas as pd\n",
        "\n",
        "# to make this notebook's output stable across runs\n",
        "np.random.seed(42)\n",
        "\n",
        "# Setup matplotlib\n",
        "%matplotlib inline\n",
        "import matplotlib as mpl\n",
        "import matplotlib.pyplot as plt\n",
        "mpl.rc('axes', labelsize=14)\n",
        "mpl.rc('xtick', labelsize=12)\n",
        "mpl.rc('ytick', labelsize=12)\n",
        "\n",
        "# Ignore useless warnings (see SciPy issue #5998)\n",
        "import warnings\n",
        "warnings.filterwarnings(action=\"ignore\", message=\"^internal gelsd\")\n",
        "\n",
        "# TensorFlow ≥2.0 is required\n",
        "import tensorflow as tf\n",
        "from tensorflow import keras\n",
        "assert tf.__version__ >= \"2.0\"\n",
        "\n",
        "in_colab = 'google.colab' in sys.modules   # check if note is executed within Colab\n",
        "\n",
        "# Forces tensorflow version (only in colab)\n",
        "if in_colab:\n",
        "    %tensorflow_version 2.x           \n",
        "\n",
        "# Clone the repository if executed in Google Colab\n",
        "if in_colab:  \n",
        "    if \"MLPy2021\" in os.listdir():\n",
        "        !git -C MLPy2021 pull\n",
        "    else:\n",
        "        !git clone https://github.com/munich-ml/MLPy2021/\n",
        "\n",
        "# lib.helper_funcs.py. The import path depends on Colab or local execution \n",
        "if in_colab:\n",
        "    from MLPy2021.lib.helper_funcs import pickle_out\n",
        "else: \n",
        "    from lib.helper_funcs import pickle_out\n"
      ],
      "execution_count": 1,
      "outputs": [
        {
          "output_type": "stream",
          "text": [
            "Cloning into 'MLPy2021'...\n",
            "remote: Enumerating objects: 365, done.\u001b[K\n",
            "remote: Counting objects: 100% (365/365), done.\u001b[K\n",
            "remote: Compressing objects: 100% (324/324), done.\u001b[K\n",
            "remote: Total 365 (delta 192), reused 113 (delta 34), pack-reused 0\u001b[K\n",
            "Receiving objects: 100% (365/365), 13.72 MiB | 17.88 MiB/s, done.\n",
            "Resolving deltas: 100% (192/192), done.\n"
          ],
          "name": "stdout"
        }
      ]
    },
    {
      "cell_type": "markdown",
      "metadata": {
        "id": "AExVh3ZXjzIM"
      },
      "source": [
        "# Get the data"
      ]
    },
    {
      "cell_type": "markdown",
      "metadata": {
        "id": "eSTBrdRijzIT"
      },
      "source": [
        "**MNIST** is probably **THE classical dataset for image recognition**. \n",
        "\n",
        "A more challanging dataset is the **[fashion MNIST](https://github.com/zalandoresearch/fashion-mnist)** from Zalando.\n",
        "\n",
        "``tf.keras`` already includes [fashion MNIST](https://www.tensorflow.org/api_docs/python/tf/keras/datasets/fashion_mnist/load_data) and some other popular datasets in `keras.datasets`. \n",
        "\n",
        "The fashion MNIST dataset is already split into a training set and a test set, but it can be useful to split the training set further to have a validation set:\n"
      ]
    },
    {
      "cell_type": "code",
      "metadata": {
        "id": "v5knEMVQjzIU",
        "outputId": "fe3efc03-6a91-4a96-dd08-4ebc6330b30d",
        "colab": {
          "base_uri": "https://localhost:8080/"
        }
      },
      "source": [
        "fashion_mnist = keras.datasets.fashion_mnist\n",
        "(X_train_full, y_train_full), (X_test, y_test) = keras.datasets.fashion_mnist.load_data()"
      ],
      "execution_count": 2,
      "outputs": [
        {
          "output_type": "stream",
          "text": [
            "Downloading data from https://storage.googleapis.com/tensorflow/tf-keras-datasets/train-labels-idx1-ubyte.gz\n",
            "32768/29515 [=================================] - 0s 0us/step\n",
            "Downloading data from https://storage.googleapis.com/tensorflow/tf-keras-datasets/train-images-idx3-ubyte.gz\n",
            "26427392/26421880 [==============================] - 0s 0us/step\n",
            "Downloading data from https://storage.googleapis.com/tensorflow/tf-keras-datasets/t10k-labels-idx1-ubyte.gz\n",
            "8192/5148 [===============================================] - 0s 0us/step\n",
            "Downloading data from https://storage.googleapis.com/tensorflow/tf-keras-datasets/t10k-images-idx3-ubyte.gz\n",
            "4423680/4422102 [==============================] - 0s 0us/step\n"
          ],
          "name": "stdout"
        }
      ]
    },
    {
      "cell_type": "markdown",
      "metadata": {
        "id": "LuZcvkBxjzIn"
      },
      "source": [
        "From the [dataset documentation](https://www.tensorflow.org/api_docs/python/tf/keras/datasets/fashion_mnist/load_data) we know, that the **labels** are **class IDs** that correspond to the following **`class_names`**:"
      ]
    },
    {
      "cell_type": "code",
      "metadata": {
        "id": "WmS0brgljzIo"
      },
      "source": [
        "class_names = [\"T-shirt\", \"Trouser\", \"Pullover\", \"Dress\", \"Coat\",\n",
        "               \"Sandal\", \"Shirt\", \"Sneaker\", \"Bag\", \"Ankle boot\"]"
      ],
      "execution_count": 3,
      "outputs": []
    },
    {
      "cell_type": "code",
      "metadata": {
        "id": "_AohFjDO7rWa",
        "outputId": "c6faa676-5fb4-4dec-8c8a-a642912a865b",
        "colab": {
          "base_uri": "https://localhost:8080/"
        }
      },
      "source": [
        "y_train_full[0]"
      ],
      "execution_count": 4,
      "outputs": [
        {
          "output_type": "execute_result",
          "data": {
            "text/plain": [
              "9"
            ]
          },
          "metadata": {
            "tags": []
          },
          "execution_count": 4
        }
      ]
    },
    {
      "cell_type": "code",
      "metadata": {
        "id": "5haYdhQZjzIq",
        "outputId": "f15d4a14-0e1c-4e6d-e44b-db8afabae2aa",
        "colab": {
          "base_uri": "https://localhost:8080/",
          "height": 35
        }
      },
      "source": [
        "class_names[y_train_full[0]]"
      ],
      "execution_count": 5,
      "outputs": [
        {
          "output_type": "execute_result",
          "data": {
            "application/vnd.google.colaboratory.intrinsic+json": {
              "type": "string"
            },
            "text/plain": [
              "'Ankle boot'"
            ]
          },
          "metadata": {
            "tags": []
          },
          "execution_count": 5
        }
      ]
    },
    {
      "cell_type": "markdown",
      "metadata": {
        "id": "uLCceLIoh0FV"
      },
      "source": [
        "Plot part of the dataset to get an overview\n"
      ]
    },
    {
      "cell_type": "code",
      "metadata": {
        "id": "g5w1HgKtjzIw",
        "outputId": "e03fac93-57e4-4a39-e588-dcf232c0eccc",
        "colab": {
          "base_uri": "https://localhost:8080/",
          "height": 439
        }
      },
      "source": [
        "# code for viewing, not for teaching\n",
        "n_rows, n_cols = 5, 12\n",
        "plt.figure(figsize=(n_cols*1.2, n_rows*1.2))\n",
        "for row in range(n_rows):\n",
        "    for col in range(n_cols):\n",
        "        index = n_cols * row + col\n",
        "        plt.subplot(n_rows, n_cols, index+1)\n",
        "        plt.imshow(X_train_full[index], cmap=plt.cm.binary, interpolation=\"nearest\")\n",
        "        plt.title(\"{} {}\".format(index, class_names[y_train_full[index]]), fontsize=12)\n",
        "        plt.axis('off')\n",
        "plt.tight_layout()"
      ],
      "execution_count": 6,
      "outputs": [
        {
          "output_type": "display_data",
          "data": {
            "image/png": "[encoded data removed]",
            "text/plain": [
              "<Figure size 1036.8x432 with 60 Axes>"
            ]
          },
          "metadata": {
            "tags": [],
            "needs_background": "light"
          }
        }
      ]
    },
    {
      "cell_type": "markdown",
      "metadata": {
        "id": "nqcw-1PbB59C"
      },
      "source": [
        "##Inpect the data\n"
      ]
    },
    {
      "cell_type": "markdown",
      "metadata": {
        "id": "_jWZzLRVjzIW"
      },
      "source": [
        "The training set contains 60,000 grayscale images, each 28x28 pixels:"
      ]
    },
    {
      "cell_type": "code",
      "metadata": {
        "id": "5xuF9Jx5jzIX",
        "outputId": "8f6306e0-a278-469f-ea2e-929f70a53e5b",
        "colab": {
          "base_uri": "https://localhost:8080/"
        }
      },
      "source": [
        "X_train_full.shape"
      ],
      "execution_count": 7,
      "outputs": [
        {
          "output_type": "execute_result",
          "data": {
            "text/plain": [
              "(60000, 28, 28)"
            ]
          },
          "metadata": {
            "tags": []
          },
          "execution_count": 7
        }
      ]
    },
    {
      "cell_type": "code",
      "metadata": {
        "id": "yM6pJgYP9OpE",
        "outputId": "8bd1b499-a0df-4547-a0ac-ec813615d6c8",
        "colab": {
          "base_uri": "https://localhost:8080/"
        }
      },
      "source": [
        "sample_img = X_train_full[100, :, :]\n",
        "sample_img.shape"
      ],
      "execution_count": 8,
      "outputs": [
        {
          "output_type": "execute_result",
          "data": {
            "text/plain": [
              "(28, 28)"
            ]
          },
          "metadata": {
            "tags": []
          },
          "execution_count": 8
        }
      ]
    },
    {
      "cell_type": "markdown",
      "metadata": {
        "id": "pmdaXHeljzId"
      },
      "source": [
        "One may plot an image using Matplotlib's `imshow()` function::"
      ]
    },
    {
      "cell_type": "code",
      "metadata": {
        "id": "X6tiZAlmNoE7",
        "outputId": "b8057b25-a7ca-429b-ce8d-7b83035dc355",
        "colab": {
          "base_uri": "https://localhost:8080/",
          "height": 269
        }
      },
      "source": [
        "plt.imshow(sample_img, cmap=plt.cm.binary);"
      ],
      "execution_count": 9,
      "outputs": [
        {
          "output_type": "display_data",
          "data": {
            "image/png": "[encoded data removed]",
            "text/plain": [
              "<Figure size 432x288 with 1 Axes>"
            ]
          },
          "metadata": {
            "tags": [],
            "needs_background": "light"
          }
        }
      ]
    },
    {
      "cell_type": "markdown",
      "metadata": {
        "id": "ges7UgA1jzIY"
      },
      "source": [
        "Each pixel intensity is an 8bit interger value.\n",
        "- 0 is white\n",
        "- 255 is black"
      ]
    },
    {
      "cell_type": "code",
      "metadata": {
        "id": "fO9--c7bjzIZ",
        "outputId": "8e2f670a-d615-4762-ca31-bceeff09e8f8",
        "colab": {
          "base_uri": "https://localhost:8080/"
        }
      },
      "source": [
        "sample_img.dtype"
      ],
      "execution_count": 10,
      "outputs": [
        {
          "output_type": "execute_result",
          "data": {
            "text/plain": [
              "dtype('uint8')"
            ]
          },
          "metadata": {
            "tags": []
          },
          "execution_count": 10
        }
      ]
    },
    {
      "cell_type": "code",
      "metadata": {
        "id": "3lFmSDPU-CAI",
        "outputId": "bc965fcb-f8d2-4d21-b85f-2e39be3e83a4",
        "colab": {
          "base_uri": "https://localhost:8080/"
        }
      },
      "source": [
        "pd.Series(sample_img.flatten()).value_counts().sort_index()"
      ],
      "execution_count": 11,
      "outputs": [
        {
          "output_type": "execute_result",
          "data": {
            "text/plain": [
              "0      300\n",
              "1       17\n",
              "2       12\n",
              "3        2\n",
              "4        6\n",
              "      ... \n",
              "240      1\n",
              "241      1\n",
              "249      1\n",
              "250      1\n",
              "255     15\n",
              "Length: 147, dtype: int64"
            ]
          },
          "metadata": {
            "tags": []
          },
          "execution_count": 11
        }
      ]
    },
    {
      "cell_type": "code",
      "metadata": {
        "id": "LzUAOKou_Oqx",
        "outputId": "a1f38a12-6304-459b-aae6-d1bc2d683eef",
        "colab": {
          "base_uri": "https://localhost:8080/"
        }
      },
      "source": [
        "sample_img[:,:13]"
      ],
      "execution_count": 12,
      "outputs": [
        {
          "output_type": "execute_result",
          "data": {
            "text/plain": [
              "array([[  0,   0,   0,   0,   0,   0,   0,   0,   0,   1,   0,   0,  18],\n",
              "       [  0,   0,   0,   0,   0,   0,   0,   0,   0,   0,   0,  99, 155],\n",
              "       [  0,   0,   0,   0,   0,   0,   0,   0,   1,   0, 110, 136,   0],\n",
              "       [  0,   0,   0,   0,   0,   1,   0,   6,   0,  72, 147,   0,   0],\n",
              "       [  0,   0,   0,   0,   0,   1,   5,   0,   0, 174,   4,   0,   4],\n",
              "       [  0,   0,   0,   0,   0,   0,   8,   0, 125, 128,   0,   9,   0],\n",
              "       [  0,   0,   0,   0,   0,   0,   0,   0, 184,   9,   0,   4,   0],\n",
              "       [  0,   0,   0,   1,   0,   2,   0,  73, 158,   0,   0,   0,   0],\n",
              "       [  0,   0,   2,   5,   1,   0,   0, 157,  98,   0,   2,   0,   0],\n",
              "       [  0,   0,   0,   0,   0,   0,   0, 231,  84,   0,   2,   1,   1],\n",
              "       [  0,   0,   0,   0,   0,   0,  38, 183,  81,   0,   0,   0,   2],\n",
              "       [  0,   0, 173, 216, 193, 213, 183, 164, 167,  98,  16,   0,   0],\n",
              "       [  0,   0, 185, 221, 217, 210, 202, 222, 200, 206, 202, 204, 109],\n",
              "       [  0,   0, 183, 220, 205, 200, 193, 184, 189, 182, 173, 194, 215],\n",
              "       [  0,   0, 190, 233, 203, 206, 214, 216, 195, 183, 176, 159, 175],\n",
              "       [  0,   0, 180, 228, 201, 202, 188, 183, 178, 192, 186, 181, 181],\n",
              "       [  0,   0, 167, 235, 200, 207, 207, 209, 207, 203, 198, 189, 182],\n",
              "       [  0,   0, 152, 250, 208, 214, 209, 202, 200, 202, 205, 204, 200],\n",
              "       [  0,   0, 126, 255, 211, 215, 210, 206, 203, 203, 203, 206, 204],\n",
              "       [  0,   0, 107, 255, 212, 211, 210, 211, 208, 206, 206, 207, 208],\n",
              "       [  0,   0,  63, 232, 211, 216, 212, 214, 212, 212, 214, 212, 211],\n",
              "       [  0,   0,  14, 255, 218, 221, 215, 218, 218, 217, 215, 213, 211],\n",
              "       [  0,   0,   0, 230, 227, 214, 217, 218, 216, 217, 217, 214, 216],\n",
              "       [  0,   0,   0, 177, 233, 216, 223, 222, 213, 213, 215, 212, 220],\n",
              "       [  0,   0,   0,  10, 223, 222, 220, 211, 213, 215, 220, 222, 226],\n",
              "       [  0,   0,   0,   0, 126, 241, 208, 210, 214, 214, 216, 216, 220],\n",
              "       [  0,   0,   0,   0,   0, 188, 237, 230, 233, 255, 255, 255, 255],\n",
              "       [  0,   0,   0,   0,   0,   0,  63,  95, 108, 105, 100, 103, 104]],\n",
              "      dtype=uint8)"
            ]
          },
          "metadata": {
            "tags": []
          },
          "execution_count": 12
        }
      ]
    },
    {
      "cell_type": "markdown",
      "metadata": {
        "id": "8H96qOJScTD3"
      },
      "source": [
        "## Scale the data"
      ]
    },
    {
      "cell_type": "markdown",
      "metadata": {
        "id": "SGA6Zhd9cbEU"
      },
      "source": [
        "Since we are going to train the neural network using **Gradient Descent**, we must scale the input features. \n",
        "\n",
        "The ``SciKit-learn MinMaxScaler`` doesn't work for 2D-features. Therefore, let's implement a simple Max Scaler with ``SciKit-learn`` compliant interface:"
      ]
    },
    {
      "cell_type": "code",
      "metadata": {
        "id": "qIM0XWkZtnrv"
      },
      "source": [
        "from sklearn.base import TransformerMixin,BaseEstimator\n",
        "\n",
        "class MaxScaler(BaseEstimator,TransformerMixin):\n",
        "\n",
        "    def fit(self, X, y=None):\n",
        "        self._scale = X.max()\n",
        "        return self\n",
        "\n",
        "    def transform(self, X):\n",
        "        return X / self._scale"
      ],
      "execution_count": 13,
      "outputs": []
    },
    {
      "cell_type": "code",
      "metadata": {
        "id": "eEK11t-w18w9"
      },
      "source": [
        "scaler = MaxScaler()\n",
        "X_train_full = scaler.fit_transform(X_train_full)\n",
        "X_test = scaler.transform(X_test)"
      ],
      "execution_count": 14,
      "outputs": []
    },
    {
      "cell_type": "code",
      "metadata": {
        "id": "mVZ-HlJu05Fe",
        "outputId": "3541e298-83f8-4d50-863d-dd6ac8e38af2",
        "colab": {
          "base_uri": "https://localhost:8080/"
        }
      },
      "source": [
        "X_train_full.max(), X_test.max()"
      ],
      "execution_count": 15,
      "outputs": [
        {
          "output_type": "execute_result",
          "data": {
            "text/plain": [
              "(1.0, 1.0)"
            ]
          },
          "metadata": {
            "tags": []
          },
          "execution_count": 15
        }
      ]
    },
    {
      "cell_type": "markdown",
      "metadata": {
        "id": "aPqqIaWmDKuR"
      },
      "source": [
        "##Split a validation set"
      ]
    },
    {
      "cell_type": "markdown",
      "metadata": {
        "id": "juKEC0CIjzIb"
      },
      "source": [
        "Let's split the *full training set* into a *validation set* and a (smaller) *training set*. "
      ]
    },
    {
      "cell_type": "code",
      "metadata": {
        "id": "FduVxwIr8VTZ"
      },
      "source": [
        "from sklearn.model_selection import train_test_split\n",
        "X_train, X_valid, y_train, y_valid = train_test_split(X_train_full, y_train_full, \n",
        "                                                      test_size=5000)"
      ],
      "execution_count": 16,
      "outputs": []
    },
    {
      "cell_type": "code",
      "metadata": {
        "id": "4KtBD7Rb8BR0",
        "outputId": "6dd1f503-9fa5-409b-b98c-4427f456a2de",
        "colab": {
          "base_uri": "https://localhost:8080/"
        }
      },
      "source": [
        "X_train.shape"
      ],
      "execution_count": 17,
      "outputs": [
        {
          "output_type": "execute_result",
          "data": {
            "text/plain": [
              "(55000, 28, 28)"
            ]
          },
          "metadata": {
            "tags": []
          },
          "execution_count": 17
        }
      ]
    },
    {
      "cell_type": "code",
      "metadata": {
        "id": "DPD9JgDi8BPC",
        "outputId": "fe308e78-d604-42d2-e0b1-65cdfc6d0c3c",
        "colab": {
          "base_uri": "https://localhost:8080/"
        }
      },
      "source": [
        "X_valid.shape"
      ],
      "execution_count": 18,
      "outputs": [
        {
          "output_type": "execute_result",
          "data": {
            "text/plain": [
              "(5000, 28, 28)"
            ]
          },
          "metadata": {
            "tags": []
          },
          "execution_count": 18
        }
      ]
    },
    {
      "cell_type": "code",
      "metadata": {
        "id": "DCSPDApc8BMu",
        "outputId": "8d8b559d-7fbe-48f8-da75-79fbfe183415",
        "colab": {
          "base_uri": "https://localhost:8080/"
        }
      },
      "source": [
        "y_train.shape"
      ],
      "execution_count": 19,
      "outputs": [
        {
          "output_type": "execute_result",
          "data": {
            "text/plain": [
              "(55000,)"
            ]
          },
          "metadata": {
            "tags": []
          },
          "execution_count": 19
        }
      ]
    },
    {
      "cell_type": "code",
      "metadata": {
        "id": "XmK80Zw5-PA8",
        "outputId": "3f2eeafb-fa87-4b9f-e38d-a24a06a3c78b",
        "colab": {
          "base_uri": "https://localhost:8080/",
          "height": 225
        }
      },
      "source": [
        "plt.figure(figsize=(12,3))\n",
        "for i, label in enumerate([\"y_train_full\", \"y_train\", \"y_valid\"]):\n",
        "    plt.subplot(1, 3, i+1)\n",
        "    plt.plot(eval(label+\"[:500]\"), \"d\")\n",
        "    plt.yticks(range(len(class_names)), labels=class_names)\n",
        "    plt.title(label), plt.tight_layout();"
      ],
      "execution_count": 20,
      "outputs": [
        {
          "output_type": "display_data",
          "data": {
            "image/png": "[encoded data removed]",
            "text/plain": [
              "<Figure size 864x216 with 3 Axes>"
            ]
          },
          "metadata": {
            "tags": [],
            "needs_background": "light"
          }
        }
      ]
    },
    {
      "cell_type": "markdown",
      "metadata": {
        "id": "Nt1J1_8DjLhE"
      },
      "source": [
        "# Build a model"
      ]
    },
    {
      "cell_type": "markdown",
      "metadata": {
        "id": "_KcSVtvPk2eS"
      },
      "source": [
        "The folloging  code creates a **classification MLP** (multi layer perceptron) with 2 hidden layers:"
      ]
    },
    {
      "cell_type": "code",
      "metadata": {
        "id": "j1jDkmA4jzIy"
      },
      "source": [
        "model = keras.models.Sequential()\n",
        "model.add(keras.layers.Flatten(input_shape=[28, 28]))\n",
        "model.add(keras.layers.Dense(300, activation=\"relu\"))\n",
        "model.add(keras.layers.Dense(100, activation=\"relu\"))\n",
        "model.add(keras.layers.Dense(10, activation=\"softmax\"))"
      ],
      "execution_count": 21,
      "outputs": []
    },
    {
      "cell_type": "markdown",
      "metadata": {
        "id": "f4Ok1P0wnglp"
      },
      "source": [
        "Alternatively to using `model.add` we can pass a list of layers to the `Sequential()` constructor"
      ]
    },
    {
      "cell_type": "code",
      "metadata": {
        "id": "fYEvpHvHjzI0"
      },
      "source": [
        "keras.backend.clear_session()\n",
        "np.random.seed(42)\n",
        "tf.random.set_seed(47)"
      ],
      "execution_count": 22,
      "outputs": []
    },
    {
      "cell_type": "code",
      "metadata": {
        "id": "Rr_-O_6NjzI2"
      },
      "source": [
        "model = keras.models.Sequential([\n",
        "    keras.layers.Flatten(input_shape=[28, 28]),\n",
        "    keras.layers.Dense(300, activation=keras.activations.relu),\n",
        "    keras.layers.Dense(100, activation=keras.activations.relu),\n",
        "    keras.layers.Dense(10, activation=keras.activations.softmax)\n",
        "])"
      ],
      "execution_count": 23,
      "outputs": []
    },
    {
      "cell_type": "code",
      "metadata": {
        "id": "2WtDyf3gtUHk",
        "outputId": "b77e9772-953b-4138-a743-bbcb9b77faa2",
        "colab": {
          "base_uri": "https://localhost:8080/"
        }
      },
      "source": [
        "keras.activations.relu([-2, -1, 0, 1, 2])"
      ],
      "execution_count": 24,
      "outputs": [
        {
          "output_type": "execute_result",
          "data": {
            "text/plain": [
              "<tf.Tensor: shape=(5,), dtype=int32, numpy=array([0, 0, 0, 1, 2], dtype=int32)>"
            ]
          },
          "metadata": {
            "tags": []
          },
          "execution_count": 24
        }
      ]
    },
    {
      "cell_type": "markdown",
      "metadata": {
        "id": "X_h-eCRNU9wL"
      },
      "source": [
        "## Model summary"
      ]
    },
    {
      "cell_type": "markdown",
      "metadata": {
        "id": "079O7pFlooUk"
      },
      "source": [
        "Let's print a summary of the model, using `model.summary()`\n"
      ]
    },
    {
      "cell_type": "code",
      "metadata": {
        "id": "zjt1mbX7jzI6",
        "outputId": "745b2700-b489-4e54-ec43-ea4ae4e8bc1c",
        "colab": {
          "base_uri": "https://localhost:8080/"
        }
      },
      "source": [
        "model.summary()"
      ],
      "execution_count": 25,
      "outputs": [
        {
          "output_type": "stream",
          "text": [
            "Model: \"sequential\"\n",
            "_________________________________________________________________\n",
            "Layer (type)                 Output Shape              Param #   \n",
            "=================================================================\n",
            "flatten (Flatten)            (None, 784)               0         \n",
            "_________________________________________________________________\n",
            "dense (Dense)                (None, 300)               235500    \n",
            "_________________________________________________________________\n",
            "dense_1 (Dense)              (None, 100)               30100     \n",
            "_________________________________________________________________\n",
            "dense_2 (Dense)              (None, 10)                1010      \n",
            "=================================================================\n",
            "Total params: 266,610\n",
            "Trainable params: 266,610\n",
            "Non-trainable params: 0\n",
            "_________________________________________________________________\n"
          ],
          "name": "stdout"
        }
      ]
    },
    {
      "cell_type": "markdown",
      "metadata": {
        "id": "GmEmbawQqQf9"
      },
      "source": [
        "Note the huge amount of (trainable) parameters. For example, the first hidden layer has 784 * 300 connection weights, plus 300 bias terms. This gives the model quite a flexibility to fit the training data, but it's also prone to overfitting, especially with few traning data."
      ]
    },
    {
      "cell_type": "code",
      "metadata": {
        "id": "0RdzQ099jzI8",
        "outputId": "51bce6fd-b087-4d9d-cf96-982dad75bbc1",
        "colab": {
          "base_uri": "https://localhost:8080/",
          "height": 533
        }
      },
      "source": [
        "keras.utils.plot_model(model, show_shapes=True)"
      ],
      "execution_count": 26,
      "outputs": [
        {
          "output_type": "execute_result",
          "data": {
            "image/png": "[encoded data removed]",
            "text/plain": [
              "<IPython.core.display.Image object>"
            ]
          },
          "metadata": {
            "tags": []
          },
          "execution_count": 26
        }
      ]
    },
    {
      "cell_type": "markdown",
      "metadata": {
        "id": "b1J_AUPxoJ7Z"
      },
      "source": [
        "The layers of the model can be accessed with `model.layers`"
      ]
    },
    {
      "cell_type": "code",
      "metadata": {
        "id": "qEe8Hx3kjzI-",
        "outputId": "bbc66356-f160-4fa9-8b0c-e8992f74ef5b",
        "colab": {
          "base_uri": "https://localhost:8080/"
        }
      },
      "source": [
        "for i, layer in enumerate(model.layers):\n",
        "    print(\"layer {}: {}\".format(i, layer.name))"
      ],
      "execution_count": 27,
      "outputs": [
        {
          "output_type": "stream",
          "text": [
            "layer 0: flatten\n",
            "layer 1: dense\n",
            "layer 2: dense_1\n",
            "layer 3: dense_2\n"
          ],
          "name": "stdout"
        }
      ]
    },
    {
      "cell_type": "code",
      "metadata": {
        "id": "DQcLija2jzJB"
      },
      "source": [
        "weights, biases = model.layers[2].get_weights()"
      ],
      "execution_count": 28,
      "outputs": []
    },
    {
      "cell_type": "code",
      "metadata": {
        "id": "I_8DGrX8jzJE",
        "outputId": "39d737b9-90a9-4100-bbba-a9f2bf927e31",
        "colab": {
          "base_uri": "https://localhost:8080/"
        }
      },
      "source": [
        "weights.shape"
      ],
      "execution_count": 29,
      "outputs": [
        {
          "output_type": "execute_result",
          "data": {
            "text/plain": [
              "(300, 100)"
            ]
          },
          "metadata": {
            "tags": []
          },
          "execution_count": 29
        }
      ]
    },
    {
      "cell_type": "code",
      "metadata": {
        "id": "QIrDFhiAjzJC",
        "outputId": "5491f3bd-99cf-4bfd-9852-b21eaecd41d3",
        "colab": {
          "base_uri": "https://localhost:8080/"
        }
      },
      "source": [
        "weights"
      ],
      "execution_count": 30,
      "outputs": [
        {
          "output_type": "execute_result",
          "data": {
            "text/plain": [
              "array([[-0.08059598, -0.04436566,  0.09836388, ..., -0.00970834,\n",
              "        -0.08208367, -0.08370163],\n",
              "       [ 0.09863398,  0.0779072 ,  0.04579651, ...,  0.04844771,\n",
              "        -0.08347219, -0.12094279],\n",
              "       [ 0.03421906,  0.00415913,  0.03538304, ..., -0.02142348,\n",
              "        -0.0053408 , -0.0237003 ],\n",
              "       ...,\n",
              "       [-0.05799503, -0.07039653,  0.04351173, ...,  0.12147508,\n",
              "        -0.02084582,  0.0079603 ],\n",
              "       [-0.09212115, -0.03788842, -0.00952023, ..., -0.02874079,\n",
              "         0.03038765, -0.0189582 ],\n",
              "       [-0.09342733,  0.03829556,  0.07831021, ..., -0.08451727,\n",
              "         0.01317381, -0.06233999]], dtype=float32)"
            ]
          },
          "metadata": {
            "tags": []
          },
          "execution_count": 30
        }
      ]
    },
    {
      "cell_type": "code",
      "metadata": {
        "id": "W6xBSop2jzJI",
        "outputId": "a6a80b59-41ce-4c4b-82d6-517eea7265e9",
        "colab": {
          "base_uri": "https://localhost:8080/"
        }
      },
      "source": [
        "biases.shape"
      ],
      "execution_count": 31,
      "outputs": [
        {
          "output_type": "execute_result",
          "data": {
            "text/plain": [
              "(100,)"
            ]
          },
          "metadata": {
            "tags": []
          },
          "execution_count": 31
        }
      ]
    },
    {
      "cell_type": "code",
      "metadata": {
        "id": "mFFf8n0TjzJG",
        "outputId": "d88444a2-d110-4265-ae2d-a1e2845f6744",
        "colab": {
          "base_uri": "https://localhost:8080/"
        }
      },
      "source": [
        "biases"
      ],
      "execution_count": 32,
      "outputs": [
        {
          "output_type": "execute_result",
          "data": {
            "text/plain": [
              "array([0., 0., 0., 0., 0., 0., 0., 0., 0., 0., 0., 0., 0., 0., 0., 0., 0.,\n",
              "       0., 0., 0., 0., 0., 0., 0., 0., 0., 0., 0., 0., 0., 0., 0., 0., 0.,\n",
              "       0., 0., 0., 0., 0., 0., 0., 0., 0., 0., 0., 0., 0., 0., 0., 0., 0.,\n",
              "       0., 0., 0., 0., 0., 0., 0., 0., 0., 0., 0., 0., 0., 0., 0., 0., 0.,\n",
              "       0., 0., 0., 0., 0., 0., 0., 0., 0., 0., 0., 0., 0., 0., 0., 0., 0.,\n",
              "       0., 0., 0., 0., 0., 0., 0., 0., 0., 0., 0., 0., 0., 0., 0.],\n",
              "      dtype=float32)"
            ]
          },
          "metadata": {
            "tags": []
          },
          "execution_count": 32
        }
      ]
    },
    {
      "cell_type": "markdown",
      "metadata": {
        "id": "OOpWho9UVHvU"
      },
      "source": [
        "Note that the biases are initialized with zeros while the weights are initalized randomly. This is required to support convergence."
      ]
    },
    {
      "cell_type": "markdown",
      "metadata": {
        "id": "U9QwYYkBbEGh"
      },
      "source": [
        "## Compile the model"
      ]
    },
    {
      "cell_type": "code",
      "metadata": {
        "id": "ORbe2bMijzJK"
      },
      "source": [
        "model.compile(loss=\"sparse_categorical_crossentropy\",\n",
        "              optimizer=\"sgd\",\n",
        "              metrics=[\"accuracy\"])"
      ],
      "execution_count": 33,
      "outputs": []
    },
    {
      "cell_type": "markdown",
      "metadata": {
        "id": "2zyxcIEkjzJL"
      },
      "source": [
        "This is equivalent to:\n",
        "```\n",
        "model.compile(loss=keras.losses.sparse_categorical_crossentropy,\n",
        "              optimizer=keras.optimizers.SGD(),\n",
        "              metrics=[keras.metrics.sparse_categorical_accuracy])\n",
        "```"
      ]
    },
    {
      "cell_type": "markdown",
      "metadata": {
        "id": "x4uCNLQCyR5a"
      },
      "source": [
        "Some explanation to the `compile` params:\n",
        "- The loss must be **sparse_**categorical_crossentropy because the labels are sparse, meaning just one value per training instance and not a tensor of len(10)\n",
        "- The optimizer is **Stochastic Gradient Descent**, minimizing a loss function on a subset of the dataset (*stochastic approximation*)\n",
        "- Since this is a **classifier**, it's useful to measure **accuracy** during training "
      ]
    },
    {
      "cell_type": "markdown",
      "metadata": {
        "id": "-w2YhxoSjYu3"
      },
      "source": [
        "# Train the model"
      ]
    },
    {
      "cell_type": "markdown",
      "metadata": {
        "id": "6xup3H4K0MzP"
      },
      "source": [
        "Start the training using `model.fit`"
      ]
    },
    {
      "cell_type": "code",
      "metadata": {
        "id": "GWwdFlwKjzJM",
        "outputId": "7289aa79-811a-4bc2-802e-ec704ba2af81",
        "colab": {
          "base_uri": "https://localhost:8080/"
        }
      },
      "source": [
        "history = model.fit(X_train, y_train, epochs=30, validation_data=(X_valid, y_valid))"
      ],
      "execution_count": 34,
      "outputs": [
        {
          "output_type": "stream",
          "text": [
            "Epoch 1/30\n",
            "1719/1719 [==============================] - 7s 2ms/step - loss: 0.7192 - accuracy: 0.7637 - val_loss: 0.5244 - val_accuracy: 0.8208\n",
            "Epoch 2/30\n",
            "1719/1719 [==============================] - 4s 2ms/step - loss: 0.4873 - accuracy: 0.8322 - val_loss: 0.4597 - val_accuracy: 0.8386\n",
            "Epoch 3/30\n",
            "1719/1719 [==============================] - 4s 2ms/step - loss: 0.4417 - accuracy: 0.8461 - val_loss: 0.4265 - val_accuracy: 0.8516\n",
            "Epoch 4/30\n",
            "1719/1719 [==============================] - 4s 2ms/step - loss: 0.4151 - accuracy: 0.8546 - val_loss: 0.4418 - val_accuracy: 0.8448\n",
            "Epoch 5/30\n",
            "1719/1719 [==============================] - 4s 2ms/step - loss: 0.3959 - accuracy: 0.8611 - val_loss: 0.3925 - val_accuracy: 0.8644\n",
            "Epoch 6/30\n",
            "1719/1719 [==============================] - 4s 2ms/step - loss: 0.3798 - accuracy: 0.8665 - val_loss: 0.4014 - val_accuracy: 0.8618\n",
            "Epoch 7/30\n",
            "1719/1719 [==============================] - 4s 2ms/step - loss: 0.3675 - accuracy: 0.8710 - val_loss: 0.4730 - val_accuracy: 0.8224\n",
            "Epoch 8/30\n",
            "1719/1719 [==============================] - 4s 2ms/step - loss: 0.3557 - accuracy: 0.8755 - val_loss: 0.3796 - val_accuracy: 0.8664\n",
            "Epoch 9/30\n",
            "1719/1719 [==============================] - 4s 2ms/step - loss: 0.3454 - accuracy: 0.8785 - val_loss: 0.3756 - val_accuracy: 0.8678\n",
            "Epoch 10/30\n",
            "1719/1719 [==============================] - 4s 2ms/step - loss: 0.3350 - accuracy: 0.8812 - val_loss: 0.3591 - val_accuracy: 0.8770\n",
            "Epoch 11/30\n",
            "1719/1719 [==============================] - 4s 2ms/step - loss: 0.3262 - accuracy: 0.8836 - val_loss: 0.3503 - val_accuracy: 0.8806\n",
            "Epoch 12/30\n",
            "1719/1719 [==============================] - 4s 2ms/step - loss: 0.3171 - accuracy: 0.8868 - val_loss: 0.3634 - val_accuracy: 0.8708\n",
            "Epoch 13/30\n",
            "1719/1719 [==============================] - 4s 2ms/step - loss: 0.3102 - accuracy: 0.8898 - val_loss: 0.3542 - val_accuracy: 0.8756\n",
            "Epoch 14/30\n",
            "1719/1719 [==============================] - 4s 2ms/step - loss: 0.3034 - accuracy: 0.8913 - val_loss: 0.3509 - val_accuracy: 0.8744\n",
            "Epoch 15/30\n",
            "1719/1719 [==============================] - 4s 2ms/step - loss: 0.2956 - accuracy: 0.8941 - val_loss: 0.3354 - val_accuracy: 0.8794\n",
            "Epoch 16/30\n",
            "1719/1719 [==============================] - 4s 2ms/step - loss: 0.2898 - accuracy: 0.8962 - val_loss: 0.3327 - val_accuracy: 0.8852\n",
            "Epoch 17/30\n",
            "1719/1719 [==============================] - 4s 2ms/step - loss: 0.2837 - accuracy: 0.8979 - val_loss: 0.3557 - val_accuracy: 0.8718\n",
            "Epoch 18/30\n",
            "1719/1719 [==============================] - 4s 2ms/step - loss: 0.2789 - accuracy: 0.9000 - val_loss: 0.3257 - val_accuracy: 0.8858\n",
            "Epoch 19/30\n",
            "1719/1719 [==============================] - 4s 2ms/step - loss: 0.2725 - accuracy: 0.9027 - val_loss: 0.3296 - val_accuracy: 0.8800\n",
            "Epoch 20/30\n",
            "1719/1719 [==============================] - 4s 2ms/step - loss: 0.2685 - accuracy: 0.9025 - val_loss: 0.3216 - val_accuracy: 0.8870\n",
            "Epoch 21/30\n",
            "1719/1719 [==============================] - 4s 2ms/step - loss: 0.2632 - accuracy: 0.9057 - val_loss: 0.3246 - val_accuracy: 0.8836\n",
            "Epoch 22/30\n",
            "1719/1719 [==============================] - 4s 2ms/step - loss: 0.2574 - accuracy: 0.9068 - val_loss: 0.3196 - val_accuracy: 0.8880\n",
            "Epoch 23/30\n",
            "1719/1719 [==============================] - 4s 2ms/step - loss: 0.2520 - accuracy: 0.9101 - val_loss: 0.3228 - val_accuracy: 0.8816\n",
            "Epoch 24/30\n",
            "1719/1719 [==============================] - 4s 2ms/step - loss: 0.2477 - accuracy: 0.9109 - val_loss: 0.3236 - val_accuracy: 0.8816\n",
            "Epoch 25/30\n",
            "1719/1719 [==============================] - 4s 2ms/step - loss: 0.2442 - accuracy: 0.9116 - val_loss: 0.3294 - val_accuracy: 0.8874\n",
            "Epoch 26/30\n",
            "1719/1719 [==============================] - 4s 2ms/step - loss: 0.2396 - accuracy: 0.9136 - val_loss: 0.3181 - val_accuracy: 0.8870\n",
            "Epoch 27/30\n",
            "1719/1719 [==============================] - 4s 2ms/step - loss: 0.2357 - accuracy: 0.9154 - val_loss: 0.3130 - val_accuracy: 0.8878\n",
            "Epoch 28/30\n",
            "1719/1719 [==============================] - 4s 2ms/step - loss: 0.2318 - accuracy: 0.9160 - val_loss: 0.3156 - val_accuracy: 0.8824\n",
            "Epoch 29/30\n",
            "1719/1719 [==============================] - 4s 2ms/step - loss: 0.2280 - accuracy: 0.9184 - val_loss: 0.3228 - val_accuracy: 0.8856\n",
            "Epoch 30/30\n",
            "1719/1719 [==============================] - 4s 2ms/step - loss: 0.2236 - accuracy: 0.9199 - val_loss: 0.3093 - val_accuracy: 0.8884\n"
          ],
          "name": "stdout"
        }
      ]
    },
    {
      "cell_type": "code",
      "metadata": {
        "id": "82xvP3IkjzJO",
        "outputId": "4b4e0287-73f1-483f-e187-23fe3da10411",
        "colab": {
          "base_uri": "https://localhost:8080/"
        }
      },
      "source": [
        "history.params"
      ],
      "execution_count": 35,
      "outputs": [
        {
          "output_type": "execute_result",
          "data": {
            "text/plain": [
              "{'epochs': 30, 'steps': 1719, 'verbose': 1}"
            ]
          },
          "metadata": {
            "tags": []
          },
          "execution_count": 35
        }
      ]
    },
    {
      "cell_type": "code",
      "metadata": {
        "id": "bkTY_2SoH0TA",
        "outputId": "8e64c572-bf8b-444e-d007-f279a5d3bef6",
        "colab": {
          "base_uri": "https://localhost:8080/"
        }
      },
      "source": [
        "history.history.keys()"
      ],
      "execution_count": 36,
      "outputs": [
        {
          "output_type": "execute_result",
          "data": {
            "text/plain": [
              "dict_keys(['loss', 'accuracy', 'val_loss', 'val_accuracy'])"
            ]
          },
          "metadata": {
            "tags": []
          },
          "execution_count": 36
        }
      ]
    },
    {
      "cell_type": "code",
      "metadata": {
        "id": "BvRcpf0oGEuR",
        "outputId": "61aea906-e7b6-490b-cce4-4275b809c49c",
        "colab": {
          "base_uri": "https://localhost:8080/",
          "height": 230
        }
      },
      "source": [
        "plt.figure(figsize=[10, 3]) \n",
        "for i, word in enumerate([\"loss\", \"accuracy\"]):\n",
        "    plt.subplot(1, 2, i+1)\n",
        "    for key, vals in history.history.items():\n",
        "        if word in key:\n",
        "            plt.plot(vals, label=key)\n",
        "    plt.grid(), plt.legend(), plt.title(word)"
      ],
      "execution_count": 37,
      "outputs": [
        {
          "output_type": "display_data",
          "data": {
            "image/png": "[encoded data removed]",
            "text/plain": [
              "<Figure size 720x216 with 2 Axes>"
            ]
          },
          "metadata": {
            "tags": [],
            "needs_background": "light"
          }
        }
      ]
    },
    {
      "cell_type": "markdown",
      "metadata": {
        "id": "5D23-to7G3HW"
      },
      "source": [
        "## Mount google drive"
      ]
    },
    {
      "cell_type": "code",
      "metadata": {
        "id": "44td_VNCHIp0",
        "outputId": "2ecc05c7-9594-4566-d308-540a41ea7e96",
        "colab": {
          "base_uri": "https://localhost:8080/",
          "height": 35
        }
      },
      "source": [
        "mount_dir = os.path.join(os.getcwd(), \"drive\")\n",
        "mount_dir"
      ],
      "execution_count": 38,
      "outputs": [
        {
          "output_type": "execute_result",
          "data": {
            "application/vnd.google.colaboratory.intrinsic+json": {
              "type": "string"
            },
            "text/plain": [
              "'/content/drive'"
            ]
          },
          "metadata": {
            "tags": []
          },
          "execution_count": 38
        }
      ]
    },
    {
      "cell_type": "code",
      "metadata": {
        "id": "_SOHBBtZG6Ul",
        "outputId": "9e12fc2f-4c40-405b-deed-154281a09997",
        "colab": {
          "base_uri": "https://localhost:8080/"
        }
      },
      "source": [
        "from google.colab import drive\n",
        "drive.mount(mount_dir)"
      ],
      "execution_count": 39,
      "outputs": [
        {
          "output_type": "stream",
          "text": [
            "Mounted at /content/drive\n"
          ],
          "name": "stdout"
        }
      ]
    },
    {
      "cell_type": "markdown",
      "metadata": {
        "id": "4R-fkWQ7HahD"
      },
      "source": [
        "## model.save()\n"
      ]
    },
    {
      "cell_type": "code",
      "metadata": {
        "id": "u7DGgId6He21",
        "outputId": "c9981747-623d-4f73-c238-8da242a950b6",
        "colab": {
          "base_uri": "https://localhost:8080/",
          "height": 35
        }
      },
      "source": [
        "save_dir = os.path.join(mount_dir, \"My Drive\", \"Colab Notebooks\", \"models\")\n",
        "save_dir"
      ],
      "execution_count": 40,
      "outputs": [
        {
          "output_type": "execute_result",
          "data": {
            "application/vnd.google.colaboratory.intrinsic+json": {
              "type": "string"
            },
            "text/plain": [
              "'/content/drive/My Drive/Colab Notebooks/models'"
            ]
          },
          "metadata": {
            "tags": []
          },
          "execution_count": 40
        }
      ]
    },
    {
      "cell_type": "code",
      "metadata": {
        "id": "NuLDVcknIwKu",
        "outputId": "eb1e6fc1-a0cc-47fb-e3bf-dff6e05bbfec",
        "colab": {
          "base_uri": "https://localhost:8080/"
        }
      },
      "source": [
        "os.path.isdir(save_dir)"
      ],
      "execution_count": 41,
      "outputs": [
        {
          "output_type": "execute_result",
          "data": {
            "text/plain": [
              "True"
            ]
          },
          "metadata": {
            "tags": []
          },
          "execution_count": 41
        }
      ]
    },
    {
      "cell_type": "code",
      "metadata": {
        "id": "qEmaH7azHexz"
      },
      "source": [
        "fn = \"fMNIST_NN_v1_ageron\"\n",
        "model.save(os.path.join(save_dir, fn + \".h5\"))"
      ],
      "execution_count": 42,
      "outputs": []
    },
    {
      "cell_type": "markdown",
      "metadata": {
        "id": "qq51fMtd2_vD"
      },
      "source": [
        "### Save validation and test data along with the model"
      ]
    },
    {
      "cell_type": "code",
      "metadata": {
        "id": "EHXemS0IhA2t"
      },
      "source": [
        "pickle_out(os.path.join(save_dir, fn+\"_data.pkl\"), locals(),\n",
        "           X_valid, y_valid, X_test, y_test, class_names)"
      ],
      "execution_count": 43,
      "outputs": []
    }
  ]
}