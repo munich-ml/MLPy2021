{
  "nbformat": 4,
  "nbformat_minor": 0,
  "metadata": {
    "colab": {
      "name": "11_NumPy.ipynb",
      "provenance": [],
      "collapsed_sections": [
        "GzLRaElQ3Q80",
        "oCMLt8pbO-qt",
        "6vvsjkVaQj7w",
        "ioXiTLQqJQ-z"
      ],
      "toc_visible": true,
      "authorship_tag": "ABX9TyP2pTPSoNGzrrEqiZahnA7g",
      "include_colab_link": true
    },
    "kernelspec": {
      "name": "python3",
      "display_name": "Python 3"
    }
  },
  "cells": [
    {
      "cell_type": "markdown",
      "metadata": {
        "id": "view-in-github",
        "colab_type": "text"
      },
      "source": [
        "<a href=\"https://colab.research.google.com/github/munich-ml/MLPy2021/blob/main/11_NumPy.ipynb\" target=\"_parent\"><img src=\"https://colab.research.google.com/assets/colab-badge.svg\" alt=\"Open In Colab\"/></a>"
      ]
    },
    {
      "cell_type": "markdown",
      "metadata": {
        "id": "e2piuI4C-TVp"
      },
      "source": [
        "# Intro"
      ]
    },
    {
      "cell_type": "markdown",
      "metadata": {
        "id": "9ci_bXUrP10A"
      },
      "source": [
        "NumPy is an array proessing package for Python. \n",
        "\n",
        "NumPy is written in C what makes computations with NumPy very fast.\n",
        "\n",
        "NumPy is usually imported as **np** (alias):"
      ]
    },
    {
      "cell_type": "code",
      "metadata": {
        "id": "i5gz6p4NNCYT"
      },
      "source": [
        "import numpy as np   \n",
        "import matplotlib.pyplot as plt"
      ],
      "execution_count": null,
      "outputs": []
    },
    {
      "cell_type": "markdown",
      "metadata": {
        "id": "-twLPTrQyPfV"
      },
      "source": [
        "The basic NumPy datatype is the NumPy array:"
      ]
    },
    {
      "cell_type": "code",
      "metadata": {
        "id": "BpOIppHUxhn2",
        "colab": {
          "base_uri": "https://localhost:8080/"
        },
        "outputId": "df28c003-92f4-4b66-d41e-096e1d606972"
      },
      "source": [
        "z = np.array([2, 4, 7])\n",
        "z"
      ],
      "execution_count": null,
      "outputs": [
        {
          "output_type": "execute_result",
          "data": {
            "text/plain": [
              "array([2, 4, 7])"
            ]
          },
          "metadata": {
            "tags": []
          },
          "execution_count": 2
        }
      ]
    },
    {
      "cell_type": "markdown",
      "metadata": {
        "id": "87cP8Vd50x6x"
      },
      "source": [
        "# NumPy arrays vs. lists"
      ]
    },
    {
      "cell_type": "markdown",
      "metadata": {
        "id": "c-9A_rtQ2hUC"
      },
      "source": [
        "## Similarities"
      ]
    },
    {
      "cell_type": "markdown",
      "metadata": {
        "id": "4dFXyV1f09Oo"
      },
      "source": [
        "NumPy arrays share some properties with Python lists, e.g. slicing: "
      ]
    },
    {
      "cell_type": "code",
      "metadata": {
        "id": "LAdkExjd1uOL"
      },
      "source": [
        "a = [2, 7, 5, 1]"
      ],
      "execution_count": null,
      "outputs": []
    },
    {
      "cell_type": "code",
      "metadata": {
        "id": "5fN2Pc1W11t2",
        "colab": {
          "base_uri": "https://localhost:8080/"
        },
        "outputId": "4dc33ec8-296b-46be-b9de-1cfaa32334a6"
      },
      "source": [
        "a[1:-1]"
      ],
      "execution_count": null,
      "outputs": [
        {
          "output_type": "execute_result",
          "data": {
            "text/plain": [
              "[7, 5]"
            ]
          },
          "metadata": {
            "tags": []
          },
          "execution_count": 4
        }
      ]
    },
    {
      "cell_type": "code",
      "metadata": {
        "id": "xFvrur-C186b",
        "colab": {
          "base_uri": "https://localhost:8080/"
        },
        "outputId": "b8de90f0-979f-4ae8-835b-ea9dfddbfdcf"
      },
      "source": [
        "z = np.array(a)\n",
        "z"
      ],
      "execution_count": null,
      "outputs": [
        {
          "output_type": "execute_result",
          "data": {
            "text/plain": [
              "array([2, 7, 5, 1])"
            ]
          },
          "metadata": {
            "tags": []
          },
          "execution_count": 5
        }
      ]
    },
    {
      "cell_type": "code",
      "metadata": {
        "id": "7D81b5NYl53A",
        "colab": {
          "base_uri": "https://localhost:8080/"
        },
        "outputId": "2bdbd01f-2af1-48e2-8656-4525184d7b14"
      },
      "source": [
        "z[1:-1]"
      ],
      "execution_count": null,
      "outputs": [
        {
          "output_type": "execute_result",
          "data": {
            "text/plain": [
              "array([7, 5])"
            ]
          },
          "metadata": {
            "tags": []
          },
          "execution_count": 6
        }
      ]
    },
    {
      "cell_type": "markdown",
      "metadata": {
        "id": "M0v_mApq2lqH"
      },
      "source": [
        "## Differences"
      ]
    },
    {
      "cell_type": "markdown",
      "metadata": {
        "id": "aeY0yAVezmjf"
      },
      "source": [
        "#### Data types\n",
        "- Python lists may contain multiple data types, while\n",
        "- NumPy arrays are **constant type**:"
      ]
    },
    {
      "cell_type": "code",
      "metadata": {
        "id": "-ywI410nz2KB",
        "colab": {
          "base_uri": "https://localhost:8080/"
        },
        "outputId": "802bb97d-b0b8-416c-c729-848de6c136d6"
      },
      "source": [
        "a = [2, 7, 1]\n",
        "z = np.array(a)\n",
        "z.dtype"
      ],
      "execution_count": null,
      "outputs": [
        {
          "output_type": "execute_result",
          "data": {
            "text/plain": [
              "dtype('int64')"
            ]
          },
          "metadata": {
            "tags": []
          },
          "execution_count": 7
        }
      ]
    },
    {
      "cell_type": "code",
      "metadata": {
        "id": "Xvrh92oBmb9d",
        "colab": {
          "base_uri": "https://localhost:8080/"
        },
        "outputId": "aefe9814-cc01-4ada-d573-f322c2ad4ffc"
      },
      "source": [
        "a = [2, \"seven\", 1]\n",
        "z = np.array(a)\n",
        "z"
      ],
      "execution_count": null,
      "outputs": [
        {
          "output_type": "execute_result",
          "data": {
            "text/plain": [
              "array(['2', 'seven', '1'], dtype='<U21')"
            ]
          },
          "metadata": {
            "tags": []
          },
          "execution_count": 8
        }
      ]
    },
    {
      "cell_type": "markdown",
      "metadata": {
        "id": "wbQhiailpGDW"
      },
      "source": [
        "... all items are converted to text. `U` for unicode and `21` describes the memory allocation for each item. "
      ]
    },
    {
      "cell_type": "markdown",
      "metadata": {
        "id": "GzLRaElQ3Q80"
      },
      "source": [
        "### Element-wise operations\n",
        "- **list** objects don't support element-wise operations:\n"
      ]
    },
    {
      "cell_type": "code",
      "metadata": {
        "id": "R1f3oIiTSuev"
      },
      "source": [
        "a = [1, 3, 4] \n",
        "b = [1, 3, 5]"
      ],
      "execution_count": null,
      "outputs": []
    },
    {
      "cell_type": "code",
      "metadata": {
        "id": "FHqmdzEYqbg-",
        "colab": {
          "base_uri": "https://localhost:8080/"
        },
        "outputId": "33fbbc06-2e5f-4d6c-fd10-79efa92df107"
      },
      "source": [
        "try:\n",
        "    a * b\n",
        "except Exception as e:\n",
        "    print(e)"
      ],
      "execution_count": null,
      "outputs": [
        {
          "output_type": "stream",
          "text": [
            "can't multiply sequence by non-int of type 'list'\n"
          ],
          "name": "stdout"
        }
      ]
    },
    {
      "cell_type": "markdown",
      "metadata": {
        "id": "H2NDTAv4QT9w"
      },
      "source": [
        "- **NumPy arrays** are made for element-wise operations:"
      ]
    },
    {
      "cell_type": "code",
      "metadata": {
        "id": "4rtvw3XtusRo",
        "colab": {
          "base_uri": "https://localhost:8080/"
        },
        "outputId": "896fee82-f511-426c-ea0c-7dc5ccf81438"
      },
      "source": [
        "np.array(a) * np.array(b)"
      ],
      "execution_count": null,
      "outputs": [
        {
          "output_type": "execute_result",
          "data": {
            "text/plain": [
              "array([ 1,  9, 20])"
            ]
          },
          "metadata": {
            "tags": []
          },
          "execution_count": 11
        }
      ]
    },
    {
      "cell_type": "markdown",
      "metadata": {
        "id": "6C6FoK5K7GrX"
      },
      "source": [
        "# Initializing NumPy arrays"
      ]
    },
    {
      "cell_type": "markdown",
      "metadata": {
        "id": "_XrRXJrS7lZ5"
      },
      "source": [
        "Initializing **all zeros**:"
      ]
    },
    {
      "cell_type": "code",
      "metadata": {
        "id": "u_NmyfpQ7L9y",
        "colab": {
          "base_uri": "https://localhost:8080/"
        },
        "outputId": "d536f6a4-dc38-4d2f-aff9-b9737945af06"
      },
      "source": [
        "shape = (2, 3)\n",
        "np.zeros(shape)"
      ],
      "execution_count": null,
      "outputs": [
        {
          "output_type": "execute_result",
          "data": {
            "text/plain": [
              "array([[0., 0., 0.],\n",
              "       [0., 0., 0.]])"
            ]
          },
          "metadata": {
            "tags": []
          },
          "execution_count": 12
        }
      ]
    },
    {
      "cell_type": "markdown",
      "metadata": {
        "id": "QfMDwTc97tQo"
      },
      "source": [
        "Initializing **all ones** with specific data type:"
      ]
    },
    {
      "cell_type": "code",
      "metadata": {
        "id": "yHXzkvCU7tQx",
        "colab": {
          "base_uri": "https://localhost:8080/"
        },
        "outputId": "b9775756-6fb7-41a6-b134-08398d8d529b"
      },
      "source": [
        "shape = (2, 4)\n",
        "np.ones(shape, dtype=\"int32\")"
      ],
      "execution_count": null,
      "outputs": [
        {
          "output_type": "execute_result",
          "data": {
            "text/plain": [
              "array([[1, 1, 1, 1],\n",
              "       [1, 1, 1, 1]], dtype=int32)"
            ]
          },
          "metadata": {
            "tags": []
          },
          "execution_count": 13
        }
      ]
    },
    {
      "cell_type": "markdown",
      "metadata": {
        "id": "ZiEQnUa08A62"
      },
      "source": [
        "Initializing with **arbitraty value**:"
      ]
    },
    {
      "cell_type": "code",
      "metadata": {
        "id": "JgIuEFE78A65",
        "colab": {
          "base_uri": "https://localhost:8080/"
        },
        "outputId": "3947454c-8a1e-46a6-81f8-14f9a9a8a9b0"
      },
      "source": [
        "np.full(shape=(2, 3), fill_value=1.33)"
      ],
      "execution_count": null,
      "outputs": [
        {
          "output_type": "execute_result",
          "data": {
            "text/plain": [
              "array([[1.33, 1.33, 1.33],\n",
              "       [1.33, 1.33, 1.33]])"
            ]
          },
          "metadata": {
            "tags": []
          },
          "execution_count": 14
        }
      ]
    },
    {
      "cell_type": "markdown",
      "metadata": {
        "id": "WJyxlx1d8uPx"
      },
      "source": [
        "### Initalizing with **random numbers**"
      ]
    },
    {
      "cell_type": "markdown",
      "metadata": {
        "id": "h2Hw-BbA-wZR"
      },
      "source": [
        "Random **integers**"
      ]
    },
    {
      "cell_type": "code",
      "metadata": {
        "id": "hxxA8kpl9jDy",
        "colab": {
          "base_uri": "https://localhost:8080/"
        },
        "outputId": "e013751a-cae0-4159-b46b-f9c5289b9100"
      },
      "source": [
        "np.random.randint(low=3, high=7, size=(10,))"
      ],
      "execution_count": null,
      "outputs": [
        {
          "output_type": "execute_result",
          "data": {
            "text/plain": [
              "array([5, 4, 3, 4, 4, 5, 6, 4, 3, 6])"
            ]
          },
          "metadata": {
            "tags": []
          },
          "execution_count": 15
        }
      ]
    },
    {
      "cell_type": "markdown",
      "metadata": {
        "id": "mHbW2Pqmvw_4"
      },
      "source": [
        "Set the random **seed** prior to sample generation for reproducable results."
      ]
    },
    {
      "cell_type": "code",
      "metadata": {
        "id": "PiDp0yE1uuJ7"
      },
      "source": [
        "np.random.seed(seed=42)"
      ],
      "execution_count": null,
      "outputs": []
    },
    {
      "cell_type": "markdown",
      "metadata": {
        "id": "TeNYrbG2MjUr"
      },
      "source": [
        "Many different distributions are available for random numbers, such as `np.random.normal` **Gaussian** and `np.random.uniform`:"
      ]
    },
    {
      "cell_type": "code",
      "metadata": {
        "id": "uHbRlQBkE6-9",
        "colab": {
          "base_uri": "https://localhost:8080/",
          "height": 207
        },
        "outputId": "28ae3a15-2810-47ad-9caa-1859ea40437a"
      },
      "source": [
        "N = 100000\n",
        "kwa = dict(bins=np.linspace(-3, 3, 101), histtype='stepfilled', alpha=0.3, ec=\"k\")\n",
        "plt.figure(figsize=(10,3))\n",
        "plt.hist(np.random.uniform(size=N), label=\"uniform\", **kwa)\n",
        "for mu, sigma in zip((0, 1.5), (1, 0.5)):\n",
        "    label = \"normal $\\mu$={}, $\\sigma$={}\".format(mu, sigma)\n",
        "    plt.hist(np.random.normal(mu, sigma, N), label=label, **kwa)\n",
        "plt.hist(np.random.exponential(size=N), label=\"exponential\", **kwa)\n",
        "plt.legend(loc=\"upper left\"), plt.yticks([]);"
      ],
      "execution_count": null,
      "outputs": [
        {
          "output_type": "display_data",
          "data": {
            "image/png": "[encoded data removed]",
            "text/plain": [
              "<Figure size 720x216 with 1 Axes>"
            ]
          },
          "metadata": {
            "tags": []
          }
        }
      ]
    },
    {
      "cell_type": "code",
      "metadata": {
        "id": "IIACbaccPgaX"
      },
      "source": [
        "np.random?"
      ],
      "execution_count": null,
      "outputs": []
    },
    {
      "cell_type": "markdown",
      "metadata": {
        "id": "fS644B0awOv1"
      },
      "source": [
        "# NumPy math"
      ]
    },
    {
      "cell_type": "markdown",
      "metadata": {
        "id": "rC61Pv1KA8SB"
      },
      "source": [
        "## Element-wise operations"
      ]
    },
    {
      "cell_type": "code",
      "metadata": {
        "id": "kvLoDIbc-kIo"
      },
      "source": [
        "z = np.array([1, 2, 3, 4])"
      ],
      "execution_count": null,
      "outputs": []
    },
    {
      "cell_type": "code",
      "metadata": {
        "id": "rcBJZbaIAyrQ",
        "colab": {
          "base_uri": "https://localhost:8080/"
        },
        "outputId": "e27df0b8-4550-4b62-c19d-022f96a41c21"
      },
      "source": [
        "z + 4"
      ],
      "execution_count": null,
      "outputs": [
        {
          "output_type": "execute_result",
          "data": {
            "text/plain": [
              "array([5, 6, 7, 8])"
            ]
          },
          "metadata": {
            "tags": []
          },
          "execution_count": 20
        }
      ]
    },
    {
      "cell_type": "code",
      "metadata": {
        "id": "-FejUjXjA0wF",
        "colab": {
          "base_uri": "https://localhost:8080/"
        },
        "outputId": "d406c961-5895-42ed-a277-475a331df0b2"
      },
      "source": [
        "z / 2"
      ],
      "execution_count": null,
      "outputs": [
        {
          "output_type": "execute_result",
          "data": {
            "text/plain": [
              "array([0.5, 1. , 1.5, 2. ])"
            ]
          },
          "metadata": {
            "tags": []
          },
          "execution_count": 21
        }
      ]
    },
    {
      "cell_type": "code",
      "metadata": {
        "id": "d6X2W1lxHSc5",
        "colab": {
          "base_uri": "https://localhost:8080/"
        },
        "outputId": "cecd9389-ad61-4264-eaa2-64756ed0b951"
      },
      "source": [
        "z"
      ],
      "execution_count": null,
      "outputs": [
        {
          "output_type": "execute_result",
          "data": {
            "text/plain": [
              "array([1, 2, 3, 4])"
            ]
          },
          "metadata": {
            "tags": []
          },
          "execution_count": 22
        }
      ]
    },
    {
      "cell_type": "code",
      "metadata": {
        "id": "s-_d9nUCA5Na",
        "colab": {
          "base_uri": "https://localhost:8080/"
        },
        "outputId": "950bdb46-6ce9-493d-b256-6b17edd632ca"
      },
      "source": [
        "np.round(np.sin( z/4 * np.pi), decimals=3)"
      ],
      "execution_count": null,
      "outputs": [
        {
          "output_type": "execute_result",
          "data": {
            "text/plain": [
              "array([0.707, 1.   , 0.707, 0.   ])"
            ]
          },
          "metadata": {
            "tags": []
          },
          "execution_count": 23
        }
      ]
    },
    {
      "cell_type": "markdown",
      "metadata": {
        "id": "ugoh41uAC-hd"
      },
      "source": [
        "## Matrix multiplication"
      ]
    },
    {
      "cell_type": "code",
      "metadata": {
        "id": "OYlP0OYrBRpu",
        "colab": {
          "base_uri": "https://localhost:8080/"
        },
        "outputId": "ddb80778-caca-40e1-e524-9ba18672d68c"
      },
      "source": [
        "z = np.ones(shape=(2,3))\n",
        "z"
      ],
      "execution_count": null,
      "outputs": [
        {
          "output_type": "execute_result",
          "data": {
            "text/plain": [
              "array([[1., 1., 1.],\n",
              "       [1., 1., 1.]])"
            ]
          },
          "metadata": {
            "tags": []
          },
          "execution_count": 24
        }
      ]
    },
    {
      "cell_type": "code",
      "metadata": {
        "id": "1lsCND4XBtcx",
        "colab": {
          "base_uri": "https://localhost:8080/"
        },
        "outputId": "f4662952-4215-4b31-d3ea-ba276e4c2e0c"
      },
      "source": [
        "y = np.full(shape=(3,2), fill_value=2)\n",
        "y"
      ],
      "execution_count": null,
      "outputs": [
        {
          "output_type": "execute_result",
          "data": {
            "text/plain": [
              "array([[2, 2],\n",
              "       [2, 2],\n",
              "       [2, 2]])"
            ]
          },
          "metadata": {
            "tags": []
          },
          "execution_count": 25
        }
      ]
    },
    {
      "cell_type": "code",
      "metadata": {
        "id": "my5gMLHnCaKw",
        "colab": {
          "base_uri": "https://localhost:8080/"
        },
        "outputId": "2884e7a2-ce32-418a-97f7-6e9ef558e06b"
      },
      "source": [
        "try:\n",
        "    z * y\n",
        "except Exception as e:\n",
        "    print(e)"
      ],
      "execution_count": null,
      "outputs": [
        {
          "output_type": "stream",
          "text": [
            "operands could not be broadcast together with shapes (2,3) (3,2) \n"
          ],
          "name": "stdout"
        }
      ]
    },
    {
      "cell_type": "markdown",
      "metadata": {
        "id": "jfWyDdWlCcRH"
      },
      "source": [
        "... `z * y` tries element-wise multiplications, which failes because of the different shapes. \n",
        "\n",
        "For matrix multiplication use `np.matmul` instead:"
      ]
    },
    {
      "cell_type": "code",
      "metadata": {
        "id": "54ibMHZ5B7lq",
        "colab": {
          "base_uri": "https://localhost:8080/"
        },
        "outputId": "94cdbe61-d114-4933-9937-1f98b94eec10"
      },
      "source": [
        "np.matmul(z, y)"
      ],
      "execution_count": null,
      "outputs": [
        {
          "output_type": "execute_result",
          "data": {
            "text/plain": [
              "array([[6., 6.],\n",
              "       [6., 6.]])"
            ]
          },
          "metadata": {
            "tags": []
          },
          "execution_count": 27
        }
      ]
    },
    {
      "cell_type": "code",
      "metadata": {
        "id": "pyja-BiXCAOr",
        "colab": {
          "base_uri": "https://localhost:8080/"
        },
        "outputId": "d62d7fef-13a8-4f6b-fdbd-775f677839bb"
      },
      "source": [
        "np.matmul(y, z)"
      ],
      "execution_count": null,
      "outputs": [
        {
          "output_type": "execute_result",
          "data": {
            "text/plain": [
              "array([[4., 4., 4.],\n",
              "       [4., 4., 4.],\n",
              "       [4., 4., 4.]])"
            ]
          },
          "metadata": {
            "tags": []
          },
          "execution_count": 28
        }
      ]
    },
    {
      "cell_type": "markdown",
      "metadata": {
        "id": "2KtSu_vXQVXN"
      },
      "source": [
        "## Transposing matricies"
      ]
    },
    {
      "cell_type": "markdown",
      "metadata": {
        "id": "K-XhE0LUQc_Y"
      },
      "source": [
        "`array.T` returns the transpose of the array"
      ]
    },
    {
      "cell_type": "code",
      "metadata": {
        "id": "qPpvenzmOK9w",
        "colab": {
          "base_uri": "https://localhost:8080/"
        },
        "outputId": "a5976f34-047c-4e80-f1e1-21931f2570ca"
      },
      "source": [
        "z = np.array([[1,2,3], [4,5,6]])\n",
        "print(z, z.shape)"
      ],
      "execution_count": null,
      "outputs": [
        {
          "output_type": "stream",
          "text": [
            "[[1 2 3]\n",
            " [4 5 6]] (2, 3)\n"
          ],
          "name": "stdout"
        }
      ]
    },
    {
      "cell_type": "code",
      "metadata": {
        "id": "zMCqC3JM5qul",
        "colab": {
          "base_uri": "https://localhost:8080/"
        },
        "outputId": "ec7a0009-3716-492e-cd37-a49dbc297147"
      },
      "source": [
        "print(z.T, z.T.shape)"
      ],
      "execution_count": null,
      "outputs": [
        {
          "output_type": "stream",
          "text": [
            "[[1 4]\n",
            " [2 5]\n",
            " [3 6]] (3, 2)\n"
          ],
          "name": "stdout"
        }
      ]
    },
    {
      "cell_type": "markdown",
      "metadata": {
        "id": "9b-RTNnBMUeP"
      },
      "source": [
        "## Statistics"
      ]
    },
    {
      "cell_type": "code",
      "metadata": {
        "id": "ADkklomCL7cD",
        "colab": {
          "base_uri": "https://localhost:8080/"
        },
        "outputId": "83509065-301f-460f-c946-bfb343589370"
      },
      "source": [
        "z = np.array([[1,2,3], [4,5,6]])\n",
        "z"
      ],
      "execution_count": null,
      "outputs": [
        {
          "output_type": "execute_result",
          "data": {
            "text/plain": [
              "array([[1, 2, 3],\n",
              "       [4, 5, 6]])"
            ]
          },
          "metadata": {
            "tags": []
          },
          "execution_count": 31
        }
      ]
    },
    {
      "cell_type": "markdown",
      "metadata": {
        "id": "MYi9yXJVMumL"
      },
      "source": [
        "Min of all values:"
      ]
    },
    {
      "cell_type": "code",
      "metadata": {
        "id": "W4CMrUf9MTXc",
        "colab": {
          "base_uri": "https://localhost:8080/"
        },
        "outputId": "41847e4e-eebe-49e4-ce26-232387bd324b"
      },
      "source": [
        "z.min()"
      ],
      "execution_count": null,
      "outputs": [
        {
          "output_type": "execute_result",
          "data": {
            "text/plain": [
              "1"
            ]
          },
          "metadata": {
            "tags": []
          },
          "execution_count": 32
        }
      ]
    },
    {
      "cell_type": "markdown",
      "metadata": {
        "id": "nZKQ3ss_MztI"
      },
      "source": [
        "Min of all columns:"
      ]
    },
    {
      "cell_type": "code",
      "metadata": {
        "id": "73_2qQ4DMeS9",
        "colab": {
          "base_uri": "https://localhost:8080/"
        },
        "outputId": "b9c09c63-89ac-40aa-a1dd-61b4a8e6a622"
      },
      "source": [
        "z.min(axis=1)"
      ],
      "execution_count": null,
      "outputs": [
        {
          "output_type": "execute_result",
          "data": {
            "text/plain": [
              "array([1, 4])"
            ]
          },
          "metadata": {
            "tags": []
          },
          "execution_count": 33
        }
      ]
    },
    {
      "cell_type": "markdown",
      "metadata": {
        "id": "JlDprJxZM3_7"
      },
      "source": [
        "Standard deviation"
      ]
    },
    {
      "cell_type": "code",
      "metadata": {
        "id": "fZ0S_GPXMrar",
        "colab": {
          "base_uri": "https://localhost:8080/"
        },
        "outputId": "0dbfbda0-6251-417d-cb7c-0f0b95308671"
      },
      "source": [
        "z.std()"
      ],
      "execution_count": null,
      "outputs": [
        {
          "output_type": "execute_result",
          "data": {
            "text/plain": [
              "1.707825127659933"
            ]
          },
          "metadata": {
            "tags": []
          },
          "execution_count": 34
        }
      ]
    },
    {
      "cell_type": "code",
      "metadata": {
        "id": "c8tWibN6M_I1",
        "colab": {
          "base_uri": "https://localhost:8080/"
        },
        "outputId": "c56ced4f-a0d9-48e6-e35e-878bfd867b28"
      },
      "source": [
        "np.median(z, axis=1)"
      ],
      "execution_count": null,
      "outputs": [
        {
          "output_type": "execute_result",
          "data": {
            "text/plain": [
              "array([2., 5.])"
            ]
          },
          "metadata": {
            "tags": []
          },
          "execution_count": 35
        }
      ]
    },
    {
      "cell_type": "markdown",
      "metadata": {
        "id": "nCaS0vtyRldj"
      },
      "source": [
        "## Booleans\n",
        "\n",
        " "
      ]
    },
    {
      "cell_type": "markdown",
      "metadata": {
        "id": "yZp46pLuepu5"
      },
      "source": [
        "- `np.all()` is a logical `AND`\n",
        "- `np.any()` is a logical `OR`"
      ]
    },
    {
      "cell_type": "markdown",
      "metadata": {
        "id": "JKroapllKM6s"
      },
      "source": [
        "#### Logical `AND`"
      ]
    },
    {
      "cell_type": "code",
      "metadata": {
        "id": "4h2o2WE5SRnH",
        "colab": {
          "base_uri": "https://localhost:8080/"
        },
        "outputId": "ada2f8c4-1b20-4bd4-ab49-9783d66d1d56"
      },
      "source": [
        "z = np.array([[True, True, False, True], [True, True, True, True]])\n",
        "z"
      ],
      "execution_count": null,
      "outputs": [
        {
          "output_type": "execute_result",
          "data": {
            "text/plain": [
              "array([[ True,  True, False,  True],\n",
              "       [ True,  True,  True,  True]])"
            ]
          },
          "metadata": {
            "tags": []
          },
          "execution_count": 36
        }
      ]
    },
    {
      "cell_type": "code",
      "metadata": {
        "id": "W3uN8wxTI7o5",
        "colab": {
          "base_uri": "https://localhost:8080/"
        },
        "outputId": "e565d205-c751-4a70-b7eb-3f3c3ed41e54"
      },
      "source": [
        "z.all()"
      ],
      "execution_count": null,
      "outputs": [
        {
          "output_type": "execute_result",
          "data": {
            "text/plain": [
              "False"
            ]
          },
          "metadata": {
            "tags": []
          },
          "execution_count": 37
        }
      ]
    },
    {
      "cell_type": "code",
      "metadata": {
        "id": "IouIpFlsIDUo",
        "colab": {
          "base_uri": "https://localhost:8080/"
        },
        "outputId": "ee8cad48-e42a-4cb5-c6d6-8c4e826a7b5e"
      },
      "source": [
        "z.all(axis=1)"
      ],
      "execution_count": null,
      "outputs": [
        {
          "output_type": "execute_result",
          "data": {
            "text/plain": [
              "array([False,  True])"
            ]
          },
          "metadata": {
            "tags": []
          },
          "execution_count": 38
        }
      ]
    },
    {
      "cell_type": "markdown",
      "metadata": {
        "id": "kiIGbK35J8bF"
      },
      "source": [
        "#### Logical `OR`"
      ]
    },
    {
      "cell_type": "code",
      "metadata": {
        "id": "yZxhXeUcIDE-",
        "colab": {
          "base_uri": "https://localhost:8080/"
        },
        "outputId": "49049481-6248-48d5-91f9-f8b1065a0dc4"
      },
      "source": [
        "z.any()"
      ],
      "execution_count": null,
      "outputs": [
        {
          "output_type": "execute_result",
          "data": {
            "text/plain": [
              "True"
            ]
          },
          "metadata": {
            "tags": []
          },
          "execution_count": 39
        }
      ]
    },
    {
      "cell_type": "markdown",
      "metadata": {
        "id": "fttcYQPPKL4S"
      },
      "source": [
        "#### Logical `NOT`"
      ]
    },
    {
      "cell_type": "code",
      "metadata": {
        "id": "NFFX9aFoJVQw",
        "colab": {
          "base_uri": "https://localhost:8080/"
        },
        "outputId": "5f1195eb-5136-4c10-faa2-86466b7385c7"
      },
      "source": [
        "np.logical_not(z.all(axis=0))"
      ],
      "execution_count": null,
      "outputs": [
        {
          "output_type": "execute_result",
          "data": {
            "text/plain": [
              "array([False, False,  True, False])"
            ]
          },
          "metadata": {
            "tags": []
          },
          "execution_count": 40
        }
      ]
    },
    {
      "cell_type": "markdown",
      "metadata": {
        "id": "eaCiE7DUOP2K"
      },
      "source": [
        "# Reorganizing arrays"
      ]
    },
    {
      "cell_type": "markdown",
      "metadata": {
        "id": "9B92qqPuwJY0"
      },
      "source": [
        "## Reshape"
      ]
    },
    {
      "cell_type": "code",
      "metadata": {
        "id": "8RYfPNmxOCf1",
        "colab": {
          "base_uri": "https://localhost:8080/"
        },
        "outputId": "0f17278b-b85d-447d-e23b-72fa7d816fd6"
      },
      "source": [
        "z = np.array([[1,2,3], [4,5,6]])\n",
        "z"
      ],
      "execution_count": null,
      "outputs": [
        {
          "output_type": "execute_result",
          "data": {
            "text/plain": [
              "array([[1, 2, 3],\n",
              "       [4, 5, 6]])"
            ]
          },
          "metadata": {
            "tags": []
          },
          "execution_count": 41
        }
      ]
    },
    {
      "cell_type": "code",
      "metadata": {
        "id": "Vfgu4ciWvyAn",
        "colab": {
          "base_uri": "https://localhost:8080/"
        },
        "outputId": "7813e36c-7917-45ff-d73d-175b92ec9c39"
      },
      "source": [
        "z.shape"
      ],
      "execution_count": null,
      "outputs": [
        {
          "output_type": "execute_result",
          "data": {
            "text/plain": [
              "(2, 3)"
            ]
          },
          "metadata": {
            "tags": []
          },
          "execution_count": 42
        }
      ]
    },
    {
      "cell_type": "markdown",
      "metadata": {
        "id": "qwZ1wxDiv4-0"
      },
      "source": [
        "**Option 1**: Use `reshape` method:"
      ]
    },
    {
      "cell_type": "code",
      "metadata": {
        "id": "wJHE80fZOYU4",
        "colab": {
          "base_uri": "https://localhost:8080/"
        },
        "outputId": "49a82738-ed2c-4af4-822e-ad8e905668c4"
      },
      "source": [
        "z = z.reshape((3, 2))\n",
        "z"
      ],
      "execution_count": null,
      "outputs": [
        {
          "output_type": "execute_result",
          "data": {
            "text/plain": [
              "array([[1, 2],\n",
              "       [3, 4],\n",
              "       [5, 6]])"
            ]
          },
          "metadata": {
            "tags": []
          },
          "execution_count": 43
        }
      ]
    },
    {
      "cell_type": "code",
      "metadata": {
        "id": "7nCYr5MUw0S_",
        "colab": {
          "base_uri": "https://localhost:8080/"
        },
        "outputId": "4749fe4d-85a9-4abf-f2f5-96288f5dae42"
      },
      "source": [
        "z.shape"
      ],
      "execution_count": null,
      "outputs": [
        {
          "output_type": "execute_result",
          "data": {
            "text/plain": [
              "(3, 2)"
            ]
          },
          "metadata": {
            "tags": []
          },
          "execution_count": 44
        }
      ]
    },
    {
      "cell_type": "markdown",
      "metadata": {
        "id": "_enslv-SwQv7"
      },
      "source": [
        "**Option 2**: Assign a new shape to the `.shape` attribute:"
      ]
    },
    {
      "cell_type": "code",
      "metadata": {
        "id": "MB8ZTY2Sc4Ce",
        "colab": {
          "base_uri": "https://localhost:8080/"
        },
        "outputId": "52bc38d4-97d7-4aff-f11b-de51a911f83f"
      },
      "source": [
        "z.shape = (6, )\n",
        "z"
      ],
      "execution_count": null,
      "outputs": [
        {
          "output_type": "execute_result",
          "data": {
            "text/plain": [
              "array([1, 2, 3, 4, 5, 6])"
            ]
          },
          "metadata": {
            "tags": []
          },
          "execution_count": 45
        }
      ]
    },
    {
      "cell_type": "code",
      "metadata": {
        "id": "30OdtJcAc3_i",
        "colab": {
          "base_uri": "https://localhost:8080/"
        },
        "outputId": "3bf36b89-4b70-4d9d-da38-7757bd016ac5"
      },
      "source": [
        "z.shape"
      ],
      "execution_count": null,
      "outputs": [
        {
          "output_type": "execute_result",
          "data": {
            "text/plain": [
              "(6,)"
            ]
          },
          "metadata": {
            "tags": []
          },
          "execution_count": 46
        }
      ]
    },
    {
      "cell_type": "markdown",
      "metadata": {
        "id": "489EZq-JC_WK"
      },
      "source": [
        "## Concatenation"
      ]
    },
    {
      "cell_type": "code",
      "metadata": {
        "id": "9muxQQgsDBR5",
        "colab": {
          "base_uri": "https://localhost:8080/"
        },
        "outputId": "5dda53ed-3438-4b5e-c6a5-34ba0aac2298"
      },
      "source": [
        "a = np.array([[1,2,3], [4,5,6]])\n",
        "a"
      ],
      "execution_count": null,
      "outputs": [
        {
          "output_type": "execute_result",
          "data": {
            "text/plain": [
              "array([[1, 2, 3],\n",
              "       [4, 5, 6]])"
            ]
          },
          "metadata": {
            "tags": []
          },
          "execution_count": 47
        }
      ]
    },
    {
      "cell_type": "code",
      "metadata": {
        "id": "0edPuLX5lzI6",
        "colab": {
          "base_uri": "https://localhost:8080/"
        },
        "outputId": "46c9cb2a-c32e-4c87-9b50-f8713dfe9bb3"
      },
      "source": [
        "b = np.array([[7,8,9], [10,11,12]])\n",
        "b"
      ],
      "execution_count": null,
      "outputs": [
        {
          "output_type": "execute_result",
          "data": {
            "text/plain": [
              "array([[ 7,  8,  9],\n",
              "       [10, 11, 12]])"
            ]
          },
          "metadata": {
            "tags": []
          },
          "execution_count": 48
        }
      ]
    },
    {
      "cell_type": "markdown",
      "metadata": {
        "id": "XVlTvOsinykJ"
      },
      "source": [
        "### `np.vstack()`  "
      ]
    },
    {
      "cell_type": "markdown",
      "metadata": {
        "id": "bD35DgkIAta0"
      },
      "source": [
        "`np.vstack()` is equivalent to `np.concatenate(..., axis=0)`:"
      ]
    },
    {
      "cell_type": "code",
      "metadata": {
        "id": "844LybPhDE3U",
        "colab": {
          "base_uri": "https://localhost:8080/"
        },
        "outputId": "c8f4e674-462e-4289-cf00-339e175c5172"
      },
      "source": [
        "z = np.concatenate((a, b), axis=0)\n",
        "z"
      ],
      "execution_count": null,
      "outputs": [
        {
          "output_type": "execute_result",
          "data": {
            "text/plain": [
              "array([[ 1,  2,  3],\n",
              "       [ 4,  5,  6],\n",
              "       [ 7,  8,  9],\n",
              "       [10, 11, 12]])"
            ]
          },
          "metadata": {
            "tags": []
          },
          "execution_count": 49
        }
      ]
    },
    {
      "cell_type": "code",
      "metadata": {
        "id": "_vBdBWaboerG",
        "colab": {
          "base_uri": "https://localhost:8080/"
        },
        "outputId": "aeb6f16f-7a30-4325-a0a9-6d3cfc4af6c0"
      },
      "source": [
        "z = np.vstack((a, b))\n",
        "z"
      ],
      "execution_count": null,
      "outputs": [
        {
          "output_type": "execute_result",
          "data": {
            "text/plain": [
              "array([[ 1,  2,  3],\n",
              "       [ 4,  5,  6],\n",
              "       [ 7,  8,  9],\n",
              "       [10, 11, 12]])"
            ]
          },
          "metadata": {
            "tags": []
          },
          "execution_count": 50
        }
      ]
    },
    {
      "cell_type": "markdown",
      "metadata": {
        "id": "0hfINgkQoUIN"
      },
      "source": [
        "### `np.hstack()`  "
      ]
    },
    {
      "cell_type": "markdown",
      "metadata": {
        "id": "nBJADUclmdDm"
      },
      "source": [
        "`np.hstack()` is equivalent to `np.concatenate(..., axis=1)`:"
      ]
    },
    {
      "cell_type": "code",
      "metadata": {
        "id": "CPjU9o7QDSz5",
        "colab": {
          "base_uri": "https://localhost:8080/"
        },
        "outputId": "5d8a79c3-f6b7-4b79-ecdc-d3921d4c33fd"
      },
      "source": [
        "z = np.concatenate((a, b), axis=1)\n",
        "z"
      ],
      "execution_count": null,
      "outputs": [
        {
          "output_type": "execute_result",
          "data": {
            "text/plain": [
              "array([[ 1,  2,  3,  7,  8,  9],\n",
              "       [ 4,  5,  6, 10, 11, 12]])"
            ]
          },
          "metadata": {
            "tags": []
          },
          "execution_count": 51
        }
      ]
    },
    {
      "cell_type": "code",
      "metadata": {
        "id": "UULF_vgkpTWN",
        "colab": {
          "base_uri": "https://localhost:8080/"
        },
        "outputId": "8d0fbb12-d368-49fe-c772-b05b181675a9"
      },
      "source": [
        "z = np.hstack((a, b))\n",
        "z"
      ],
      "execution_count": null,
      "outputs": [
        {
          "output_type": "execute_result",
          "data": {
            "text/plain": [
              "array([[ 1,  2,  3,  7,  8,  9],\n",
              "       [ 4,  5,  6, 10, 11, 12]])"
            ]
          },
          "metadata": {
            "tags": []
          },
          "execution_count": 52
        }
      ]
    },
    {
      "cell_type": "markdown",
      "metadata": {
        "id": "Kaf32p1_pzUg"
      },
      "source": [
        "### Concat arrays and slices (1D arrays)\n"
      ]
    },
    {
      "cell_type": "code",
      "metadata": {
        "id": "pvdQraAECL3y",
        "colab": {
          "base_uri": "https://localhost:8080/"
        },
        "outputId": "f5e73c68-f679-4786-d643-395bd9a6a4d0"
      },
      "source": [
        "z = np.linspace(start=0, stop=11, num=12, dtype=\"int8\")\n",
        "z"
      ],
      "execution_count": null,
      "outputs": [
        {
          "output_type": "execute_result",
          "data": {
            "text/plain": [
              "array([ 0,  1,  2,  3,  4,  5,  6,  7,  8,  9, 10, 11], dtype=int8)"
            ]
          },
          "metadata": {
            "tags": []
          },
          "execution_count": 53
        }
      ]
    },
    {
      "cell_type": "code",
      "metadata": {
        "id": "X9juWxJ-NESt",
        "colab": {
          "base_uri": "https://localhost:8080/"
        },
        "outputId": "9432de15-515d-499a-a3ff-de3b113e749a"
      },
      "source": [
        "z.shape = (6, 2)\n",
        "z"
      ],
      "execution_count": null,
      "outputs": [
        {
          "output_type": "execute_result",
          "data": {
            "text/plain": [
              "array([[ 0,  1],\n",
              "       [ 2,  3],\n",
              "       [ 4,  5],\n",
              "       [ 6,  7],\n",
              "       [ 8,  9],\n",
              "       [10, 11]], dtype=int8)"
            ]
          },
          "metadata": {
            "tags": []
          },
          "execution_count": 54
        }
      ]
    },
    {
      "cell_type": "markdown",
      "metadata": {
        "id": "kdK3J_rINq_Z"
      },
      "source": [
        "Compute new features (columns) based on exisitng features:"
      ]
    },
    {
      "cell_type": "code",
      "metadata": {
        "id": "ZpW3YhpPNxuX",
        "colab": {
          "base_uri": "https://localhost:8080/"
        },
        "outputId": "5d54648b-4279-4c06-aa4f-f14ba3bbb7f3"
      },
      "source": [
        "new_sum = z[:, 0] + z[:, 1]\n",
        "new_sum"
      ],
      "execution_count": null,
      "outputs": [
        {
          "output_type": "execute_result",
          "data": {
            "text/plain": [
              "array([ 1,  5,  9, 13, 17, 21], dtype=int8)"
            ]
          },
          "metadata": {
            "tags": []
          },
          "execution_count": 55
        }
      ]
    },
    {
      "cell_type": "code",
      "metadata": {
        "id": "G3EGt5j8OCpn",
        "colab": {
          "base_uri": "https://localhost:8080/"
        },
        "outputId": "f28e956c-e40d-4fe4-bf22-6ba4c41b4074"
      },
      "source": [
        "new_prod = z[:, 0] * z[:, 1]\n",
        "new_prod"
      ],
      "execution_count": null,
      "outputs": [
        {
          "output_type": "execute_result",
          "data": {
            "text/plain": [
              "array([  0,   6,  20,  42,  72, 110], dtype=int8)"
            ]
          },
          "metadata": {
            "tags": []
          },
          "execution_count": 56
        }
      ]
    },
    {
      "cell_type": "markdown",
      "metadata": {
        "id": "JIxupw8cOSVr"
      },
      "source": [
        "Trial to concatenate new features to the right fails:"
      ]
    },
    {
      "cell_type": "code",
      "metadata": {
        "id": "kvVFkREzORuz",
        "colab": {
          "base_uri": "https://localhost:8080/"
        },
        "outputId": "93acc178-0b9c-4eef-c0ba-7b4f6b15b629"
      },
      "source": [
        "try:\n",
        "    new_z = np.concatenate((z, new_sum, new_prod), axis=0)\n",
        "except Exception as e:\n",
        "    print(\"Exception occured: \" + str(e))"
      ],
      "execution_count": null,
      "outputs": [
        {
          "output_type": "stream",
          "text": [
            "Exception occured: all the input arrays must have same number of dimensions, but the array at index 0 has 2 dimension(s) and the array at index 1 has 1 dimension(s)\n"
          ],
          "name": "stdout"
        }
      ]
    },
    {
      "cell_type": "markdown",
      "metadata": {
        "id": "AONF8NDTPCZ2"
      },
      "source": [
        "Problem: The new features are slices (1D arrays), not 2D arrays:"
      ]
    },
    {
      "cell_type": "code",
      "metadata": {
        "id": "rCjeaG8bNSJm",
        "colab": {
          "base_uri": "https://localhost:8080/"
        },
        "outputId": "06710d36-1284-4751-9fc5-a43ac71666bf"
      },
      "source": [
        "print(z.ndim, z.shape)"
      ],
      "execution_count": null,
      "outputs": [
        {
          "output_type": "stream",
          "text": [
            "2 (6, 2)\n"
          ],
          "name": "stdout"
        }
      ]
    },
    {
      "cell_type": "code",
      "metadata": {
        "id": "Yqkk8p6wNEOj",
        "colab": {
          "base_uri": "https://localhost:8080/"
        },
        "outputId": "aa55118e-a7a1-41a3-c40c-cf1b8adfb4fe"
      },
      "source": [
        "print(new_sum.ndim, new_sum.shape)"
      ],
      "execution_count": null,
      "outputs": [
        {
          "output_type": "stream",
          "text": [
            "1 (6,)\n"
          ],
          "name": "stdout"
        }
      ]
    },
    {
      "cell_type": "markdown",
      "metadata": {
        "id": "M5khDWLVPLBk"
      },
      "source": [
        "#### Option 1: Reshape first\n",
        "Manually reshape the new features before concatanation"
      ]
    },
    {
      "cell_type": "code",
      "metadata": {
        "id": "qLcTzr_KXR80",
        "colab": {
          "base_uri": "https://localhost:8080/"
        },
        "outputId": "6d732e61-55da-4fb0-ddbf-018252669d40"
      },
      "source": [
        "new_sum.shape"
      ],
      "execution_count": null,
      "outputs": [
        {
          "output_type": "execute_result",
          "data": {
            "text/plain": [
              "(6,)"
            ]
          },
          "metadata": {
            "tags": []
          },
          "execution_count": 60
        }
      ]
    },
    {
      "cell_type": "code",
      "metadata": {
        "id": "x0rYVuxpXbsL"
      },
      "source": [
        "for array in [new_sum, new_prod]:\n",
        "    new_shape = (array.size, 1)\n",
        "    array.shape = new_shape"
      ],
      "execution_count": null,
      "outputs": []
    },
    {
      "cell_type": "code",
      "metadata": {
        "id": "74tbFcCwVjOz",
        "colab": {
          "base_uri": "https://localhost:8080/"
        },
        "outputId": "29247332-3415-49c0-9323-b8a2fabc1a8e"
      },
      "source": [
        "new_sum.shape"
      ],
      "execution_count": null,
      "outputs": [
        {
          "output_type": "execute_result",
          "data": {
            "text/plain": [
              "(6, 1)"
            ]
          },
          "metadata": {
            "tags": []
          },
          "execution_count": 62
        }
      ]
    },
    {
      "cell_type": "code",
      "metadata": {
        "id": "ELDY9PfBP-lA",
        "colab": {
          "base_uri": "https://localhost:8080/"
        },
        "outputId": "5f423f41-9a86-46c3-fa76-6f646a7cda5d"
      },
      "source": [
        "np.hstack([z, new_sum, new_prod])"
      ],
      "execution_count": null,
      "outputs": [
        {
          "output_type": "execute_result",
          "data": {
            "text/plain": [
              "array([[  0,   1,   1,   0],\n",
              "       [  2,   3,   5,   6],\n",
              "       [  4,   5,   9,  20],\n",
              "       [  6,   7,  13,  42],\n",
              "       [  8,   9,  17,  72],\n",
              "       [ 10,  11,  21, 110]], dtype=int8)"
            ]
          },
          "metadata": {
            "tags": []
          },
          "execution_count": 63
        }
      ]
    },
    {
      "cell_type": "markdown",
      "metadata": {
        "id": "FWNLg1ujQ-90"
      },
      "source": [
        "#### Option 2: `np.column_stack(tup)`\n",
        "Stacks 1D or 2D arrays as columns into a 2D array.\n",
        "- 2D arrays are stacked as-is, just like with `hstack`.  \n",
        "- 1D arrays are turned into 2D arrays\n",
        "first."
      ]
    },
    {
      "cell_type": "markdown",
      "metadata": {
        "id": "mDUfaZ3gcjgZ"
      },
      "source": [
        "Recreating the test bench:"
      ]
    },
    {
      "cell_type": "code",
      "metadata": {
        "id": "_ivGEamEZl4p",
        "colab": {
          "base_uri": "https://localhost:8080/"
        },
        "outputId": "7a771f2f-28e8-4cfc-ae8d-3758b0d59a36"
      },
      "source": [
        "z"
      ],
      "execution_count": null,
      "outputs": [
        {
          "output_type": "execute_result",
          "data": {
            "text/plain": [
              "array([[ 0,  1],\n",
              "       [ 2,  3],\n",
              "       [ 4,  5],\n",
              "       [ 6,  7],\n",
              "       [ 8,  9],\n",
              "       [10, 11]], dtype=int8)"
            ]
          },
          "metadata": {
            "tags": []
          },
          "execution_count": 64
        }
      ]
    },
    {
      "cell_type": "markdown",
      "metadata": {
        "id": "n2aL7GZMbAK9"
      },
      "source": [
        "Recalculate the new features in order to undo the manual reshaping and to get 1D arrays, again."
      ]
    },
    {
      "cell_type": "code",
      "metadata": {
        "id": "Fj5aYE0AZv6i",
        "colab": {
          "base_uri": "https://localhost:8080/"
        },
        "outputId": "c9bee8c4-a462-4231-aa2a-9923b7ee9738"
      },
      "source": [
        "new_sum = z[:, 0] + z[:, 1]\n",
        "new_sum"
      ],
      "execution_count": null,
      "outputs": [
        {
          "output_type": "execute_result",
          "data": {
            "text/plain": [
              "array([ 1,  5,  9, 13, 17, 21], dtype=int8)"
            ]
          },
          "metadata": {
            "tags": []
          },
          "execution_count": 65
        }
      ]
    },
    {
      "cell_type": "code",
      "metadata": {
        "id": "h6g1H7T3Zv6l",
        "colab": {
          "base_uri": "https://localhost:8080/"
        },
        "outputId": "40e0ab96-8307-4c82-f02e-fa9d84fdae9f"
      },
      "source": [
        "new_prod = z[:, 0] * z[:, 1]\n",
        "new_prod"
      ],
      "execution_count": null,
      "outputs": [
        {
          "output_type": "execute_result",
          "data": {
            "text/plain": [
              "array([  0,   6,  20,  42,  72, 110], dtype=int8)"
            ]
          },
          "metadata": {
            "tags": []
          },
          "execution_count": 66
        }
      ]
    },
    {
      "cell_type": "code",
      "metadata": {
        "id": "NdfYR1_SUE7i",
        "colab": {
          "base_uri": "https://localhost:8080/"
        },
        "outputId": "fffa945f-30a4-4f47-84e4-70e0bc3f78f9"
      },
      "source": [
        "np.column_stack([z, new_sum, new_prod])"
      ],
      "execution_count": null,
      "outputs": [
        {
          "output_type": "execute_result",
          "data": {
            "text/plain": [
              "array([[  0,   1,   1,   0],\n",
              "       [  2,   3,   5,   6],\n",
              "       [  4,   5,   9,  20],\n",
              "       [  6,   7,  13,  42],\n",
              "       [  8,   9,  17,  72],\n",
              "       [ 10,  11,  21, 110]], dtype=int8)"
            ]
          },
          "metadata": {
            "tags": []
          },
          "execution_count": 67
        }
      ]
    },
    {
      "cell_type": "markdown",
      "metadata": {
        "id": "hp10ePs7daw0"
      },
      "source": [
        "#### Option 3: Deep dive `np.c_`, `np.r_` "
      ]
    },
    {
      "cell_type": "markdown",
      "metadata": {
        "id": "N_2Rxqgih1Vc"
      },
      "source": [
        "- `.c_`: https://docs.scipy.org/doc/numpy/reference/generated/numpy.c_.html\n",
        "- `.r_`: https://docs.scipy.org/doc/numpy/reference/generated/numpy.r_.html"
      ]
    },
    {
      "cell_type": "code",
      "metadata": {
        "id": "zIr-ehsFF4jO",
        "colab": {
          "base_uri": "https://localhost:8080/"
        },
        "outputId": "7647b2cd-5d6a-466f-c90c-1caada2cde78"
      },
      "source": [
        "np.c_[z, new_sum, new_prod]"
      ],
      "execution_count": null,
      "outputs": [
        {
          "output_type": "execute_result",
          "data": {
            "text/plain": [
              "array([[  0,   1,   1,   0],\n",
              "       [  2,   3,   5,   6],\n",
              "       [  4,   5,   9,  20],\n",
              "       [  6,   7,  13,  42],\n",
              "       [  8,   9,  17,  72],\n",
              "       [ 10,  11,  21, 110]], dtype=int8)"
            ]
          },
          "metadata": {
            "tags": []
          },
          "execution_count": 68
        }
      ]
    },
    {
      "cell_type": "code",
      "metadata": {
        "id": "XFuMTHDdRUF7",
        "colab": {
          "base_uri": "https://localhost:8080/"
        },
        "outputId": "3806910e-2324-47e1-c49b-eab8d5980df7"
      },
      "source": [
        "np.r_[z, np.c_[new_sum, new_prod]]"
      ],
      "execution_count": null,
      "outputs": [
        {
          "output_type": "execute_result",
          "data": {
            "text/plain": [
              "array([[  0,   1],\n",
              "       [  2,   3],\n",
              "       [  4,   5],\n",
              "       [  6,   7],\n",
              "       [  8,   9],\n",
              "       [ 10,  11],\n",
              "       [  1,   0],\n",
              "       [  5,   6],\n",
              "       [  9,  20],\n",
              "       [ 13,  42],\n",
              "       [ 17,  72],\n",
              "       [ 21, 110]], dtype=int8)"
            ]
          },
          "metadata": {
            "tags": []
          },
          "execution_count": 69
        }
      ]
    },
    {
      "cell_type": "markdown",
      "metadata": {
        "id": "6vvsjkVaQj7w"
      },
      "source": [
        "## Advanced indexing"
      ]
    },
    {
      "cell_type": "code",
      "metadata": {
        "id": "PFJVLNaKQKZ8",
        "colab": {
          "base_uri": "https://localhost:8080/"
        },
        "outputId": "fa03aab9-13e3-42a3-9a69-e147b34739ab"
      },
      "source": [
        "z = np.random.randint(16, size=(3, 5))\n",
        "z"
      ],
      "execution_count": null,
      "outputs": [
        {
          "output_type": "execute_result",
          "data": {
            "text/plain": [
              "array([[ 3, 12,  4, 10,  9],\n",
              "       [ 6, 11, 12,  1,  3],\n",
              "       [15, 15, 10,  9,  5]])"
            ]
          },
          "metadata": {
            "tags": []
          },
          "execution_count": 70
        }
      ]
    },
    {
      "cell_type": "markdown",
      "metadata": {
        "id": "viyOuHbhRHyZ"
      },
      "source": [
        "Create a **masking array**, e.g. where the values are greater than a limit:"
      ]
    },
    {
      "cell_type": "code",
      "metadata": {
        "id": "kTeTgEDmQ0rS",
        "colab": {
          "base_uri": "https://localhost:8080/"
        },
        "outputId": "06179567-8bc5-4d8e-be4e-10963145947e"
      },
      "source": [
        "mask = z > 9\n",
        "mask"
      ],
      "execution_count": null,
      "outputs": [
        {
          "output_type": "execute_result",
          "data": {
            "text/plain": [
              "array([[False,  True, False,  True, False],\n",
              "       [False,  True,  True, False, False],\n",
              "       [ True,  True,  True, False, False]])"
            ]
          },
          "metadata": {
            "tags": []
          },
          "execution_count": 71
        }
      ]
    },
    {
      "cell_type": "markdown",
      "metadata": {
        "id": "cgB40OY5Rf8y"
      },
      "source": [
        ".. and index the array at the *mask* positions:"
      ]
    },
    {
      "cell_type": "code",
      "metadata": {
        "id": "WQGzovhARXrs",
        "colab": {
          "base_uri": "https://localhost:8080/"
        },
        "outputId": "b4207ba2-6e83-49ac-ad53-ad6a85ea71ad"
      },
      "source": [
        "z[mask]"
      ],
      "execution_count": null,
      "outputs": [
        {
          "output_type": "execute_result",
          "data": {
            "text/plain": [
              "array([12, 10, 11, 12, 15, 15, 10])"
            ]
          },
          "metadata": {
            "tags": []
          },
          "execution_count": 72
        }
      ]
    },
    {
      "cell_type": "code",
      "metadata": {
        "id": "KIHm43AGPaNa",
        "colab": {
          "base_uri": "https://localhost:8080/"
        },
        "outputId": "159827c8-5abe-4dbf-905c-032267033031"
      },
      "source": [
        "print(\"{} chosen out of {}, equivalent to {:.1%}\".format(\n",
        "    mask.sum(), \n",
        "    mask.size, \n",
        "    mask.sum()/mask.size))"
      ],
      "execution_count": null,
      "outputs": [
        {
          "output_type": "stream",
          "text": [
            "7 chosen out of 15, equivalent to 46.7%\n"
          ],
          "name": "stdout"
        }
      ]
    },
    {
      "cell_type": "markdown",
      "metadata": {
        "id": "ioXiTLQqJQ-z"
      },
      "source": [
        "### NumPy versus list - speed comparison\n",
        "Measure the compute time to find the smallest value within a list / array."
      ]
    },
    {
      "cell_type": "code",
      "metadata": {
        "id": "qpf9lcUvjbEd",
        "colab": {
          "base_uri": "https://localhost:8080/"
        },
        "outputId": "57f379be-49a6-4d40-896f-282dc94d8f2b"
      },
      "source": [
        "%matplotlib inline\n",
        "from time import time\n",
        "import matplotlib.pyplot as plt\n",
        "\n",
        "labels = [\"NumPy array\", \"list\"]\n",
        "compute_times = [[], []]\n",
        "lengths = (1e5, 3e5, 1e6, 3e6, 1e7)\n",
        "for length in lengths:\n",
        "    np_vals = np.random.random_sample(size=(int(length),))\n",
        "    list_vals = list(np_vals)\n",
        "    funcs = [np_vals.min, lambda: min(list_vals)]\n",
        "\n",
        "    for func, compute_time in zip(funcs, compute_times):\n",
        "        t0 = time()\n",
        "        func()\n",
        "        compute_time.append(time() - t0)\n",
        "\n",
        "for compute_time, label in zip(compute_times, labels):\n",
        "    plt.loglog(lengths, compute_time, \"o-\", label=label)\n",
        "\n",
        "plt.xlabel(\"array length\"), plt.ylabel(\"computation time [s]\")\n",
        "plt.legend(), plt.grid(which=\"both\"), plt.tight_layout();"
      ],
      "execution_count": null,
      "outputs": [
        {
          "output_type": "display_data",
          "data": {
            "image/png": "[encoded data removed]",
            "text/plain": [
              "<Figure size 432x288 with 1 Axes>"
            ]
          },
          "metadata": {
            "tags": [],
            "needs_background": "light"
          }
        }
      ]
    },
    {
      "cell_type": "markdown",
      "metadata": {
        "id": "-78UTLusWK9V"
      },
      "source": [
        "# [NumPy Cheat Sheet](https://github.com/munich-ml/MLPy2021/blob/main/cheat_sheets/NumPy_cheat_sheet.pdf)"
      ]
    },
    {
      "cell_type": "code",
      "metadata": {
        "id": "q-Js2NIbWKsw"
      },
      "source": [
        ""
      ],
      "execution_count": null,
      "outputs": []
    }
  ]
}