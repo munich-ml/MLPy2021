{
  "nbformat": 4,
  "nbformat_minor": 0,
  "metadata": {
    "colab": {
      "name": "11_NumPy.ipynb",
      "provenance": [],
      "collapsed_sections": [
        "GzLRaElQ3Q80",
        "oCMLt8pbO-qt",
        "6vvsjkVaQj7w",
        "ioXiTLQqJQ-z"
      ],
      "toc_visible": true,
      "authorship_tag": "ABX9TyPQ7GXSiMXZIf83XoA4cFQK",
      "include_colab_link": true
    },
    "kernelspec": {
      "name": "python3",
      "display_name": "Python 3"
    }
  },
  "cells": [
    {
      "cell_type": "markdown",
      "metadata": {
        "id": "view-in-github",
        "colab_type": "text"
      },
      "source": [
        "<a href=\"https://colab.research.google.com/github/munich-ml/MLPy2021/blob/main/11_NumPy.ipynb\" target=\"_parent\"><img src=\"https://colab.research.google.com/assets/colab-badge.svg\" alt=\"Open In Colab\"/></a>"
      ]
    },
    {
      "cell_type": "markdown",
      "metadata": {
        "id": "e2piuI4C-TVp"
      },
      "source": [
        "# Intro"
      ]
    },
    {
      "cell_type": "markdown",
      "metadata": {
        "id": "S9gWcLiqviYB"
      },
      "source": [
        "NumPy is an array proessing package for Python. "
      ]
    },
    {
      "cell_type": "markdown",
      "metadata": {
        "id": "9ci_bXUrP10A"
      },
      "source": [
        "NumPy is written in C what makes computations with NumPy very fast.\n",
        "\n",
        "NumPy is usually imported as **np** (alias):"
      ]
    },
    {
      "cell_type": "code",
      "metadata": {
        "id": "i5gz6p4NNCYT"
      },
      "source": [
        "import numpy as np   "
      ],
      "execution_count": 1,
      "outputs": []
    },
    {
      "cell_type": "markdown",
      "metadata": {
        "id": "-twLPTrQyPfV"
      },
      "source": [
        "The basic NumPy datatype is the NumPy array:"
      ]
    },
    {
      "cell_type": "code",
      "metadata": {
        "id": "BpOIppHUxhn2",
        "colab": {
          "base_uri": "https://localhost:8080/"
        },
        "outputId": "3e3281fb-bda7-4c09-d95d-1a6296cb647d"
      },
      "source": [
        "z = np.array([2, 4, 7])\n",
        "z"
      ],
      "execution_count": 2,
      "outputs": [
        {
          "output_type": "execute_result",
          "data": {
            "text/plain": [
              "array([2, 4, 7])"
            ]
          },
          "metadata": {
            "tags": []
          },
          "execution_count": 2
        }
      ]
    },
    {
      "cell_type": "markdown",
      "metadata": {
        "id": "87cP8Vd50x6x"
      },
      "source": [
        "## NumPy arrays vs. lists"
      ]
    },
    {
      "cell_type": "markdown",
      "metadata": {
        "id": "c-9A_rtQ2hUC"
      },
      "source": [
        "### Similarities"
      ]
    },
    {
      "cell_type": "markdown",
      "metadata": {
        "id": "4dFXyV1f09Oo"
      },
      "source": [
        "NumPy arrays share many properties with Python lists, e.g. slicing: "
      ]
    },
    {
      "cell_type": "code",
      "metadata": {
        "id": "LAdkExjd1uOL"
      },
      "source": [
        "a = [2, 7, 5, 1]"
      ],
      "execution_count": 3,
      "outputs": []
    },
    {
      "cell_type": "code",
      "metadata": {
        "id": "5fN2Pc1W11t2",
        "colab": {
          "base_uri": "https://localhost:8080/"
        },
        "outputId": "1e367d5c-c43d-4f5f-f440-cf8c7cb53ffa"
      },
      "source": [
        "a[1:-1]"
      ],
      "execution_count": 4,
      "outputs": [
        {
          "output_type": "execute_result",
          "data": {
            "text/plain": [
              "[7, 5]"
            ]
          },
          "metadata": {
            "tags": []
          },
          "execution_count": 4
        }
      ]
    },
    {
      "cell_type": "code",
      "metadata": {
        "id": "xFvrur-C186b",
        "colab": {
          "base_uri": "https://localhost:8080/"
        },
        "outputId": "4f095821-9ca2-48e9-f5bb-92eda52ee59a"
      },
      "source": [
        "z = np.array(a)\n",
        "z"
      ],
      "execution_count": 5,
      "outputs": [
        {
          "output_type": "execute_result",
          "data": {
            "text/plain": [
              "array([2, 7, 5, 1])"
            ]
          },
          "metadata": {
            "tags": []
          },
          "execution_count": 5
        }
      ]
    },
    {
      "cell_type": "code",
      "metadata": {
        "id": "7D81b5NYl53A",
        "colab": {
          "base_uri": "https://localhost:8080/"
        },
        "outputId": "3df62eb1-f9c4-419d-b391-17a65c5efa9f"
      },
      "source": [
        "z[1:-1]"
      ],
      "execution_count": 6,
      "outputs": [
        {
          "output_type": "execute_result",
          "data": {
            "text/plain": [
              "array([7, 5])"
            ]
          },
          "metadata": {
            "tags": []
          },
          "execution_count": 6
        }
      ]
    },
    {
      "cell_type": "markdown",
      "metadata": {
        "id": "M0v_mApq2lqH"
      },
      "source": [
        "### Differences"
      ]
    },
    {
      "cell_type": "markdown",
      "metadata": {
        "id": "aeY0yAVezmjf"
      },
      "source": [
        "#### Data types\n",
        "- Python lists may contain multiple data types, while\n",
        "- NumPy arrays are **constant type**:"
      ]
    },
    {
      "cell_type": "code",
      "metadata": {
        "id": "-ywI410nz2KB",
        "colab": {
          "base_uri": "https://localhost:8080/"
        },
        "outputId": "23d31a99-b4a9-4178-d750-17d04d695139"
      },
      "source": [
        "a = [2, 7, 1]\n",
        "z = np.array(a)\n",
        "z.dtype"
      ],
      "execution_count": 7,
      "outputs": [
        {
          "output_type": "execute_result",
          "data": {
            "text/plain": [
              "dtype('int64')"
            ]
          },
          "metadata": {
            "tags": []
          },
          "execution_count": 7
        }
      ]
    },
    {
      "cell_type": "code",
      "metadata": {
        "id": "Xvrh92oBmb9d",
        "colab": {
          "base_uri": "https://localhost:8080/"
        },
        "outputId": "c131178c-8eb3-4482-afa6-4c0c912b8d86"
      },
      "source": [
        "a = [2, \"seven\", 1]\n",
        "z = np.array(a)\n",
        "z"
      ],
      "execution_count": 8,
      "outputs": [
        {
          "output_type": "execute_result",
          "data": {
            "text/plain": [
              "array(['2', 'seven', '1'], dtype='<U21')"
            ]
          },
          "metadata": {
            "tags": []
          },
          "execution_count": 8
        }
      ]
    },
    {
      "cell_type": "markdown",
      "metadata": {
        "id": "wbQhiailpGDW"
      },
      "source": [
        "... all items are converted to text. `U` for unicode and `21` describes the memory allocation for each item. "
      ]
    },
    {
      "cell_type": "markdown",
      "metadata": {
        "id": "GzLRaElQ3Q80"
      },
      "source": [
        "#### Element-wise operations\n",
        "- **list** objects don't support element-wise operations:\n"
      ]
    },
    {
      "cell_type": "code",
      "metadata": {
        "id": "R1f3oIiTSuev"
      },
      "source": [
        "a = [1, 3, 4] \n",
        "b = [1, 3, 5]"
      ],
      "execution_count": 9,
      "outputs": []
    },
    {
      "cell_type": "code",
      "metadata": {
        "id": "FHqmdzEYqbg-",
        "colab": {
          "base_uri": "https://localhost:8080/"
        },
        "outputId": "c5f52704-7691-48fa-ea30-ff632a3452bb"
      },
      "source": [
        "try:\n",
        "    a * b\n",
        "except Exception as e:\n",
        "    print(e)"
      ],
      "execution_count": 10,
      "outputs": [
        {
          "output_type": "stream",
          "text": [
            "can't multiply sequence by non-int of type 'list'\n"
          ],
          "name": "stdout"
        }
      ]
    },
    {
      "cell_type": "markdown",
      "metadata": {
        "id": "H2NDTAv4QT9w"
      },
      "source": [
        "- **NumPy arrays** are made for element-wise operations:"
      ]
    },
    {
      "cell_type": "code",
      "metadata": {
        "id": "4rtvw3XtusRo",
        "colab": {
          "base_uri": "https://localhost:8080/"
        },
        "outputId": "c36f1fff-f713-476d-a2da-734828e27582"
      },
      "source": [
        "np.array(a) * np.array(b)"
      ],
      "execution_count": 11,
      "outputs": [
        {
          "output_type": "execute_result",
          "data": {
            "text/plain": [
              "array([ 1,  9, 20])"
            ]
          },
          "metadata": {
            "tags": []
          },
          "execution_count": 11
        }
      ]
    },
    {
      "cell_type": "markdown",
      "metadata": {
        "id": "6C6FoK5K7GrX"
      },
      "source": [
        "## Initializing arrays"
      ]
    },
    {
      "cell_type": "markdown",
      "metadata": {
        "id": "_XrRXJrS7lZ5"
      },
      "source": [
        "Initializing **all zeros**:"
      ]
    },
    {
      "cell_type": "code",
      "metadata": {
        "id": "u_NmyfpQ7L9y",
        "colab": {
          "base_uri": "https://localhost:8080/"
        },
        "outputId": "04f401e1-e642-48e2-d58d-e113c18e8f59"
      },
      "source": [
        "shape = (2, 3)\n",
        "np.zeros(shape)"
      ],
      "execution_count": 12,
      "outputs": [
        {
          "output_type": "execute_result",
          "data": {
            "text/plain": [
              "array([[0., 0., 0.],\n",
              "       [0., 0., 0.]])"
            ]
          },
          "metadata": {
            "tags": []
          },
          "execution_count": 12
        }
      ]
    },
    {
      "cell_type": "markdown",
      "metadata": {
        "id": "QfMDwTc97tQo"
      },
      "source": [
        "Initializing **all ones** with specific data type:"
      ]
    },
    {
      "cell_type": "code",
      "metadata": {
        "id": "yHXzkvCU7tQx",
        "colab": {
          "base_uri": "https://localhost:8080/"
        },
        "outputId": "4d87e341-bad5-4844-9bfa-26d6fcd71571"
      },
      "source": [
        "shape = (2, 4)\n",
        "np.ones(shape, dtype=\"int32\")"
      ],
      "execution_count": 13,
      "outputs": [
        {
          "output_type": "execute_result",
          "data": {
            "text/plain": [
              "array([[1, 1, 1, 1],\n",
              "       [1, 1, 1, 1]], dtype=int32)"
            ]
          },
          "metadata": {
            "tags": []
          },
          "execution_count": 13
        }
      ]
    },
    {
      "cell_type": "markdown",
      "metadata": {
        "id": "ZiEQnUa08A62"
      },
      "source": [
        "Initializing with **arbitraty value**:"
      ]
    },
    {
      "cell_type": "code",
      "metadata": {
        "id": "JgIuEFE78A65",
        "colab": {
          "base_uri": "https://localhost:8080/"
        },
        "outputId": "f0a825f8-b528-4acd-dcb3-e0a92a124303"
      },
      "source": [
        "np.full(shape=(2, 3), fill_value=1.33)"
      ],
      "execution_count": 14,
      "outputs": [
        {
          "output_type": "execute_result",
          "data": {
            "text/plain": [
              "array([[1.33, 1.33, 1.33],\n",
              "       [1.33, 1.33, 1.33]])"
            ]
          },
          "metadata": {
            "tags": []
          },
          "execution_count": 14
        }
      ]
    },
    {
      "cell_type": "markdown",
      "metadata": {
        "id": "WJyxlx1d8uPx"
      },
      "source": [
        "### Initalizing with **random numbers**"
      ]
    },
    {
      "cell_type": "markdown",
      "metadata": {
        "id": "OxcQ4VUh909T"
      },
      "source": [
        "Random **float** values \n"
      ]
    },
    {
      "cell_type": "code",
      "metadata": {
        "id": "FBQqj3ZZ8vtx",
        "colab": {
          "base_uri": "https://localhost:8080/"
        },
        "outputId": "2fda5362-f068-4501-ecad-236bc72c22f7"
      },
      "source": [
        "np.random.random_sample(size=(2, 2, 4))"
      ],
      "execution_count": 15,
      "outputs": [
        {
          "output_type": "execute_result",
          "data": {
            "text/plain": [
              "array([[[0.13413059, 0.72105333, 0.18699637, 0.28465301],\n",
              "        [0.39259281, 0.58052346, 0.79441556, 0.54762114]],\n",
              "\n",
              "       [[0.54582085, 0.00508493, 0.46692108, 0.45269698],\n",
              "        [0.75005255, 0.05321036, 0.9638301 , 0.06710928]]])"
            ]
          },
          "metadata": {
            "tags": []
          },
          "execution_count": 15
        }
      ]
    },
    {
      "cell_type": "markdown",
      "metadata": {
        "id": "h2Hw-BbA-wZR"
      },
      "source": [
        "Random **integers**"
      ]
    },
    {
      "cell_type": "code",
      "metadata": {
        "id": "hxxA8kpl9jDy",
        "colab": {
          "base_uri": "https://localhost:8080/"
        },
        "outputId": "ac3fb0d2-ff3f-4699-e64c-2b28a5f05dde"
      },
      "source": [
        "np.random.randint(low=3, high=7, size=(15,))"
      ],
      "execution_count": 16,
      "outputs": [
        {
          "output_type": "execute_result",
          "data": {
            "text/plain": [
              "array([4, 3, 6, 3, 6, 4, 3, 4, 4, 6, 3, 6, 4, 5, 6])"
            ]
          },
          "metadata": {
            "tags": []
          },
          "execution_count": 16
        }
      ]
    },
    {
      "cell_type": "markdown",
      "metadata": {
        "id": "mHbW2Pqmvw_4"
      },
      "source": [
        "Set the random **seed** prior to sample generation for reproducable results."
      ]
    },
    {
      "cell_type": "code",
      "metadata": {
        "id": "PiDp0yE1uuJ7"
      },
      "source": [
        "np.random.seed(seed=42)"
      ],
      "execution_count": 17,
      "outputs": []
    },
    {
      "cell_type": "code",
      "metadata": {
        "id": "ekbkdkPquvJD",
        "colab": {
          "base_uri": "https://localhost:8080/"
        },
        "outputId": "19fb4a1b-6522-4c19-c64d-08741f97975d"
      },
      "source": [
        "np.random.random_sample(size=(2, 4))"
      ],
      "execution_count": 18,
      "outputs": [
        {
          "output_type": "execute_result",
          "data": {
            "text/plain": [
              "array([[0.37454012, 0.95071431, 0.73199394, 0.59865848],\n",
              "       [0.15601864, 0.15599452, 0.05808361, 0.86617615]])"
            ]
          },
          "metadata": {
            "tags": []
          },
          "execution_count": 18
        }
      ]
    },
    {
      "cell_type": "markdown",
      "metadata": {
        "id": "fS644B0awOv1"
      },
      "source": [
        "# NumPy math"
      ]
    },
    {
      "cell_type": "markdown",
      "metadata": {
        "id": "rC61Pv1KA8SB"
      },
      "source": [
        "## Element-wise operations"
      ]
    },
    {
      "cell_type": "code",
      "metadata": {
        "id": "kvLoDIbc-kIo"
      },
      "source": [
        "z = np.array([1, 2, 3, 4])"
      ],
      "execution_count": 19,
      "outputs": []
    },
    {
      "cell_type": "code",
      "metadata": {
        "id": "rcBJZbaIAyrQ",
        "colab": {
          "base_uri": "https://localhost:8080/"
        },
        "outputId": "7a058701-d685-4e0f-da53-d30d12bbe55e"
      },
      "source": [
        "z + 4"
      ],
      "execution_count": 20,
      "outputs": [
        {
          "output_type": "execute_result",
          "data": {
            "text/plain": [
              "array([5, 6, 7, 8])"
            ]
          },
          "metadata": {
            "tags": []
          },
          "execution_count": 20
        }
      ]
    },
    {
      "cell_type": "code",
      "metadata": {
        "id": "-FejUjXjA0wF",
        "colab": {
          "base_uri": "https://localhost:8080/"
        },
        "outputId": "cc05b068-78fa-4498-d01e-ba67be68550c"
      },
      "source": [
        "z / 2"
      ],
      "execution_count": 21,
      "outputs": [
        {
          "output_type": "execute_result",
          "data": {
            "text/plain": [
              "array([0.5, 1. , 1.5, 2. ])"
            ]
          },
          "metadata": {
            "tags": []
          },
          "execution_count": 21
        }
      ]
    },
    {
      "cell_type": "code",
      "metadata": {
        "id": "d6X2W1lxHSc5",
        "colab": {
          "base_uri": "https://localhost:8080/"
        },
        "outputId": "9cdeada5-7ac0-4d35-ebeb-d01f299683d6"
      },
      "source": [
        "z"
      ],
      "execution_count": 22,
      "outputs": [
        {
          "output_type": "execute_result",
          "data": {
            "text/plain": [
              "array([1, 2, 3, 4])"
            ]
          },
          "metadata": {
            "tags": []
          },
          "execution_count": 22
        }
      ]
    },
    {
      "cell_type": "code",
      "metadata": {
        "id": "s-_d9nUCA5Na",
        "colab": {
          "base_uri": "https://localhost:8080/"
        },
        "outputId": "bdfcdfbc-54e3-4066-d007-e3a4c5059a25"
      },
      "source": [
        "np.round(np.sin( z/4 * np.pi), decimals=3)"
      ],
      "execution_count": 23,
      "outputs": [
        {
          "output_type": "execute_result",
          "data": {
            "text/plain": [
              "array([0.707, 1.   , 0.707, 0.   ])"
            ]
          },
          "metadata": {
            "tags": []
          },
          "execution_count": 23
        }
      ]
    },
    {
      "cell_type": "markdown",
      "metadata": {
        "id": "ugoh41uAC-hd"
      },
      "source": [
        "## Matrix multiplication"
      ]
    },
    {
      "cell_type": "code",
      "metadata": {
        "id": "OYlP0OYrBRpu",
        "colab": {
          "base_uri": "https://localhost:8080/"
        },
        "outputId": "4608eddd-dfff-43c3-9f1d-4c4f78849a67"
      },
      "source": [
        "z = np.ones(shape=(2,3))\n",
        "z"
      ],
      "execution_count": 24,
      "outputs": [
        {
          "output_type": "execute_result",
          "data": {
            "text/plain": [
              "array([[1., 1., 1.],\n",
              "       [1., 1., 1.]])"
            ]
          },
          "metadata": {
            "tags": []
          },
          "execution_count": 24
        }
      ]
    },
    {
      "cell_type": "code",
      "metadata": {
        "id": "1lsCND4XBtcx",
        "colab": {
          "base_uri": "https://localhost:8080/"
        },
        "outputId": "759254f6-dd10-4f94-b971-b3b63af4ab5b"
      },
      "source": [
        "y = np.full(shape=(3,2), fill_value=2)\n",
        "y"
      ],
      "execution_count": 25,
      "outputs": [
        {
          "output_type": "execute_result",
          "data": {
            "text/plain": [
              "array([[2, 2],\n",
              "       [2, 2],\n",
              "       [2, 2]])"
            ]
          },
          "metadata": {
            "tags": []
          },
          "execution_count": 25
        }
      ]
    },
    {
      "cell_type": "code",
      "metadata": {
        "id": "my5gMLHnCaKw",
        "colab": {
          "base_uri": "https://localhost:8080/"
        },
        "outputId": "08c88267-1c6c-4781-bea4-5824deffe5c2"
      },
      "source": [
        "try:\n",
        "    z * y\n",
        "except Exception as e:\n",
        "    print(e)"
      ],
      "execution_count": 26,
      "outputs": [
        {
          "output_type": "stream",
          "text": [
            "operands could not be broadcast together with shapes (2,3) (3,2) \n"
          ],
          "name": "stdout"
        }
      ]
    },
    {
      "cell_type": "markdown",
      "metadata": {
        "id": "jfWyDdWlCcRH"
      },
      "source": [
        "... `z * y` tries element-wise multiplications, which failes because of the different shapes. \n",
        "\n",
        "For matrix multiplication use `np.matmul` instead:"
      ]
    },
    {
      "cell_type": "code",
      "metadata": {
        "id": "54ibMHZ5B7lq",
        "colab": {
          "base_uri": "https://localhost:8080/"
        },
        "outputId": "5543b148-c641-4aa2-8842-6bebec0286d3"
      },
      "source": [
        "np.matmul(z, y)"
      ],
      "execution_count": 27,
      "outputs": [
        {
          "output_type": "execute_result",
          "data": {
            "text/plain": [
              "array([[6., 6.],\n",
              "       [6., 6.]])"
            ]
          },
          "metadata": {
            "tags": []
          },
          "execution_count": 27
        }
      ]
    },
    {
      "cell_type": "code",
      "metadata": {
        "id": "pyja-BiXCAOr",
        "colab": {
          "base_uri": "https://localhost:8080/"
        },
        "outputId": "85659b8c-5997-4644-9187-1ca8c86a7703"
      },
      "source": [
        "np.matmul(y, z)"
      ],
      "execution_count": 28,
      "outputs": [
        {
          "output_type": "execute_result",
          "data": {
            "text/plain": [
              "array([[4., 4., 4.],\n",
              "       [4., 4., 4.],\n",
              "       [4., 4., 4.]])"
            ]
          },
          "metadata": {
            "tags": []
          },
          "execution_count": 28
        }
      ]
    },
    {
      "cell_type": "markdown",
      "metadata": {
        "id": "2KtSu_vXQVXN"
      },
      "source": [
        "## Transposing matricies"
      ]
    },
    {
      "cell_type": "markdown",
      "metadata": {
        "id": "K-XhE0LUQc_Y"
      },
      "source": [
        "`array.T` returns the transpose of the array"
      ]
    },
    {
      "cell_type": "code",
      "metadata": {
        "id": "qPpvenzmOK9w",
        "colab": {
          "base_uri": "https://localhost:8080/"
        },
        "outputId": "39346ab0-4c35-4a9a-c6e7-6eeebea1a79a"
      },
      "source": [
        "z = np.array([[1,2,3], [4,5,6]])\n",
        "print(z, z.shape)"
      ],
      "execution_count": 29,
      "outputs": [
        {
          "output_type": "stream",
          "text": [
            "[[1 2 3]\n",
            " [4 5 6]] (2, 3)\n"
          ],
          "name": "stdout"
        }
      ]
    },
    {
      "cell_type": "code",
      "metadata": {
        "id": "zMCqC3JM5qul",
        "colab": {
          "base_uri": "https://localhost:8080/"
        },
        "outputId": "3f4fbb88-f48e-46ad-809b-df5c04b68420"
      },
      "source": [
        "print(z.T, z.T.shape)"
      ],
      "execution_count": 30,
      "outputs": [
        {
          "output_type": "stream",
          "text": [
            "[[1 4]\n",
            " [2 5]\n",
            " [3 6]] (3, 2)\n"
          ],
          "name": "stdout"
        }
      ]
    },
    {
      "cell_type": "markdown",
      "metadata": {
        "id": "9b-RTNnBMUeP"
      },
      "source": [
        "## Statistics"
      ]
    },
    {
      "cell_type": "code",
      "metadata": {
        "id": "ADkklomCL7cD",
        "colab": {
          "base_uri": "https://localhost:8080/"
        },
        "outputId": "f149ae39-f436-4240-bea6-3504152dd9e1"
      },
      "source": [
        "z = np.array([[1,2,3], [4,5,6]])\n",
        "z"
      ],
      "execution_count": 31,
      "outputs": [
        {
          "output_type": "execute_result",
          "data": {
            "text/plain": [
              "array([[1, 2, 3],\n",
              "       [4, 5, 6]])"
            ]
          },
          "metadata": {
            "tags": []
          },
          "execution_count": 31
        }
      ]
    },
    {
      "cell_type": "markdown",
      "metadata": {
        "id": "MYi9yXJVMumL"
      },
      "source": [
        "Min of all values:"
      ]
    },
    {
      "cell_type": "code",
      "metadata": {
        "id": "W4CMrUf9MTXc",
        "colab": {
          "base_uri": "https://localhost:8080/"
        },
        "outputId": "59940202-bbe4-4ce2-9d43-f4602d870d1b"
      },
      "source": [
        "z.min()"
      ],
      "execution_count": 32,
      "outputs": [
        {
          "output_type": "execute_result",
          "data": {
            "text/plain": [
              "1"
            ]
          },
          "metadata": {
            "tags": []
          },
          "execution_count": 32
        }
      ]
    },
    {
      "cell_type": "markdown",
      "metadata": {
        "id": "nZKQ3ss_MztI"
      },
      "source": [
        "Min of all columns:"
      ]
    },
    {
      "cell_type": "code",
      "metadata": {
        "id": "73_2qQ4DMeS9",
        "colab": {
          "base_uri": "https://localhost:8080/"
        },
        "outputId": "7eaace37-cdb7-43fa-a3c5-ad6b08da959c"
      },
      "source": [
        "z.min(axis=1)"
      ],
      "execution_count": 33,
      "outputs": [
        {
          "output_type": "execute_result",
          "data": {
            "text/plain": [
              "array([1, 4])"
            ]
          },
          "metadata": {
            "tags": []
          },
          "execution_count": 33
        }
      ]
    },
    {
      "cell_type": "markdown",
      "metadata": {
        "id": "JlDprJxZM3_7"
      },
      "source": [
        "Standard deviation"
      ]
    },
    {
      "cell_type": "code",
      "metadata": {
        "id": "fZ0S_GPXMrar",
        "colab": {
          "base_uri": "https://localhost:8080/"
        },
        "outputId": "5305952b-4988-40bf-c53f-a7f9ba2ab37a"
      },
      "source": [
        "z.std()"
      ],
      "execution_count": 34,
      "outputs": [
        {
          "output_type": "execute_result",
          "data": {
            "text/plain": [
              "1.707825127659933"
            ]
          },
          "metadata": {
            "tags": []
          },
          "execution_count": 34
        }
      ]
    },
    {
      "cell_type": "code",
      "metadata": {
        "id": "c8tWibN6M_I1",
        "colab": {
          "base_uri": "https://localhost:8080/"
        },
        "outputId": "fbe83105-8ff9-4215-8dc9-3f4f9b3d9b81"
      },
      "source": [
        "np.median(z, axis=1)"
      ],
      "execution_count": 35,
      "outputs": [
        {
          "output_type": "execute_result",
          "data": {
            "text/plain": [
              "array([2., 5.])"
            ]
          },
          "metadata": {
            "tags": []
          },
          "execution_count": 35
        }
      ]
    },
    {
      "cell_type": "markdown",
      "metadata": {
        "id": "nCaS0vtyRldj"
      },
      "source": [
        "## Booleans\n",
        "\n",
        " "
      ]
    },
    {
      "cell_type": "markdown",
      "metadata": {
        "id": "yZp46pLuepu5"
      },
      "source": [
        "- `np.all()` is a logical `AND`\n",
        "- `np.any()` is a logical `OR`"
      ]
    },
    {
      "cell_type": "markdown",
      "metadata": {
        "id": "JKroapllKM6s"
      },
      "source": [
        "#### Logical `AND`"
      ]
    },
    {
      "cell_type": "code",
      "metadata": {
        "id": "4h2o2WE5SRnH",
        "colab": {
          "base_uri": "https://localhost:8080/"
        },
        "outputId": "74963907-cd98-4e9c-9b5c-81b7785c6da3"
      },
      "source": [
        "z = np.array([[True, True, False, True], [True, True, True, True]])\n",
        "z"
      ],
      "execution_count": 36,
      "outputs": [
        {
          "output_type": "execute_result",
          "data": {
            "text/plain": [
              "array([[ True,  True, False,  True],\n",
              "       [ True,  True,  True,  True]])"
            ]
          },
          "metadata": {
            "tags": []
          },
          "execution_count": 36
        }
      ]
    },
    {
      "cell_type": "code",
      "metadata": {
        "id": "W3uN8wxTI7o5",
        "colab": {
          "base_uri": "https://localhost:8080/"
        },
        "outputId": "3d408cdf-bc0a-4561-8e7b-52586bd7ba23"
      },
      "source": [
        "z.all()"
      ],
      "execution_count": 37,
      "outputs": [
        {
          "output_type": "execute_result",
          "data": {
            "text/plain": [
              "False"
            ]
          },
          "metadata": {
            "tags": []
          },
          "execution_count": 37
        }
      ]
    },
    {
      "cell_type": "code",
      "metadata": {
        "id": "IouIpFlsIDUo",
        "colab": {
          "base_uri": "https://localhost:8080/"
        },
        "outputId": "2ebcd6c0-b310-4f48-ae41-f1c4e421418d"
      },
      "source": [
        "z.all(axis=1)"
      ],
      "execution_count": 38,
      "outputs": [
        {
          "output_type": "execute_result",
          "data": {
            "text/plain": [
              "array([False,  True])"
            ]
          },
          "metadata": {
            "tags": []
          },
          "execution_count": 38
        }
      ]
    },
    {
      "cell_type": "markdown",
      "metadata": {
        "id": "kiIGbK35J8bF"
      },
      "source": [
        "#### Logical `OR`"
      ]
    },
    {
      "cell_type": "code",
      "metadata": {
        "id": "yZxhXeUcIDE-",
        "colab": {
          "base_uri": "https://localhost:8080/"
        },
        "outputId": "55bee64f-28fe-49c3-e2b3-db2c6ab51092"
      },
      "source": [
        "z.any()"
      ],
      "execution_count": 39,
      "outputs": [
        {
          "output_type": "execute_result",
          "data": {
            "text/plain": [
              "True"
            ]
          },
          "metadata": {
            "tags": []
          },
          "execution_count": 39
        }
      ]
    },
    {
      "cell_type": "markdown",
      "metadata": {
        "id": "fttcYQPPKL4S"
      },
      "source": [
        "#### Logical `NOT`"
      ]
    },
    {
      "cell_type": "code",
      "metadata": {
        "id": "NFFX9aFoJVQw",
        "colab": {
          "base_uri": "https://localhost:8080/"
        },
        "outputId": "0359df11-ffbf-490a-8c95-820000d24945"
      },
      "source": [
        "np.logical_not(z.all(axis=0))"
      ],
      "execution_count": 40,
      "outputs": [
        {
          "output_type": "execute_result",
          "data": {
            "text/plain": [
              "array([False, False,  True, False])"
            ]
          },
          "metadata": {
            "tags": []
          },
          "execution_count": 40
        }
      ]
    },
    {
      "cell_type": "markdown",
      "metadata": {
        "id": "eaCiE7DUOP2K"
      },
      "source": [
        "# Reorganizing arrays"
      ]
    },
    {
      "cell_type": "markdown",
      "metadata": {
        "id": "9B92qqPuwJY0"
      },
      "source": [
        "## Reshape"
      ]
    },
    {
      "cell_type": "code",
      "metadata": {
        "id": "8RYfPNmxOCf1",
        "colab": {
          "base_uri": "https://localhost:8080/"
        },
        "outputId": "e56460db-6d02-452b-a60a-867322e57d18"
      },
      "source": [
        "z = np.array([[1,2,3], [4,5,6]])\n",
        "z"
      ],
      "execution_count": 41,
      "outputs": [
        {
          "output_type": "execute_result",
          "data": {
            "text/plain": [
              "array([[1, 2, 3],\n",
              "       [4, 5, 6]])"
            ]
          },
          "metadata": {
            "tags": []
          },
          "execution_count": 41
        }
      ]
    },
    {
      "cell_type": "code",
      "metadata": {
        "id": "Vfgu4ciWvyAn",
        "colab": {
          "base_uri": "https://localhost:8080/"
        },
        "outputId": "babafe10-1c8d-4524-9fac-b1dbf7e0964a"
      },
      "source": [
        "z.shape"
      ],
      "execution_count": 42,
      "outputs": [
        {
          "output_type": "execute_result",
          "data": {
            "text/plain": [
              "(2, 3)"
            ]
          },
          "metadata": {
            "tags": []
          },
          "execution_count": 42
        }
      ]
    },
    {
      "cell_type": "markdown",
      "metadata": {
        "id": "qwZ1wxDiv4-0"
      },
      "source": [
        "**Option 1**: Use `reshape` method:"
      ]
    },
    {
      "cell_type": "code",
      "metadata": {
        "id": "wJHE80fZOYU4",
        "colab": {
          "base_uri": "https://localhost:8080/"
        },
        "outputId": "af7eb7e4-3c12-4047-ffc9-595717b01e0e"
      },
      "source": [
        "z = z.reshape((3, 2))\n",
        "z"
      ],
      "execution_count": 43,
      "outputs": [
        {
          "output_type": "execute_result",
          "data": {
            "text/plain": [
              "array([[1, 2],\n",
              "       [3, 4],\n",
              "       [5, 6]])"
            ]
          },
          "metadata": {
            "tags": []
          },
          "execution_count": 43
        }
      ]
    },
    {
      "cell_type": "code",
      "metadata": {
        "id": "7nCYr5MUw0S_",
        "colab": {
          "base_uri": "https://localhost:8080/"
        },
        "outputId": "4d3821f7-cce8-4556-9308-18ea00cceb2f"
      },
      "source": [
        "z.shape"
      ],
      "execution_count": 44,
      "outputs": [
        {
          "output_type": "execute_result",
          "data": {
            "text/plain": [
              "(3, 2)"
            ]
          },
          "metadata": {
            "tags": []
          },
          "execution_count": 44
        }
      ]
    },
    {
      "cell_type": "markdown",
      "metadata": {
        "id": "_enslv-SwQv7"
      },
      "source": [
        "**Option 2**: Assign a new shape to the `.shape` attribute:"
      ]
    },
    {
      "cell_type": "code",
      "metadata": {
        "id": "MB8ZTY2Sc4Ce",
        "colab": {
          "base_uri": "https://localhost:8080/"
        },
        "outputId": "6cae0d2d-61d9-415b-dec1-e8228be92930"
      },
      "source": [
        "z.shape = (6, )\n",
        "z"
      ],
      "execution_count": 45,
      "outputs": [
        {
          "output_type": "execute_result",
          "data": {
            "text/plain": [
              "array([1, 2, 3, 4, 5, 6])"
            ]
          },
          "metadata": {
            "tags": []
          },
          "execution_count": 45
        }
      ]
    },
    {
      "cell_type": "code",
      "metadata": {
        "id": "30OdtJcAc3_i",
        "colab": {
          "base_uri": "https://localhost:8080/"
        },
        "outputId": "38ae7ae7-3312-413d-dd04-89995bf00f06"
      },
      "source": [
        "z.shape"
      ],
      "execution_count": 46,
      "outputs": [
        {
          "output_type": "execute_result",
          "data": {
            "text/plain": [
              "(6,)"
            ]
          },
          "metadata": {
            "tags": []
          },
          "execution_count": 46
        }
      ]
    },
    {
      "cell_type": "markdown",
      "metadata": {
        "id": "489EZq-JC_WK"
      },
      "source": [
        "## Concatenation"
      ]
    },
    {
      "cell_type": "code",
      "metadata": {
        "id": "9muxQQgsDBR5",
        "colab": {
          "base_uri": "https://localhost:8080/"
        },
        "outputId": "459b01b9-c9fd-4575-a82a-22db7f365fe7"
      },
      "source": [
        "a = np.array([[1,2,3], [4,5,6]])\n",
        "a"
      ],
      "execution_count": 47,
      "outputs": [
        {
          "output_type": "execute_result",
          "data": {
            "text/plain": [
              "array([[1, 2, 3],\n",
              "       [4, 5, 6]])"
            ]
          },
          "metadata": {
            "tags": []
          },
          "execution_count": 47
        }
      ]
    },
    {
      "cell_type": "code",
      "metadata": {
        "id": "0edPuLX5lzI6",
        "colab": {
          "base_uri": "https://localhost:8080/"
        },
        "outputId": "4b1ae675-3ffd-48c9-b045-bdcd34928ab9"
      },
      "source": [
        "b = np.array([[7,8,9], [10,11,12]])\n",
        "b"
      ],
      "execution_count": 48,
      "outputs": [
        {
          "output_type": "execute_result",
          "data": {
            "text/plain": [
              "array([[ 7,  8,  9],\n",
              "       [10, 11, 12]])"
            ]
          },
          "metadata": {
            "tags": []
          },
          "execution_count": 48
        }
      ]
    },
    {
      "cell_type": "markdown",
      "metadata": {
        "id": "XVlTvOsinykJ"
      },
      "source": [
        "### `np.vstack()`  "
      ]
    },
    {
      "cell_type": "markdown",
      "metadata": {
        "id": "bD35DgkIAta0"
      },
      "source": [
        "`np.vstack()` is equivalent to `np.concatenate(..., axis=0)`:"
      ]
    },
    {
      "cell_type": "code",
      "metadata": {
        "id": "844LybPhDE3U",
        "colab": {
          "base_uri": "https://localhost:8080/"
        },
        "outputId": "8f671b8e-4cd5-419f-9a54-696f30ffba6f"
      },
      "source": [
        "z = np.concatenate((a, b), axis=0)\n",
        "z"
      ],
      "execution_count": 49,
      "outputs": [
        {
          "output_type": "execute_result",
          "data": {
            "text/plain": [
              "array([[ 1,  2,  3],\n",
              "       [ 4,  5,  6],\n",
              "       [ 7,  8,  9],\n",
              "       [10, 11, 12]])"
            ]
          },
          "metadata": {
            "tags": []
          },
          "execution_count": 49
        }
      ]
    },
    {
      "cell_type": "code",
      "metadata": {
        "id": "_vBdBWaboerG",
        "colab": {
          "base_uri": "https://localhost:8080/"
        },
        "outputId": "b591a64c-b336-42b1-f199-39f50a31d9d0"
      },
      "source": [
        "z = np.vstack((a, b))\n",
        "z"
      ],
      "execution_count": 50,
      "outputs": [
        {
          "output_type": "execute_result",
          "data": {
            "text/plain": [
              "array([[ 1,  2,  3],\n",
              "       [ 4,  5,  6],\n",
              "       [ 7,  8,  9],\n",
              "       [10, 11, 12]])"
            ]
          },
          "metadata": {
            "tags": []
          },
          "execution_count": 50
        }
      ]
    },
    {
      "cell_type": "markdown",
      "metadata": {
        "id": "0hfINgkQoUIN"
      },
      "source": [
        "### `np.hstack()`  "
      ]
    },
    {
      "cell_type": "markdown",
      "metadata": {
        "id": "nBJADUclmdDm"
      },
      "source": [
        "`np.hstack()` is equivalent to `np.concatenate(..., axis=1)`:"
      ]
    },
    {
      "cell_type": "code",
      "metadata": {
        "id": "CPjU9o7QDSz5",
        "colab": {
          "base_uri": "https://localhost:8080/"
        },
        "outputId": "82c5f145-978b-4b03-87e3-4188d22d8d0f"
      },
      "source": [
        "z = np.concatenate((a, b), axis=1)\n",
        "z"
      ],
      "execution_count": 51,
      "outputs": [
        {
          "output_type": "execute_result",
          "data": {
            "text/plain": [
              "array([[ 1,  2,  3,  7,  8,  9],\n",
              "       [ 4,  5,  6, 10, 11, 12]])"
            ]
          },
          "metadata": {
            "tags": []
          },
          "execution_count": 51
        }
      ]
    },
    {
      "cell_type": "code",
      "metadata": {
        "id": "UULF_vgkpTWN",
        "colab": {
          "base_uri": "https://localhost:8080/"
        },
        "outputId": "ccc48d8b-5c1e-4be5-cf52-6ac618c471bc"
      },
      "source": [
        "z = np.hstack((a, b))\n",
        "z"
      ],
      "execution_count": 52,
      "outputs": [
        {
          "output_type": "execute_result",
          "data": {
            "text/plain": [
              "array([[ 1,  2,  3,  7,  8,  9],\n",
              "       [ 4,  5,  6, 10, 11, 12]])"
            ]
          },
          "metadata": {
            "tags": []
          },
          "execution_count": 52
        }
      ]
    },
    {
      "cell_type": "markdown",
      "metadata": {
        "id": "Kaf32p1_pzUg"
      },
      "source": [
        "### Concat arrays and slices (1D arrays)\n"
      ]
    },
    {
      "cell_type": "code",
      "metadata": {
        "id": "pvdQraAECL3y",
        "colab": {
          "base_uri": "https://localhost:8080/"
        },
        "outputId": "4389709f-3357-4a73-f6f9-1514042c774b"
      },
      "source": [
        "z = np.linspace(start=0, stop=11, num=12, dtype=\"int8\")\n",
        "z"
      ],
      "execution_count": 53,
      "outputs": [
        {
          "output_type": "execute_result",
          "data": {
            "text/plain": [
              "array([ 0,  1,  2,  3,  4,  5,  6,  7,  8,  9, 10, 11], dtype=int8)"
            ]
          },
          "metadata": {
            "tags": []
          },
          "execution_count": 53
        }
      ]
    },
    {
      "cell_type": "code",
      "metadata": {
        "id": "X9juWxJ-NESt",
        "colab": {
          "base_uri": "https://localhost:8080/"
        },
        "outputId": "bfc27300-f7c6-4297-af76-215967067b48"
      },
      "source": [
        "z.shape = (6, 2)\n",
        "z"
      ],
      "execution_count": 54,
      "outputs": [
        {
          "output_type": "execute_result",
          "data": {
            "text/plain": [
              "array([[ 0,  1],\n",
              "       [ 2,  3],\n",
              "       [ 4,  5],\n",
              "       [ 6,  7],\n",
              "       [ 8,  9],\n",
              "       [10, 11]], dtype=int8)"
            ]
          },
          "metadata": {
            "tags": []
          },
          "execution_count": 54
        }
      ]
    },
    {
      "cell_type": "markdown",
      "metadata": {
        "id": "kdK3J_rINq_Z"
      },
      "source": [
        "Compute new features (columns) based on exisitng features:"
      ]
    },
    {
      "cell_type": "code",
      "metadata": {
        "id": "ZpW3YhpPNxuX",
        "colab": {
          "base_uri": "https://localhost:8080/"
        },
        "outputId": "5aa3f638-742c-4988-b81e-12bfe0eba0fa"
      },
      "source": [
        "new_sum = z[:, 0] + z[:, 1]\n",
        "new_sum"
      ],
      "execution_count": 55,
      "outputs": [
        {
          "output_type": "execute_result",
          "data": {
            "text/plain": [
              "array([ 1,  5,  9, 13, 17, 21], dtype=int8)"
            ]
          },
          "metadata": {
            "tags": []
          },
          "execution_count": 55
        }
      ]
    },
    {
      "cell_type": "code",
      "metadata": {
        "id": "G3EGt5j8OCpn",
        "colab": {
          "base_uri": "https://localhost:8080/"
        },
        "outputId": "065695eb-7690-4f8d-eddb-13b5d5a62366"
      },
      "source": [
        "new_prod = z[:, 0] * z[:, 1]\n",
        "new_prod"
      ],
      "execution_count": 56,
      "outputs": [
        {
          "output_type": "execute_result",
          "data": {
            "text/plain": [
              "array([  0,   6,  20,  42,  72, 110], dtype=int8)"
            ]
          },
          "metadata": {
            "tags": []
          },
          "execution_count": 56
        }
      ]
    },
    {
      "cell_type": "markdown",
      "metadata": {
        "id": "JIxupw8cOSVr"
      },
      "source": [
        "Trial to concatenate new features to the right fails:"
      ]
    },
    {
      "cell_type": "code",
      "metadata": {
        "id": "kvVFkREzORuz",
        "colab": {
          "base_uri": "https://localhost:8080/"
        },
        "outputId": "ab6d7b76-dc5c-4ef5-f83f-780e9ab6aaf1"
      },
      "source": [
        "try:\n",
        "    new_z = np.concatenate((z, new_sum, new_prod), axis=0)\n",
        "except Exception as e:\n",
        "    print(\"Exception occured: \" + str(e))"
      ],
      "execution_count": 57,
      "outputs": [
        {
          "output_type": "stream",
          "text": [
            "Exception occured: all the input arrays must have same number of dimensions, but the array at index 0 has 2 dimension(s) and the array at index 1 has 1 dimension(s)\n"
          ],
          "name": "stdout"
        }
      ]
    },
    {
      "cell_type": "markdown",
      "metadata": {
        "id": "AONF8NDTPCZ2"
      },
      "source": [
        "Problem: The new features are slices (1D arrays), not 2D arrays:"
      ]
    },
    {
      "cell_type": "code",
      "metadata": {
        "id": "rCjeaG8bNSJm",
        "colab": {
          "base_uri": "https://localhost:8080/"
        },
        "outputId": "9a7aa4fa-fcef-499c-bdb7-9344035217ae"
      },
      "source": [
        "print(z.ndim, z.shape)"
      ],
      "execution_count": 58,
      "outputs": [
        {
          "output_type": "stream",
          "text": [
            "2 (6, 2)\n"
          ],
          "name": "stdout"
        }
      ]
    },
    {
      "cell_type": "code",
      "metadata": {
        "id": "Yqkk8p6wNEOj",
        "colab": {
          "base_uri": "https://localhost:8080/"
        },
        "outputId": "3fc2c8bf-b3fb-4a40-8ed7-1f2717228bd8"
      },
      "source": [
        "print(new_sum.ndim, new_sum.shape)"
      ],
      "execution_count": 59,
      "outputs": [
        {
          "output_type": "stream",
          "text": [
            "1 (6,)\n"
          ],
          "name": "stdout"
        }
      ]
    },
    {
      "cell_type": "markdown",
      "metadata": {
        "id": "M5khDWLVPLBk"
      },
      "source": [
        "#### Option 1: Reshape first\n",
        "Manually reshape the new features before concatanation"
      ]
    },
    {
      "cell_type": "code",
      "metadata": {
        "id": "qLcTzr_KXR80",
        "colab": {
          "base_uri": "https://localhost:8080/"
        },
        "outputId": "e372dfec-0efa-4e6f-9ede-ea1dd3d2ef75"
      },
      "source": [
        "new_sum.shape"
      ],
      "execution_count": 60,
      "outputs": [
        {
          "output_type": "execute_result",
          "data": {
            "text/plain": [
              "(6,)"
            ]
          },
          "metadata": {
            "tags": []
          },
          "execution_count": 60
        }
      ]
    },
    {
      "cell_type": "code",
      "metadata": {
        "id": "x0rYVuxpXbsL"
      },
      "source": [
        "for array in [new_sum, new_prod]:\n",
        "    new_shape = (array.size, 1)\n",
        "    array.shape = new_shape"
      ],
      "execution_count": 61,
      "outputs": []
    },
    {
      "cell_type": "code",
      "metadata": {
        "id": "74tbFcCwVjOz",
        "colab": {
          "base_uri": "https://localhost:8080/"
        },
        "outputId": "c4829718-dce2-4016-8d8e-55717584178f"
      },
      "source": [
        "new_sum.shape"
      ],
      "execution_count": 62,
      "outputs": [
        {
          "output_type": "execute_result",
          "data": {
            "text/plain": [
              "(6, 1)"
            ]
          },
          "metadata": {
            "tags": []
          },
          "execution_count": 62
        }
      ]
    },
    {
      "cell_type": "code",
      "metadata": {
        "id": "ELDY9PfBP-lA",
        "colab": {
          "base_uri": "https://localhost:8080/"
        },
        "outputId": "ecafa503-c20d-434d-9577-f9735cbaf3ee"
      },
      "source": [
        "np.hstack([z, new_sum, new_prod])"
      ],
      "execution_count": 63,
      "outputs": [
        {
          "output_type": "execute_result",
          "data": {
            "text/plain": [
              "array([[  0,   1,   1,   0],\n",
              "       [  2,   3,   5,   6],\n",
              "       [  4,   5,   9,  20],\n",
              "       [  6,   7,  13,  42],\n",
              "       [  8,   9,  17,  72],\n",
              "       [ 10,  11,  21, 110]], dtype=int8)"
            ]
          },
          "metadata": {
            "tags": []
          },
          "execution_count": 63
        }
      ]
    },
    {
      "cell_type": "markdown",
      "metadata": {
        "id": "FWNLg1ujQ-90"
      },
      "source": [
        "#### Option 2: `np.column_stack(tup)`\n",
        "Stacks 1D or 2D arrays as columns into a 2D array.\n",
        "- 2D arrays are stacked as-is, just like with `hstack`.  \n",
        "- 1D arrays are turned into 2D arrays\n",
        "first."
      ]
    },
    {
      "cell_type": "markdown",
      "metadata": {
        "id": "mDUfaZ3gcjgZ"
      },
      "source": [
        "Recreating the test bench:"
      ]
    },
    {
      "cell_type": "code",
      "metadata": {
        "id": "_ivGEamEZl4p",
        "colab": {
          "base_uri": "https://localhost:8080/"
        },
        "outputId": "b1b7f06e-c926-4782-ee4a-e341e33a267e"
      },
      "source": [
        "z"
      ],
      "execution_count": 64,
      "outputs": [
        {
          "output_type": "execute_result",
          "data": {
            "text/plain": [
              "array([[ 0,  1],\n",
              "       [ 2,  3],\n",
              "       [ 4,  5],\n",
              "       [ 6,  7],\n",
              "       [ 8,  9],\n",
              "       [10, 11]], dtype=int8)"
            ]
          },
          "metadata": {
            "tags": []
          },
          "execution_count": 64
        }
      ]
    },
    {
      "cell_type": "markdown",
      "metadata": {
        "id": "n2aL7GZMbAK9"
      },
      "source": [
        "Recalculate the new features in order to undo the manual reshaping and to get 1D arrays, again."
      ]
    },
    {
      "cell_type": "code",
      "metadata": {
        "id": "Fj5aYE0AZv6i",
        "colab": {
          "base_uri": "https://localhost:8080/"
        },
        "outputId": "04c246c2-56a5-4d71-ee0c-d1c045b3dab8"
      },
      "source": [
        "new_sum = z[:, 0] + z[:, 1]\n",
        "new_sum"
      ],
      "execution_count": 65,
      "outputs": [
        {
          "output_type": "execute_result",
          "data": {
            "text/plain": [
              "array([ 1,  5,  9, 13, 17, 21], dtype=int8)"
            ]
          },
          "metadata": {
            "tags": []
          },
          "execution_count": 65
        }
      ]
    },
    {
      "cell_type": "code",
      "metadata": {
        "id": "h6g1H7T3Zv6l",
        "colab": {
          "base_uri": "https://localhost:8080/"
        },
        "outputId": "ef33e62f-2da4-4726-cc58-fb620bd58a7b"
      },
      "source": [
        "new_prod = z[:, 0] * z[:, 1]\n",
        "new_prod"
      ],
      "execution_count": 66,
      "outputs": [
        {
          "output_type": "execute_result",
          "data": {
            "text/plain": [
              "array([  0,   6,  20,  42,  72, 110], dtype=int8)"
            ]
          },
          "metadata": {
            "tags": []
          },
          "execution_count": 66
        }
      ]
    },
    {
      "cell_type": "code",
      "metadata": {
        "id": "NdfYR1_SUE7i",
        "colab": {
          "base_uri": "https://localhost:8080/"
        },
        "outputId": "8ddd3609-1735-483f-81c9-9bf71b007107"
      },
      "source": [
        "np.column_stack([z, new_sum, new_prod])"
      ],
      "execution_count": 67,
      "outputs": [
        {
          "output_type": "execute_result",
          "data": {
            "text/plain": [
              "array([[  0,   1,   1,   0],\n",
              "       [  2,   3,   5,   6],\n",
              "       [  4,   5,   9,  20],\n",
              "       [  6,   7,  13,  42],\n",
              "       [  8,   9,  17,  72],\n",
              "       [ 10,  11,  21, 110]], dtype=int8)"
            ]
          },
          "metadata": {
            "tags": []
          },
          "execution_count": 67
        }
      ]
    },
    {
      "cell_type": "markdown",
      "metadata": {
        "id": "hp10ePs7daw0"
      },
      "source": [
        "#### Option 3: Deep dive `np.c_`, `np.r_` "
      ]
    },
    {
      "cell_type": "markdown",
      "metadata": {
        "id": "N_2Rxqgih1Vc"
      },
      "source": [
        "- `.c_`: https://docs.scipy.org/doc/numpy/reference/generated/numpy.c_.html\n",
        "- `.r_`: https://docs.scipy.org/doc/numpy/reference/generated/numpy.r_.html"
      ]
    },
    {
      "cell_type": "code",
      "metadata": {
        "id": "zIr-ehsFF4jO",
        "colab": {
          "base_uri": "https://localhost:8080/"
        },
        "outputId": "9717b185-2bfd-49f5-a2e9-ca9307e9f79b"
      },
      "source": [
        "np.c_[z, new_sum, new_prod]"
      ],
      "execution_count": 68,
      "outputs": [
        {
          "output_type": "execute_result",
          "data": {
            "text/plain": [
              "array([[  0,   1,   1,   0],\n",
              "       [  2,   3,   5,   6],\n",
              "       [  4,   5,   9,  20],\n",
              "       [  6,   7,  13,  42],\n",
              "       [  8,   9,  17,  72],\n",
              "       [ 10,  11,  21, 110]], dtype=int8)"
            ]
          },
          "metadata": {
            "tags": []
          },
          "execution_count": 68
        }
      ]
    },
    {
      "cell_type": "code",
      "metadata": {
        "id": "XFuMTHDdRUF7",
        "colab": {
          "base_uri": "https://localhost:8080/"
        },
        "outputId": "14736de7-b16f-4507-8d8e-5494869995cf"
      },
      "source": [
        "np.r_[z, np.c_[new_sum, new_prod]]"
      ],
      "execution_count": 69,
      "outputs": [
        {
          "output_type": "execute_result",
          "data": {
            "text/plain": [
              "array([[  0,   1],\n",
              "       [  2,   3],\n",
              "       [  4,   5],\n",
              "       [  6,   7],\n",
              "       [  8,   9],\n",
              "       [ 10,  11],\n",
              "       [  1,   0],\n",
              "       [  5,   6],\n",
              "       [  9,  20],\n",
              "       [ 13,  42],\n",
              "       [ 17,  72],\n",
              "       [ 21, 110]], dtype=int8)"
            ]
          },
          "metadata": {
            "tags": []
          },
          "execution_count": 69
        }
      ]
    },
    {
      "cell_type": "markdown",
      "metadata": {
        "id": "6vvsjkVaQj7w"
      },
      "source": [
        "## Advanced indexing"
      ]
    },
    {
      "cell_type": "code",
      "metadata": {
        "id": "PFJVLNaKQKZ8",
        "colab": {
          "base_uri": "https://localhost:8080/"
        },
        "outputId": "872af889-7b22-445c-d8b7-818e13b6c559"
      },
      "source": [
        "z = np.random.randint(16, size=(3, 5))\n",
        "z"
      ],
      "execution_count": 70,
      "outputs": [
        {
          "output_type": "execute_result",
          "data": {
            "text/plain": [
              "array([[ 3,  7,  7,  2,  5],\n",
              "       [ 4,  1,  7, 11, 13],\n",
              "       [ 5,  1, 15, 11,  4]])"
            ]
          },
          "metadata": {
            "tags": []
          },
          "execution_count": 70
        }
      ]
    },
    {
      "cell_type": "markdown",
      "metadata": {
        "id": "viyOuHbhRHyZ"
      },
      "source": [
        "Create a **masking array**, e.g. where the values are greater than a limit:"
      ]
    },
    {
      "cell_type": "code",
      "metadata": {
        "id": "kTeTgEDmQ0rS",
        "colab": {
          "base_uri": "https://localhost:8080/"
        },
        "outputId": "aba9027e-cd1f-4aa6-faff-752163bebfc4"
      },
      "source": [
        "mask = z > 9\n",
        "mask"
      ],
      "execution_count": 71,
      "outputs": [
        {
          "output_type": "execute_result",
          "data": {
            "text/plain": [
              "array([[False, False, False, False, False],\n",
              "       [False, False, False,  True,  True],\n",
              "       [False, False,  True,  True, False]])"
            ]
          },
          "metadata": {
            "tags": []
          },
          "execution_count": 71
        }
      ]
    },
    {
      "cell_type": "markdown",
      "metadata": {
        "id": "cgB40OY5Rf8y"
      },
      "source": [
        ".. and index the array at the *mask* positions:"
      ]
    },
    {
      "cell_type": "code",
      "metadata": {
        "id": "WQGzovhARXrs",
        "colab": {
          "base_uri": "https://localhost:8080/"
        },
        "outputId": "30fa0dbb-ee4b-4e3b-ad4f-9ee7b806895e"
      },
      "source": [
        "z[mask]"
      ],
      "execution_count": 72,
      "outputs": [
        {
          "output_type": "execute_result",
          "data": {
            "text/plain": [
              "array([11, 13, 15, 11])"
            ]
          },
          "metadata": {
            "tags": []
          },
          "execution_count": 72
        }
      ]
    },
    {
      "cell_type": "code",
      "metadata": {
        "id": "KIHm43AGPaNa",
        "colab": {
          "base_uri": "https://localhost:8080/"
        },
        "outputId": "d5436dbe-9270-4a48-9883-035368a09112"
      },
      "source": [
        "print(\"{} chosen out of {}, equivalent to {:.1%}\".format(\n",
        "    mask.sum(), \n",
        "    mask.size, \n",
        "    mask.sum()/mask.size))"
      ],
      "execution_count": 73,
      "outputs": [
        {
          "output_type": "stream",
          "text": [
            "4 chosen out of 15, equivalent to 26.7%\n"
          ],
          "name": "stdout"
        }
      ]
    },
    {
      "cell_type": "markdown",
      "metadata": {
        "id": "ioXiTLQqJQ-z"
      },
      "source": [
        "### NumPy versus list - speed comparison\n",
        "Measure the compute time to find the smallest value within a list / array."
      ]
    },
    {
      "cell_type": "code",
      "metadata": {
        "id": "qpf9lcUvjbEd",
        "colab": {
          "base_uri": "https://localhost:8080/",
          "height": 0
        },
        "outputId": "5a6a9d19-7756-4a74-da69-56f46644ec38"
      },
      "source": [
        "%matplotlib inline\n",
        "from time import time\n",
        "import matplotlib.pyplot as plt\n",
        "\n",
        "labels = [\"NumPy array\", \"list\"]\n",
        "compute_times = [[], []]\n",
        "lengths = (1e5, 3e5, 1e6, 3e6, 1e7)\n",
        "for length in lengths:\n",
        "    np_vals = np.random.random_sample(size=(int(length),))\n",
        "    list_vals = list(np_vals)\n",
        "    funcs = [np_vals.min, lambda: min(list_vals)]\n",
        "\n",
        "    for func, compute_time in zip(funcs, compute_times):\n",
        "        t0 = time()\n",
        "        func()\n",
        "        compute_time.append(time() - t0)\n",
        "\n",
        "for compute_time, label in zip(compute_times, labels):\n",
        "    plt.loglog(lengths, compute_time, \"o-\", label=label)\n",
        "\n",
        "plt.xlabel(\"array length\"), plt.ylabel(\"computation time [s]\")\n",
        "plt.legend(), plt.grid(which=\"both\"), plt.tight_layout();"
      ],
      "execution_count": 74,
      "outputs": [
        {
          "output_type": "display_data",
          "data": {
            "image/png": "[encoded data removed]",
            "text/plain": [
              "<Figure size 432x288 with 1 Axes>"
            ]
          },
          "metadata": {
            "tags": [],
            "needs_background": "light"
          }
        }
      ]
    }
  ]
}