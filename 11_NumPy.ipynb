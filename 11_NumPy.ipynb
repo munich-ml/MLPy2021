{
  "nbformat": 4,
  "nbformat_minor": 0,
  "metadata": {
    "colab": {
      "name": "11_NumPy.ipynb",
      "provenance": [],
      "collapsed_sections": [
        "GzLRaElQ3Q80",
        "oCMLt8pbO-qt",
        "6vvsjkVaQj7w",
        "ioXiTLQqJQ-z"
      ],
      "toc_visible": true,
      "authorship_tag": "ABX9TyMQH01E7+R21TLXYHMOY2/q",
      "include_colab_link": true
    },
    "kernelspec": {
      "name": "python3",
      "display_name": "Python 3"
    }
  },
  "cells": [
    {
      "cell_type": "markdown",
      "metadata": {
        "id": "view-in-github",
        "colab_type": "text"
      },
      "source": [
        "<a href=\"https://colab.research.google.com/github/munich-ml/MLPy2020/blob/master/15_NumPy.ipynb\" target=\"_parent\"><img src=\"https://colab.research.google.com/assets/colab-badge.svg\" alt=\"Open In Colab\"/></a>"
      ]
    },
    {
      "cell_type": "markdown",
      "metadata": {
        "id": "e2piuI4C-TVp",
        "colab_type": "text"
      },
      "source": [
        "# Intro"
      ]
    },
    {
      "cell_type": "markdown",
      "metadata": {
        "id": "S9gWcLiqviYB",
        "colab_type": "text"
      },
      "source": [
        "NumPy is an array proessing package for Python. "
      ]
    },
    {
      "cell_type": "markdown",
      "metadata": {
        "id": "9ci_bXUrP10A",
        "colab_type": "text"
      },
      "source": [
        "NumPy is written in C what makes computations with NumPy very fast.\n",
        "\n",
        "NumPy is usually imported as **np** (alias):"
      ]
    },
    {
      "cell_type": "code",
      "metadata": {
        "id": "i5gz6p4NNCYT",
        "colab_type": "code",
        "colab": {}
      },
      "source": [
        "import numpy as np   "
      ],
      "execution_count": 0,
      "outputs": []
    },
    {
      "cell_type": "markdown",
      "metadata": {
        "id": "-twLPTrQyPfV",
        "colab_type": "text"
      },
      "source": [
        "The basic NumPy datatype is the NumPy array:"
      ]
    },
    {
      "cell_type": "code",
      "metadata": {
        "id": "BpOIppHUxhn2",
        "colab_type": "code",
        "colab": {
          "base_uri": "https://localhost:8080/",
          "height": 33
        },
        "outputId": "2ebe3576-8705-4d53-c8c2-f40b7e5421fa"
      },
      "source": [
        "z = np.array([2, 4, 7])\n",
        "z"
      ],
      "execution_count": 2,
      "outputs": [
        {
          "output_type": "execute_result",
          "data": {
            "text/plain": [
              "array([2, 4, 7])"
            ]
          },
          "metadata": {
            "tags": []
          },
          "execution_count": 2
        }
      ]
    },
    {
      "cell_type": "markdown",
      "metadata": {
        "id": "87cP8Vd50x6x",
        "colab_type": "text"
      },
      "source": [
        "## NumPy arrays vs. lists"
      ]
    },
    {
      "cell_type": "markdown",
      "metadata": {
        "id": "c-9A_rtQ2hUC",
        "colab_type": "text"
      },
      "source": [
        "### Similarities"
      ]
    },
    {
      "cell_type": "markdown",
      "metadata": {
        "id": "4dFXyV1f09Oo",
        "colab_type": "text"
      },
      "source": [
        "NumPy arrays share many properties with Python lists, e.g. slicing: "
      ]
    },
    {
      "cell_type": "code",
      "metadata": {
        "id": "LAdkExjd1uOL",
        "colab_type": "code",
        "colab": {}
      },
      "source": [
        "a = [2, 7, 5, 1]"
      ],
      "execution_count": 0,
      "outputs": []
    },
    {
      "cell_type": "code",
      "metadata": {
        "id": "5fN2Pc1W11t2",
        "colab_type": "code",
        "colab": {
          "base_uri": "https://localhost:8080/",
          "height": 33
        },
        "outputId": "5c1a6e4c-ea1d-47d9-bf22-8f15eab0de10"
      },
      "source": [
        "a[1:-1]"
      ],
      "execution_count": 4,
      "outputs": [
        {
          "output_type": "execute_result",
          "data": {
            "text/plain": [
              "[7, 5]"
            ]
          },
          "metadata": {
            "tags": []
          },
          "execution_count": 4
        }
      ]
    },
    {
      "cell_type": "code",
      "metadata": {
        "id": "xFvrur-C186b",
        "colab_type": "code",
        "colab": {
          "base_uri": "https://localhost:8080/",
          "height": 33
        },
        "outputId": "f313825d-396f-463c-d6e7-f554d46ce83a"
      },
      "source": [
        "z = np.array(a)\n",
        "z"
      ],
      "execution_count": 5,
      "outputs": [
        {
          "output_type": "execute_result",
          "data": {
            "text/plain": [
              "array([2, 7, 5, 1])"
            ]
          },
          "metadata": {
            "tags": []
          },
          "execution_count": 5
        }
      ]
    },
    {
      "cell_type": "code",
      "metadata": {
        "id": "7D81b5NYl53A",
        "colab_type": "code",
        "colab": {
          "base_uri": "https://localhost:8080/",
          "height": 33
        },
        "outputId": "487cb445-b67c-4a74-d49f-2bd84d5df133"
      },
      "source": [
        "z[1:-1]"
      ],
      "execution_count": 6,
      "outputs": [
        {
          "output_type": "execute_result",
          "data": {
            "text/plain": [
              "array([7, 5])"
            ]
          },
          "metadata": {
            "tags": []
          },
          "execution_count": 6
        }
      ]
    },
    {
      "cell_type": "markdown",
      "metadata": {
        "id": "M0v_mApq2lqH",
        "colab_type": "text"
      },
      "source": [
        "### Differences"
      ]
    },
    {
      "cell_type": "markdown",
      "metadata": {
        "id": "aeY0yAVezmjf",
        "colab_type": "text"
      },
      "source": [
        "#### Data types\n",
        "- Python lists may contain multiple data types, while\n",
        "- NumPy arrays are **constant type**:"
      ]
    },
    {
      "cell_type": "code",
      "metadata": {
        "id": "-ywI410nz2KB",
        "colab_type": "code",
        "colab": {
          "base_uri": "https://localhost:8080/",
          "height": 33
        },
        "outputId": "33d4d2b0-f429-4e6c-84be-14958bdf934a"
      },
      "source": [
        "a = [2, 7, 1]\n",
        "z = np.array(a)\n",
        "z.dtype"
      ],
      "execution_count": 7,
      "outputs": [
        {
          "output_type": "execute_result",
          "data": {
            "text/plain": [
              "dtype('int64')"
            ]
          },
          "metadata": {
            "tags": []
          },
          "execution_count": 7
        }
      ]
    },
    {
      "cell_type": "code",
      "metadata": {
        "id": "Xvrh92oBmb9d",
        "colab_type": "code",
        "colab": {
          "base_uri": "https://localhost:8080/",
          "height": 33
        },
        "outputId": "b09d6222-e3db-449a-9cf9-6b2afbd41861"
      },
      "source": [
        "a = [2, \"seven\", 1]\n",
        "z = np.array(a)\n",
        "z"
      ],
      "execution_count": 8,
      "outputs": [
        {
          "output_type": "execute_result",
          "data": {
            "text/plain": [
              "array(['2', 'seven', '1'], dtype='<U21')"
            ]
          },
          "metadata": {
            "tags": []
          },
          "execution_count": 8
        }
      ]
    },
    {
      "cell_type": "markdown",
      "metadata": {
        "id": "wbQhiailpGDW",
        "colab_type": "text"
      },
      "source": [
        "... all items are converted to text. `U` for unicode and `21` describes the memory allocation for each item. "
      ]
    },
    {
      "cell_type": "markdown",
      "metadata": {
        "colab_type": "text",
        "id": "GzLRaElQ3Q80"
      },
      "source": [
        "#### Element-wise operations\n",
        "- **list** objects don't support element-wise operations:\n"
      ]
    },
    {
      "cell_type": "code",
      "metadata": {
        "id": "R1f3oIiTSuev",
        "colab_type": "code",
        "colab": {}
      },
      "source": [
        "a = [1, 3, 4] \n",
        "b = [1, 3, 5]"
      ],
      "execution_count": 0,
      "outputs": []
    },
    {
      "cell_type": "code",
      "metadata": {
        "id": "FHqmdzEYqbg-",
        "colab_type": "code",
        "colab": {
          "base_uri": "https://localhost:8080/",
          "height": 0
        },
        "outputId": "4fc34a22-c850-41e3-dffa-e259374c4a98"
      },
      "source": [
        "try:\n",
        "    a * b\n",
        "except Exception as e:\n",
        "    print(e)"
      ],
      "execution_count": 10,
      "outputs": [
        {
          "output_type": "stream",
          "text": [
            "can't multiply sequence by non-int of type 'list'\n"
          ],
          "name": "stdout"
        }
      ]
    },
    {
      "cell_type": "markdown",
      "metadata": {
        "id": "H2NDTAv4QT9w",
        "colab_type": "text"
      },
      "source": [
        "- **NumPy arrays** are made for element-wise operations:"
      ]
    },
    {
      "cell_type": "code",
      "metadata": {
        "id": "4rtvw3XtusRo",
        "colab_type": "code",
        "colab": {
          "base_uri": "https://localhost:8080/",
          "height": 0
        },
        "outputId": "5bbe5a57-b6b1-447b-db46-232fe6de202d"
      },
      "source": [
        "np.array(a) * np.array(b)"
      ],
      "execution_count": 11,
      "outputs": [
        {
          "output_type": "execute_result",
          "data": {
            "text/plain": [
              "array([ 1,  9, 20])"
            ]
          },
          "metadata": {
            "tags": []
          },
          "execution_count": 11
        }
      ]
    },
    {
      "cell_type": "markdown",
      "metadata": {
        "id": "6C6FoK5K7GrX",
        "colab_type": "text"
      },
      "source": [
        "## Initializing arrays"
      ]
    },
    {
      "cell_type": "markdown",
      "metadata": {
        "id": "_XrRXJrS7lZ5",
        "colab_type": "text"
      },
      "source": [
        "Initializing **all zeros**:"
      ]
    },
    {
      "cell_type": "code",
      "metadata": {
        "id": "u_NmyfpQ7L9y",
        "colab_type": "code",
        "colab": {
          "base_uri": "https://localhost:8080/",
          "height": 50
        },
        "outputId": "1b5feb28-43d7-4865-dcc9-feeffcc34041"
      },
      "source": [
        "shape = (2, 3)\n",
        "np.zeros(shape)"
      ],
      "execution_count": 12,
      "outputs": [
        {
          "output_type": "execute_result",
          "data": {
            "text/plain": [
              "array([[0., 0., 0.],\n",
              "       [0., 0., 0.]])"
            ]
          },
          "metadata": {
            "tags": []
          },
          "execution_count": 12
        }
      ]
    },
    {
      "cell_type": "markdown",
      "metadata": {
        "colab_type": "text",
        "id": "QfMDwTc97tQo"
      },
      "source": [
        "Initializing **all ones** with specific data type:"
      ]
    },
    {
      "cell_type": "code",
      "metadata": {
        "colab_type": "code",
        "id": "yHXzkvCU7tQx",
        "colab": {
          "base_uri": "https://localhost:8080/",
          "height": 50
        },
        "outputId": "622b3c66-6bf4-4778-bf2f-54c42037b172"
      },
      "source": [
        "shape = (2, 4)\n",
        "np.ones(shape, dtype=\"int32\")"
      ],
      "execution_count": 13,
      "outputs": [
        {
          "output_type": "execute_result",
          "data": {
            "text/plain": [
              "array([[1, 1, 1, 1],\n",
              "       [1, 1, 1, 1]], dtype=int32)"
            ]
          },
          "metadata": {
            "tags": []
          },
          "execution_count": 13
        }
      ]
    },
    {
      "cell_type": "markdown",
      "metadata": {
        "colab_type": "text",
        "id": "ZiEQnUa08A62"
      },
      "source": [
        "Initializing with **arbitraty value**:"
      ]
    },
    {
      "cell_type": "code",
      "metadata": {
        "colab_type": "code",
        "id": "JgIuEFE78A65",
        "colab": {
          "base_uri": "https://localhost:8080/",
          "height": 50
        },
        "outputId": "c24be449-4594-40ec-8875-0cb48f58dc7f"
      },
      "source": [
        "np.full(shape=(2, 3), fill_value=1.33)"
      ],
      "execution_count": 14,
      "outputs": [
        {
          "output_type": "execute_result",
          "data": {
            "text/plain": [
              "array([[1.33, 1.33, 1.33],\n",
              "       [1.33, 1.33, 1.33]])"
            ]
          },
          "metadata": {
            "tags": []
          },
          "execution_count": 14
        }
      ]
    },
    {
      "cell_type": "markdown",
      "metadata": {
        "id": "WJyxlx1d8uPx",
        "colab_type": "text"
      },
      "source": [
        "### Initalizing with **random numers**"
      ]
    },
    {
      "cell_type": "markdown",
      "metadata": {
        "id": "OxcQ4VUh909T",
        "colab_type": "text"
      },
      "source": [
        "Random **float** values \n"
      ]
    },
    {
      "cell_type": "code",
      "metadata": {
        "id": "FBQqj3ZZ8vtx",
        "colab_type": "code",
        "colab": {
          "base_uri": "https://localhost:8080/",
          "height": 100
        },
        "outputId": "88131a1d-c0e6-4bb4-ee81-34bf72f5eebd"
      },
      "source": [
        "np.random.random_sample(size=(2, 2, 4))"
      ],
      "execution_count": 15,
      "outputs": [
        {
          "output_type": "execute_result",
          "data": {
            "text/plain": [
              "array([[[0.7758347 , 0.44835032, 0.42295775, 0.02850912],\n",
              "        [0.9861635 , 0.84069616, 0.68328511, 0.81228365]],\n",
              "\n",
              "       [[0.88164011, 0.52450615, 0.34524795, 0.92827172],\n",
              "        [0.0064207 , 0.03692038, 0.21434002, 0.92013807]]])"
            ]
          },
          "metadata": {
            "tags": []
          },
          "execution_count": 15
        }
      ]
    },
    {
      "cell_type": "markdown",
      "metadata": {
        "id": "h2Hw-BbA-wZR",
        "colab_type": "text"
      },
      "source": [
        "Random **integers**"
      ]
    },
    {
      "cell_type": "code",
      "metadata": {
        "id": "hxxA8kpl9jDy",
        "colab_type": "code",
        "colab": {
          "base_uri": "https://localhost:8080/",
          "height": 33
        },
        "outputId": "6ed96dd0-b21a-42c0-8b21-1e8b6eedeaf9"
      },
      "source": [
        "np.random.randint(low=3, high=7, size=(15,))"
      ],
      "execution_count": 16,
      "outputs": [
        {
          "output_type": "execute_result",
          "data": {
            "text/plain": [
              "array([5, 4, 3, 3, 4, 5, 3, 6, 3, 4, 3, 3, 6, 3, 5])"
            ]
          },
          "metadata": {
            "tags": []
          },
          "execution_count": 16
        }
      ]
    },
    {
      "cell_type": "markdown",
      "metadata": {
        "id": "mHbW2Pqmvw_4",
        "colab_type": "text"
      },
      "source": [
        "Set the random **seed** prior to sample generation for reproducable results."
      ]
    },
    {
      "cell_type": "code",
      "metadata": {
        "id": "PiDp0yE1uuJ7",
        "colab_type": "code",
        "colab": {}
      },
      "source": [
        "np.random.seed(seed=42)"
      ],
      "execution_count": 0,
      "outputs": []
    },
    {
      "cell_type": "code",
      "metadata": {
        "colab_type": "code",
        "id": "ekbkdkPquvJD",
        "colab": {
          "base_uri": "https://localhost:8080/",
          "height": 50
        },
        "outputId": "4b3a332a-d21c-4b20-8211-a192484961af"
      },
      "source": [
        "np.random.random_sample(size=(2, 4))"
      ],
      "execution_count": 18,
      "outputs": [
        {
          "output_type": "execute_result",
          "data": {
            "text/plain": [
              "array([[0.37454012, 0.95071431, 0.73199394, 0.59865848],\n",
              "       [0.15601864, 0.15599452, 0.05808361, 0.86617615]])"
            ]
          },
          "metadata": {
            "tags": []
          },
          "execution_count": 18
        }
      ]
    },
    {
      "cell_type": "markdown",
      "metadata": {
        "id": "fS644B0awOv1",
        "colab_type": "text"
      },
      "source": [
        "# NumPy math"
      ]
    },
    {
      "cell_type": "markdown",
      "metadata": {
        "id": "rC61Pv1KA8SB",
        "colab_type": "text"
      },
      "source": [
        "## Element-wise operations"
      ]
    },
    {
      "cell_type": "code",
      "metadata": {
        "id": "kvLoDIbc-kIo",
        "colab_type": "code",
        "colab": {}
      },
      "source": [
        "z = np.array([1, 2, 3, 4])"
      ],
      "execution_count": 0,
      "outputs": []
    },
    {
      "cell_type": "code",
      "metadata": {
        "id": "rcBJZbaIAyrQ",
        "colab_type": "code",
        "colab": {
          "base_uri": "https://localhost:8080/",
          "height": 33
        },
        "outputId": "5b9a0fec-2325-46b7-fde6-08b218e6d460"
      },
      "source": [
        "z + 4"
      ],
      "execution_count": 20,
      "outputs": [
        {
          "output_type": "execute_result",
          "data": {
            "text/plain": [
              "array([5, 6, 7, 8])"
            ]
          },
          "metadata": {
            "tags": []
          },
          "execution_count": 20
        }
      ]
    },
    {
      "cell_type": "code",
      "metadata": {
        "id": "-FejUjXjA0wF",
        "colab_type": "code",
        "colab": {
          "base_uri": "https://localhost:8080/",
          "height": 33
        },
        "outputId": "5fb4c92e-e3ec-4bca-fcb7-79879ae1349e"
      },
      "source": [
        "z / 2"
      ],
      "execution_count": 21,
      "outputs": [
        {
          "output_type": "execute_result",
          "data": {
            "text/plain": [
              "array([0.5, 1. , 1.5, 2. ])"
            ]
          },
          "metadata": {
            "tags": []
          },
          "execution_count": 21
        }
      ]
    },
    {
      "cell_type": "code",
      "metadata": {
        "id": "d6X2W1lxHSc5",
        "colab_type": "code",
        "colab": {
          "base_uri": "https://localhost:8080/",
          "height": 33
        },
        "outputId": "09606e06-43ab-46ec-9d75-b3c524d0766a"
      },
      "source": [
        "z"
      ],
      "execution_count": 22,
      "outputs": [
        {
          "output_type": "execute_result",
          "data": {
            "text/plain": [
              "array([1, 2, 3, 4])"
            ]
          },
          "metadata": {
            "tags": []
          },
          "execution_count": 22
        }
      ]
    },
    {
      "cell_type": "code",
      "metadata": {
        "id": "s-_d9nUCA5Na",
        "colab_type": "code",
        "colab": {
          "base_uri": "https://localhost:8080/",
          "height": 33
        },
        "outputId": "3695a2f4-45e0-4e4d-abb1-1da1604192a3"
      },
      "source": [
        "np.round(np.sin( z/4 * np.pi), decimals=3)"
      ],
      "execution_count": 23,
      "outputs": [
        {
          "output_type": "execute_result",
          "data": {
            "text/plain": [
              "array([0.707, 1.   , 0.707, 0.   ])"
            ]
          },
          "metadata": {
            "tags": []
          },
          "execution_count": 23
        }
      ]
    },
    {
      "cell_type": "markdown",
      "metadata": {
        "id": "ugoh41uAC-hd",
        "colab_type": "text"
      },
      "source": [
        "## Matrix multiplication"
      ]
    },
    {
      "cell_type": "code",
      "metadata": {
        "id": "OYlP0OYrBRpu",
        "colab_type": "code",
        "colab": {
          "base_uri": "https://localhost:8080/",
          "height": 50
        },
        "outputId": "34df009d-945e-4ea4-e792-8713c9a9181d"
      },
      "source": [
        "z = np.ones(shape=(2,3))\n",
        "z"
      ],
      "execution_count": 24,
      "outputs": [
        {
          "output_type": "execute_result",
          "data": {
            "text/plain": [
              "array([[1., 1., 1.],\n",
              "       [1., 1., 1.]])"
            ]
          },
          "metadata": {
            "tags": []
          },
          "execution_count": 24
        }
      ]
    },
    {
      "cell_type": "code",
      "metadata": {
        "id": "1lsCND4XBtcx",
        "colab_type": "code",
        "colab": {
          "base_uri": "https://localhost:8080/",
          "height": 67
        },
        "outputId": "48cfbe90-48e7-4dd6-975e-8880fd54f4fb"
      },
      "source": [
        "y = np.full(shape=(3,2), fill_value=2)\n",
        "y"
      ],
      "execution_count": 25,
      "outputs": [
        {
          "output_type": "execute_result",
          "data": {
            "text/plain": [
              "array([[2, 2],\n",
              "       [2, 2],\n",
              "       [2, 2]])"
            ]
          },
          "metadata": {
            "tags": []
          },
          "execution_count": 25
        }
      ]
    },
    {
      "cell_type": "code",
      "metadata": {
        "id": "my5gMLHnCaKw",
        "colab_type": "code",
        "colab": {
          "base_uri": "https://localhost:8080/",
          "height": 33
        },
        "outputId": "a9ff7c5f-9716-48fb-a6eb-815330b6ed9d"
      },
      "source": [
        "try:\n",
        "    z * y\n",
        "except Exception as e:\n",
        "    print(e)"
      ],
      "execution_count": 26,
      "outputs": [
        {
          "output_type": "stream",
          "text": [
            "operands could not be broadcast together with shapes (2,3) (3,2) \n"
          ],
          "name": "stdout"
        }
      ]
    },
    {
      "cell_type": "markdown",
      "metadata": {
        "id": "jfWyDdWlCcRH",
        "colab_type": "text"
      },
      "source": [
        "... `z * y` tries element-wise multiplications, which failes because of the different shapes. \n",
        "\n",
        "For matrix multiplication use `np.matmul` instead:"
      ]
    },
    {
      "cell_type": "code",
      "metadata": {
        "id": "54ibMHZ5B7lq",
        "colab_type": "code",
        "colab": {
          "base_uri": "https://localhost:8080/",
          "height": 50
        },
        "outputId": "1a2b021f-4250-4855-b5b6-027f86be7f37"
      },
      "source": [
        "np.matmul(z, y)"
      ],
      "execution_count": 27,
      "outputs": [
        {
          "output_type": "execute_result",
          "data": {
            "text/plain": [
              "array([[6., 6.],\n",
              "       [6., 6.]])"
            ]
          },
          "metadata": {
            "tags": []
          },
          "execution_count": 27
        }
      ]
    },
    {
      "cell_type": "code",
      "metadata": {
        "id": "pyja-BiXCAOr",
        "colab_type": "code",
        "colab": {
          "base_uri": "https://localhost:8080/",
          "height": 67
        },
        "outputId": "be88956e-89b2-4a92-92f6-b04148ead743"
      },
      "source": [
        "np.matmul(y, z)"
      ],
      "execution_count": 28,
      "outputs": [
        {
          "output_type": "execute_result",
          "data": {
            "text/plain": [
              "array([[4., 4., 4.],\n",
              "       [4., 4., 4.],\n",
              "       [4., 4., 4.]])"
            ]
          },
          "metadata": {
            "tags": []
          },
          "execution_count": 28
        }
      ]
    },
    {
      "cell_type": "markdown",
      "metadata": {
        "id": "2KtSu_vXQVXN",
        "colab_type": "text"
      },
      "source": [
        "## Transposing matricies"
      ]
    },
    {
      "cell_type": "markdown",
      "metadata": {
        "id": "K-XhE0LUQc_Y",
        "colab_type": "text"
      },
      "source": [
        "`array.T` returns the transpose of the array"
      ]
    },
    {
      "cell_type": "code",
      "metadata": {
        "id": "qPpvenzmOK9w",
        "colab_type": "code",
        "colab": {
          "base_uri": "https://localhost:8080/",
          "height": 50
        },
        "outputId": "6ea8edef-383e-46bd-ac7c-366081b443d0"
      },
      "source": [
        "z = np.array([[1,2,3], [4,5,6]])\n",
        "print(z, z.shape)"
      ],
      "execution_count": 29,
      "outputs": [
        {
          "output_type": "stream",
          "text": [
            "[[1 2 3]\n",
            " [4 5 6]] (2, 3)\n"
          ],
          "name": "stdout"
        }
      ]
    },
    {
      "cell_type": "code",
      "metadata": {
        "id": "zMCqC3JM5qul",
        "colab_type": "code",
        "colab": {
          "base_uri": "https://localhost:8080/",
          "height": 67
        },
        "outputId": "ce19598a-cf6c-4437-e143-d8491ea988d3"
      },
      "source": [
        "print(z.T, z.T.shape)"
      ],
      "execution_count": 30,
      "outputs": [
        {
          "output_type": "stream",
          "text": [
            "[[1 4]\n",
            " [2 5]\n",
            " [3 6]] (3, 2)\n"
          ],
          "name": "stdout"
        }
      ]
    },
    {
      "cell_type": "markdown",
      "metadata": {
        "id": "9b-RTNnBMUeP",
        "colab_type": "text"
      },
      "source": [
        "## Statistics"
      ]
    },
    {
      "cell_type": "code",
      "metadata": {
        "id": "ADkklomCL7cD",
        "colab_type": "code",
        "colab": {
          "base_uri": "https://localhost:8080/",
          "height": 50
        },
        "outputId": "0cae047f-35a5-4b61-fa1d-7a1e866de034"
      },
      "source": [
        "z = np.array([[1,2,3], [4,5,6]])\n",
        "z"
      ],
      "execution_count": 31,
      "outputs": [
        {
          "output_type": "execute_result",
          "data": {
            "text/plain": [
              "array([[1, 2, 3],\n",
              "       [4, 5, 6]])"
            ]
          },
          "metadata": {
            "tags": []
          },
          "execution_count": 31
        }
      ]
    },
    {
      "cell_type": "markdown",
      "metadata": {
        "id": "MYi9yXJVMumL",
        "colab_type": "text"
      },
      "source": [
        "Min of all values:"
      ]
    },
    {
      "cell_type": "code",
      "metadata": {
        "id": "W4CMrUf9MTXc",
        "colab_type": "code",
        "colab": {
          "base_uri": "https://localhost:8080/",
          "height": 33
        },
        "outputId": "b76fbe7d-f539-46db-a99e-0a50560f9f14"
      },
      "source": [
        "z.min()"
      ],
      "execution_count": 32,
      "outputs": [
        {
          "output_type": "execute_result",
          "data": {
            "text/plain": [
              "1"
            ]
          },
          "metadata": {
            "tags": []
          },
          "execution_count": 32
        }
      ]
    },
    {
      "cell_type": "markdown",
      "metadata": {
        "id": "nZKQ3ss_MztI",
        "colab_type": "text"
      },
      "source": [
        "Min of all columns:"
      ]
    },
    {
      "cell_type": "code",
      "metadata": {
        "id": "73_2qQ4DMeS9",
        "colab_type": "code",
        "colab": {
          "base_uri": "https://localhost:8080/",
          "height": 33
        },
        "outputId": "60b79414-4e30-4841-a4f7-f654ee591a82"
      },
      "source": [
        "z.min(axis=1)"
      ],
      "execution_count": 33,
      "outputs": [
        {
          "output_type": "execute_result",
          "data": {
            "text/plain": [
              "array([1, 4])"
            ]
          },
          "metadata": {
            "tags": []
          },
          "execution_count": 33
        }
      ]
    },
    {
      "cell_type": "markdown",
      "metadata": {
        "id": "JlDprJxZM3_7",
        "colab_type": "text"
      },
      "source": [
        "Standard deviation"
      ]
    },
    {
      "cell_type": "code",
      "metadata": {
        "id": "fZ0S_GPXMrar",
        "colab_type": "code",
        "colab": {
          "base_uri": "https://localhost:8080/",
          "height": 33
        },
        "outputId": "3bff9292-1c07-4a2a-d370-98c829c393aa"
      },
      "source": [
        "z.std()"
      ],
      "execution_count": 34,
      "outputs": [
        {
          "output_type": "execute_result",
          "data": {
            "text/plain": [
              "1.707825127659933"
            ]
          },
          "metadata": {
            "tags": []
          },
          "execution_count": 34
        }
      ]
    },
    {
      "cell_type": "code",
      "metadata": {
        "id": "c8tWibN6M_I1",
        "colab_type": "code",
        "colab": {
          "base_uri": "https://localhost:8080/",
          "height": 33
        },
        "outputId": "4bc27885-78eb-4721-fdca-42a1fb119092"
      },
      "source": [
        "np.median(z, axis=1)"
      ],
      "execution_count": 35,
      "outputs": [
        {
          "output_type": "execute_result",
          "data": {
            "text/plain": [
              "array([2., 5.])"
            ]
          },
          "metadata": {
            "tags": []
          },
          "execution_count": 35
        }
      ]
    },
    {
      "cell_type": "markdown",
      "metadata": {
        "id": "nCaS0vtyRldj",
        "colab_type": "text"
      },
      "source": [
        "## Booleans\n",
        "\n",
        " "
      ]
    },
    {
      "cell_type": "markdown",
      "metadata": {
        "id": "yZp46pLuepu5",
        "colab_type": "text"
      },
      "source": [
        "- `np.all()` is a logical `AND`\n",
        "- `np.any()` is a logical `OR`"
      ]
    },
    {
      "cell_type": "markdown",
      "metadata": {
        "colab_type": "text",
        "id": "JKroapllKM6s"
      },
      "source": [
        "#### Logical `AND`"
      ]
    },
    {
      "cell_type": "code",
      "metadata": {
        "id": "4h2o2WE5SRnH",
        "colab_type": "code",
        "colab": {
          "base_uri": "https://localhost:8080/",
          "height": 50
        },
        "outputId": "c4cc7456-0c4d-4a9d-8e6a-48f4e71551f5"
      },
      "source": [
        "z = np.array([[True, True, False, True], [True, True, True, True]])\n",
        "z"
      ],
      "execution_count": 36,
      "outputs": [
        {
          "output_type": "execute_result",
          "data": {
            "text/plain": [
              "array([[ True,  True, False,  True],\n",
              "       [ True,  True,  True,  True]])"
            ]
          },
          "metadata": {
            "tags": []
          },
          "execution_count": 36
        }
      ]
    },
    {
      "cell_type": "code",
      "metadata": {
        "id": "W3uN8wxTI7o5",
        "colab_type": "code",
        "colab": {
          "base_uri": "https://localhost:8080/",
          "height": 33
        },
        "outputId": "5c19016a-be82-4118-afc2-5591d0fdb67d"
      },
      "source": [
        "z.all()"
      ],
      "execution_count": 37,
      "outputs": [
        {
          "output_type": "execute_result",
          "data": {
            "text/plain": [
              "False"
            ]
          },
          "metadata": {
            "tags": []
          },
          "execution_count": 37
        }
      ]
    },
    {
      "cell_type": "code",
      "metadata": {
        "id": "IouIpFlsIDUo",
        "colab_type": "code",
        "colab": {
          "base_uri": "https://localhost:8080/",
          "height": 33
        },
        "outputId": "9ce72446-55be-4261-fd5f-ffead3e28293"
      },
      "source": [
        "z.all(axis=1)"
      ],
      "execution_count": 38,
      "outputs": [
        {
          "output_type": "execute_result",
          "data": {
            "text/plain": [
              "array([False,  True])"
            ]
          },
          "metadata": {
            "tags": []
          },
          "execution_count": 38
        }
      ]
    },
    {
      "cell_type": "markdown",
      "metadata": {
        "id": "kiIGbK35J8bF",
        "colab_type": "text"
      },
      "source": [
        "#### Logical `OR`"
      ]
    },
    {
      "cell_type": "code",
      "metadata": {
        "id": "yZxhXeUcIDE-",
        "colab_type": "code",
        "colab": {
          "base_uri": "https://localhost:8080/",
          "height": 33
        },
        "outputId": "1824dbe6-5875-48a6-dc1f-df7002421487"
      },
      "source": [
        "z.any()"
      ],
      "execution_count": 39,
      "outputs": [
        {
          "output_type": "execute_result",
          "data": {
            "text/plain": [
              "True"
            ]
          },
          "metadata": {
            "tags": []
          },
          "execution_count": 39
        }
      ]
    },
    {
      "cell_type": "markdown",
      "metadata": {
        "colab_type": "text",
        "id": "fttcYQPPKL4S"
      },
      "source": [
        "#### Logical `NOT`"
      ]
    },
    {
      "cell_type": "code",
      "metadata": {
        "id": "NFFX9aFoJVQw",
        "colab_type": "code",
        "colab": {
          "base_uri": "https://localhost:8080/",
          "height": 33
        },
        "outputId": "8402ee91-0866-45c5-90d2-43f0438b1aa1"
      },
      "source": [
        "np.logical_not(z.all(axis=0))"
      ],
      "execution_count": 40,
      "outputs": [
        {
          "output_type": "execute_result",
          "data": {
            "text/plain": [
              "array([False, False,  True, False])"
            ]
          },
          "metadata": {
            "tags": []
          },
          "execution_count": 40
        }
      ]
    },
    {
      "cell_type": "markdown",
      "metadata": {
        "id": "eaCiE7DUOP2K",
        "colab_type": "text"
      },
      "source": [
        "# Reorganizing arrays"
      ]
    },
    {
      "cell_type": "markdown",
      "metadata": {
        "id": "9B92qqPuwJY0",
        "colab_type": "text"
      },
      "source": [
        "## Reshape"
      ]
    },
    {
      "cell_type": "code",
      "metadata": {
        "id": "8RYfPNmxOCf1",
        "colab_type": "code",
        "colab": {
          "base_uri": "https://localhost:8080/",
          "height": 50
        },
        "outputId": "ce7bbb41-8c6c-42a9-aa41-862ab7bbb88a"
      },
      "source": [
        "z = np.array([[1,2,3], [4,5,6]])\n",
        "z"
      ],
      "execution_count": 41,
      "outputs": [
        {
          "output_type": "execute_result",
          "data": {
            "text/plain": [
              "array([[1, 2, 3],\n",
              "       [4, 5, 6]])"
            ]
          },
          "metadata": {
            "tags": []
          },
          "execution_count": 41
        }
      ]
    },
    {
      "cell_type": "code",
      "metadata": {
        "id": "Vfgu4ciWvyAn",
        "colab_type": "code",
        "colab": {
          "base_uri": "https://localhost:8080/",
          "height": 33
        },
        "outputId": "6558985e-db00-4de6-c1c9-99b8f309262d"
      },
      "source": [
        "z.shape"
      ],
      "execution_count": 42,
      "outputs": [
        {
          "output_type": "execute_result",
          "data": {
            "text/plain": [
              "(2, 3)"
            ]
          },
          "metadata": {
            "tags": []
          },
          "execution_count": 42
        }
      ]
    },
    {
      "cell_type": "markdown",
      "metadata": {
        "id": "qwZ1wxDiv4-0",
        "colab_type": "text"
      },
      "source": [
        "**Option 1**: Use `reshape` method:"
      ]
    },
    {
      "cell_type": "code",
      "metadata": {
        "id": "wJHE80fZOYU4",
        "colab_type": "code",
        "colab": {
          "base_uri": "https://localhost:8080/",
          "height": 67
        },
        "outputId": "87262a72-0067-4fdb-f350-15777053fa54"
      },
      "source": [
        "z = z.reshape((3, 2))\n",
        "z"
      ],
      "execution_count": 43,
      "outputs": [
        {
          "output_type": "execute_result",
          "data": {
            "text/plain": [
              "array([[1, 2],\n",
              "       [3, 4],\n",
              "       [5, 6]])"
            ]
          },
          "metadata": {
            "tags": []
          },
          "execution_count": 43
        }
      ]
    },
    {
      "cell_type": "code",
      "metadata": {
        "id": "7nCYr5MUw0S_",
        "colab_type": "code",
        "colab": {
          "base_uri": "https://localhost:8080/",
          "height": 33
        },
        "outputId": "62991a18-c934-4a78-d06f-3f9c4a973583"
      },
      "source": [
        "z.shape"
      ],
      "execution_count": 44,
      "outputs": [
        {
          "output_type": "execute_result",
          "data": {
            "text/plain": [
              "(3, 2)"
            ]
          },
          "metadata": {
            "tags": []
          },
          "execution_count": 44
        }
      ]
    },
    {
      "cell_type": "markdown",
      "metadata": {
        "id": "_enslv-SwQv7",
        "colab_type": "text"
      },
      "source": [
        "**Option 2**: Assign a new shape to the `.shape` attribute:"
      ]
    },
    {
      "cell_type": "code",
      "metadata": {
        "id": "MB8ZTY2Sc4Ce",
        "colab_type": "code",
        "colab": {
          "base_uri": "https://localhost:8080/",
          "height": 33
        },
        "outputId": "be63ebaf-1958-4621-833e-df564adef4c7"
      },
      "source": [
        "z.shape = (6, )\n",
        "z"
      ],
      "execution_count": 45,
      "outputs": [
        {
          "output_type": "execute_result",
          "data": {
            "text/plain": [
              "array([1, 2, 3, 4, 5, 6])"
            ]
          },
          "metadata": {
            "tags": []
          },
          "execution_count": 45
        }
      ]
    },
    {
      "cell_type": "code",
      "metadata": {
        "id": "30OdtJcAc3_i",
        "colab_type": "code",
        "colab": {
          "base_uri": "https://localhost:8080/",
          "height": 33
        },
        "outputId": "b46f21f9-38ee-4664-b296-8589048c1e65"
      },
      "source": [
        "z.shape"
      ],
      "execution_count": 46,
      "outputs": [
        {
          "output_type": "execute_result",
          "data": {
            "text/plain": [
              "(6,)"
            ]
          },
          "metadata": {
            "tags": []
          },
          "execution_count": 46
        }
      ]
    },
    {
      "cell_type": "markdown",
      "metadata": {
        "id": "489EZq-JC_WK",
        "colab_type": "text"
      },
      "source": [
        "## Concatenation"
      ]
    },
    {
      "cell_type": "code",
      "metadata": {
        "id": "9muxQQgsDBR5",
        "colab_type": "code",
        "colab": {
          "base_uri": "https://localhost:8080/",
          "height": 50
        },
        "outputId": "2d20f80e-eb5a-472d-b2f1-3307d734976c"
      },
      "source": [
        "a = np.array([[1,2,3], [4,5,6]])\n",
        "a"
      ],
      "execution_count": 47,
      "outputs": [
        {
          "output_type": "execute_result",
          "data": {
            "text/plain": [
              "array([[1, 2, 3],\n",
              "       [4, 5, 6]])"
            ]
          },
          "metadata": {
            "tags": []
          },
          "execution_count": 47
        }
      ]
    },
    {
      "cell_type": "code",
      "metadata": {
        "id": "0edPuLX5lzI6",
        "colab_type": "code",
        "colab": {
          "base_uri": "https://localhost:8080/",
          "height": 50
        },
        "outputId": "5e541198-f1a0-467e-94db-63533c185d80"
      },
      "source": [
        "b = np.array([[7,8,9], [10,11,12]])\n",
        "b"
      ],
      "execution_count": 48,
      "outputs": [
        {
          "output_type": "execute_result",
          "data": {
            "text/plain": [
              "array([[ 7,  8,  9],\n",
              "       [10, 11, 12]])"
            ]
          },
          "metadata": {
            "tags": []
          },
          "execution_count": 48
        }
      ]
    },
    {
      "cell_type": "markdown",
      "metadata": {
        "id": "XVlTvOsinykJ",
        "colab_type": "text"
      },
      "source": [
        "### `np.vstack()`  "
      ]
    },
    {
      "cell_type": "markdown",
      "metadata": {
        "colab_type": "text",
        "id": "bD35DgkIAta0"
      },
      "source": [
        "`np.vstack()` is equivalent to `np.concatenate(..., axis=0)`:"
      ]
    },
    {
      "cell_type": "code",
      "metadata": {
        "id": "844LybPhDE3U",
        "colab_type": "code",
        "colab": {
          "base_uri": "https://localhost:8080/",
          "height": 84
        },
        "outputId": "09affc6d-d1de-473c-eeee-f44e7d0e975c"
      },
      "source": [
        "z = np.concatenate((a, b), axis=0)\n",
        "z"
      ],
      "execution_count": 49,
      "outputs": [
        {
          "output_type": "execute_result",
          "data": {
            "text/plain": [
              "array([[ 1,  2,  3],\n",
              "       [ 4,  5,  6],\n",
              "       [ 7,  8,  9],\n",
              "       [10, 11, 12]])"
            ]
          },
          "metadata": {
            "tags": []
          },
          "execution_count": 49
        }
      ]
    },
    {
      "cell_type": "code",
      "metadata": {
        "id": "_vBdBWaboerG",
        "colab_type": "code",
        "colab": {
          "base_uri": "https://localhost:8080/",
          "height": 84
        },
        "outputId": "1febb494-797f-494b-c023-7fd0ef5a24bb"
      },
      "source": [
        "z = np.vstack((a, b))\n",
        "z"
      ],
      "execution_count": 50,
      "outputs": [
        {
          "output_type": "execute_result",
          "data": {
            "text/plain": [
              "array([[ 1,  2,  3],\n",
              "       [ 4,  5,  6],\n",
              "       [ 7,  8,  9],\n",
              "       [10, 11, 12]])"
            ]
          },
          "metadata": {
            "tags": []
          },
          "execution_count": 50
        }
      ]
    },
    {
      "cell_type": "markdown",
      "metadata": {
        "colab_type": "text",
        "id": "0hfINgkQoUIN"
      },
      "source": [
        "### `np.hstack()`  "
      ]
    },
    {
      "cell_type": "markdown",
      "metadata": {
        "id": "nBJADUclmdDm",
        "colab_type": "text"
      },
      "source": [
        "`np.hstack()` is equivalent to `np.concatenate(..., axis=1)`:"
      ]
    },
    {
      "cell_type": "code",
      "metadata": {
        "id": "CPjU9o7QDSz5",
        "colab_type": "code",
        "colab": {
          "base_uri": "https://localhost:8080/",
          "height": 50
        },
        "outputId": "6d089d69-383e-48ac-df7e-eb7b5da24123"
      },
      "source": [
        "z = np.concatenate((a, b), axis=1)\n",
        "z"
      ],
      "execution_count": 51,
      "outputs": [
        {
          "output_type": "execute_result",
          "data": {
            "text/plain": [
              "array([[ 1,  2,  3,  7,  8,  9],\n",
              "       [ 4,  5,  6, 10, 11, 12]])"
            ]
          },
          "metadata": {
            "tags": []
          },
          "execution_count": 51
        }
      ]
    },
    {
      "cell_type": "code",
      "metadata": {
        "id": "UULF_vgkpTWN",
        "colab_type": "code",
        "colab": {
          "base_uri": "https://localhost:8080/",
          "height": 50
        },
        "outputId": "e9b8afaf-3e30-42ea-ca2d-58c211189295"
      },
      "source": [
        "z = np.hstack((a, b))\n",
        "z"
      ],
      "execution_count": 52,
      "outputs": [
        {
          "output_type": "execute_result",
          "data": {
            "text/plain": [
              "array([[ 1,  2,  3,  7,  8,  9],\n",
              "       [ 4,  5,  6, 10, 11, 12]])"
            ]
          },
          "metadata": {
            "tags": []
          },
          "execution_count": 52
        }
      ]
    },
    {
      "cell_type": "markdown",
      "metadata": {
        "id": "Kaf32p1_pzUg",
        "colab_type": "text"
      },
      "source": [
        "### Concat arrays and slices (1D arrays)\n"
      ]
    },
    {
      "cell_type": "code",
      "metadata": {
        "id": "pvdQraAECL3y",
        "colab_type": "code",
        "colab": {
          "base_uri": "https://localhost:8080/",
          "height": 33
        },
        "outputId": "432e887d-faaa-401f-81c9-b9fc7ca5bd43"
      },
      "source": [
        "z = np.linspace(start=0, stop=11, num=12, dtype=\"int8\")\n",
        "z"
      ],
      "execution_count": 53,
      "outputs": [
        {
          "output_type": "execute_result",
          "data": {
            "text/plain": [
              "array([ 0,  1,  2,  3,  4,  5,  6,  7,  8,  9, 10, 11], dtype=int8)"
            ]
          },
          "metadata": {
            "tags": []
          },
          "execution_count": 53
        }
      ]
    },
    {
      "cell_type": "code",
      "metadata": {
        "id": "X9juWxJ-NESt",
        "colab_type": "code",
        "colab": {
          "base_uri": "https://localhost:8080/",
          "height": 117
        },
        "outputId": "e9dd8b01-207c-40da-d54e-fdd7b31c7b6b"
      },
      "source": [
        "z.shape = (6, 2)\n",
        "z"
      ],
      "execution_count": 54,
      "outputs": [
        {
          "output_type": "execute_result",
          "data": {
            "text/plain": [
              "array([[ 0,  1],\n",
              "       [ 2,  3],\n",
              "       [ 4,  5],\n",
              "       [ 6,  7],\n",
              "       [ 8,  9],\n",
              "       [10, 11]], dtype=int8)"
            ]
          },
          "metadata": {
            "tags": []
          },
          "execution_count": 54
        }
      ]
    },
    {
      "cell_type": "markdown",
      "metadata": {
        "id": "kdK3J_rINq_Z",
        "colab_type": "text"
      },
      "source": [
        "Compute new features (columns) based on exisitng features:"
      ]
    },
    {
      "cell_type": "code",
      "metadata": {
        "id": "ZpW3YhpPNxuX",
        "colab_type": "code",
        "colab": {
          "base_uri": "https://localhost:8080/",
          "height": 33
        },
        "outputId": "708e588c-e0fe-46df-ae01-88f6493300a8"
      },
      "source": [
        "new_sum = z[:, 0] + z[:, 1]\n",
        "new_sum"
      ],
      "execution_count": 55,
      "outputs": [
        {
          "output_type": "execute_result",
          "data": {
            "text/plain": [
              "array([ 1,  5,  9, 13, 17, 21], dtype=int8)"
            ]
          },
          "metadata": {
            "tags": []
          },
          "execution_count": 55
        }
      ]
    },
    {
      "cell_type": "code",
      "metadata": {
        "id": "G3EGt5j8OCpn",
        "colab_type": "code",
        "colab": {
          "base_uri": "https://localhost:8080/",
          "height": 33
        },
        "outputId": "8ac40b32-0809-479b-f4cd-9ddc5d3f2039"
      },
      "source": [
        "new_prod = z[:, 0] * z[:, 1]\n",
        "new_prod"
      ],
      "execution_count": 56,
      "outputs": [
        {
          "output_type": "execute_result",
          "data": {
            "text/plain": [
              "array([  0,   6,  20,  42,  72, 110], dtype=int8)"
            ]
          },
          "metadata": {
            "tags": []
          },
          "execution_count": 56
        }
      ]
    },
    {
      "cell_type": "markdown",
      "metadata": {
        "id": "JIxupw8cOSVr",
        "colab_type": "text"
      },
      "source": [
        "Trial to concatenate new features to the right fails:"
      ]
    },
    {
      "cell_type": "code",
      "metadata": {
        "id": "kvVFkREzORuz",
        "colab_type": "code",
        "colab": {
          "base_uri": "https://localhost:8080/",
          "height": 53
        },
        "outputId": "7d6d7047-0a78-43a8-8c34-1efc46de8a0d"
      },
      "source": [
        "try:\n",
        "    new_z = np.concatenate((z, new_sum, new_prod), axis=0)\n",
        "except Exception as e:\n",
        "    print(\"Exception occured: \" + str(e))"
      ],
      "execution_count": 57,
      "outputs": [
        {
          "output_type": "stream",
          "text": [
            "Exception occured: all the input arrays must have same number of dimensions, but the array at index 0 has 2 dimension(s) and the array at index 1 has 1 dimension(s)\n"
          ],
          "name": "stdout"
        }
      ]
    },
    {
      "cell_type": "markdown",
      "metadata": {
        "id": "AONF8NDTPCZ2",
        "colab_type": "text"
      },
      "source": [
        "Problem: The new features are slices (1D arrays), not 2D arrays:"
      ]
    },
    {
      "cell_type": "code",
      "metadata": {
        "id": "rCjeaG8bNSJm",
        "colab_type": "code",
        "colab": {
          "base_uri": "https://localhost:8080/",
          "height": 33
        },
        "outputId": "d364d48c-b253-4c82-9c63-b9cdb08fa90b"
      },
      "source": [
        "print(z.ndim, z.shape)"
      ],
      "execution_count": 58,
      "outputs": [
        {
          "output_type": "stream",
          "text": [
            "2 (6, 2)\n"
          ],
          "name": "stdout"
        }
      ]
    },
    {
      "cell_type": "code",
      "metadata": {
        "id": "Yqkk8p6wNEOj",
        "colab_type": "code",
        "colab": {
          "base_uri": "https://localhost:8080/",
          "height": 33
        },
        "outputId": "1a9a2a8f-d697-4bd9-8795-1870cbb7e679"
      },
      "source": [
        "print(new_sum.ndim, new_sum.shape)"
      ],
      "execution_count": 59,
      "outputs": [
        {
          "output_type": "stream",
          "text": [
            "1 (6,)\n"
          ],
          "name": "stdout"
        }
      ]
    },
    {
      "cell_type": "markdown",
      "metadata": {
        "id": "M5khDWLVPLBk",
        "colab_type": "text"
      },
      "source": [
        "#### Option 1: Reshape first\n",
        "Manually reshape the new features before concatanation"
      ]
    },
    {
      "cell_type": "code",
      "metadata": {
        "id": "qLcTzr_KXR80",
        "colab_type": "code",
        "colab": {
          "base_uri": "https://localhost:8080/",
          "height": 33
        },
        "outputId": "b49933a7-2ae8-4626-a59a-e97864f6f2c5"
      },
      "source": [
        "new_sum.shape"
      ],
      "execution_count": 60,
      "outputs": [
        {
          "output_type": "execute_result",
          "data": {
            "text/plain": [
              "(6,)"
            ]
          },
          "metadata": {
            "tags": []
          },
          "execution_count": 60
        }
      ]
    },
    {
      "cell_type": "code",
      "metadata": {
        "id": "x0rYVuxpXbsL",
        "colab_type": "code",
        "colab": {}
      },
      "source": [
        "for array in [new_sum, new_prod]:\n",
        "    new_shape = (array.size, 1)\n",
        "    array.shape = new_shape"
      ],
      "execution_count": 0,
      "outputs": []
    },
    {
      "cell_type": "code",
      "metadata": {
        "id": "74tbFcCwVjOz",
        "colab_type": "code",
        "colab": {
          "base_uri": "https://localhost:8080/",
          "height": 33
        },
        "outputId": "68ec8594-d353-45cc-f264-aae516fcb337"
      },
      "source": [
        "new_sum.shape"
      ],
      "execution_count": 62,
      "outputs": [
        {
          "output_type": "execute_result",
          "data": {
            "text/plain": [
              "(6, 1)"
            ]
          },
          "metadata": {
            "tags": []
          },
          "execution_count": 62
        }
      ]
    },
    {
      "cell_type": "code",
      "metadata": {
        "id": "ELDY9PfBP-lA",
        "colab_type": "code",
        "colab": {
          "base_uri": "https://localhost:8080/",
          "height": 117
        },
        "outputId": "bd92c7d3-3ec0-4b0c-af1b-e3120175953e"
      },
      "source": [
        "np.hstack([z, new_sum, new_prod])"
      ],
      "execution_count": 63,
      "outputs": [
        {
          "output_type": "execute_result",
          "data": {
            "text/plain": [
              "array([[  0,   1,   1,   0],\n",
              "       [  2,   3,   5,   6],\n",
              "       [  4,   5,   9,  20],\n",
              "       [  6,   7,  13,  42],\n",
              "       [  8,   9,  17,  72],\n",
              "       [ 10,  11,  21, 110]], dtype=int8)"
            ]
          },
          "metadata": {
            "tags": []
          },
          "execution_count": 63
        }
      ]
    },
    {
      "cell_type": "markdown",
      "metadata": {
        "colab_type": "text",
        "id": "FWNLg1ujQ-90"
      },
      "source": [
        "#### Option 2: `np.column_stack(tup)`\n",
        "Stacks 1D or 2D arrays as columns into a 2D array.\n",
        "- 2D arrays are stacked as-is, just like with `hstack`.  \n",
        "- 1D arrays are turned into 2D arrays\n",
        "first."
      ]
    },
    {
      "cell_type": "markdown",
      "metadata": {
        "id": "mDUfaZ3gcjgZ",
        "colab_type": "text"
      },
      "source": [
        "Recreating the test bench:"
      ]
    },
    {
      "cell_type": "code",
      "metadata": {
        "id": "_ivGEamEZl4p",
        "colab_type": "code",
        "colab": {
          "base_uri": "https://localhost:8080/",
          "height": 117
        },
        "outputId": "5b5a3408-e631-43a1-cffb-1c034b51fa1b"
      },
      "source": [
        "z"
      ],
      "execution_count": 64,
      "outputs": [
        {
          "output_type": "execute_result",
          "data": {
            "text/plain": [
              "array([[ 0,  1],\n",
              "       [ 2,  3],\n",
              "       [ 4,  5],\n",
              "       [ 6,  7],\n",
              "       [ 8,  9],\n",
              "       [10, 11]], dtype=int8)"
            ]
          },
          "metadata": {
            "tags": []
          },
          "execution_count": 64
        }
      ]
    },
    {
      "cell_type": "markdown",
      "metadata": {
        "id": "n2aL7GZMbAK9",
        "colab_type": "text"
      },
      "source": [
        "Recalculate the new features in order to undo the manual reshaping and to get 1D arrays, again."
      ]
    },
    {
      "cell_type": "code",
      "metadata": {
        "colab_type": "code",
        "id": "Fj5aYE0AZv6i",
        "colab": {
          "base_uri": "https://localhost:8080/",
          "height": 33
        },
        "outputId": "b743ded2-a1ae-43e3-a73a-2d908b6554a4"
      },
      "source": [
        "new_sum = z[:, 0] + z[:, 1]\n",
        "new_sum"
      ],
      "execution_count": 65,
      "outputs": [
        {
          "output_type": "execute_result",
          "data": {
            "text/plain": [
              "array([ 1,  5,  9, 13, 17, 21], dtype=int8)"
            ]
          },
          "metadata": {
            "tags": []
          },
          "execution_count": 65
        }
      ]
    },
    {
      "cell_type": "code",
      "metadata": {
        "colab_type": "code",
        "id": "h6g1H7T3Zv6l",
        "colab": {
          "base_uri": "https://localhost:8080/",
          "height": 33
        },
        "outputId": "b7176bff-692b-45c6-eca5-0e3e25645bab"
      },
      "source": [
        "new_prod = z[:, 0] * z[:, 1]\n",
        "new_prod"
      ],
      "execution_count": 66,
      "outputs": [
        {
          "output_type": "execute_result",
          "data": {
            "text/plain": [
              "array([  0,   6,  20,  42,  72, 110], dtype=int8)"
            ]
          },
          "metadata": {
            "tags": []
          },
          "execution_count": 66
        }
      ]
    },
    {
      "cell_type": "code",
      "metadata": {
        "id": "NdfYR1_SUE7i",
        "colab_type": "code",
        "colab": {
          "base_uri": "https://localhost:8080/",
          "height": 117
        },
        "outputId": "1d641bd5-f972-4a49-f1fc-ffe96cf61f97"
      },
      "source": [
        "np.column_stack([z, new_sum, new_prod])"
      ],
      "execution_count": 67,
      "outputs": [
        {
          "output_type": "execute_result",
          "data": {
            "text/plain": [
              "array([[  0,   1,   1,   0],\n",
              "       [  2,   3,   5,   6],\n",
              "       [  4,   5,   9,  20],\n",
              "       [  6,   7,  13,  42],\n",
              "       [  8,   9,  17,  72],\n",
              "       [ 10,  11,  21, 110]], dtype=int8)"
            ]
          },
          "metadata": {
            "tags": []
          },
          "execution_count": 67
        }
      ]
    },
    {
      "cell_type": "markdown",
      "metadata": {
        "id": "hp10ePs7daw0",
        "colab_type": "text"
      },
      "source": [
        "#### Option 3: Deep dive `np.c_`, `np.r_` "
      ]
    },
    {
      "cell_type": "markdown",
      "metadata": {
        "id": "N_2Rxqgih1Vc",
        "colab_type": "text"
      },
      "source": [
        "- `.c_`: https://docs.scipy.org/doc/numpy/reference/generated/numpy.c_.html\n",
        "- `.r_`: https://docs.scipy.org/doc/numpy/reference/generated/numpy.r_.html"
      ]
    },
    {
      "cell_type": "code",
      "metadata": {
        "id": "zIr-ehsFF4jO",
        "colab_type": "code",
        "colab": {
          "base_uri": "https://localhost:8080/",
          "height": 117
        },
        "outputId": "73900bd2-c58e-48b2-81b5-3a123daa623e"
      },
      "source": [
        "np.c_[z, new_sum, new_prod]"
      ],
      "execution_count": 68,
      "outputs": [
        {
          "output_type": "execute_result",
          "data": {
            "text/plain": [
              "array([[  0,   1,   1,   0],\n",
              "       [  2,   3,   5,   6],\n",
              "       [  4,   5,   9,  20],\n",
              "       [  6,   7,  13,  42],\n",
              "       [  8,   9,  17,  72],\n",
              "       [ 10,  11,  21, 110]], dtype=int8)"
            ]
          },
          "metadata": {
            "tags": []
          },
          "execution_count": 68
        }
      ]
    },
    {
      "cell_type": "code",
      "metadata": {
        "colab_type": "code",
        "id": "XFuMTHDdRUF7",
        "colab": {
          "base_uri": "https://localhost:8080/",
          "height": 217
        },
        "outputId": "9d82ae72-47a3-4d03-e524-3853edd2e25e"
      },
      "source": [
        "np.r_[z, np.c_[new_sum, new_prod]]"
      ],
      "execution_count": 69,
      "outputs": [
        {
          "output_type": "execute_result",
          "data": {
            "text/plain": [
              "array([[  0,   1],\n",
              "       [  2,   3],\n",
              "       [  4,   5],\n",
              "       [  6,   7],\n",
              "       [  8,   9],\n",
              "       [ 10,  11],\n",
              "       [  1,   0],\n",
              "       [  5,   6],\n",
              "       [  9,  20],\n",
              "       [ 13,  42],\n",
              "       [ 17,  72],\n",
              "       [ 21, 110]], dtype=int8)"
            ]
          },
          "metadata": {
            "tags": []
          },
          "execution_count": 69
        }
      ]
    },
    {
      "cell_type": "markdown",
      "metadata": {
        "id": "6vvsjkVaQj7w",
        "colab_type": "text"
      },
      "source": [
        "## Advanced indexing"
      ]
    },
    {
      "cell_type": "code",
      "metadata": {
        "id": "PFJVLNaKQKZ8",
        "colab_type": "code",
        "colab": {
          "base_uri": "https://localhost:8080/",
          "height": 67
        },
        "outputId": "cb83321d-ada4-4add-a32a-4c7babd14851"
      },
      "source": [
        "z = np.random.randint(16, size=(3, 5))\n",
        "z"
      ],
      "execution_count": 70,
      "outputs": [
        {
          "output_type": "execute_result",
          "data": {
            "text/plain": [
              "array([[ 3,  7,  7,  2,  5],\n",
              "       [ 4,  1,  7, 11, 13],\n",
              "       [ 5,  1, 15, 11,  4]])"
            ]
          },
          "metadata": {
            "tags": []
          },
          "execution_count": 70
        }
      ]
    },
    {
      "cell_type": "markdown",
      "metadata": {
        "id": "viyOuHbhRHyZ",
        "colab_type": "text"
      },
      "source": [
        "Create a **masking array**, e.g. where the values are greater than a limit:"
      ]
    },
    {
      "cell_type": "code",
      "metadata": {
        "id": "kTeTgEDmQ0rS",
        "colab_type": "code",
        "colab": {
          "base_uri": "https://localhost:8080/",
          "height": 67
        },
        "outputId": "87a9f58c-8e4b-4095-c630-ee95390e6ebd"
      },
      "source": [
        "mask = z > 9\n",
        "mask"
      ],
      "execution_count": 71,
      "outputs": [
        {
          "output_type": "execute_result",
          "data": {
            "text/plain": [
              "array([[False, False, False, False, False],\n",
              "       [False, False, False,  True,  True],\n",
              "       [False, False,  True,  True, False]])"
            ]
          },
          "metadata": {
            "tags": []
          },
          "execution_count": 71
        }
      ]
    },
    {
      "cell_type": "markdown",
      "metadata": {
        "id": "cgB40OY5Rf8y",
        "colab_type": "text"
      },
      "source": [
        ".. and index the array at the *mask* positions:"
      ]
    },
    {
      "cell_type": "code",
      "metadata": {
        "id": "WQGzovhARXrs",
        "colab_type": "code",
        "colab": {
          "base_uri": "https://localhost:8080/",
          "height": 33
        },
        "outputId": "59fb09ac-a66b-4f8b-8182-00de16784be5"
      },
      "source": [
        "z[mask]"
      ],
      "execution_count": 72,
      "outputs": [
        {
          "output_type": "execute_result",
          "data": {
            "text/plain": [
              "array([11, 13, 15, 11])"
            ]
          },
          "metadata": {
            "tags": []
          },
          "execution_count": 72
        }
      ]
    },
    {
      "cell_type": "code",
      "metadata": {
        "id": "KIHm43AGPaNa",
        "colab_type": "code",
        "colab": {
          "base_uri": "https://localhost:8080/",
          "height": 33
        },
        "outputId": "37ca93a9-146f-493f-9ddd-32950b2222e1"
      },
      "source": [
        "print(\"{} chosen out of {}, equivalent to {:.1%}\".format(\n",
        "    mask.sum(), \n",
        "    mask.size, \n",
        "    mask.sum()/mask.size))"
      ],
      "execution_count": 73,
      "outputs": [
        {
          "output_type": "stream",
          "text": [
            "4 chosen out of 15, equivalent to 26.7%\n"
          ],
          "name": "stdout"
        }
      ]
    },
    {
      "cell_type": "markdown",
      "metadata": {
        "id": "ioXiTLQqJQ-z",
        "colab_type": "text"
      },
      "source": [
        "### NumPy versus list - speed comparison\n",
        "Measure the compute time to find the smallest value within a list / array."
      ]
    },
    {
      "cell_type": "code",
      "metadata": {
        "id": "qpf9lcUvjbEd",
        "colab_type": "code",
        "colab": {
          "base_uri": "https://localhost:8080/",
          "height": 297
        },
        "outputId": "62256e62-707d-4ec0-afac-59f1b3a55fde"
      },
      "source": [
        "%matplotlib inline\n",
        "from time import time\n",
        "import matplotlib.pyplot as plt\n",
        "\n",
        "labels = [\"NumPy array\", \"list\"]\n",
        "compute_times = [[], []]\n",
        "lengths = (1e5, 3e5, 1e6, 3e6, 1e7)\n",
        "for length in lengths:\n",
        "    np_vals = np.random.random_sample(size=(int(length),))\n",
        "    list_vals = list(np_vals)\n",
        "    funcs = [np_vals.min, lambda: min(list_vals)]\n",
        "\n",
        "    for func, compute_time in zip(funcs, compute_times):\n",
        "        t0 = time()\n",
        "        func()\n",
        "        compute_time.append(time() - t0)\n",
        "\n",
        "for compute_time, label in zip(compute_times, labels):\n",
        "    plt.loglog(lengths, compute_time, \"o-\", label=label)\n",
        "\n",
        "plt.xlabel(\"array length\"), plt.ylabel(\"computation time [s]\")\n",
        "plt.legend(), plt.grid(which=\"both\"), plt.tight_layout();"
      ],
      "execution_count": 74,
      "outputs": [
        {
          "output_type": "display_data",
          "data": {
            "image/png": "[encoded data removed]",
            "text/plain": [
              "<Figure size 432x288 with 1 Axes>"
            ]
          },
          "metadata": {
            "tags": [],
            "needs_background": "light"
          }
        }
      ]
    }
  ]
}