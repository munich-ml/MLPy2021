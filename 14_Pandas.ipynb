{
  "nbformat": 4,
  "nbformat_minor": 0,
  "metadata": {
    "colab": {
      "name": "14_Pandas.ipynb",
      "provenance": [],
      "toc_visible": true
    },
    "kernelspec": {
      "name": "python3",
      "display_name": "Python 3"
    }
  },
  "cells": [
    {
      "cell_type": "markdown",
      "metadata": {
        "id": "1Xy44gMl8rRm"
      },
      "source": [
        "**Pandas** (alias `pd`) is a Python package providing fast, flexible, and expressive data\n",
        "structures designed to make working with \"labeled\" data both\n",
        "easy and intuitive. \n",
        "\n",
        "**`pd.DataFrame`** is a two-dimensional data structure with labeled axes, rows (`index`) and `column`. The data is often a `np.array`.\n",
        "\n",
        "**`pd.Series`** is the one-dimensional version of the `pd.DataFrame`."
      ]
    },
    {
      "cell_type": "code",
      "metadata": {
        "id": "Gl2lbncat_Ng"
      },
      "source": [
        "import numpy as np\n",
        "import pandas as pd\n",
        "import matplotlib.pyplot as plt\n",
        "import matplotlib as mpl\n",
        "mpl.rc('axes', labelsize=14)\n",
        "mpl.rc('xtick', labelsize=12)\n",
        "mpl.rc('ytick', labelsize=12)"
      ],
      "execution_count": 1,
      "outputs": []
    },
    {
      "cell_type": "markdown",
      "metadata": {
        "id": "HwC6z8U5B_qd"
      },
      "source": [
        "Example ``DataFrame`` creation: "
      ]
    },
    {
      "cell_type": "code",
      "metadata": {
        "id": "zt4rAsrDYCWs",
        "colab": {
          "base_uri": "https://localhost:8080/"
        },
        "outputId": "c92647de-1c27-491d-f070-ab4993744601"
      },
      "source": [
        "kids = pd.DataFrame(columns=(\"height\", \"weight\"), index=(\"Max\", \"Julia\"), data=[[97, 23], [103, 21]])\n",
        "print(kids)"
      ],
      "execution_count": 2,
      "outputs": [
        {
          "output_type": "stream",
          "text": [
            "       height  weight\n",
            "Max        97      23\n",
            "Julia     103      21\n"
          ],
          "name": "stdout"
        }
      ]
    },
    {
      "cell_type": "code",
      "metadata": {
        "id": "2x7KTkbDZ59Q",
        "colab": {
          "base_uri": "https://localhost:8080/",
          "height": 107
        },
        "outputId": "058b932f-7dbf-4ba2-80e3-d19454330c75"
      },
      "source": [
        "kids"
      ],
      "execution_count": 3,
      "outputs": [
        {
          "output_type": "execute_result",
          "data": {
            "text/html": [
              "<div>\n",
              "<style scoped>\n",
              "    .dataframe tbody tr th:only-of-type {\n",
              "        vertical-align: middle;\n",
              "    }\n",
              "\n",
              "    .dataframe tbody tr th {\n",
              "        vertical-align: top;\n",
              "    }\n",
              "\n",
              "    .dataframe thead th {\n",
              "        text-align: right;\n",
              "    }\n",
              "</style>\n",
              "<table border=\"1\" class=\"dataframe\">\n",
              "  <thead>\n",
              "    <tr style=\"text-align: right;\">\n",
              "      <th></th>\n",
              "      <th>height</th>\n",
              "      <th>weight</th>\n",
              "    </tr>\n",
              "  </thead>\n",
              "  <tbody>\n",
              "    <tr>\n",
              "      <th>Max</th>\n",
              "      <td>97</td>\n",
              "      <td>23</td>\n",
              "    </tr>\n",
              "    <tr>\n",
              "      <th>Julia</th>\n",
              "      <td>103</td>\n",
              "      <td>21</td>\n",
              "    </tr>\n",
              "  </tbody>\n",
              "</table>\n",
              "</div>"
            ],
            "text/plain": [
              "       height  weight\n",
              "Max        97      23\n",
              "Julia     103      21"
            ]
          },
          "metadata": {
            "tags": []
          },
          "execution_count": 3
        }
      ]
    },
    {
      "cell_type": "markdown",
      "metadata": {
        "id": "7Lj01glm_Oh0"
      },
      "source": [
        "## creation from `dict`"
      ]
    },
    {
      "cell_type": "code",
      "metadata": {
        "id": "cGzlUga77ibX",
        "colab": {
          "base_uri": "https://localhost:8080/"
        },
        "outputId": "c7902c0a-21f5-41d1-8427-48fbe2b37258"
      },
      "source": [
        "dict_of_tests = {\"linerate\":   [6.2, 6.25, 6.3, 6.2, 6.25, 6.3, 6.2, 6.25, 6.2, 6.25],\n",
        "                 \"voltage\":    [  3,    3,   3, 3.3,  3.3, 3.3,   3,    3, 3.3,  3.3],\n",
        "                 \"temperature\":[ 25,   25,  25,  25,   25,  25,  40,   40,  40,   40],\n",
        "                 \"errors\":     [ 12,    0,   0,   3,    0,   0, 234,   57,   0,    0],\n",
        "                 \"current\":    [110,  115, 122, 121,  129, 136, 134,  145, 142,  155],\n",
        "                 \"PASS\":       [False, True, True, False, True, True, False, False, True, False],\n",
        "                 \"comment\":    [\"\", \"\", \"\", \"\", \"\", \"ESD event\", \"\", \"\", \"\", \"\"]}\n",
        "dict_of_tests"
      ],
      "execution_count": 4,
      "outputs": [
        {
          "output_type": "execute_result",
          "data": {
            "text/plain": [
              "{'PASS': [False, True, True, False, True, True, False, False, True, False],\n",
              " 'comment': ['', '', '', '', '', 'ESD event', '', '', '', ''],\n",
              " 'current': [110, 115, 122, 121, 129, 136, 134, 145, 142, 155],\n",
              " 'errors': [12, 0, 0, 3, 0, 0, 234, 57, 0, 0],\n",
              " 'linerate': [6.2, 6.25, 6.3, 6.2, 6.25, 6.3, 6.2, 6.25, 6.2, 6.25],\n",
              " 'temperature': [25, 25, 25, 25, 25, 25, 40, 40, 40, 40],\n",
              " 'voltage': [3, 3, 3, 3.3, 3.3, 3.3, 3, 3, 3.3, 3.3]}"
            ]
          },
          "metadata": {
            "tags": []
          },
          "execution_count": 4
        }
      ]
    },
    {
      "cell_type": "code",
      "metadata": {
        "id": "_5ljiW-RniKf"
      },
      "source": [
        "tests = pd.DataFrame(dict_of_tests)"
      ],
      "execution_count": 5,
      "outputs": []
    },
    {
      "cell_type": "markdown",
      "metadata": {
        "id": "qABvxhHE_WJG"
      },
      "source": [
        "When creating a `DataFrame` from a `dict`, the `keys` are interpreted as `columns`.\n",
        "\n",
        "`DataFrame` prints are nicely rendered in most Python IDEs, and also in Jupyter..."
      ]
    },
    {
      "cell_type": "code",
      "metadata": {
        "id": "eV297GFgBHw3",
        "colab": {
          "base_uri": "https://localhost:8080/",
          "height": 345
        },
        "outputId": "6c95367c-0331-49f6-f770-c7c03b2a0571"
      },
      "source": [
        "tests"
      ],
      "execution_count": 6,
      "outputs": [
        {
          "output_type": "execute_result",
          "data": {
            "text/html": [
              "<div>\n",
              "<style scoped>\n",
              "    .dataframe tbody tr th:only-of-type {\n",
              "        vertical-align: middle;\n",
              "    }\n",
              "\n",
              "    .dataframe tbody tr th {\n",
              "        vertical-align: top;\n",
              "    }\n",
              "\n",
              "    .dataframe thead th {\n",
              "        text-align: right;\n",
              "    }\n",
              "</style>\n",
              "<table border=\"1\" class=\"dataframe\">\n",
              "  <thead>\n",
              "    <tr style=\"text-align: right;\">\n",
              "      <th></th>\n",
              "      <th>linerate</th>\n",
              "      <th>voltage</th>\n",
              "      <th>temperature</th>\n",
              "      <th>errors</th>\n",
              "      <th>current</th>\n",
              "      <th>PASS</th>\n",
              "      <th>comment</th>\n",
              "    </tr>\n",
              "  </thead>\n",
              "  <tbody>\n",
              "    <tr>\n",
              "      <th>0</th>\n",
              "      <td>6.20</td>\n",
              "      <td>3.0</td>\n",
              "      <td>25</td>\n",
              "      <td>12</td>\n",
              "      <td>110</td>\n",
              "      <td>False</td>\n",
              "      <td></td>\n",
              "    </tr>\n",
              "    <tr>\n",
              "      <th>1</th>\n",
              "      <td>6.25</td>\n",
              "      <td>3.0</td>\n",
              "      <td>25</td>\n",
              "      <td>0</td>\n",
              "      <td>115</td>\n",
              "      <td>True</td>\n",
              "      <td></td>\n",
              "    </tr>\n",
              "    <tr>\n",
              "      <th>2</th>\n",
              "      <td>6.30</td>\n",
              "      <td>3.0</td>\n",
              "      <td>25</td>\n",
              "      <td>0</td>\n",
              "      <td>122</td>\n",
              "      <td>True</td>\n",
              "      <td></td>\n",
              "    </tr>\n",
              "    <tr>\n",
              "      <th>3</th>\n",
              "      <td>6.20</td>\n",
              "      <td>3.3</td>\n",
              "      <td>25</td>\n",
              "      <td>3</td>\n",
              "      <td>121</td>\n",
              "      <td>False</td>\n",
              "      <td></td>\n",
              "    </tr>\n",
              "    <tr>\n",
              "      <th>4</th>\n",
              "      <td>6.25</td>\n",
              "      <td>3.3</td>\n",
              "      <td>25</td>\n",
              "      <td>0</td>\n",
              "      <td>129</td>\n",
              "      <td>True</td>\n",
              "      <td></td>\n",
              "    </tr>\n",
              "    <tr>\n",
              "      <th>5</th>\n",
              "      <td>6.30</td>\n",
              "      <td>3.3</td>\n",
              "      <td>25</td>\n",
              "      <td>0</td>\n",
              "      <td>136</td>\n",
              "      <td>True</td>\n",
              "      <td>ESD event</td>\n",
              "    </tr>\n",
              "    <tr>\n",
              "      <th>6</th>\n",
              "      <td>6.20</td>\n",
              "      <td>3.0</td>\n",
              "      <td>40</td>\n",
              "      <td>234</td>\n",
              "      <td>134</td>\n",
              "      <td>False</td>\n",
              "      <td></td>\n",
              "    </tr>\n",
              "    <tr>\n",
              "      <th>7</th>\n",
              "      <td>6.25</td>\n",
              "      <td>3.0</td>\n",
              "      <td>40</td>\n",
              "      <td>57</td>\n",
              "      <td>145</td>\n",
              "      <td>False</td>\n",
              "      <td></td>\n",
              "    </tr>\n",
              "    <tr>\n",
              "      <th>8</th>\n",
              "      <td>6.20</td>\n",
              "      <td>3.3</td>\n",
              "      <td>40</td>\n",
              "      <td>0</td>\n",
              "      <td>142</td>\n",
              "      <td>True</td>\n",
              "      <td></td>\n",
              "    </tr>\n",
              "    <tr>\n",
              "      <th>9</th>\n",
              "      <td>6.25</td>\n",
              "      <td>3.3</td>\n",
              "      <td>40</td>\n",
              "      <td>0</td>\n",
              "      <td>155</td>\n",
              "      <td>False</td>\n",
              "      <td></td>\n",
              "    </tr>\n",
              "  </tbody>\n",
              "</table>\n",
              "</div>"
            ],
            "text/plain": [
              "   linerate  voltage  temperature  errors  current   PASS    comment\n",
              "0      6.20      3.0           25      12      110  False           \n",
              "1      6.25      3.0           25       0      115   True           \n",
              "2      6.30      3.0           25       0      122   True           \n",
              "3      6.20      3.3           25       3      121  False           \n",
              "4      6.25      3.3           25       0      129   True           \n",
              "5      6.30      3.3           25       0      136   True  ESD event\n",
              "6      6.20      3.0           40     234      134  False           \n",
              "7      6.25      3.0           40      57      145  False           \n",
              "8      6.20      3.3           40       0      142   True           \n",
              "9      6.25      3.3           40       0      155  False           "
            ]
          },
          "metadata": {
            "tags": []
          },
          "execution_count": 6
        }
      ]
    },
    {
      "cell_type": "markdown",
      "metadata": {
        "id": "7H5MQRXk3gN0"
      },
      "source": [
        "Creating a `DataFrame` is so easy, that it may be done just for the nicely rendered `print`"
      ]
    },
    {
      "cell_type": "markdown",
      "metadata": {
        "id": "noAD_Cct5ebu"
      },
      "source": [
        "# Frequently used methods"
      ]
    },
    {
      "cell_type": "markdown",
      "metadata": {
        "id": "12927m7A4LfG"
      },
      "source": [
        "## `DataFrame.head()`\n",
        "for a quick glance on a large `DataFrame`"
      ]
    },
    {
      "cell_type": "code",
      "metadata": {
        "id": "JL0krLGG4Wo0",
        "colab": {
          "base_uri": "https://localhost:8080/",
          "height": 196
        },
        "outputId": "a711888c-125c-4780-8338-893514cf9c71"
      },
      "source": [
        "tests.head()"
      ],
      "execution_count": 7,
      "outputs": [
        {
          "output_type": "execute_result",
          "data": {
            "text/html": [
              "<div>\n",
              "<style scoped>\n",
              "    .dataframe tbody tr th:only-of-type {\n",
              "        vertical-align: middle;\n",
              "    }\n",
              "\n",
              "    .dataframe tbody tr th {\n",
              "        vertical-align: top;\n",
              "    }\n",
              "\n",
              "    .dataframe thead th {\n",
              "        text-align: right;\n",
              "    }\n",
              "</style>\n",
              "<table border=\"1\" class=\"dataframe\">\n",
              "  <thead>\n",
              "    <tr style=\"text-align: right;\">\n",
              "      <th></th>\n",
              "      <th>linerate</th>\n",
              "      <th>voltage</th>\n",
              "      <th>temperature</th>\n",
              "      <th>errors</th>\n",
              "      <th>current</th>\n",
              "      <th>PASS</th>\n",
              "      <th>comment</th>\n",
              "    </tr>\n",
              "  </thead>\n",
              "  <tbody>\n",
              "    <tr>\n",
              "      <th>0</th>\n",
              "      <td>6.20</td>\n",
              "      <td>3.0</td>\n",
              "      <td>25</td>\n",
              "      <td>12</td>\n",
              "      <td>110</td>\n",
              "      <td>False</td>\n",
              "      <td></td>\n",
              "    </tr>\n",
              "    <tr>\n",
              "      <th>1</th>\n",
              "      <td>6.25</td>\n",
              "      <td>3.0</td>\n",
              "      <td>25</td>\n",
              "      <td>0</td>\n",
              "      <td>115</td>\n",
              "      <td>True</td>\n",
              "      <td></td>\n",
              "    </tr>\n",
              "    <tr>\n",
              "      <th>2</th>\n",
              "      <td>6.30</td>\n",
              "      <td>3.0</td>\n",
              "      <td>25</td>\n",
              "      <td>0</td>\n",
              "      <td>122</td>\n",
              "      <td>True</td>\n",
              "      <td></td>\n",
              "    </tr>\n",
              "    <tr>\n",
              "      <th>3</th>\n",
              "      <td>6.20</td>\n",
              "      <td>3.3</td>\n",
              "      <td>25</td>\n",
              "      <td>3</td>\n",
              "      <td>121</td>\n",
              "      <td>False</td>\n",
              "      <td></td>\n",
              "    </tr>\n",
              "    <tr>\n",
              "      <th>4</th>\n",
              "      <td>6.25</td>\n",
              "      <td>3.3</td>\n",
              "      <td>25</td>\n",
              "      <td>0</td>\n",
              "      <td>129</td>\n",
              "      <td>True</td>\n",
              "      <td></td>\n",
              "    </tr>\n",
              "  </tbody>\n",
              "</table>\n",
              "</div>"
            ],
            "text/plain": [
              "   linerate  voltage  temperature  errors  current   PASS comment\n",
              "0      6.20      3.0           25      12      110  False        \n",
              "1      6.25      3.0           25       0      115   True        \n",
              "2      6.30      3.0           25       0      122   True        \n",
              "3      6.20      3.3           25       3      121  False        \n",
              "4      6.25      3.3           25       0      129   True        "
            ]
          },
          "metadata": {
            "tags": []
          },
          "execution_count": 7
        }
      ]
    },
    {
      "cell_type": "markdown",
      "metadata": {
        "id": "hisCsrsd4_zF"
      },
      "source": [
        "## `DataFrame.T`\n",
        "Transpose index and columns"
      ]
    },
    {
      "cell_type": "code",
      "metadata": {
        "id": "8xHEycpr1-2d",
        "colab": {
          "base_uri": "https://localhost:8080/",
          "height": 256
        },
        "outputId": "e820f9a3-a22b-4dc9-cccc-8a02f708c64a"
      },
      "source": [
        "tests.T"
      ],
      "execution_count": 8,
      "outputs": [
        {
          "output_type": "execute_result",
          "data": {
            "text/html": [
              "<div>\n",
              "<style scoped>\n",
              "    .dataframe tbody tr th:only-of-type {\n",
              "        vertical-align: middle;\n",
              "    }\n",
              "\n",
              "    .dataframe tbody tr th {\n",
              "        vertical-align: top;\n",
              "    }\n",
              "\n",
              "    .dataframe thead th {\n",
              "        text-align: right;\n",
              "    }\n",
              "</style>\n",
              "<table border=\"1\" class=\"dataframe\">\n",
              "  <thead>\n",
              "    <tr style=\"text-align: right;\">\n",
              "      <th></th>\n",
              "      <th>0</th>\n",
              "      <th>1</th>\n",
              "      <th>2</th>\n",
              "      <th>3</th>\n",
              "      <th>4</th>\n",
              "      <th>5</th>\n",
              "      <th>6</th>\n",
              "      <th>7</th>\n",
              "      <th>8</th>\n",
              "      <th>9</th>\n",
              "    </tr>\n",
              "  </thead>\n",
              "  <tbody>\n",
              "    <tr>\n",
              "      <th>linerate</th>\n",
              "      <td>6.2</td>\n",
              "      <td>6.25</td>\n",
              "      <td>6.3</td>\n",
              "      <td>6.2</td>\n",
              "      <td>6.25</td>\n",
              "      <td>6.3</td>\n",
              "      <td>6.2</td>\n",
              "      <td>6.25</td>\n",
              "      <td>6.2</td>\n",
              "      <td>6.25</td>\n",
              "    </tr>\n",
              "    <tr>\n",
              "      <th>voltage</th>\n",
              "      <td>3</td>\n",
              "      <td>3</td>\n",
              "      <td>3</td>\n",
              "      <td>3.3</td>\n",
              "      <td>3.3</td>\n",
              "      <td>3.3</td>\n",
              "      <td>3</td>\n",
              "      <td>3</td>\n",
              "      <td>3.3</td>\n",
              "      <td>3.3</td>\n",
              "    </tr>\n",
              "    <tr>\n",
              "      <th>temperature</th>\n",
              "      <td>25</td>\n",
              "      <td>25</td>\n",
              "      <td>25</td>\n",
              "      <td>25</td>\n",
              "      <td>25</td>\n",
              "      <td>25</td>\n",
              "      <td>40</td>\n",
              "      <td>40</td>\n",
              "      <td>40</td>\n",
              "      <td>40</td>\n",
              "    </tr>\n",
              "    <tr>\n",
              "      <th>errors</th>\n",
              "      <td>12</td>\n",
              "      <td>0</td>\n",
              "      <td>0</td>\n",
              "      <td>3</td>\n",
              "      <td>0</td>\n",
              "      <td>0</td>\n",
              "      <td>234</td>\n",
              "      <td>57</td>\n",
              "      <td>0</td>\n",
              "      <td>0</td>\n",
              "    </tr>\n",
              "    <tr>\n",
              "      <th>current</th>\n",
              "      <td>110</td>\n",
              "      <td>115</td>\n",
              "      <td>122</td>\n",
              "      <td>121</td>\n",
              "      <td>129</td>\n",
              "      <td>136</td>\n",
              "      <td>134</td>\n",
              "      <td>145</td>\n",
              "      <td>142</td>\n",
              "      <td>155</td>\n",
              "    </tr>\n",
              "    <tr>\n",
              "      <th>PASS</th>\n",
              "      <td>False</td>\n",
              "      <td>True</td>\n",
              "      <td>True</td>\n",
              "      <td>False</td>\n",
              "      <td>True</td>\n",
              "      <td>True</td>\n",
              "      <td>False</td>\n",
              "      <td>False</td>\n",
              "      <td>True</td>\n",
              "      <td>False</td>\n",
              "    </tr>\n",
              "    <tr>\n",
              "      <th>comment</th>\n",
              "      <td></td>\n",
              "      <td></td>\n",
              "      <td></td>\n",
              "      <td></td>\n",
              "      <td></td>\n",
              "      <td>ESD event</td>\n",
              "      <td></td>\n",
              "      <td></td>\n",
              "      <td></td>\n",
              "      <td></td>\n",
              "    </tr>\n",
              "  </tbody>\n",
              "</table>\n",
              "</div>"
            ],
            "text/plain": [
              "                 0     1     2      3  ...      6      7     8      9\n",
              "linerate       6.2  6.25   6.3    6.2  ...    6.2   6.25   6.2   6.25\n",
              "voltage          3     3     3    3.3  ...      3      3   3.3    3.3\n",
              "temperature     25    25    25     25  ...     40     40    40     40\n",
              "errors          12     0     0      3  ...    234     57     0      0\n",
              "current        110   115   122    121  ...    134    145   142    155\n",
              "PASS         False  True  True  False  ...  False  False  True  False\n",
              "comment                                ...                           \n",
              "\n",
              "[7 rows x 10 columns]"
            ]
          },
          "metadata": {
            "tags": []
          },
          "execution_count": 8
        }
      ]
    },
    {
      "cell_type": "markdown",
      "metadata": {
        "id": "rvCjfhhzlbQa"
      },
      "source": [
        "# Indexing"
      ]
    },
    {
      "cell_type": "code",
      "metadata": {
        "id": "xm21Llly5y_Z",
        "colab": {
          "base_uri": "https://localhost:8080/",
          "height": 345
        },
        "outputId": "2480a51e-dd06-490e-86b9-1f93e959b101"
      },
      "source": [
        "tests"
      ],
      "execution_count": 9,
      "outputs": [
        {
          "output_type": "execute_result",
          "data": {
            "text/html": [
              "<div>\n",
              "<style scoped>\n",
              "    .dataframe tbody tr th:only-of-type {\n",
              "        vertical-align: middle;\n",
              "    }\n",
              "\n",
              "    .dataframe tbody tr th {\n",
              "        vertical-align: top;\n",
              "    }\n",
              "\n",
              "    .dataframe thead th {\n",
              "        text-align: right;\n",
              "    }\n",
              "</style>\n",
              "<table border=\"1\" class=\"dataframe\">\n",
              "  <thead>\n",
              "    <tr style=\"text-align: right;\">\n",
              "      <th></th>\n",
              "      <th>linerate</th>\n",
              "      <th>voltage</th>\n",
              "      <th>temperature</th>\n",
              "      <th>errors</th>\n",
              "      <th>current</th>\n",
              "      <th>PASS</th>\n",
              "      <th>comment</th>\n",
              "    </tr>\n",
              "  </thead>\n",
              "  <tbody>\n",
              "    <tr>\n",
              "      <th>0</th>\n",
              "      <td>6.20</td>\n",
              "      <td>3.0</td>\n",
              "      <td>25</td>\n",
              "      <td>12</td>\n",
              "      <td>110</td>\n",
              "      <td>False</td>\n",
              "      <td></td>\n",
              "    </tr>\n",
              "    <tr>\n",
              "      <th>1</th>\n",
              "      <td>6.25</td>\n",
              "      <td>3.0</td>\n",
              "      <td>25</td>\n",
              "      <td>0</td>\n",
              "      <td>115</td>\n",
              "      <td>True</td>\n",
              "      <td></td>\n",
              "    </tr>\n",
              "    <tr>\n",
              "      <th>2</th>\n",
              "      <td>6.30</td>\n",
              "      <td>3.0</td>\n",
              "      <td>25</td>\n",
              "      <td>0</td>\n",
              "      <td>122</td>\n",
              "      <td>True</td>\n",
              "      <td></td>\n",
              "    </tr>\n",
              "    <tr>\n",
              "      <th>3</th>\n",
              "      <td>6.20</td>\n",
              "      <td>3.3</td>\n",
              "      <td>25</td>\n",
              "      <td>3</td>\n",
              "      <td>121</td>\n",
              "      <td>False</td>\n",
              "      <td></td>\n",
              "    </tr>\n",
              "    <tr>\n",
              "      <th>4</th>\n",
              "      <td>6.25</td>\n",
              "      <td>3.3</td>\n",
              "      <td>25</td>\n",
              "      <td>0</td>\n",
              "      <td>129</td>\n",
              "      <td>True</td>\n",
              "      <td></td>\n",
              "    </tr>\n",
              "    <tr>\n",
              "      <th>5</th>\n",
              "      <td>6.30</td>\n",
              "      <td>3.3</td>\n",
              "      <td>25</td>\n",
              "      <td>0</td>\n",
              "      <td>136</td>\n",
              "      <td>True</td>\n",
              "      <td>ESD event</td>\n",
              "    </tr>\n",
              "    <tr>\n",
              "      <th>6</th>\n",
              "      <td>6.20</td>\n",
              "      <td>3.0</td>\n",
              "      <td>40</td>\n",
              "      <td>234</td>\n",
              "      <td>134</td>\n",
              "      <td>False</td>\n",
              "      <td></td>\n",
              "    </tr>\n",
              "    <tr>\n",
              "      <th>7</th>\n",
              "      <td>6.25</td>\n",
              "      <td>3.0</td>\n",
              "      <td>40</td>\n",
              "      <td>57</td>\n",
              "      <td>145</td>\n",
              "      <td>False</td>\n",
              "      <td></td>\n",
              "    </tr>\n",
              "    <tr>\n",
              "      <th>8</th>\n",
              "      <td>6.20</td>\n",
              "      <td>3.3</td>\n",
              "      <td>40</td>\n",
              "      <td>0</td>\n",
              "      <td>142</td>\n",
              "      <td>True</td>\n",
              "      <td></td>\n",
              "    </tr>\n",
              "    <tr>\n",
              "      <th>9</th>\n",
              "      <td>6.25</td>\n",
              "      <td>3.3</td>\n",
              "      <td>40</td>\n",
              "      <td>0</td>\n",
              "      <td>155</td>\n",
              "      <td>False</td>\n",
              "      <td></td>\n",
              "    </tr>\n",
              "  </tbody>\n",
              "</table>\n",
              "</div>"
            ],
            "text/plain": [
              "   linerate  voltage  temperature  errors  current   PASS    comment\n",
              "0      6.20      3.0           25      12      110  False           \n",
              "1      6.25      3.0           25       0      115   True           \n",
              "2      6.30      3.0           25       0      122   True           \n",
              "3      6.20      3.3           25       3      121  False           \n",
              "4      6.25      3.3           25       0      129   True           \n",
              "5      6.30      3.3           25       0      136   True  ESD event\n",
              "6      6.20      3.0           40     234      134  False           \n",
              "7      6.25      3.0           40      57      145  False           \n",
              "8      6.20      3.3           40       0      142   True           \n",
              "9      6.25      3.3           40       0      155  False           "
            ]
          },
          "metadata": {
            "tags": []
          },
          "execution_count": 9
        }
      ]
    },
    {
      "cell_type": "markdown",
      "metadata": {
        "id": "USrHUNCS7W8t"
      },
      "source": [
        "## `DataFrame[ ]`\n",
        "- `DataFrame[col_label]` --> `Series`\n",
        "- `DataFrame[[list_of_labels]]` --> `DataFrame`\n"
      ]
    },
    {
      "cell_type": "code",
      "metadata": {
        "id": "XRVBztKj6rT2",
        "colab": {
          "base_uri": "https://localhost:8080/",
          "height": 362
        },
        "outputId": "b0882f79-2ed1-4063-f8bd-42316666c3b3"
      },
      "source": [
        "df = tests[[\"current\"]]\n",
        "print(type(df))\n",
        "df"
      ],
      "execution_count": 10,
      "outputs": [
        {
          "output_type": "stream",
          "text": [
            "<class 'pandas.core.frame.DataFrame'>\n"
          ],
          "name": "stdout"
        },
        {
          "output_type": "execute_result",
          "data": {
            "text/html": [
              "<div>\n",
              "<style scoped>\n",
              "    .dataframe tbody tr th:only-of-type {\n",
              "        vertical-align: middle;\n",
              "    }\n",
              "\n",
              "    .dataframe tbody tr th {\n",
              "        vertical-align: top;\n",
              "    }\n",
              "\n",
              "    .dataframe thead th {\n",
              "        text-align: right;\n",
              "    }\n",
              "</style>\n",
              "<table border=\"1\" class=\"dataframe\">\n",
              "  <thead>\n",
              "    <tr style=\"text-align: right;\">\n",
              "      <th></th>\n",
              "      <th>current</th>\n",
              "    </tr>\n",
              "  </thead>\n",
              "  <tbody>\n",
              "    <tr>\n",
              "      <th>0</th>\n",
              "      <td>110</td>\n",
              "    </tr>\n",
              "    <tr>\n",
              "      <th>1</th>\n",
              "      <td>115</td>\n",
              "    </tr>\n",
              "    <tr>\n",
              "      <th>2</th>\n",
              "      <td>122</td>\n",
              "    </tr>\n",
              "    <tr>\n",
              "      <th>3</th>\n",
              "      <td>121</td>\n",
              "    </tr>\n",
              "    <tr>\n",
              "      <th>4</th>\n",
              "      <td>129</td>\n",
              "    </tr>\n",
              "    <tr>\n",
              "      <th>5</th>\n",
              "      <td>136</td>\n",
              "    </tr>\n",
              "    <tr>\n",
              "      <th>6</th>\n",
              "      <td>134</td>\n",
              "    </tr>\n",
              "    <tr>\n",
              "      <th>7</th>\n",
              "      <td>145</td>\n",
              "    </tr>\n",
              "    <tr>\n",
              "      <th>8</th>\n",
              "      <td>142</td>\n",
              "    </tr>\n",
              "    <tr>\n",
              "      <th>9</th>\n",
              "      <td>155</td>\n",
              "    </tr>\n",
              "  </tbody>\n",
              "</table>\n",
              "</div>"
            ],
            "text/plain": [
              "   current\n",
              "0      110\n",
              "1      115\n",
              "2      122\n",
              "3      121\n",
              "4      129\n",
              "5      136\n",
              "6      134\n",
              "7      145\n",
              "8      142\n",
              "9      155"
            ]
          },
          "metadata": {
            "tags": []
          },
          "execution_count": 10
        }
      ]
    },
    {
      "cell_type": "markdown",
      "metadata": {
        "id": "jK3dT__t8C8d"
      },
      "source": [
        "## DataFrame.loc[ ] and .at[ ]\n",
        "- Labeled row and columns indexing\n",
        "- Boolean indexing"
      ]
    },
    {
      "cell_type": "code",
      "metadata": {
        "id": "UCrNaOQH6rQ9",
        "colab": {
          "base_uri": "https://localhost:8080/",
          "height": 137
        },
        "outputId": "7b8ea3ef-76ec-47b4-de8d-098723b3d904"
      },
      "source": [
        "rows = [1, 2, 6]\n",
        "cols = [\"errors\", \"current\"]\n",
        "tests.loc[rows, cols]"
      ],
      "execution_count": 11,
      "outputs": [
        {
          "output_type": "execute_result",
          "data": {
            "text/html": [
              "<div>\n",
              "<style scoped>\n",
              "    .dataframe tbody tr th:only-of-type {\n",
              "        vertical-align: middle;\n",
              "    }\n",
              "\n",
              "    .dataframe tbody tr th {\n",
              "        vertical-align: top;\n",
              "    }\n",
              "\n",
              "    .dataframe thead th {\n",
              "        text-align: right;\n",
              "    }\n",
              "</style>\n",
              "<table border=\"1\" class=\"dataframe\">\n",
              "  <thead>\n",
              "    <tr style=\"text-align: right;\">\n",
              "      <th></th>\n",
              "      <th>errors</th>\n",
              "      <th>current</th>\n",
              "    </tr>\n",
              "  </thead>\n",
              "  <tbody>\n",
              "    <tr>\n",
              "      <th>1</th>\n",
              "      <td>0</td>\n",
              "      <td>115</td>\n",
              "    </tr>\n",
              "    <tr>\n",
              "      <th>2</th>\n",
              "      <td>0</td>\n",
              "      <td>122</td>\n",
              "    </tr>\n",
              "    <tr>\n",
              "      <th>6</th>\n",
              "      <td>234</td>\n",
              "      <td>134</td>\n",
              "    </tr>\n",
              "  </tbody>\n",
              "</table>\n",
              "</div>"
            ],
            "text/plain": [
              "   errors  current\n",
              "1       0      115\n",
              "2       0      122\n",
              "6     234      134"
            ]
          },
          "metadata": {
            "tags": []
          },
          "execution_count": 11
        }
      ]
    },
    {
      "cell_type": "markdown",
      "metadata": {
        "id": "TGjCqFzPv41t"
      },
      "source": [
        "Similar to   provide label-based lookups. Use\n",
        "``at`` works like ``loc[]``, but used to access a single value in a DataFrame or Series.\n"
      ]
    },
    {
      "cell_type": "code",
      "metadata": {
        "colab": {
          "base_uri": "https://localhost:8080/"
        },
        "id": "iHUPdjUsvMlT",
        "outputId": "22a52680-2a97-451c-8447-1456d5739cdd"
      },
      "source": [
        "tests.at[6, \"errors\"]"
      ],
      "execution_count": 12,
      "outputs": [
        {
          "output_type": "execute_result",
          "data": {
            "text/plain": [
              "234"
            ]
          },
          "metadata": {
            "tags": []
          },
          "execution_count": 12
        }
      ]
    },
    {
      "cell_type": "markdown",
      "metadata": {
        "id": "TC2RM1k58uPj"
      },
      "source": [
        "### Boolean indexing\n",
        "Example: Get all rows with `errors > 0`"
      ]
    },
    {
      "cell_type": "code",
      "metadata": {
        "id": "HSuljpsL6rFk",
        "colab": {
          "base_uri": "https://localhost:8080/"
        },
        "outputId": "9474c555-20d1-46d9-9b9a-d99e599f6f37"
      },
      "source": [
        "mask = tests[\"errors\"] > 0\n",
        "mask"
      ],
      "execution_count": 13,
      "outputs": [
        {
          "output_type": "execute_result",
          "data": {
            "text/plain": [
              "0     True\n",
              "1    False\n",
              "2    False\n",
              "3     True\n",
              "4    False\n",
              "5    False\n",
              "6     True\n",
              "7     True\n",
              "8    False\n",
              "9    False\n",
              "Name: errors, dtype: bool"
            ]
          },
          "metadata": {
            "tags": []
          },
          "execution_count": 13
        }
      ]
    },
    {
      "cell_type": "code",
      "metadata": {
        "id": "FsUfs98a6rCs",
        "colab": {
          "base_uri": "https://localhost:8080/",
          "height": 0
        },
        "outputId": "3405419a-1afd-4922-9b29-4b433be5b51c"
      },
      "source": [
        "tests.loc[mask, :]"
      ],
      "execution_count": 14,
      "outputs": [
        {
          "output_type": "execute_result",
          "data": {
            "text/html": [
              "<div>\n",
              "<style scoped>\n",
              "    .dataframe tbody tr th:only-of-type {\n",
              "        vertical-align: middle;\n",
              "    }\n",
              "\n",
              "    .dataframe tbody tr th {\n",
              "        vertical-align: top;\n",
              "    }\n",
              "\n",
              "    .dataframe thead th {\n",
              "        text-align: right;\n",
              "    }\n",
              "</style>\n",
              "<table border=\"1\" class=\"dataframe\">\n",
              "  <thead>\n",
              "    <tr style=\"text-align: right;\">\n",
              "      <th></th>\n",
              "      <th>linerate</th>\n",
              "      <th>voltage</th>\n",
              "      <th>temperature</th>\n",
              "      <th>errors</th>\n",
              "      <th>current</th>\n",
              "      <th>PASS</th>\n",
              "      <th>comment</th>\n",
              "    </tr>\n",
              "  </thead>\n",
              "  <tbody>\n",
              "    <tr>\n",
              "      <th>0</th>\n",
              "      <td>6.20</td>\n",
              "      <td>3.0</td>\n",
              "      <td>25</td>\n",
              "      <td>12</td>\n",
              "      <td>110</td>\n",
              "      <td>False</td>\n",
              "      <td></td>\n",
              "    </tr>\n",
              "    <tr>\n",
              "      <th>3</th>\n",
              "      <td>6.20</td>\n",
              "      <td>3.3</td>\n",
              "      <td>25</td>\n",
              "      <td>3</td>\n",
              "      <td>121</td>\n",
              "      <td>False</td>\n",
              "      <td></td>\n",
              "    </tr>\n",
              "    <tr>\n",
              "      <th>6</th>\n",
              "      <td>6.20</td>\n",
              "      <td>3.0</td>\n",
              "      <td>40</td>\n",
              "      <td>234</td>\n",
              "      <td>134</td>\n",
              "      <td>False</td>\n",
              "      <td></td>\n",
              "    </tr>\n",
              "    <tr>\n",
              "      <th>7</th>\n",
              "      <td>6.25</td>\n",
              "      <td>3.0</td>\n",
              "      <td>40</td>\n",
              "      <td>57</td>\n",
              "      <td>145</td>\n",
              "      <td>False</td>\n",
              "      <td></td>\n",
              "    </tr>\n",
              "  </tbody>\n",
              "</table>\n",
              "</div>"
            ],
            "text/plain": [
              "   linerate  voltage  temperature  errors  current   PASS comment\n",
              "0      6.20      3.0           25      12      110  False        \n",
              "3      6.20      3.3           25       3      121  False        \n",
              "6      6.20      3.0           40     234      134  False        \n",
              "7      6.25      3.0           40      57      145  False        "
            ]
          },
          "metadata": {
            "tags": []
          },
          "execution_count": 14
        }
      ]
    },
    {
      "cell_type": "markdown",
      "metadata": {
        "id": "0et5OI659MiY"
      },
      "source": [
        "Very compact and readable code!"
      ]
    },
    {
      "cell_type": "code",
      "metadata": {
        "id": "xDj2jXWL9UP3",
        "colab": {
          "base_uri": "https://localhost:8080/"
        },
        "outputId": "3d931327-83f7-4bae-8e1e-bb09fccbb7f4"
      },
      "source": [
        "tests[\"errors\"] > 0"
      ],
      "execution_count": 15,
      "outputs": [
        {
          "output_type": "execute_result",
          "data": {
            "text/plain": [
              "0     True\n",
              "1    False\n",
              "2    False\n",
              "3     True\n",
              "4    False\n",
              "5    False\n",
              "6     True\n",
              "7     True\n",
              "8    False\n",
              "9    False\n",
              "Name: errors, dtype: bool"
            ]
          },
          "metadata": {
            "tags": []
          },
          "execution_count": 15
        }
      ]
    },
    {
      "cell_type": "markdown",
      "metadata": {
        "id": "0mNnFdkw9YV4"
      },
      "source": [
        "## DataFrame.iloc[ ]\n",
        "Integer indexing is possible but not recommended for the sake of readability."
      ]
    },
    {
      "cell_type": "code",
      "metadata": {
        "id": "FCPZvu2u9l7f",
        "colab": {
          "base_uri": "https://localhost:8080/",
          "height": 137
        },
        "outputId": "61dfb62c-25e5-4bab-a562-a33fa605c594"
      },
      "source": [
        "tests.iloc[:3, 1:-1]"
      ],
      "execution_count": 16,
      "outputs": [
        {
          "output_type": "execute_result",
          "data": {
            "text/html": [
              "<div>\n",
              "<style scoped>\n",
              "    .dataframe tbody tr th:only-of-type {\n",
              "        vertical-align: middle;\n",
              "    }\n",
              "\n",
              "    .dataframe tbody tr th {\n",
              "        vertical-align: top;\n",
              "    }\n",
              "\n",
              "    .dataframe thead th {\n",
              "        text-align: right;\n",
              "    }\n",
              "</style>\n",
              "<table border=\"1\" class=\"dataframe\">\n",
              "  <thead>\n",
              "    <tr style=\"text-align: right;\">\n",
              "      <th></th>\n",
              "      <th>voltage</th>\n",
              "      <th>temperature</th>\n",
              "      <th>errors</th>\n",
              "      <th>current</th>\n",
              "      <th>PASS</th>\n",
              "    </tr>\n",
              "  </thead>\n",
              "  <tbody>\n",
              "    <tr>\n",
              "      <th>0</th>\n",
              "      <td>3.0</td>\n",
              "      <td>25</td>\n",
              "      <td>12</td>\n",
              "      <td>110</td>\n",
              "      <td>False</td>\n",
              "    </tr>\n",
              "    <tr>\n",
              "      <th>1</th>\n",
              "      <td>3.0</td>\n",
              "      <td>25</td>\n",
              "      <td>0</td>\n",
              "      <td>115</td>\n",
              "      <td>True</td>\n",
              "    </tr>\n",
              "    <tr>\n",
              "      <th>2</th>\n",
              "      <td>3.0</td>\n",
              "      <td>25</td>\n",
              "      <td>0</td>\n",
              "      <td>122</td>\n",
              "      <td>True</td>\n",
              "    </tr>\n",
              "  </tbody>\n",
              "</table>\n",
              "</div>"
            ],
            "text/plain": [
              "   voltage  temperature  errors  current   PASS\n",
              "0      3.0           25      12      110  False\n",
              "1      3.0           25       0      115   True\n",
              "2      3.0           25       0      122   True"
            ]
          },
          "metadata": {
            "tags": []
          },
          "execution_count": 16
        }
      ]
    },
    {
      "cell_type": "markdown",
      "metadata": {
        "id": "canr_S9ZlbAu"
      },
      "source": [
        "# `plot`"
      ]
    },
    {
      "cell_type": "code",
      "metadata": {
        "id": "Rwx8TU2i-Heo",
        "colab": {
          "base_uri": "https://localhost:8080/",
          "height": 268
        },
        "outputId": "16af8ee9-82a0-4d15-9069-e50de99c9385"
      },
      "source": [
        "tests.plot();"
      ],
      "execution_count": 17,
      "outputs": [
        {
          "output_type": "display_data",
          "data": {
            "image/png": "[encoded data removed]",
            "text/plain": [
              "<Figure size 432x288 with 1 Axes>"
            ]
          },
          "metadata": {
            "tags": [],
            "needs_background": "light"
          }
        }
      ]
    },
    {
      "cell_type": "code",
      "metadata": {
        "id": "lLTKnQKFgIBF",
        "colab": {
          "base_uri": "https://localhost:8080/",
          "height": 263
        },
        "outputId": "ed454583-58c9-4a4f-c147-e2f79d4797ee"
      },
      "source": [
        "tests[[\"current\", \"errors\"]].plot(kind=\"bar\");"
      ],
      "execution_count": 18,
      "outputs": [
        {
          "output_type": "display_data",
          "data": {
            "image/png": "[encoded data removed]",
            "text/plain": [
              "<Figure size 432x288 with 1 Axes>"
            ]
          },
          "metadata": {
            "tags": [],
            "needs_background": "light"
          }
        }
      ]
    },
    {
      "cell_type": "markdown",
      "metadata": {
        "id": "mJbc6nAd8hPz"
      },
      "source": [
        "# `pivot_table`"
      ]
    },
    {
      "cell_type": "code",
      "metadata": {
        "id": "3pnDYG7MAxrC",
        "colab": {
          "base_uri": "https://localhost:8080/",
          "height": 345
        },
        "outputId": "a58ee87d-d1d9-46db-a416-632977abbf4e"
      },
      "source": [
        "tests"
      ],
      "execution_count": 19,
      "outputs": [
        {
          "output_type": "execute_result",
          "data": {
            "text/html": [
              "<div>\n",
              "<style scoped>\n",
              "    .dataframe tbody tr th:only-of-type {\n",
              "        vertical-align: middle;\n",
              "    }\n",
              "\n",
              "    .dataframe tbody tr th {\n",
              "        vertical-align: top;\n",
              "    }\n",
              "\n",
              "    .dataframe thead th {\n",
              "        text-align: right;\n",
              "    }\n",
              "</style>\n",
              "<table border=\"1\" class=\"dataframe\">\n",
              "  <thead>\n",
              "    <tr style=\"text-align: right;\">\n",
              "      <th></th>\n",
              "      <th>linerate</th>\n",
              "      <th>voltage</th>\n",
              "      <th>temperature</th>\n",
              "      <th>errors</th>\n",
              "      <th>current</th>\n",
              "      <th>PASS</th>\n",
              "      <th>comment</th>\n",
              "    </tr>\n",
              "  </thead>\n",
              "  <tbody>\n",
              "    <tr>\n",
              "      <th>0</th>\n",
              "      <td>6.20</td>\n",
              "      <td>3.0</td>\n",
              "      <td>25</td>\n",
              "      <td>12</td>\n",
              "      <td>110</td>\n",
              "      <td>False</td>\n",
              "      <td></td>\n",
              "    </tr>\n",
              "    <tr>\n",
              "      <th>1</th>\n",
              "      <td>6.25</td>\n",
              "      <td>3.0</td>\n",
              "      <td>25</td>\n",
              "      <td>0</td>\n",
              "      <td>115</td>\n",
              "      <td>True</td>\n",
              "      <td></td>\n",
              "    </tr>\n",
              "    <tr>\n",
              "      <th>2</th>\n",
              "      <td>6.30</td>\n",
              "      <td>3.0</td>\n",
              "      <td>25</td>\n",
              "      <td>0</td>\n",
              "      <td>122</td>\n",
              "      <td>True</td>\n",
              "      <td></td>\n",
              "    </tr>\n",
              "    <tr>\n",
              "      <th>3</th>\n",
              "      <td>6.20</td>\n",
              "      <td>3.3</td>\n",
              "      <td>25</td>\n",
              "      <td>3</td>\n",
              "      <td>121</td>\n",
              "      <td>False</td>\n",
              "      <td></td>\n",
              "    </tr>\n",
              "    <tr>\n",
              "      <th>4</th>\n",
              "      <td>6.25</td>\n",
              "      <td>3.3</td>\n",
              "      <td>25</td>\n",
              "      <td>0</td>\n",
              "      <td>129</td>\n",
              "      <td>True</td>\n",
              "      <td></td>\n",
              "    </tr>\n",
              "    <tr>\n",
              "      <th>5</th>\n",
              "      <td>6.30</td>\n",
              "      <td>3.3</td>\n",
              "      <td>25</td>\n",
              "      <td>0</td>\n",
              "      <td>136</td>\n",
              "      <td>True</td>\n",
              "      <td>ESD event</td>\n",
              "    </tr>\n",
              "    <tr>\n",
              "      <th>6</th>\n",
              "      <td>6.20</td>\n",
              "      <td>3.0</td>\n",
              "      <td>40</td>\n",
              "      <td>234</td>\n",
              "      <td>134</td>\n",
              "      <td>False</td>\n",
              "      <td></td>\n",
              "    </tr>\n",
              "    <tr>\n",
              "      <th>7</th>\n",
              "      <td>6.25</td>\n",
              "      <td>3.0</td>\n",
              "      <td>40</td>\n",
              "      <td>57</td>\n",
              "      <td>145</td>\n",
              "      <td>False</td>\n",
              "      <td></td>\n",
              "    </tr>\n",
              "    <tr>\n",
              "      <th>8</th>\n",
              "      <td>6.20</td>\n",
              "      <td>3.3</td>\n",
              "      <td>40</td>\n",
              "      <td>0</td>\n",
              "      <td>142</td>\n",
              "      <td>True</td>\n",
              "      <td></td>\n",
              "    </tr>\n",
              "    <tr>\n",
              "      <th>9</th>\n",
              "      <td>6.25</td>\n",
              "      <td>3.3</td>\n",
              "      <td>40</td>\n",
              "      <td>0</td>\n",
              "      <td>155</td>\n",
              "      <td>False</td>\n",
              "      <td></td>\n",
              "    </tr>\n",
              "  </tbody>\n",
              "</table>\n",
              "</div>"
            ],
            "text/plain": [
              "   linerate  voltage  temperature  errors  current   PASS    comment\n",
              "0      6.20      3.0           25      12      110  False           \n",
              "1      6.25      3.0           25       0      115   True           \n",
              "2      6.30      3.0           25       0      122   True           \n",
              "3      6.20      3.3           25       3      121  False           \n",
              "4      6.25      3.3           25       0      129   True           \n",
              "5      6.30      3.3           25       0      136   True  ESD event\n",
              "6      6.20      3.0           40     234      134  False           \n",
              "7      6.25      3.0           40      57      145  False           \n",
              "8      6.20      3.3           40       0      142   True           \n",
              "9      6.25      3.3           40       0      155  False           "
            ]
          },
          "metadata": {
            "tags": []
          },
          "execution_count": 19
        }
      ]
    },
    {
      "cell_type": "code",
      "metadata": {
        "id": "xBiMJsApeBXu",
        "colab": {
          "base_uri": "https://localhost:8080/",
          "height": 166
        },
        "outputId": "4ddc6ab7-27c8-47f5-ea8d-69e02dc1f5d5"
      },
      "source": [
        "tests.pivot_table(index=\"linerate\", columns=\"temperature\", values=\"current\", \n",
        "                  aggfunc=np.mean, fill_value=None)"
      ],
      "execution_count": 20,
      "outputs": [
        {
          "output_type": "execute_result",
          "data": {
            "text/html": [
              "<div>\n",
              "<style scoped>\n",
              "    .dataframe tbody tr th:only-of-type {\n",
              "        vertical-align: middle;\n",
              "    }\n",
              "\n",
              "    .dataframe tbody tr th {\n",
              "        vertical-align: top;\n",
              "    }\n",
              "\n",
              "    .dataframe thead th {\n",
              "        text-align: right;\n",
              "    }\n",
              "</style>\n",
              "<table border=\"1\" class=\"dataframe\">\n",
              "  <thead>\n",
              "    <tr style=\"text-align: right;\">\n",
              "      <th>temperature</th>\n",
              "      <th>25</th>\n",
              "      <th>40</th>\n",
              "    </tr>\n",
              "    <tr>\n",
              "      <th>linerate</th>\n",
              "      <th></th>\n",
              "      <th></th>\n",
              "    </tr>\n",
              "  </thead>\n",
              "  <tbody>\n",
              "    <tr>\n",
              "      <th>6.20</th>\n",
              "      <td>115.5</td>\n",
              "      <td>138.0</td>\n",
              "    </tr>\n",
              "    <tr>\n",
              "      <th>6.25</th>\n",
              "      <td>122.0</td>\n",
              "      <td>150.0</td>\n",
              "    </tr>\n",
              "    <tr>\n",
              "      <th>6.30</th>\n",
              "      <td>129.0</td>\n",
              "      <td>NaN</td>\n",
              "    </tr>\n",
              "  </tbody>\n",
              "</table>\n",
              "</div>"
            ],
            "text/plain": [
              "temperature     25     40\n",
              "linerate                 \n",
              "6.20         115.5  138.0\n",
              "6.25         122.0  150.0\n",
              "6.30         129.0    NaN"
            ]
          },
          "metadata": {
            "tags": []
          },
          "execution_count": 20
        }
      ]
    },
    {
      "cell_type": "code",
      "metadata": {
        "id": "BoWZsHhDPiyp"
      },
      "source": [
        "def plot_pivot_heatmap(df, columns, index, values):\n",
        "    pt = df.pivot_table(columns=columns, index=index, values=values, aggfunc=np.mean)\n",
        "    plt.figure(figsize=(5, 3))\n",
        "    plt.imshow(pt.values, interpolation='nearest', aspect='auto', cmap=plt.cm.coolwarm)\n",
        "    plt.yticks(range(len(pt.index)), pt.index)\n",
        "    plt.xticks(range(len(pt.columns)), pt.columns)\n",
        "    plt.xlabel(columns), plt.ylabel(index)\n",
        "    plt.colorbar()"
      ],
      "execution_count": 21,
      "outputs": []
    },
    {
      "cell_type": "code",
      "metadata": {
        "id": "pKjheZUTPtT-",
        "colab": {
          "base_uri": "https://localhost:8080/",
          "height": 232
        },
        "outputId": "d0c903e9-3e1c-4585-f83a-f098280cdd13"
      },
      "source": [
        "plot_pivot_heatmap(tests, index=\"voltage\", columns=\"linerate\", values=\"errors\")"
      ],
      "execution_count": 22,
      "outputs": [
        {
          "output_type": "display_data",
          "data": {
            "image/png": "[encoded data removed]",
            "text/plain": [
              "<Figure size 360x216 with 2 Axes>"
            ]
          },
          "metadata": {
            "tags": [],
            "needs_background": "light"
          }
        }
      ]
    },
    {
      "cell_type": "markdown",
      "metadata": {
        "id": "5CKymz7DkDNp"
      },
      "source": [
        "# Pandas Series"
      ]
    },
    {
      "cell_type": "code",
      "metadata": {
        "id": "Tj_gpp9hj8yz"
      },
      "source": [
        ""
      ],
      "execution_count": 22,
      "outputs": []
    },
    {
      "cell_type": "code",
      "metadata": {
        "id": "1WMXz8QDj8wL"
      },
      "source": [
        "def download_wavetraces():\n",
        "    import requests, io\n",
        "    signals = []\n",
        "    for name in [\"rdqs\", \"dq\"]:\n",
        "        url = f\"https://raw.githubusercontent.com/munich-ml/MLPy2021/main/datasets/wavetrace_{name}.dat\"\n",
        "        sio = io.StringIO(requests.get(url).content.decode('utf-8'))\n",
        "        name += \" [V]\"\n",
        "        df = pd.read_csv(sio, sep= \" \", index_col=0, names=[\"time [s]\", name])\n",
        "        signals.append(df[name])  # index one colume from the DataFrame makes a Series\n",
        "    return signals"
      ],
      "execution_count": 44,
      "outputs": []
    },
    {
      "cell_type": "code",
      "metadata": {
        "id": "WRwZLzAgj8tn"
      },
      "source": [
        "signals = download_wavetraces()"
      ],
      "execution_count": 45,
      "outputs": []
    },
    {
      "cell_type": "code",
      "metadata": {
        "id": "znoIBmIwj8rR"
      },
      "source": [
        "import matplotlib.pyplot as plt"
      ],
      "execution_count": 46,
      "outputs": []
    },
    {
      "cell_type": "code",
      "metadata": {
        "id": "30CcgoTZlWue"
      },
      "source": [
        "sig = next(iter(signals))"
      ],
      "execution_count": 47,
      "outputs": []
    },
    {
      "cell_type": "code",
      "metadata": {
        "id": "SzPzqjPNlWsB",
        "outputId": "8c62d2e6-2c02-4af4-f0b0-f0c13a20f0f0",
        "colab": {
          "base_uri": "https://localhost:8080/",
          "height": 232
        }
      },
      "source": [
        "plt.figure(figsize=(12, 3))\n",
        "for sig in signals:\n",
        "    plt.plot(sig.index, sig, label=sig.name)\n",
        "plt.xlabel(sig.index.name), plt.ylabel(\"voltage [V]\")\n",
        "plt.xlim((-1e-8, 1e-8))\n",
        "plt.legend(), plt.grid();"
      ],
      "execution_count": 55,
      "outputs": [
        {
          "output_type": "display_data",
          "data": {
            "image/png": "[encoded data removed]",
            "text/plain": [
              "<Figure size 864x216 with 1 Axes>"
            ]
          },
          "metadata": {
            "tags": [],
            "needs_background": "light"
          }
        }
      ]
    },
    {
      "cell_type": "code",
      "metadata": {
        "id": "5QqcOkQKlWnA"
      },
      "source": [
        ""
      ],
      "execution_count": null,
      "outputs": []
    },
    {
      "cell_type": "markdown",
      "metadata": {
        "id": "ih8EWA2cIHfN"
      },
      "source": [
        "# Options"
      ]
    },
    {
      "cell_type": "markdown",
      "metadata": {
        "id": "5Avqp97GNwaW"
      },
      "source": [
        "See [pandas user guide](https://pandas.pydata.org/pandas-docs/stable/user_guide/options.html) for details on options."
      ]
    },
    {
      "cell_type": "markdown",
      "metadata": {
        "id": "NF_RFyg8N_Lg"
      },
      "source": [
        "### pd.options.display.precision"
      ]
    },
    {
      "cell_type": "code",
      "metadata": {
        "id": "uOwBUVQgJGG4",
        "colab": {
          "base_uri": "https://localhost:8080/",
          "height": 196
        },
        "outputId": "85f796f7-c249-4bb4-fe9a-87f621017ebd"
      },
      "source": [
        "df = pd.DataFrame(np.random.randn(5, 5))\n",
        "df"
      ],
      "execution_count": null,
      "outputs": [
        {
          "output_type": "execute_result",
          "data": {
            "text/html": [
              "<div>\n",
              "<style scoped>\n",
              "    .dataframe tbody tr th:only-of-type {\n",
              "        vertical-align: middle;\n",
              "    }\n",
              "\n",
              "    .dataframe tbody tr th {\n",
              "        vertical-align: top;\n",
              "    }\n",
              "\n",
              "    .dataframe thead th {\n",
              "        text-align: right;\n",
              "    }\n",
              "</style>\n",
              "<table border=\"1\" class=\"dataframe\">\n",
              "  <thead>\n",
              "    <tr style=\"text-align: right;\">\n",
              "      <th></th>\n",
              "      <th>0</th>\n",
              "      <th>1</th>\n",
              "      <th>2</th>\n",
              "      <th>3</th>\n",
              "      <th>4</th>\n",
              "    </tr>\n",
              "  </thead>\n",
              "  <tbody>\n",
              "    <tr>\n",
              "      <th>0</th>\n",
              "      <td>-0.654705</td>\n",
              "      <td>-0.188344</td>\n",
              "      <td>0.194944</td>\n",
              "      <td>-0.886505</td>\n",
              "      <td>-0.528163</td>\n",
              "    </tr>\n",
              "    <tr>\n",
              "      <th>1</th>\n",
              "      <td>-0.200325</td>\n",
              "      <td>1.239030</td>\n",
              "      <td>-0.523044</td>\n",
              "      <td>-2.529440</td>\n",
              "      <td>0.511811</td>\n",
              "    </tr>\n",
              "    <tr>\n",
              "      <th>2</th>\n",
              "      <td>0.906762</td>\n",
              "      <td>-0.638670</td>\n",
              "      <td>0.850540</td>\n",
              "      <td>0.031877</td>\n",
              "      <td>1.409961</td>\n",
              "    </tr>\n",
              "    <tr>\n",
              "      <th>3</th>\n",
              "      <td>0.826160</td>\n",
              "      <td>-0.209599</td>\n",
              "      <td>-0.622240</td>\n",
              "      <td>-1.820597</td>\n",
              "      <td>0.697129</td>\n",
              "    </tr>\n",
              "    <tr>\n",
              "      <th>4</th>\n",
              "      <td>-1.940481</td>\n",
              "      <td>-0.789461</td>\n",
              "      <td>-1.023777</td>\n",
              "      <td>0.873377</td>\n",
              "      <td>-1.137557</td>\n",
              "    </tr>\n",
              "  </tbody>\n",
              "</table>\n",
              "</div>"
            ],
            "text/plain": [
              "          0         1         2         3         4\n",
              "0 -0.654705 -0.188344  0.194944 -0.886505 -0.528163\n",
              "1 -0.200325  1.239030 -0.523044 -2.529440  0.511811\n",
              "2  0.906762 -0.638670  0.850540  0.031877  1.409961\n",
              "3  0.826160 -0.209599 -0.622240 -1.820597  0.697129\n",
              "4 -1.940481 -0.789461 -1.023777  0.873377 -1.137557"
            ]
          },
          "metadata": {
            "tags": []
          },
          "execution_count": 25
        }
      ]
    },
    {
      "cell_type": "code",
      "metadata": {
        "id": "g-Wi82dNJG3q",
        "colab": {
          "base_uri": "https://localhost:8080/"
        },
        "outputId": "09bf6ac9-529d-4eda-b6bb-f188bc5fcf86"
      },
      "source": [
        "pd.options.display.precision"
      ],
      "execution_count": null,
      "outputs": [
        {
          "output_type": "execute_result",
          "data": {
            "text/plain": [
              "6"
            ]
          },
          "metadata": {
            "tags": []
          },
          "execution_count": 26
        }
      ]
    },
    {
      "cell_type": "code",
      "metadata": {
        "id": "Ik4H1ZSHIeWt"
      },
      "source": [
        "pd.options.display.precision = 3"
      ],
      "execution_count": null,
      "outputs": []
    },
    {
      "cell_type": "code",
      "metadata": {
        "id": "0Mzl2dbbJkcg",
        "colab": {
          "base_uri": "https://localhost:8080/",
          "height": 196
        },
        "outputId": "db4db89c-68e8-478d-ff21-984037036d0d"
      },
      "source": [
        "df"
      ],
      "execution_count": null,
      "outputs": [
        {
          "output_type": "execute_result",
          "data": {
            "text/html": [
              "<div>\n",
              "<style scoped>\n",
              "    .dataframe tbody tr th:only-of-type {\n",
              "        vertical-align: middle;\n",
              "    }\n",
              "\n",
              "    .dataframe tbody tr th {\n",
              "        vertical-align: top;\n",
              "    }\n",
              "\n",
              "    .dataframe thead th {\n",
              "        text-align: right;\n",
              "    }\n",
              "</style>\n",
              "<table border=\"1\" class=\"dataframe\">\n",
              "  <thead>\n",
              "    <tr style=\"text-align: right;\">\n",
              "      <th></th>\n",
              "      <th>0</th>\n",
              "      <th>1</th>\n",
              "      <th>2</th>\n",
              "      <th>3</th>\n",
              "      <th>4</th>\n",
              "    </tr>\n",
              "  </thead>\n",
              "  <tbody>\n",
              "    <tr>\n",
              "      <th>0</th>\n",
              "      <td>-0.655</td>\n",
              "      <td>-0.188</td>\n",
              "      <td>0.195</td>\n",
              "      <td>-0.887</td>\n",
              "      <td>-0.528</td>\n",
              "    </tr>\n",
              "    <tr>\n",
              "      <th>1</th>\n",
              "      <td>-0.200</td>\n",
              "      <td>1.239</td>\n",
              "      <td>-0.523</td>\n",
              "      <td>-2.529</td>\n",
              "      <td>0.512</td>\n",
              "    </tr>\n",
              "    <tr>\n",
              "      <th>2</th>\n",
              "      <td>0.907</td>\n",
              "      <td>-0.639</td>\n",
              "      <td>0.851</td>\n",
              "      <td>0.032</td>\n",
              "      <td>1.410</td>\n",
              "    </tr>\n",
              "    <tr>\n",
              "      <th>3</th>\n",
              "      <td>0.826</td>\n",
              "      <td>-0.210</td>\n",
              "      <td>-0.622</td>\n",
              "      <td>-1.821</td>\n",
              "      <td>0.697</td>\n",
              "    </tr>\n",
              "    <tr>\n",
              "      <th>4</th>\n",
              "      <td>-1.940</td>\n",
              "      <td>-0.789</td>\n",
              "      <td>-1.024</td>\n",
              "      <td>0.873</td>\n",
              "      <td>-1.138</td>\n",
              "    </tr>\n",
              "  </tbody>\n",
              "</table>\n",
              "</div>"
            ],
            "text/plain": [
              "       0      1      2      3      4\n",
              "0 -0.655 -0.188  0.195 -0.887 -0.528\n",
              "1 -0.200  1.239 -0.523 -2.529  0.512\n",
              "2  0.907 -0.639  0.851  0.032  1.410\n",
              "3  0.826 -0.210 -0.622 -1.821  0.697\n",
              "4 -1.940 -0.789 -1.024  0.873 -1.138"
            ]
          },
          "metadata": {
            "tags": []
          },
          "execution_count": 28
        }
      ]
    },
    {
      "cell_type": "code",
      "metadata": {
        "id": "R7yI3icwKCkl",
        "colab": {
          "base_uri": "https://localhost:8080/"
        },
        "outputId": "328aa7ec-2682-4106-9203-b7c94756e343"
      },
      "source": [
        "pd.options.display.precision"
      ],
      "execution_count": null,
      "outputs": [
        {
          "output_type": "execute_result",
          "data": {
            "text/plain": [
              "3"
            ]
          },
          "metadata": {
            "tags": []
          },
          "execution_count": 29
        }
      ]
    },
    {
      "cell_type": "markdown",
      "metadata": {
        "id": "5-XgXTRXOJJ8"
      },
      "source": [
        "### pd.reset_option(\"all\")"
      ]
    },
    {
      "cell_type": "code",
      "metadata": {
        "id": "aiBxX0I5Jkzu",
        "colab": {
          "base_uri": "https://localhost:8080/"
        },
        "outputId": "5222a86b-fb1a-40a8-c4bd-303364b254a4"
      },
      "source": [
        "pd.reset_option(\"all\")"
      ],
      "execution_count": null,
      "outputs": [
        {
          "output_type": "stream",
          "text": [
            "\n",
            ": boolean\n",
            "    use_inf_as_null had been deprecated and will be removed in a future\n",
            "    version. Use `use_inf_as_na` instead.\n",
            "\n"
          ],
          "name": "stdout"
        },
        {
          "output_type": "stream",
          "text": [
            "/usr/local/lib/python3.7/dist-packages/pandas/_config/config.py:622: FutureWarning: \n",
            ": boolean\n",
            "    use_inf_as_null had been deprecated and will be removed in a future\n",
            "    version. Use `use_inf_as_na` instead.\n",
            "\n",
            "  warnings.warn(d.msg, FutureWarning)\n"
          ],
          "name": "stderr"
        }
      ]
    },
    {
      "cell_type": "code",
      "metadata": {
        "id": "2rKU9IW8KDWa",
        "colab": {
          "base_uri": "https://localhost:8080/"
        },
        "outputId": "0b7ec8e8-d6b8-406e-916c-cddd57f0811c"
      },
      "source": [
        "pd.options.display.precision"
      ],
      "execution_count": null,
      "outputs": [
        {
          "output_type": "execute_result",
          "data": {
            "text/plain": [
              "6"
            ]
          },
          "metadata": {
            "tags": []
          },
          "execution_count": 31
        }
      ]
    },
    {
      "cell_type": "markdown",
      "metadata": {
        "id": "a_XvCu27OQKP"
      },
      "source": [
        "### pd.options.display.float_format"
      ]
    },
    {
      "cell_type": "code",
      "metadata": {
        "id": "cmXUxhZ_Kvi3",
        "colab": {
          "base_uri": "https://localhost:8080/"
        },
        "outputId": "c1568a5a-df62-4fcd-8eda-4317435d7e76"
      },
      "source": [
        "pd.options.display.float_format is None"
      ],
      "execution_count": null,
      "outputs": [
        {
          "output_type": "execute_result",
          "data": {
            "text/plain": [
              "True"
            ]
          },
          "metadata": {
            "tags": []
          },
          "execution_count": 32
        }
      ]
    },
    {
      "cell_type": "code",
      "metadata": {
        "id": "EaMI5YR2LM_M",
        "colab": {
          "base_uri": "https://localhost:8080/",
          "height": 196
        },
        "outputId": "c0b4cc3b-55ee-4194-efb6-8edcf6727b7e"
      },
      "source": [
        "df"
      ],
      "execution_count": null,
      "outputs": [
        {
          "output_type": "execute_result",
          "data": {
            "text/html": [
              "<div>\n",
              "<style scoped>\n",
              "    .dataframe tbody tr th:only-of-type {\n",
              "        vertical-align: middle;\n",
              "    }\n",
              "\n",
              "    .dataframe tbody tr th {\n",
              "        vertical-align: top;\n",
              "    }\n",
              "\n",
              "    .dataframe thead th {\n",
              "        text-align: right;\n",
              "    }\n",
              "</style>\n",
              "<table border=\"1\" class=\"dataframe\">\n",
              "  <thead>\n",
              "    <tr style=\"text-align: right;\">\n",
              "      <th></th>\n",
              "      <th>0</th>\n",
              "      <th>1</th>\n",
              "      <th>2</th>\n",
              "      <th>3</th>\n",
              "      <th>4</th>\n",
              "    </tr>\n",
              "  </thead>\n",
              "  <tbody>\n",
              "    <tr>\n",
              "      <th>0</th>\n",
              "      <td>-0.654705</td>\n",
              "      <td>-0.188344</td>\n",
              "      <td>0.194944</td>\n",
              "      <td>-0.886505</td>\n",
              "      <td>-0.528163</td>\n",
              "    </tr>\n",
              "    <tr>\n",
              "      <th>1</th>\n",
              "      <td>-0.200325</td>\n",
              "      <td>1.239030</td>\n",
              "      <td>-0.523044</td>\n",
              "      <td>-2.529440</td>\n",
              "      <td>0.511811</td>\n",
              "    </tr>\n",
              "    <tr>\n",
              "      <th>2</th>\n",
              "      <td>0.906762</td>\n",
              "      <td>-0.638670</td>\n",
              "      <td>0.850540</td>\n",
              "      <td>0.031877</td>\n",
              "      <td>1.409961</td>\n",
              "    </tr>\n",
              "    <tr>\n",
              "      <th>3</th>\n",
              "      <td>0.826160</td>\n",
              "      <td>-0.209599</td>\n",
              "      <td>-0.622240</td>\n",
              "      <td>-1.820597</td>\n",
              "      <td>0.697129</td>\n",
              "    </tr>\n",
              "    <tr>\n",
              "      <th>4</th>\n",
              "      <td>-1.940481</td>\n",
              "      <td>-0.789461</td>\n",
              "      <td>-1.023777</td>\n",
              "      <td>0.873377</td>\n",
              "      <td>-1.137557</td>\n",
              "    </tr>\n",
              "  </tbody>\n",
              "</table>\n",
              "</div>"
            ],
            "text/plain": [
              "          0         1         2         3         4\n",
              "0 -0.654705 -0.188344  0.194944 -0.886505 -0.528163\n",
              "1 -0.200325  1.239030 -0.523044 -2.529440  0.511811\n",
              "2  0.906762 -0.638670  0.850540  0.031877  1.409961\n",
              "3  0.826160 -0.209599 -0.622240 -1.820597  0.697129\n",
              "4 -1.940481 -0.789461 -1.023777  0.873377 -1.137557"
            ]
          },
          "metadata": {
            "tags": []
          },
          "execution_count": 33
        }
      ]
    },
    {
      "cell_type": "code",
      "metadata": {
        "id": "7IRUMWftKrXZ"
      },
      "source": [
        "pd.options.display.float_format = '{:,.2f}'.format"
      ],
      "execution_count": null,
      "outputs": []
    },
    {
      "cell_type": "code",
      "metadata": {
        "id": "TusfmXgCLDBN",
        "colab": {
          "base_uri": "https://localhost:8080/",
          "height": 196
        },
        "outputId": "6bd52eb5-eae2-407f-b1dd-ccca0f80c596"
      },
      "source": [
        "df"
      ],
      "execution_count": null,
      "outputs": [
        {
          "output_type": "execute_result",
          "data": {
            "text/html": [
              "<div>\n",
              "<style scoped>\n",
              "    .dataframe tbody tr th:only-of-type {\n",
              "        vertical-align: middle;\n",
              "    }\n",
              "\n",
              "    .dataframe tbody tr th {\n",
              "        vertical-align: top;\n",
              "    }\n",
              "\n",
              "    .dataframe thead th {\n",
              "        text-align: right;\n",
              "    }\n",
              "</style>\n",
              "<table border=\"1\" class=\"dataframe\">\n",
              "  <thead>\n",
              "    <tr style=\"text-align: right;\">\n",
              "      <th></th>\n",
              "      <th>0</th>\n",
              "      <th>1</th>\n",
              "      <th>2</th>\n",
              "      <th>3</th>\n",
              "      <th>4</th>\n",
              "    </tr>\n",
              "  </thead>\n",
              "  <tbody>\n",
              "    <tr>\n",
              "      <th>0</th>\n",
              "      <td>-0.65</td>\n",
              "      <td>-0.19</td>\n",
              "      <td>0.19</td>\n",
              "      <td>-0.89</td>\n",
              "      <td>-0.53</td>\n",
              "    </tr>\n",
              "    <tr>\n",
              "      <th>1</th>\n",
              "      <td>-0.20</td>\n",
              "      <td>1.24</td>\n",
              "      <td>-0.52</td>\n",
              "      <td>-2.53</td>\n",
              "      <td>0.51</td>\n",
              "    </tr>\n",
              "    <tr>\n",
              "      <th>2</th>\n",
              "      <td>0.91</td>\n",
              "      <td>-0.64</td>\n",
              "      <td>0.85</td>\n",
              "      <td>0.03</td>\n",
              "      <td>1.41</td>\n",
              "    </tr>\n",
              "    <tr>\n",
              "      <th>3</th>\n",
              "      <td>0.83</td>\n",
              "      <td>-0.21</td>\n",
              "      <td>-0.62</td>\n",
              "      <td>-1.82</td>\n",
              "      <td>0.70</td>\n",
              "    </tr>\n",
              "    <tr>\n",
              "      <th>4</th>\n",
              "      <td>-1.94</td>\n",
              "      <td>-0.79</td>\n",
              "      <td>-1.02</td>\n",
              "      <td>0.87</td>\n",
              "      <td>-1.14</td>\n",
              "    </tr>\n",
              "  </tbody>\n",
              "</table>\n",
              "</div>"
            ],
            "text/plain": [
              "      0     1     2     3     4\n",
              "0 -0.65 -0.19  0.19 -0.89 -0.53\n",
              "1 -0.20  1.24 -0.52 -2.53  0.51\n",
              "2  0.91 -0.64  0.85  0.03  1.41\n",
              "3  0.83 -0.21 -0.62 -1.82  0.70\n",
              "4 -1.94 -0.79 -1.02  0.87 -1.14"
            ]
          },
          "metadata": {
            "tags": []
          },
          "execution_count": 35
        }
      ]
    },
    {
      "cell_type": "code",
      "metadata": {
        "id": "iwclXUdFLOvV",
        "colab": {
          "base_uri": "https://localhost:8080/",
          "height": 196
        },
        "outputId": "388c6667-0a07-4188-e96f-54667413cf21"
      },
      "source": [
        "pd.options.display.float_format = None\n",
        "df"
      ],
      "execution_count": null,
      "outputs": [
        {
          "output_type": "execute_result",
          "data": {
            "text/html": [
              "<div>\n",
              "<style scoped>\n",
              "    .dataframe tbody tr th:only-of-type {\n",
              "        vertical-align: middle;\n",
              "    }\n",
              "\n",
              "    .dataframe tbody tr th {\n",
              "        vertical-align: top;\n",
              "    }\n",
              "\n",
              "    .dataframe thead th {\n",
              "        text-align: right;\n",
              "    }\n",
              "</style>\n",
              "<table border=\"1\" class=\"dataframe\">\n",
              "  <thead>\n",
              "    <tr style=\"text-align: right;\">\n",
              "      <th></th>\n",
              "      <th>0</th>\n",
              "      <th>1</th>\n",
              "      <th>2</th>\n",
              "      <th>3</th>\n",
              "      <th>4</th>\n",
              "    </tr>\n",
              "  </thead>\n",
              "  <tbody>\n",
              "    <tr>\n",
              "      <th>0</th>\n",
              "      <td>-0.654705</td>\n",
              "      <td>-0.188344</td>\n",
              "      <td>0.194944</td>\n",
              "      <td>-0.886505</td>\n",
              "      <td>-0.528163</td>\n",
              "    </tr>\n",
              "    <tr>\n",
              "      <th>1</th>\n",
              "      <td>-0.200325</td>\n",
              "      <td>1.239030</td>\n",
              "      <td>-0.523044</td>\n",
              "      <td>-2.529440</td>\n",
              "      <td>0.511811</td>\n",
              "    </tr>\n",
              "    <tr>\n",
              "      <th>2</th>\n",
              "      <td>0.906762</td>\n",
              "      <td>-0.638670</td>\n",
              "      <td>0.850540</td>\n",
              "      <td>0.031877</td>\n",
              "      <td>1.409961</td>\n",
              "    </tr>\n",
              "    <tr>\n",
              "      <th>3</th>\n",
              "      <td>0.826160</td>\n",
              "      <td>-0.209599</td>\n",
              "      <td>-0.622240</td>\n",
              "      <td>-1.820597</td>\n",
              "      <td>0.697129</td>\n",
              "    </tr>\n",
              "    <tr>\n",
              "      <th>4</th>\n",
              "      <td>-1.940481</td>\n",
              "      <td>-0.789461</td>\n",
              "      <td>-1.023777</td>\n",
              "      <td>0.873377</td>\n",
              "      <td>-1.137557</td>\n",
              "    </tr>\n",
              "  </tbody>\n",
              "</table>\n",
              "</div>"
            ],
            "text/plain": [
              "          0         1         2         3         4\n",
              "0 -0.654705 -0.188344  0.194944 -0.886505 -0.528163\n",
              "1 -0.200325  1.239030 -0.523044 -2.529440  0.511811\n",
              "2  0.906762 -0.638670  0.850540  0.031877  1.409961\n",
              "3  0.826160 -0.209599 -0.622240 -1.820597  0.697129\n",
              "4 -1.940481 -0.789461 -1.023777  0.873377 -1.137557"
            ]
          },
          "metadata": {
            "tags": []
          },
          "execution_count": 36
        }
      ]
    },
    {
      "cell_type": "code",
      "metadata": {
        "id": "y4NX2C1NMfJ4",
        "colab": {
          "base_uri": "https://localhost:8080/"
        },
        "outputId": "7c03769b-d50f-47da-924e-301278a55c08"
      },
      "source": [
        "with pd.option_context('display.float_format', '{:,.2f}'.format):\n",
        "    print(df)\n",
        "print(df)"
      ],
      "execution_count": null,
      "outputs": [
        {
          "output_type": "stream",
          "text": [
            "      0     1     2     3     4\n",
            "0 -0.65 -0.19  0.19 -0.89 -0.53\n",
            "1 -0.20  1.24 -0.52 -2.53  0.51\n",
            "2  0.91 -0.64  0.85  0.03  1.41\n",
            "3  0.83 -0.21 -0.62 -1.82  0.70\n",
            "4 -1.94 -0.79 -1.02  0.87 -1.14\n",
            "          0         1         2         3         4\n",
            "0 -0.654705 -0.188344  0.194944 -0.886505 -0.528163\n",
            "1 -0.200325  1.239030 -0.523044 -2.529440  0.511811\n",
            "2  0.906762 -0.638670  0.850540  0.031877  1.409961\n",
            "3  0.826160 -0.209599 -0.622240 -1.820597  0.697129\n",
            "4 -1.940481 -0.789461 -1.023777  0.873377 -1.137557\n"
          ],
          "name": "stdout"
        }
      ]
    },
    {
      "cell_type": "code",
      "metadata": {
        "id": "DNtomLT1NTJp"
      },
      "source": [
        ""
      ],
      "execution_count": null,
      "outputs": []
    }
  ]
}