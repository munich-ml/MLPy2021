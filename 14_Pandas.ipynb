{
  "nbformat": 4,
  "nbformat_minor": 0,
  "metadata": {
    "colab": {
      "name": "14_Pandas.ipynb",
      "provenance": [],
      "toc_visible": true,
      "authorship_tag": "ABX9TyObI+b3Ss2zKHrryZqtoZBM",
      "include_colab_link": true
    },
    "kernelspec": {
      "name": "python3",
      "display_name": "Python 3"
    }
  },
  "cells": [
    {
      "cell_type": "markdown",
      "metadata": {
        "id": "view-in-github",
        "colab_type": "text"
      },
      "source": [
        "<a href=\"https://colab.research.google.com/github/munich-ml/MLPy2020/blob/master/17_Pandas.ipynb\" target=\"_parent\"><img src=\"https://colab.research.google.com/assets/colab-badge.svg\" alt=\"Open In Colab\"/></a>"
      ]
    },
    {
      "cell_type": "markdown",
      "metadata": {
        "id": "1Xy44gMl8rRm",
        "colab_type": "text"
      },
      "source": [
        "**Pandas** (alias `pd`) is a Python package providing fast, flexible, and expressive data\n",
        "structures designed to make working with \"labeled\" data both\n",
        "easy and intuitive. \n",
        "\n",
        "**`pd.DataFrame`** is a two-dimensional data structure with labeled axes, rows (`index`) and `column`. The data is often a `np.array`.\n",
        "\n",
        "**`pd.Series`** is the one-dimensional version of the `pd.DataFrame`."
      ]
    },
    {
      "cell_type": "code",
      "metadata": {
        "id": "Gl2lbncat_Ng",
        "colab_type": "code",
        "colab": {}
      },
      "source": [
        "import numpy as np\n",
        "import pandas as pd\n",
        "import matplotlib.pyplot as plt\n",
        "import matplotlib as mpl\n",
        "mpl.rc('axes', labelsize=14)\n",
        "mpl.rc('xtick', labelsize=12)\n",
        "mpl.rc('ytick', labelsize=12)"
      ],
      "execution_count": 0,
      "outputs": []
    },
    {
      "cell_type": "markdown",
      "metadata": {
        "id": "-hjRUmJbl6Iv",
        "colab_type": "text"
      },
      "source": [
        "# `DataFrame` creation"
      ]
    },
    {
      "cell_type": "markdown",
      "metadata": {
        "id": "7Lj01glm_Oh0",
        "colab_type": "text"
      },
      "source": [
        "## cration from `dict`"
      ]
    },
    {
      "cell_type": "code",
      "metadata": {
        "id": "cGzlUga77ibX",
        "colab_type": "code",
        "outputId": "367fee7c-ba45-493e-8860-0fb354baceff",
        "colab": {
          "base_uri": "https://localhost:8080/",
          "height": 100
        }
      },
      "source": [
        "dict_of_tests = {\"linerate\":   [6.2, 6.25, 6.3, 6.2, 6.25, 6.3, 6.2, 6.25, 6.2, 6.25],\n",
        "                 \"voltage\":    [  3,    3,   3, 3.3,  3.3, 3.3,   3,    3, 3.3,  3.3],\n",
        "                 \"temperature\":[ 25,   25,  25,  25,   25,  25,  40,   40,  40,   40],\n",
        "                 \"errors\":     [ 12,    0,   0,   3,    0,   0, 234,   57,   0,    0],\n",
        "                 \"current\":    [110,  115, 122, 121,  129, 136, 134,  145, 142,  155]}\n",
        "dict_of_tests"
      ],
      "execution_count": 0,
      "outputs": [
        {
          "output_type": "execute_result",
          "data": {
            "text/plain": [
              "{'current': [110, 115, 122, 121, 129, 136, 134, 145, 142, 155],\n",
              " 'errors': [12, 0, 0, 3, 0, 0, 234, 57, 0, 0],\n",
              " 'linerate': [6.2, 6.25, 6.3, 6.2, 6.25, 6.3, 6.2, 6.25, 6.2, 6.25],\n",
              " 'temperature': [25, 25, 25, 25, 25, 25, 40, 40, 40, 40],\n",
              " 'voltage': [3, 3, 3, 3.3, 3.3, 3.3, 3, 3, 3.3, 3.3]}"
            ]
          },
          "metadata": {
            "tags": []
          },
          "execution_count": 2
        }
      ]
    },
    {
      "cell_type": "code",
      "metadata": {
        "id": "_5ljiW-RniKf",
        "colab_type": "code",
        "colab": {}
      },
      "source": [
        "tests = pd.DataFrame(dict_of_tests)"
      ],
      "execution_count": 0,
      "outputs": []
    },
    {
      "cell_type": "markdown",
      "metadata": {
        "id": "qABvxhHE_WJG",
        "colab_type": "text"
      },
      "source": [
        "When creating a `DataFrame` from a `dict`, the `keys` are interpreted as `columns`.\n",
        "\n",
        "`DataFrame` prints are nicely rendered in most Python IDEs, and also in Jupyter..."
      ]
    },
    {
      "cell_type": "code",
      "metadata": {
        "id": "eV297GFgBHw3",
        "colab_type": "code",
        "outputId": "ff73e560-8f7a-4c78-a3fb-fa6a95b273bb",
        "colab": {
          "base_uri": "https://localhost:8080/",
          "height": 345
        }
      },
      "source": [
        "tests"
      ],
      "execution_count": 0,
      "outputs": [
        {
          "output_type": "execute_result",
          "data": {
            "text/html": [
              "<div>\n",
              "<style scoped>\n",
              "    .dataframe tbody tr th:only-of-type {\n",
              "        vertical-align: middle;\n",
              "    }\n",
              "\n",
              "    .dataframe tbody tr th {\n",
              "        vertical-align: top;\n",
              "    }\n",
              "\n",
              "    .dataframe thead th {\n",
              "        text-align: right;\n",
              "    }\n",
              "</style>\n",
              "<table border=\"1\" class=\"dataframe\">\n",
              "  <thead>\n",
              "    <tr style=\"text-align: right;\">\n",
              "      <th></th>\n",
              "      <th>linerate</th>\n",
              "      <th>voltage</th>\n",
              "      <th>temperature</th>\n",
              "      <th>errors</th>\n",
              "      <th>current</th>\n",
              "    </tr>\n",
              "  </thead>\n",
              "  <tbody>\n",
              "    <tr>\n",
              "      <th>0</th>\n",
              "      <td>6.20</td>\n",
              "      <td>3.0</td>\n",
              "      <td>25</td>\n",
              "      <td>12</td>\n",
              "      <td>110</td>\n",
              "    </tr>\n",
              "    <tr>\n",
              "      <th>1</th>\n",
              "      <td>6.25</td>\n",
              "      <td>3.0</td>\n",
              "      <td>25</td>\n",
              "      <td>0</td>\n",
              "      <td>115</td>\n",
              "    </tr>\n",
              "    <tr>\n",
              "      <th>2</th>\n",
              "      <td>6.30</td>\n",
              "      <td>3.0</td>\n",
              "      <td>25</td>\n",
              "      <td>0</td>\n",
              "      <td>122</td>\n",
              "    </tr>\n",
              "    <tr>\n",
              "      <th>3</th>\n",
              "      <td>6.20</td>\n",
              "      <td>3.3</td>\n",
              "      <td>25</td>\n",
              "      <td>3</td>\n",
              "      <td>121</td>\n",
              "    </tr>\n",
              "    <tr>\n",
              "      <th>4</th>\n",
              "      <td>6.25</td>\n",
              "      <td>3.3</td>\n",
              "      <td>25</td>\n",
              "      <td>0</td>\n",
              "      <td>129</td>\n",
              "    </tr>\n",
              "    <tr>\n",
              "      <th>5</th>\n",
              "      <td>6.30</td>\n",
              "      <td>3.3</td>\n",
              "      <td>25</td>\n",
              "      <td>0</td>\n",
              "      <td>136</td>\n",
              "    </tr>\n",
              "    <tr>\n",
              "      <th>6</th>\n",
              "      <td>6.20</td>\n",
              "      <td>3.0</td>\n",
              "      <td>40</td>\n",
              "      <td>234</td>\n",
              "      <td>134</td>\n",
              "    </tr>\n",
              "    <tr>\n",
              "      <th>7</th>\n",
              "      <td>6.25</td>\n",
              "      <td>3.0</td>\n",
              "      <td>40</td>\n",
              "      <td>57</td>\n",
              "      <td>145</td>\n",
              "    </tr>\n",
              "    <tr>\n",
              "      <th>8</th>\n",
              "      <td>6.20</td>\n",
              "      <td>3.3</td>\n",
              "      <td>40</td>\n",
              "      <td>0</td>\n",
              "      <td>142</td>\n",
              "    </tr>\n",
              "    <tr>\n",
              "      <th>9</th>\n",
              "      <td>6.25</td>\n",
              "      <td>3.3</td>\n",
              "      <td>40</td>\n",
              "      <td>0</td>\n",
              "      <td>155</td>\n",
              "    </tr>\n",
              "  </tbody>\n",
              "</table>\n",
              "</div>"
            ],
            "text/plain": [
              "   linerate  voltage  temperature  errors  current\n",
              "0      6.20      3.0           25      12      110\n",
              "1      6.25      3.0           25       0      115\n",
              "2      6.30      3.0           25       0      122\n",
              "3      6.20      3.3           25       3      121\n",
              "4      6.25      3.3           25       0      129\n",
              "5      6.30      3.3           25       0      136\n",
              "6      6.20      3.0           40     234      134\n",
              "7      6.25      3.0           40      57      145\n",
              "8      6.20      3.3           40       0      142\n",
              "9      6.25      3.3           40       0      155"
            ]
          },
          "metadata": {
            "tags": []
          },
          "execution_count": 4
        }
      ]
    },
    {
      "cell_type": "markdown",
      "metadata": {
        "id": "Y5nX61XWGs3R",
        "colab_type": "text"
      },
      "source": [
        "### helper code\n",
        "creating `col_names` and `data` lists from `dict_of_tests`"
      ]
    },
    {
      "cell_type": "code",
      "metadata": {
        "id": "6Wr6wPplB9iW",
        "colab_type": "code",
        "colab": {}
      },
      "source": [
        "col_names = [name for name in dict_of_tests.keys()]\n",
        "data = [[] for _ in range(len(dict_of_tests[next(iter(dict_of_tests))]))]\n",
        "for values_col in dict_of_tests.values():\n",
        "    for data_row, value in zip(data, values_col):\n",
        "        data_row.append(value)"
      ],
      "execution_count": 0,
      "outputs": []
    },
    {
      "cell_type": "markdown",
      "metadata": {
        "id": "HwC6z8U5B_qd",
        "colab_type": "text"
      },
      "source": [
        "## creation from `list`"
      ]
    },
    {
      "cell_type": "code",
      "metadata": {
        "id": "peohq3FfGbPW",
        "colab_type": "code",
        "outputId": "ef124432-62d2-4624-ae81-d251d9e4951c",
        "colab": {
          "base_uri": "https://localhost:8080/",
          "height": 33
        }
      },
      "source": [
        "col_names"
      ],
      "execution_count": 0,
      "outputs": [
        {
          "output_type": "execute_result",
          "data": {
            "text/plain": [
              "['linerate', 'voltage', 'temperature', 'errors', 'current']"
            ]
          },
          "metadata": {
            "tags": []
          },
          "execution_count": 6
        }
      ]
    },
    {
      "cell_type": "code",
      "metadata": {
        "id": "LzewpHdiGbMe",
        "colab_type": "code",
        "outputId": "bb421341-765c-4967-b0c6-2ddf5c9c54e7",
        "colab": {
          "base_uri": "https://localhost:8080/",
          "height": 184
        }
      },
      "source": [
        "data"
      ],
      "execution_count": 0,
      "outputs": [
        {
          "output_type": "execute_result",
          "data": {
            "text/plain": [
              "[[6.2, 3, 25, 12, 110],\n",
              " [6.25, 3, 25, 0, 115],\n",
              " [6.3, 3, 25, 0, 122],\n",
              " [6.2, 3.3, 25, 3, 121],\n",
              " [6.25, 3.3, 25, 0, 129],\n",
              " [6.3, 3.3, 25, 0, 136],\n",
              " [6.2, 3, 40, 234, 134],\n",
              " [6.25, 3, 40, 57, 145],\n",
              " [6.2, 3.3, 40, 0, 142],\n",
              " [6.25, 3.3, 40, 0, 155]]"
            ]
          },
          "metadata": {
            "tags": []
          },
          "execution_count": 7
        }
      ]
    },
    {
      "cell_type": "code",
      "metadata": {
        "id": "wUDJyinOCuiM",
        "colab_type": "code",
        "outputId": "2be04c4d-5756-4806-a2b5-51f12e25c3ac",
        "colab": {
          "base_uri": "https://localhost:8080/",
          "height": 345
        }
      },
      "source": [
        "pd.DataFrame(data) "
      ],
      "execution_count": 0,
      "outputs": [
        {
          "output_type": "execute_result",
          "data": {
            "text/html": [
              "<div>\n",
              "<style scoped>\n",
              "    .dataframe tbody tr th:only-of-type {\n",
              "        vertical-align: middle;\n",
              "    }\n",
              "\n",
              "    .dataframe tbody tr th {\n",
              "        vertical-align: top;\n",
              "    }\n",
              "\n",
              "    .dataframe thead th {\n",
              "        text-align: right;\n",
              "    }\n",
              "</style>\n",
              "<table border=\"1\" class=\"dataframe\">\n",
              "  <thead>\n",
              "    <tr style=\"text-align: right;\">\n",
              "      <th></th>\n",
              "      <th>0</th>\n",
              "      <th>1</th>\n",
              "      <th>2</th>\n",
              "      <th>3</th>\n",
              "      <th>4</th>\n",
              "    </tr>\n",
              "  </thead>\n",
              "  <tbody>\n",
              "    <tr>\n",
              "      <th>0</th>\n",
              "      <td>6.20</td>\n",
              "      <td>3.0</td>\n",
              "      <td>25</td>\n",
              "      <td>12</td>\n",
              "      <td>110</td>\n",
              "    </tr>\n",
              "    <tr>\n",
              "      <th>1</th>\n",
              "      <td>6.25</td>\n",
              "      <td>3.0</td>\n",
              "      <td>25</td>\n",
              "      <td>0</td>\n",
              "      <td>115</td>\n",
              "    </tr>\n",
              "    <tr>\n",
              "      <th>2</th>\n",
              "      <td>6.30</td>\n",
              "      <td>3.0</td>\n",
              "      <td>25</td>\n",
              "      <td>0</td>\n",
              "      <td>122</td>\n",
              "    </tr>\n",
              "    <tr>\n",
              "      <th>3</th>\n",
              "      <td>6.20</td>\n",
              "      <td>3.3</td>\n",
              "      <td>25</td>\n",
              "      <td>3</td>\n",
              "      <td>121</td>\n",
              "    </tr>\n",
              "    <tr>\n",
              "      <th>4</th>\n",
              "      <td>6.25</td>\n",
              "      <td>3.3</td>\n",
              "      <td>25</td>\n",
              "      <td>0</td>\n",
              "      <td>129</td>\n",
              "    </tr>\n",
              "    <tr>\n",
              "      <th>5</th>\n",
              "      <td>6.30</td>\n",
              "      <td>3.3</td>\n",
              "      <td>25</td>\n",
              "      <td>0</td>\n",
              "      <td>136</td>\n",
              "    </tr>\n",
              "    <tr>\n",
              "      <th>6</th>\n",
              "      <td>6.20</td>\n",
              "      <td>3.0</td>\n",
              "      <td>40</td>\n",
              "      <td>234</td>\n",
              "      <td>134</td>\n",
              "    </tr>\n",
              "    <tr>\n",
              "      <th>7</th>\n",
              "      <td>6.25</td>\n",
              "      <td>3.0</td>\n",
              "      <td>40</td>\n",
              "      <td>57</td>\n",
              "      <td>145</td>\n",
              "    </tr>\n",
              "    <tr>\n",
              "      <th>8</th>\n",
              "      <td>6.20</td>\n",
              "      <td>3.3</td>\n",
              "      <td>40</td>\n",
              "      <td>0</td>\n",
              "      <td>142</td>\n",
              "    </tr>\n",
              "    <tr>\n",
              "      <th>9</th>\n",
              "      <td>6.25</td>\n",
              "      <td>3.3</td>\n",
              "      <td>40</td>\n",
              "      <td>0</td>\n",
              "      <td>155</td>\n",
              "    </tr>\n",
              "  </tbody>\n",
              "</table>\n",
              "</div>"
            ],
            "text/plain": [
              "      0    1   2    3    4\n",
              "0  6.20  3.0  25   12  110\n",
              "1  6.25  3.0  25    0  115\n",
              "2  6.30  3.0  25    0  122\n",
              "3  6.20  3.3  25    3  121\n",
              "4  6.25  3.3  25    0  129\n",
              "5  6.30  3.3  25    0  136\n",
              "6  6.20  3.0  40  234  134\n",
              "7  6.25  3.0  40   57  145\n",
              "8  6.20  3.3  40    0  142\n",
              "9  6.25  3.3  40    0  155"
            ]
          },
          "metadata": {
            "tags": []
          },
          "execution_count": 8
        }
      ]
    },
    {
      "cell_type": "code",
      "metadata": {
        "id": "VjjSf5G12jAy",
        "colab_type": "code",
        "outputId": "d1f0416e-a966-408a-cc77-ed7cfe574dbb",
        "colab": {
          "base_uri": "https://localhost:8080/",
          "height": 345
        }
      },
      "source": [
        "pd.DataFrame(data, columns=col_names) "
      ],
      "execution_count": 0,
      "outputs": [
        {
          "output_type": "execute_result",
          "data": {
            "text/html": [
              "<div>\n",
              "<style scoped>\n",
              "    .dataframe tbody tr th:only-of-type {\n",
              "        vertical-align: middle;\n",
              "    }\n",
              "\n",
              "    .dataframe tbody tr th {\n",
              "        vertical-align: top;\n",
              "    }\n",
              "\n",
              "    .dataframe thead th {\n",
              "        text-align: right;\n",
              "    }\n",
              "</style>\n",
              "<table border=\"1\" class=\"dataframe\">\n",
              "  <thead>\n",
              "    <tr style=\"text-align: right;\">\n",
              "      <th></th>\n",
              "      <th>linerate</th>\n",
              "      <th>voltage</th>\n",
              "      <th>temperature</th>\n",
              "      <th>errors</th>\n",
              "      <th>current</th>\n",
              "    </tr>\n",
              "  </thead>\n",
              "  <tbody>\n",
              "    <tr>\n",
              "      <th>0</th>\n",
              "      <td>6.20</td>\n",
              "      <td>3.0</td>\n",
              "      <td>25</td>\n",
              "      <td>12</td>\n",
              "      <td>110</td>\n",
              "    </tr>\n",
              "    <tr>\n",
              "      <th>1</th>\n",
              "      <td>6.25</td>\n",
              "      <td>3.0</td>\n",
              "      <td>25</td>\n",
              "      <td>0</td>\n",
              "      <td>115</td>\n",
              "    </tr>\n",
              "    <tr>\n",
              "      <th>2</th>\n",
              "      <td>6.30</td>\n",
              "      <td>3.0</td>\n",
              "      <td>25</td>\n",
              "      <td>0</td>\n",
              "      <td>122</td>\n",
              "    </tr>\n",
              "    <tr>\n",
              "      <th>3</th>\n",
              "      <td>6.20</td>\n",
              "      <td>3.3</td>\n",
              "      <td>25</td>\n",
              "      <td>3</td>\n",
              "      <td>121</td>\n",
              "    </tr>\n",
              "    <tr>\n",
              "      <th>4</th>\n",
              "      <td>6.25</td>\n",
              "      <td>3.3</td>\n",
              "      <td>25</td>\n",
              "      <td>0</td>\n",
              "      <td>129</td>\n",
              "    </tr>\n",
              "    <tr>\n",
              "      <th>5</th>\n",
              "      <td>6.30</td>\n",
              "      <td>3.3</td>\n",
              "      <td>25</td>\n",
              "      <td>0</td>\n",
              "      <td>136</td>\n",
              "    </tr>\n",
              "    <tr>\n",
              "      <th>6</th>\n",
              "      <td>6.20</td>\n",
              "      <td>3.0</td>\n",
              "      <td>40</td>\n",
              "      <td>234</td>\n",
              "      <td>134</td>\n",
              "    </tr>\n",
              "    <tr>\n",
              "      <th>7</th>\n",
              "      <td>6.25</td>\n",
              "      <td>3.0</td>\n",
              "      <td>40</td>\n",
              "      <td>57</td>\n",
              "      <td>145</td>\n",
              "    </tr>\n",
              "    <tr>\n",
              "      <th>8</th>\n",
              "      <td>6.20</td>\n",
              "      <td>3.3</td>\n",
              "      <td>40</td>\n",
              "      <td>0</td>\n",
              "      <td>142</td>\n",
              "    </tr>\n",
              "    <tr>\n",
              "      <th>9</th>\n",
              "      <td>6.25</td>\n",
              "      <td>3.3</td>\n",
              "      <td>40</td>\n",
              "      <td>0</td>\n",
              "      <td>155</td>\n",
              "    </tr>\n",
              "  </tbody>\n",
              "</table>\n",
              "</div>"
            ],
            "text/plain": [
              "   linerate  voltage  temperature  errors  current\n",
              "0      6.20      3.0           25      12      110\n",
              "1      6.25      3.0           25       0      115\n",
              "2      6.30      3.0           25       0      122\n",
              "3      6.20      3.3           25       3      121\n",
              "4      6.25      3.3           25       0      129\n",
              "5      6.30      3.3           25       0      136\n",
              "6      6.20      3.0           40     234      134\n",
              "7      6.25      3.0           40      57      145\n",
              "8      6.20      3.3           40       0      142\n",
              "9      6.25      3.3           40       0      155"
            ]
          },
          "metadata": {
            "tags": []
          },
          "execution_count": 9
        }
      ]
    },
    {
      "cell_type": "markdown",
      "metadata": {
        "id": "7H5MQRXk3gN0",
        "colab_type": "text"
      },
      "source": [
        "Creating a `DataFrame` is so easy, that it may be done just for the nicely rendered `print`"
      ]
    },
    {
      "cell_type": "markdown",
      "metadata": {
        "id": "noAD_Cct5ebu",
        "colab_type": "text"
      },
      "source": [
        "# Frequently used methods"
      ]
    },
    {
      "cell_type": "markdown",
      "metadata": {
        "id": "12927m7A4LfG",
        "colab_type": "text"
      },
      "source": [
        "## `DataFrame.head()`\n",
        "for a quick glance on a large `DataFrame`"
      ]
    },
    {
      "cell_type": "code",
      "metadata": {
        "id": "JL0krLGG4Wo0",
        "colab_type": "code",
        "outputId": "5c1945bb-2bc3-4158-965e-f3af28b72b80",
        "colab": {
          "base_uri": "https://localhost:8080/",
          "height": 196
        }
      },
      "source": [
        "tests.head()"
      ],
      "execution_count": 0,
      "outputs": [
        {
          "output_type": "execute_result",
          "data": {
            "text/html": [
              "<div>\n",
              "<style scoped>\n",
              "    .dataframe tbody tr th:only-of-type {\n",
              "        vertical-align: middle;\n",
              "    }\n",
              "\n",
              "    .dataframe tbody tr th {\n",
              "        vertical-align: top;\n",
              "    }\n",
              "\n",
              "    .dataframe thead th {\n",
              "        text-align: right;\n",
              "    }\n",
              "</style>\n",
              "<table border=\"1\" class=\"dataframe\">\n",
              "  <thead>\n",
              "    <tr style=\"text-align: right;\">\n",
              "      <th></th>\n",
              "      <th>linerate</th>\n",
              "      <th>voltage</th>\n",
              "      <th>temperature</th>\n",
              "      <th>errors</th>\n",
              "      <th>current</th>\n",
              "    </tr>\n",
              "  </thead>\n",
              "  <tbody>\n",
              "    <tr>\n",
              "      <th>0</th>\n",
              "      <td>6.20</td>\n",
              "      <td>3.0</td>\n",
              "      <td>25</td>\n",
              "      <td>12</td>\n",
              "      <td>110</td>\n",
              "    </tr>\n",
              "    <tr>\n",
              "      <th>1</th>\n",
              "      <td>6.25</td>\n",
              "      <td>3.0</td>\n",
              "      <td>25</td>\n",
              "      <td>0</td>\n",
              "      <td>115</td>\n",
              "    </tr>\n",
              "    <tr>\n",
              "      <th>2</th>\n",
              "      <td>6.30</td>\n",
              "      <td>3.0</td>\n",
              "      <td>25</td>\n",
              "      <td>0</td>\n",
              "      <td>122</td>\n",
              "    </tr>\n",
              "    <tr>\n",
              "      <th>3</th>\n",
              "      <td>6.20</td>\n",
              "      <td>3.3</td>\n",
              "      <td>25</td>\n",
              "      <td>3</td>\n",
              "      <td>121</td>\n",
              "    </tr>\n",
              "    <tr>\n",
              "      <th>4</th>\n",
              "      <td>6.25</td>\n",
              "      <td>3.3</td>\n",
              "      <td>25</td>\n",
              "      <td>0</td>\n",
              "      <td>129</td>\n",
              "    </tr>\n",
              "  </tbody>\n",
              "</table>\n",
              "</div>"
            ],
            "text/plain": [
              "   linerate  voltage  temperature  errors  current\n",
              "0      6.20      3.0           25      12      110\n",
              "1      6.25      3.0           25       0      115\n",
              "2      6.30      3.0           25       0      122\n",
              "3      6.20      3.3           25       3      121\n",
              "4      6.25      3.3           25       0      129"
            ]
          },
          "metadata": {
            "tags": []
          },
          "execution_count": 10
        }
      ]
    },
    {
      "cell_type": "markdown",
      "metadata": {
        "id": "hisCsrsd4_zF",
        "colab_type": "text"
      },
      "source": [
        "## `DataFrame.T`\n",
        "Transpose index and columns"
      ]
    },
    {
      "cell_type": "code",
      "metadata": {
        "id": "8xHEycpr1-2d",
        "colab_type": "code",
        "outputId": "98df799d-517e-4eda-e0a6-57eb72614c0e",
        "colab": {
          "base_uri": "https://localhost:8080/",
          "height": 196
        }
      },
      "source": [
        "tests.T"
      ],
      "execution_count": 0,
      "outputs": [
        {
          "output_type": "execute_result",
          "data": {
            "text/html": [
              "<div>\n",
              "<style scoped>\n",
              "    .dataframe tbody tr th:only-of-type {\n",
              "        vertical-align: middle;\n",
              "    }\n",
              "\n",
              "    .dataframe tbody tr th {\n",
              "        vertical-align: top;\n",
              "    }\n",
              "\n",
              "    .dataframe thead th {\n",
              "        text-align: right;\n",
              "    }\n",
              "</style>\n",
              "<table border=\"1\" class=\"dataframe\">\n",
              "  <thead>\n",
              "    <tr style=\"text-align: right;\">\n",
              "      <th></th>\n",
              "      <th>0</th>\n",
              "      <th>1</th>\n",
              "      <th>2</th>\n",
              "      <th>3</th>\n",
              "      <th>4</th>\n",
              "      <th>5</th>\n",
              "      <th>6</th>\n",
              "      <th>7</th>\n",
              "      <th>8</th>\n",
              "      <th>9</th>\n",
              "    </tr>\n",
              "  </thead>\n",
              "  <tbody>\n",
              "    <tr>\n",
              "      <th>linerate</th>\n",
              "      <td>6.2</td>\n",
              "      <td>6.25</td>\n",
              "      <td>6.3</td>\n",
              "      <td>6.2</td>\n",
              "      <td>6.25</td>\n",
              "      <td>6.3</td>\n",
              "      <td>6.2</td>\n",
              "      <td>6.25</td>\n",
              "      <td>6.2</td>\n",
              "      <td>6.25</td>\n",
              "    </tr>\n",
              "    <tr>\n",
              "      <th>voltage</th>\n",
              "      <td>3.0</td>\n",
              "      <td>3.00</td>\n",
              "      <td>3.0</td>\n",
              "      <td>3.3</td>\n",
              "      <td>3.30</td>\n",
              "      <td>3.3</td>\n",
              "      <td>3.0</td>\n",
              "      <td>3.00</td>\n",
              "      <td>3.3</td>\n",
              "      <td>3.30</td>\n",
              "    </tr>\n",
              "    <tr>\n",
              "      <th>temperature</th>\n",
              "      <td>25.0</td>\n",
              "      <td>25.00</td>\n",
              "      <td>25.0</td>\n",
              "      <td>25.0</td>\n",
              "      <td>25.00</td>\n",
              "      <td>25.0</td>\n",
              "      <td>40.0</td>\n",
              "      <td>40.00</td>\n",
              "      <td>40.0</td>\n",
              "      <td>40.00</td>\n",
              "    </tr>\n",
              "    <tr>\n",
              "      <th>errors</th>\n",
              "      <td>12.0</td>\n",
              "      <td>0.00</td>\n",
              "      <td>0.0</td>\n",
              "      <td>3.0</td>\n",
              "      <td>0.00</td>\n",
              "      <td>0.0</td>\n",
              "      <td>234.0</td>\n",
              "      <td>57.00</td>\n",
              "      <td>0.0</td>\n",
              "      <td>0.00</td>\n",
              "    </tr>\n",
              "    <tr>\n",
              "      <th>current</th>\n",
              "      <td>110.0</td>\n",
              "      <td>115.00</td>\n",
              "      <td>122.0</td>\n",
              "      <td>121.0</td>\n",
              "      <td>129.00</td>\n",
              "      <td>136.0</td>\n",
              "      <td>134.0</td>\n",
              "      <td>145.00</td>\n",
              "      <td>142.0</td>\n",
              "      <td>155.00</td>\n",
              "    </tr>\n",
              "  </tbody>\n",
              "</table>\n",
              "</div>"
            ],
            "text/plain": [
              "                 0       1      2      3  ...      6       7      8       9\n",
              "linerate       6.2    6.25    6.3    6.2  ...    6.2    6.25    6.2    6.25\n",
              "voltage        3.0    3.00    3.0    3.3  ...    3.0    3.00    3.3    3.30\n",
              "temperature   25.0   25.00   25.0   25.0  ...   40.0   40.00   40.0   40.00\n",
              "errors        12.0    0.00    0.0    3.0  ...  234.0   57.00    0.0    0.00\n",
              "current      110.0  115.00  122.0  121.0  ...  134.0  145.00  142.0  155.00\n",
              "\n",
              "[5 rows x 10 columns]"
            ]
          },
          "metadata": {
            "tags": []
          },
          "execution_count": 11
        }
      ]
    },
    {
      "cell_type": "markdown",
      "metadata": {
        "id": "rvCjfhhzlbQa",
        "colab_type": "text"
      },
      "source": [
        "# Indexing"
      ]
    },
    {
      "cell_type": "code",
      "metadata": {
        "id": "xm21Llly5y_Z",
        "colab_type": "code",
        "outputId": "27df2b75-0f70-4528-a90e-bf64ab83d83b",
        "colab": {
          "base_uri": "https://localhost:8080/",
          "height": 345
        }
      },
      "source": [
        "tests"
      ],
      "execution_count": 0,
      "outputs": [
        {
          "output_type": "execute_result",
          "data": {
            "text/html": [
              "<div>\n",
              "<style scoped>\n",
              "    .dataframe tbody tr th:only-of-type {\n",
              "        vertical-align: middle;\n",
              "    }\n",
              "\n",
              "    .dataframe tbody tr th {\n",
              "        vertical-align: top;\n",
              "    }\n",
              "\n",
              "    .dataframe thead th {\n",
              "        text-align: right;\n",
              "    }\n",
              "</style>\n",
              "<table border=\"1\" class=\"dataframe\">\n",
              "  <thead>\n",
              "    <tr style=\"text-align: right;\">\n",
              "      <th></th>\n",
              "      <th>linerate</th>\n",
              "      <th>voltage</th>\n",
              "      <th>temperature</th>\n",
              "      <th>errors</th>\n",
              "      <th>current</th>\n",
              "    </tr>\n",
              "  </thead>\n",
              "  <tbody>\n",
              "    <tr>\n",
              "      <th>0</th>\n",
              "      <td>6.20</td>\n",
              "      <td>3.0</td>\n",
              "      <td>25</td>\n",
              "      <td>12</td>\n",
              "      <td>110</td>\n",
              "    </tr>\n",
              "    <tr>\n",
              "      <th>1</th>\n",
              "      <td>6.25</td>\n",
              "      <td>3.0</td>\n",
              "      <td>25</td>\n",
              "      <td>0</td>\n",
              "      <td>115</td>\n",
              "    </tr>\n",
              "    <tr>\n",
              "      <th>2</th>\n",
              "      <td>6.30</td>\n",
              "      <td>3.0</td>\n",
              "      <td>25</td>\n",
              "      <td>0</td>\n",
              "      <td>122</td>\n",
              "    </tr>\n",
              "    <tr>\n",
              "      <th>3</th>\n",
              "      <td>6.20</td>\n",
              "      <td>3.3</td>\n",
              "      <td>25</td>\n",
              "      <td>3</td>\n",
              "      <td>121</td>\n",
              "    </tr>\n",
              "    <tr>\n",
              "      <th>4</th>\n",
              "      <td>6.25</td>\n",
              "      <td>3.3</td>\n",
              "      <td>25</td>\n",
              "      <td>0</td>\n",
              "      <td>129</td>\n",
              "    </tr>\n",
              "    <tr>\n",
              "      <th>5</th>\n",
              "      <td>6.30</td>\n",
              "      <td>3.3</td>\n",
              "      <td>25</td>\n",
              "      <td>0</td>\n",
              "      <td>136</td>\n",
              "    </tr>\n",
              "    <tr>\n",
              "      <th>6</th>\n",
              "      <td>6.20</td>\n",
              "      <td>3.0</td>\n",
              "      <td>40</td>\n",
              "      <td>234</td>\n",
              "      <td>134</td>\n",
              "    </tr>\n",
              "    <tr>\n",
              "      <th>7</th>\n",
              "      <td>6.25</td>\n",
              "      <td>3.0</td>\n",
              "      <td>40</td>\n",
              "      <td>57</td>\n",
              "      <td>145</td>\n",
              "    </tr>\n",
              "    <tr>\n",
              "      <th>8</th>\n",
              "      <td>6.20</td>\n",
              "      <td>3.3</td>\n",
              "      <td>40</td>\n",
              "      <td>0</td>\n",
              "      <td>142</td>\n",
              "    </tr>\n",
              "    <tr>\n",
              "      <th>9</th>\n",
              "      <td>6.25</td>\n",
              "      <td>3.3</td>\n",
              "      <td>40</td>\n",
              "      <td>0</td>\n",
              "      <td>155</td>\n",
              "    </tr>\n",
              "  </tbody>\n",
              "</table>\n",
              "</div>"
            ],
            "text/plain": [
              "   linerate  voltage  temperature  errors  current\n",
              "0      6.20      3.0           25      12      110\n",
              "1      6.25      3.0           25       0      115\n",
              "2      6.30      3.0           25       0      122\n",
              "3      6.20      3.3           25       3      121\n",
              "4      6.25      3.3           25       0      129\n",
              "5      6.30      3.3           25       0      136\n",
              "6      6.20      3.0           40     234      134\n",
              "7      6.25      3.0           40      57      145\n",
              "8      6.20      3.3           40       0      142\n",
              "9      6.25      3.3           40       0      155"
            ]
          },
          "metadata": {
            "tags": []
          },
          "execution_count": 12
        }
      ]
    },
    {
      "cell_type": "markdown",
      "metadata": {
        "id": "USrHUNCS7W8t",
        "colab_type": "text"
      },
      "source": [
        "## `DataFrame[]`\n",
        "- `DataFrame[col_label]` --> `Series`\n",
        "- `DataFrame[list_of_labels]]` --> `DataFrame`\n"
      ]
    },
    {
      "cell_type": "code",
      "metadata": {
        "id": "XRVBztKj6rT2",
        "colab_type": "code",
        "outputId": "8ab6722b-a3e8-4a4a-edbf-1e7748bef61a",
        "colab": {
          "base_uri": "https://localhost:8080/",
          "height": 345
        }
      },
      "source": [
        "tests[[\"current\"]]"
      ],
      "execution_count": 0,
      "outputs": [
        {
          "output_type": "execute_result",
          "data": {
            "text/html": [
              "<div>\n",
              "<style scoped>\n",
              "    .dataframe tbody tr th:only-of-type {\n",
              "        vertical-align: middle;\n",
              "    }\n",
              "\n",
              "    .dataframe tbody tr th {\n",
              "        vertical-align: top;\n",
              "    }\n",
              "\n",
              "    .dataframe thead th {\n",
              "        text-align: right;\n",
              "    }\n",
              "</style>\n",
              "<table border=\"1\" class=\"dataframe\">\n",
              "  <thead>\n",
              "    <tr style=\"text-align: right;\">\n",
              "      <th></th>\n",
              "      <th>current</th>\n",
              "    </tr>\n",
              "  </thead>\n",
              "  <tbody>\n",
              "    <tr>\n",
              "      <th>0</th>\n",
              "      <td>110</td>\n",
              "    </tr>\n",
              "    <tr>\n",
              "      <th>1</th>\n",
              "      <td>115</td>\n",
              "    </tr>\n",
              "    <tr>\n",
              "      <th>2</th>\n",
              "      <td>122</td>\n",
              "    </tr>\n",
              "    <tr>\n",
              "      <th>3</th>\n",
              "      <td>121</td>\n",
              "    </tr>\n",
              "    <tr>\n",
              "      <th>4</th>\n",
              "      <td>129</td>\n",
              "    </tr>\n",
              "    <tr>\n",
              "      <th>5</th>\n",
              "      <td>136</td>\n",
              "    </tr>\n",
              "    <tr>\n",
              "      <th>6</th>\n",
              "      <td>134</td>\n",
              "    </tr>\n",
              "    <tr>\n",
              "      <th>7</th>\n",
              "      <td>145</td>\n",
              "    </tr>\n",
              "    <tr>\n",
              "      <th>8</th>\n",
              "      <td>142</td>\n",
              "    </tr>\n",
              "    <tr>\n",
              "      <th>9</th>\n",
              "      <td>155</td>\n",
              "    </tr>\n",
              "  </tbody>\n",
              "</table>\n",
              "</div>"
            ],
            "text/plain": [
              "   current\n",
              "0      110\n",
              "1      115\n",
              "2      122\n",
              "3      121\n",
              "4      129\n",
              "5      136\n",
              "6      134\n",
              "7      145\n",
              "8      142\n",
              "9      155"
            ]
          },
          "metadata": {
            "tags": []
          },
          "execution_count": 13
        }
      ]
    },
    {
      "cell_type": "markdown",
      "metadata": {
        "id": "jK3dT__t8C8d",
        "colab_type": "text"
      },
      "source": [
        "## DataFrame.loc[]\n",
        "- Labeled row and columns indexing\n",
        "- Boolean indexing"
      ]
    },
    {
      "cell_type": "code",
      "metadata": {
        "id": "UCrNaOQH6rQ9",
        "colab_type": "code",
        "outputId": "cedc5773-d5d3-48aa-8f90-5707a0d1cbc9",
        "colab": {
          "base_uri": "https://localhost:8080/",
          "height": 137
        }
      },
      "source": [
        "rows = [1,2,3]\n",
        "cols = [\"errors\", \"current\"]\n",
        "tests.loc[rows, cols]"
      ],
      "execution_count": 0,
      "outputs": [
        {
          "output_type": "execute_result",
          "data": {
            "text/html": [
              "<div>\n",
              "<style scoped>\n",
              "    .dataframe tbody tr th:only-of-type {\n",
              "        vertical-align: middle;\n",
              "    }\n",
              "\n",
              "    .dataframe tbody tr th {\n",
              "        vertical-align: top;\n",
              "    }\n",
              "\n",
              "    .dataframe thead th {\n",
              "        text-align: right;\n",
              "    }\n",
              "</style>\n",
              "<table border=\"1\" class=\"dataframe\">\n",
              "  <thead>\n",
              "    <tr style=\"text-align: right;\">\n",
              "      <th></th>\n",
              "      <th>errors</th>\n",
              "      <th>current</th>\n",
              "    </tr>\n",
              "  </thead>\n",
              "  <tbody>\n",
              "    <tr>\n",
              "      <th>1</th>\n",
              "      <td>0</td>\n",
              "      <td>115</td>\n",
              "    </tr>\n",
              "    <tr>\n",
              "      <th>2</th>\n",
              "      <td>0</td>\n",
              "      <td>122</td>\n",
              "    </tr>\n",
              "    <tr>\n",
              "      <th>3</th>\n",
              "      <td>3</td>\n",
              "      <td>121</td>\n",
              "    </tr>\n",
              "  </tbody>\n",
              "</table>\n",
              "</div>"
            ],
            "text/plain": [
              "   errors  current\n",
              "1       0      115\n",
              "2       0      122\n",
              "3       3      121"
            ]
          },
          "metadata": {
            "tags": []
          },
          "execution_count": 14
        }
      ]
    },
    {
      "cell_type": "markdown",
      "metadata": {
        "id": "TC2RM1k58uPj",
        "colab_type": "text"
      },
      "source": [
        "### Boolean indexing\n",
        "Example: Get all rows with `errors > 0`"
      ]
    },
    {
      "cell_type": "code",
      "metadata": {
        "id": "HSuljpsL6rFk",
        "colab_type": "code",
        "outputId": "54e107eb-93eb-46e0-d791-91f25e0e42b6",
        "colab": {
          "base_uri": "https://localhost:8080/",
          "height": 201
        }
      },
      "source": [
        "tests[\"errors\"] > 0"
      ],
      "execution_count": 0,
      "outputs": [
        {
          "output_type": "execute_result",
          "data": {
            "text/plain": [
              "0     True\n",
              "1    False\n",
              "2    False\n",
              "3     True\n",
              "4    False\n",
              "5    False\n",
              "6     True\n",
              "7     True\n",
              "8    False\n",
              "9    False\n",
              "Name: errors, dtype: bool"
            ]
          },
          "metadata": {
            "tags": []
          },
          "execution_count": 15
        }
      ]
    },
    {
      "cell_type": "code",
      "metadata": {
        "id": "FsUfs98a6rCs",
        "colab_type": "code",
        "outputId": "fe037f8d-5493-4445-e985-04145bc139da",
        "colab": {
          "base_uri": "https://localhost:8080/",
          "height": 166
        }
      },
      "source": [
        "tests.loc[tests[\"errors\"] > 0, :]"
      ],
      "execution_count": 0,
      "outputs": [
        {
          "output_type": "execute_result",
          "data": {
            "text/html": [
              "<div>\n",
              "<style scoped>\n",
              "    .dataframe tbody tr th:only-of-type {\n",
              "        vertical-align: middle;\n",
              "    }\n",
              "\n",
              "    .dataframe tbody tr th {\n",
              "        vertical-align: top;\n",
              "    }\n",
              "\n",
              "    .dataframe thead th {\n",
              "        text-align: right;\n",
              "    }\n",
              "</style>\n",
              "<table border=\"1\" class=\"dataframe\">\n",
              "  <thead>\n",
              "    <tr style=\"text-align: right;\">\n",
              "      <th></th>\n",
              "      <th>linerate</th>\n",
              "      <th>voltage</th>\n",
              "      <th>temperature</th>\n",
              "      <th>errors</th>\n",
              "      <th>current</th>\n",
              "    </tr>\n",
              "  </thead>\n",
              "  <tbody>\n",
              "    <tr>\n",
              "      <th>0</th>\n",
              "      <td>6.20</td>\n",
              "      <td>3.0</td>\n",
              "      <td>25</td>\n",
              "      <td>12</td>\n",
              "      <td>110</td>\n",
              "    </tr>\n",
              "    <tr>\n",
              "      <th>3</th>\n",
              "      <td>6.20</td>\n",
              "      <td>3.3</td>\n",
              "      <td>25</td>\n",
              "      <td>3</td>\n",
              "      <td>121</td>\n",
              "    </tr>\n",
              "    <tr>\n",
              "      <th>6</th>\n",
              "      <td>6.20</td>\n",
              "      <td>3.0</td>\n",
              "      <td>40</td>\n",
              "      <td>234</td>\n",
              "      <td>134</td>\n",
              "    </tr>\n",
              "    <tr>\n",
              "      <th>7</th>\n",
              "      <td>6.25</td>\n",
              "      <td>3.0</td>\n",
              "      <td>40</td>\n",
              "      <td>57</td>\n",
              "      <td>145</td>\n",
              "    </tr>\n",
              "  </tbody>\n",
              "</table>\n",
              "</div>"
            ],
            "text/plain": [
              "   linerate  voltage  temperature  errors  current\n",
              "0      6.20      3.0           25      12      110\n",
              "3      6.20      3.3           25       3      121\n",
              "6      6.20      3.0           40     234      134\n",
              "7      6.25      3.0           40      57      145"
            ]
          },
          "metadata": {
            "tags": []
          },
          "execution_count": 16
        }
      ]
    },
    {
      "cell_type": "markdown",
      "metadata": {
        "id": "0et5OI659MiY",
        "colab_type": "text"
      },
      "source": [
        "Very compact and readable code!"
      ]
    },
    {
      "cell_type": "code",
      "metadata": {
        "id": "xDj2jXWL9UP3",
        "colab_type": "code",
        "outputId": "5503b2ae-28fa-4871-cc79-e2bf7ecf9f66",
        "colab": {
          "base_uri": "https://localhost:8080/",
          "height": 201
        }
      },
      "source": [
        "tests[\"errors\"] > 0"
      ],
      "execution_count": 0,
      "outputs": [
        {
          "output_type": "execute_result",
          "data": {
            "text/plain": [
              "0     True\n",
              "1    False\n",
              "2    False\n",
              "3     True\n",
              "4    False\n",
              "5    False\n",
              "6     True\n",
              "7     True\n",
              "8    False\n",
              "9    False\n",
              "Name: errors, dtype: bool"
            ]
          },
          "metadata": {
            "tags": []
          },
          "execution_count": 17
        }
      ]
    },
    {
      "cell_type": "markdown",
      "metadata": {
        "colab_type": "text",
        "id": "0mNnFdkw9YV4"
      },
      "source": [
        "## DataFrame.iloc[]\n",
        "Integer indexing is possible but not recommended for the sake of readability."
      ]
    },
    {
      "cell_type": "code",
      "metadata": {
        "id": "FCPZvu2u9l7f",
        "colab_type": "code",
        "outputId": "17a93b40-8e0d-4025-a0b3-619e48b92216",
        "colab": {
          "base_uri": "https://localhost:8080/",
          "height": 137
        }
      },
      "source": [
        "tests.iloc[:3, 1:-1]"
      ],
      "execution_count": 0,
      "outputs": [
        {
          "output_type": "execute_result",
          "data": {
            "text/html": [
              "<div>\n",
              "<style scoped>\n",
              "    .dataframe tbody tr th:only-of-type {\n",
              "        vertical-align: middle;\n",
              "    }\n",
              "\n",
              "    .dataframe tbody tr th {\n",
              "        vertical-align: top;\n",
              "    }\n",
              "\n",
              "    .dataframe thead th {\n",
              "        text-align: right;\n",
              "    }\n",
              "</style>\n",
              "<table border=\"1\" class=\"dataframe\">\n",
              "  <thead>\n",
              "    <tr style=\"text-align: right;\">\n",
              "      <th></th>\n",
              "      <th>voltage</th>\n",
              "      <th>temperature</th>\n",
              "      <th>errors</th>\n",
              "    </tr>\n",
              "  </thead>\n",
              "  <tbody>\n",
              "    <tr>\n",
              "      <th>0</th>\n",
              "      <td>3.0</td>\n",
              "      <td>25</td>\n",
              "      <td>12</td>\n",
              "    </tr>\n",
              "    <tr>\n",
              "      <th>1</th>\n",
              "      <td>3.0</td>\n",
              "      <td>25</td>\n",
              "      <td>0</td>\n",
              "    </tr>\n",
              "    <tr>\n",
              "      <th>2</th>\n",
              "      <td>3.0</td>\n",
              "      <td>25</td>\n",
              "      <td>0</td>\n",
              "    </tr>\n",
              "  </tbody>\n",
              "</table>\n",
              "</div>"
            ],
            "text/plain": [
              "   voltage  temperature  errors\n",
              "0      3.0           25      12\n",
              "1      3.0           25       0\n",
              "2      3.0           25       0"
            ]
          },
          "metadata": {
            "tags": []
          },
          "execution_count": 18
        }
      ]
    },
    {
      "cell_type": "markdown",
      "metadata": {
        "id": "canr_S9ZlbAu",
        "colab_type": "text"
      },
      "source": [
        "# `plot`"
      ]
    },
    {
      "cell_type": "code",
      "metadata": {
        "id": "Rwx8TU2i-Heo",
        "colab_type": "code",
        "outputId": "367d452d-638d-4d66-d080-fdf2312a7715",
        "colab": {
          "base_uri": "https://localhost:8080/",
          "height": 268
        }
      },
      "source": [
        "tests.plot();"
      ],
      "execution_count": 0,
      "outputs": [
        {
          "output_type": "display_data",
          "data": {
            "image/png": "[encoded data removed]",
            "text/plain": [
              "<Figure size 432x288 with 1 Axes>"
            ]
          },
          "metadata": {
            "tags": [],
            "needs_background": "light"
          }
        }
      ]
    },
    {
      "cell_type": "code",
      "metadata": {
        "id": "lLTKnQKFgIBF",
        "colab_type": "code",
        "outputId": "93125ad0-20fb-4bc3-dd12-bf6225d4687d",
        "colab": {
          "base_uri": "https://localhost:8080/",
          "height": 263
        }
      },
      "source": [
        "tests[[\"current\", \"errors\"]].plot(kind=\"bar\");"
      ],
      "execution_count": 0,
      "outputs": [
        {
          "output_type": "display_data",
          "data": {
            "image/png": "[encoded data removed]",
            "text/plain": [
              "<Figure size 432x288 with 1 Axes>"
            ]
          },
          "metadata": {
            "tags": [],
            "needs_background": "light"
          }
        }
      ]
    },
    {
      "cell_type": "markdown",
      "metadata": {
        "id": "mJbc6nAd8hPz",
        "colab_type": "text"
      },
      "source": [
        "# `pivot_table`"
      ]
    },
    {
      "cell_type": "code",
      "metadata": {
        "id": "3pnDYG7MAxrC",
        "colab_type": "code",
        "outputId": "c603f260-9bb2-4684-f55d-103670c06c3e",
        "colab": {
          "base_uri": "https://localhost:8080/",
          "height": 345
        }
      },
      "source": [
        "tests"
      ],
      "execution_count": 0,
      "outputs": [
        {
          "output_type": "execute_result",
          "data": {
            "text/html": [
              "<div>\n",
              "<style scoped>\n",
              "    .dataframe tbody tr th:only-of-type {\n",
              "        vertical-align: middle;\n",
              "    }\n",
              "\n",
              "    .dataframe tbody tr th {\n",
              "        vertical-align: top;\n",
              "    }\n",
              "\n",
              "    .dataframe thead th {\n",
              "        text-align: right;\n",
              "    }\n",
              "</style>\n",
              "<table border=\"1\" class=\"dataframe\">\n",
              "  <thead>\n",
              "    <tr style=\"text-align: right;\">\n",
              "      <th></th>\n",
              "      <th>linerate</th>\n",
              "      <th>voltage</th>\n",
              "      <th>temperature</th>\n",
              "      <th>errors</th>\n",
              "      <th>current</th>\n",
              "    </tr>\n",
              "  </thead>\n",
              "  <tbody>\n",
              "    <tr>\n",
              "      <th>0</th>\n",
              "      <td>6.20</td>\n",
              "      <td>3.0</td>\n",
              "      <td>25</td>\n",
              "      <td>12</td>\n",
              "      <td>110</td>\n",
              "    </tr>\n",
              "    <tr>\n",
              "      <th>1</th>\n",
              "      <td>6.25</td>\n",
              "      <td>3.0</td>\n",
              "      <td>25</td>\n",
              "      <td>0</td>\n",
              "      <td>115</td>\n",
              "    </tr>\n",
              "    <tr>\n",
              "      <th>2</th>\n",
              "      <td>6.30</td>\n",
              "      <td>3.0</td>\n",
              "      <td>25</td>\n",
              "      <td>0</td>\n",
              "      <td>122</td>\n",
              "    </tr>\n",
              "    <tr>\n",
              "      <th>3</th>\n",
              "      <td>6.20</td>\n",
              "      <td>3.3</td>\n",
              "      <td>25</td>\n",
              "      <td>3</td>\n",
              "      <td>121</td>\n",
              "    </tr>\n",
              "    <tr>\n",
              "      <th>4</th>\n",
              "      <td>6.25</td>\n",
              "      <td>3.3</td>\n",
              "      <td>25</td>\n",
              "      <td>0</td>\n",
              "      <td>129</td>\n",
              "    </tr>\n",
              "    <tr>\n",
              "      <th>5</th>\n",
              "      <td>6.30</td>\n",
              "      <td>3.3</td>\n",
              "      <td>25</td>\n",
              "      <td>0</td>\n",
              "      <td>136</td>\n",
              "    </tr>\n",
              "    <tr>\n",
              "      <th>6</th>\n",
              "      <td>6.20</td>\n",
              "      <td>3.0</td>\n",
              "      <td>40</td>\n",
              "      <td>234</td>\n",
              "      <td>134</td>\n",
              "    </tr>\n",
              "    <tr>\n",
              "      <th>7</th>\n",
              "      <td>6.25</td>\n",
              "      <td>3.0</td>\n",
              "      <td>40</td>\n",
              "      <td>57</td>\n",
              "      <td>145</td>\n",
              "    </tr>\n",
              "    <tr>\n",
              "      <th>8</th>\n",
              "      <td>6.20</td>\n",
              "      <td>3.3</td>\n",
              "      <td>40</td>\n",
              "      <td>0</td>\n",
              "      <td>142</td>\n",
              "    </tr>\n",
              "    <tr>\n",
              "      <th>9</th>\n",
              "      <td>6.25</td>\n",
              "      <td>3.3</td>\n",
              "      <td>40</td>\n",
              "      <td>0</td>\n",
              "      <td>155</td>\n",
              "    </tr>\n",
              "  </tbody>\n",
              "</table>\n",
              "</div>"
            ],
            "text/plain": [
              "   linerate  voltage  temperature  errors  current\n",
              "0      6.20      3.0           25      12      110\n",
              "1      6.25      3.0           25       0      115\n",
              "2      6.30      3.0           25       0      122\n",
              "3      6.20      3.3           25       3      121\n",
              "4      6.25      3.3           25       0      129\n",
              "5      6.30      3.3           25       0      136\n",
              "6      6.20      3.0           40     234      134\n",
              "7      6.25      3.0           40      57      145\n",
              "8      6.20      3.3           40       0      142\n",
              "9      6.25      3.3           40       0      155"
            ]
          },
          "metadata": {
            "tags": []
          },
          "execution_count": 21
        }
      ]
    },
    {
      "cell_type": "code",
      "metadata": {
        "id": "xBiMJsApeBXu",
        "colab_type": "code",
        "outputId": "9dfadec2-bc58-4d4a-cbcb-9547a14c4f1f",
        "colab": {
          "base_uri": "https://localhost:8080/",
          "height": 166
        }
      },
      "source": [
        "tests.pivot_table(index=\"linerate\", columns=\"temperature\", values=\"current\", \n",
        "                  aggfunc=np.mean, fill_value=None)"
      ],
      "execution_count": 0,
      "outputs": [
        {
          "output_type": "execute_result",
          "data": {
            "text/html": [
              "<div>\n",
              "<style scoped>\n",
              "    .dataframe tbody tr th:only-of-type {\n",
              "        vertical-align: middle;\n",
              "    }\n",
              "\n",
              "    .dataframe tbody tr th {\n",
              "        vertical-align: top;\n",
              "    }\n",
              "\n",
              "    .dataframe thead th {\n",
              "        text-align: right;\n",
              "    }\n",
              "</style>\n",
              "<table border=\"1\" class=\"dataframe\">\n",
              "  <thead>\n",
              "    <tr style=\"text-align: right;\">\n",
              "      <th>temperature</th>\n",
              "      <th>25</th>\n",
              "      <th>40</th>\n",
              "    </tr>\n",
              "    <tr>\n",
              "      <th>linerate</th>\n",
              "      <th></th>\n",
              "      <th></th>\n",
              "    </tr>\n",
              "  </thead>\n",
              "  <tbody>\n",
              "    <tr>\n",
              "      <th>6.20</th>\n",
              "      <td>115.5</td>\n",
              "      <td>138.0</td>\n",
              "    </tr>\n",
              "    <tr>\n",
              "      <th>6.25</th>\n",
              "      <td>122.0</td>\n",
              "      <td>150.0</td>\n",
              "    </tr>\n",
              "    <tr>\n",
              "      <th>6.30</th>\n",
              "      <td>129.0</td>\n",
              "      <td>NaN</td>\n",
              "    </tr>\n",
              "  </tbody>\n",
              "</table>\n",
              "</div>"
            ],
            "text/plain": [
              "temperature     25     40\n",
              "linerate                 \n",
              "6.20         115.5  138.0\n",
              "6.25         122.0  150.0\n",
              "6.30         129.0    NaN"
            ]
          },
          "metadata": {
            "tags": []
          },
          "execution_count": 22
        }
      ]
    },
    {
      "cell_type": "code",
      "metadata": {
        "id": "BoWZsHhDPiyp",
        "colab_type": "code",
        "colab": {}
      },
      "source": [
        "def plot_pivot_heatmap(df, columns, index, values):\n",
        "    pt = df.pivot_table(columns=columns, index=index, values=values, aggfunc=np.mean)\n",
        "    plt.figure(figsize=(5, 3))\n",
        "    plt.imshow(pt.values, interpolation='nearest', aspect='auto', cmap=plt.cm.coolwarm)\n",
        "    plt.yticks(range(len(pt.index)), pt.index)\n",
        "    plt.xticks(range(len(pt.columns)), pt.columns)\n",
        "    plt.xlabel(columns), plt.ylabel(index)\n",
        "    plt.colorbar()"
      ],
      "execution_count": 0,
      "outputs": []
    },
    {
      "cell_type": "code",
      "metadata": {
        "id": "pKjheZUTPtT-",
        "colab_type": "code",
        "outputId": "f16a21a3-280e-4124-a1d5-ce72ff5495d7",
        "colab": {
          "base_uri": "https://localhost:8080/",
          "height": 232
        }
      },
      "source": [
        "plot_pivot_heatmap(tests, index=\"voltage\", columns=\"linerate\", values=\"errors\")"
      ],
      "execution_count": 0,
      "outputs": [
        {
          "output_type": "display_data",
          "data": {
            "image/png": "[encoded data removed]",
            "text/plain": [
              "<Figure size 360x216 with 2 Axes>"
            ]
          },
          "metadata": {
            "tags": [],
            "needs_background": "light"
          }
        }
      ]
    },
    {
      "cell_type": "markdown",
      "metadata": {
        "id": "ih8EWA2cIHfN",
        "colab_type": "text"
      },
      "source": [
        "# Options"
      ]
    },
    {
      "cell_type": "markdown",
      "metadata": {
        "id": "5Avqp97GNwaW",
        "colab_type": "text"
      },
      "source": [
        "See [pandas user guide](https://pandas.pydata.org/pandas-docs/stable/user_guide/options.html) for details on options."
      ]
    },
    {
      "cell_type": "markdown",
      "metadata": {
        "id": "NF_RFyg8N_Lg",
        "colab_type": "text"
      },
      "source": [
        "### pd.options.display.precision"
      ]
    },
    {
      "cell_type": "code",
      "metadata": {
        "id": "uOwBUVQgJGG4",
        "colab_type": "code",
        "outputId": "494a6ae3-83bf-468f-e54b-cee60c5c09e6",
        "colab": {
          "base_uri": "https://localhost:8080/",
          "height": 196
        }
      },
      "source": [
        "df = pd.DataFrame(np.random.randn(5, 5))\n",
        "df"
      ],
      "execution_count": 0,
      "outputs": [
        {
          "output_type": "execute_result",
          "data": {
            "text/html": [
              "<div>\n",
              "<style scoped>\n",
              "    .dataframe tbody tr th:only-of-type {\n",
              "        vertical-align: middle;\n",
              "    }\n",
              "\n",
              "    .dataframe tbody tr th {\n",
              "        vertical-align: top;\n",
              "    }\n",
              "\n",
              "    .dataframe thead th {\n",
              "        text-align: right;\n",
              "    }\n",
              "</style>\n",
              "<table border=\"1\" class=\"dataframe\">\n",
              "  <thead>\n",
              "    <tr style=\"text-align: right;\">\n",
              "      <th></th>\n",
              "      <th>0</th>\n",
              "      <th>1</th>\n",
              "      <th>2</th>\n",
              "      <th>3</th>\n",
              "      <th>4</th>\n",
              "    </tr>\n",
              "  </thead>\n",
              "  <tbody>\n",
              "    <tr>\n",
              "      <th>0</th>\n",
              "      <td>1.860389</td>\n",
              "      <td>-0.632998</td>\n",
              "      <td>0.688645</td>\n",
              "      <td>-0.177807</td>\n",
              "      <td>0.927642</td>\n",
              "    </tr>\n",
              "    <tr>\n",
              "      <th>1</th>\n",
              "      <td>-1.146024</td>\n",
              "      <td>-0.778378</td>\n",
              "      <td>-0.223704</td>\n",
              "      <td>-0.409636</td>\n",
              "      <td>0.875583</td>\n",
              "    </tr>\n",
              "    <tr>\n",
              "      <th>2</th>\n",
              "      <td>-0.130928</td>\n",
              "      <td>0.760286</td>\n",
              "      <td>0.892914</td>\n",
              "      <td>0.707338</td>\n",
              "      <td>0.851486</td>\n",
              "    </tr>\n",
              "    <tr>\n",
              "      <th>3</th>\n",
              "      <td>-0.666134</td>\n",
              "      <td>0.162755</td>\n",
              "      <td>1.384121</td>\n",
              "      <td>-0.289616</td>\n",
              "      <td>0.325999</td>\n",
              "    </tr>\n",
              "    <tr>\n",
              "      <th>4</th>\n",
              "      <td>-0.144237</td>\n",
              "      <td>0.000638</td>\n",
              "      <td>-0.239354</td>\n",
              "      <td>-0.327554</td>\n",
              "      <td>0.108613</td>\n",
              "    </tr>\n",
              "  </tbody>\n",
              "</table>\n",
              "</div>"
            ],
            "text/plain": [
              "          0         1         2         3         4\n",
              "0  1.860389 -0.632998  0.688645 -0.177807  0.927642\n",
              "1 -1.146024 -0.778378 -0.223704 -0.409636  0.875583\n",
              "2 -0.130928  0.760286  0.892914  0.707338  0.851486\n",
              "3 -0.666134  0.162755  1.384121 -0.289616  0.325999\n",
              "4 -0.144237  0.000638 -0.239354 -0.327554  0.108613"
            ]
          },
          "metadata": {
            "tags": []
          },
          "execution_count": 28
        }
      ]
    },
    {
      "cell_type": "code",
      "metadata": {
        "id": "g-Wi82dNJG3q",
        "colab_type": "code",
        "outputId": "0a4edc99-f86c-497e-cb5c-a9d52594b58c",
        "colab": {
          "base_uri": "https://localhost:8080/",
          "height": 33
        }
      },
      "source": [
        "pd.options.display.precision"
      ],
      "execution_count": 0,
      "outputs": [
        {
          "output_type": "execute_result",
          "data": {
            "text/plain": [
              "6"
            ]
          },
          "metadata": {
            "tags": []
          },
          "execution_count": 34
        }
      ]
    },
    {
      "cell_type": "code",
      "metadata": {
        "id": "Ik4H1ZSHIeWt",
        "colab_type": "code",
        "colab": {}
      },
      "source": [
        "pd.options.display.precision = 3"
      ],
      "execution_count": 0,
      "outputs": []
    },
    {
      "cell_type": "code",
      "metadata": {
        "id": "0Mzl2dbbJkcg",
        "colab_type": "code",
        "outputId": "c692e662-d104-4bd6-c119-2f7b15d1930a",
        "colab": {
          "base_uri": "https://localhost:8080/",
          "height": 196
        }
      },
      "source": [
        "df"
      ],
      "execution_count": 0,
      "outputs": [
        {
          "output_type": "execute_result",
          "data": {
            "text/html": [
              "<div>\n",
              "<style scoped>\n",
              "    .dataframe tbody tr th:only-of-type {\n",
              "        vertical-align: middle;\n",
              "    }\n",
              "\n",
              "    .dataframe tbody tr th {\n",
              "        vertical-align: top;\n",
              "    }\n",
              "\n",
              "    .dataframe thead th {\n",
              "        text-align: right;\n",
              "    }\n",
              "</style>\n",
              "<table border=\"1\" class=\"dataframe\">\n",
              "  <thead>\n",
              "    <tr style=\"text-align: right;\">\n",
              "      <th></th>\n",
              "      <th>0</th>\n",
              "      <th>1</th>\n",
              "      <th>2</th>\n",
              "      <th>3</th>\n",
              "      <th>4</th>\n",
              "    </tr>\n",
              "  </thead>\n",
              "  <tbody>\n",
              "    <tr>\n",
              "      <th>0</th>\n",
              "      <td>1.860</td>\n",
              "      <td>-6.330e-01</td>\n",
              "      <td>0.689</td>\n",
              "      <td>-0.178</td>\n",
              "      <td>0.928</td>\n",
              "    </tr>\n",
              "    <tr>\n",
              "      <th>1</th>\n",
              "      <td>-1.146</td>\n",
              "      <td>-7.784e-01</td>\n",
              "      <td>-0.224</td>\n",
              "      <td>-0.410</td>\n",
              "      <td>0.876</td>\n",
              "    </tr>\n",
              "    <tr>\n",
              "      <th>2</th>\n",
              "      <td>-0.131</td>\n",
              "      <td>7.603e-01</td>\n",
              "      <td>0.893</td>\n",
              "      <td>0.707</td>\n",
              "      <td>0.851</td>\n",
              "    </tr>\n",
              "    <tr>\n",
              "      <th>3</th>\n",
              "      <td>-0.666</td>\n",
              "      <td>1.628e-01</td>\n",
              "      <td>1.384</td>\n",
              "      <td>-0.290</td>\n",
              "      <td>0.326</td>\n",
              "    </tr>\n",
              "    <tr>\n",
              "      <th>4</th>\n",
              "      <td>-0.144</td>\n",
              "      <td>6.380e-04</td>\n",
              "      <td>-0.239</td>\n",
              "      <td>-0.328</td>\n",
              "      <td>0.109</td>\n",
              "    </tr>\n",
              "  </tbody>\n",
              "</table>\n",
              "</div>"
            ],
            "text/plain": [
              "       0          1      2      3      4\n",
              "0  1.860 -6.330e-01  0.689 -0.178  0.928\n",
              "1 -1.146 -7.784e-01 -0.224 -0.410  0.876\n",
              "2 -0.131  7.603e-01  0.893  0.707  0.851\n",
              "3 -0.666  1.628e-01  1.384 -0.290  0.326\n",
              "4 -0.144  6.380e-04 -0.239 -0.328  0.109"
            ]
          },
          "metadata": {
            "tags": []
          },
          "execution_count": 36
        }
      ]
    },
    {
      "cell_type": "code",
      "metadata": {
        "id": "R7yI3icwKCkl",
        "colab_type": "code",
        "outputId": "d8417d10-f351-449b-c151-b60a864d3f1a",
        "colab": {
          "base_uri": "https://localhost:8080/",
          "height": 33
        }
      },
      "source": [
        "pd.options.display.precision"
      ],
      "execution_count": 0,
      "outputs": [
        {
          "output_type": "execute_result",
          "data": {
            "text/plain": [
              "3"
            ]
          },
          "metadata": {
            "tags": []
          },
          "execution_count": 37
        }
      ]
    },
    {
      "cell_type": "markdown",
      "metadata": {
        "id": "5-XgXTRXOJJ8",
        "colab_type": "text"
      },
      "source": [
        "### pd.reset_option(\"all\")"
      ]
    },
    {
      "cell_type": "code",
      "metadata": {
        "id": "aiBxX0I5Jkzu",
        "colab_type": "code",
        "outputId": "33dc9685-8007-46f4-884f-ffb6ea790af7",
        "colab": {
          "base_uri": "https://localhost:8080/",
          "height": 201
        }
      },
      "source": [
        "pd.reset_option(\"all\")"
      ],
      "execution_count": 0,
      "outputs": [
        {
          "output_type": "stream",
          "text": [
            "\n",
            ": boolean\n",
            "    use_inf_as_null had been deprecated and will be removed in a future\n",
            "    version. Use `use_inf_as_na` instead.\n",
            "\n"
          ],
          "name": "stdout"
        },
        {
          "output_type": "stream",
          "text": [
            "/usr/local/lib/python3.6/dist-packages/pandas/_config/config.py:620: FutureWarning: \n",
            ": boolean\n",
            "    use_inf_as_null had been deprecated and will be removed in a future\n",
            "    version. Use `use_inf_as_na` instead.\n",
            "\n",
            "  warnings.warn(d.msg, FutureWarning)\n"
          ],
          "name": "stderr"
        }
      ]
    },
    {
      "cell_type": "code",
      "metadata": {
        "id": "2rKU9IW8KDWa",
        "colab_type": "code",
        "outputId": "f33570c3-061f-4f11-fe5b-69c7858018c2",
        "colab": {
          "base_uri": "https://localhost:8080/",
          "height": 33
        }
      },
      "source": [
        "pd.options.display.precision"
      ],
      "execution_count": 0,
      "outputs": [
        {
          "output_type": "execute_result",
          "data": {
            "text/plain": [
              "6"
            ]
          },
          "metadata": {
            "tags": []
          },
          "execution_count": 39
        }
      ]
    },
    {
      "cell_type": "markdown",
      "metadata": {
        "id": "a_XvCu27OQKP",
        "colab_type": "text"
      },
      "source": [
        "### pd.options.display.float_format"
      ]
    },
    {
      "cell_type": "code",
      "metadata": {
        "id": "cmXUxhZ_Kvi3",
        "colab_type": "code",
        "outputId": "bfa6884d-d75b-4279-e78e-d6dd3c02e9b5",
        "colab": {
          "base_uri": "https://localhost:8080/",
          "height": 33
        }
      },
      "source": [
        "pd.options.display.float_format is None"
      ],
      "execution_count": 0,
      "outputs": [
        {
          "output_type": "execute_result",
          "data": {
            "text/plain": [
              "True"
            ]
          },
          "metadata": {
            "tags": []
          },
          "execution_count": 47
        }
      ]
    },
    {
      "cell_type": "code",
      "metadata": {
        "id": "EaMI5YR2LM_M",
        "colab_type": "code",
        "outputId": "d6a41a10-32f6-468d-b82a-cb67d2790fba",
        "colab": {
          "base_uri": "https://localhost:8080/",
          "height": 196
        }
      },
      "source": [
        "df"
      ],
      "execution_count": 0,
      "outputs": [
        {
          "output_type": "execute_result",
          "data": {
            "text/html": [
              "<div>\n",
              "<style scoped>\n",
              "    .dataframe tbody tr th:only-of-type {\n",
              "        vertical-align: middle;\n",
              "    }\n",
              "\n",
              "    .dataframe tbody tr th {\n",
              "        vertical-align: top;\n",
              "    }\n",
              "\n",
              "    .dataframe thead th {\n",
              "        text-align: right;\n",
              "    }\n",
              "</style>\n",
              "<table border=\"1\" class=\"dataframe\">\n",
              "  <thead>\n",
              "    <tr style=\"text-align: right;\">\n",
              "      <th></th>\n",
              "      <th>0</th>\n",
              "      <th>1</th>\n",
              "      <th>2</th>\n",
              "      <th>3</th>\n",
              "      <th>4</th>\n",
              "    </tr>\n",
              "  </thead>\n",
              "  <tbody>\n",
              "    <tr>\n",
              "      <th>0</th>\n",
              "      <td>1.860389</td>\n",
              "      <td>-0.632998</td>\n",
              "      <td>0.688645</td>\n",
              "      <td>-0.177807</td>\n",
              "      <td>0.927642</td>\n",
              "    </tr>\n",
              "    <tr>\n",
              "      <th>1</th>\n",
              "      <td>-1.146024</td>\n",
              "      <td>-0.778378</td>\n",
              "      <td>-0.223704</td>\n",
              "      <td>-0.409636</td>\n",
              "      <td>0.875583</td>\n",
              "    </tr>\n",
              "    <tr>\n",
              "      <th>2</th>\n",
              "      <td>-0.130928</td>\n",
              "      <td>0.760286</td>\n",
              "      <td>0.892914</td>\n",
              "      <td>0.707338</td>\n",
              "      <td>0.851486</td>\n",
              "    </tr>\n",
              "    <tr>\n",
              "      <th>3</th>\n",
              "      <td>-0.666134</td>\n",
              "      <td>0.162755</td>\n",
              "      <td>1.384121</td>\n",
              "      <td>-0.289616</td>\n",
              "      <td>0.325999</td>\n",
              "    </tr>\n",
              "    <tr>\n",
              "      <th>4</th>\n",
              "      <td>-0.144237</td>\n",
              "      <td>0.000638</td>\n",
              "      <td>-0.239354</td>\n",
              "      <td>-0.327554</td>\n",
              "      <td>0.108613</td>\n",
              "    </tr>\n",
              "  </tbody>\n",
              "</table>\n",
              "</div>"
            ],
            "text/plain": [
              "          0         1         2         3         4\n",
              "0  1.860389 -0.632998  0.688645 -0.177807  0.927642\n",
              "1 -1.146024 -0.778378 -0.223704 -0.409636  0.875583\n",
              "2 -0.130928  0.760286  0.892914  0.707338  0.851486\n",
              "3 -0.666134  0.162755  1.384121 -0.289616  0.325999\n",
              "4 -0.144237  0.000638 -0.239354 -0.327554  0.108613"
            ]
          },
          "metadata": {
            "tags": []
          },
          "execution_count": 48
        }
      ]
    },
    {
      "cell_type": "code",
      "metadata": {
        "id": "7IRUMWftKrXZ",
        "colab_type": "code",
        "colab": {}
      },
      "source": [
        "pd.options.display.float_format = '{:,.2f}'.format"
      ],
      "execution_count": 0,
      "outputs": []
    },
    {
      "cell_type": "code",
      "metadata": {
        "id": "TusfmXgCLDBN",
        "colab_type": "code",
        "outputId": "10dba264-0c87-49fa-f5d5-0fe3dd7cb418",
        "colab": {
          "base_uri": "https://localhost:8080/",
          "height": 196
        }
      },
      "source": [
        "df"
      ],
      "execution_count": 0,
      "outputs": [
        {
          "output_type": "execute_result",
          "data": {
            "text/html": [
              "<div>\n",
              "<style scoped>\n",
              "    .dataframe tbody tr th:only-of-type {\n",
              "        vertical-align: middle;\n",
              "    }\n",
              "\n",
              "    .dataframe tbody tr th {\n",
              "        vertical-align: top;\n",
              "    }\n",
              "\n",
              "    .dataframe thead th {\n",
              "        text-align: right;\n",
              "    }\n",
              "</style>\n",
              "<table border=\"1\" class=\"dataframe\">\n",
              "  <thead>\n",
              "    <tr style=\"text-align: right;\">\n",
              "      <th></th>\n",
              "      <th>0</th>\n",
              "      <th>1</th>\n",
              "      <th>2</th>\n",
              "      <th>3</th>\n",
              "      <th>4</th>\n",
              "    </tr>\n",
              "  </thead>\n",
              "  <tbody>\n",
              "    <tr>\n",
              "      <th>0</th>\n",
              "      <td>1.86</td>\n",
              "      <td>-0.63</td>\n",
              "      <td>0.69</td>\n",
              "      <td>-0.18</td>\n",
              "      <td>0.93</td>\n",
              "    </tr>\n",
              "    <tr>\n",
              "      <th>1</th>\n",
              "      <td>-1.15</td>\n",
              "      <td>-0.78</td>\n",
              "      <td>-0.22</td>\n",
              "      <td>-0.41</td>\n",
              "      <td>0.88</td>\n",
              "    </tr>\n",
              "    <tr>\n",
              "      <th>2</th>\n",
              "      <td>-0.13</td>\n",
              "      <td>0.76</td>\n",
              "      <td>0.89</td>\n",
              "      <td>0.71</td>\n",
              "      <td>0.85</td>\n",
              "    </tr>\n",
              "    <tr>\n",
              "      <th>3</th>\n",
              "      <td>-0.67</td>\n",
              "      <td>0.16</td>\n",
              "      <td>1.38</td>\n",
              "      <td>-0.29</td>\n",
              "      <td>0.33</td>\n",
              "    </tr>\n",
              "    <tr>\n",
              "      <th>4</th>\n",
              "      <td>-0.14</td>\n",
              "      <td>0.00</td>\n",
              "      <td>-0.24</td>\n",
              "      <td>-0.33</td>\n",
              "      <td>0.11</td>\n",
              "    </tr>\n",
              "  </tbody>\n",
              "</table>\n",
              "</div>"
            ],
            "text/plain": [
              "      0     1     2     3    4\n",
              "0  1.86 -0.63  0.69 -0.18 0.93\n",
              "1 -1.15 -0.78 -0.22 -0.41 0.88\n",
              "2 -0.13  0.76  0.89  0.71 0.85\n",
              "3 -0.67  0.16  1.38 -0.29 0.33\n",
              "4 -0.14  0.00 -0.24 -0.33 0.11"
            ]
          },
          "metadata": {
            "tags": []
          },
          "execution_count": 50
        }
      ]
    },
    {
      "cell_type": "code",
      "metadata": {
        "id": "iwclXUdFLOvV",
        "colab_type": "code",
        "outputId": "475b88cd-062c-4a8a-ccc3-117bddb7bb79",
        "colab": {
          "base_uri": "https://localhost:8080/",
          "height": 196
        }
      },
      "source": [
        "pd.options.display.float_format = None\n",
        "df"
      ],
      "execution_count": 0,
      "outputs": [
        {
          "output_type": "execute_result",
          "data": {
            "text/html": [
              "<div>\n",
              "<style scoped>\n",
              "    .dataframe tbody tr th:only-of-type {\n",
              "        vertical-align: middle;\n",
              "    }\n",
              "\n",
              "    .dataframe tbody tr th {\n",
              "        vertical-align: top;\n",
              "    }\n",
              "\n",
              "    .dataframe thead th {\n",
              "        text-align: right;\n",
              "    }\n",
              "</style>\n",
              "<table border=\"1\" class=\"dataframe\">\n",
              "  <thead>\n",
              "    <tr style=\"text-align: right;\">\n",
              "      <th></th>\n",
              "      <th>0</th>\n",
              "      <th>1</th>\n",
              "      <th>2</th>\n",
              "      <th>3</th>\n",
              "      <th>4</th>\n",
              "    </tr>\n",
              "  </thead>\n",
              "  <tbody>\n",
              "    <tr>\n",
              "      <th>0</th>\n",
              "      <td>1.860389</td>\n",
              "      <td>-0.632998</td>\n",
              "      <td>0.688645</td>\n",
              "      <td>-0.177807</td>\n",
              "      <td>0.927642</td>\n",
              "    </tr>\n",
              "    <tr>\n",
              "      <th>1</th>\n",
              "      <td>-1.146024</td>\n",
              "      <td>-0.778378</td>\n",
              "      <td>-0.223704</td>\n",
              "      <td>-0.409636</td>\n",
              "      <td>0.875583</td>\n",
              "    </tr>\n",
              "    <tr>\n",
              "      <th>2</th>\n",
              "      <td>-0.130928</td>\n",
              "      <td>0.760286</td>\n",
              "      <td>0.892914</td>\n",
              "      <td>0.707338</td>\n",
              "      <td>0.851486</td>\n",
              "    </tr>\n",
              "    <tr>\n",
              "      <th>3</th>\n",
              "      <td>-0.666134</td>\n",
              "      <td>0.162755</td>\n",
              "      <td>1.384121</td>\n",
              "      <td>-0.289616</td>\n",
              "      <td>0.325999</td>\n",
              "    </tr>\n",
              "    <tr>\n",
              "      <th>4</th>\n",
              "      <td>-0.144237</td>\n",
              "      <td>0.000638</td>\n",
              "      <td>-0.239354</td>\n",
              "      <td>-0.327554</td>\n",
              "      <td>0.108613</td>\n",
              "    </tr>\n",
              "  </tbody>\n",
              "</table>\n",
              "</div>"
            ],
            "text/plain": [
              "          0         1         2         3         4\n",
              "0  1.860389 -0.632998  0.688645 -0.177807  0.927642\n",
              "1 -1.146024 -0.778378 -0.223704 -0.409636  0.875583\n",
              "2 -0.130928  0.760286  0.892914  0.707338  0.851486\n",
              "3 -0.666134  0.162755  1.384121 -0.289616  0.325999\n",
              "4 -0.144237  0.000638 -0.239354 -0.327554  0.108613"
            ]
          },
          "metadata": {
            "tags": []
          },
          "execution_count": 51
        }
      ]
    },
    {
      "cell_type": "code",
      "metadata": {
        "id": "y4NX2C1NMfJ4",
        "colab_type": "code",
        "outputId": "c44c2d72-8569-4672-8a3d-8ee07c2bb61b",
        "colab": {
          "base_uri": "https://localhost:8080/",
          "height": 217
        }
      },
      "source": [
        "with pd.option_context('display.float_format', '{:,.2f}'.format):\n",
        "    print(df)\n",
        "print(df)"
      ],
      "execution_count": 0,
      "outputs": [
        {
          "output_type": "stream",
          "text": [
            "      0     1     2     3    4\n",
            "0  1.86 -0.63  0.69 -0.18 0.93\n",
            "1 -1.15 -0.78 -0.22 -0.41 0.88\n",
            "2 -0.13  0.76  0.89  0.71 0.85\n",
            "3 -0.67  0.16  1.38 -0.29 0.33\n",
            "4 -0.14  0.00 -0.24 -0.33 0.11\n",
            "          0         1         2         3         4\n",
            "0  1.860389 -0.632998  0.688645 -0.177807  0.927642\n",
            "1 -1.146024 -0.778378 -0.223704 -0.409636  0.875583\n",
            "2 -0.130928  0.760286  0.892914  0.707338  0.851486\n",
            "3 -0.666134  0.162755  1.384121 -0.289616  0.325999\n",
            "4 -0.144237  0.000638 -0.239354 -0.327554  0.108613\n"
          ],
          "name": "stdout"
        }
      ]
    },
    {
      "cell_type": "code",
      "metadata": {
        "id": "DNtomLT1NTJp",
        "colab_type": "code",
        "colab": {}
      },
      "source": [
        ""
      ],
      "execution_count": 0,
      "outputs": []
    }
  ]
}