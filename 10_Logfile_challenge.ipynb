{
  "nbformat": 4,
  "nbformat_minor": 0,
  "metadata": {
    "colab": {
      "name": "10_Logfile_challenge.ipynb",
      "provenance": [],
      "collapsed_sections": [],
      "toc_visible": true,
      "authorship_tag": "ABX9TyPYdewsk+VUn4bajl/Kcbm6",
      "include_colab_link": true
    },
    "kernelspec": {
      "name": "python3",
      "display_name": "Python 3"
    }
  },
  "cells": [
    {
      "cell_type": "markdown",
      "metadata": {
        "id": "view-in-github",
        "colab_type": "text"
      },
      "source": [
        "<a href=\"https://colab.research.google.com/github/munich-ml/MLPy2021/blob/main/10_Logfile_challenge.ipynb\" target=\"_parent\"><img src=\"https://colab.research.google.com/assets/colab-badge.svg\" alt=\"Open In Colab\"/></a>"
      ]
    },
    {
      "cell_type": "markdown",
      "metadata": {
        "id": "827kwTxX0tuc"
      },
      "source": [
        "# Logfile challenge"
      ]
    },
    {
      "cell_type": "markdown",
      "metadata": {
        "id": "z12MmBNm4fXJ"
      },
      "source": [
        "## setup"
      ]
    },
    {
      "cell_type": "markdown",
      "metadata": {
        "id": "Wu8QLzNa0zNJ"
      },
      "source": [
        "This following code block prepares the coding challenge:\n",
        "1. clone GitHub project `MLPy2021`\n",
        "1. import and execute `create_csv` helper function\n",
        "1. open file `logfile.csv` and store content into variable `s`\n"
      ]
    },
    {
      "cell_type": "code",
      "metadata": {
        "id": "7qFfDsKHO1DP"
      },
      "source": [
        "import os\n",
        "\n",
        "# Get munich-ml repo from GitHub\n",
        "if \"MLPy2020\" in os.listdir():\n",
        "    !git -C MLPy2020 pull\n",
        "else:\n",
        "    !git clone https://github.com/munich-ml/MLPy2020/\n",
        "\n",
        "path = os.path.join(\"MLPy2020\", \"datasets\", \"logfile.csv\")\n",
        "\n",
        "with open(path, \"r\") as file:\n",
        "    s = file.read()"
      ],
      "execution_count": null,
      "outputs": []
    },
    {
      "cell_type": "markdown",
      "metadata": {
        "id": "EGavNzl77n-k"
      },
      "source": [
        "## The task"
      ]
    },
    {
      "cell_type": "markdown",
      "metadata": {
        "id": "TusQeM0e4XxB"
      },
      "source": [
        "After executing the setup, the variable `s` should be available, holding the content of a logfile.\n",
        "\n",
        "The task is to **parse the logfile content**."
      ]
    },
    {
      "cell_type": "code",
      "metadata": {
        "id": "ECAVYUQq8uRJ"
      },
      "source": [
        "print(s)"
      ],
      "execution_count": null,
      "outputs": []
    },
    {
      "cell_type": "markdown",
      "metadata": {
        "id": "_p1udZjA5I1d"
      },
      "source": [
        "# Python built-in functions"
      ]
    },
    {
      "cell_type": "markdown",
      "metadata": {
        "id": "_cHzailz5OlM"
      },
      "source": [
        "The Python interpreter has a couple of functions build-in. They are available without any preparation. \n",
        "\n",
        "Complete list of built-in funcitons: https://docs.python.org/3/library/functions.html\n",
        "\n",
        "Some prominent examples:\n",
        "- `print`\n",
        "- `type`\n",
        "- `min`\n",
        "- `len`\n",
        "\n",
        "\n"
      ]
    },
    {
      "cell_type": "code",
      "metadata": {
        "id": "OSN93Gpq60fR"
      },
      "source": [
        "type(s)"
      ],
      "execution_count": null,
      "outputs": []
    },
    {
      "cell_type": "markdown",
      "metadata": {
        "id": "4bN5FJOE_MUJ"
      },
      "source": [
        "... the datatype of the variable `s` is `str`, string. "
      ]
    },
    {
      "cell_type": "code",
      "metadata": {
        "id": "t8O6X4in5Nr3"
      },
      "source": [
        "len(s)"
      ],
      "execution_count": null,
      "outputs": []
    },
    {
      "cell_type": "code",
      "metadata": {
        "id": "a-rgU3OF5IEv"
      },
      "source": [
        "min(s)"
      ],
      "execution_count": null,
      "outputs": []
    },
    {
      "cell_type": "markdown",
      "metadata": {
        "id": "BUEorZ5D_e7b"
      },
      "source": [
        "`min` returns the smallest item of a collection. Maybe not very helpful for an `str` type object."
      ]
    },
    {
      "cell_type": "markdown",
      "metadata": {
        "id": "ZZHIKzriAGze"
      },
      "source": [
        "# `str` object"
      ]
    },
    {
      "cell_type": "markdown",
      "metadata": {
        "id": "r9ldCe1HAT7X"
      },
      "source": [
        "## Slicing"
      ]
    },
    {
      "cell_type": "markdown",
      "metadata": {
        "id": "hTz7aaq_auI2"
      },
      "source": [
        "Single characters of the string can be accessed using their index in brakets `[index]`:\n",
        "\n",
        "\n"
      ]
    },
    {
      "cell_type": "code",
      "metadata": {
        "id": "Lpy-XJLtATil"
      },
      "source": [
        "s[0]"
      ],
      "execution_count": null,
      "outputs": []
    },
    {
      "cell_type": "markdown",
      "metadata": {
        "id": "heHXnab424ID"
      },
      "source": [
        ""
      ]
    },
    {
      "cell_type": "code",
      "metadata": {
        "id": "HjB5wBgOAoVv"
      },
      "source": [
        "s[-1]"
      ],
      "execution_count": null,
      "outputs": []
    },
    {
      "cell_type": "markdown",
      "metadata": {
        "id": "yVIbnsk8eHQf"
      },
      "source": [
        "Ranges can also be indexed by `[start_index : end_index]`.\n",
        "The `start_index` is included, the `end_index` not!"
      ]
    },
    {
      "cell_type": "code",
      "metadata": {
        "id": "4OT50QEGRQD0"
      },
      "source": [
        "s[10:60]"
      ],
      "execution_count": null,
      "outputs": []
    },
    {
      "cell_type": "code",
      "metadata": {
        "id": "BW1BtJMyA5Wr"
      },
      "source": [
        "first_line = s[:26]\n",
        "first_line"
      ],
      "execution_count": null,
      "outputs": []
    },
    {
      "cell_type": "markdown",
      "metadata": {
        "id": "CTcC8LX_Bbxq"
      },
      "source": [
        "## `str` methods"
      ]
    },
    {
      "cell_type": "markdown",
      "metadata": {
        "id": "gscHyb6KBj1c"
      },
      "source": [
        "The `str` object not only contains **data**, it also contains **functions**, called **methods**."
      ]
    },
    {
      "cell_type": "code",
      "metadata": {
        "id": "Fmou7hfNBUO6"
      },
      "source": [
        "first_line.upper()"
      ],
      "execution_count": null,
      "outputs": []
    },
    {
      "cell_type": "code",
      "metadata": {
        "id": "NWM52R7aCHLC"
      },
      "source": [
        "first_line"
      ],
      "execution_count": null,
      "outputs": []
    },
    {
      "cell_type": "code",
      "metadata": {
        "id": "Ot1zqJO5CM_P"
      },
      "source": [
        "first_line = first_line.upper()"
      ],
      "execution_count": null,
      "outputs": []
    },
    {
      "cell_type": "code",
      "metadata": {
        "id": "szyWMP8JCMuU"
      },
      "source": [
        "first_line"
      ],
      "execution_count": null,
      "outputs": []
    },
    {
      "cell_type": "markdown",
      "metadata": {
        "id": "Yhtj3-U8Cai0"
      },
      "source": [
        "`split` method"
      ]
    },
    {
      "cell_type": "code",
      "metadata": {
        "id": "Iq-YzE9ZCfZN"
      },
      "source": [
        "first_line.split(\" \")"
      ],
      "execution_count": null,
      "outputs": []
    },
    {
      "cell_type": "markdown",
      "metadata": {
        "id": "erSbgTtqCxjd"
      },
      "source": [
        "Split the logfile content `s` on the *new line character* `\\n`"
      ]
    },
    {
      "cell_type": "code",
      "metadata": {
        "id": "oCvAZiqURg40"
      },
      "source": [
        "lines = s.split(\"\\n\")\n",
        "lines"
      ],
      "execution_count": null,
      "outputs": []
    },
    {
      "cell_type": "markdown",
      "metadata": {
        "id": "9TfP4cZ7DC3H"
      },
      "source": [
        "# `list` object"
      ]
    },
    {
      "cell_type": "code",
      "metadata": {
        "id": "VxUVI99aEBLM"
      },
      "source": [
        "type(lines)"
      ],
      "execution_count": null,
      "outputs": []
    },
    {
      "cell_type": "code",
      "metadata": {
        "id": "66rfa2YsED5J"
      },
      "source": [
        "len(lines)"
      ],
      "execution_count": null,
      "outputs": []
    },
    {
      "cell_type": "code",
      "metadata": {
        "id": "1acpzNKTSVfq"
      },
      "source": [
        "lines[0]"
      ],
      "execution_count": null,
      "outputs": []
    },
    {
      "cell_type": "markdown",
      "metadata": {
        "id": "wbKKAYGwEk4g"
      },
      "source": [
        "... this seems better than counting the first lines's characters and slicing the string manually!"
      ]
    },
    {
      "cell_type": "markdown",
      "metadata": {
        "id": "NgvoX1N4FI0A"
      },
      "source": [
        "`list` objects also support slicing:"
      ]
    },
    {
      "cell_type": "code",
      "metadata": {
        "id": "s5FxVd5zSqxD"
      },
      "source": [
        "lines[2:8]"
      ],
      "execution_count": null,
      "outputs": []
    },
    {
      "cell_type": "code",
      "metadata": {
        "id": "oWUC9TcGSufO"
      },
      "source": [
        "lines[8:]"
      ],
      "execution_count": null,
      "outputs": []
    },
    {
      "cell_type": "markdown",
      "metadata": {
        "id": "oqvnf_kEHnOT"
      },
      "source": [
        "# `for` loops"
      ]
    },
    {
      "cell_type": "markdown",
      "metadata": {
        "id": "mpffp9oM6pZ1"
      },
      "source": [
        "The next step in the *logfile challenge* requires looping. \n",
        "\n",
        "- **`for`, `in`** are keywords in Python, as well as\n",
        "- **`while`**,\n",
        "- and of course there are more keywords: [all Python keywords](https://docs.python.org/3/reference/lexical_analysis.html#keywords)\n",
        "\n",
        "For a *C-style* `for` loop such as:\n",
        "\n",
        ">`lines[0]`\n",
        ">\n",
        ">`lines[1]`\n",
        ">\n",
        ">`...`\n",
        "\n",
        "we need an index variable. \n"
      ]
    },
    {
      "cell_type": "code",
      "metadata": {
        "id": "dkxQjc0yIB2N"
      },
      "source": [
        "for i in range(3):\n",
        "    print(i)"
      ],
      "execution_count": null,
      "outputs": []
    },
    {
      "cell_type": "code",
      "metadata": {
        "id": "vreuesYvTKl5"
      },
      "source": [
        "for i in range(len(lines)):\n",
        "    line = lines[i]\n",
        "    \n",
        "    if line == \"header\":\n",
        "        print(\"'\" + line + \"' found!\")"
      ],
      "execution_count": null,
      "outputs": []
    },
    {
      "cell_type": "markdown",
      "metadata": {
        "id": "aLwcfUp4__Gg"
      },
      "source": [
        "### `list` objects are iterable\n",
        "\n",
        "Iterable objects can be looped without using an index!"
      ]
    },
    {
      "cell_type": "code",
      "metadata": {
        "id": "zLycOgVnT8W2"
      },
      "source": [
        "iter(lines)"
      ],
      "execution_count": null,
      "outputs": []
    },
    {
      "cell_type": "code",
      "metadata": {
        "id": "eRZQSTEdT_Sp"
      },
      "source": [
        "for line in lines:\n",
        "    \n",
        "    if line == \"header\":\n",
        "        print(\"'\" + line + \"' found!\")"
      ],
      "execution_count": null,
      "outputs": []
    },
    {
      "cell_type": "markdown",
      "metadata": {
        "id": "HlH8JtKcAiCb"
      },
      "source": [
        "Search for multiple keys, simultaniously:"
      ]
    },
    {
      "cell_type": "code",
      "metadata": {
        "id": "AZF7nYmBU54p"
      },
      "source": [
        "keys = ['measurements', \"header\"]"
      ],
      "execution_count": null,
      "outputs": []
    },
    {
      "cell_type": "code",
      "metadata": {
        "id": "z2iqeNOhVA-S"
      },
      "source": [
        "\"0815\" in keys"
      ],
      "execution_count": null,
      "outputs": []
    },
    {
      "cell_type": "code",
      "metadata": {
        "id": "abAh01oBVJ6j"
      },
      "source": [
        "\"header\" in keys"
      ],
      "execution_count": null,
      "outputs": []
    },
    {
      "cell_type": "code",
      "metadata": {
        "id": "f_Og10MyVPnz"
      },
      "source": [
        "for line in lines:\n",
        "    if line in keys:\n",
        "        print(\"'\" + line + \"' found!\")   "
      ],
      "execution_count": null,
      "outputs": []
    },
    {
      "cell_type": "markdown",
      "metadata": {
        "id": "RAowUwFjVh4y"
      },
      "source": [
        "## `enumerate` operator"
      ]
    },
    {
      "cell_type": "markdown",
      "metadata": {
        "id": "MoNenA8sVovq"
      },
      "source": [
        "if an index is required, use `enumerate`"
      ]
    },
    {
      "cell_type": "code",
      "metadata": {
        "id": "_CNBZdIgVxym"
      },
      "source": [
        "bag_of_words = [\"Hello\", \"Team\", \"Python\"]\n",
        "\n",
        "for item in bag_of_words:\n",
        "    print(item)\n",
        "\n",
        "print(50*\"-\")\n",
        "\n",
        "for item in enumerate(bag_of_words):\n",
        "    print(item)"
      ],
      "execution_count": null,
      "outputs": []
    },
    {
      "cell_type": "code",
      "metadata": {
        "id": "rfJG0kbUJZYk"
      },
      "source": [
        "item"
      ],
      "execution_count": null,
      "outputs": []
    },
    {
      "cell_type": "code",
      "metadata": {
        "id": "sz4JJEh5V3Py"
      },
      "source": [
        "type(item)"
      ],
      "execution_count": null,
      "outputs": []
    },
    {
      "cell_type": "markdown",
      "metadata": {
        "id": "u3b-YxDrB5AA"
      },
      "source": [
        "**Tuples** are basic Python containers and similar to **lists**"
      ]
    },
    {
      "cell_type": "code",
      "metadata": {
        "id": "1ZFJrJpiWAqZ"
      },
      "source": [
        "i, value = item\n",
        "value"
      ],
      "execution_count": null,
      "outputs": []
    },
    {
      "cell_type": "code",
      "metadata": {
        "id": "p5Na0B1SWH8c"
      },
      "source": [
        "for lineNo, line in enumerate(lines):\n",
        "    if line in keys:\n",
        "        print(\"'\" + line + \"' found in line no. \" + str(lineNo))   "
      ],
      "execution_count": null,
      "outputs": []
    },
    {
      "cell_type": "markdown",
      "metadata": {
        "id": "1ybRI1GHKJKP"
      },
      "source": [
        "Better using the `str.format()` method"
      ]
    },
    {
      "cell_type": "code",
      "metadata": {
        "id": "HBTj95CKWk94"
      },
      "source": [
        "\"'{}' fount in line no. {}\".format(\"world\", 1)"
      ],
      "execution_count": null,
      "outputs": []
    },
    {
      "cell_type": "code",
      "metadata": {
        "id": "Gmd7EywcW7wk"
      },
      "source": [
        "for lineNo, line in enumerate(lines):\n",
        "    if line in keys:\n",
        "        print(\"'{}' fount in line no. {}\".format(line, lineNo))   "
      ],
      "execution_count": null,
      "outputs": []
    },
    {
      "cell_type": "code",
      "metadata": {
        "id": "N5e3O4-lXjDk"
      },
      "source": [
        "lines"
      ],
      "execution_count": null,
      "outputs": []
    },
    {
      "cell_type": "markdown",
      "metadata": {
        "id": "2sPjqImpX1mw"
      },
      "source": [
        "# Dictionary `dict`"
      ]
    },
    {
      "cell_type": "code",
      "metadata": {
        "id": "aQwpUGeiXwWO"
      },
      "source": [
        "idxs = dict()"
      ],
      "execution_count": null,
      "outputs": []
    },
    {
      "cell_type": "code",
      "metadata": {
        "id": "1xAuSr2TYApw"
      },
      "source": [
        "type(idxs)"
      ],
      "execution_count": null,
      "outputs": []
    },
    {
      "cell_type": "code",
      "metadata": {
        "id": "hxvV9yCBXjjM"
      },
      "source": [
        "for lineNo, line in enumerate(lines):\n",
        "    if line in keys:\n",
        "        idxs[line] = lineNo "
      ],
      "execution_count": null,
      "outputs": []
    },
    {
      "cell_type": "code",
      "metadata": {
        "id": "5o803dolYgpN"
      },
      "source": [
        "idxs"
      ],
      "execution_count": null,
      "outputs": []
    },
    {
      "cell_type": "code",
      "metadata": {
        "id": "245fvpLvs_hq"
      },
      "source": [
        "idxs[\"measurements\"]"
      ],
      "execution_count": null,
      "outputs": []
    },
    {
      "cell_type": "markdown",
      "metadata": {
        "id": "UlB0VJzZLMF4"
      },
      "source": [
        "Adding more items to the dictionary"
      ]
    },
    {
      "cell_type": "code",
      "metadata": {
        "id": "3QzvwUoctIuq"
      },
      "source": [
        "idxs[\"names\"] = idxs[\"measurements\"] + 1\n",
        "idxs"
      ],
      "execution_count": null,
      "outputs": []
    },
    {
      "cell_type": "code",
      "metadata": {
        "id": "tZuVfPDxtWjT"
      },
      "source": [
        "idxs[\"params_begin\"] = idxs[\"header\"] + 1\n",
        "idxs[\"params_end\"] = idxs[\"measurements\"] - 1\n",
        "idxs[\"data\"] = idxs[\"names\"] + 1"
      ],
      "execution_count": null,
      "outputs": []
    },
    {
      "cell_type": "code",
      "metadata": {
        "id": "AfNHwKeEuCWZ"
      },
      "source": [
        "idxs"
      ],
      "execution_count": null,
      "outputs": []
    },
    {
      "cell_type": "code",
      "metadata": {
        "id": "3MpPSYJjuD6h"
      },
      "source": [
        "idxs.keys()"
      ],
      "execution_count": null,
      "outputs": []
    },
    {
      "cell_type": "code",
      "metadata": {
        "id": "EOuJULK1ucE_"
      },
      "source": [
        "idxs.values()"
      ],
      "execution_count": null,
      "outputs": []
    },
    {
      "cell_type": "code",
      "metadata": {
        "id": "A2ppWaekuf65"
      },
      "source": [
        "idxs.items()"
      ],
      "execution_count": null,
      "outputs": []
    },
    {
      "cell_type": "code",
      "metadata": {
        "id": "ubghcG37uh06"
      },
      "source": [
        "item = next(iter(idxs.items()))\n",
        "item"
      ],
      "execution_count": null,
      "outputs": []
    },
    {
      "cell_type": "code",
      "metadata": {
        "id": "9Y_kdPM_u6NZ"
      },
      "source": [
        "type(item)"
      ],
      "execution_count": null,
      "outputs": []
    },
    {
      "cell_type": "code",
      "metadata": {
        "id": "qX3QR3Qtvnbd"
      },
      "source": [
        "for x in idxs.keys():\n",
        "    print(type(x), x)"
      ],
      "execution_count": null,
      "outputs": []
    },
    {
      "cell_type": "code",
      "metadata": {
        "id": "UoeZBQqovnMV"
      },
      "source": [
        "for x in idxs.values():\n",
        "    print(type(x), x)"
      ],
      "execution_count": null,
      "outputs": []
    },
    {
      "cell_type": "code",
      "metadata": {
        "id": "PogfuJ2OuuP4"
      },
      "source": [
        "for x in idxs.items():\n",
        "    print(type(x), x)"
      ],
      "execution_count": null,
      "outputs": []
    },
    {
      "cell_type": "markdown",
      "metadata": {
        "id": "6DtLWLA-vxET"
      },
      "source": [
        "The common way to loop over `dict` `items` is by **unpacking**:"
      ]
    },
    {
      "cell_type": "code",
      "metadata": {
        "id": "iFQyk2QMvSeH"
      },
      "source": [
        "for key, value in idxs.items():\n",
        "    print(\"key:{}, value:{}\".format(key, value))"
      ],
      "execution_count": null,
      "outputs": []
    },
    {
      "cell_type": "markdown",
      "metadata": {
        "id": "Q-JmY8k2DYFu"
      },
      "source": [
        "# Table of Python containers\n",
        "|Python container|list|tuple|set|dictionary|\n",
        "|---|---|---|---|---|\n",
        "|creation|`li = [1, 1, \"Hi!\"]`|`tup = (1, 1, \"Hi!\")`|`se = set([1, 1, \"Hi!\"])`|`d = {\"Musk\":\"Elon\", \"Bezos\":\"Jeff\"}`|\n",
        "|print return|`[1, 1, 'Hi!']`|`(1, 1, 'Hi!')`|`{1, 'Hi!'}`|`{'Musk': 'Elon', 'Bezos': 'Jeff'}`|\n",
        "|mutablility|mutable|**immutable**|mutable|mutable|\n",
        "|slicing|yes, `li[0]` --> `1`|no slicing|yes, `li[0]` --> `1`|no slicing|\n",
        "|primary usage|basic container with<br>`append()` method|use if data doesn't<br>change|- set operations: `union`, `diff`,<br>- get unique values|lookup table|\n",
        "\n"
      ]
    },
    {
      "cell_type": "code",
      "metadata": {
        "id": "J0lzinPUAkXw"
      },
      "source": [
        "all_char = set(s)\n",
        "all_char"
      ],
      "execution_count": null,
      "outputs": []
    },
    {
      "cell_type": "code",
      "metadata": {
        "id": "ocHl8aVqAxga"
      },
      "source": [
        "FORBIDDEN_CHARS = \"LMNXYZ\""
      ],
      "execution_count": null,
      "outputs": []
    },
    {
      "cell_type": "code",
      "metadata": {
        "id": "WNcHwv_UAxdS"
      },
      "source": [
        "all_char.intersection(set(FORBIDDEN_CHARS))"
      ],
      "execution_count": null,
      "outputs": []
    },
    {
      "cell_type": "code",
      "metadata": {
        "id": "55UeOxrKAkUZ"
      },
      "source": [
        ""
      ],
      "execution_count": null,
      "outputs": []
    },
    {
      "cell_type": "markdown",
      "metadata": {
        "id": "MGbfJcp8wR_x"
      },
      "source": [
        "# Return to the 'Logfile challenge'"
      ]
    },
    {
      "cell_type": "code",
      "metadata": {
        "id": "B70_ARG3wOI2"
      },
      "source": [
        "lines"
      ],
      "execution_count": null,
      "outputs": []
    },
    {
      "cell_type": "code",
      "metadata": {
        "id": "P0ljC3WgwYn-"
      },
      "source": [
        "idxs"
      ],
      "execution_count": null,
      "outputs": []
    },
    {
      "cell_type": "markdown",
      "metadata": {
        "id": "DvZbf2gNwdKP"
      },
      "source": [
        "Now we can **slice** the `lines` to more handy variables:"
      ]
    },
    {
      "cell_type": "code",
      "metadata": {
        "id": "PZl-SmxywZ6H"
      },
      "source": [
        "params_lines = lines[idxs[\"params_begin\"] : idxs[\"params_end\"]]\n",
        "params_lines"
      ],
      "execution_count": null,
      "outputs": []
    },
    {
      "cell_type": "code",
      "metadata": {
        "id": "D6GTgeE8xMuX"
      },
      "source": [
        "data_lines = lines[idxs[\"data\"] :]\n",
        "data_lines"
      ],
      "execution_count": null,
      "outputs": []
    },
    {
      "cell_type": "markdown",
      "metadata": {
        "id": "XQggzXG9xjkm"
      },
      "source": [
        "Finally, let's slice the `names` line:"
      ]
    },
    {
      "cell_type": "code",
      "metadata": {
        "id": "jqO0aTrQwo08"
      },
      "source": [
        "lines[idxs[\"names\"]]"
      ],
      "execution_count": null,
      "outputs": []
    },
    {
      "cell_type": "markdown",
      "metadata": {
        "id": "8zNlT9JYxswQ"
      },
      "source": [
        "We can create a `names` `list` directy by splitting on ','"
      ]
    },
    {
      "cell_type": "code",
      "metadata": {
        "id": "CLdoJ06nxEkZ"
      },
      "source": [
        "names = lines[idxs[\"names\"]].split(\",\")\n",
        "names"
      ],
      "execution_count": null,
      "outputs": []
    },
    {
      "cell_type": "code",
      "metadata": {
        "id": "GrthEryKx7Ye"
      },
      "source": [
        "params_lines"
      ],
      "execution_count": null,
      "outputs": []
    },
    {
      "cell_type": "markdown",
      "metadata": {
        "id": "GAYlkbEwyJLI"
      },
      "source": [
        "Storing the parameters is another perfect application for a dictionary"
      ]
    },
    {
      "cell_type": "code",
      "metadata": {
        "id": "wavV8ncEyGks"
      },
      "source": [
        "params = dict()\n",
        "for line in params_lines:\n",
        "    key, value = line.split(\",\")\n",
        "    params[key] = value\n",
        "params"
      ],
      "execution_count": null,
      "outputs": []
    },
    {
      "cell_type": "markdown",
      "metadata": {
        "id": "JAzxRLq_3jrn"
      },
      "source": [
        "perfect!\n",
        "\n",
        "... see how readable the code get's in the following:"
      ]
    },
    {
      "cell_type": "code",
      "metadata": {
        "id": "VBbl1BR8Ny-V"
      },
      "source": [
        "params[\"measurement date\"]"
      ],
      "execution_count": null,
      "outputs": []
    },
    {
      "cell_type": "markdown",
      "metadata": {
        "id": "a8XkLilGN9bn"
      },
      "source": [
        "There is yet one imperfection of the `params` dictionary: The `type` of all `values` is `str`. \n",
        "\n",
        "We will work on that later, after parsing the data."
      ]
    },
    {
      "cell_type": "code",
      "metadata": {
        "id": "450eZoU-1Ds8"
      },
      "source": [
        "data_lines"
      ],
      "execution_count": null,
      "outputs": []
    },
    {
      "cell_type": "code",
      "metadata": {
        "id": "qSEiSuet4Dmx"
      },
      "source": [
        "names"
      ],
      "execution_count": null,
      "outputs": []
    },
    {
      "cell_type": "code",
      "metadata": {
        "id": "GNl6Ue8z4LRE"
      },
      "source": [
        "data_lines[0].split(\",\")"
      ],
      "execution_count": null,
      "outputs": []
    },
    {
      "cell_type": "markdown",
      "metadata": {
        "id": "ebTUEROM6RD2"
      },
      "source": [
        "## Functions"
      ]
    },
    {
      "cell_type": "markdown",
      "metadata": {
        "id": "mBDAw97P6V8H"
      },
      "source": [
        "A function is needs that:\n",
        "- takes a `str` input\n",
        "- converts the `str` to a `float`\n",
        "- removes `Ohms` text\n",
        "- removes `mOhms` text and divides the value by 1000\n",
        "\n",
        "Before programming the actual functionality, it is good practivce to write the test bench first:\n"
      ]
    },
    {
      "cell_type": "code",
      "metadata": {
        "id": "hUHIKsks7Mxg"
      },
      "source": [
        "test_vector = data_lines[0].split(\",\")    # reuse the first data line as test vector\n",
        "test_vector[-1] = \"100 mOhms\"             # replace the last item, so there is a 'mOhms' item\n",
        "test_vector"
      ],
      "execution_count": null,
      "outputs": []
    },
    {
      "cell_type": "code",
      "metadata": {
        "id": "h06PHeGn5vBh"
      },
      "source": [
        "def string_to_float(s):\n",
        "    return s + \" processed by 'string_to_float'\"\n",
        "\n",
        "for item in test_vector:\n",
        "    result = string_to_float(item)\n",
        "    print(type(result), result)"
      ],
      "execution_count": null,
      "outputs": []
    },
    {
      "cell_type": "markdown",
      "metadata": {
        "id": "4lqgh-KyHKMQ"
      },
      "source": [
        ""
      ]
    },
    {
      "cell_type": "markdown",
      "metadata": {
        "id": "NW8C-G3478hr"
      },
      "source": [
        "How to convert a `str` to a `float`?"
      ]
    },
    {
      "cell_type": "code",
      "metadata": {
        "id": "fYCZLCZx70Tm"
      },
      "source": [
        "float(\"3.33\")"
      ],
      "execution_count": null,
      "outputs": []
    },
    {
      "cell_type": "code",
      "metadata": {
        "id": "mAd0r5D38MPe"
      },
      "source": [
        "float(\"3.33 \")"
      ],
      "execution_count": null,
      "outputs": []
    },
    {
      "cell_type": "code",
      "metadata": {
        "id": "8hYwhmFL8QyZ"
      },
      "source": [
        "#float(\"3.33 Ohms\")"
      ],
      "execution_count": null,
      "outputs": []
    },
    {
      "cell_type": "markdown",
      "metadata": {
        "id": "3empzlmm8udj"
      },
      "source": [
        "Remove the \"Ohms\" first"
      ]
    },
    {
      "cell_type": "code",
      "metadata": {
        "id": "UGFUbvdp8U0M"
      },
      "source": [
        "for item in test_vector:\n",
        "    print(item, \"Ohms\" in item)"
      ],
      "execution_count": null,
      "outputs": []
    },
    {
      "cell_type": "markdown",
      "metadata": {
        "id": "iB1-yTTvQEt_"
      },
      "source": [
        "... that would work.\n",
        "\n",
        "However, using the `str` methon `find` has the advantage of providing the **index** where it was found."
      ]
    },
    {
      "cell_type": "code",
      "metadata": {
        "id": "I3LNRT-19Bwr"
      },
      "source": [
        "for item in test_vector:\n",
        "    print(item, item.find(\"Ohms\"))"
      ],
      "execution_count": null,
      "outputs": []
    },
    {
      "cell_type": "code",
      "metadata": {
        "id": "7RtcGJsf9Sdq"
      },
      "source": [
        "for item in test_vector:\n",
        "    idx = item.find(\"Ohms\")\n",
        "    if idx > 0:\n",
        "        prefix = item[idx-1]\n",
        "        mults = {\" \": 1, \"m\": 0.001}\n",
        "        print(item, mults[prefix])\n",
        "    else:\n",
        "        print(item)"
      ],
      "execution_count": null,
      "outputs": []
    },
    {
      "cell_type": "markdown",
      "metadata": {
        "id": "4yBwcj5EQ5gb"
      },
      "source": [
        "... almost done!\n",
        "\n",
        "Just to the *type casting* on the item and apply `mults`:"
      ]
    },
    {
      "cell_type": "code",
      "metadata": {
        "id": "hugf4UGzQrYl"
      },
      "source": [
        "def string_to_float(s):\n",
        "    idx = s.find(\"Ohms\")\n",
        "    if idx > 0:\n",
        "        number = s.split(\" \")[0]\n",
        "        prefix = s[idx-1]\n",
        "        return float(number) * {\" \": 1, \"m\": 0.001}[prefix]\n",
        "\n",
        "    return float(s)"
      ],
      "execution_count": null,
      "outputs": []
    },
    {
      "cell_type": "code",
      "metadata": {
        "id": "-n_C8yUQRjP4"
      },
      "source": [
        "test_vector"
      ],
      "execution_count": null,
      "outputs": []
    },
    {
      "cell_type": "code",
      "metadata": {
        "id": "iYsa656IRhXr"
      },
      "source": [
        "for item in test_vector:\n",
        "    result = string_to_float(item)\n",
        "    print(type(result), result)"
      ],
      "execution_count": null,
      "outputs": []
    },
    {
      "cell_type": "markdown",
      "metadata": {
        "id": "_-TsKKbA_CWj"
      },
      "source": [
        "Great, the function `string_to_float` works!\n",
        "\n",
        "Let's use it for parsing the data:"
      ]
    },
    {
      "cell_type": "code",
      "metadata": {
        "id": "18nUE0KkSfrh"
      },
      "source": [
        "data_lines"
      ],
      "execution_count": null,
      "outputs": []
    },
    {
      "cell_type": "markdown",
      "metadata": {
        "id": "x4640E3-_T3e"
      },
      "source": [
        "The data is 2-dimensional: \n",
        "- 4 values per sample / row\n",
        "- N rows\n",
        "\n",
        "One potential solution for this application is a list of lists:"
      ]
    },
    {
      "cell_type": "code",
      "metadata": {
        "id": "xpmK8yNS_S0W"
      },
      "source": [
        "data = list()\n",
        "\n",
        "for data_line in data_lines:\n",
        "    row = list()\n",
        "    for item in data_line.split(\",\"):\n",
        "        row.append(string_to_float(item))\n",
        "    data.append(row)\n",
        "\n",
        "data"
      ],
      "execution_count": null,
      "outputs": []
    },
    {
      "cell_type": "markdown",
      "metadata": {
        "id": "qzvU3bGKEdTc"
      },
      "source": [
        "**Status** on the logfile challenge. We got:\n",
        "- `data` in a list of lists (N x 4)\n",
        "- `names` list with column names\n",
        "- `params` parameter dictionary"
      ]
    },
    {
      "cell_type": "code",
      "metadata": {
        "id": "dStQT4z2D2tp"
      },
      "source": [
        "names"
      ],
      "execution_count": null,
      "outputs": []
    },
    {
      "cell_type": "code",
      "metadata": {
        "id": "8fOV5m7CD3z-"
      },
      "source": [
        "params"
      ],
      "execution_count": null,
      "outputs": []
    },
    {
      "cell_type": "markdown",
      "metadata": {
        "id": "x5beVw0O2Ka7"
      },
      "source": [
        "# Complete `parse_logfile_string` function"
      ]
    },
    {
      "cell_type": "markdown",
      "metadata": {
        "id": "V1LtpkIKGAmK"
      },
      "source": [
        "Let's summarize the functionality we got so far, into a function `parse_logfile_string` that:\n",
        "- takes the logfile string `s` as input and\n",
        "- returns `params`, `names` and `data`"
      ]
    },
    {
      "cell_type": "code",
      "metadata": {
        "id": "l0_yrdsCD5v4"
      },
      "source": [
        "def parse_logfile_string(s):\n",
        "    # split the input string on \"\\n\" new line\n",
        "    lines = s.split(\"\\n\")\n",
        "\n",
        "    # create a look-up table of sections and line numbers\n",
        "    idxs = dict()\n",
        "    for lineNo, line in enumerate(lines):\n",
        "        if line in ['measurements', \"header\"]:\n",
        "            idxs[line] = lineNo \n",
        "    idxs[\"names\"] = idxs[\"measurements\"] + 1\n",
        "    idxs[\"params_begin\"] = idxs[\"header\"] + 1\n",
        "    idxs[\"params_end\"] = idxs[\"measurements\"] - 1\n",
        "    idxs[\"data\"] = idxs[\"names\"] + 1\n",
        "\n",
        "    # parse the column \n",
        "    names = lines[idxs[\"names\"]].split(\",\")\n",
        "\n",
        "    # parse the params_lines list(str) into params dict{param: value}\n",
        "    params = dict()\n",
        "    for line in lines[idxs[\"params_begin\"] : idxs[\"params_end\"]]:\n",
        "        key, value = line.split(\",\")\n",
        "        params[key] = value\n",
        "\n",
        "    # converts str to float incl. \"Ohms\" removal\n",
        "    def string_to_float(s):\n",
        "        idx = s.find(\"Ohms\")\n",
        "        if idx > 0:\n",
        "            number = s.split(\" \")[0]\n",
        "            prefix = s[idx-1]\n",
        "            return float(number) * {\" \": 1, \"m\": 0.001}[prefix]\n",
        "        return float(s)\n",
        "\n",
        "    # parse data_lines list(str) into data list(list(floats))\n",
        "    data = list()\n",
        "    for data_line in lines[idxs[\"data\"] :]:\n",
        "        row = list()\n",
        "        for item in data_line.split(\",\"):\n",
        "            row.append(string_to_float(item))\n",
        "        data.append(row)\n",
        "\n",
        "    return {\"params\": params, \"names\": names, \"data\":data}"
      ],
      "execution_count": null,
      "outputs": []
    },
    {
      "cell_type": "code",
      "metadata": {
        "id": "ZEVZCuaTKvfn"
      },
      "source": [
        "log = parse_logfile_string(s)\n",
        "log"
      ],
      "execution_count": null,
      "outputs": []
    },
    {
      "cell_type": "code",
      "metadata": {
        "id": "Y_g23RwrmVBY"
      },
      "source": [
        "log.keys()"
      ],
      "execution_count": null,
      "outputs": []
    },
    {
      "cell_type": "markdown",
      "metadata": {
        "id": "34gQJ7YFmP5P"
      },
      "source": [
        "done!\n",
        "\n",
        "We successfully created a **function** `parse_logfile_string(s)` that parses the input text string `s` and returns a `dict` with \n",
        "- the header parameters `params`, \n",
        "- the actual data `data`,\n",
        "- the data column names `names` "
      ]
    },
    {
      "cell_type": "markdown",
      "metadata": {
        "id": "YZEpKAzdnW6k"
      },
      "source": [
        "# Limitations of Python basic containers"
      ]
    },
    {
      "cell_type": "markdown",
      "metadata": {
        "id": "8eYv_6x9oCzj"
      },
      "source": [
        "The Python general purpose container `list` worked great for reading and appending items from file. However, for further mathematical processing it's non-ideal, as we will see,..."
      ]
    },
    {
      "cell_type": "markdown",
      "metadata": {
        "id": "r5LywYlan6ET"
      },
      "source": [
        "## Apply calibration factors"
      ]
    },
    {
      "cell_type": "markdown",
      "metadata": {
        "id": "c4z_qmXHoDTA"
      },
      "source": [
        "The task:\n",
        "- search the `params` for `calibration factor sig?` keys\n",
        "- multiply all column values of `sig?` with the respective `calibration factor`\n"
      ]
    },
    {
      "cell_type": "code",
      "metadata": {
        "id": "hWro944AKxyB"
      },
      "source": [
        "log = parse_logfile_string(s)\n",
        "params = log[\"params\"]\n",
        "data = log[\"data\"]\n",
        "names = log[\"names\"]"
      ],
      "execution_count": null,
      "outputs": []
    },
    {
      "cell_type": "code",
      "metadata": {
        "id": "cmSqBSSDkxqn"
      },
      "source": [
        "for param, cal_factor in params.items():\n",
        "    if \"calibration factor\" in param:\n",
        "        sig = param.split(\" \")[-1]\n",
        "        print(\"Signal={}, cal_factor={}\".format(sig, cal_factor))"
      ],
      "execution_count": null,
      "outputs": []
    },
    {
      "cell_type": "markdown",
      "metadata": {
        "id": "BUpemlqqrSNU"
      },
      "source": [
        "Next step is to index the data: Get all rows of a specific column..."
      ]
    },
    {
      "cell_type": "code",
      "metadata": {
        "id": "_UNkeB4ptUvZ"
      },
      "source": [
        "names"
      ],
      "execution_count": null,
      "outputs": []
    },
    {
      "cell_type": "code",
      "metadata": {
        "id": "jmLb18LrtAN9"
      },
      "source": [
        "names.index(\"sig0\")"
      ],
      "execution_count": null,
      "outputs": []
    },
    {
      "cell_type": "code",
      "metadata": {
        "id": "usrGOJSXtW5w"
      },
      "source": [
        "for param, cal_factor in params.items():\n",
        "    if \"calibration factor\" in param:\n",
        "        sig = param.split(\" \")[-1]\n",
        "        col_index = names.index(sig)\n",
        "        print(\"Signal={}, col_index={}, cal_factor={}\".format(sig, col_index, cal_factor))"
      ],
      "execution_count": null,
      "outputs": []
    },
    {
      "cell_type": "markdown",
      "metadata": {
        "id": "BNCEgULauC02"
      },
      "source": [
        "Next, we need to index all rows of the col_index..."
      ]
    },
    {
      "cell_type": "code",
      "metadata": {
        "id": "z47ge9F6re5x"
      },
      "source": [
        "data[0]"
      ],
      "execution_count": null,
      "outputs": []
    },
    {
      "cell_type": "code",
      "metadata": {
        "id": "pjkyUOnurCol"
      },
      "source": [
        "data[0][col_index]"
      ],
      "execution_count": null,
      "outputs": []
    },
    {
      "cell_type": "markdown",
      "metadata": {
        "id": "uHMtSMkluXmP"
      },
      "source": [
        "The `list[rows][cols]` can't be sliced in `cols` first!\n",
        "\n",
        "As a solution, we can iterate over the rows and access the `col_index` within each row:"
      ]
    },
    {
      "cell_type": "code",
      "metadata": {
        "id": "WRP5twlFstKd"
      },
      "source": [
        "for data_row in data:\n",
        "    val = data_row[col_index]\n",
        "    print(val)"
      ],
      "execution_count": null,
      "outputs": []
    },
    {
      "cell_type": "markdown",
      "metadata": {
        "id": "LKw6lVpivG7q"
      },
      "source": [
        "Put it all together:\n"
      ]
    },
    {
      "cell_type": "code",
      "metadata": {
        "id": "9NirTuDLwxLu"
      },
      "source": [
        "data[:3]"
      ],
      "execution_count": null,
      "outputs": []
    },
    {
      "cell_type": "code",
      "metadata": {
        "id": "MsqnaTbDu-0d"
      },
      "source": [
        "for param, cal_factor in params.items():\n",
        "    if \"calibration factor\" in param:\n",
        "        sig = param.split(\" \")[-1]\n",
        "        col_index = names.index(sig)\n",
        "\n",
        "        for data_row in data:\n",
        "            data_row[col_index] *= float(cal_factor)"
      ],
      "execution_count": null,
      "outputs": []
    },
    {
      "cell_type": "code",
      "metadata": {
        "id": "ZHfSv1rGwMlP"
      },
      "source": [
        "data[:3]"
      ],
      "execution_count": null,
      "outputs": []
    },
    {
      "cell_type": "markdown",
      "metadata": {
        "id": "_5R_HkgJxNvB"
      },
      "source": [
        "This worked, **BUT**\n",
        "\n",
        "it would be much more convenient and readable to have something like \n",
        "\n",
        "`data[:, col_index] *= cal_factor`\n",
        "\n",
        "What we want is **arbitrary indexing** and **element-wise operations**!\n",
        "\n",
        "\n",
        "\n"
      ]
    },
    {
      "cell_type": "markdown",
      "metadata": {
        "id": "1Cfi5HWmz6lA"
      },
      "source": [
        "Maybe we even want **labeled indexing** like\n",
        "\n",
        "`data[:, sig] *= cal_factor`"
      ]
    },
    {
      "cell_type": "markdown",
      "metadata": {
        "id": "hCnKHAO20SDM"
      },
      "source": [
        "## Array slicing for visualization"
      ]
    },
    {
      "cell_type": "markdown",
      "metadata": {
        "id": "VdOlQ2F_z-pT"
      },
      "source": [
        "Another common usage is **arbitrary array slicing** for data visualization (e.g. using `matplotlib`)\n"
      ]
    },
    {
      "cell_type": "code",
      "metadata": {
        "id": "zbq3kjcSymLH"
      },
      "source": [
        "names"
      ],
      "execution_count": null,
      "outputs": []
    },
    {
      "cell_type": "code",
      "metadata": {
        "id": "UQ8DJZvWxmlI"
      },
      "source": [
        "x, y = list(), list()\n",
        "for data_row in data:\n",
        "    x.append(data_row[names.index(\"x\")])\n",
        "    y.append(data_row[names.index(\"sig0\")])"
      ],
      "execution_count": null,
      "outputs": []
    },
    {
      "cell_type": "code",
      "metadata": {
        "id": "MXOSEVRJw1hT"
      },
      "source": [
        "import matplotlib.pyplot as plt\n",
        "plt.plot(x, y, \"o\");"
      ],
      "execution_count": null,
      "outputs": []
    }
  ]
}
