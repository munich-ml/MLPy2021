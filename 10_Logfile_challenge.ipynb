{
  "nbformat": 4,
  "nbformat_minor": 0,
  "metadata": {
    "colab": {
      "name": "10_Logfile_challenge.ipynb",
      "provenance": [],
      "collapsed_sections": [],
      "toc_visible": true,
      "authorship_tag": "ABX9TyNY2Gzjhbrc8JL0s8g58vca",
      "include_colab_link": true
    },
    "kernelspec": {
      "name": "python3",
      "display_name": "Python 3",
      "language": "python"
    }
  },
  "cells": [
    {
      "cell_type": "markdown",
      "metadata": {
        "id": "view-in-github",
        "colab_type": "text"
      },
      "source": [
        "<a href=\"https://colab.research.google.com/github/munich-ml/MLPy2021/blob/main/10_Logfile_challenge.ipynb\" target=\"_parent\"><img src=\"https://colab.research.google.com/assets/colab-badge.svg\" alt=\"Open In Colab\"/></a>"
      ]
    },
    {
      "cell_type": "markdown",
      "metadata": {
        "id": "827kwTxX0tuc"
      },
      "source": [
        "# Logfile challenge"
      ]
    },
    {
      "cell_type": "markdown",
      "metadata": {
        "id": "z12MmBNm4fXJ"
      },
      "source": [
        "## setup"
      ]
    },
    {
      "cell_type": "markdown",
      "metadata": {
        "id": "Wu8QLzNa0zNJ"
      },
      "source": [
        "This section prepares the coding challenge.\n",
        "\n",
        "**Step 1**: Clone GitHub project `MLPy2021`\n"
      ]
    },
    {
      "cell_type": "code",
      "metadata": {
        "id": "wiHUdxnGnNcO"
      },
      "source": [
        "import os, sys"
      ],
      "execution_count": 1,
      "outputs": []
    },
    {
      "cell_type": "code",
      "metadata": {
        "id": "7qFfDsKHO1DP",
        "colab": {
          "base_uri": "https://localhost:8080/"
        },
        "outputId": "f88985d5-8fd0-4464-e13d-0e3a02bdccf0"
      },
      "source": [
        "in_colab = 'google.colab' in sys.modules\n",
        "\n",
        "if in_colab:\n",
        "    print(\"executing in Google Colab\")\n",
        "\n",
        "    # Get munich-ml repo from GitHub\n",
        "    if \"MLPy2021\" in os.listdir():\n",
        "        !git -C MLPy2021 pull\n",
        "    else:\n",
        "        !git clone https://github.com/munich-ml/MLPy2021/\n",
        "    \n",
        "    filename = os.path.join(\"MLPy2021\", \"datasets\", \"logfile.csv\")\n",
        "\n",
        "else:\n",
        "    print(\"executing in Jupyter\")\n",
        "    filename = os.path.join(\"datasets\", \"logfile.csv\")"
      ],
      "execution_count": 2,
      "outputs": [
        {
          "output_type": "stream",
          "name": "stdout",
          "text": [
            "executing in Jupyter\n"
          ]
        }
      ]
    },
    {
      "cell_type": "markdown",
      "metadata": {
        "id": "mJSxBFxXGo_i"
      },
      "source": [
        "**Step 2**: Open file `logfile.csv` and store content into variable `s`"
      ]
    },
    {
      "cell_type": "code",
      "metadata": {
        "id": "nofRyeDYGorq"
      },
      "source": [
        "with open(filename, \"r\") as file:\n",
        "    s = file.read()"
      ],
      "execution_count": 3,
      "outputs": []
    },
    {
      "cell_type": "markdown",
      "metadata": {
        "id": "EGavNzl77n-k"
      },
      "source": [
        "## The task"
      ]
    },
    {
      "cell_type": "markdown",
      "metadata": {
        "id": "TusQeM0e4XxB"
      },
      "source": [
        "After executing the setup, the variable `s` should be available, holding the content of the logfile.\n",
        "\n",
        "The task is to **parse the logfile content**."
      ]
    },
    {
      "cell_type": "code",
      "metadata": {
        "id": "ECAVYUQq8uRJ",
        "colab": {
          "base_uri": "https://localhost:8080/"
        },
        "outputId": "18d0d3ab-9464-45dd-e6bb-7fd390e28d30"
      },
      "source": [
        "print(s)"
      ],
      "execution_count": 4,
      "outputs": [
        {
          "output_type": "stream",
          "name": "stdout",
          "text": [
            "MLPy logfile challenge\n\nheader\nmeasurement date,2021-04-06\nmeasurement time,08:00:00\ncalibration factor sig0,0.55\ncalibration factor sig2,1.88\n\nmeasurements\nx,sig0,sig1,sig2\n5.17,6.40 Ohms,16.05 Ohms,10.61 Ohms\n9.47,34.21 Ohms,5.95 Ohms,293 mOhms\n7.65,21.11 Ohms,366 mOhms,4.80 Ohms\n2.82,36.06 Ohms,16.03 Ohms,6.39 Ohms\n2.21,30.50 Ohms,11.65 Ohms,4.36 Ohms\n6.86,6.92 Ohms,3.73 Ohms,7.39 Ohms\n1.67,21.43 Ohms,7.45 Ohms,2.67 Ohms\n3.92,28.49 Ohms,19.98 Ohms,9.47 Ohms\n6.18,324 mOhms,8.59 Ohms,9.24 Ohms\n4.12,25.24 Ohms,19.96 Ohms,9.84 Ohms\n0.02,6 mOhms,2 mOhms,1 mOhms\n8.84,36.11 Ohms,2.10 Ohms,1.35 Ohms\n8.85,36.14 Ohms,2.14 Ohms,1.33 Ohms\n3.00,36.36 Ohms,17.09 Ohms,6.98 Ohms\n5.90,108 mOhms,10.82 Ohms,9.82 Ohms\n9.78,30.57 Ohms,8.31 Ohms,49 mOhms\n8.45,33.44 Ohms,621 mOhms,2.33 Ohms\n0.65,4.06 Ohms,1.28 Ohms,438 mOhms\n2.95,36.34 Ohms,16.77 Ohms,6.79 Ohms\n2.88,36.22 Ohms,16.37 Ohms,6.57 Ohms\n8.22,30.69 Ohms,155 mOhms,2.98 Ohms\n6.26,679 mOhms,7.96 Ohms,9.05 Ohms\n1.10,10.87 Ohms,3.53 Ohms,1.23 Ohms\n0.01,0 mOhms,0 mOhms,0 mOhms\n9.42,34.62 Ohms,5.61 Ohms,347 mOhms\n1.42,16.57 Ohms,5.57 Ohms,1.97 Ohms\n4.22,23.51 Ohms,19.86 Ohms,10.01 Ohms\n3.46,34.25 Ohms,19.13 Ohms,8.35 Ohms\n8.70,35.46 Ohms,1.46 Ohms,1.68 Ohms\n4.29,22.22 Ohms,19.75 Ohms,10.11 Ohms\n"
          ]
        }
      ]
    },
    {
      "cell_type": "markdown",
      "metadata": {
        "id": "_p1udZjA5I1d"
      },
      "source": [
        "# Python built-in functions"
      ]
    },
    {
      "cell_type": "markdown",
      "metadata": {
        "id": "_cHzailz5OlM"
      },
      "source": [
        "The Python interpreter has a couple of functions build-in. They are available without any preparation. \n",
        "\n",
        "Complete list of built-in funcitons: https://docs.python.org/3/library/functions.html\n",
        "\n",
        "Some prominent examples:\n",
        "- `print`\n",
        "- `type`\n",
        "- `min`\n",
        "- `len`\n",
        "\n",
        "\n"
      ]
    },
    {
      "cell_type": "code",
      "metadata": {
        "id": "OSN93Gpq60fR",
        "colab": {
          "base_uri": "https://localhost:8080/"
        },
        "outputId": "9eae4723-8e42-4381-bcda-dc171f49aba2"
      },
      "source": [
        "type(s)"
      ],
      "execution_count": 5,
      "outputs": [
        {
          "output_type": "execute_result",
          "data": {
            "text/plain": [
              "str"
            ]
          },
          "metadata": {},
          "execution_count": 5
        }
      ]
    },
    {
      "cell_type": "markdown",
      "metadata": {
        "id": "4bN5FJOE_MUJ"
      },
      "source": [
        "... the datatype of the variable `s` is `str`, string. "
      ]
    },
    {
      "cell_type": "code",
      "metadata": {
        "id": "t8O6X4in5Nr3",
        "colab": {
          "base_uri": "https://localhost:8080/"
        },
        "outputId": "bf2a29ae-7ab9-421b-9e34-1cd71992b17c"
      },
      "source": [
        "len(s)"
      ],
      "execution_count": 6,
      "outputs": [
        {
          "output_type": "execute_result",
          "data": {
            "text/plain": [
              "1247"
            ]
          },
          "metadata": {},
          "execution_count": 6
        }
      ]
    },
    {
      "cell_type": "code",
      "metadata": {
        "id": "a-rgU3OF5IEv",
        "colab": {
          "base_uri": "https://localhost:8080/",
          "height": 35
        },
        "outputId": "ad1706b7-a482-430f-c146-59a49c6f2fd7"
      },
      "source": [
        "min(s)"
      ],
      "execution_count": 7,
      "outputs": [
        {
          "output_type": "execute_result",
          "data": {
            "text/plain": [
              "'\\n'"
            ]
          },
          "metadata": {},
          "execution_count": 7
        }
      ]
    },
    {
      "cell_type": "markdown",
      "metadata": {
        "id": "BUEorZ5D_e7b"
      },
      "source": [
        "`min` returns the smallest item of a collection. Maybe not very helpful for an `str` type object."
      ]
    },
    {
      "cell_type": "markdown",
      "metadata": {
        "id": "ZZHIKzriAGze"
      },
      "source": [
        "# `str` objects"
      ]
    },
    {
      "cell_type": "markdown",
      "metadata": {
        "id": "r9ldCe1HAT7X"
      },
      "source": [
        "## Slicing"
      ]
    },
    {
      "cell_type": "markdown",
      "metadata": {
        "id": "hTz7aaq_auI2"
      },
      "source": [
        "Single characters of the string can be accessed using their index in brakets `[index]`:\n",
        "\n",
        "\n"
      ]
    },
    {
      "cell_type": "code",
      "metadata": {
        "id": "Lpy-XJLtATil",
        "colab": {
          "base_uri": "https://localhost:8080/",
          "height": 35
        },
        "outputId": "244ff43d-835c-46d0-81dd-afdd571af6ef"
      },
      "source": [
        "s[0]"
      ],
      "execution_count": 8,
      "outputs": [
        {
          "output_type": "execute_result",
          "data": {
            "text/plain": [
              "'M'"
            ]
          },
          "metadata": {},
          "execution_count": 8
        }
      ]
    },
    {
      "cell_type": "code",
      "metadata": {
        "id": "HjB5wBgOAoVv",
        "colab": {
          "base_uri": "https://localhost:8080/",
          "height": 35
        },
        "outputId": "dfbaa180-5327-4d80-efd4-778f004309c8"
      },
      "source": [
        "s[-1]"
      ],
      "execution_count": 9,
      "outputs": [
        {
          "output_type": "execute_result",
          "data": {
            "text/plain": [
              "'s'"
            ]
          },
          "metadata": {},
          "execution_count": 9
        }
      ]
    },
    {
      "cell_type": "markdown",
      "metadata": {
        "id": "yVIbnsk8eHQf"
      },
      "source": [
        "**Ranges** can be indexed by `[start_index : end_index]`.\n",
        "The `start_index` is included, the `end_index` not!"
      ]
    },
    {
      "cell_type": "code",
      "metadata": {
        "id": "4OT50QEGRQD0",
        "colab": {
          "base_uri": "https://localhost:8080/",
          "height": 35
        },
        "outputId": "dd1e4319-ddde-4d25-ac23-6236023f615a"
      },
      "source": [
        "s[10:60]"
      ],
      "execution_count": 10,
      "outputs": [
        {
          "output_type": "execute_result",
          "data": {
            "text/plain": [
              "'le challenge\\n\\nheader\\nmeasurement date,2021-04-06\\nm'"
            ]
          },
          "metadata": {},
          "execution_count": 10
        }
      ]
    },
    {
      "cell_type": "code",
      "metadata": {
        "id": "BW1BtJMyA5Wr",
        "colab": {
          "base_uri": "https://localhost:8080/",
          "height": 35
        },
        "outputId": "3f0e30ed-57af-4486-dce4-aab44036aa26"
      },
      "source": [
        "first_line = s[:22]\n",
        "first_line"
      ],
      "execution_count": 11,
      "outputs": [
        {
          "output_type": "execute_result",
          "data": {
            "text/plain": [
              "'MLPy logfile challenge'"
            ]
          },
          "metadata": {},
          "execution_count": 11
        }
      ]
    },
    {
      "cell_type": "markdown",
      "metadata": {
        "id": "CTcC8LX_Bbxq"
      },
      "source": [
        "## `str` object methods"
      ]
    },
    {
      "cell_type": "markdown",
      "metadata": {
        "id": "gscHyb6KBj1c"
      },
      "source": [
        "The `str` object not only contains **data**, it also contains **functions**, called **methods**."
      ]
    },
    {
      "cell_type": "code",
      "metadata": {
        "id": "Fmou7hfNBUO6",
        "colab": {
          "base_uri": "https://localhost:8080/",
          "height": 35
        },
        "outputId": "e5d4c71e-edad-4b39-8302-c8520909da7e"
      },
      "source": [
        "first_line.upper()"
      ],
      "execution_count": 12,
      "outputs": [
        {
          "output_type": "execute_result",
          "data": {
            "text/plain": [
              "'MLPY LOGFILE CHALLENGE'"
            ]
          },
          "metadata": {},
          "execution_count": 12
        }
      ]
    },
    {
      "cell_type": "code",
      "metadata": {
        "id": "NWM52R7aCHLC",
        "colab": {
          "base_uri": "https://localhost:8080/",
          "height": 35
        },
        "outputId": "28347cae-f9c1-4c9a-98b5-86080c320bfa"
      },
      "source": [
        "first_line"
      ],
      "execution_count": 13,
      "outputs": [
        {
          "output_type": "execute_result",
          "data": {
            "text/plain": [
              "'MLPy logfile challenge'"
            ]
          },
          "metadata": {},
          "execution_count": 13
        }
      ]
    },
    {
      "cell_type": "code",
      "metadata": {
        "id": "Ot1zqJO5CM_P"
      },
      "source": [
        "first_line = first_line.upper()"
      ],
      "execution_count": 14,
      "outputs": []
    },
    {
      "cell_type": "code",
      "metadata": {
        "id": "szyWMP8JCMuU",
        "colab": {
          "base_uri": "https://localhost:8080/",
          "height": 35
        },
        "outputId": "8771496a-d9a3-4a1c-9e76-334b3d5c49b7"
      },
      "source": [
        "first_line"
      ],
      "execution_count": 15,
      "outputs": [
        {
          "output_type": "execute_result",
          "data": {
            "text/plain": [
              "'MLPY LOGFILE CHALLENGE'"
            ]
          },
          "metadata": {},
          "execution_count": 15
        }
      ]
    },
    {
      "cell_type": "markdown",
      "metadata": {
        "id": "OiROQ5ndNN3k"
      },
      "source": [
        "## Exercise with `str` objects\n",
        "- Create a variable `my_name` holding your Name, \n",
        "- print the name in lower case, \n",
        "- check its length and\n",
        "- check its type "
      ]
    },
    {
      "cell_type": "markdown",
      "metadata": {
        "id": "6oZz2zr8OAAw"
      },
      "source": [
        "### Solution"
      ]
    },
    {
      "cell_type": "code",
      "metadata": {
        "id": "8stltdf5OB6r",
        "colab": {
          "base_uri": "https://localhost:8080/",
          "height": 35
        },
        "outputId": "d549066b-7a21-49bd-e088-3b24c5d49a18"
      },
      "source": [
        "my_name = \"Holger Steffens\"\n",
        "my_name"
      ],
      "execution_count": 16,
      "outputs": [
        {
          "output_type": "execute_result",
          "data": {
            "text/plain": [
              "'Holger Steffens'"
            ]
          },
          "metadata": {},
          "execution_count": 16
        }
      ]
    },
    {
      "cell_type": "code",
      "metadata": {
        "id": "ofCl5bOdOHaZ",
        "colab": {
          "base_uri": "https://localhost:8080/"
        },
        "outputId": "44b908a9-16af-4d31-952b-763525374c47"
      },
      "source": [
        "print(my_name.lower())\n",
        "print(len(my_name))\n",
        "print(type(my_name))"
      ],
      "execution_count": 17,
      "outputs": [
        {
          "output_type": "stream",
          "name": "stdout",
          "text": [
            "holger steffens\n15\n<class 'str'>\n"
          ]
        }
      ]
    },
    {
      "cell_type": "markdown",
      "metadata": {
        "id": "Yhtj3-U8Cai0"
      },
      "source": [
        "## `split` method"
      ]
    },
    {
      "cell_type": "code",
      "metadata": {
        "id": "Iq-YzE9ZCfZN",
        "colab": {
          "base_uri": "https://localhost:8080/"
        },
        "outputId": "37f4cfab-99e2-42c0-8536-014271fcd556"
      },
      "source": [
        "first_line.split(\" \")"
      ],
      "execution_count": 18,
      "outputs": [
        {
          "output_type": "execute_result",
          "data": {
            "text/plain": [
              "['MLPY', 'LOGFILE', 'CHALLENGE']"
            ]
          },
          "metadata": {},
          "execution_count": 18
        }
      ]
    },
    {
      "cell_type": "markdown",
      "metadata": {
        "id": "erSbgTtqCxjd"
      },
      "source": [
        "Split the logfile content `s` on the *new line character* `\\n`"
      ]
    },
    {
      "cell_type": "code",
      "metadata": {
        "id": "oCvAZiqURg40",
        "colab": {
          "base_uri": "https://localhost:8080/"
        },
        "outputId": "66029259-27f4-43c0-8f39-52f2f4dda85b"
      },
      "source": [
        "lines = s.split(\"\\n\")\n",
        "lines"
      ],
      "execution_count": 19,
      "outputs": [
        {
          "output_type": "execute_result",
          "data": {
            "text/plain": [
              "['MLPy logfile challenge',\n",
              " '',\n",
              " 'header',\n",
              " 'measurement date,2021-04-06',\n",
              " 'measurement time,08:00:00',\n",
              " 'calibration factor sig0,0.55',\n",
              " 'calibration factor sig2,1.88',\n",
              " '',\n",
              " 'measurements',\n",
              " 'x,sig0,sig1,sig2',\n",
              " '5.17,6.40 Ohms,16.05 Ohms,10.61 Ohms',\n",
              " '9.47,34.21 Ohms,5.95 Ohms,293 mOhms',\n",
              " '7.65,21.11 Ohms,366 mOhms,4.80 Ohms',\n",
              " '2.82,36.06 Ohms,16.03 Ohms,6.39 Ohms',\n",
              " '2.21,30.50 Ohms,11.65 Ohms,4.36 Ohms',\n",
              " '6.86,6.92 Ohms,3.73 Ohms,7.39 Ohms',\n",
              " '1.67,21.43 Ohms,7.45 Ohms,2.67 Ohms',\n",
              " '3.92,28.49 Ohms,19.98 Ohms,9.47 Ohms',\n",
              " '6.18,324 mOhms,8.59 Ohms,9.24 Ohms',\n",
              " '4.12,25.24 Ohms,19.96 Ohms,9.84 Ohms',\n",
              " '0.02,6 mOhms,2 mOhms,1 mOhms',\n",
              " '8.84,36.11 Ohms,2.10 Ohms,1.35 Ohms',\n",
              " '8.85,36.14 Ohms,2.14 Ohms,1.33 Ohms',\n",
              " '3.00,36.36 Ohms,17.09 Ohms,6.98 Ohms',\n",
              " '5.90,108 mOhms,10.82 Ohms,9.82 Ohms',\n",
              " '9.78,30.57 Ohms,8.31 Ohms,49 mOhms',\n",
              " '8.45,33.44 Ohms,621 mOhms,2.33 Ohms',\n",
              " '0.65,4.06 Ohms,1.28 Ohms,438 mOhms',\n",
              " '2.95,36.34 Ohms,16.77 Ohms,6.79 Ohms',\n",
              " '2.88,36.22 Ohms,16.37 Ohms,6.57 Ohms',\n",
              " '8.22,30.69 Ohms,155 mOhms,2.98 Ohms',\n",
              " '6.26,679 mOhms,7.96 Ohms,9.05 Ohms',\n",
              " '1.10,10.87 Ohms,3.53 Ohms,1.23 Ohms',\n",
              " '0.01,0 mOhms,0 mOhms,0 mOhms',\n",
              " '9.42,34.62 Ohms,5.61 Ohms,347 mOhms',\n",
              " '1.42,16.57 Ohms,5.57 Ohms,1.97 Ohms',\n",
              " '4.22,23.51 Ohms,19.86 Ohms,10.01 Ohms',\n",
              " '3.46,34.25 Ohms,19.13 Ohms,8.35 Ohms',\n",
              " '8.70,35.46 Ohms,1.46 Ohms,1.68 Ohms',\n",
              " '4.29,22.22 Ohms,19.75 Ohms,10.11 Ohms']"
            ]
          },
          "metadata": {},
          "execution_count": 19
        }
      ]
    },
    {
      "cell_type": "markdown",
      "metadata": {
        "id": "9TfP4cZ7DC3H"
      },
      "source": [
        "# `list` objects"
      ]
    },
    {
      "cell_type": "code",
      "metadata": {
        "id": "VxUVI99aEBLM",
        "colab": {
          "base_uri": "https://localhost:8080/"
        },
        "outputId": "eeda2357-b468-4004-ee2c-864e271159f6"
      },
      "source": [
        "type(lines)"
      ],
      "execution_count": 20,
      "outputs": [
        {
          "output_type": "execute_result",
          "data": {
            "text/plain": [
              "list"
            ]
          },
          "metadata": {},
          "execution_count": 20
        }
      ]
    },
    {
      "cell_type": "code",
      "metadata": {
        "id": "66rfa2YsED5J",
        "colab": {
          "base_uri": "https://localhost:8080/"
        },
        "outputId": "ab874607-1b83-49f1-ebcb-fd18ed2d5271"
      },
      "source": [
        "len(lines)"
      ],
      "execution_count": 21,
      "outputs": [
        {
          "output_type": "execute_result",
          "data": {
            "text/plain": [
              "40"
            ]
          },
          "metadata": {},
          "execution_count": 21
        }
      ]
    },
    {
      "cell_type": "code",
      "metadata": {
        "id": "1acpzNKTSVfq",
        "colab": {
          "base_uri": "https://localhost:8080/",
          "height": 35
        },
        "outputId": "ac07c7da-e5c0-464f-b145-deea59ae17bc"
      },
      "source": [
        "lines[0]"
      ],
      "execution_count": 22,
      "outputs": [
        {
          "output_type": "execute_result",
          "data": {
            "text/plain": [
              "'MLPy logfile challenge'"
            ]
          },
          "metadata": {},
          "execution_count": 22
        }
      ]
    },
    {
      "cell_type": "markdown",
      "metadata": {
        "id": "wbKKAYGwEk4g"
      },
      "source": [
        "... this seems better than counting the first lines's characters and slicing the string manually!"
      ]
    },
    {
      "cell_type": "markdown",
      "metadata": {
        "id": "NgvoX1N4FI0A"
      },
      "source": [
        "`list` objects also support slicing:"
      ]
    },
    {
      "cell_type": "code",
      "metadata": {
        "id": "s5FxVd5zSqxD",
        "colab": {
          "base_uri": "https://localhost:8080/"
        },
        "outputId": "61ca3f32-bec8-4073-aa39-13f29f4164a7"
      },
      "source": [
        "lines[2:8]"
      ],
      "execution_count": 23,
      "outputs": [
        {
          "output_type": "execute_result",
          "data": {
            "text/plain": [
              "['header',\n",
              " 'measurement date,2021-04-06',\n",
              " 'measurement time,08:00:00',\n",
              " 'calibration factor sig0,0.55',\n",
              " 'calibration factor sig2,1.88',\n",
              " '']"
            ]
          },
          "metadata": {},
          "execution_count": 23
        }
      ]
    },
    {
      "cell_type": "code",
      "metadata": {
        "id": "oWUC9TcGSufO",
        "colab": {
          "base_uri": "https://localhost:8080/"
        },
        "outputId": "1765f45d-0fb9-42d1-f56c-49e7bd55c57a"
      },
      "source": [
        "lines[8:]"
      ],
      "execution_count": 24,
      "outputs": [
        {
          "output_type": "execute_result",
          "data": {
            "text/plain": [
              "['measurements',\n",
              " 'x,sig0,sig1,sig2',\n",
              " '5.17,6.40 Ohms,16.05 Ohms,10.61 Ohms',\n",
              " '9.47,34.21 Ohms,5.95 Ohms,293 mOhms',\n",
              " '7.65,21.11 Ohms,366 mOhms,4.80 Ohms',\n",
              " '2.82,36.06 Ohms,16.03 Ohms,6.39 Ohms',\n",
              " '2.21,30.50 Ohms,11.65 Ohms,4.36 Ohms',\n",
              " '6.86,6.92 Ohms,3.73 Ohms,7.39 Ohms',\n",
              " '1.67,21.43 Ohms,7.45 Ohms,2.67 Ohms',\n",
              " '3.92,28.49 Ohms,19.98 Ohms,9.47 Ohms',\n",
              " '6.18,324 mOhms,8.59 Ohms,9.24 Ohms',\n",
              " '4.12,25.24 Ohms,19.96 Ohms,9.84 Ohms',\n",
              " '0.02,6 mOhms,2 mOhms,1 mOhms',\n",
              " '8.84,36.11 Ohms,2.10 Ohms,1.35 Ohms',\n",
              " '8.85,36.14 Ohms,2.14 Ohms,1.33 Ohms',\n",
              " '3.00,36.36 Ohms,17.09 Ohms,6.98 Ohms',\n",
              " '5.90,108 mOhms,10.82 Ohms,9.82 Ohms',\n",
              " '9.78,30.57 Ohms,8.31 Ohms,49 mOhms',\n",
              " '8.45,33.44 Ohms,621 mOhms,2.33 Ohms',\n",
              " '0.65,4.06 Ohms,1.28 Ohms,438 mOhms',\n",
              " '2.95,36.34 Ohms,16.77 Ohms,6.79 Ohms',\n",
              " '2.88,36.22 Ohms,16.37 Ohms,6.57 Ohms',\n",
              " '8.22,30.69 Ohms,155 mOhms,2.98 Ohms',\n",
              " '6.26,679 mOhms,7.96 Ohms,9.05 Ohms',\n",
              " '1.10,10.87 Ohms,3.53 Ohms,1.23 Ohms',\n",
              " '0.01,0 mOhms,0 mOhms,0 mOhms',\n",
              " '9.42,34.62 Ohms,5.61 Ohms,347 mOhms',\n",
              " '1.42,16.57 Ohms,5.57 Ohms,1.97 Ohms',\n",
              " '4.22,23.51 Ohms,19.86 Ohms,10.01 Ohms',\n",
              " '3.46,34.25 Ohms,19.13 Ohms,8.35 Ohms',\n",
              " '8.70,35.46 Ohms,1.46 Ohms,1.68 Ohms',\n",
              " '4.29,22.22 Ohms,19.75 Ohms,10.11 Ohms']"
            ]
          },
          "metadata": {},
          "execution_count": 24
        }
      ]
    },
    {
      "cell_type": "markdown",
      "metadata": {
        "id": "yqhTHPFhPNHv"
      },
      "source": [
        "## Exercise with `list` objects\n",
        "Reuse the `my_name` variable and print the number of characters in your first and second name. E.g.:\n",
        "\n",
        "> `Holger 6`\n",
        ">\n",
        "> `Steffens 8`"
      ]
    },
    {
      "cell_type": "markdown",
      "metadata": {
        "id": "xuJWXV14P5WN"
      },
      "source": [
        "### Solution"
      ]
    },
    {
      "cell_type": "code",
      "metadata": {
        "id": "Hi-kEaK_P6zL",
        "colab": {
          "base_uri": "https://localhost:8080/"
        },
        "outputId": "38fa7612-127d-494e-b484-ecba061dfa8a"
      },
      "source": [
        "my_names = my_name.split()   # using the default seperator of .split()\n",
        "print(my_names[0], len(my_names[0]))\n",
        "print(my_names[1], len(my_names[1]))"
      ],
      "execution_count": 25,
      "outputs": [
        {
          "output_type": "stream",
          "name": "stdout",
          "text": [
            "Holger 6\nSteffens 8\n"
          ]
        }
      ]
    },
    {
      "cell_type": "markdown",
      "metadata": {
        "id": "oqvnf_kEHnOT"
      },
      "source": [
        "# `for` loops"
      ]
    },
    {
      "cell_type": "markdown",
      "metadata": {
        "id": "mpffp9oM6pZ1"
      },
      "source": [
        "The next step in the *logfile challenge* requires looping. \n",
        "\n",
        "- **`for`, `in`** are keywords in Python, as well as\n",
        "- **`while`**,\n",
        "- and of course there are more keywords: [all Python keywords](https://docs.python.org/3/reference/lexical_analysis.html#keywords)\n",
        "\n",
        "A *C-style* `for` loop such as:\n",
        "\n",
        ">`lines[0]`\n",
        ">\n",
        ">`lines[1]`\n",
        ">\n",
        ">`...`\n",
        "\n",
        "requires an *index variable*. \n"
      ]
    },
    {
      "cell_type": "code",
      "metadata": {
        "id": "Hcz0lFtSR_uV",
        "colab": {
          "base_uri": "https://localhost:8080/"
        },
        "outputId": "fafc189e-92ac-42e1-d019-05706b8aff41"
      },
      "source": [
        "for i in [0, 1, 2]:\n",
        "    print(i)"
      ],
      "execution_count": 26,
      "outputs": [
        {
          "output_type": "stream",
          "name": "stdout",
          "text": [
            "0\n1\n2\n"
          ]
        }
      ]
    },
    {
      "cell_type": "markdown",
      "metadata": {
        "id": "fxR8PMi8SRiE"
      },
      "source": [
        "The build-in function `range()` simplifies the loop:"
      ]
    },
    {
      "cell_type": "code",
      "metadata": {
        "id": "dkxQjc0yIB2N",
        "colab": {
          "base_uri": "https://localhost:8080/"
        },
        "outputId": "6d93443a-b6db-482f-d372-fa791256d3a4"
      },
      "source": [
        "for i in range(3):\n",
        "    print(i)"
      ],
      "execution_count": 27,
      "outputs": [
        {
          "output_type": "stream",
          "name": "stdout",
          "text": [
            "0\n1\n2\n"
          ]
        }
      ]
    },
    {
      "cell_type": "markdown",
      "metadata": {
        "id": "mxa65MRGSf6N"
      },
      "source": [
        "## looping over the `lines` object"
      ]
    },
    {
      "cell_type": "code",
      "metadata": {
        "id": "mpRnWM31S0ug",
        "colab": {
          "base_uri": "https://localhost:8080/"
        },
        "outputId": "93cdf2c7-4e3d-49d1-b107-4d0260b23d05"
      },
      "source": [
        "lines"
      ],
      "execution_count": 28,
      "outputs": [
        {
          "output_type": "execute_result",
          "data": {
            "text/plain": [
              "['MLPy logfile challenge',\n",
              " '',\n",
              " 'header',\n",
              " 'measurement date,2021-04-06',\n",
              " 'measurement time,08:00:00',\n",
              " 'calibration factor sig0,0.55',\n",
              " 'calibration factor sig2,1.88',\n",
              " '',\n",
              " 'measurements',\n",
              " 'x,sig0,sig1,sig2',\n",
              " '5.17,6.40 Ohms,16.05 Ohms,10.61 Ohms',\n",
              " '9.47,34.21 Ohms,5.95 Ohms,293 mOhms',\n",
              " '7.65,21.11 Ohms,366 mOhms,4.80 Ohms',\n",
              " '2.82,36.06 Ohms,16.03 Ohms,6.39 Ohms',\n",
              " '2.21,30.50 Ohms,11.65 Ohms,4.36 Ohms',\n",
              " '6.86,6.92 Ohms,3.73 Ohms,7.39 Ohms',\n",
              " '1.67,21.43 Ohms,7.45 Ohms,2.67 Ohms',\n",
              " '3.92,28.49 Ohms,19.98 Ohms,9.47 Ohms',\n",
              " '6.18,324 mOhms,8.59 Ohms,9.24 Ohms',\n",
              " '4.12,25.24 Ohms,19.96 Ohms,9.84 Ohms',\n",
              " '0.02,6 mOhms,2 mOhms,1 mOhms',\n",
              " '8.84,36.11 Ohms,2.10 Ohms,1.35 Ohms',\n",
              " '8.85,36.14 Ohms,2.14 Ohms,1.33 Ohms',\n",
              " '3.00,36.36 Ohms,17.09 Ohms,6.98 Ohms',\n",
              " '5.90,108 mOhms,10.82 Ohms,9.82 Ohms',\n",
              " '9.78,30.57 Ohms,8.31 Ohms,49 mOhms',\n",
              " '8.45,33.44 Ohms,621 mOhms,2.33 Ohms',\n",
              " '0.65,4.06 Ohms,1.28 Ohms,438 mOhms',\n",
              " '2.95,36.34 Ohms,16.77 Ohms,6.79 Ohms',\n",
              " '2.88,36.22 Ohms,16.37 Ohms,6.57 Ohms',\n",
              " '8.22,30.69 Ohms,155 mOhms,2.98 Ohms',\n",
              " '6.26,679 mOhms,7.96 Ohms,9.05 Ohms',\n",
              " '1.10,10.87 Ohms,3.53 Ohms,1.23 Ohms',\n",
              " '0.01,0 mOhms,0 mOhms,0 mOhms',\n",
              " '9.42,34.62 Ohms,5.61 Ohms,347 mOhms',\n",
              " '1.42,16.57 Ohms,5.57 Ohms,1.97 Ohms',\n",
              " '4.22,23.51 Ohms,19.86 Ohms,10.01 Ohms',\n",
              " '3.46,34.25 Ohms,19.13 Ohms,8.35 Ohms',\n",
              " '8.70,35.46 Ohms,1.46 Ohms,1.68 Ohms',\n",
              " '4.29,22.22 Ohms,19.75 Ohms,10.11 Ohms']"
            ]
          },
          "metadata": {},
          "execution_count": 28
        }
      ]
    },
    {
      "cell_type": "code",
      "metadata": {
        "id": "ccD3lLFNTMI1",
        "colab": {
          "base_uri": "https://localhost:8080/"
        },
        "outputId": "51011706-326b-410d-bd18-c4ae7da0f57a"
      },
      "source": [
        "for i in range(len(lines)):\n",
        "    line = lines[i]\n",
        "    print(line)"
      ],
      "execution_count": 29,
      "outputs": [
        {
          "output_type": "stream",
          "name": "stdout",
          "text": [
            "MLPy logfile challenge\n\nheader\nmeasurement date,2021-04-06\nmeasurement time,08:00:00\ncalibration factor sig0,0.55\ncalibration factor sig2,1.88\n\nmeasurements\nx,sig0,sig1,sig2\n5.17,6.40 Ohms,16.05 Ohms,10.61 Ohms\n9.47,34.21 Ohms,5.95 Ohms,293 mOhms\n7.65,21.11 Ohms,366 mOhms,4.80 Ohms\n2.82,36.06 Ohms,16.03 Ohms,6.39 Ohms\n2.21,30.50 Ohms,11.65 Ohms,4.36 Ohms\n6.86,6.92 Ohms,3.73 Ohms,7.39 Ohms\n1.67,21.43 Ohms,7.45 Ohms,2.67 Ohms\n3.92,28.49 Ohms,19.98 Ohms,9.47 Ohms\n6.18,324 mOhms,8.59 Ohms,9.24 Ohms\n4.12,25.24 Ohms,19.96 Ohms,9.84 Ohms\n0.02,6 mOhms,2 mOhms,1 mOhms\n8.84,36.11 Ohms,2.10 Ohms,1.35 Ohms\n8.85,36.14 Ohms,2.14 Ohms,1.33 Ohms\n3.00,36.36 Ohms,17.09 Ohms,6.98 Ohms\n5.90,108 mOhms,10.82 Ohms,9.82 Ohms\n9.78,30.57 Ohms,8.31 Ohms,49 mOhms\n8.45,33.44 Ohms,621 mOhms,2.33 Ohms\n0.65,4.06 Ohms,1.28 Ohms,438 mOhms\n2.95,36.34 Ohms,16.77 Ohms,6.79 Ohms\n2.88,36.22 Ohms,16.37 Ohms,6.57 Ohms\n8.22,30.69 Ohms,155 mOhms,2.98 Ohms\n6.26,679 mOhms,7.96 Ohms,9.05 Ohms\n1.10,10.87 Ohms,3.53 Ohms,1.23 Ohms\n0.01,0 mOhms,0 mOhms,0 mOhms\n9.42,34.62 Ohms,5.61 Ohms,347 mOhms\n1.42,16.57 Ohms,5.57 Ohms,1.97 Ohms\n4.22,23.51 Ohms,19.86 Ohms,10.01 Ohms\n3.46,34.25 Ohms,19.13 Ohms,8.35 Ohms\n8.70,35.46 Ohms,1.46 Ohms,1.68 Ohms\n4.29,22.22 Ohms,19.75 Ohms,10.11 Ohms\n"
          ]
        }
      ]
    },
    {
      "cell_type": "markdown",
      "metadata": {
        "id": "i5Wpt9guTXpl"
      },
      "source": [
        "## Adding an `if` statement"
      ]
    },
    {
      "cell_type": "code",
      "metadata": {
        "id": "vreuesYvTKl5",
        "colab": {
          "base_uri": "https://localhost:8080/"
        },
        "outputId": "1db770e2-84eb-4127-858d-a29b7c1a7f2c"
      },
      "source": [
        "for i in range(len(lines)):\n",
        "    line = lines[i]\n",
        "    \n",
        "    if line == \"header\":\n",
        "        print(\"'\" + line + \"' found!\")"
      ],
      "execution_count": 30,
      "outputs": [
        {
          "output_type": "stream",
          "name": "stdout",
          "text": [
            "'header' found!\n"
          ]
        }
      ]
    },
    {
      "cell_type": "markdown",
      "metadata": {
        "id": "aLwcfUp4__Gg"
      },
      "source": [
        "## `list` objects are iterable\n",
        "\n",
        "Iterable objects can be looped without using an index!"
      ]
    },
    {
      "cell_type": "code",
      "metadata": {
        "id": "zLycOgVnT8W2",
        "colab": {
          "base_uri": "https://localhost:8080/"
        },
        "outputId": "bb74d5b0-05b0-4877-f101-b75e6b53cfe1"
      },
      "source": [
        "iter(lines)"
      ],
      "execution_count": 31,
      "outputs": [
        {
          "output_type": "execute_result",
          "data": {
            "text/plain": [
              "<list_iterator at 0x256537ebe08>"
            ]
          },
          "metadata": {},
          "execution_count": 31
        }
      ]
    },
    {
      "cell_type": "code",
      "metadata": {
        "id": "eRZQSTEdT_Sp",
        "colab": {
          "base_uri": "https://localhost:8080/"
        },
        "outputId": "cb3d1d3f-622b-4787-ee10-ba2672405b64"
      },
      "source": [
        "for line in lines:     # this prototype is very common!\n",
        "    \n",
        "    if line == \"header\":\n",
        "        print(\"'\" + line + \"' found!\")"
      ],
      "execution_count": 32,
      "outputs": [
        {
          "output_type": "stream",
          "name": "stdout",
          "text": [
            "'header' found!\n"
          ]
        }
      ]
    },
    {
      "cell_type": "markdown",
      "metadata": {
        "id": "d2zd-PyyUZz9"
      },
      "source": [
        "## Exercise with `for` loops\n",
        "Reuse the `my_name` variable once again and print the number of characters for the first and second name. Use a `for` loop this time. E.g.:\n",
        "\n",
        "> `Holger 6`\n",
        ">\n",
        "> `Steffens 8`"
      ]
    },
    {
      "cell_type": "markdown",
      "metadata": {
        "id": "OxW1wNnBW3jp"
      },
      "source": [
        "### Solution"
      ]
    },
    {
      "cell_type": "code",
      "metadata": {
        "id": "1zTpc514UZTP",
        "colab": {
          "base_uri": "https://localhost:8080/",
          "height": 35
        },
        "outputId": "c1125c0e-1dda-4087-8a46-b85d241809cb"
      },
      "source": [
        "my_name"
      ],
      "execution_count": 33,
      "outputs": [
        {
          "output_type": "execute_result",
          "data": {
            "text/plain": [
              "'Holger Steffens'"
            ]
          },
          "metadata": {},
          "execution_count": 33
        }
      ]
    },
    {
      "cell_type": "code",
      "metadata": {
        "id": "KreCue7rWQiO",
        "colab": {
          "base_uri": "https://localhost:8080/"
        },
        "outputId": "3835e2d5-4484-44c9-a8ba-3fad4f617ffe"
      },
      "source": [
        "for name in my_name.split():\n",
        "    print(name, len(name))"
      ],
      "execution_count": 34,
      "outputs": [
        {
          "output_type": "stream",
          "name": "stdout",
          "text": [
            "Holger 6\nSteffens 8\n"
          ]
        }
      ]
    },
    {
      "cell_type": "markdown",
      "metadata": {
        "id": "HlH8JtKcAiCb"
      },
      "source": [
        "## Search for multiple keys, simultaniously:"
      ]
    },
    {
      "cell_type": "code",
      "metadata": {
        "id": "AZF7nYmBU54p"
      },
      "source": [
        "keys = ['measurements', \"header\"]"
      ],
      "execution_count": 35,
      "outputs": []
    },
    {
      "cell_type": "markdown",
      "metadata": {
        "id": "At9UBgrA9u6t"
      },
      "source": [
        "Two `for` loops could be used to search a list of possible keys on every line of the logfile:"
      ]
    },
    {
      "cell_type": "code",
      "metadata": {
        "id": "5VM7vMmP9bU8",
        "colab": {
          "base_uri": "https://localhost:8080/"
        },
        "outputId": "e48d8d29-0aa2-427b-a478-a440b099893f"
      },
      "source": [
        "for line in lines:\n",
        "    for key in keys:\n",
        "        if line == key:\n",
        "            print(\"'\" + line + \"' found!\")"
      ],
      "execution_count": 36,
      "outputs": [
        {
          "output_type": "stream",
          "name": "stdout",
          "text": [
            "'header' found!\n'measurements' found!\n"
          ]
        }
      ]
    },
    {
      "cell_type": "markdown",
      "metadata": {
        "id": "BWiaCw1--cy5"
      },
      "source": [
        "... that works!\n",
        "\n",
        "However, there is a more simple solution by using the `in` operator on a python container (such as a list):"
      ]
    },
    {
      "cell_type": "code",
      "metadata": {
        "id": "z2iqeNOhVA-S",
        "colab": {
          "base_uri": "https://localhost:8080/"
        },
        "outputId": "5e6322fb-c165-4a99-fa6e-90fb3fe2f822"
      },
      "source": [
        "\"0815\" in keys"
      ],
      "execution_count": 37,
      "outputs": [
        {
          "output_type": "execute_result",
          "data": {
            "text/plain": [
              "False"
            ]
          },
          "metadata": {},
          "execution_count": 37
        }
      ]
    },
    {
      "cell_type": "code",
      "metadata": {
        "id": "abAh01oBVJ6j",
        "colab": {
          "base_uri": "https://localhost:8080/"
        },
        "outputId": "fa8746e4-5ad1-4f42-860d-69b11a896aa6"
      },
      "source": [
        "\"header\" in keys"
      ],
      "execution_count": 38,
      "outputs": [
        {
          "output_type": "execute_result",
          "data": {
            "text/plain": [
              "True"
            ]
          },
          "metadata": {},
          "execution_count": 38
        }
      ]
    },
    {
      "cell_type": "code",
      "metadata": {
        "id": "f_Og10MyVPnz",
        "colab": {
          "base_uri": "https://localhost:8080/"
        },
        "outputId": "237a8f55-1161-4c32-94c2-a6068ca2f7a7"
      },
      "source": [
        "for line in lines:\n",
        "    if line in keys:\n",
        "        print(\"'\" + line + \"' found!\")   "
      ],
      "execution_count": 39,
      "outputs": [
        {
          "output_type": "stream",
          "name": "stdout",
          "text": [
            "'header' found!\n'measurements' found!\n"
          ]
        }
      ]
    },
    {
      "cell_type": "markdown",
      "metadata": {
        "id": "RAowUwFjVh4y"
      },
      "source": [
        "## `enumerate` operator"
      ]
    },
    {
      "cell_type": "markdown",
      "metadata": {
        "id": "MoNenA8sVovq"
      },
      "source": [
        "if an index is required, use `enumerate`"
      ]
    },
    {
      "cell_type": "code",
      "metadata": {
        "id": "_CNBZdIgVxym",
        "colab": {
          "base_uri": "https://localhost:8080/"
        },
        "outputId": "84ab28cc-5875-44ed-ace4-b6e27eb87b94"
      },
      "source": [
        "bag_of_words = [\"Hello\", \"Team\", \"Python\"]\n",
        "\n",
        "for item in bag_of_words:\n",
        "    print(item)"
      ],
      "execution_count": 40,
      "outputs": [
        {
          "output_type": "stream",
          "name": "stdout",
          "text": [
            "Hello\nTeam\nPython\n"
          ]
        }
      ]
    },
    {
      "cell_type": "code",
      "metadata": {
        "id": "B0_zqRURAEhm",
        "colab": {
          "base_uri": "https://localhost:8080/"
        },
        "outputId": "9856449d-3055-4b10-ef8a-8e3dad457579"
      },
      "source": [
        "for item in enumerate(bag_of_words):\n",
        "    print(item)"
      ],
      "execution_count": 41,
      "outputs": [
        {
          "output_type": "stream",
          "name": "stdout",
          "text": [
            "(0, 'Hello')\n(1, 'Team')\n(2, 'Python')\n"
          ]
        }
      ]
    },
    {
      "cell_type": "code",
      "metadata": {
        "id": "rfJG0kbUJZYk",
        "colab": {
          "base_uri": "https://localhost:8080/"
        },
        "outputId": "d8c5226c-14df-4805-84fe-2de1a64c9ad4"
      },
      "source": [
        "item"
      ],
      "execution_count": 42,
      "outputs": [
        {
          "output_type": "execute_result",
          "data": {
            "text/plain": [
              "(2, 'Python')"
            ]
          },
          "metadata": {},
          "execution_count": 42
        }
      ]
    },
    {
      "cell_type": "code",
      "metadata": {
        "id": "sz4JJEh5V3Py",
        "colab": {
          "base_uri": "https://localhost:8080/"
        },
        "outputId": "ef657fa6-5aae-49b9-caa1-c86223d7f692"
      },
      "source": [
        "type(item)"
      ],
      "execution_count": 43,
      "outputs": [
        {
          "output_type": "execute_result",
          "data": {
            "text/plain": [
              "tuple"
            ]
          },
          "metadata": {},
          "execution_count": 43
        }
      ]
    },
    {
      "cell_type": "markdown",
      "metadata": {
        "id": "u3b-YxDrB5AA"
      },
      "source": [
        "# `tuple` objects\n",
        "**Tuples** are basic Python containers and similar to **lists**"
      ]
    },
    {
      "cell_type": "code",
      "metadata": {
        "id": "9VlKUBaSAvWJ",
        "colab": {
          "base_uri": "https://localhost:8080/"
        },
        "outputId": "95cce70e-f8ea-4e53-b71b-eb901c785687"
      },
      "source": [
        "item"
      ],
      "execution_count": 44,
      "outputs": [
        {
          "output_type": "execute_result",
          "data": {
            "text/plain": [
              "(2, 'Python')"
            ]
          },
          "metadata": {},
          "execution_count": 44
        }
      ]
    },
    {
      "cell_type": "code",
      "metadata": {
        "id": "1ZFJrJpiWAqZ",
        "colab": {
          "base_uri": "https://localhost:8080/",
          "height": 35
        },
        "outputId": "e9d8be88-c107-467f-da81-a2e9836fabee"
      },
      "source": [
        "i, value = item\n",
        "value"
      ],
      "execution_count": 45,
      "outputs": [
        {
          "output_type": "execute_result",
          "data": {
            "text/plain": [
              "'Python'"
            ]
          },
          "metadata": {},
          "execution_count": 45
        }
      ]
    },
    {
      "cell_type": "markdown",
      "metadata": {
        "id": "pA00zJ02AnrP"
      },
      "source": [
        "... this is called `unpacking`.\n",
        "\n",
        "Next, let's use `enumerate` and unpacking to search the lines for keys:"
      ]
    },
    {
      "cell_type": "code",
      "metadata": {
        "id": "p5Na0B1SWH8c",
        "colab": {
          "base_uri": "https://localhost:8080/"
        },
        "outputId": "c44003a6-a557-44e4-c6d1-a2f332cd8f41"
      },
      "source": [
        "for lineNo, line in enumerate(lines):\n",
        "    if line in keys:\n",
        "        print(\"'\" + line + \"' found in line no. \" + str(lineNo))   "
      ],
      "execution_count": 46,
      "outputs": [
        {
          "output_type": "stream",
          "name": "stdout",
          "text": [
            "'header' found in line no. 2\n'measurements' found in line no. 8\n"
          ]
        }
      ]
    },
    {
      "cell_type": "markdown",
      "metadata": {
        "id": "1ybRI1GHKJKP"
      },
      "source": [
        "Better using the `str.format()` method"
      ]
    },
    {
      "cell_type": "code",
      "metadata": {
        "id": "HBTj95CKWk94",
        "colab": {
          "base_uri": "https://localhost:8080/",
          "height": 35
        },
        "outputId": "6b6c51f9-8859-467e-b7e2-c57224d29e2c"
      },
      "source": [
        "\"'{}' fount in line no. {}\".format(\"world\", 1)"
      ],
      "execution_count": 47,
      "outputs": [
        {
          "output_type": "execute_result",
          "data": {
            "text/plain": [
              "\"'world' fount in line no. 1\""
            ]
          },
          "metadata": {},
          "execution_count": 47
        }
      ]
    },
    {
      "cell_type": "code",
      "metadata": {
        "id": "Gmd7EywcW7wk",
        "colab": {
          "base_uri": "https://localhost:8080/"
        },
        "outputId": "8a28e18f-2403-473f-cf2e-6f03702ed5cb"
      },
      "source": [
        "for lineNo, line in enumerate(lines):\n",
        "    if line in keys:\n",
        "        print(\"'{}' fount in line no. {}\".format(line, lineNo))   "
      ],
      "execution_count": 48,
      "outputs": [
        {
          "output_type": "stream",
          "name": "stdout",
          "text": [
            "'header' fount in line no. 2\n'measurements' fount in line no. 8\n"
          ]
        }
      ]
    },
    {
      "cell_type": "markdown",
      "metadata": {
        "id": "w1LzDy92EfPk"
      },
      "source": [
        "## Exercise with `enumerate`\n",
        "Find the position of all vocals `aeiou` in the `my_name` variable."
      ]
    },
    {
      "cell_type": "markdown",
      "metadata": {
        "id": "Caqk3_q8LOIe"
      },
      "source": [
        "### Solution"
      ]
    },
    {
      "cell_type": "code",
      "metadata": {
        "id": "2o8dd3W7E2hZ",
        "colab": {
          "base_uri": "https://localhost:8080/",
          "height": 35
        },
        "outputId": "316c8b53-04de-4718-d914-b6d6c8770ac2"
      },
      "source": [
        "VOCALS = \"aeiou\"\n",
        "my_name"
      ],
      "execution_count": 49,
      "outputs": [
        {
          "output_type": "execute_result",
          "data": {
            "text/plain": [
              "'Holger Steffens'"
            ]
          },
          "metadata": {},
          "execution_count": 49
        }
      ]
    },
    {
      "cell_type": "code",
      "metadata": {
        "id": "6fkStJ1qJdAG",
        "colab": {
          "base_uri": "https://localhost:8080/"
        },
        "outputId": "b67968b0-653b-488e-ee30-1c79df68428b"
      },
      "source": [
        "for position, character in enumerate(my_name):\n",
        "    if character.lower() in VOCALS:\n",
        "        print(\"vocal '{}' found a position {}\".format(character, position))"
      ],
      "execution_count": 50,
      "outputs": [
        {
          "output_type": "stream",
          "name": "stdout",
          "text": [
            "vocal 'o' found a position 1\nvocal 'e' found a position 4\nvocal 'e' found a position 9\nvocal 'e' found a position 12\n"
          ]
        }
      ]
    },
    {
      "cell_type": "markdown",
      "metadata": {
        "id": "2sPjqImpX1mw"
      },
      "source": [
        "# `dict` objects\n",
        "`dcit` is a Python **dictionary**, holding `key`-->`value` pairs."
      ]
    },
    {
      "cell_type": "code",
      "metadata": {
        "id": "aQwpUGeiXwWO"
      },
      "source": [
        "idxs = dict()"
      ],
      "execution_count": 51,
      "outputs": []
    },
    {
      "cell_type": "code",
      "metadata": {
        "id": "1xAuSr2TYApw",
        "colab": {
          "base_uri": "https://localhost:8080/"
        },
        "outputId": "4c4eb9ad-82ba-49b7-f1c5-1b069668dbe7"
      },
      "source": [
        "type(idxs)"
      ],
      "execution_count": 52,
      "outputs": [
        {
          "output_type": "execute_result",
          "data": {
            "text/plain": [
              "dict"
            ]
          },
          "metadata": {},
          "execution_count": 52
        }
      ]
    },
    {
      "cell_type": "code",
      "metadata": {
        "id": "hxvV9yCBXjjM"
      },
      "source": [
        "for lineNo, line in enumerate(lines):\n",
        "    if line in keys:\n",
        "        idxs[line] = lineNo "
      ],
      "execution_count": 53,
      "outputs": []
    },
    {
      "cell_type": "code",
      "metadata": {
        "id": "5o803dolYgpN",
        "colab": {
          "base_uri": "https://localhost:8080/"
        },
        "outputId": "8ea83f6a-fe3a-4844-c3a0-400df7fcbe65"
      },
      "source": [
        "idxs"
      ],
      "execution_count": 54,
      "outputs": [
        {
          "output_type": "execute_result",
          "data": {
            "text/plain": [
              "{'header': 2, 'measurements': 8}"
            ]
          },
          "metadata": {},
          "execution_count": 54
        }
      ]
    },
    {
      "cell_type": "code",
      "metadata": {
        "id": "245fvpLvs_hq",
        "colab": {
          "base_uri": "https://localhost:8080/"
        },
        "outputId": "bad8ce28-6f48-482f-c7b2-e8629c102c00"
      },
      "source": [
        "idxs[\"measurements\"]"
      ],
      "execution_count": 55,
      "outputs": [
        {
          "output_type": "execute_result",
          "data": {
            "text/plain": [
              "8"
            ]
          },
          "metadata": {},
          "execution_count": 55
        }
      ]
    },
    {
      "cell_type": "markdown",
      "metadata": {
        "id": "UlB0VJzZLMF4"
      },
      "source": [
        "Adding more items to the dictionary"
      ]
    },
    {
      "cell_type": "code",
      "metadata": {
        "id": "3QzvwUoctIuq",
        "colab": {
          "base_uri": "https://localhost:8080/"
        },
        "outputId": "6ef22736-9371-4555-8847-ab4c0411af51"
      },
      "source": [
        "idxs[\"names\"] = idxs[\"measurements\"] + 1\n",
        "idxs"
      ],
      "execution_count": 56,
      "outputs": [
        {
          "output_type": "execute_result",
          "data": {
            "text/plain": [
              "{'header': 2, 'measurements': 8, 'names': 9}"
            ]
          },
          "metadata": {},
          "execution_count": 56
        }
      ]
    },
    {
      "cell_type": "code",
      "metadata": {
        "id": "tZuVfPDxtWjT"
      },
      "source": [
        "idxs[\"params_begin\"] = idxs[\"header\"] + 1\n",
        "idxs[\"params_end\"] = idxs[\"measurements\"] - 1\n",
        "idxs[\"data\"] = idxs[\"names\"] + 1"
      ],
      "execution_count": 57,
      "outputs": []
    },
    {
      "cell_type": "code",
      "metadata": {
        "id": "AfNHwKeEuCWZ",
        "colab": {
          "base_uri": "https://localhost:8080/"
        },
        "outputId": "18050e1c-c96e-4ce1-c9bf-7de256392044"
      },
      "source": [
        "idxs"
      ],
      "execution_count": 58,
      "outputs": [
        {
          "output_type": "execute_result",
          "data": {
            "text/plain": [
              "{'header': 2,\n",
              " 'measurements': 8,\n",
              " 'names': 9,\n",
              " 'params_begin': 3,\n",
              " 'params_end': 7,\n",
              " 'data': 10}"
            ]
          },
          "metadata": {},
          "execution_count": 58
        }
      ]
    },
    {
      "cell_type": "markdown",
      "metadata": {
        "id": "9g50nPeRMDcu"
      },
      "source": [
        "### `dict` methods\n",
        "\n"
      ]
    },
    {
      "cell_type": "code",
      "metadata": {
        "id": "Abf8nyFfML0P"
      },
      "source": [
        "def print_object_attributes(obj):\n",
        "    print(\"{} has the following (public) attributes:\".format(obj.__class__))\n",
        "    for attr in dir(obj):\n",
        "        if not attr.startswith(\"__\"):\n",
        "            doc = getattr(obj, attr).__doc__.split(\"\\n\")[0]\n",
        "            print(\".{:25}{}\".format(attr, doc))"
      ],
      "execution_count": 59,
      "outputs": []
    },
    {
      "cell_type": "code",
      "metadata": {
        "id": "cbZYBkjFP4xZ",
        "colab": {
          "base_uri": "https://localhost:8080/"
        },
        "outputId": "1ec2431f-ce02-4cff-b015-8158839144a3"
      },
      "source": [
        "print_object_attributes(idxs)"
      ],
      "execution_count": 60,
      "outputs": [
        {
          "output_type": "stream",
          "name": "stdout",
          "text": [
            "<class 'dict'> has the following (public) attributes:\n.clear                    D.clear() -> None.  Remove all items from D.\n.copy                     D.copy() -> a shallow copy of D\n.fromkeys                 Create a new dictionary with keys from iterable and values set to value.\n.get                      Return the value for key if key is in the dictionary, else default.\n.items                    D.items() -> a set-like object providing a view on D's items\n.keys                     D.keys() -> a set-like object providing a view on D's keys\n.pop                      D.pop(k[,d]) -> v, remove specified key and return the corresponding value.\n.popitem                  D.popitem() -> (k, v), remove and return some (key, value) pair as a\n.setdefault               Insert key with a value of default if key is not in the dictionary.\n.update                   D.update([E, ]**F) -> None.  Update D from dict/iterable E and F.\n.values                   D.values() -> an object providing a view on D's values\n"
          ]
        }
      ]
    },
    {
      "cell_type": "code",
      "metadata": {
        "id": "3MpPSYJjuD6h",
        "colab": {
          "base_uri": "https://localhost:8080/"
        },
        "outputId": "06450244-5b79-4b6f-9289-c7921618bbfa"
      },
      "source": [
        "idxs.keys()"
      ],
      "execution_count": 61,
      "outputs": [
        {
          "output_type": "execute_result",
          "data": {
            "text/plain": [
              "dict_keys(['header', 'measurements', 'names', 'params_begin', 'params_end', 'data'])"
            ]
          },
          "metadata": {},
          "execution_count": 61
        }
      ]
    },
    {
      "cell_type": "code",
      "metadata": {
        "id": "EOuJULK1ucE_",
        "colab": {
          "base_uri": "https://localhost:8080/"
        },
        "outputId": "a27da710-25db-4c30-8576-3a3b88a92953"
      },
      "source": [
        "idxs.values()"
      ],
      "execution_count": 62,
      "outputs": [
        {
          "output_type": "execute_result",
          "data": {
            "text/plain": [
              "dict_values([2, 8, 9, 3, 7, 10])"
            ]
          },
          "metadata": {},
          "execution_count": 62
        }
      ]
    },
    {
      "cell_type": "code",
      "metadata": {
        "id": "A2ppWaekuf65",
        "colab": {
          "base_uri": "https://localhost:8080/"
        },
        "outputId": "5a185fe9-761e-412e-d92c-30b0624ad26c"
      },
      "source": [
        "idxs.items()"
      ],
      "execution_count": 63,
      "outputs": [
        {
          "output_type": "execute_result",
          "data": {
            "text/plain": [
              "dict_items([('header', 2), ('measurements', 8), ('names', 9), ('params_begin', 3), ('params_end', 7), ('data', 10)])"
            ]
          },
          "metadata": {},
          "execution_count": 63
        }
      ]
    },
    {
      "cell_type": "code",
      "metadata": {
        "id": "ubghcG37uh06",
        "colab": {
          "base_uri": "https://localhost:8080/"
        },
        "outputId": "5503ed08-4f1f-463f-8c64-b463bee5f0c8"
      },
      "source": [
        "item = next(iter(idxs.items()))\n",
        "print(item, type(item))"
      ],
      "execution_count": 64,
      "outputs": [
        {
          "output_type": "stream",
          "name": "stdout",
          "text": [
            "('header', 2) <class 'tuple'>\n"
          ]
        }
      ]
    },
    {
      "cell_type": "code",
      "metadata": {
        "id": "qX3QR3Qtvnbd",
        "colab": {
          "base_uri": "https://localhost:8080/"
        },
        "outputId": "bbe0dc1b-1cb5-44c9-b576-d7d0d11a1eb0"
      },
      "source": [
        "for x in idxs.keys():\n",
        "    print(type(x), x)"
      ],
      "execution_count": 65,
      "outputs": [
        {
          "output_type": "stream",
          "name": "stdout",
          "text": [
            "<class 'str'> header\n<class 'str'> measurements\n<class 'str'> names\n<class 'str'> params_begin\n<class 'str'> params_end\n<class 'str'> data\n"
          ]
        }
      ]
    },
    {
      "cell_type": "code",
      "metadata": {
        "id": "UoeZBQqovnMV",
        "colab": {
          "base_uri": "https://localhost:8080/"
        },
        "outputId": "b68a0124-ce86-420b-d43f-e5256a082fbb"
      },
      "source": [
        "for x in idxs.values():\n",
        "    print(type(x), x)"
      ],
      "execution_count": 66,
      "outputs": [
        {
          "output_type": "stream",
          "name": "stdout",
          "text": [
            "<class 'int'> 2\n<class 'int'> 8\n<class 'int'> 9\n<class 'int'> 3\n<class 'int'> 7\n<class 'int'> 10\n"
          ]
        }
      ]
    },
    {
      "cell_type": "code",
      "metadata": {
        "id": "PogfuJ2OuuP4",
        "colab": {
          "base_uri": "https://localhost:8080/"
        },
        "outputId": "0481076c-e6c9-47d0-bfd8-4341767913d6"
      },
      "source": [
        "for x in idxs.items():\n",
        "    print(type(x), x)"
      ],
      "execution_count": 67,
      "outputs": [
        {
          "output_type": "stream",
          "name": "stdout",
          "text": [
            "<class 'tuple'> ('header', 2)\n<class 'tuple'> ('measurements', 8)\n<class 'tuple'> ('names', 9)\n<class 'tuple'> ('params_begin', 3)\n<class 'tuple'> ('params_end', 7)\n<class 'tuple'> ('data', 10)\n"
          ]
        }
      ]
    },
    {
      "cell_type": "markdown",
      "metadata": {
        "id": "6DtLWLA-vxET"
      },
      "source": [
        "The common way to loop over `dict` `items` is by **unpacking**:"
      ]
    },
    {
      "cell_type": "code",
      "metadata": {
        "id": "iFQyk2QMvSeH",
        "colab": {
          "base_uri": "https://localhost:8080/"
        },
        "outputId": "fd9a21a5-5102-43d9-b95c-d9c6cfbe386d"
      },
      "source": [
        "for key, value in idxs.items():\n",
        "    print(\"key: {:13} value: {}\".format(key, value))"
      ],
      "execution_count": 68,
      "outputs": [
        {
          "output_type": "stream",
          "name": "stdout",
          "text": [
            "key: header        value: 2\nkey: measurements  value: 8\nkey: names         value: 9\nkey: params_begin  value: 3\nkey: params_end    value: 7\nkey: data          value: 10\n"
          ]
        }
      ]
    },
    {
      "cell_type": "markdown",
      "metadata": {
        "id": "jeroIc1_SkTf"
      },
      "source": [
        "## Exercise with `dict`\n",
        "Count the characters within the `my_name` variable. Create a `characters` dictionary with\n",
        "- each unique character as `key`, and\n",
        "- the count as `value`.\n",
        "\n",
        "Example:\n",
        "`\"Greg\"` --> `{'g': 2, 'r': 1, 'e': 1}`"
      ]
    },
    {
      "cell_type": "markdown",
      "metadata": {
        "id": "WKiTdolsUm-I"
      },
      "source": [
        "### Solution"
      ]
    },
    {
      "cell_type": "code",
      "metadata": {
        "id": "-ZwXJFF0SjaN",
        "colab": {
          "base_uri": "https://localhost:8080/"
        },
        "outputId": "7dc5d712-c6ee-491d-e36f-1dd864f95ae2"
      },
      "source": [
        "characters = dict()\n",
        "for c in my_name.lower():\n",
        "    if c in characters.keys():\n",
        "        characters[c] += 1\n",
        "    else:\n",
        "        characters[c] = 1\n",
        "\n",
        "characters"
      ],
      "execution_count": 69,
      "outputs": [
        {
          "output_type": "execute_result",
          "data": {
            "text/plain": [
              "{'h': 1,\n",
              " 'o': 1,\n",
              " 'l': 1,\n",
              " 'g': 1,\n",
              " 'e': 3,\n",
              " 'r': 1,\n",
              " ' ': 1,\n",
              " 's': 2,\n",
              " 't': 1,\n",
              " 'f': 2,\n",
              " 'n': 1}"
            ]
          },
          "metadata": {},
          "execution_count": 69
        }
      ]
    },
    {
      "cell_type": "markdown",
      "metadata": {
        "id": "Q-JmY8k2DYFu"
      },
      "source": [
        "# Table of Python containers\n",
        "|Python container|list|tuple|set|dictionary|\n",
        "|---|---|---|---|---|\n",
        "|creation|`li = [1, 1, \"Hi!\"]`|`tup = (1, 1, \"Hi!\")`|`se = set([1, 1, \"Hi!\"])`|`d = {\"Musk\":\"Elon\", \"Bezos\":\"Jeff\"}`|\n",
        "|print return|`[1, 1, 'Hi!']`|`(1, 1, 'Hi!')`|`{1, 'Hi!'}`|`{'Musk': 'Elon', 'Bezos': 'Jeff'}`|\n",
        "|mutablility|mutable|**immutable**|mutable|mutable|\n",
        "|slicing|yes, `li[0]` --> `1`|yes, `tup[0]` --> `1`|no slicing|no slicing|\n",
        "|primary usage|basic container with<br>`append()` method|use if data doesn't<br>change|- get unique values<br>- set operations: `union`, `diff`,|lookup table|\n",
        "\n"
      ]
    },
    {
      "cell_type": "markdown",
      "metadata": {
        "id": "0E4yUg70WYXj"
      },
      "source": [
        "# `set` objects\n",
        "\n",
        "A Python `set` is a mutable container (it can grow like a `list`) that contains **unique values**.\n",
        "\n",
        "Therefore, one typical use-case is getting the unique values of another container: "
      ]
    },
    {
      "cell_type": "code",
      "metadata": {
        "id": "5eI-BbcST_BA",
        "colab": {
          "base_uri": "https://localhost:8080/"
        },
        "outputId": "9469f954-0c2e-4887-d1d9-b12c9856002b"
      },
      "source": [
        "set(my_name.lower())"
      ],
      "execution_count": 70,
      "outputs": [
        {
          "output_type": "execute_result",
          "data": {
            "text/plain": [
              "{' ', 'e', 'f', 'g', 'h', 'l', 'n', 'o', 'r', 's', 't'}"
            ]
          },
          "metadata": {},
          "execution_count": 70
        }
      ]
    },
    {
      "cell_type": "markdown",
      "metadata": {
        "id": "lnm0jGTxYKHp"
      },
      "source": [
        "`set` objects provide **set operations** as methods:"
      ]
    },
    {
      "cell_type": "code",
      "metadata": {
        "id": "kUrJivH0UUmD",
        "colab": {
          "base_uri": "https://localhost:8080/"
        },
        "outputId": "74cffae6-dba6-42f2-86fe-78a625067170"
      },
      "source": [
        "print_object_attributes(set())"
      ],
      "execution_count": 71,
      "outputs": [
        {
          "output_type": "stream",
          "name": "stdout",
          "text": [
            "<class 'set'> has the following (public) attributes:\n",
            ".add                      Add an element to a set.\n",
            ".clear                    Remove all elements from this set.\n",
            ".copy                     Return a shallow copy of a set.\n",
            ".difference               Return the difference of two or more sets as a new set.\n",
            ".difference_update        Remove all elements of another set from this set.\n",
            ".discard                  Remove an element from a set if it is a member.\n",
            ".intersection             Return the intersection of two sets as a new set.\n",
            ".intersection_update      Update a set with the intersection of itself and another.\n",
            ".isdisjoint               Return True if two sets have a null intersection.\n",
            ".issubset                 Report whether another set contains this set.\n",
            ".issuperset               Report whether this set contains another set.\n",
            ".pop                      Remove and return an arbitrary set element.\n",
            ".remove                   Remove an element from a set; it must be a member.\n",
            ".symmetric_difference     Return the symmetric difference of two sets as a new set.\n",
            ".symmetric_difference_updateUpdate a set with the symmetric difference of itself and another.\n",
            ".union                    Return the union of sets as a new set.\n",
            ".update                   Update a set with the union of itself and others.\n"
          ]
        }
      ]
    },
    {
      "cell_type": "markdown",
      "metadata": {
        "id": "THUEqQyrofou"
      },
      "source": [
        "## `list` and `set` excercise\n",
        "\n",
        "Create a list `c` that contains only the elements that are common between the lists `a` and `b` without their duplicates. "
      ]
    },
    {
      "cell_type": "code",
      "metadata": {
        "id": "pgLpypO7pDLW"
      },
      "source": [
        "a = [1, 1, 2, 3, 5, 8, 13, 21, 34, 55, 89]\n",
        "b = [1, 2, 3, 4, 5, 5, 6, 7, 8, 9, 10, 11, 13]"
      ],
      "execution_count": 72,
      "outputs": []
    },
    {
      "cell_type": "markdown",
      "metadata": {
        "id": "LdCu_BJ7omYL"
      },
      "source": [
        "Solve the exercise with two different solutions:\n",
        "1. use lists\n",
        "2. use sets\n"
      ]
    },
    {
      "cell_type": "markdown",
      "metadata": {
        "id": "45_v427-pqem"
      },
      "source": [
        "### Half a solution containing *dupes*"
      ]
    },
    {
      "cell_type": "code",
      "metadata": {
        "id": "9SBxUkPCpQZL",
        "colab": {
          "base_uri": "https://localhost:8080/"
        },
        "outputId": "ee2c130a-b010-4e02-f7a8-b7ab9e956c2b"
      },
      "source": [
        "c = []\n",
        "for item in a:\n",
        "    if item in b:\n",
        "        c.append(item) \n",
        "c"
      ],
      "execution_count": 73,
      "outputs": [
        {
          "output_type": "execute_result",
          "data": {
            "text/plain": [
              "[1, 1, 2, 3, 5, 8, 13]"
            ]
          },
          "metadata": {},
          "execution_count": 73
        }
      ]
    },
    {
      "cell_type": "markdown",
      "metadata": {
        "id": "aSBYU2L8qBHm"
      },
      "source": [
        "### Solution using lists"
      ]
    },
    {
      "cell_type": "code",
      "metadata": {
        "id": "Vk2t1V4qqBHn",
        "colab": {
          "base_uri": "https://localhost:8080/"
        },
        "outputId": "527d07c8-91e2-4c39-9dcc-808304b8d258"
      },
      "source": [
        "c = []\n",
        "for item in a:\n",
        "    if item in b:\n",
        "        if item not in c:\n",
        "            c.append(item) \n",
        "c"
      ],
      "execution_count": 74,
      "outputs": [
        {
          "output_type": "execute_result",
          "data": {
            "text/plain": [
              "[1, 2, 3, 5, 8, 13]"
            ]
          },
          "metadata": {},
          "execution_count": 74
        }
      ]
    },
    {
      "cell_type": "markdown",
      "metadata": {
        "id": "2HcJSRR1qpiZ"
      },
      "source": [
        "### Solution using sets"
      ]
    },
    {
      "cell_type": "code",
      "metadata": {
        "id": "tdvT-BYUqpil",
        "colab": {
          "base_uri": "https://localhost:8080/"
        },
        "outputId": "854c80c6-c52c-4207-a0fc-d75405d93e6f"
      },
      "source": [
        "c = set(a).intersection(set(b))\n",
        "c"
      ],
      "execution_count": 75,
      "outputs": [
        {
          "output_type": "execute_result",
          "data": {
            "text/plain": [
              "{1, 2, 3, 5, 8, 13}"
            ]
          },
          "metadata": {},
          "execution_count": 75
        }
      ]
    },
    {
      "cell_type": "markdown",
      "metadata": {
        "id": "MGbfJcp8wR_x"
      },
      "source": [
        "# Return to the 'Logfile challenge'"
      ]
    },
    {
      "cell_type": "code",
      "metadata": {
        "id": "ybXGS3-4ezux",
        "colab": {
          "base_uri": "https://localhost:8080/"
        },
        "outputId": "d4fa40d1-6f6d-4d13-f3d2-1252c3cf72ec"
      },
      "source": [
        "print(s)"
      ],
      "execution_count": 76,
      "outputs": [
        {
          "output_type": "stream",
          "name": "stdout",
          "text": [
            "MLPy logfile challenge\n",
            "\n",
            "header\n",
            "measurement date,2021-04-06\n",
            "measurement time,08:00:00\n",
            "calibration factor sig0,0.55\n",
            "calibration factor sig2,1.88\n",
            "\n",
            "measurements\n",
            "x,sig0,sig1,sig2\n",
            "5.17,6.40 Ohms,16.05 Ohms,10.61 Ohms\n",
            "9.47,34.21 Ohms,5.95 Ohms,293 mOhms\n",
            "7.65,21.11 Ohms,366 mOhms,4.80 Ohms\n",
            "2.82,36.06 Ohms,16.03 Ohms,6.39 Ohms\n",
            "2.21,30.50 Ohms,11.65 Ohms,4.36 Ohms\n",
            "6.86,6.92 Ohms,3.73 Ohms,7.39 Ohms\n",
            "1.67,21.43 Ohms,7.45 Ohms,2.67 Ohms\n",
            "3.92,28.49 Ohms,19.98 Ohms,9.47 Ohms\n",
            "6.18,324 mOhms,8.59 Ohms,9.24 Ohms\n",
            "4.12,25.24 Ohms,19.96 Ohms,9.84 Ohms\n",
            "0.02,6 mOhms,2 mOhms,1 mOhms\n",
            "8.84,36.11 Ohms,2.10 Ohms,1.35 Ohms\n",
            "8.85,36.14 Ohms,2.14 Ohms,1.33 Ohms\n",
            "3.00,36.36 Ohms,17.09 Ohms,6.98 Ohms\n",
            "5.90,108 mOhms,10.82 Ohms,9.82 Ohms\n",
            "9.78,30.57 Ohms,8.31 Ohms,49 mOhms\n",
            "8.45,33.44 Ohms,621 mOhms,2.33 Ohms\n",
            "0.65,4.06 Ohms,1.28 Ohms,438 mOhms\n",
            "2.95,36.34 Ohms,16.77 Ohms,6.79 Ohms\n",
            "2.88,36.22 Ohms,16.37 Ohms,6.57 Ohms\n",
            "8.22,30.69 Ohms,155 mOhms,2.98 Ohms\n",
            "6.26,679 mOhms,7.96 Ohms,9.05 Ohms\n",
            "1.10,10.87 Ohms,3.53 Ohms,1.23 Ohms\n",
            "0.01,0 mOhms,0 mOhms,0 mOhms\n",
            "9.42,34.62 Ohms,5.61 Ohms,347 mOhms\n",
            "1.42,16.57 Ohms,5.57 Ohms,1.97 Ohms\n",
            "4.22,23.51 Ohms,19.86 Ohms,10.01 Ohms\n",
            "3.46,34.25 Ohms,19.13 Ohms,8.35 Ohms\n",
            "8.70,35.46 Ohms,1.46 Ohms,1.68 Ohms\n",
            "4.29,22.22 Ohms,19.75 Ohms,10.11 Ohms\n"
          ]
        }
      ]
    },
    {
      "cell_type": "code",
      "metadata": {
        "id": "B70_ARG3wOI2",
        "colab": {
          "base_uri": "https://localhost:8080/"
        },
        "outputId": "45ff8eac-758a-47ec-fa71-fcd509165641"
      },
      "source": [
        "print(\"'lines' is a {} container with {} items.\".format(type(lines), len(lines)))\n",
        "print(\"'idxs' is a {} container with {} items.\".format(type(idxs), len(idxs)))"
      ],
      "execution_count": 77,
      "outputs": [
        {
          "output_type": "stream",
          "name": "stdout",
          "text": [
            "'lines' is a <class 'list'> container with 40 items.\n'idxs' is a <class 'dict'> container with 6 items.\n"
          ]
        }
      ]
    },
    {
      "cell_type": "code",
      "metadata": {
        "id": "tYHxbXOmp7PW",
        "colab": {
          "base_uri": "https://localhost:8080/"
        },
        "outputId": "a948edce-42f4-4c2a-a9b0-4cd60f46364c"
      },
      "source": [
        "lines"
      ],
      "execution_count": 78,
      "outputs": [
        {
          "output_type": "execute_result",
          "data": {
            "text/plain": [
              "['MLPy logfile challenge',\n",
              " '',\n",
              " 'header',\n",
              " 'measurement date,2021-04-06',\n",
              " 'measurement time,08:00:00',\n",
              " 'calibration factor sig0,0.55',\n",
              " 'calibration factor sig2,1.88',\n",
              " '',\n",
              " 'measurements',\n",
              " 'x,sig0,sig1,sig2',\n",
              " '5.17,6.40 Ohms,16.05 Ohms,10.61 Ohms',\n",
              " '9.47,34.21 Ohms,5.95 Ohms,293 mOhms',\n",
              " '7.65,21.11 Ohms,366 mOhms,4.80 Ohms',\n",
              " '2.82,36.06 Ohms,16.03 Ohms,6.39 Ohms',\n",
              " '2.21,30.50 Ohms,11.65 Ohms,4.36 Ohms',\n",
              " '6.86,6.92 Ohms,3.73 Ohms,7.39 Ohms',\n",
              " '1.67,21.43 Ohms,7.45 Ohms,2.67 Ohms',\n",
              " '3.92,28.49 Ohms,19.98 Ohms,9.47 Ohms',\n",
              " '6.18,324 mOhms,8.59 Ohms,9.24 Ohms',\n",
              " '4.12,25.24 Ohms,19.96 Ohms,9.84 Ohms',\n",
              " '0.02,6 mOhms,2 mOhms,1 mOhms',\n",
              " '8.84,36.11 Ohms,2.10 Ohms,1.35 Ohms',\n",
              " '8.85,36.14 Ohms,2.14 Ohms,1.33 Ohms',\n",
              " '3.00,36.36 Ohms,17.09 Ohms,6.98 Ohms',\n",
              " '5.90,108 mOhms,10.82 Ohms,9.82 Ohms',\n",
              " '9.78,30.57 Ohms,8.31 Ohms,49 mOhms',\n",
              " '8.45,33.44 Ohms,621 mOhms,2.33 Ohms',\n",
              " '0.65,4.06 Ohms,1.28 Ohms,438 mOhms',\n",
              " '2.95,36.34 Ohms,16.77 Ohms,6.79 Ohms',\n",
              " '2.88,36.22 Ohms,16.37 Ohms,6.57 Ohms',\n",
              " '8.22,30.69 Ohms,155 mOhms,2.98 Ohms',\n",
              " '6.26,679 mOhms,7.96 Ohms,9.05 Ohms',\n",
              " '1.10,10.87 Ohms,3.53 Ohms,1.23 Ohms',\n",
              " '0.01,0 mOhms,0 mOhms,0 mOhms',\n",
              " '9.42,34.62 Ohms,5.61 Ohms,347 mOhms',\n",
              " '1.42,16.57 Ohms,5.57 Ohms,1.97 Ohms',\n",
              " '4.22,23.51 Ohms,19.86 Ohms,10.01 Ohms',\n",
              " '3.46,34.25 Ohms,19.13 Ohms,8.35 Ohms',\n",
              " '8.70,35.46 Ohms,1.46 Ohms,1.68 Ohms',\n",
              " '4.29,22.22 Ohms,19.75 Ohms,10.11 Ohms']"
            ]
          },
          "metadata": {},
          "execution_count": 78
        }
      ]
    },
    {
      "cell_type": "code",
      "metadata": {
        "id": "P0ljC3WgwYn-",
        "colab": {
          "base_uri": "https://localhost:8080/"
        },
        "outputId": "10ce7112-d4cc-4378-ae31-b866d3841b33"
      },
      "source": [
        "idxs"
      ],
      "execution_count": 79,
      "outputs": [
        {
          "output_type": "execute_result",
          "data": {
            "text/plain": [
              "{'header': 2,\n",
              " 'measurements': 8,\n",
              " 'names': 9,\n",
              " 'params_begin': 3,\n",
              " 'params_end': 7,\n",
              " 'data': 10}"
            ]
          },
          "metadata": {},
          "execution_count": 79
        }
      ]
    },
    {
      "cell_type": "markdown",
      "metadata": {
        "id": "DvZbf2gNwdKP"
      },
      "source": [
        "Now we can **slice** the `lines` to more handy variables:"
      ]
    },
    {
      "cell_type": "code",
      "metadata": {
        "id": "PZl-SmxywZ6H",
        "colab": {
          "base_uri": "https://localhost:8080/"
        },
        "outputId": "e16b4133-ba2e-422b-e411-8dcb7a2b144c"
      },
      "source": [
        "params_lines = lines[idxs[\"params_begin\"] : idxs[\"params_end\"]]\n",
        "params_lines"
      ],
      "execution_count": 80,
      "outputs": [
        {
          "output_type": "execute_result",
          "data": {
            "text/plain": [
              "['measurement date,2021-04-06',\n",
              " 'measurement time,08:00:00',\n",
              " 'calibration factor sig0,0.55',\n",
              " 'calibration factor sig2,1.88']"
            ]
          },
          "metadata": {},
          "execution_count": 80
        }
      ]
    },
    {
      "cell_type": "code",
      "metadata": {
        "id": "D6GTgeE8xMuX",
        "colab": {
          "base_uri": "https://localhost:8080/"
        },
        "outputId": "36c52b4b-2428-41d0-ef0a-445e7391ac0d"
      },
      "source": [
        "data_lines = lines[idxs[\"data\"] :]\n",
        "data_lines"
      ],
      "execution_count": 81,
      "outputs": [
        {
          "output_type": "execute_result",
          "data": {
            "text/plain": [
              "['5.17,6.40 Ohms,16.05 Ohms,10.61 Ohms',\n",
              " '9.47,34.21 Ohms,5.95 Ohms,293 mOhms',\n",
              " '7.65,21.11 Ohms,366 mOhms,4.80 Ohms',\n",
              " '2.82,36.06 Ohms,16.03 Ohms,6.39 Ohms',\n",
              " '2.21,30.50 Ohms,11.65 Ohms,4.36 Ohms',\n",
              " '6.86,6.92 Ohms,3.73 Ohms,7.39 Ohms',\n",
              " '1.67,21.43 Ohms,7.45 Ohms,2.67 Ohms',\n",
              " '3.92,28.49 Ohms,19.98 Ohms,9.47 Ohms',\n",
              " '6.18,324 mOhms,8.59 Ohms,9.24 Ohms',\n",
              " '4.12,25.24 Ohms,19.96 Ohms,9.84 Ohms',\n",
              " '0.02,6 mOhms,2 mOhms,1 mOhms',\n",
              " '8.84,36.11 Ohms,2.10 Ohms,1.35 Ohms',\n",
              " '8.85,36.14 Ohms,2.14 Ohms,1.33 Ohms',\n",
              " '3.00,36.36 Ohms,17.09 Ohms,6.98 Ohms',\n",
              " '5.90,108 mOhms,10.82 Ohms,9.82 Ohms',\n",
              " '9.78,30.57 Ohms,8.31 Ohms,49 mOhms',\n",
              " '8.45,33.44 Ohms,621 mOhms,2.33 Ohms',\n",
              " '0.65,4.06 Ohms,1.28 Ohms,438 mOhms',\n",
              " '2.95,36.34 Ohms,16.77 Ohms,6.79 Ohms',\n",
              " '2.88,36.22 Ohms,16.37 Ohms,6.57 Ohms',\n",
              " '8.22,30.69 Ohms,155 mOhms,2.98 Ohms',\n",
              " '6.26,679 mOhms,7.96 Ohms,9.05 Ohms',\n",
              " '1.10,10.87 Ohms,3.53 Ohms,1.23 Ohms',\n",
              " '0.01,0 mOhms,0 mOhms,0 mOhms',\n",
              " '9.42,34.62 Ohms,5.61 Ohms,347 mOhms',\n",
              " '1.42,16.57 Ohms,5.57 Ohms,1.97 Ohms',\n",
              " '4.22,23.51 Ohms,19.86 Ohms,10.01 Ohms',\n",
              " '3.46,34.25 Ohms,19.13 Ohms,8.35 Ohms',\n",
              " '8.70,35.46 Ohms,1.46 Ohms,1.68 Ohms',\n",
              " '4.29,22.22 Ohms,19.75 Ohms,10.11 Ohms']"
            ]
          },
          "metadata": {},
          "execution_count": 81
        }
      ]
    },
    {
      "cell_type": "markdown",
      "metadata": {
        "id": "XQggzXG9xjkm"
      },
      "source": [
        "Finally, let's slice the `names` line:"
      ]
    },
    {
      "cell_type": "code",
      "metadata": {
        "id": "jqO0aTrQwo08",
        "colab": {
          "base_uri": "https://localhost:8080/",
          "height": 35
        },
        "outputId": "0ca7e079-13dd-4d7e-b1d2-745710fee619"
      },
      "source": [
        "lines[idxs[\"names\"]]"
      ],
      "execution_count": 82,
      "outputs": [
        {
          "output_type": "execute_result",
          "data": {
            "text/plain": [
              "'x,sig0,sig1,sig2'"
            ]
          },
          "metadata": {},
          "execution_count": 82
        }
      ]
    },
    {
      "cell_type": "markdown",
      "metadata": {
        "id": "8zNlT9JYxswQ"
      },
      "source": [
        "We can create a `names` `list` directy by splitting on `,`"
      ]
    },
    {
      "cell_type": "code",
      "metadata": {
        "id": "CLdoJ06nxEkZ",
        "colab": {
          "base_uri": "https://localhost:8080/"
        },
        "outputId": "cd1418a7-7e69-4d41-984f-970f87965e92"
      },
      "source": [
        "names = lines[idxs[\"names\"]].split(\",\")\n",
        "names"
      ],
      "execution_count": 83,
      "outputs": [
        {
          "output_type": "execute_result",
          "data": {
            "text/plain": [
              "['x', 'sig0', 'sig1', 'sig2']"
            ]
          },
          "metadata": {},
          "execution_count": 83
        }
      ]
    },
    {
      "cell_type": "code",
      "metadata": {
        "id": "GrthEryKx7Ye",
        "colab": {
          "base_uri": "https://localhost:8080/"
        },
        "outputId": "50933559-0aa1-4742-9e09-76ed78045586"
      },
      "source": [
        "params_lines"
      ],
      "execution_count": 84,
      "outputs": [
        {
          "output_type": "execute_result",
          "data": {
            "text/plain": [
              "['measurement date,2021-04-06',\n",
              " 'measurement time,08:00:00',\n",
              " 'calibration factor sig0,0.55',\n",
              " 'calibration factor sig2,1.88']"
            ]
          },
          "metadata": {},
          "execution_count": 84
        }
      ]
    },
    {
      "cell_type": "markdown",
      "metadata": {
        "id": "GAYlkbEwyJLI"
      },
      "source": [
        "Storing the parameters is another perfect application for a dictionary"
      ]
    },
    {
      "cell_type": "code",
      "metadata": {
        "id": "wavV8ncEyGks",
        "colab": {
          "base_uri": "https://localhost:8080/"
        },
        "outputId": "b4eea745-7d12-4af6-817e-7cbe5efe4720"
      },
      "source": [
        "params = dict()\n",
        "for line in params_lines:\n",
        "    key, value = line.split(\",\")\n",
        "    params[key] = value\n",
        "\n",
        "params"
      ],
      "execution_count": 85,
      "outputs": [
        {
          "output_type": "execute_result",
          "data": {
            "text/plain": [
              "{'measurement date': '2021-04-06',\n",
              " 'measurement time': '08:00:00',\n",
              " 'calibration factor sig0': '0.55',\n",
              " 'calibration factor sig2': '1.88'}"
            ]
          },
          "metadata": {},
          "execution_count": 85
        }
      ]
    },
    {
      "cell_type": "markdown",
      "metadata": {
        "id": "JAzxRLq_3jrn"
      },
      "source": [
        "perfect!\n",
        "\n",
        "... see how readable the code get's in the following:"
      ]
    },
    {
      "cell_type": "code",
      "metadata": {
        "id": "VBbl1BR8Ny-V",
        "colab": {
          "base_uri": "https://localhost:8080/",
          "height": 35
        },
        "outputId": "7b006dad-deee-4ba1-e2c2-36910581849f"
      },
      "source": [
        "params[\"measurement date\"]"
      ],
      "execution_count": 86,
      "outputs": [
        {
          "output_type": "execute_result",
          "data": {
            "text/plain": [
              "'2021-04-06'"
            ]
          },
          "metadata": {},
          "execution_count": 86
        }
      ]
    },
    {
      "cell_type": "markdown",
      "metadata": {
        "id": "a8XkLilGN9bn"
      },
      "source": [
        "In order to **parse** the data effectively, we need to learn **funcitons** before."
      ]
    },
    {
      "cell_type": "markdown",
      "metadata": {
        "id": "1jCd8bwktQcj"
      },
      "source": [
        "# Functions\n",
        "A function definition starts with the keyword **`def`** as follows:\n",
        "**`def`**` function_name(parameters):`\n",
        "\n",
        "Example:"
      ]
    },
    {
      "cell_type": "code",
      "metadata": {
        "id": "_yW2k_ONtQe_"
      },
      "source": [
        "def func_add(a, b):\n",
        "    return a+b"
      ],
      "execution_count": 87,
      "outputs": []
    },
    {
      "cell_type": "code",
      "metadata": {
        "id": "dowJ8Z7PtQhc",
        "colab": {
          "base_uri": "https://localhost:8080/"
        },
        "outputId": "b35ae6e2-7269-497f-eac2-dc8aed2881c8"
      },
      "source": [
        "func_add(4, 3)"
      ],
      "execution_count": 88,
      "outputs": [
        {
          "output_type": "execute_result",
          "data": {
            "text/plain": [
              "7"
            ]
          },
          "metadata": {},
          "execution_count": 88
        }
      ]
    },
    {
      "cell_type": "markdown",
      "metadata": {
        "id": "0Uk05dhRwDP2"
      },
      "source": [
        "## Exercise with a function\n",
        "\n",
        "Write a function `name_splitter` that receies a `<str> name`, splits it at 'space' and returns a **`tuple`** with 1st and 2nd name."
      ]
    },
    {
      "cell_type": "code",
      "metadata": {
        "id": "tWGaA3g_tQjl",
        "colab": {
          "base_uri": "https://localhost:8080/",
          "height": 35
        },
        "outputId": "4d2191a1-492a-469f-f3e2-7eaa414229ec"
      },
      "source": [
        "my_name"
      ],
      "execution_count": 89,
      "outputs": [
        {
          "output_type": "execute_result",
          "data": {
            "text/plain": [
              "'Holger Steffens'"
            ]
          },
          "metadata": {},
          "execution_count": 89
        }
      ]
    },
    {
      "cell_type": "markdown",
      "metadata": {
        "id": "5Ou6DKrJu5vm"
      },
      "source": [
        "### Solution"
      ]
    },
    {
      "cell_type": "code",
      "metadata": {
        "id": "Oq8k92tktQl3"
      },
      "source": [
        "def name_splitter(name):\n",
        "    \"\"\"\n",
        "    Splits the input <str> name on ' ' and returns a tuple.\n",
        "    \"\"\"\n",
        "    return tuple(my_name.split(\" \"))"
      ],
      "execution_count": 90,
      "outputs": []
    },
    {
      "cell_type": "code",
      "metadata": {
        "id": "xKpKCd1GtQoq",
        "colab": {
          "base_uri": "https://localhost:8080/"
        },
        "outputId": "e81bd614-c313-4bfc-fc92-a6af0346ebfc"
      },
      "source": [
        "name_splitter(my_name)"
      ],
      "execution_count": 91,
      "outputs": [
        {
          "output_type": "execute_result",
          "data": {
            "text/plain": [
              "('Holger', 'Steffens')"
            ]
          },
          "metadata": {},
          "execution_count": 91
        }
      ]
    },
    {
      "cell_type": "code",
      "metadata": {
        "id": "TuYlhbhltQrN"
      },
      "source": [],
      "execution_count": null,
      "outputs": []
    },
    {
      "cell_type": "markdown",
      "metadata": {
        "id": "hX-N3NBkAHRf"
      },
      "source": [
        "## Exercise advanced functions\n",
        "Write a function `calc_fibunacci(z)` that returns the Fibunacci number for the input z. \n",
        "\n",
        "Here is how you calculate Fibunacci numbers:\n",
        "- `Fibunacci(z) = `\n",
        "> - `1, if z==0` \n",
        "> - `1, if z==1` \n",
        "> - `Fibunacci(z-2) + Fibunacci(z-1), else`  \n",
        "\n",
        "\n"
      ]
    },
    {
      "cell_type": "markdown",
      "metadata": {
        "id": "Qa4Csn2FGXK6"
      },
      "source": [
        "### Solution"
      ]
    },
    {
      "cell_type": "code",
      "metadata": {
        "id": "VxzLe403Ayzs"
      },
      "source": [
        "def calc_fibunacci(z):\n",
        "    \"\"\"\n",
        "    Return the <int> fibunacci number of the input <int> z\n",
        "    \"\"\"\n",
        "    if z in (0, 1):\n",
        "        return 1\n",
        "\n",
        "    return calc_fibunacci(z-2) + calc_fibunacci(z-1)"
      ],
      "execution_count": 92,
      "outputs": []
    },
    {
      "cell_type": "code",
      "metadata": {
        "id": "JavNL7b7zEU2",
        "colab": {
          "base_uri": "https://localhost:8080/"
        },
        "outputId": "7da2dd17-8a7d-4c61-b07f-16efa2553f3b"
      },
      "source": [
        "for i in range(10):\n",
        "    fib = calc_fibunacci(i)\n",
        "    print(f\"calc_fibunacci({i}) = {fib}\")"
      ],
      "execution_count": 93,
      "outputs": [
        {
          "output_type": "stream",
          "name": "stdout",
          "text": [
            "calc_fibunacci(0) = 1\ncalc_fibunacci(1) = 1\ncalc_fibunacci(2) = 2\ncalc_fibunacci(3) = 3\ncalc_fibunacci(4) = 5\ncalc_fibunacci(5) = 8\ncalc_fibunacci(6) = 13\ncalc_fibunacci(7) = 21\ncalc_fibunacci(8) = 34\ncalc_fibunacci(9) = 55\n"
          ]
        }
      ]
    },
    {
      "cell_type": "markdown",
      "metadata": {
        "id": "d41l9Vzji3FD"
      },
      "source": [
        "# Parsing the data"
      ]
    },
    {
      "cell_type": "code",
      "metadata": {
        "id": "450eZoU-1Ds8",
        "colab": {
          "base_uri": "https://localhost:8080/"
        },
        "outputId": "b5c75513-694b-438d-f372-9ecf33a91de0"
      },
      "source": [
        "data_lines"
      ],
      "execution_count": 94,
      "outputs": [
        {
          "output_type": "execute_result",
          "data": {
            "text/plain": [
              "['5.17,6.40 Ohms,16.05 Ohms,10.61 Ohms',\n",
              " '9.47,34.21 Ohms,5.95 Ohms,293 mOhms',\n",
              " '7.65,21.11 Ohms,366 mOhms,4.80 Ohms',\n",
              " '2.82,36.06 Ohms,16.03 Ohms,6.39 Ohms',\n",
              " '2.21,30.50 Ohms,11.65 Ohms,4.36 Ohms',\n",
              " '6.86,6.92 Ohms,3.73 Ohms,7.39 Ohms',\n",
              " '1.67,21.43 Ohms,7.45 Ohms,2.67 Ohms',\n",
              " '3.92,28.49 Ohms,19.98 Ohms,9.47 Ohms',\n",
              " '6.18,324 mOhms,8.59 Ohms,9.24 Ohms',\n",
              " '4.12,25.24 Ohms,19.96 Ohms,9.84 Ohms',\n",
              " '0.02,6 mOhms,2 mOhms,1 mOhms',\n",
              " '8.84,36.11 Ohms,2.10 Ohms,1.35 Ohms',\n",
              " '8.85,36.14 Ohms,2.14 Ohms,1.33 Ohms',\n",
              " '3.00,36.36 Ohms,17.09 Ohms,6.98 Ohms',\n",
              " '5.90,108 mOhms,10.82 Ohms,9.82 Ohms',\n",
              " '9.78,30.57 Ohms,8.31 Ohms,49 mOhms',\n",
              " '8.45,33.44 Ohms,621 mOhms,2.33 Ohms',\n",
              " '0.65,4.06 Ohms,1.28 Ohms,438 mOhms',\n",
              " '2.95,36.34 Ohms,16.77 Ohms,6.79 Ohms',\n",
              " '2.88,36.22 Ohms,16.37 Ohms,6.57 Ohms',\n",
              " '8.22,30.69 Ohms,155 mOhms,2.98 Ohms',\n",
              " '6.26,679 mOhms,7.96 Ohms,9.05 Ohms',\n",
              " '1.10,10.87 Ohms,3.53 Ohms,1.23 Ohms',\n",
              " '0.01,0 mOhms,0 mOhms,0 mOhms',\n",
              " '9.42,34.62 Ohms,5.61 Ohms,347 mOhms',\n",
              " '1.42,16.57 Ohms,5.57 Ohms,1.97 Ohms',\n",
              " '4.22,23.51 Ohms,19.86 Ohms,10.01 Ohms',\n",
              " '3.46,34.25 Ohms,19.13 Ohms,8.35 Ohms',\n",
              " '8.70,35.46 Ohms,1.46 Ohms,1.68 Ohms',\n",
              " '4.29,22.22 Ohms,19.75 Ohms,10.11 Ohms']"
            ]
          },
          "metadata": {},
          "execution_count": 94
        }
      ]
    },
    {
      "cell_type": "code",
      "metadata": {
        "id": "qSEiSuet4Dmx",
        "colab": {
          "base_uri": "https://localhost:8080/"
        },
        "outputId": "ea521508-b411-485f-8e31-31544a632184"
      },
      "source": [
        "names"
      ],
      "execution_count": 95,
      "outputs": [
        {
          "output_type": "execute_result",
          "data": {
            "text/plain": [
              "['x', 'sig0', 'sig1', 'sig2']"
            ]
          },
          "metadata": {},
          "execution_count": 95
        }
      ]
    },
    {
      "cell_type": "code",
      "metadata": {
        "id": "GNl6Ue8z4LRE",
        "colab": {
          "base_uri": "https://localhost:8080/"
        },
        "outputId": "92470bbb-e4cd-4dcd-e0f8-49c7b9950ee7"
      },
      "source": [
        "data_lines[0].split(\",\")"
      ],
      "execution_count": 96,
      "outputs": [
        {
          "output_type": "execute_result",
          "data": {
            "text/plain": [
              "['5.17', '6.40 Ohms', '16.05 Ohms', '10.61 Ohms']"
            ]
          },
          "metadata": {},
          "execution_count": 96
        }
      ]
    },
    {
      "cell_type": "markdown",
      "metadata": {
        "id": "mBDAw97P6V8H"
      },
      "source": [
        "A function is needs that:\n",
        "- takes a `str` input\n",
        "- converts the `str` to a `float`\n",
        "- removes `Ohms` text\n",
        "- removes `mOhms` text and divides the value by 1000\n",
        "\n",
        "Before programming the actual functionality, it is good practivce to write the test bench first:\n"
      ]
    },
    {
      "cell_type": "code",
      "metadata": {
        "id": "hUHIKsks7Mxg",
        "colab": {
          "base_uri": "https://localhost:8080/"
        },
        "outputId": "27e9694a-d16f-4f35-ce99-4fe636660e8c"
      },
      "source": [
        "test_vector = data_lines[0].split(\",\")    # reuse the first data line as test vector\n",
        "test_vector[-1] = \"990 mOhms\"             # replace the last item, so there is a 'mOhms' item\n",
        "test_vector"
      ],
      "execution_count": 97,
      "outputs": [
        {
          "output_type": "execute_result",
          "data": {
            "text/plain": [
              "['5.17', '6.40 Ohms', '16.05 Ohms', '990 mOhms']"
            ]
          },
          "metadata": {},
          "execution_count": 97
        }
      ]
    },
    {
      "cell_type": "code",
      "metadata": {
        "id": "h06PHeGn5vBh",
        "colab": {
          "base_uri": "https://localhost:8080/"
        },
        "outputId": "af634c7b-c588-438a-d6d7-3e600ea0b13e"
      },
      "source": [
        "def string_to_float(s):\n",
        "    return s + \" processed by 'string_to_float'\"\n",
        "\n",
        "for item in test_vector:\n",
        "    result = string_to_float(item)\n",
        "    print(type(result), result)"
      ],
      "execution_count": 98,
      "outputs": [
        {
          "output_type": "stream",
          "name": "stdout",
          "text": [
            "<class 'str'> 5.17 processed by 'string_to_float'\n<class 'str'> 6.40 Ohms processed by 'string_to_float'\n<class 'str'> 16.05 Ohms processed by 'string_to_float'\n<class 'str'> 990 mOhms processed by 'string_to_float'\n"
          ]
        }
      ]
    },
    {
      "cell_type": "markdown",
      "metadata": {
        "id": "NW8C-G3478hr"
      },
      "source": [
        "How to convert a `str` to a `float`?"
      ]
    },
    {
      "cell_type": "code",
      "metadata": {
        "id": "fYCZLCZx70Tm",
        "colab": {
          "base_uri": "https://localhost:8080/"
        },
        "outputId": "85683821-d593-493e-c087-275866a85d59"
      },
      "source": [
        "float(\"3.33\")"
      ],
      "execution_count": 99,
      "outputs": [
        {
          "output_type": "execute_result",
          "data": {
            "text/plain": [
              "3.33"
            ]
          },
          "metadata": {},
          "execution_count": 99
        }
      ]
    },
    {
      "cell_type": "code",
      "metadata": {
        "id": "mAd0r5D38MPe",
        "colab": {
          "base_uri": "https://localhost:8080/"
        },
        "outputId": "4ae060b5-3904-4ec4-c094-6b847469d65e"
      },
      "source": [
        "float(\"3.33 \")"
      ],
      "execution_count": 100,
      "outputs": [
        {
          "output_type": "execute_result",
          "data": {
            "text/plain": [
              "3.33"
            ]
          },
          "metadata": {},
          "execution_count": 100
        }
      ]
    },
    {
      "cell_type": "code",
      "metadata": {
        "id": "8hYwhmFL8QyZ"
      },
      "source": [
        "#float(\"3.33 Ohms\")"
      ],
      "execution_count": 101,
      "outputs": []
    },
    {
      "cell_type": "markdown",
      "metadata": {
        "id": "3empzlmm8udj"
      },
      "source": [
        "Remove the \"Ohms\" first"
      ]
    },
    {
      "cell_type": "code",
      "metadata": {
        "id": "UGFUbvdp8U0M",
        "colab": {
          "base_uri": "https://localhost:8080/"
        },
        "outputId": "b6ded785-4330-4252-9134-22efd8dd90e6"
      },
      "source": [
        "for item in test_vector:\n",
        "    print(item, \"Ohms\" in item)"
      ],
      "execution_count": 102,
      "outputs": [
        {
          "output_type": "stream",
          "name": "stdout",
          "text": [
            "5.17 False\n6.40 Ohms True\n16.05 Ohms True\n990 mOhms True\n"
          ]
        }
      ]
    },
    {
      "cell_type": "markdown",
      "metadata": {
        "id": "iB1-yTTvQEt_"
      },
      "source": [
        "... that would work.\n",
        "\n",
        "However, using the `str.find` method has the advantage of providing the **index** where it was found."
      ]
    },
    {
      "cell_type": "code",
      "metadata": {
        "id": "I3LNRT-19Bwr",
        "colab": {
          "base_uri": "https://localhost:8080/"
        },
        "outputId": "6b98f974-52ca-4260-bda9-8a16746d3992"
      },
      "source": [
        "for item in test_vector:\n",
        "    print(item, item.find(\"Ohms\"))"
      ],
      "execution_count": 103,
      "outputs": [
        {
          "output_type": "stream",
          "name": "stdout",
          "text": [
            "5.17 -1\n6.40 Ohms 5\n16.05 Ohms 6\n990 mOhms 5\n"
          ]
        }
      ]
    },
    {
      "cell_type": "code",
      "metadata": {
        "id": "7RtcGJsf9Sdq",
        "colab": {
          "base_uri": "https://localhost:8080/"
        },
        "outputId": "d5d051a8-7e71-4b93-9ac0-b87b552da1f2"
      },
      "source": [
        "for item in test_vector:\n",
        "    idx = item.find(\"Ohms\")\n",
        "    if idx > 0:\n",
        "        prefix = item[idx-1]\n",
        "        mults = {\" \": 1, \"m\": 0.001}\n",
        "        print(item, mults[prefix])\n",
        "    else:\n",
        "        print(item)"
      ],
      "execution_count": 104,
      "outputs": [
        {
          "output_type": "stream",
          "name": "stdout",
          "text": [
            "5.17\n",
            "6.40 Ohms 1\n",
            "16.05 Ohms 1\n",
            "990 mOhms 0.001\n"
          ]
        }
      ]
    },
    {
      "cell_type": "markdown",
      "metadata": {
        "id": "4yBwcj5EQ5gb"
      },
      "source": [
        "... almost done!\n",
        "\n",
        "Just to the *type casting* on the item and apply `mults`:"
      ]
    },
    {
      "cell_type": "code",
      "metadata": {
        "id": "hugf4UGzQrYl"
      },
      "source": [
        "def string_to_float(s):\n",
        "    idx = s.find(\"Ohms\")\n",
        "    if idx > 0:\n",
        "        number = s.split(\" \")[0]\n",
        "        prefix = s[idx-1]\n",
        "        return float(number) * {\" \": 1, \"m\": 0.001}[prefix]\n",
        "\n",
        "    return float(s)"
      ],
      "execution_count": 105,
      "outputs": []
    },
    {
      "cell_type": "code",
      "metadata": {
        "id": "-n_C8yUQRjP4",
        "colab": {
          "base_uri": "https://localhost:8080/"
        },
        "outputId": "27ea1535-0242-4910-86e4-cea365b9df34"
      },
      "source": [
        "test_vector"
      ],
      "execution_count": 106,
      "outputs": [
        {
          "output_type": "execute_result",
          "data": {
            "text/plain": [
              "['5.17', '6.40 Ohms', '16.05 Ohms', '990 mOhms']"
            ]
          },
          "metadata": {},
          "execution_count": 106
        }
      ]
    },
    {
      "cell_type": "code",
      "metadata": {
        "id": "iYsa656IRhXr",
        "colab": {
          "base_uri": "https://localhost:8080/"
        },
        "outputId": "85894ae9-0062-4b21-beb0-d4968fa21b48"
      },
      "source": [
        "for item in test_vector:\n",
        "    result = string_to_float(item)\n",
        "    print(type(result), result)"
      ],
      "execution_count": 107,
      "outputs": [
        {
          "output_type": "stream",
          "name": "stdout",
          "text": [
            "<class 'float'> 5.17\n<class 'float'> 6.4\n<class 'float'> 16.05\n<class 'float'> 0.99\n"
          ]
        }
      ]
    },
    {
      "cell_type": "markdown",
      "metadata": {
        "id": "_-TsKKbA_CWj"
      },
      "source": [
        "Great, the function `string_to_float` works!\n",
        "\n",
        "Let's use it for parsing the data:"
      ]
    },
    {
      "cell_type": "code",
      "metadata": {
        "id": "18nUE0KkSfrh",
        "colab": {
          "base_uri": "https://localhost:8080/"
        },
        "outputId": "9a9f032c-1675-4c51-e258-0793a1873c20"
      },
      "source": [
        "data_lines"
      ],
      "execution_count": 108,
      "outputs": [
        {
          "output_type": "execute_result",
          "data": {
            "text/plain": [
              "['5.17,6.40 Ohms,16.05 Ohms,10.61 Ohms',\n",
              " '9.47,34.21 Ohms,5.95 Ohms,293 mOhms',\n",
              " '7.65,21.11 Ohms,366 mOhms,4.80 Ohms',\n",
              " '2.82,36.06 Ohms,16.03 Ohms,6.39 Ohms',\n",
              " '2.21,30.50 Ohms,11.65 Ohms,4.36 Ohms',\n",
              " '6.86,6.92 Ohms,3.73 Ohms,7.39 Ohms',\n",
              " '1.67,21.43 Ohms,7.45 Ohms,2.67 Ohms',\n",
              " '3.92,28.49 Ohms,19.98 Ohms,9.47 Ohms',\n",
              " '6.18,324 mOhms,8.59 Ohms,9.24 Ohms',\n",
              " '4.12,25.24 Ohms,19.96 Ohms,9.84 Ohms',\n",
              " '0.02,6 mOhms,2 mOhms,1 mOhms',\n",
              " '8.84,36.11 Ohms,2.10 Ohms,1.35 Ohms',\n",
              " '8.85,36.14 Ohms,2.14 Ohms,1.33 Ohms',\n",
              " '3.00,36.36 Ohms,17.09 Ohms,6.98 Ohms',\n",
              " '5.90,108 mOhms,10.82 Ohms,9.82 Ohms',\n",
              " '9.78,30.57 Ohms,8.31 Ohms,49 mOhms',\n",
              " '8.45,33.44 Ohms,621 mOhms,2.33 Ohms',\n",
              " '0.65,4.06 Ohms,1.28 Ohms,438 mOhms',\n",
              " '2.95,36.34 Ohms,16.77 Ohms,6.79 Ohms',\n",
              " '2.88,36.22 Ohms,16.37 Ohms,6.57 Ohms',\n",
              " '8.22,30.69 Ohms,155 mOhms,2.98 Ohms',\n",
              " '6.26,679 mOhms,7.96 Ohms,9.05 Ohms',\n",
              " '1.10,10.87 Ohms,3.53 Ohms,1.23 Ohms',\n",
              " '0.01,0 mOhms,0 mOhms,0 mOhms',\n",
              " '9.42,34.62 Ohms,5.61 Ohms,347 mOhms',\n",
              " '1.42,16.57 Ohms,5.57 Ohms,1.97 Ohms',\n",
              " '4.22,23.51 Ohms,19.86 Ohms,10.01 Ohms',\n",
              " '3.46,34.25 Ohms,19.13 Ohms,8.35 Ohms',\n",
              " '8.70,35.46 Ohms,1.46 Ohms,1.68 Ohms',\n",
              " '4.29,22.22 Ohms,19.75 Ohms,10.11 Ohms']"
            ]
          },
          "metadata": {},
          "execution_count": 108
        }
      ]
    },
    {
      "cell_type": "markdown",
      "metadata": {
        "id": "x4640E3-_T3e"
      },
      "source": [
        "The data is 2-dimensional: \n",
        "- 4 values per sample / row\n",
        "- N rows\n",
        "\n",
        "One potential solution for this application is a list of lists:"
      ]
    },
    {
      "cell_type": "code",
      "metadata": {
        "id": "xpmK8yNS_S0W",
        "colab": {
          "base_uri": "https://localhost:8080/"
        },
        "outputId": "7661bf56-0c86-4e98-a5b5-a2eb04dfb722"
      },
      "source": [
        "data = list()\n",
        "\n",
        "for data_line in data_lines:\n",
        "    row = list()\n",
        "    for item in data_line.split(\",\"):\n",
        "        row.append(string_to_float(item))\n",
        "    data.append(row)\n",
        "\n",
        "data"
      ],
      "execution_count": 109,
      "outputs": [
        {
          "output_type": "execute_result",
          "data": {
            "text/plain": [
              "[[5.17, 6.4, 16.05, 10.61],\n",
              " [9.47, 34.21, 5.95, 0.293],\n",
              " [7.65, 21.11, 0.366, 4.8],\n",
              " [2.82, 36.06, 16.03, 6.39],\n",
              " [2.21, 30.5, 11.65, 4.36],\n",
              " [6.86, 6.92, 3.73, 7.39],\n",
              " [1.67, 21.43, 7.45, 2.67],\n",
              " [3.92, 28.49, 19.98, 9.47],\n",
              " [6.18, 0.324, 8.59, 9.24],\n",
              " [4.12, 25.24, 19.96, 9.84],\n",
              " [0.02, 0.006, 0.002, 0.001],\n",
              " [8.84, 36.11, 2.1, 1.35],\n",
              " [8.85, 36.14, 2.14, 1.33],\n",
              " [3.0, 36.36, 17.09, 6.98],\n",
              " [5.9, 0.108, 10.82, 9.82],\n",
              " [9.78, 30.57, 8.31, 0.049],\n",
              " [8.45, 33.44, 0.621, 2.33],\n",
              " [0.65, 4.06, 1.28, 0.438],\n",
              " [2.95, 36.34, 16.77, 6.79],\n",
              " [2.88, 36.22, 16.37, 6.57],\n",
              " [8.22, 30.69, 0.155, 2.98],\n",
              " [6.26, 0.679, 7.96, 9.05],\n",
              " [1.1, 10.87, 3.53, 1.23],\n",
              " [0.01, 0.0, 0.0, 0.0],\n",
              " [9.42, 34.62, 5.61, 0.34700000000000003],\n",
              " [1.42, 16.57, 5.57, 1.97],\n",
              " [4.22, 23.51, 19.86, 10.01],\n",
              " [3.46, 34.25, 19.13, 8.35],\n",
              " [8.7, 35.46, 1.46, 1.68],\n",
              " [4.29, 22.22, 19.75, 10.11]]"
            ]
          },
          "metadata": {},
          "execution_count": 109
        }
      ]
    },
    {
      "cell_type": "markdown",
      "metadata": {
        "id": "qzvU3bGKEdTc"
      },
      "source": [
        "**Status** on the logfile challenge. We got:\n",
        "- `data` in a list of lists (N x 4)\n",
        "- `names` list with column names\n",
        "- `params` parameter dictionary"
      ]
    },
    {
      "cell_type": "code",
      "metadata": {
        "id": "dStQT4z2D2tp",
        "colab": {
          "base_uri": "https://localhost:8080/"
        },
        "outputId": "45f72a39-4122-4aaf-be99-1587f7920776"
      },
      "source": [
        "names"
      ],
      "execution_count": 110,
      "outputs": [
        {
          "output_type": "execute_result",
          "data": {
            "text/plain": [
              "['x', 'sig0', 'sig1', 'sig2']"
            ]
          },
          "metadata": {},
          "execution_count": 110
        }
      ]
    },
    {
      "cell_type": "code",
      "metadata": {
        "id": "8fOV5m7CD3z-",
        "colab": {
          "base_uri": "https://localhost:8080/"
        },
        "outputId": "351e27a3-e6b4-4cb7-8be2-befa4878efdf"
      },
      "source": [
        "params"
      ],
      "execution_count": 111,
      "outputs": [
        {
          "output_type": "execute_result",
          "data": {
            "text/plain": [
              "{'measurement date': '2021-04-06',\n",
              " 'measurement time': '08:00:00',\n",
              " 'calibration factor sig0': '0.55',\n",
              " 'calibration factor sig2': '1.88'}"
            ]
          },
          "metadata": {},
          "execution_count": 111
        }
      ]
    },
    {
      "cell_type": "markdown",
      "metadata": {
        "id": "x5beVw0O2Ka7"
      },
      "source": [
        "# Complete `parse_logfile_string` function"
      ]
    },
    {
      "cell_type": "markdown",
      "metadata": {
        "id": "V1LtpkIKGAmK"
      },
      "source": [
        "Let's summarize the functionality we got so far, into a function `parse_logfile_string` that:\n",
        "- takes the logfile string `s` as input and\n",
        "- returns `params`, `names` and `data`"
      ]
    },
    {
      "cell_type": "code",
      "metadata": {
        "id": "l0_yrdsCD5v4"
      },
      "source": [
        "def parse_logfile_string(s):\n",
        "    # split the input string on \"\\n\" new line\n",
        "    lines = s.split(\"\\n\")\n",
        "\n",
        "    # create a look-up table of sections and line numbers\n",
        "    idxs = dict()\n",
        "    for lineNo, line in enumerate(lines):\n",
        "        if line in ['measurements', \"header\"]:\n",
        "            idxs[line] = lineNo \n",
        "    idxs[\"names\"] = idxs[\"measurements\"] + 1\n",
        "    idxs[\"params_begin\"] = idxs[\"header\"] + 1\n",
        "    idxs[\"params_end\"] = idxs[\"measurements\"] - 1\n",
        "    idxs[\"data\"] = idxs[\"names\"] + 1\n",
        "\n",
        "    # parse the column \n",
        "    names = lines[idxs[\"names\"]].split(\",\")\n",
        "\n",
        "    # parse the params_lines list(str) into params dict{param: value}\n",
        "    params = dict()\n",
        "    for line in lines[idxs[\"params_begin\"] : idxs[\"params_end\"]]:\n",
        "        key, value = line.split(\",\")\n",
        "        params[key] = value\n",
        "\n",
        "    # converts str to float incl. \"Ohms\" removal\n",
        "    def string_to_float(s):\n",
        "        idx = s.find(\"Ohms\")\n",
        "        if idx > 0:\n",
        "            number = s.split(\" \")[0]\n",
        "            prefix = s[idx-1]\n",
        "            return float(number) * {\" \": 1, \"m\": 0.001}[prefix]\n",
        "        return float(s)\n",
        "\n",
        "    # parse data_lines list(str) into data list(list(floats))\n",
        "    data = list()\n",
        "    for data_line in lines[idxs[\"data\"] :]:\n",
        "        row = list()\n",
        "        for item in data_line.split(\",\"):\n",
        "            row.append(string_to_float(item))\n",
        "        data.append(row)\n",
        "\n",
        "    return {\"params\": params, \"names\": names, \"data\":data}"
      ],
      "execution_count": 112,
      "outputs": []
    },
    {
      "cell_type": "code",
      "metadata": {
        "id": "ZEVZCuaTKvfn",
        "colab": {
          "base_uri": "https://localhost:8080/"
        },
        "outputId": "ed183ba6-c4de-4ea8-b895-c18ed3653fa4"
      },
      "source": [
        "log = parse_logfile_string(s)\n",
        "log"
      ],
      "execution_count": 113,
      "outputs": [
        {
          "output_type": "execute_result",
          "data": {
            "text/plain": [
              "{'params': {'measurement date': '2021-04-06',\n",
              "  'measurement time': '08:00:00',\n",
              "  'calibration factor sig0': '0.55',\n",
              "  'calibration factor sig2': '1.88'},\n",
              " 'names': ['x', 'sig0', 'sig1', 'sig2'],\n",
              " 'data': [[5.17, 6.4, 16.05, 10.61],\n",
              "  [9.47, 34.21, 5.95, 0.293],\n",
              "  [7.65, 21.11, 0.366, 4.8],\n",
              "  [2.82, 36.06, 16.03, 6.39],\n",
              "  [2.21, 30.5, 11.65, 4.36],\n",
              "  [6.86, 6.92, 3.73, 7.39],\n",
              "  [1.67, 21.43, 7.45, 2.67],\n",
              "  [3.92, 28.49, 19.98, 9.47],\n",
              "  [6.18, 0.324, 8.59, 9.24],\n",
              "  [4.12, 25.24, 19.96, 9.84],\n",
              "  [0.02, 0.006, 0.002, 0.001],\n",
              "  [8.84, 36.11, 2.1, 1.35],\n",
              "  [8.85, 36.14, 2.14, 1.33],\n",
              "  [3.0, 36.36, 17.09, 6.98],\n",
              "  [5.9, 0.108, 10.82, 9.82],\n",
              "  [9.78, 30.57, 8.31, 0.049],\n",
              "  [8.45, 33.44, 0.621, 2.33],\n",
              "  [0.65, 4.06, 1.28, 0.438],\n",
              "  [2.95, 36.34, 16.77, 6.79],\n",
              "  [2.88, 36.22, 16.37, 6.57],\n",
              "  [8.22, 30.69, 0.155, 2.98],\n",
              "  [6.26, 0.679, 7.96, 9.05],\n",
              "  [1.1, 10.87, 3.53, 1.23],\n",
              "  [0.01, 0.0, 0.0, 0.0],\n",
              "  [9.42, 34.62, 5.61, 0.34700000000000003],\n",
              "  [1.42, 16.57, 5.57, 1.97],\n",
              "  [4.22, 23.51, 19.86, 10.01],\n",
              "  [3.46, 34.25, 19.13, 8.35],\n",
              "  [8.7, 35.46, 1.46, 1.68],\n",
              "  [4.29, 22.22, 19.75, 10.11]]}"
            ]
          },
          "metadata": {},
          "execution_count": 113
        }
      ]
    },
    {
      "cell_type": "code",
      "metadata": {
        "id": "Y_g23RwrmVBY",
        "colab": {
          "base_uri": "https://localhost:8080/"
        },
        "outputId": "88e1cc83-50dd-47b5-8daf-5bc0170e795e"
      },
      "source": [
        "log.keys()"
      ],
      "execution_count": 114,
      "outputs": [
        {
          "output_type": "execute_result",
          "data": {
            "text/plain": [
              "dict_keys(['params', 'names', 'data'])"
            ]
          },
          "metadata": {},
          "execution_count": 114
        }
      ]
    },
    {
      "cell_type": "markdown",
      "metadata": {
        "id": "34gQJ7YFmP5P"
      },
      "source": [
        "done!\n",
        "\n",
        "We successfully created a **function** `parse_logfile_string(s)` that parses the input text string `s` and returns a `dict` with \n",
        "- the header parameters `params`, \n",
        "- the actual data `data`,\n",
        "- the data column names `names` "
      ]
    },
    {
      "cell_type": "markdown",
      "metadata": {
        "id": "YZEpKAzdnW6k"
      },
      "source": [
        "# Limitations of Python basic containers"
      ]
    },
    {
      "cell_type": "markdown",
      "metadata": {
        "id": "8eYv_6x9oCzj"
      },
      "source": [
        "The Python general purpose container `list` worked great for reading and appending items from file. However, for further mathematical processing it's non-ideal, as we will see,..."
      ]
    },
    {
      "cell_type": "markdown",
      "metadata": {
        "id": "r5LywYlan6ET"
      },
      "source": [
        "## Apply calibration factors"
      ]
    },
    {
      "cell_type": "markdown",
      "metadata": {
        "id": "c4z_qmXHoDTA"
      },
      "source": [
        "The task:\n",
        "- search the `params` for `calibration factor sig?` keys\n",
        "- multiply all column values of `sig?` with the respective `calibration factor`\n"
      ]
    },
    {
      "cell_type": "code",
      "metadata": {
        "id": "hWro944AKxyB"
      },
      "source": [
        "log = parse_logfile_string(s)\n",
        "params = log[\"params\"]\n",
        "data = log[\"data\"]\n",
        "names = log[\"names\"]"
      ],
      "execution_count": 115,
      "outputs": []
    },
    {
      "cell_type": "code",
      "metadata": {
        "id": "cmSqBSSDkxqn",
        "colab": {
          "base_uri": "https://localhost:8080/"
        },
        "outputId": "2a0e6cae-2063-4339-f542-5abccd26c236"
      },
      "source": [
        "for param, cal_factor in params.items():\n",
        "    if \"calibration factor\" in param:\n",
        "        sig = param.split(\" \")[-1]\n",
        "        print(\"Signal={}, cal_factor={}\".format(sig, cal_factor))"
      ],
      "execution_count": 116,
      "outputs": [
        {
          "output_type": "stream",
          "name": "stdout",
          "text": [
            "Signal=sig0, cal_factor=0.55\nSignal=sig2, cal_factor=1.88\n"
          ]
        }
      ]
    },
    {
      "cell_type": "markdown",
      "metadata": {
        "id": "BUpemlqqrSNU"
      },
      "source": [
        "Next step is to index the data: Get all rows of a specific column..."
      ]
    },
    {
      "cell_type": "code",
      "metadata": {
        "id": "_UNkeB4ptUvZ",
        "colab": {
          "base_uri": "https://localhost:8080/"
        },
        "outputId": "498050c5-8b0b-453a-8aa0-5d72cbd1ad89"
      },
      "source": [
        "names"
      ],
      "execution_count": 117,
      "outputs": [
        {
          "output_type": "execute_result",
          "data": {
            "text/plain": [
              "['x', 'sig0', 'sig1', 'sig2']"
            ]
          },
          "metadata": {},
          "execution_count": 117
        }
      ]
    },
    {
      "cell_type": "code",
      "metadata": {
        "id": "jmLb18LrtAN9",
        "colab": {
          "base_uri": "https://localhost:8080/"
        },
        "outputId": "ac291967-e09a-40d0-e0bd-eb3740d15fc3"
      },
      "source": [
        "names.index(\"sig0\")"
      ],
      "execution_count": 118,
      "outputs": [
        {
          "output_type": "execute_result",
          "data": {
            "text/plain": [
              "1"
            ]
          },
          "metadata": {},
          "execution_count": 118
        }
      ]
    },
    {
      "cell_type": "code",
      "metadata": {
        "id": "usrGOJSXtW5w",
        "colab": {
          "base_uri": "https://localhost:8080/"
        },
        "outputId": "8d686609-042c-4443-fd01-6d4a31dbb905"
      },
      "source": [
        "for param, cal_factor in params.items():\n",
        "    if \"calibration factor\" in param:\n",
        "        sig = param.split(\" \")[-1]\n",
        "        col_index = names.index(sig)\n",
        "        print(\"Signal={}, col_index={}, cal_factor={}\".format(sig, col_index, cal_factor))"
      ],
      "execution_count": 119,
      "outputs": [
        {
          "output_type": "stream",
          "name": "stdout",
          "text": [
            "Signal=sig0, col_index=1, cal_factor=0.55\nSignal=sig2, col_index=3, cal_factor=1.88\n"
          ]
        }
      ]
    },
    {
      "cell_type": "markdown",
      "metadata": {
        "id": "BNCEgULauC02"
      },
      "source": [
        "Next, we need to index all rows of the col_index..."
      ]
    },
    {
      "cell_type": "code",
      "metadata": {
        "id": "z47ge9F6re5x",
        "colab": {
          "base_uri": "https://localhost:8080/"
        },
        "outputId": "b102b123-2474-4780-c9f4-0ddd1ddb4843"
      },
      "source": [
        "data[0]"
      ],
      "execution_count": 120,
      "outputs": [
        {
          "output_type": "execute_result",
          "data": {
            "text/plain": [
              "[5.17, 6.4, 16.05, 10.61]"
            ]
          },
          "metadata": {},
          "execution_count": 120
        }
      ]
    },
    {
      "cell_type": "code",
      "metadata": {
        "id": "pjkyUOnurCol",
        "colab": {
          "base_uri": "https://localhost:8080/"
        },
        "outputId": "1125657e-cd99-486a-dbf6-7a48b14f0a30"
      },
      "source": [
        "data[0][col_index]"
      ],
      "execution_count": 121,
      "outputs": [
        {
          "output_type": "execute_result",
          "data": {
            "text/plain": [
              "10.61"
            ]
          },
          "metadata": {},
          "execution_count": 121
        }
      ]
    },
    {
      "cell_type": "markdown",
      "metadata": {
        "id": "uHMtSMkluXmP"
      },
      "source": [
        "The `list[rows][cols]` can't be sliced in `cols` first!\n",
        "\n",
        "As a solution, we can iterate over the rows and access the `col_index` within each row:"
      ]
    },
    {
      "cell_type": "code",
      "metadata": {
        "id": "WRP5twlFstKd",
        "colab": {
          "base_uri": "https://localhost:8080/"
        },
        "outputId": "6aa8a2c9-fe56-4680-cf62-46aeedfb3f70"
      },
      "source": [
        "for data_row in data:\n",
        "    val = data_row[col_index]\n",
        "    print(val)"
      ],
      "execution_count": 122,
      "outputs": [
        {
          "output_type": "stream",
          "name": "stdout",
          "text": [
            "10.61\n0.293\n4.8\n6.39\n4.36\n7.39\n2.67\n9.47\n9.24\n9.84\n0.001\n1.35\n1.33\n6.98\n9.82\n0.049\n2.33\n0.438\n6.79\n6.57\n2.98\n9.05\n1.23\n0.0\n0.34700000000000003\n1.97\n10.01\n8.35\n1.68\n10.11\n"
          ]
        }
      ]
    },
    {
      "cell_type": "markdown",
      "metadata": {
        "id": "LKw6lVpivG7q"
      },
      "source": [
        "Put it all together:\n"
      ]
    },
    {
      "cell_type": "code",
      "metadata": {
        "id": "9NirTuDLwxLu",
        "colab": {
          "base_uri": "https://localhost:8080/"
        },
        "outputId": "1b53a5a6-f947-469f-e0d1-13d95bc67c36"
      },
      "source": [
        "data[:3]"
      ],
      "execution_count": 123,
      "outputs": [
        {
          "output_type": "execute_result",
          "data": {
            "text/plain": [
              "[[5.17, 6.4, 16.05, 10.61],\n",
              " [9.47, 34.21, 5.95, 0.293],\n",
              " [7.65, 21.11, 0.366, 4.8]]"
            ]
          },
          "metadata": {},
          "execution_count": 123
        }
      ]
    },
    {
      "cell_type": "code",
      "metadata": {
        "id": "MsqnaTbDu-0d"
      },
      "source": [
        "for param, cal_factor in params.items():\n",
        "    if \"calibration factor\" in param:\n",
        "        sig = param.split(\" \")[-1]\n",
        "        col_index = names.index(sig)\n",
        "\n",
        "        for data_row in data:\n",
        "            data_row[col_index] *= float(cal_factor)"
      ],
      "execution_count": 124,
      "outputs": []
    },
    {
      "cell_type": "code",
      "metadata": {
        "id": "ZHfSv1rGwMlP",
        "colab": {
          "base_uri": "https://localhost:8080/"
        },
        "outputId": "862de20d-56a2-4c57-df67-8850892acfb5"
      },
      "source": [
        "data[:3]"
      ],
      "execution_count": 125,
      "outputs": [
        {
          "output_type": "execute_result",
          "data": {
            "text/plain": [
              "[[5.17, 3.5200000000000005, 16.05, 19.946799999999996],\n",
              " [9.47, 18.815500000000004, 5.95, 0.5508399999999999],\n",
              " [7.65, 11.6105, 0.366, 9.024]]"
            ]
          },
          "metadata": {},
          "execution_count": 125
        }
      ]
    },
    {
      "cell_type": "markdown",
      "metadata": {
        "id": "_5R_HkgJxNvB"
      },
      "source": [
        "This worked, **BUT**\n",
        "\n",
        "it would be much more convenient and readable to have something like \n",
        "\n",
        "`data[:, col_index] *= cal_factor`\n",
        "\n",
        "What we want is **arbitrary indexing** and **element-wise operations**!\n",
        "\n",
        "\n",
        "\n"
      ]
    },
    {
      "cell_type": "markdown",
      "metadata": {
        "id": "1Cfi5HWmz6lA"
      },
      "source": [
        "Maybe we even want **labeled indexing** like\n",
        "\n",
        "`data[:, sig] *= cal_factor`"
      ]
    },
    {
      "cell_type": "markdown",
      "metadata": {
        "id": "hCnKHAO20SDM"
      },
      "source": [
        "## Array slicing for visualization"
      ]
    },
    {
      "cell_type": "markdown",
      "metadata": {
        "id": "VdOlQ2F_z-pT"
      },
      "source": [
        "Another common usage is **arbitrary array slicing** for data visualization (e.g. using `matplotlib`)\n"
      ]
    },
    {
      "cell_type": "code",
      "metadata": {
        "id": "zbq3kjcSymLH",
        "colab": {
          "base_uri": "https://localhost:8080/"
        },
        "outputId": "d43727a0-9914-46b3-8f94-413eb9e8201c"
      },
      "source": [
        "names"
      ],
      "execution_count": 126,
      "outputs": [
        {
          "output_type": "execute_result",
          "data": {
            "text/plain": [
              "['x', 'sig0', 'sig1', 'sig2']"
            ]
          },
          "metadata": {},
          "execution_count": 126
        }
      ]
    },
    {
      "cell_type": "code",
      "metadata": {
        "id": "UQ8DJZvWxmlI"
      },
      "source": [
        "x, y = list(), list()\n",
        "for data_row in data:\n",
        "    x.append(data_row[names.index(\"x\")])\n",
        "    y.append(data_row[names.index(\"sig0\")])"
      ],
      "execution_count": 127,
      "outputs": []
    },
    {
      "cell_type": "code",
      "metadata": {
        "id": "MXOSEVRJw1hT",
        "colab": {
          "base_uri": "https://localhost:8080/",
          "height": 265
        },
        "outputId": "07b81cfb-3ec9-4672-ba70-3c287e70af2c"
      },
      "source": [
        "import matplotlib.pyplot as plt\n",
        "plt.plot(x, y, \"o\");"
      ],
      "execution_count": 128,
      "outputs": [
        {
          "output_type": "display_data",
          "data": {
            "text/plain": "<Figure size 432x288 with 1 Axes>",
            "image/svg+xml": "<?xml version=\"1.0\" encoding=\"utf-8\" standalone=\"no\"?>\r\n<!DOCTYPE svg PUBLIC \"-//W3C//DTD SVG 1.1//EN\"\r\n  \"http://www.w3.org/Graphics/SVG/1.1/DTD/svg11.dtd\">\r\n<!-- Created with matplotlib (https://matplotlib.org/) -->\r\n<svg height=\"248.518125pt\" version=\"1.1\" viewBox=\"0 0 380.871875 248.518125\" width=\"380.871875pt\" xmlns=\"http://www.w3.org/2000/svg\" xmlns:xlink=\"http://www.w3.org/1999/xlink\">\r\n <metadata>\r\n  <rdf:RDF xmlns:cc=\"http://creativecommons.org/ns#\" xmlns:dc=\"http://purl.org/dc/elements/1.1/\" xmlns:rdf=\"http://www.w3.org/1999/02/22-rdf-syntax-ns#\">\r\n   <cc:Work>\r\n    <dc:type rdf:resource=\"http://purl.org/dc/dcmitype/StillImage\"/>\r\n    <dc:date>2021-04-15T14:45:39.029804</dc:date>\r\n    <dc:format>image/svg+xml</dc:format>\r\n    <dc:creator>\r\n     <cc:Agent>\r\n      <dc:title>Matplotlib v3.3.2, https://matplotlib.org/</dc:title>\r\n     </cc:Agent>\r\n    </dc:creator>\r\n   </cc:Work>\r\n  </rdf:RDF>\r\n </metadata>\r\n <defs>\r\n  <style type=\"text/css\">*{stroke-linecap:butt;stroke-linejoin:round;}</style>\r\n </defs>\r\n <g id=\"figure_1\">\r\n  <g id=\"patch_1\">\r\n   <path d=\"M -0 248.518125 \r\nL 380.871875 248.518125 \r\nL 380.871875 0 \r\nL -0 0 \r\nz\r\n\" style=\"fill:none;\"/>\r\n  </g>\r\n  <g id=\"axes_1\">\r\n   <g id=\"patch_2\">\r\n    <path d=\"M 38.871875 224.64 \r\nL 373.671875 224.64 \r\nL 373.671875 7.2 \r\nL 38.871875 7.2 \r\nz\r\n\" style=\"fill:#ffffff;\"/>\r\n   </g>\r\n   <g id=\"matplotlib.axis_1\">\r\n    <g id=\"xtick_1\">\r\n     <g id=\"line2d_1\">\r\n      <defs>\r\n       <path d=\"M 0 0 \r\nL 0 3.5 \r\n\" id=\"mc53c946736\" style=\"stroke:#000000;stroke-width:0.8;\"/>\r\n      </defs>\r\n      <g>\r\n       <use style=\"stroke:#000000;stroke-width:0.8;\" x=\"53.778528\" xlink:href=\"#mc53c946736\" y=\"224.64\"/>\r\n      </g>\r\n     </g>\r\n     <g id=\"text_1\">\r\n      <!-- 0 -->\r\n      <g transform=\"translate(50.299622 239.238437)scale(0.1 -0.1)\">\r\n       <defs>\r\n        <path d=\"M 46 36.53125 \r\nQ 46 50.203125 43.4375 55.78125 \r\nQ 40.875 61.375 34.8125 61.375 \r\nQ 28.765625 61.375 26.171875 55.78125 \r\nQ 23.578125 50.203125 23.578125 36.53125 \r\nQ 23.578125 22.703125 26.171875 17.03125 \r\nQ 28.765625 11.375 34.8125 11.375 \r\nQ 40.828125 11.375 43.40625 17.03125 \r\nQ 46 22.703125 46 36.53125 \r\nz\r\nM 64.796875 36.375 \r\nQ 64.796875 18.265625 56.984375 8.421875 \r\nQ 49.171875 -1.421875 34.8125 -1.421875 \r\nQ 20.40625 -1.421875 12.59375 8.421875 \r\nQ 4.78125 18.265625 4.78125 36.375 \r\nQ 4.78125 54.546875 12.59375 64.375 \r\nQ 20.40625 74.21875 34.8125 74.21875 \r\nQ 49.171875 74.21875 56.984375 64.375 \r\nQ 64.796875 54.546875 64.796875 36.375 \r\nz\r\n\" id=\"DejaVuSans-Bold-48\"/>\r\n       </defs>\r\n       <use xlink:href=\"#DejaVuSans-Bold-48\"/>\r\n      </g>\r\n     </g>\r\n    </g>\r\n    <g id=\"xtick_2\">\r\n     <g id=\"line2d_2\">\r\n      <g>\r\n       <use style=\"stroke:#000000;stroke-width:0.8;\" x=\"116.084288\" xlink:href=\"#mc53c946736\" y=\"224.64\"/>\r\n      </g>\r\n     </g>\r\n     <g id=\"text_2\">\r\n      <!-- 2 -->\r\n      <g transform=\"translate(112.605382 239.238437)scale(0.1 -0.1)\">\r\n       <defs>\r\n        <path d=\"M 28.8125 13.8125 \r\nL 60.890625 13.8125 \r\nL 60.890625 0 \r\nL 7.90625 0 \r\nL 7.90625 13.8125 \r\nL 34.515625 37.3125 \r\nQ 38.09375 40.53125 39.796875 43.609375 \r\nQ 41.5 46.6875 41.5 50 \r\nQ 41.5 55.125 38.0625 58.25 \r\nQ 34.625 61.375 28.90625 61.375 \r\nQ 24.515625 61.375 19.28125 59.5 \r\nQ 14.0625 57.625 8.109375 53.90625 \r\nL 8.109375 69.921875 \r\nQ 14.453125 72.015625 20.65625 73.109375 \r\nQ 26.859375 74.21875 32.8125 74.21875 \r\nQ 45.90625 74.21875 53.15625 68.453125 \r\nQ 60.40625 62.703125 60.40625 52.390625 \r\nQ 60.40625 46.4375 57.328125 41.28125 \r\nQ 54.25 36.140625 44.390625 27.484375 \r\nz\r\n\" id=\"DejaVuSans-Bold-50\"/>\r\n       </defs>\r\n       <use xlink:href=\"#DejaVuSans-Bold-50\"/>\r\n      </g>\r\n     </g>\r\n    </g>\r\n    <g id=\"xtick_3\">\r\n     <g id=\"line2d_3\">\r\n      <g>\r\n       <use style=\"stroke:#000000;stroke-width:0.8;\" x=\"178.390048\" xlink:href=\"#mc53c946736\" y=\"224.64\"/>\r\n      </g>\r\n     </g>\r\n     <g id=\"text_3\">\r\n      <!-- 4 -->\r\n      <g transform=\"translate(174.911141 239.238437)scale(0.1 -0.1)\">\r\n       <defs>\r\n        <path d=\"M 36.8125 57.421875 \r\nL 16.21875 26.90625 \r\nL 36.8125 26.90625 \r\nz\r\nM 33.6875 72.90625 \r\nL 54.59375 72.90625 \r\nL 54.59375 26.90625 \r\nL 64.984375 26.90625 \r\nL 64.984375 13.28125 \r\nL 54.59375 13.28125 \r\nL 54.59375 0 \r\nL 36.8125 0 \r\nL 36.8125 13.28125 \r\nL 4.5 13.28125 \r\nL 4.5 29.390625 \r\nz\r\n\" id=\"DejaVuSans-Bold-52\"/>\r\n       </defs>\r\n       <use xlink:href=\"#DejaVuSans-Bold-52\"/>\r\n      </g>\r\n     </g>\r\n    </g>\r\n    <g id=\"xtick_4\">\r\n     <g id=\"line2d_4\">\r\n      <g>\r\n       <use style=\"stroke:#000000;stroke-width:0.8;\" x=\"240.695807\" xlink:href=\"#mc53c946736\" y=\"224.64\"/>\r\n      </g>\r\n     </g>\r\n     <g id=\"text_4\">\r\n      <!-- 6 -->\r\n      <g transform=\"translate(237.216901 239.238437)scale(0.1 -0.1)\">\r\n       <defs>\r\n        <path d=\"M 36.1875 35.984375 \r\nQ 31.25 35.984375 28.78125 32.78125 \r\nQ 26.3125 29.59375 26.3125 23.1875 \r\nQ 26.3125 16.796875 28.78125 13.59375 \r\nQ 31.25 10.40625 36.1875 10.40625 \r\nQ 41.15625 10.40625 43.625 13.59375 \r\nQ 46.09375 16.796875 46.09375 23.1875 \r\nQ 46.09375 29.59375 43.625 32.78125 \r\nQ 41.15625 35.984375 36.1875 35.984375 \r\nz\r\nM 59.421875 71 \r\nL 59.421875 57.515625 \r\nQ 54.78125 59.71875 50.671875 60.765625 \r\nQ 46.578125 61.8125 42.671875 61.8125 \r\nQ 34.28125 61.8125 29.59375 57.140625 \r\nQ 24.90625 52.484375 24.125 43.3125 \r\nQ 27.34375 45.703125 31.09375 46.890625 \r\nQ 34.859375 48.09375 39.3125 48.09375 \r\nQ 50.484375 48.09375 57.34375 41.546875 \r\nQ 64.203125 35.015625 64.203125 24.421875 \r\nQ 64.203125 12.703125 56.53125 5.640625 \r\nQ 48.875 -1.421875 35.984375 -1.421875 \r\nQ 21.78125 -1.421875 13.984375 8.171875 \r\nQ 6.203125 17.78125 6.203125 35.40625 \r\nQ 6.203125 53.46875 15.3125 63.796875 \r\nQ 24.421875 74.125 40.28125 74.125 \r\nQ 45.3125 74.125 50.046875 73.34375 \r\nQ 54.78125 72.5625 59.421875 71 \r\nz\r\n\" id=\"DejaVuSans-Bold-54\"/>\r\n       </defs>\r\n       <use xlink:href=\"#DejaVuSans-Bold-54\"/>\r\n      </g>\r\n     </g>\r\n    </g>\r\n    <g id=\"xtick_5\">\r\n     <g id=\"line2d_5\">\r\n      <g>\r\n       <use style=\"stroke:#000000;stroke-width:0.8;\" x=\"303.001567\" xlink:href=\"#mc53c946736\" y=\"224.64\"/>\r\n      </g>\r\n     </g>\r\n     <g id=\"text_5\">\r\n      <!-- 8 -->\r\n      <g transform=\"translate(299.522661 239.238437)scale(0.1 -0.1)\">\r\n       <defs>\r\n        <path d=\"M 34.8125 32.625 \r\nQ 29.546875 32.625 26.703125 29.734375 \r\nQ 23.875 26.859375 23.875 21.484375 \r\nQ 23.875 16.109375 26.703125 13.25 \r\nQ 29.546875 10.40625 34.8125 10.40625 \r\nQ 40.046875 10.40625 42.828125 13.25 \r\nQ 45.609375 16.109375 45.609375 21.484375 \r\nQ 45.609375 26.90625 42.828125 29.765625 \r\nQ 40.046875 32.625 34.8125 32.625 \r\nz\r\nM 21.09375 38.8125 \r\nQ 14.453125 40.828125 11.078125 44.96875 \r\nQ 7.71875 49.125 7.71875 55.328125 \r\nQ 7.71875 64.546875 14.59375 69.375 \r\nQ 21.484375 74.21875 34.8125 74.21875 \r\nQ 48.046875 74.21875 54.921875 69.40625 \r\nQ 61.8125 64.59375 61.8125 55.328125 \r\nQ 61.8125 49.125 58.421875 44.96875 \r\nQ 55.03125 40.828125 48.390625 38.8125 \r\nQ 55.8125 36.765625 59.59375 32.15625 \r\nQ 63.375 27.546875 63.375 20.515625 \r\nQ 63.375 9.671875 56.171875 4.125 \r\nQ 48.96875 -1.421875 34.8125 -1.421875 \r\nQ 20.609375 -1.421875 13.359375 4.125 \r\nQ 6.109375 9.671875 6.109375 20.515625 \r\nQ 6.109375 27.546875 9.890625 32.15625 \r\nQ 13.671875 36.765625 21.09375 38.8125 \r\nz\r\nM 25.484375 53.421875 \r\nQ 25.484375 49.078125 27.90625 46.734375 \r\nQ 30.328125 44.390625 34.8125 44.390625 \r\nQ 39.203125 44.390625 41.59375 46.734375 \r\nQ 44 49.078125 44 53.421875 \r\nQ 44 57.765625 41.59375 60.078125 \r\nQ 39.203125 62.40625 34.8125 62.40625 \r\nQ 30.328125 62.40625 27.90625 60.0625 \r\nQ 25.484375 57.71875 25.484375 53.421875 \r\nz\r\n\" id=\"DejaVuSans-Bold-56\"/>\r\n       </defs>\r\n       <use xlink:href=\"#DejaVuSans-Bold-56\"/>\r\n      </g>\r\n     </g>\r\n    </g>\r\n    <g id=\"xtick_6\">\r\n     <g id=\"line2d_6\">\r\n      <g>\r\n       <use style=\"stroke:#000000;stroke-width:0.8;\" x=\"365.307327\" xlink:href=\"#mc53c946736\" y=\"224.64\"/>\r\n      </g>\r\n     </g>\r\n     <g id=\"text_6\">\r\n      <!-- 10 -->\r\n      <g transform=\"translate(358.349514 239.238437)scale(0.1 -0.1)\">\r\n       <defs>\r\n        <path d=\"M 11.71875 12.984375 \r\nL 28.328125 12.984375 \r\nL 28.328125 60.109375 \r\nL 11.28125 56.59375 \r\nL 11.28125 69.390625 \r\nL 28.21875 72.90625 \r\nL 46.09375 72.90625 \r\nL 46.09375 12.984375 \r\nL 62.703125 12.984375 \r\nL 62.703125 0 \r\nL 11.71875 0 \r\nz\r\n\" id=\"DejaVuSans-Bold-49\"/>\r\n       </defs>\r\n       <use xlink:href=\"#DejaVuSans-Bold-49\"/>\r\n       <use x=\"69.580078\" xlink:href=\"#DejaVuSans-Bold-48\"/>\r\n      </g>\r\n     </g>\r\n    </g>\r\n   </g>\r\n   <g id=\"matplotlib.axis_2\">\r\n    <g id=\"ytick_1\">\r\n     <g id=\"line2d_7\">\r\n      <defs>\r\n       <path d=\"M 0 0 \r\nL -3.5 0 \r\n\" id=\"m0052d1e7a6\" style=\"stroke:#000000;stroke-width:0.8;\"/>\r\n      </defs>\r\n      <g>\r\n       <use style=\"stroke:#000000;stroke-width:0.8;\" x=\"38.871875\" xlink:href=\"#m0052d1e7a6\" y=\"214.756364\"/>\r\n      </g>\r\n     </g>\r\n     <g id=\"text_7\">\r\n      <!-- 0.0 -->\r\n      <g transform=\"translate(14.157813 218.555582)scale(0.1 -0.1)\">\r\n       <defs>\r\n        <path d=\"M 10.203125 18.890625 \r\nL 27.78125 18.890625 \r\nL 27.78125 0 \r\nL 10.203125 0 \r\nz\r\n\" id=\"DejaVuSans-Bold-46\"/>\r\n       </defs>\r\n       <use xlink:href=\"#DejaVuSans-Bold-48\"/>\r\n       <use x=\"69.580078\" xlink:href=\"#DejaVuSans-Bold-46\"/>\r\n       <use x=\"107.568359\" xlink:href=\"#DejaVuSans-Bold-48\"/>\r\n      </g>\r\n     </g>\r\n    </g>\r\n    <g id=\"ytick_2\">\r\n     <g id=\"line2d_8\">\r\n      <g>\r\n       <use style=\"stroke:#000000;stroke-width:0.8;\" x=\"38.871875\" xlink:href=\"#m0052d1e7a6\" y=\"190.044802\"/>\r\n      </g>\r\n     </g>\r\n     <g id=\"text_8\">\r\n      <!-- 2.5 -->\r\n      <g transform=\"translate(14.157813 193.84402)scale(0.1 -0.1)\">\r\n       <defs>\r\n        <path d=\"M 10.59375 72.90625 \r\nL 57.328125 72.90625 \r\nL 57.328125 59.078125 \r\nL 25.59375 59.078125 \r\nL 25.59375 47.796875 \r\nQ 27.734375 48.390625 29.90625 48.703125 \r\nQ 32.078125 49.03125 34.421875 49.03125 \r\nQ 47.75 49.03125 55.171875 42.359375 \r\nQ 62.59375 35.6875 62.59375 23.78125 \r\nQ 62.59375 11.96875 54.515625 5.265625 \r\nQ 46.4375 -1.421875 32.078125 -1.421875 \r\nQ 25.875 -1.421875 19.796875 -0.21875 \r\nQ 13.71875 0.984375 7.71875 3.421875 \r\nL 7.71875 18.21875 \r\nQ 13.671875 14.796875 19.015625 13.078125 \r\nQ 24.359375 11.375 29.109375 11.375 \r\nQ 35.9375 11.375 39.859375 14.71875 \r\nQ 43.796875 18.0625 43.796875 23.78125 \r\nQ 43.796875 29.546875 39.859375 32.859375 \r\nQ 35.9375 36.1875 29.109375 36.1875 \r\nQ 25.046875 36.1875 20.453125 35.125 \r\nQ 15.875 34.078125 10.59375 31.890625 \r\nz\r\n\" id=\"DejaVuSans-Bold-53\"/>\r\n       </defs>\r\n       <use xlink:href=\"#DejaVuSans-Bold-50\"/>\r\n       <use x=\"69.580078\" xlink:href=\"#DejaVuSans-Bold-46\"/>\r\n       <use x=\"107.568359\" xlink:href=\"#DejaVuSans-Bold-53\"/>\r\n      </g>\r\n     </g>\r\n    </g>\r\n    <g id=\"ytick_3\">\r\n     <g id=\"line2d_9\">\r\n      <g>\r\n       <use style=\"stroke:#000000;stroke-width:0.8;\" x=\"38.871875\" xlink:href=\"#m0052d1e7a6\" y=\"165.33324\"/>\r\n      </g>\r\n     </g>\r\n     <g id=\"text_9\">\r\n      <!-- 5.0 -->\r\n      <g transform=\"translate(14.157813 169.132458)scale(0.1 -0.1)\">\r\n       <use xlink:href=\"#DejaVuSans-Bold-53\"/>\r\n       <use x=\"69.580078\" xlink:href=\"#DejaVuSans-Bold-46\"/>\r\n       <use x=\"107.568359\" xlink:href=\"#DejaVuSans-Bold-48\"/>\r\n      </g>\r\n     </g>\r\n    </g>\r\n    <g id=\"ytick_4\">\r\n     <g id=\"line2d_10\">\r\n      <g>\r\n       <use style=\"stroke:#000000;stroke-width:0.8;\" x=\"38.871875\" xlink:href=\"#m0052d1e7a6\" y=\"140.621677\"/>\r\n      </g>\r\n     </g>\r\n     <g id=\"text_10\">\r\n      <!-- 7.5 -->\r\n      <g transform=\"translate(14.157813 144.420896)scale(0.1 -0.1)\">\r\n       <defs>\r\n        <path d=\"M 6.6875 72.90625 \r\nL 61.625 72.90625 \r\nL 61.625 62.3125 \r\nL 33.203125 0 \r\nL 14.890625 0 \r\nL 41.796875 59.078125 \r\nL 6.6875 59.078125 \r\nz\r\n\" id=\"DejaVuSans-Bold-55\"/>\r\n       </defs>\r\n       <use xlink:href=\"#DejaVuSans-Bold-55\"/>\r\n       <use x=\"69.580078\" xlink:href=\"#DejaVuSans-Bold-46\"/>\r\n       <use x=\"107.568359\" xlink:href=\"#DejaVuSans-Bold-53\"/>\r\n      </g>\r\n     </g>\r\n    </g>\r\n    <g id=\"ytick_5\">\r\n     <g id=\"line2d_11\">\r\n      <g>\r\n       <use style=\"stroke:#000000;stroke-width:0.8;\" x=\"38.871875\" xlink:href=\"#m0052d1e7a6\" y=\"115.910115\"/>\r\n      </g>\r\n     </g>\r\n     <g id=\"text_11\">\r\n      <!-- 10.0 -->\r\n      <g transform=\"translate(7.2 119.709334)scale(0.1 -0.1)\">\r\n       <use xlink:href=\"#DejaVuSans-Bold-49\"/>\r\n       <use x=\"69.580078\" xlink:href=\"#DejaVuSans-Bold-48\"/>\r\n       <use x=\"139.160156\" xlink:href=\"#DejaVuSans-Bold-46\"/>\r\n       <use x=\"177.148438\" xlink:href=\"#DejaVuSans-Bold-48\"/>\r\n      </g>\r\n     </g>\r\n    </g>\r\n    <g id=\"ytick_6\">\r\n     <g id=\"line2d_12\">\r\n      <g>\r\n       <use style=\"stroke:#000000;stroke-width:0.8;\" x=\"38.871875\" xlink:href=\"#m0052d1e7a6\" y=\"91.198553\"/>\r\n      </g>\r\n     </g>\r\n     <g id=\"text_12\">\r\n      <!-- 12.5 -->\r\n      <g transform=\"translate(7.2 94.997772)scale(0.1 -0.1)\">\r\n       <use xlink:href=\"#DejaVuSans-Bold-49\"/>\r\n       <use x=\"69.580078\" xlink:href=\"#DejaVuSans-Bold-50\"/>\r\n       <use x=\"139.160156\" xlink:href=\"#DejaVuSans-Bold-46\"/>\r\n       <use x=\"177.148438\" xlink:href=\"#DejaVuSans-Bold-53\"/>\r\n      </g>\r\n     </g>\r\n    </g>\r\n    <g id=\"ytick_7\">\r\n     <g id=\"line2d_13\">\r\n      <g>\r\n       <use style=\"stroke:#000000;stroke-width:0.8;\" x=\"38.871875\" xlink:href=\"#m0052d1e7a6\" y=\"66.486991\"/>\r\n      </g>\r\n     </g>\r\n     <g id=\"text_13\">\r\n      <!-- 15.0 -->\r\n      <g transform=\"translate(7.2 70.28621)scale(0.1 -0.1)\">\r\n       <use xlink:href=\"#DejaVuSans-Bold-49\"/>\r\n       <use x=\"69.580078\" xlink:href=\"#DejaVuSans-Bold-53\"/>\r\n       <use x=\"139.160156\" xlink:href=\"#DejaVuSans-Bold-46\"/>\r\n       <use x=\"177.148438\" xlink:href=\"#DejaVuSans-Bold-48\"/>\r\n      </g>\r\n     </g>\r\n    </g>\r\n    <g id=\"ytick_8\">\r\n     <g id=\"line2d_14\">\r\n      <g>\r\n       <use style=\"stroke:#000000;stroke-width:0.8;\" x=\"38.871875\" xlink:href=\"#m0052d1e7a6\" y=\"41.775429\"/>\r\n      </g>\r\n     </g>\r\n     <g id=\"text_14\">\r\n      <!-- 17.5 -->\r\n      <g transform=\"translate(7.2 45.574648)scale(0.1 -0.1)\">\r\n       <use xlink:href=\"#DejaVuSans-Bold-49\"/>\r\n       <use x=\"69.580078\" xlink:href=\"#DejaVuSans-Bold-55\"/>\r\n       <use x=\"139.160156\" xlink:href=\"#DejaVuSans-Bold-46\"/>\r\n       <use x=\"177.148438\" xlink:href=\"#DejaVuSans-Bold-53\"/>\r\n      </g>\r\n     </g>\r\n    </g>\r\n    <g id=\"ytick_9\">\r\n     <g id=\"line2d_15\">\r\n      <g>\r\n       <use style=\"stroke:#000000;stroke-width:0.8;\" x=\"38.871875\" xlink:href=\"#m0052d1e7a6\" y=\"17.063867\"/>\r\n      </g>\r\n     </g>\r\n     <g id=\"text_15\">\r\n      <!-- 20.0 -->\r\n      <g transform=\"translate(7.2 20.863086)scale(0.1 -0.1)\">\r\n       <use xlink:href=\"#DejaVuSans-Bold-50\"/>\r\n       <use x=\"69.580078\" xlink:href=\"#DejaVuSans-Bold-48\"/>\r\n       <use x=\"139.160156\" xlink:href=\"#DejaVuSans-Bold-46\"/>\r\n       <use x=\"177.148438\" xlink:href=\"#DejaVuSans-Bold-48\"/>\r\n      </g>\r\n     </g>\r\n    </g>\r\n   </g>\r\n   <g id=\"line2d_16\">\r\n    <defs>\r\n     <path d=\"M 0 3 \r\nC 0.795609 3 1.55874 2.683901 2.12132 2.12132 \r\nC 2.683901 1.55874 3 0.795609 3 0 \r\nC 3 -0.795609 2.683901 -1.55874 2.12132 -2.12132 \r\nC 1.55874 -2.683901 0.795609 -3 0 -3 \r\nC -0.795609 -3 -1.55874 -2.683901 -2.12132 -2.12132 \r\nC -2.683901 -1.55874 -3 -0.795609 -3 0 \r\nC -3 0.795609 -2.683901 1.55874 -2.12132 2.12132 \r\nC -1.55874 2.683901 -0.795609 3 0 3 \r\nz\r\n\" id=\"ma981bc3b02\" style=\"stroke:#1f77b4;\"/>\r\n    </defs>\r\n    <g clip-path=\"url(#p1f63d334a3)\">\r\n     <use style=\"fill:#1f77b4;stroke:#1f77b4;\" x=\"214.838917\" xlink:href=\"#ma981bc3b02\" y=\"179.962484\"/>\r\n     <use style=\"fill:#1f77b4;stroke:#1f77b4;\" x=\"348.7963\" xlink:href=\"#ma981bc3b02\" y=\"28.772205\"/>\r\n     <use style=\"fill:#1f77b4;stroke:#1f77b4;\" x=\"292.098059\" xlink:href=\"#ma981bc3b02\" y=\"99.990927\"/>\r\n     <use style=\"fill:#1f77b4;stroke:#1f77b4;\" x=\"141.629649\" xlink:href=\"#ma981bc3b02\" y=\"18.714599\"/>\r\n     <use style=\"fill:#1f77b4;stroke:#1f77b4;\" x=\"122.626393\" xlink:href=\"#ma981bc3b02\" y=\"48.941782\"/>\r\n     <use style=\"fill:#1f77b4;stroke:#1f77b4;\" x=\"267.487284\" xlink:href=\"#ma981bc3b02\" y=\"177.135482\"/>\r\n     <use style=\"fill:#1f77b4;stroke:#1f77b4;\" x=\"105.803837\" xlink:href=\"#ma981bc3b02\" y=\"98.251233\"/>\r\n     <use style=\"fill:#1f77b4;stroke:#1f77b4;\" x=\"175.897817\" xlink:href=\"#ma981bc3b02\" y=\"59.869235\"/>\r\n     <use style=\"fill:#1f77b4;stroke:#1f77b4;\" x=\"246.303326\" xlink:href=\"#ma981bc3b02\" y=\"212.994923\"/>\r\n     <use style=\"fill:#1f77b4;stroke:#1f77b4;\" x=\"182.128393\" xlink:href=\"#ma981bc3b02\" y=\"77.538002\"/>\r\n     <use style=\"fill:#1f77b4;stroke:#1f77b4;\" x=\"54.401586\" xlink:href=\"#ma981bc3b02\" y=\"214.723744\"/>\r\n     <use style=\"fill:#1f77b4;stroke:#1f77b4;\" x=\"329.169986\" xlink:href=\"#ma981bc3b02\" y=\"18.442772\"/>\r\n     <use style=\"fill:#1f77b4;stroke:#1f77b4;\" x=\"329.481515\" xlink:href=\"#ma981bc3b02\" y=\"18.279676\"/>\r\n     <use style=\"fill:#1f77b4;stroke:#1f77b4;\" x=\"147.237168\" xlink:href=\"#ma981bc3b02\" y=\"17.083636\"/>\r\n     <use style=\"fill:#1f77b4;stroke:#1f77b4;\" x=\"237.580519\" xlink:href=\"#ma981bc3b02\" y=\"214.169217\"/>\r\n     <use style=\"fill:#1f77b4;stroke:#1f77b4;\" x=\"358.453693\" xlink:href=\"#ma981bc3b02\" y=\"48.561224\"/>\r\n     <use style=\"fill:#1f77b4;stroke:#1f77b4;\" x=\"317.020363\" xlink:href=\"#ma981bc3b02\" y=\"32.958344\"/>\r\n     <use style=\"fill:#1f77b4;stroke:#1f77b4;\" x=\"74.0279\" xlink:href=\"#ma981bc3b02\" y=\"192.683996\"/>\r\n     <use style=\"fill:#1f77b4;stroke:#1f77b4;\" x=\"145.679524\" xlink:href=\"#ma981bc3b02\" y=\"17.192367\"/>\r\n     <use style=\"fill:#1f77b4;stroke:#1f77b4;\" x=\"143.498822\" xlink:href=\"#ma981bc3b02\" y=\"17.844752\"/>\r\n     <use style=\"fill:#1f77b4;stroke:#1f77b4;\" x=\"309.855201\" xlink:href=\"#ma981bc3b02\" y=\"47.908839\"/>\r\n     <use style=\"fill:#1f77b4;stroke:#1f77b4;\" x=\"248.795556\" xlink:href=\"#ma981bc3b02\" y=\"211.06495\"/>\r\n     <use style=\"fill:#1f77b4;stroke:#1f77b4;\" x=\"88.046696\" xlink:href=\"#ma981bc3b02\" y=\"155.661134\"/>\r\n     <use style=\"fill:#1f77b4;stroke:#1f77b4;\" x=\"54.090057\" xlink:href=\"#ma981bc3b02\" y=\"214.756364\"/>\r\n     <use style=\"fill:#1f77b4;stroke:#1f77b4;\" x=\"347.238656\" xlink:href=\"#ma981bc3b02\" y=\"26.543222\"/>\r\n     <use style=\"fill:#1f77b4;stroke:#1f77b4;\" x=\"98.015617\" xlink:href=\"#ma981bc3b02\" y=\"124.672835\"/>\r\n     <use style=\"fill:#1f77b4;stroke:#1f77b4;\" x=\"185.243681\" xlink:href=\"#ma981bc3b02\" y=\"86.943222\"/>\r\n     <use style=\"fill:#1f77b4;stroke:#1f77b4;\" x=\"161.567492\" xlink:href=\"#ma981bc3b02\" y=\"28.554743\"/>\r\n     <use style=\"fill:#1f77b4;stroke:#1f77b4;\" x=\"324.808583\" xlink:href=\"#ma981bc3b02\" y=\"21.976526\"/>\r\n     <use style=\"fill:#1f77b4;stroke:#1f77b4;\" x=\"187.424383\" xlink:href=\"#ma981bc3b02\" y=\"93.956364\"/>\r\n    </g>\r\n   </g>\r\n   <g id=\"patch_3\">\r\n    <path d=\"M 38.871875 224.64 \r\nL 38.871875 7.2 \r\n\" style=\"fill:none;stroke:#000000;stroke-linecap:square;stroke-linejoin:miter;stroke-width:0.8;\"/>\r\n   </g>\r\n   <g id=\"patch_4\">\r\n    <path d=\"M 373.671875 224.64 \r\nL 373.671875 7.2 \r\n\" style=\"fill:none;stroke:#000000;stroke-linecap:square;stroke-linejoin:miter;stroke-width:0.8;\"/>\r\n   </g>\r\n   <g id=\"patch_5\">\r\n    <path d=\"M 38.871875 224.64 \r\nL 373.671875 224.64 \r\n\" style=\"fill:none;stroke:#000000;stroke-linecap:square;stroke-linejoin:miter;stroke-width:0.8;\"/>\r\n   </g>\r\n   <g id=\"patch_6\">\r\n    <path d=\"M 38.871875 7.2 \r\nL 373.671875 7.2 \r\n\" style=\"fill:none;stroke:#000000;stroke-linecap:square;stroke-linejoin:miter;stroke-width:0.8;\"/>\r\n   </g>\r\n  </g>\r\n </g>\r\n <defs>\r\n  <clipPath id=\"p1f63d334a3\">\r\n   <rect height=\"217.44\" width=\"334.8\" x=\"38.871875\" y=\"7.2\"/>\r\n  </clipPath>\r\n </defs>\r\n</svg>\r\n",
            "image/png": "[encoded data removed]"
          },
          "metadata": {
            "needs_background": "light"
          }
        }
      ]
    }
  ]
}