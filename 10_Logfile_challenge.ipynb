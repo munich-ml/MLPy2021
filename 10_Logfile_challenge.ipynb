{
  "nbformat": 4,
  "nbformat_minor": 0,
  "metadata": {
    "colab": {
      "name": "10_Logfile_challenge.ipynb",
      "provenance": [],
      "collapsed_sections": [],
      "toc_visible": true,
      "authorship_tag": "ABX9TyM0pvT8FXhcsszdBbGwcHDO",
      "include_colab_link": true
    },
    "kernelspec": {
      "name": "python3",
      "display_name": "Python 3"
    }
  },
  "cells": [
    {
      "cell_type": "markdown",
      "metadata": {
        "id": "view-in-github",
        "colab_type": "text"
      },
      "source": [
        "<a href=\"https://colab.research.google.com/github/munich-ml/MLPy2021/blob/main/10_Logfile_challenge.ipynb\" target=\"_parent\"><img src=\"https://colab.research.google.com/assets/colab-badge.svg\" alt=\"Open In Colab\"/></a>"
      ]
    },
    {
      "cell_type": "markdown",
      "metadata": {
        "id": "827kwTxX0tuc"
      },
      "source": [
        "# Logfile challenge"
      ]
    },
    {
      "cell_type": "markdown",
      "metadata": {
        "id": "z12MmBNm4fXJ"
      },
      "source": [
        "## setup"
      ]
    },
    {
      "cell_type": "markdown",
      "metadata": {
        "id": "Wu8QLzNa0zNJ"
      },
      "source": [
        "This section prepares the coding challenge.\n",
        "\n",
        "**Step 1**: Clone GitHub project `MLPy2021`\n"
      ]
    },
    {
      "cell_type": "code",
      "metadata": {
        "id": "7qFfDsKHO1DP",
        "colab": {
          "base_uri": "https://localhost:8080/"
        },
        "outputId": "430b2fd4-ca57-4115-f26c-a346e2fd0c0f"
      },
      "source": [
        "import os\n",
        "\n",
        "# Get munich-ml repo from GitHub\n",
        "if \"MLPy2021\" in os.listdir():\n",
        "    !git -C MLPy2021 pull\n",
        "else:\n",
        "    !git clone https://github.com/munich-ml/MLPy2021/"
      ],
      "execution_count": 174,
      "outputs": [
        {
          "output_type": "stream",
          "text": [
            "remote: Enumerating objects: 9, done.\u001b[K\n",
            "remote: Counting objects:  11% (1/9)\u001b[K\rremote: Counting objects:  22% (2/9)\u001b[K\rremote: Counting objects:  33% (3/9)\u001b[K\rremote: Counting objects:  44% (4/9)\u001b[K\rremote: Counting objects:  55% (5/9)\u001b[K\rremote: Counting objects:  66% (6/9)\u001b[K\rremote: Counting objects:  77% (7/9)\u001b[K\rremote: Counting objects:  88% (8/9)\u001b[K\rremote: Counting objects: 100% (9/9)\u001b[K\rremote: Counting objects: 100% (9/9), done.\u001b[K\n",
            "remote: Compressing objects:  16% (1/6)\u001b[K\rremote: Compressing objects:  33% (2/6)\u001b[K\rremote: Compressing objects:  50% (3/6)\u001b[K\rremote: Compressing objects:  66% (4/6)\u001b[K\rremote: Compressing objects:  83% (5/6)\u001b[K\rremote: Compressing objects: 100% (6/6)\u001b[K\rremote: Compressing objects: 100% (6/6), done.\u001b[K\n",
            "remote: Total 6 (delta 4), reused 0 (delta 0), pack-reused 0\u001b[K\n",
            "Unpacking objects:  16% (1/6)   \rUnpacking objects:  33% (2/6)   \rUnpacking objects:  50% (3/6)   \rUnpacking objects:  66% (4/6)   \rUnpacking objects:  83% (5/6)   \rUnpacking objects: 100% (6/6)   \rUnpacking objects: 100% (6/6), done.\n",
            "From https://github.com/munich-ml/MLPy2021\n",
            "   e5bf32d..4c40aee  main       -> origin/main\n",
            "Updating e5bf32d..4c40aee\n",
            "Fast-forward\n",
            " 10_Logfile_challenge.ipynb | 106 \u001b[32m++++++++++++++++++\u001b[m\u001b[31m-\u001b[m\n",
            " __misc.ipynb               | 247 \u001b[32m+++++++++\u001b[m\u001b[31m------------------------------------\u001b[m\n",
            " 2 files changed, 147 insertions(+), 206 deletions(-)\n"
          ],
          "name": "stdout"
        }
      ]
    },
    {
      "cell_type": "markdown",
      "metadata": {
        "id": "mJSxBFxXGo_i"
      },
      "source": [
        "**Step 2**: Open file `logfile.csv` and store content into variable `s`"
      ]
    },
    {
      "cell_type": "code",
      "metadata": {
        "id": "nofRyeDYGorq"
      },
      "source": [
        "path = os.path.join(\"MLPy2021\", \"datasets\", \"logfile.csv\")\n",
        "\n",
        "with open(path, \"r\") as file:\n",
        "    s = file.read()"
      ],
      "execution_count": 175,
      "outputs": []
    },
    {
      "cell_type": "markdown",
      "metadata": {
        "id": "EGavNzl77n-k"
      },
      "source": [
        "## The task"
      ]
    },
    {
      "cell_type": "markdown",
      "metadata": {
        "id": "TusQeM0e4XxB"
      },
      "source": [
        "After executing the setup, the variable `s` should be available, holding the content of the logfile.\n",
        "\n",
        "The task is to **parse the logfile content**."
      ]
    },
    {
      "cell_type": "code",
      "metadata": {
        "id": "ECAVYUQq8uRJ",
        "colab": {
          "base_uri": "https://localhost:8080/"
        },
        "outputId": "eed6075a-e7b8-4e6b-9698-52e5d180f5ce"
      },
      "source": [
        "print(s)"
      ],
      "execution_count": 176,
      "outputs": [
        {
          "output_type": "stream",
          "text": [
            "MLPy2020 logfile challenge\n",
            "\n",
            "header\n",
            "measurement date,2020-05-06\n",
            "measurement time,08:00:00\n",
            "calibration factor sig0,0.55\n",
            "calibration factor sig2,1.88\n",
            "\n",
            "measurements\n",
            "x,sig0,sig1,sig2\n",
            "5.17,6.40 Ohms,16.05 Ohms,10.61 Ohms\n",
            "9.47,34.21 Ohms,5.95 Ohms,293 mOhms\n",
            "7.65,21.11 Ohms,366 mOhms,4.80 Ohms\n",
            "2.82,36.06 Ohms,16.03 Ohms,6.39 Ohms\n",
            "2.21,30.50 Ohms,11.65 Ohms,4.36 Ohms\n",
            "6.86,6.92 Ohms,3.73 Ohms,7.39 Ohms\n",
            "1.67,21.43 Ohms,7.45 Ohms,2.67 Ohms\n",
            "3.92,28.49 Ohms,19.98 Ohms,9.47 Ohms\n",
            "6.18,324 mOhms,8.59 Ohms,9.24 Ohms\n",
            "4.12,25.24 Ohms,19.96 Ohms,9.84 Ohms\n",
            "0.02,6 mOhms,2 mOhms,1 mOhms\n",
            "8.84,36.11 Ohms,2.10 Ohms,1.35 Ohms\n",
            "8.85,36.14 Ohms,2.14 Ohms,1.33 Ohms\n",
            "3.00,36.36 Ohms,17.09 Ohms,6.98 Ohms\n",
            "5.90,108 mOhms,10.82 Ohms,9.82 Ohms\n",
            "9.78,30.57 Ohms,8.31 Ohms,49 mOhms\n",
            "8.45,33.44 Ohms,621 mOhms,2.33 Ohms\n",
            "0.65,4.06 Ohms,1.28 Ohms,438 mOhms\n",
            "2.95,36.34 Ohms,16.77 Ohms,6.79 Ohms\n",
            "2.88,36.22 Ohms,16.37 Ohms,6.57 Ohms\n",
            "8.22,30.69 Ohms,155 mOhms,2.98 Ohms\n",
            "6.26,679 mOhms,7.96 Ohms,9.05 Ohms\n",
            "1.10,10.87 Ohms,3.53 Ohms,1.23 Ohms\n",
            "0.01,0 mOhms,0 mOhms,0 mOhms\n",
            "9.42,34.62 Ohms,5.61 Ohms,347 mOhms\n",
            "1.42,16.57 Ohms,5.57 Ohms,1.97 Ohms\n",
            "4.22,23.51 Ohms,19.86 Ohms,10.01 Ohms\n",
            "3.46,34.25 Ohms,19.13 Ohms,8.35 Ohms\n",
            "8.70,35.46 Ohms,1.46 Ohms,1.68 Ohms\n",
            "4.29,22.22 Ohms,19.75 Ohms,10.11 Ohms\n"
          ],
          "name": "stdout"
        }
      ]
    },
    {
      "cell_type": "markdown",
      "metadata": {
        "id": "_p1udZjA5I1d"
      },
      "source": [
        "# Python built-in functions"
      ]
    },
    {
      "cell_type": "markdown",
      "metadata": {
        "id": "_cHzailz5OlM"
      },
      "source": [
        "The Python interpreter has a couple of functions build-in. They are available without any preparation. \n",
        "\n",
        "Complete list of built-in funcitons: https://docs.python.org/3/library/functions.html\n",
        "\n",
        "Some prominent examples:\n",
        "- `print`\n",
        "- `type`\n",
        "- `min`\n",
        "- `len`\n",
        "\n",
        "\n"
      ]
    },
    {
      "cell_type": "code",
      "metadata": {
        "id": "OSN93Gpq60fR",
        "colab": {
          "base_uri": "https://localhost:8080/"
        },
        "outputId": "ea6a3afa-5c66-45d1-e65d-add9ab5e8610"
      },
      "source": [
        "type(s)"
      ],
      "execution_count": 177,
      "outputs": [
        {
          "output_type": "execute_result",
          "data": {
            "text/plain": [
              "str"
            ]
          },
          "metadata": {
            "tags": []
          },
          "execution_count": 177
        }
      ]
    },
    {
      "cell_type": "markdown",
      "metadata": {
        "id": "4bN5FJOE_MUJ"
      },
      "source": [
        "... the datatype of the variable `s` is `str`, string. "
      ]
    },
    {
      "cell_type": "code",
      "metadata": {
        "id": "t8O6X4in5Nr3",
        "colab": {
          "base_uri": "https://localhost:8080/"
        },
        "outputId": "4b895bce-dcfc-4ff8-9f41-01b119080346"
      },
      "source": [
        "len(s)"
      ],
      "execution_count": 178,
      "outputs": [
        {
          "output_type": "execute_result",
          "data": {
            "text/plain": [
              "1251"
            ]
          },
          "metadata": {
            "tags": []
          },
          "execution_count": 178
        }
      ]
    },
    {
      "cell_type": "code",
      "metadata": {
        "id": "a-rgU3OF5IEv",
        "colab": {
          "base_uri": "https://localhost:8080/",
          "height": 35
        },
        "outputId": "d96a8d5d-d61e-428d-f871-240f72aae645"
      },
      "source": [
        "min(s)"
      ],
      "execution_count": 179,
      "outputs": [
        {
          "output_type": "execute_result",
          "data": {
            "application/vnd.google.colaboratory.intrinsic+json": {
              "type": "string"
            },
            "text/plain": [
              "'\\n'"
            ]
          },
          "metadata": {
            "tags": []
          },
          "execution_count": 179
        }
      ]
    },
    {
      "cell_type": "markdown",
      "metadata": {
        "id": "BUEorZ5D_e7b"
      },
      "source": [
        "`min` returns the smallest item of a collection. Maybe not very helpful for an `str` type object."
      ]
    },
    {
      "cell_type": "markdown",
      "metadata": {
        "id": "ZZHIKzriAGze"
      },
      "source": [
        "# `str` objects"
      ]
    },
    {
      "cell_type": "markdown",
      "metadata": {
        "id": "r9ldCe1HAT7X"
      },
      "source": [
        "## Slicing"
      ]
    },
    {
      "cell_type": "markdown",
      "metadata": {
        "id": "hTz7aaq_auI2"
      },
      "source": [
        "Single characters of the string can be accessed using their index in brakets `[index]`:\n",
        "\n",
        "\n"
      ]
    },
    {
      "cell_type": "code",
      "metadata": {
        "id": "Lpy-XJLtATil",
        "colab": {
          "base_uri": "https://localhost:8080/",
          "height": 35
        },
        "outputId": "33bd837a-1b37-4430-8d98-78dbbf134501"
      },
      "source": [
        "s[0]"
      ],
      "execution_count": 180,
      "outputs": [
        {
          "output_type": "execute_result",
          "data": {
            "application/vnd.google.colaboratory.intrinsic+json": {
              "type": "string"
            },
            "text/plain": [
              "'M'"
            ]
          },
          "metadata": {
            "tags": []
          },
          "execution_count": 180
        }
      ]
    },
    {
      "cell_type": "code",
      "metadata": {
        "id": "HjB5wBgOAoVv",
        "colab": {
          "base_uri": "https://localhost:8080/",
          "height": 35
        },
        "outputId": "dd24542d-00c1-4519-f9f0-9827eb4a69bd"
      },
      "source": [
        "s[-1]"
      ],
      "execution_count": 181,
      "outputs": [
        {
          "output_type": "execute_result",
          "data": {
            "application/vnd.google.colaboratory.intrinsic+json": {
              "type": "string"
            },
            "text/plain": [
              "'s'"
            ]
          },
          "metadata": {
            "tags": []
          },
          "execution_count": 181
        }
      ]
    },
    {
      "cell_type": "markdown",
      "metadata": {
        "id": "yVIbnsk8eHQf"
      },
      "source": [
        "**Ranges** can be indexed by `[start_index : end_index]`.\n",
        "The `start_index` is included, the `end_index` not!"
      ]
    },
    {
      "cell_type": "code",
      "metadata": {
        "id": "4OT50QEGRQD0",
        "colab": {
          "base_uri": "https://localhost:8080/",
          "height": 35
        },
        "outputId": "9faf857d-690b-411a-935f-93fe2f8f6608"
      },
      "source": [
        "s[10:60]"
      ],
      "execution_count": 182,
      "outputs": [
        {
          "output_type": "execute_result",
          "data": {
            "application/vnd.google.colaboratory.intrinsic+json": {
              "type": "string"
            },
            "text/plain": [
              "'ogfile challenge\\n\\nheader\\nmeasurement date,2020-05-'"
            ]
          },
          "metadata": {
            "tags": []
          },
          "execution_count": 182
        }
      ]
    },
    {
      "cell_type": "code",
      "metadata": {
        "id": "BW1BtJMyA5Wr",
        "colab": {
          "base_uri": "https://localhost:8080/",
          "height": 35
        },
        "outputId": "d1905515-810d-4ad1-cbcc-fd8a1a5acaa8"
      },
      "source": [
        "first_line = s[:26]\n",
        "first_line"
      ],
      "execution_count": 183,
      "outputs": [
        {
          "output_type": "execute_result",
          "data": {
            "application/vnd.google.colaboratory.intrinsic+json": {
              "type": "string"
            },
            "text/plain": [
              "'MLPy2020 logfile challenge'"
            ]
          },
          "metadata": {
            "tags": []
          },
          "execution_count": 183
        }
      ]
    },
    {
      "cell_type": "markdown",
      "metadata": {
        "id": "CTcC8LX_Bbxq"
      },
      "source": [
        "## `str` object methods"
      ]
    },
    {
      "cell_type": "markdown",
      "metadata": {
        "id": "gscHyb6KBj1c"
      },
      "source": [
        "The `str` object not only contains **data**, it also contains **functions**, called **methods**."
      ]
    },
    {
      "cell_type": "code",
      "metadata": {
        "id": "Fmou7hfNBUO6",
        "colab": {
          "base_uri": "https://localhost:8080/",
          "height": 35
        },
        "outputId": "0c945e17-08c8-40eb-a9f6-dbf58431cc3e"
      },
      "source": [
        "first_line.upper()"
      ],
      "execution_count": 184,
      "outputs": [
        {
          "output_type": "execute_result",
          "data": {
            "application/vnd.google.colaboratory.intrinsic+json": {
              "type": "string"
            },
            "text/plain": [
              "'MLPY2020 LOGFILE CHALLENGE'"
            ]
          },
          "metadata": {
            "tags": []
          },
          "execution_count": 184
        }
      ]
    },
    {
      "cell_type": "code",
      "metadata": {
        "id": "NWM52R7aCHLC",
        "colab": {
          "base_uri": "https://localhost:8080/",
          "height": 35
        },
        "outputId": "8e2f0a71-3332-4b5a-f62c-953e3a2e7f29"
      },
      "source": [
        "first_line"
      ],
      "execution_count": 185,
      "outputs": [
        {
          "output_type": "execute_result",
          "data": {
            "application/vnd.google.colaboratory.intrinsic+json": {
              "type": "string"
            },
            "text/plain": [
              "'MLPy2020 logfile challenge'"
            ]
          },
          "metadata": {
            "tags": []
          },
          "execution_count": 185
        }
      ]
    },
    {
      "cell_type": "code",
      "metadata": {
        "id": "Ot1zqJO5CM_P"
      },
      "source": [
        "first_line = first_line.upper()"
      ],
      "execution_count": 186,
      "outputs": []
    },
    {
      "cell_type": "code",
      "metadata": {
        "id": "szyWMP8JCMuU",
        "colab": {
          "base_uri": "https://localhost:8080/",
          "height": 35
        },
        "outputId": "c335ad82-b440-41cb-9cc6-af9b6dd126da"
      },
      "source": [
        "first_line"
      ],
      "execution_count": 187,
      "outputs": [
        {
          "output_type": "execute_result",
          "data": {
            "application/vnd.google.colaboratory.intrinsic+json": {
              "type": "string"
            },
            "text/plain": [
              "'MLPY2020 LOGFILE CHALLENGE'"
            ]
          },
          "metadata": {
            "tags": []
          },
          "execution_count": 187
        }
      ]
    },
    {
      "cell_type": "markdown",
      "metadata": {
        "id": "OiROQ5ndNN3k"
      },
      "source": [
        "## Exercise with `str` objects\n",
        "- Create a variable `my_name` holding your Name, \n",
        "- print the name in lower case, \n",
        "- check its length and\n",
        "- check its type "
      ]
    },
    {
      "cell_type": "markdown",
      "metadata": {
        "id": "6oZz2zr8OAAw"
      },
      "source": [
        "### Solution"
      ]
    },
    {
      "cell_type": "code",
      "metadata": {
        "id": "8stltdf5OB6r",
        "colab": {
          "base_uri": "https://localhost:8080/",
          "height": 0
        },
        "outputId": "56b60fd1-07b8-4713-e1af-73d46e7417ce"
      },
      "source": [
        "my_name = \"Holger Steffens\"\n",
        "my_name"
      ],
      "execution_count": 188,
      "outputs": [
        {
          "output_type": "execute_result",
          "data": {
            "application/vnd.google.colaboratory.intrinsic+json": {
              "type": "string"
            },
            "text/plain": [
              "'Holger Steffens'"
            ]
          },
          "metadata": {
            "tags": []
          },
          "execution_count": 188
        }
      ]
    },
    {
      "cell_type": "code",
      "metadata": {
        "id": "ofCl5bOdOHaZ",
        "colab": {
          "base_uri": "https://localhost:8080/"
        },
        "outputId": "39e63eff-1d9f-42fd-c507-35ce7806a4a0"
      },
      "source": [
        "print(my_name.lower())\n",
        "print(len(my_name))\n",
        "print(type(my_name))"
      ],
      "execution_count": 189,
      "outputs": [
        {
          "output_type": "stream",
          "text": [
            "holger steffens\n",
            "15\n",
            "<class 'str'>\n"
          ],
          "name": "stdout"
        }
      ]
    },
    {
      "cell_type": "markdown",
      "metadata": {
        "id": "Yhtj3-U8Cai0"
      },
      "source": [
        "## `split` method"
      ]
    },
    {
      "cell_type": "code",
      "metadata": {
        "id": "Iq-YzE9ZCfZN",
        "colab": {
          "base_uri": "https://localhost:8080/"
        },
        "outputId": "1bb3ef1f-2ff5-40ca-f693-cb237e05214f"
      },
      "source": [
        "first_line.split(\" \")"
      ],
      "execution_count": 190,
      "outputs": [
        {
          "output_type": "execute_result",
          "data": {
            "text/plain": [
              "['MLPY2020', 'LOGFILE', 'CHALLENGE']"
            ]
          },
          "metadata": {
            "tags": []
          },
          "execution_count": 190
        }
      ]
    },
    {
      "cell_type": "markdown",
      "metadata": {
        "id": "erSbgTtqCxjd"
      },
      "source": [
        "Split the logfile content `s` on the *new line character* `\\n`"
      ]
    },
    {
      "cell_type": "code",
      "metadata": {
        "id": "oCvAZiqURg40",
        "colab": {
          "base_uri": "https://localhost:8080/"
        },
        "outputId": "6e727842-7cdf-4293-ca8a-7f1658f65e1f"
      },
      "source": [
        "lines = s.split(\"\\n\")\n",
        "lines"
      ],
      "execution_count": 191,
      "outputs": [
        {
          "output_type": "execute_result",
          "data": {
            "text/plain": [
              "['MLPy2020 logfile challenge',\n",
              " '',\n",
              " 'header',\n",
              " 'measurement date,2020-05-06',\n",
              " 'measurement time,08:00:00',\n",
              " 'calibration factor sig0,0.55',\n",
              " 'calibration factor sig2,1.88',\n",
              " '',\n",
              " 'measurements',\n",
              " 'x,sig0,sig1,sig2',\n",
              " '5.17,6.40 Ohms,16.05 Ohms,10.61 Ohms',\n",
              " '9.47,34.21 Ohms,5.95 Ohms,293 mOhms',\n",
              " '7.65,21.11 Ohms,366 mOhms,4.80 Ohms',\n",
              " '2.82,36.06 Ohms,16.03 Ohms,6.39 Ohms',\n",
              " '2.21,30.50 Ohms,11.65 Ohms,4.36 Ohms',\n",
              " '6.86,6.92 Ohms,3.73 Ohms,7.39 Ohms',\n",
              " '1.67,21.43 Ohms,7.45 Ohms,2.67 Ohms',\n",
              " '3.92,28.49 Ohms,19.98 Ohms,9.47 Ohms',\n",
              " '6.18,324 mOhms,8.59 Ohms,9.24 Ohms',\n",
              " '4.12,25.24 Ohms,19.96 Ohms,9.84 Ohms',\n",
              " '0.02,6 mOhms,2 mOhms,1 mOhms',\n",
              " '8.84,36.11 Ohms,2.10 Ohms,1.35 Ohms',\n",
              " '8.85,36.14 Ohms,2.14 Ohms,1.33 Ohms',\n",
              " '3.00,36.36 Ohms,17.09 Ohms,6.98 Ohms',\n",
              " '5.90,108 mOhms,10.82 Ohms,9.82 Ohms',\n",
              " '9.78,30.57 Ohms,8.31 Ohms,49 mOhms',\n",
              " '8.45,33.44 Ohms,621 mOhms,2.33 Ohms',\n",
              " '0.65,4.06 Ohms,1.28 Ohms,438 mOhms',\n",
              " '2.95,36.34 Ohms,16.77 Ohms,6.79 Ohms',\n",
              " '2.88,36.22 Ohms,16.37 Ohms,6.57 Ohms',\n",
              " '8.22,30.69 Ohms,155 mOhms,2.98 Ohms',\n",
              " '6.26,679 mOhms,7.96 Ohms,9.05 Ohms',\n",
              " '1.10,10.87 Ohms,3.53 Ohms,1.23 Ohms',\n",
              " '0.01,0 mOhms,0 mOhms,0 mOhms',\n",
              " '9.42,34.62 Ohms,5.61 Ohms,347 mOhms',\n",
              " '1.42,16.57 Ohms,5.57 Ohms,1.97 Ohms',\n",
              " '4.22,23.51 Ohms,19.86 Ohms,10.01 Ohms',\n",
              " '3.46,34.25 Ohms,19.13 Ohms,8.35 Ohms',\n",
              " '8.70,35.46 Ohms,1.46 Ohms,1.68 Ohms',\n",
              " '4.29,22.22 Ohms,19.75 Ohms,10.11 Ohms']"
            ]
          },
          "metadata": {
            "tags": []
          },
          "execution_count": 191
        }
      ]
    },
    {
      "cell_type": "markdown",
      "metadata": {
        "id": "9TfP4cZ7DC3H"
      },
      "source": [
        "# `list` objects"
      ]
    },
    {
      "cell_type": "code",
      "metadata": {
        "id": "VxUVI99aEBLM",
        "colab": {
          "base_uri": "https://localhost:8080/"
        },
        "outputId": "65da4b2f-b198-4bce-9f87-1c885789c8be"
      },
      "source": [
        "type(lines)"
      ],
      "execution_count": 192,
      "outputs": [
        {
          "output_type": "execute_result",
          "data": {
            "text/plain": [
              "list"
            ]
          },
          "metadata": {
            "tags": []
          },
          "execution_count": 192
        }
      ]
    },
    {
      "cell_type": "code",
      "metadata": {
        "id": "66rfa2YsED5J",
        "colab": {
          "base_uri": "https://localhost:8080/"
        },
        "outputId": "2d1d2045-02e1-4f07-bfee-ce359f44b5aa"
      },
      "source": [
        "len(lines)"
      ],
      "execution_count": 193,
      "outputs": [
        {
          "output_type": "execute_result",
          "data": {
            "text/plain": [
              "40"
            ]
          },
          "metadata": {
            "tags": []
          },
          "execution_count": 193
        }
      ]
    },
    {
      "cell_type": "code",
      "metadata": {
        "id": "1acpzNKTSVfq",
        "colab": {
          "base_uri": "https://localhost:8080/",
          "height": 35
        },
        "outputId": "08dad97c-4e7c-4b1a-97c0-00d224b6520f"
      },
      "source": [
        "lines[0]"
      ],
      "execution_count": 194,
      "outputs": [
        {
          "output_type": "execute_result",
          "data": {
            "application/vnd.google.colaboratory.intrinsic+json": {
              "type": "string"
            },
            "text/plain": [
              "'MLPy2020 logfile challenge'"
            ]
          },
          "metadata": {
            "tags": []
          },
          "execution_count": 194
        }
      ]
    },
    {
      "cell_type": "markdown",
      "metadata": {
        "id": "wbKKAYGwEk4g"
      },
      "source": [
        "... this seems better than counting the first lines's characters and slicing the string manually!"
      ]
    },
    {
      "cell_type": "markdown",
      "metadata": {
        "id": "NgvoX1N4FI0A"
      },
      "source": [
        "`list` objects also support slicing:"
      ]
    },
    {
      "cell_type": "code",
      "metadata": {
        "id": "s5FxVd5zSqxD",
        "colab": {
          "base_uri": "https://localhost:8080/"
        },
        "outputId": "ca7881e2-70ed-48c2-b963-9fa140bf9383"
      },
      "source": [
        "lines[2:8]"
      ],
      "execution_count": 195,
      "outputs": [
        {
          "output_type": "execute_result",
          "data": {
            "text/plain": [
              "['header',\n",
              " 'measurement date,2020-05-06',\n",
              " 'measurement time,08:00:00',\n",
              " 'calibration factor sig0,0.55',\n",
              " 'calibration factor sig2,1.88',\n",
              " '']"
            ]
          },
          "metadata": {
            "tags": []
          },
          "execution_count": 195
        }
      ]
    },
    {
      "cell_type": "code",
      "metadata": {
        "id": "oWUC9TcGSufO",
        "colab": {
          "base_uri": "https://localhost:8080/"
        },
        "outputId": "a7ea8d39-7515-4b9e-af66-d0f149637719"
      },
      "source": [
        "lines[8:]"
      ],
      "execution_count": 196,
      "outputs": [
        {
          "output_type": "execute_result",
          "data": {
            "text/plain": [
              "['measurements',\n",
              " 'x,sig0,sig1,sig2',\n",
              " '5.17,6.40 Ohms,16.05 Ohms,10.61 Ohms',\n",
              " '9.47,34.21 Ohms,5.95 Ohms,293 mOhms',\n",
              " '7.65,21.11 Ohms,366 mOhms,4.80 Ohms',\n",
              " '2.82,36.06 Ohms,16.03 Ohms,6.39 Ohms',\n",
              " '2.21,30.50 Ohms,11.65 Ohms,4.36 Ohms',\n",
              " '6.86,6.92 Ohms,3.73 Ohms,7.39 Ohms',\n",
              " '1.67,21.43 Ohms,7.45 Ohms,2.67 Ohms',\n",
              " '3.92,28.49 Ohms,19.98 Ohms,9.47 Ohms',\n",
              " '6.18,324 mOhms,8.59 Ohms,9.24 Ohms',\n",
              " '4.12,25.24 Ohms,19.96 Ohms,9.84 Ohms',\n",
              " '0.02,6 mOhms,2 mOhms,1 mOhms',\n",
              " '8.84,36.11 Ohms,2.10 Ohms,1.35 Ohms',\n",
              " '8.85,36.14 Ohms,2.14 Ohms,1.33 Ohms',\n",
              " '3.00,36.36 Ohms,17.09 Ohms,6.98 Ohms',\n",
              " '5.90,108 mOhms,10.82 Ohms,9.82 Ohms',\n",
              " '9.78,30.57 Ohms,8.31 Ohms,49 mOhms',\n",
              " '8.45,33.44 Ohms,621 mOhms,2.33 Ohms',\n",
              " '0.65,4.06 Ohms,1.28 Ohms,438 mOhms',\n",
              " '2.95,36.34 Ohms,16.77 Ohms,6.79 Ohms',\n",
              " '2.88,36.22 Ohms,16.37 Ohms,6.57 Ohms',\n",
              " '8.22,30.69 Ohms,155 mOhms,2.98 Ohms',\n",
              " '6.26,679 mOhms,7.96 Ohms,9.05 Ohms',\n",
              " '1.10,10.87 Ohms,3.53 Ohms,1.23 Ohms',\n",
              " '0.01,0 mOhms,0 mOhms,0 mOhms',\n",
              " '9.42,34.62 Ohms,5.61 Ohms,347 mOhms',\n",
              " '1.42,16.57 Ohms,5.57 Ohms,1.97 Ohms',\n",
              " '4.22,23.51 Ohms,19.86 Ohms,10.01 Ohms',\n",
              " '3.46,34.25 Ohms,19.13 Ohms,8.35 Ohms',\n",
              " '8.70,35.46 Ohms,1.46 Ohms,1.68 Ohms',\n",
              " '4.29,22.22 Ohms,19.75 Ohms,10.11 Ohms']"
            ]
          },
          "metadata": {
            "tags": []
          },
          "execution_count": 196
        }
      ]
    },
    {
      "cell_type": "markdown",
      "metadata": {
        "id": "yqhTHPFhPNHv"
      },
      "source": [
        "## Exercise with `list` objects\n",
        "Reuse the `my_name` variable and print the number of characters in your first and second name."
      ]
    },
    {
      "cell_type": "markdown",
      "metadata": {
        "id": "xuJWXV14P5WN"
      },
      "source": [
        "### Solution"
      ]
    },
    {
      "cell_type": "code",
      "metadata": {
        "id": "Hi-kEaK_P6zL",
        "colab": {
          "base_uri": "https://localhost:8080/"
        },
        "outputId": "c99440b3-ec42-45af-e068-ebfe06041529"
      },
      "source": [
        "my_names = my_name.split()   # using the default seperator of .split()\n",
        "print(my_names[0], len(my_names[0]))\n",
        "print(my_names[1], len(my_names[1]))"
      ],
      "execution_count": 197,
      "outputs": [
        {
          "output_type": "stream",
          "text": [
            "Holger 6\n",
            "Steffens 8\n"
          ],
          "name": "stdout"
        }
      ]
    },
    {
      "cell_type": "markdown",
      "metadata": {
        "id": "oqvnf_kEHnOT"
      },
      "source": [
        "# `for` loops"
      ]
    },
    {
      "cell_type": "markdown",
      "metadata": {
        "id": "mpffp9oM6pZ1"
      },
      "source": [
        "The next step in the *logfile challenge* requires looping. \n",
        "\n",
        "- **`for`, `in`** are keywords in Python, as well as\n",
        "- **`while`**,\n",
        "- and of course there are more keywords: [all Python keywords](https://docs.python.org/3/reference/lexical_analysis.html#keywords)\n",
        "\n",
        "A *C-style* `for` loop such as:\n",
        "\n",
        ">`lines[0]`\n",
        ">\n",
        ">`lines[1]`\n",
        ">\n",
        ">`...`\n",
        "\n",
        "requires an *index variable*. \n"
      ]
    },
    {
      "cell_type": "code",
      "metadata": {
        "id": "Hcz0lFtSR_uV",
        "colab": {
          "base_uri": "https://localhost:8080/"
        },
        "outputId": "cc037e8c-f37f-4f43-bbcc-805f5b47b8b3"
      },
      "source": [
        "for i in [0, 1, 2]:\n",
        "    print(i)"
      ],
      "execution_count": 198,
      "outputs": [
        {
          "output_type": "stream",
          "text": [
            "0\n",
            "1\n",
            "2\n"
          ],
          "name": "stdout"
        }
      ]
    },
    {
      "cell_type": "markdown",
      "metadata": {
        "id": "fxR8PMi8SRiE"
      },
      "source": [
        "The build-in function `range()` simplifies the loop:"
      ]
    },
    {
      "cell_type": "code",
      "metadata": {
        "id": "dkxQjc0yIB2N",
        "colab": {
          "base_uri": "https://localhost:8080/"
        },
        "outputId": "6f808c26-5fd9-4cb4-a8f8-1d45aa67c3eb"
      },
      "source": [
        "for i in range(3):\n",
        "    print(i)"
      ],
      "execution_count": 199,
      "outputs": [
        {
          "output_type": "stream",
          "text": [
            "0\n",
            "1\n",
            "2\n"
          ],
          "name": "stdout"
        }
      ]
    },
    {
      "cell_type": "markdown",
      "metadata": {
        "id": "mxa65MRGSf6N"
      },
      "source": [
        "## looping over the `lines` object"
      ]
    },
    {
      "cell_type": "code",
      "metadata": {
        "id": "mpRnWM31S0ug",
        "colab": {
          "base_uri": "https://localhost:8080/"
        },
        "outputId": "84f6edee-3ce2-4a71-f516-2420a875767c"
      },
      "source": [
        "lines"
      ],
      "execution_count": 200,
      "outputs": [
        {
          "output_type": "execute_result",
          "data": {
            "text/plain": [
              "['MLPy2020 logfile challenge',\n",
              " '',\n",
              " 'header',\n",
              " 'measurement date,2020-05-06',\n",
              " 'measurement time,08:00:00',\n",
              " 'calibration factor sig0,0.55',\n",
              " 'calibration factor sig2,1.88',\n",
              " '',\n",
              " 'measurements',\n",
              " 'x,sig0,sig1,sig2',\n",
              " '5.17,6.40 Ohms,16.05 Ohms,10.61 Ohms',\n",
              " '9.47,34.21 Ohms,5.95 Ohms,293 mOhms',\n",
              " '7.65,21.11 Ohms,366 mOhms,4.80 Ohms',\n",
              " '2.82,36.06 Ohms,16.03 Ohms,6.39 Ohms',\n",
              " '2.21,30.50 Ohms,11.65 Ohms,4.36 Ohms',\n",
              " '6.86,6.92 Ohms,3.73 Ohms,7.39 Ohms',\n",
              " '1.67,21.43 Ohms,7.45 Ohms,2.67 Ohms',\n",
              " '3.92,28.49 Ohms,19.98 Ohms,9.47 Ohms',\n",
              " '6.18,324 mOhms,8.59 Ohms,9.24 Ohms',\n",
              " '4.12,25.24 Ohms,19.96 Ohms,9.84 Ohms',\n",
              " '0.02,6 mOhms,2 mOhms,1 mOhms',\n",
              " '8.84,36.11 Ohms,2.10 Ohms,1.35 Ohms',\n",
              " '8.85,36.14 Ohms,2.14 Ohms,1.33 Ohms',\n",
              " '3.00,36.36 Ohms,17.09 Ohms,6.98 Ohms',\n",
              " '5.90,108 mOhms,10.82 Ohms,9.82 Ohms',\n",
              " '9.78,30.57 Ohms,8.31 Ohms,49 mOhms',\n",
              " '8.45,33.44 Ohms,621 mOhms,2.33 Ohms',\n",
              " '0.65,4.06 Ohms,1.28 Ohms,438 mOhms',\n",
              " '2.95,36.34 Ohms,16.77 Ohms,6.79 Ohms',\n",
              " '2.88,36.22 Ohms,16.37 Ohms,6.57 Ohms',\n",
              " '8.22,30.69 Ohms,155 mOhms,2.98 Ohms',\n",
              " '6.26,679 mOhms,7.96 Ohms,9.05 Ohms',\n",
              " '1.10,10.87 Ohms,3.53 Ohms,1.23 Ohms',\n",
              " '0.01,0 mOhms,0 mOhms,0 mOhms',\n",
              " '9.42,34.62 Ohms,5.61 Ohms,347 mOhms',\n",
              " '1.42,16.57 Ohms,5.57 Ohms,1.97 Ohms',\n",
              " '4.22,23.51 Ohms,19.86 Ohms,10.01 Ohms',\n",
              " '3.46,34.25 Ohms,19.13 Ohms,8.35 Ohms',\n",
              " '8.70,35.46 Ohms,1.46 Ohms,1.68 Ohms',\n",
              " '4.29,22.22 Ohms,19.75 Ohms,10.11 Ohms']"
            ]
          },
          "metadata": {
            "tags": []
          },
          "execution_count": 200
        }
      ]
    },
    {
      "cell_type": "code",
      "metadata": {
        "id": "ccD3lLFNTMI1",
        "colab": {
          "base_uri": "https://localhost:8080/"
        },
        "outputId": "d2097377-d9a0-4045-96ab-b929f08f4b10"
      },
      "source": [
        "for i in range(len(lines)):\n",
        "    line = lines[i]\n",
        "    print(line)"
      ],
      "execution_count": 201,
      "outputs": [
        {
          "output_type": "stream",
          "text": [
            "MLPy2020 logfile challenge\n",
            "\n",
            "header\n",
            "measurement date,2020-05-06\n",
            "measurement time,08:00:00\n",
            "calibration factor sig0,0.55\n",
            "calibration factor sig2,1.88\n",
            "\n",
            "measurements\n",
            "x,sig0,sig1,sig2\n",
            "5.17,6.40 Ohms,16.05 Ohms,10.61 Ohms\n",
            "9.47,34.21 Ohms,5.95 Ohms,293 mOhms\n",
            "7.65,21.11 Ohms,366 mOhms,4.80 Ohms\n",
            "2.82,36.06 Ohms,16.03 Ohms,6.39 Ohms\n",
            "2.21,30.50 Ohms,11.65 Ohms,4.36 Ohms\n",
            "6.86,6.92 Ohms,3.73 Ohms,7.39 Ohms\n",
            "1.67,21.43 Ohms,7.45 Ohms,2.67 Ohms\n",
            "3.92,28.49 Ohms,19.98 Ohms,9.47 Ohms\n",
            "6.18,324 mOhms,8.59 Ohms,9.24 Ohms\n",
            "4.12,25.24 Ohms,19.96 Ohms,9.84 Ohms\n",
            "0.02,6 mOhms,2 mOhms,1 mOhms\n",
            "8.84,36.11 Ohms,2.10 Ohms,1.35 Ohms\n",
            "8.85,36.14 Ohms,2.14 Ohms,1.33 Ohms\n",
            "3.00,36.36 Ohms,17.09 Ohms,6.98 Ohms\n",
            "5.90,108 mOhms,10.82 Ohms,9.82 Ohms\n",
            "9.78,30.57 Ohms,8.31 Ohms,49 mOhms\n",
            "8.45,33.44 Ohms,621 mOhms,2.33 Ohms\n",
            "0.65,4.06 Ohms,1.28 Ohms,438 mOhms\n",
            "2.95,36.34 Ohms,16.77 Ohms,6.79 Ohms\n",
            "2.88,36.22 Ohms,16.37 Ohms,6.57 Ohms\n",
            "8.22,30.69 Ohms,155 mOhms,2.98 Ohms\n",
            "6.26,679 mOhms,7.96 Ohms,9.05 Ohms\n",
            "1.10,10.87 Ohms,3.53 Ohms,1.23 Ohms\n",
            "0.01,0 mOhms,0 mOhms,0 mOhms\n",
            "9.42,34.62 Ohms,5.61 Ohms,347 mOhms\n",
            "1.42,16.57 Ohms,5.57 Ohms,1.97 Ohms\n",
            "4.22,23.51 Ohms,19.86 Ohms,10.01 Ohms\n",
            "3.46,34.25 Ohms,19.13 Ohms,8.35 Ohms\n",
            "8.70,35.46 Ohms,1.46 Ohms,1.68 Ohms\n",
            "4.29,22.22 Ohms,19.75 Ohms,10.11 Ohms\n"
          ],
          "name": "stdout"
        }
      ]
    },
    {
      "cell_type": "markdown",
      "metadata": {
        "id": "i5Wpt9guTXpl"
      },
      "source": [
        "## Adding an `if` statement"
      ]
    },
    {
      "cell_type": "code",
      "metadata": {
        "id": "vreuesYvTKl5",
        "colab": {
          "base_uri": "https://localhost:8080/"
        },
        "outputId": "013ea05a-1560-47ec-c461-b7cef3c28f16"
      },
      "source": [
        "for i in range(len(lines)):\n",
        "    line = lines[i]\n",
        "    \n",
        "    if line == \"header\":\n",
        "        print(\"'\" + line + \"' found!\")"
      ],
      "execution_count": 202,
      "outputs": [
        {
          "output_type": "stream",
          "text": [
            "'header' found!\n"
          ],
          "name": "stdout"
        }
      ]
    },
    {
      "cell_type": "markdown",
      "metadata": {
        "id": "aLwcfUp4__Gg"
      },
      "source": [
        "## `list` objects are iterable\n",
        "\n",
        "Iterable objects can be looped without using an index!"
      ]
    },
    {
      "cell_type": "code",
      "metadata": {
        "id": "zLycOgVnT8W2",
        "colab": {
          "base_uri": "https://localhost:8080/"
        },
        "outputId": "0445a682-d438-46f7-fe82-13b40f59ede8"
      },
      "source": [
        "iter(lines)"
      ],
      "execution_count": 203,
      "outputs": [
        {
          "output_type": "execute_result",
          "data": {
            "text/plain": [
              "<list_iterator at 0x7f0952bf4e90>"
            ]
          },
          "metadata": {
            "tags": []
          },
          "execution_count": 203
        }
      ]
    },
    {
      "cell_type": "code",
      "metadata": {
        "id": "eRZQSTEdT_Sp",
        "colab": {
          "base_uri": "https://localhost:8080/"
        },
        "outputId": "8bc0bc3f-7b38-4b20-e735-057dc9d634f6"
      },
      "source": [
        "for line in lines:     # this prototype is very common!\n",
        "    \n",
        "    if line == \"header\":\n",
        "        print(\"'\" + line + \"' found!\")"
      ],
      "execution_count": 204,
      "outputs": [
        {
          "output_type": "stream",
          "text": [
            "'header' found!\n"
          ],
          "name": "stdout"
        }
      ]
    },
    {
      "cell_type": "markdown",
      "metadata": {
        "id": "d2zd-PyyUZz9"
      },
      "source": [
        "## Exercise with `for` loops\n",
        "Reuse the `my_name` variable once again to number of characters for first and second name. Use a `for` loop this time."
      ]
    },
    {
      "cell_type": "markdown",
      "metadata": {
        "id": "OxW1wNnBW3jp"
      },
      "source": [
        "### Solution"
      ]
    },
    {
      "cell_type": "code",
      "metadata": {
        "id": "1zTpc514UZTP",
        "colab": {
          "base_uri": "https://localhost:8080/",
          "height": 0
        },
        "outputId": "eb2132d2-6180-42b2-e960-39253a9a1739"
      },
      "source": [
        "my_name"
      ],
      "execution_count": 205,
      "outputs": [
        {
          "output_type": "execute_result",
          "data": {
            "application/vnd.google.colaboratory.intrinsic+json": {
              "type": "string"
            },
            "text/plain": [
              "'Holger Steffens'"
            ]
          },
          "metadata": {
            "tags": []
          },
          "execution_count": 205
        }
      ]
    },
    {
      "cell_type": "code",
      "metadata": {
        "id": "KreCue7rWQiO",
        "colab": {
          "base_uri": "https://localhost:8080/"
        },
        "outputId": "ecf02668-ff9e-4fd0-fc29-7470f6c88f9e"
      },
      "source": [
        "for name in my_name.split():\n",
        "    print(name, len(name))"
      ],
      "execution_count": 206,
      "outputs": [
        {
          "output_type": "stream",
          "text": [
            "Holger 6\n",
            "Steffens 8\n"
          ],
          "name": "stdout"
        }
      ]
    },
    {
      "cell_type": "markdown",
      "metadata": {
        "id": "HlH8JtKcAiCb"
      },
      "source": [
        "## Search for multiple keys, simultaniously:"
      ]
    },
    {
      "cell_type": "code",
      "metadata": {
        "id": "AZF7nYmBU54p"
      },
      "source": [
        "keys = ['measurements', \"header\"]"
      ],
      "execution_count": 207,
      "outputs": []
    },
    {
      "cell_type": "markdown",
      "metadata": {
        "id": "At9UBgrA9u6t"
      },
      "source": [
        "Two `for` loops could be used to search a list of possible keys on every line of the logfile:"
      ]
    },
    {
      "cell_type": "code",
      "metadata": {
        "id": "5VM7vMmP9bU8",
        "colab": {
          "base_uri": "https://localhost:8080/"
        },
        "outputId": "dcca6fd6-e9fb-4b6e-8dce-0bb737f2f14a"
      },
      "source": [
        "for line in lines:\n",
        "    for key in keys:\n",
        "        if line == key:\n",
        "            print(\"'\" + line + \"' found!\")"
      ],
      "execution_count": 208,
      "outputs": [
        {
          "output_type": "stream",
          "text": [
            "'header' found!\n",
            "'measurements' found!\n"
          ],
          "name": "stdout"
        }
      ]
    },
    {
      "cell_type": "markdown",
      "metadata": {
        "id": "BWiaCw1--cy5"
      },
      "source": [
        "... that works!\n",
        "\n",
        "However, there is a more simple solution by using the `in` operator on a python container (such as a list):"
      ]
    },
    {
      "cell_type": "code",
      "metadata": {
        "id": "z2iqeNOhVA-S",
        "colab": {
          "base_uri": "https://localhost:8080/"
        },
        "outputId": "cde10c5f-fc7a-4d3d-fd1b-c4bf193a3ad0"
      },
      "source": [
        "\"0815\" in keys"
      ],
      "execution_count": 209,
      "outputs": [
        {
          "output_type": "execute_result",
          "data": {
            "text/plain": [
              "False"
            ]
          },
          "metadata": {
            "tags": []
          },
          "execution_count": 209
        }
      ]
    },
    {
      "cell_type": "code",
      "metadata": {
        "id": "abAh01oBVJ6j",
        "colab": {
          "base_uri": "https://localhost:8080/"
        },
        "outputId": "bf91d437-a7c8-4339-8347-eab5211fc01b"
      },
      "source": [
        "\"header\" in keys"
      ],
      "execution_count": 210,
      "outputs": [
        {
          "output_type": "execute_result",
          "data": {
            "text/plain": [
              "True"
            ]
          },
          "metadata": {
            "tags": []
          },
          "execution_count": 210
        }
      ]
    },
    {
      "cell_type": "code",
      "metadata": {
        "id": "f_Og10MyVPnz",
        "colab": {
          "base_uri": "https://localhost:8080/"
        },
        "outputId": "9ff8ab34-b1a3-4ea6-d137-c8f223c68f8d"
      },
      "source": [
        "for line in lines:\n",
        "    if line in keys:\n",
        "        print(\"'\" + line + \"' found!\")   "
      ],
      "execution_count": 211,
      "outputs": [
        {
          "output_type": "stream",
          "text": [
            "'header' found!\n",
            "'measurements' found!\n"
          ],
          "name": "stdout"
        }
      ]
    },
    {
      "cell_type": "markdown",
      "metadata": {
        "id": "RAowUwFjVh4y"
      },
      "source": [
        "## `enumerate` operator"
      ]
    },
    {
      "cell_type": "markdown",
      "metadata": {
        "id": "MoNenA8sVovq"
      },
      "source": [
        "if an index is required, use `enumerate`"
      ]
    },
    {
      "cell_type": "code",
      "metadata": {
        "id": "_CNBZdIgVxym",
        "colab": {
          "base_uri": "https://localhost:8080/"
        },
        "outputId": "9d1fa612-90b7-463f-cd30-77fd7780da61"
      },
      "source": [
        "bag_of_words = [\"Hello\", \"Team\", \"Python\"]\n",
        "\n",
        "for item in bag_of_words:\n",
        "    print(item)"
      ],
      "execution_count": 212,
      "outputs": [
        {
          "output_type": "stream",
          "text": [
            "Hello\n",
            "Team\n",
            "Python\n"
          ],
          "name": "stdout"
        }
      ]
    },
    {
      "cell_type": "code",
      "metadata": {
        "id": "B0_zqRURAEhm",
        "colab": {
          "base_uri": "https://localhost:8080/"
        },
        "outputId": "2e46a4a0-8123-40be-d76d-a4d275f095ac"
      },
      "source": [
        "for item in enumerate(bag_of_words):\n",
        "    print(item)"
      ],
      "execution_count": 213,
      "outputs": [
        {
          "output_type": "stream",
          "text": [
            "(0, 'Hello')\n",
            "(1, 'Team')\n",
            "(2, 'Python')\n"
          ],
          "name": "stdout"
        }
      ]
    },
    {
      "cell_type": "code",
      "metadata": {
        "id": "rfJG0kbUJZYk",
        "colab": {
          "base_uri": "https://localhost:8080/"
        },
        "outputId": "df4dfbc9-da32-4cab-9f81-05af17ce0cf5"
      },
      "source": [
        "item"
      ],
      "execution_count": 214,
      "outputs": [
        {
          "output_type": "execute_result",
          "data": {
            "text/plain": [
              "(2, 'Python')"
            ]
          },
          "metadata": {
            "tags": []
          },
          "execution_count": 214
        }
      ]
    },
    {
      "cell_type": "code",
      "metadata": {
        "id": "sz4JJEh5V3Py",
        "colab": {
          "base_uri": "https://localhost:8080/"
        },
        "outputId": "b5e2b1f8-e269-4130-b910-b653aed99b23"
      },
      "source": [
        "type(item)"
      ],
      "execution_count": 215,
      "outputs": [
        {
          "output_type": "execute_result",
          "data": {
            "text/plain": [
              "tuple"
            ]
          },
          "metadata": {
            "tags": []
          },
          "execution_count": 215
        }
      ]
    },
    {
      "cell_type": "markdown",
      "metadata": {
        "id": "u3b-YxDrB5AA"
      },
      "source": [
        "# `tuple` objects\n",
        "**Tuples** are basic Python containers and similar to **lists**"
      ]
    },
    {
      "cell_type": "code",
      "metadata": {
        "id": "9VlKUBaSAvWJ",
        "colab": {
          "base_uri": "https://localhost:8080/"
        },
        "outputId": "ec196ee2-c705-417b-f21b-3e4803f15e57"
      },
      "source": [
        "item"
      ],
      "execution_count": 216,
      "outputs": [
        {
          "output_type": "execute_result",
          "data": {
            "text/plain": [
              "(2, 'Python')"
            ]
          },
          "metadata": {
            "tags": []
          },
          "execution_count": 216
        }
      ]
    },
    {
      "cell_type": "code",
      "metadata": {
        "id": "1ZFJrJpiWAqZ",
        "colab": {
          "base_uri": "https://localhost:8080/",
          "height": 35
        },
        "outputId": "530a67be-cecd-45f9-853a-68b0063b9f27"
      },
      "source": [
        "i, value = item\n",
        "value"
      ],
      "execution_count": 217,
      "outputs": [
        {
          "output_type": "execute_result",
          "data": {
            "application/vnd.google.colaboratory.intrinsic+json": {
              "type": "string"
            },
            "text/plain": [
              "'Python'"
            ]
          },
          "metadata": {
            "tags": []
          },
          "execution_count": 217
        }
      ]
    },
    {
      "cell_type": "markdown",
      "metadata": {
        "id": "pA00zJ02AnrP"
      },
      "source": [
        "... this is called `unpacking`.\n",
        "\n",
        "Next, let's use `enumerate` and unpacking to search the lines for keys:"
      ]
    },
    {
      "cell_type": "code",
      "metadata": {
        "id": "p5Na0B1SWH8c",
        "colab": {
          "base_uri": "https://localhost:8080/"
        },
        "outputId": "d2b9fd9e-f4a5-4ba1-fbb8-3d9c290d4e56"
      },
      "source": [
        "for lineNo, line in enumerate(lines):\n",
        "    if line in keys:\n",
        "        print(\"'\" + line + \"' found in line no. \" + str(lineNo))   "
      ],
      "execution_count": 218,
      "outputs": [
        {
          "output_type": "stream",
          "text": [
            "'header' found in line no. 2\n",
            "'measurements' found in line no. 8\n"
          ],
          "name": "stdout"
        }
      ]
    },
    {
      "cell_type": "markdown",
      "metadata": {
        "id": "1ybRI1GHKJKP"
      },
      "source": [
        "Better using the `str.format()` method"
      ]
    },
    {
      "cell_type": "code",
      "metadata": {
        "id": "HBTj95CKWk94",
        "colab": {
          "base_uri": "https://localhost:8080/",
          "height": 35
        },
        "outputId": "f9b183a6-aba7-4837-9c13-15d6ed8a2414"
      },
      "source": [
        "\"'{}' fount in line no. {}\".format(\"world\", 1)"
      ],
      "execution_count": 219,
      "outputs": [
        {
          "output_type": "execute_result",
          "data": {
            "application/vnd.google.colaboratory.intrinsic+json": {
              "type": "string"
            },
            "text/plain": [
              "\"'world' fount in line no. 1\""
            ]
          },
          "metadata": {
            "tags": []
          },
          "execution_count": 219
        }
      ]
    },
    {
      "cell_type": "code",
      "metadata": {
        "id": "Gmd7EywcW7wk",
        "colab": {
          "base_uri": "https://localhost:8080/"
        },
        "outputId": "dabdb8fb-4adb-471c-b3d4-db3b2a72ee1f"
      },
      "source": [
        "for lineNo, line in enumerate(lines):\n",
        "    if line in keys:\n",
        "        print(\"'{}' fount in line no. {}\".format(line, lineNo))   "
      ],
      "execution_count": 220,
      "outputs": [
        {
          "output_type": "stream",
          "text": [
            "'header' fount in line no. 2\n",
            "'measurements' fount in line no. 8\n"
          ],
          "name": "stdout"
        }
      ]
    },
    {
      "cell_type": "markdown",
      "metadata": {
        "id": "w1LzDy92EfPk"
      },
      "source": [
        "## Exercise with `enumerate`\n",
        "Find the position of all vocals `aeiou` in the `my_name` variable."
      ]
    },
    {
      "cell_type": "markdown",
      "metadata": {
        "id": "Caqk3_q8LOIe"
      },
      "source": [
        "### Solution"
      ]
    },
    {
      "cell_type": "code",
      "metadata": {
        "id": "2o8dd3W7E2hZ",
        "colab": {
          "base_uri": "https://localhost:8080/",
          "height": 0
        },
        "outputId": "0dfe5f67-4011-427c-d155-45e5c7f86d3e"
      },
      "source": [
        "VOCALS = \"aeiou\"\n",
        "my_name"
      ],
      "execution_count": 221,
      "outputs": [
        {
          "output_type": "execute_result",
          "data": {
            "application/vnd.google.colaboratory.intrinsic+json": {
              "type": "string"
            },
            "text/plain": [
              "'Holger Steffens'"
            ]
          },
          "metadata": {
            "tags": []
          },
          "execution_count": 221
        }
      ]
    },
    {
      "cell_type": "code",
      "metadata": {
        "id": "6fkStJ1qJdAG",
        "colab": {
          "base_uri": "https://localhost:8080/"
        },
        "outputId": "ef1136a1-e23d-48ac-be9d-e541eecdafaa"
      },
      "source": [
        "for position, character in enumerate(my_name):\n",
        "    if character.lower() in VOCALS:\n",
        "        print(\"vocal '{}' found a position {}\".format(character, position))"
      ],
      "execution_count": 222,
      "outputs": [
        {
          "output_type": "stream",
          "text": [
            "vocal 'o' found a position 1\n",
            "vocal 'e' found a position 4\n",
            "vocal 'e' found a position 9\n",
            "vocal 'e' found a position 12\n"
          ],
          "name": "stdout"
        }
      ]
    },
    {
      "cell_type": "markdown",
      "metadata": {
        "id": "2sPjqImpX1mw"
      },
      "source": [
        "# `dict` objects\n",
        "`dcit` is a Python **dictionary**, holding `key`-->`value` pairs."
      ]
    },
    {
      "cell_type": "code",
      "metadata": {
        "id": "aQwpUGeiXwWO"
      },
      "source": [
        "idxs = dict()"
      ],
      "execution_count": 223,
      "outputs": []
    },
    {
      "cell_type": "code",
      "metadata": {
        "id": "1xAuSr2TYApw",
        "colab": {
          "base_uri": "https://localhost:8080/"
        },
        "outputId": "1743d3b0-819d-4596-caeb-82b0cf2082e1"
      },
      "source": [
        "type(idxs)"
      ],
      "execution_count": 224,
      "outputs": [
        {
          "output_type": "execute_result",
          "data": {
            "text/plain": [
              "dict"
            ]
          },
          "metadata": {
            "tags": []
          },
          "execution_count": 224
        }
      ]
    },
    {
      "cell_type": "code",
      "metadata": {
        "id": "hxvV9yCBXjjM"
      },
      "source": [
        "for lineNo, line in enumerate(lines):\n",
        "    if line in keys:\n",
        "        idxs[line] = lineNo "
      ],
      "execution_count": 225,
      "outputs": []
    },
    {
      "cell_type": "code",
      "metadata": {
        "id": "5o803dolYgpN",
        "colab": {
          "base_uri": "https://localhost:8080/"
        },
        "outputId": "7cccf537-44c3-456b-b718-f65cee19455e"
      },
      "source": [
        "idxs"
      ],
      "execution_count": 226,
      "outputs": [
        {
          "output_type": "execute_result",
          "data": {
            "text/plain": [
              "{'header': 2, 'measurements': 8}"
            ]
          },
          "metadata": {
            "tags": []
          },
          "execution_count": 226
        }
      ]
    },
    {
      "cell_type": "code",
      "metadata": {
        "id": "245fvpLvs_hq",
        "colab": {
          "base_uri": "https://localhost:8080/"
        },
        "outputId": "23291681-23f5-49c5-e395-30556aee071e"
      },
      "source": [
        "idxs[\"measurements\"]"
      ],
      "execution_count": 227,
      "outputs": [
        {
          "output_type": "execute_result",
          "data": {
            "text/plain": [
              "8"
            ]
          },
          "metadata": {
            "tags": []
          },
          "execution_count": 227
        }
      ]
    },
    {
      "cell_type": "markdown",
      "metadata": {
        "id": "UlB0VJzZLMF4"
      },
      "source": [
        "Adding more items to the dictionary"
      ]
    },
    {
      "cell_type": "code",
      "metadata": {
        "id": "3QzvwUoctIuq",
        "colab": {
          "base_uri": "https://localhost:8080/"
        },
        "outputId": "068d8ed8-8c77-4977-ed67-27ebb91ffd09"
      },
      "source": [
        "idxs[\"names\"] = idxs[\"measurements\"] + 1\n",
        "idxs"
      ],
      "execution_count": 228,
      "outputs": [
        {
          "output_type": "execute_result",
          "data": {
            "text/plain": [
              "{'header': 2, 'measurements': 8, 'names': 9}"
            ]
          },
          "metadata": {
            "tags": []
          },
          "execution_count": 228
        }
      ]
    },
    {
      "cell_type": "code",
      "metadata": {
        "id": "tZuVfPDxtWjT"
      },
      "source": [
        "idxs[\"params_begin\"] = idxs[\"header\"] + 1\n",
        "idxs[\"params_end\"] = idxs[\"measurements\"] - 1\n",
        "idxs[\"data\"] = idxs[\"names\"] + 1"
      ],
      "execution_count": 229,
      "outputs": []
    },
    {
      "cell_type": "code",
      "metadata": {
        "id": "AfNHwKeEuCWZ",
        "colab": {
          "base_uri": "https://localhost:8080/"
        },
        "outputId": "c29ad491-1a76-4f68-c46e-fc0c4191ef76"
      },
      "source": [
        "idxs"
      ],
      "execution_count": 230,
      "outputs": [
        {
          "output_type": "execute_result",
          "data": {
            "text/plain": [
              "{'data': 10,\n",
              " 'header': 2,\n",
              " 'measurements': 8,\n",
              " 'names': 9,\n",
              " 'params_begin': 3,\n",
              " 'params_end': 7}"
            ]
          },
          "metadata": {
            "tags": []
          },
          "execution_count": 230
        }
      ]
    },
    {
      "cell_type": "markdown",
      "metadata": {
        "id": "9g50nPeRMDcu"
      },
      "source": [
        "### `dict` methods\n",
        "\n"
      ]
    },
    {
      "cell_type": "code",
      "metadata": {
        "id": "Abf8nyFfML0P"
      },
      "source": [
        "def print_object_attributes(obj):\n",
        "    print(\"{} has the following (public) attributes:\".format(obj.__class__))\n",
        "    for attr in dir(obj):\n",
        "        if not attr.startswith(\"__\"):\n",
        "            doc = getattr(obj, attr).__doc__.split(\"\\n\")[0]\n",
        "            print(\".{:25}{}\".format(attr, doc))"
      ],
      "execution_count": 231,
      "outputs": []
    },
    {
      "cell_type": "code",
      "metadata": {
        "id": "cbZYBkjFP4xZ",
        "colab": {
          "base_uri": "https://localhost:8080/"
        },
        "outputId": "19d16266-016c-42f8-8bd1-840717e0a0bd"
      },
      "source": [
        "print_object_attributes(idxs)"
      ],
      "execution_count": 232,
      "outputs": [
        {
          "output_type": "stream",
          "text": [
            "<class 'dict'> has the following (public) attributes:\n",
            ".clear                    D.clear() -> None.  Remove all items from D.\n",
            ".copy                     D.copy() -> a shallow copy of D\n",
            ".fromkeys                 Create a new dictionary with keys from iterable and values set to value.\n",
            ".get                      Return the value for key if key is in the dictionary, else default.\n",
            ".items                    D.items() -> a set-like object providing a view on D's items\n",
            ".keys                     D.keys() -> a set-like object providing a view on D's keys\n",
            ".pop                      D.pop(k[,d]) -> v, remove specified key and return the corresponding value.\n",
            ".popitem                  D.popitem() -> (k, v), remove and return some (key, value) pair as a\n",
            ".setdefault               Insert key with a value of default if key is not in the dictionary.\n",
            ".update                   D.update([E, ]**F) -> None.  Update D from dict/iterable E and F.\n",
            ".values                   D.values() -> an object providing a view on D's values\n"
          ],
          "name": "stdout"
        }
      ]
    },
    {
      "cell_type": "code",
      "metadata": {
        "id": "3MpPSYJjuD6h",
        "colab": {
          "base_uri": "https://localhost:8080/"
        },
        "outputId": "e0a98f5e-d510-4f4a-98e9-e37099d2fa5c"
      },
      "source": [
        "idxs.keys()"
      ],
      "execution_count": 233,
      "outputs": [
        {
          "output_type": "execute_result",
          "data": {
            "text/plain": [
              "dict_keys(['header', 'measurements', 'names', 'params_begin', 'params_end', 'data'])"
            ]
          },
          "metadata": {
            "tags": []
          },
          "execution_count": 233
        }
      ]
    },
    {
      "cell_type": "code",
      "metadata": {
        "id": "EOuJULK1ucE_",
        "colab": {
          "base_uri": "https://localhost:8080/"
        },
        "outputId": "7fa9a0da-1341-4054-9bf6-61aa838fe0da"
      },
      "source": [
        "idxs.values()"
      ],
      "execution_count": 234,
      "outputs": [
        {
          "output_type": "execute_result",
          "data": {
            "text/plain": [
              "dict_values([2, 8, 9, 3, 7, 10])"
            ]
          },
          "metadata": {
            "tags": []
          },
          "execution_count": 234
        }
      ]
    },
    {
      "cell_type": "code",
      "metadata": {
        "id": "A2ppWaekuf65",
        "colab": {
          "base_uri": "https://localhost:8080/"
        },
        "outputId": "7d0035a4-ea3d-411e-9434-51812824e227"
      },
      "source": [
        "idxs.items()"
      ],
      "execution_count": 235,
      "outputs": [
        {
          "output_type": "execute_result",
          "data": {
            "text/plain": [
              "dict_items([('header', 2), ('measurements', 8), ('names', 9), ('params_begin', 3), ('params_end', 7), ('data', 10)])"
            ]
          },
          "metadata": {
            "tags": []
          },
          "execution_count": 235
        }
      ]
    },
    {
      "cell_type": "code",
      "metadata": {
        "id": "ubghcG37uh06",
        "colab": {
          "base_uri": "https://localhost:8080/"
        },
        "outputId": "c3d8fe5a-fbc4-4bc1-8329-163c7ce93817"
      },
      "source": [
        "item = next(iter(idxs.items()))\n",
        "print(item, type(item))"
      ],
      "execution_count": 236,
      "outputs": [
        {
          "output_type": "stream",
          "text": [
            "('header', 2) <class 'tuple'>\n"
          ],
          "name": "stdout"
        }
      ]
    },
    {
      "cell_type": "code",
      "metadata": {
        "id": "qX3QR3Qtvnbd",
        "colab": {
          "base_uri": "https://localhost:8080/"
        },
        "outputId": "1c6d20f6-b011-4f35-a2cb-68c8eebf75be"
      },
      "source": [
        "for x in idxs.keys():\n",
        "    print(type(x), x)"
      ],
      "execution_count": 237,
      "outputs": [
        {
          "output_type": "stream",
          "text": [
            "<class 'str'> header\n",
            "<class 'str'> measurements\n",
            "<class 'str'> names\n",
            "<class 'str'> params_begin\n",
            "<class 'str'> params_end\n",
            "<class 'str'> data\n"
          ],
          "name": "stdout"
        }
      ]
    },
    {
      "cell_type": "code",
      "metadata": {
        "id": "UoeZBQqovnMV",
        "colab": {
          "base_uri": "https://localhost:8080/"
        },
        "outputId": "08171678-2104-4350-c3d4-c813b4d14e64"
      },
      "source": [
        "for x in idxs.values():\n",
        "    print(type(x), x)"
      ],
      "execution_count": 238,
      "outputs": [
        {
          "output_type": "stream",
          "text": [
            "<class 'int'> 2\n",
            "<class 'int'> 8\n",
            "<class 'int'> 9\n",
            "<class 'int'> 3\n",
            "<class 'int'> 7\n",
            "<class 'int'> 10\n"
          ],
          "name": "stdout"
        }
      ]
    },
    {
      "cell_type": "code",
      "metadata": {
        "id": "PogfuJ2OuuP4",
        "colab": {
          "base_uri": "https://localhost:8080/"
        },
        "outputId": "a30cd273-ff93-4e39-f8b9-9af6ff070107"
      },
      "source": [
        "for x in idxs.items():\n",
        "    print(type(x), x)"
      ],
      "execution_count": 239,
      "outputs": [
        {
          "output_type": "stream",
          "text": [
            "<class 'tuple'> ('header', 2)\n",
            "<class 'tuple'> ('measurements', 8)\n",
            "<class 'tuple'> ('names', 9)\n",
            "<class 'tuple'> ('params_begin', 3)\n",
            "<class 'tuple'> ('params_end', 7)\n",
            "<class 'tuple'> ('data', 10)\n"
          ],
          "name": "stdout"
        }
      ]
    },
    {
      "cell_type": "markdown",
      "metadata": {
        "id": "6DtLWLA-vxET"
      },
      "source": [
        "The common way to loop over `dict` `items` is by **unpacking**:"
      ]
    },
    {
      "cell_type": "code",
      "metadata": {
        "id": "iFQyk2QMvSeH",
        "colab": {
          "base_uri": "https://localhost:8080/"
        },
        "outputId": "37350ff2-dfb1-4b76-8a49-9878136ac02d"
      },
      "source": [
        "for key, value in idxs.items():\n",
        "    print(\"key: {:13} value: {}\".format(key, value))"
      ],
      "execution_count": 240,
      "outputs": [
        {
          "output_type": "stream",
          "text": [
            "key: header        value: 2\n",
            "key: measurements  value: 8\n",
            "key: names         value: 9\n",
            "key: params_begin  value: 3\n",
            "key: params_end    value: 7\n",
            "key: data          value: 10\n"
          ],
          "name": "stdout"
        }
      ]
    },
    {
      "cell_type": "markdown",
      "metadata": {
        "id": "jeroIc1_SkTf"
      },
      "source": [
        "## Exercise with `dict`\n",
        "Count the characters within the `my_name` variable. Create a `characters` dictionary with\n",
        "- each unique character as `key`, and\n",
        "- the count as `value`.\n",
        "\n",
        "Example:\n",
        "`\"Greg\"` --> `{'g': 2, 'r': 1, 'e': 1}`"
      ]
    },
    {
      "cell_type": "markdown",
      "metadata": {
        "id": "WKiTdolsUm-I"
      },
      "source": [
        "### Solution"
      ]
    },
    {
      "cell_type": "code",
      "metadata": {
        "id": "-ZwXJFF0SjaN",
        "colab": {
          "base_uri": "https://localhost:8080/"
        },
        "outputId": "f9d3057b-4817-4f20-dbb8-8e235814b7e1"
      },
      "source": [
        "characters = dict()\n",
        "for c in my_name.lower():\n",
        "    if c in characters.keys():\n",
        "        characters[c] += 1\n",
        "    else:\n",
        "        characters[c] = 1\n",
        "\n",
        "characters"
      ],
      "execution_count": 241,
      "outputs": [
        {
          "output_type": "execute_result",
          "data": {
            "text/plain": [
              "{' ': 1,\n",
              " 'e': 3,\n",
              " 'f': 2,\n",
              " 'g': 1,\n",
              " 'h': 1,\n",
              " 'l': 1,\n",
              " 'n': 1,\n",
              " 'o': 1,\n",
              " 'r': 1,\n",
              " 's': 2,\n",
              " 't': 1}"
            ]
          },
          "metadata": {
            "tags": []
          },
          "execution_count": 241
        }
      ]
    },
    {
      "cell_type": "markdown",
      "metadata": {
        "id": "Q-JmY8k2DYFu"
      },
      "source": [
        "# Table of Python containers\n",
        "|Python container|list|tuple|set|dictionary|\n",
        "|---|---|---|---|---|\n",
        "|creation|`li = [1, 1, \"Hi!\"]`|`tup = (1, 1, \"Hi!\")`|`se = set([1, 1, \"Hi!\"])`|`d = {\"Musk\":\"Elon\", \"Bezos\":\"Jeff\"}`|\n",
        "|print return|`[1, 1, 'Hi!']`|`(1, 1, 'Hi!')`|`{1, 'Hi!'}`|`{'Musk': 'Elon', 'Bezos': 'Jeff'}`|\n",
        "|mutablility|mutable|**immutable**|mutable|mutable|\n",
        "|slicing|yes, `li[0]` --> `1`|yes, `tup[0]` --> `1`|no slicing|no slicing|\n",
        "|primary usage|basic container with<br>`append()` method|use if data doesn't<br>change|- get unique values<br>- set operations: `union`, `diff`,|lookup table|\n",
        "\n"
      ]
    },
    {
      "cell_type": "markdown",
      "metadata": {
        "id": "0E4yUg70WYXj"
      },
      "source": [
        "# `set` objects\n",
        "\n",
        "A Python `set` is a mutable container (it can grow like a `list`) that contains **unique values**.\n",
        "\n",
        "Therefore, one typical use-case is getting the unique values of another container: "
      ]
    },
    {
      "cell_type": "code",
      "metadata": {
        "id": "5eI-BbcST_BA",
        "colab": {
          "base_uri": "https://localhost:8080/"
        },
        "outputId": "d69400da-27b6-487b-e89b-aeb8bce7e552"
      },
      "source": [
        "set(my_name.lower())"
      ],
      "execution_count": 242,
      "outputs": [
        {
          "output_type": "execute_result",
          "data": {
            "text/plain": [
              "{' ', 'e', 'f', 'g', 'h', 'l', 'n', 'o', 'r', 's', 't'}"
            ]
          },
          "metadata": {
            "tags": []
          },
          "execution_count": 242
        }
      ]
    },
    {
      "cell_type": "markdown",
      "metadata": {
        "id": "lnm0jGTxYKHp"
      },
      "source": [
        "`set` objects provide **set operations** as methods:"
      ]
    },
    {
      "cell_type": "code",
      "metadata": {
        "id": "kUrJivH0UUmD",
        "colab": {
          "base_uri": "https://localhost:8080/"
        },
        "outputId": "bdd2ee2d-faea-4844-a6e0-1a7090214038"
      },
      "source": [
        "print_object_attributes(set(tup))"
      ],
      "execution_count": 243,
      "outputs": [
        {
          "output_type": "stream",
          "text": [
            "<class 'set'> has the following (public) attributes:\n",
            ".add                      Add an element to a set.\n",
            ".clear                    Remove all elements from this set.\n",
            ".copy                     Return a shallow copy of a set.\n",
            ".difference               Return the difference of two or more sets as a new set.\n",
            ".difference_update        Remove all elements of another set from this set.\n",
            ".discard                  Remove an element from a set if it is a member.\n",
            ".intersection             Return the intersection of two sets as a new set.\n",
            ".intersection_update      Update a set with the intersection of itself and another.\n",
            ".isdisjoint               Return True if two sets have a null intersection.\n",
            ".issubset                 Report whether another set contains this set.\n",
            ".issuperset               Report whether this set contains another set.\n",
            ".pop                      Remove and return an arbitrary set element.\n",
            ".remove                   Remove an element from a set; it must be a member.\n",
            ".symmetric_difference     Return the symmetric difference of two sets as a new set.\n",
            ".symmetric_difference_updateUpdate a set with the symmetric difference of itself and another.\n",
            ".union                    Return the union of sets as a new set.\n",
            ".update                   Update a set with the union of itself and others.\n"
          ],
          "name": "stdout"
        }
      ]
    },
    {
      "cell_type": "markdown",
      "metadata": {
        "id": "THUEqQyrofou"
      },
      "source": [
        "## `list` and `set` excercise\n",
        "\n",
        "Create a list `c` that contains only the elements that are common between the lists `a` and `b` without their duplicates. "
      ]
    },
    {
      "cell_type": "code",
      "metadata": {
        "id": "pgLpypO7pDLW"
      },
      "source": [
        "a = [1, 1, 2, 3, 5, 8, 13, 21, 34, 55, 89]\n",
        "b = [1, 2, 3, 4, 5, 5, 6, 7, 8, 9, 10, 11, 13]"
      ],
      "execution_count": 244,
      "outputs": []
    },
    {
      "cell_type": "markdown",
      "metadata": {
        "id": "LdCu_BJ7omYL"
      },
      "source": [
        "Solve the exercise with two different solutions:\n",
        "1. use lists\n",
        "2. use sets\n"
      ]
    },
    {
      "cell_type": "markdown",
      "metadata": {
        "id": "45_v427-pqem"
      },
      "source": [
        "### Half a solution containing *dupes*"
      ]
    },
    {
      "cell_type": "code",
      "metadata": {
        "colab": {
          "base_uri": "https://localhost:8080/"
        },
        "id": "9SBxUkPCpQZL",
        "outputId": "eba858cb-0a6f-4a94-dad6-1bea520cbd2b"
      },
      "source": [
        "c = []\n",
        "for item in a:\n",
        "    if item in b:\n",
        "        c.append(item) \n",
        "c"
      ],
      "execution_count": 245,
      "outputs": [
        {
          "output_type": "execute_result",
          "data": {
            "text/plain": [
              "[1, 1, 2, 3, 5, 8, 13]"
            ]
          },
          "metadata": {
            "tags": []
          },
          "execution_count": 245
        }
      ]
    },
    {
      "cell_type": "markdown",
      "metadata": {
        "id": "aSBYU2L8qBHm"
      },
      "source": [
        "### Solution using lists"
      ]
    },
    {
      "cell_type": "code",
      "metadata": {
        "colab": {
          "base_uri": "https://localhost:8080/"
        },
        "id": "Vk2t1V4qqBHn",
        "outputId": "2497a4db-c3a4-4eb9-8a23-e4b7359c777d"
      },
      "source": [
        "c = []\n",
        "for item in a:\n",
        "    if item in b:\n",
        "        if item not in c:\n",
        "            c.append(item) \n",
        "c"
      ],
      "execution_count": 246,
      "outputs": [
        {
          "output_type": "execute_result",
          "data": {
            "text/plain": [
              "[1, 2, 3, 5, 8, 13]"
            ]
          },
          "metadata": {
            "tags": []
          },
          "execution_count": 246
        }
      ]
    },
    {
      "cell_type": "markdown",
      "metadata": {
        "id": "2HcJSRR1qpiZ"
      },
      "source": [
        "### Solution using sets"
      ]
    },
    {
      "cell_type": "code",
      "metadata": {
        "colab": {
          "base_uri": "https://localhost:8080/"
        },
        "id": "tdvT-BYUqpil",
        "outputId": "8b921cf6-4959-4562-a134-5d0a750322b0"
      },
      "source": [
        "c = list(set(a).intersection(set(b)))\n",
        "c"
      ],
      "execution_count": 247,
      "outputs": [
        {
          "output_type": "execute_result",
          "data": {
            "text/plain": [
              "[1, 2, 3, 5, 8, 13]"
            ]
          },
          "metadata": {
            "tags": []
          },
          "execution_count": 247
        }
      ]
    },
    {
      "cell_type": "markdown",
      "metadata": {
        "id": "MGbfJcp8wR_x"
      },
      "source": [
        "# Return to the 'Logfile challenge'"
      ]
    },
    {
      "cell_type": "code",
      "metadata": {
        "colab": {
          "base_uri": "https://localhost:8080/"
        },
        "id": "ybXGS3-4ezux",
        "outputId": "75f37516-b1a5-4483-c30e-b1668c7d35ad"
      },
      "source": [
        "print(s)"
      ],
      "execution_count": 248,
      "outputs": [
        {
          "output_type": "stream",
          "text": [
            "MLPy2020 logfile challenge\n",
            "\n",
            "header\n",
            "measurement date,2020-05-06\n",
            "measurement time,08:00:00\n",
            "calibration factor sig0,0.55\n",
            "calibration factor sig2,1.88\n",
            "\n",
            "measurements\n",
            "x,sig0,sig1,sig2\n",
            "5.17,6.40 Ohms,16.05 Ohms,10.61 Ohms\n",
            "9.47,34.21 Ohms,5.95 Ohms,293 mOhms\n",
            "7.65,21.11 Ohms,366 mOhms,4.80 Ohms\n",
            "2.82,36.06 Ohms,16.03 Ohms,6.39 Ohms\n",
            "2.21,30.50 Ohms,11.65 Ohms,4.36 Ohms\n",
            "6.86,6.92 Ohms,3.73 Ohms,7.39 Ohms\n",
            "1.67,21.43 Ohms,7.45 Ohms,2.67 Ohms\n",
            "3.92,28.49 Ohms,19.98 Ohms,9.47 Ohms\n",
            "6.18,324 mOhms,8.59 Ohms,9.24 Ohms\n",
            "4.12,25.24 Ohms,19.96 Ohms,9.84 Ohms\n",
            "0.02,6 mOhms,2 mOhms,1 mOhms\n",
            "8.84,36.11 Ohms,2.10 Ohms,1.35 Ohms\n",
            "8.85,36.14 Ohms,2.14 Ohms,1.33 Ohms\n",
            "3.00,36.36 Ohms,17.09 Ohms,6.98 Ohms\n",
            "5.90,108 mOhms,10.82 Ohms,9.82 Ohms\n",
            "9.78,30.57 Ohms,8.31 Ohms,49 mOhms\n",
            "8.45,33.44 Ohms,621 mOhms,2.33 Ohms\n",
            "0.65,4.06 Ohms,1.28 Ohms,438 mOhms\n",
            "2.95,36.34 Ohms,16.77 Ohms,6.79 Ohms\n",
            "2.88,36.22 Ohms,16.37 Ohms,6.57 Ohms\n",
            "8.22,30.69 Ohms,155 mOhms,2.98 Ohms\n",
            "6.26,679 mOhms,7.96 Ohms,9.05 Ohms\n",
            "1.10,10.87 Ohms,3.53 Ohms,1.23 Ohms\n",
            "0.01,0 mOhms,0 mOhms,0 mOhms\n",
            "9.42,34.62 Ohms,5.61 Ohms,347 mOhms\n",
            "1.42,16.57 Ohms,5.57 Ohms,1.97 Ohms\n",
            "4.22,23.51 Ohms,19.86 Ohms,10.01 Ohms\n",
            "3.46,34.25 Ohms,19.13 Ohms,8.35 Ohms\n",
            "8.70,35.46 Ohms,1.46 Ohms,1.68 Ohms\n",
            "4.29,22.22 Ohms,19.75 Ohms,10.11 Ohms\n"
          ],
          "name": "stdout"
        }
      ]
    },
    {
      "cell_type": "code",
      "metadata": {
        "id": "B70_ARG3wOI2",
        "colab": {
          "base_uri": "https://localhost:8080/"
        },
        "outputId": "0e5702cc-084a-4966-d522-9d8e2bad7b61"
      },
      "source": [
        "print(\"{} container with {} items:\\n\".format(type(lines), len(lines)))\n",
        "lines"
      ],
      "execution_count": 253,
      "outputs": [
        {
          "output_type": "stream",
          "text": [
            "<class 'list'> container with 40 items:\n",
            "\n"
          ],
          "name": "stdout"
        },
        {
          "output_type": "execute_result",
          "data": {
            "text/plain": [
              "['MLPy2020 logfile challenge',\n",
              " '',\n",
              " 'header',\n",
              " 'measurement date,2020-05-06',\n",
              " 'measurement time,08:00:00',\n",
              " 'calibration factor sig0,0.55',\n",
              " 'calibration factor sig2,1.88',\n",
              " '',\n",
              " 'measurements',\n",
              " 'x,sig0,sig1,sig2',\n",
              " '5.17,6.40 Ohms,16.05 Ohms,10.61 Ohms',\n",
              " '9.47,34.21 Ohms,5.95 Ohms,293 mOhms',\n",
              " '7.65,21.11 Ohms,366 mOhms,4.80 Ohms',\n",
              " '2.82,36.06 Ohms,16.03 Ohms,6.39 Ohms',\n",
              " '2.21,30.50 Ohms,11.65 Ohms,4.36 Ohms',\n",
              " '6.86,6.92 Ohms,3.73 Ohms,7.39 Ohms',\n",
              " '1.67,21.43 Ohms,7.45 Ohms,2.67 Ohms',\n",
              " '3.92,28.49 Ohms,19.98 Ohms,9.47 Ohms',\n",
              " '6.18,324 mOhms,8.59 Ohms,9.24 Ohms',\n",
              " '4.12,25.24 Ohms,19.96 Ohms,9.84 Ohms',\n",
              " '0.02,6 mOhms,2 mOhms,1 mOhms',\n",
              " '8.84,36.11 Ohms,2.10 Ohms,1.35 Ohms',\n",
              " '8.85,36.14 Ohms,2.14 Ohms,1.33 Ohms',\n",
              " '3.00,36.36 Ohms,17.09 Ohms,6.98 Ohms',\n",
              " '5.90,108 mOhms,10.82 Ohms,9.82 Ohms',\n",
              " '9.78,30.57 Ohms,8.31 Ohms,49 mOhms',\n",
              " '8.45,33.44 Ohms,621 mOhms,2.33 Ohms',\n",
              " '0.65,4.06 Ohms,1.28 Ohms,438 mOhms',\n",
              " '2.95,36.34 Ohms,16.77 Ohms,6.79 Ohms',\n",
              " '2.88,36.22 Ohms,16.37 Ohms,6.57 Ohms',\n",
              " '8.22,30.69 Ohms,155 mOhms,2.98 Ohms',\n",
              " '6.26,679 mOhms,7.96 Ohms,9.05 Ohms',\n",
              " '1.10,10.87 Ohms,3.53 Ohms,1.23 Ohms',\n",
              " '0.01,0 mOhms,0 mOhms,0 mOhms',\n",
              " '9.42,34.62 Ohms,5.61 Ohms,347 mOhms',\n",
              " '1.42,16.57 Ohms,5.57 Ohms,1.97 Ohms',\n",
              " '4.22,23.51 Ohms,19.86 Ohms,10.01 Ohms',\n",
              " '3.46,34.25 Ohms,19.13 Ohms,8.35 Ohms',\n",
              " '8.70,35.46 Ohms,1.46 Ohms,1.68 Ohms',\n",
              " '4.29,22.22 Ohms,19.75 Ohms,10.11 Ohms']"
            ]
          },
          "metadata": {
            "tags": []
          },
          "execution_count": 253
        }
      ]
    },
    {
      "cell_type": "code",
      "metadata": {
        "id": "P0ljC3WgwYn-",
        "colab": {
          "base_uri": "https://localhost:8080/"
        },
        "outputId": "55c7ec13-2279-4f32-e12f-85d84acc65cd"
      },
      "source": [
        "print(\"{} container with {} items:\\n\".format(type(idxs), len(idxs)))\n",
        "\n",
        "idxs"
      ],
      "execution_count": 254,
      "outputs": [
        {
          "output_type": "stream",
          "text": [
            "<class 'dict'> container with 6 items:\n",
            "\n"
          ],
          "name": "stdout"
        },
        {
          "output_type": "execute_result",
          "data": {
            "text/plain": [
              "{'data': 10,\n",
              " 'header': 2,\n",
              " 'measurements': 8,\n",
              " 'names': 9,\n",
              " 'params_begin': 3,\n",
              " 'params_end': 7}"
            ]
          },
          "metadata": {
            "tags": []
          },
          "execution_count": 254
        }
      ]
    },
    {
      "cell_type": "markdown",
      "metadata": {
        "id": "DvZbf2gNwdKP"
      },
      "source": [
        "Now we can **slice** the `lines` to more handy variables:"
      ]
    },
    {
      "cell_type": "code",
      "metadata": {
        "id": "PZl-SmxywZ6H",
        "colab": {
          "base_uri": "https://localhost:8080/"
        },
        "outputId": "794bab24-a7a4-4f9a-9290-6047a784e7a1"
      },
      "source": [
        "params_lines = lines[idxs[\"params_begin\"] : idxs[\"params_end\"]]\n",
        "params_lines"
      ],
      "execution_count": 255,
      "outputs": [
        {
          "output_type": "execute_result",
          "data": {
            "text/plain": [
              "['measurement date,2020-05-06',\n",
              " 'measurement time,08:00:00',\n",
              " 'calibration factor sig0,0.55',\n",
              " 'calibration factor sig2,1.88']"
            ]
          },
          "metadata": {
            "tags": []
          },
          "execution_count": 255
        }
      ]
    },
    {
      "cell_type": "code",
      "metadata": {
        "id": "D6GTgeE8xMuX",
        "colab": {
          "base_uri": "https://localhost:8080/"
        },
        "outputId": "6fdd8c13-45ad-4aa6-cfdc-b327d115d7ab"
      },
      "source": [
        "data_lines = lines[idxs[\"data\"] :]\n",
        "data_lines"
      ],
      "execution_count": 256,
      "outputs": [
        {
          "output_type": "execute_result",
          "data": {
            "text/plain": [
              "['5.17,6.40 Ohms,16.05 Ohms,10.61 Ohms',\n",
              " '9.47,34.21 Ohms,5.95 Ohms,293 mOhms',\n",
              " '7.65,21.11 Ohms,366 mOhms,4.80 Ohms',\n",
              " '2.82,36.06 Ohms,16.03 Ohms,6.39 Ohms',\n",
              " '2.21,30.50 Ohms,11.65 Ohms,4.36 Ohms',\n",
              " '6.86,6.92 Ohms,3.73 Ohms,7.39 Ohms',\n",
              " '1.67,21.43 Ohms,7.45 Ohms,2.67 Ohms',\n",
              " '3.92,28.49 Ohms,19.98 Ohms,9.47 Ohms',\n",
              " '6.18,324 mOhms,8.59 Ohms,9.24 Ohms',\n",
              " '4.12,25.24 Ohms,19.96 Ohms,9.84 Ohms',\n",
              " '0.02,6 mOhms,2 mOhms,1 mOhms',\n",
              " '8.84,36.11 Ohms,2.10 Ohms,1.35 Ohms',\n",
              " '8.85,36.14 Ohms,2.14 Ohms,1.33 Ohms',\n",
              " '3.00,36.36 Ohms,17.09 Ohms,6.98 Ohms',\n",
              " '5.90,108 mOhms,10.82 Ohms,9.82 Ohms',\n",
              " '9.78,30.57 Ohms,8.31 Ohms,49 mOhms',\n",
              " '8.45,33.44 Ohms,621 mOhms,2.33 Ohms',\n",
              " '0.65,4.06 Ohms,1.28 Ohms,438 mOhms',\n",
              " '2.95,36.34 Ohms,16.77 Ohms,6.79 Ohms',\n",
              " '2.88,36.22 Ohms,16.37 Ohms,6.57 Ohms',\n",
              " '8.22,30.69 Ohms,155 mOhms,2.98 Ohms',\n",
              " '6.26,679 mOhms,7.96 Ohms,9.05 Ohms',\n",
              " '1.10,10.87 Ohms,3.53 Ohms,1.23 Ohms',\n",
              " '0.01,0 mOhms,0 mOhms,0 mOhms',\n",
              " '9.42,34.62 Ohms,5.61 Ohms,347 mOhms',\n",
              " '1.42,16.57 Ohms,5.57 Ohms,1.97 Ohms',\n",
              " '4.22,23.51 Ohms,19.86 Ohms,10.01 Ohms',\n",
              " '3.46,34.25 Ohms,19.13 Ohms,8.35 Ohms',\n",
              " '8.70,35.46 Ohms,1.46 Ohms,1.68 Ohms',\n",
              " '4.29,22.22 Ohms,19.75 Ohms,10.11 Ohms']"
            ]
          },
          "metadata": {
            "tags": []
          },
          "execution_count": 256
        }
      ]
    },
    {
      "cell_type": "markdown",
      "metadata": {
        "id": "XQggzXG9xjkm"
      },
      "source": [
        "Finally, let's slice the `names` line:"
      ]
    },
    {
      "cell_type": "code",
      "metadata": {
        "id": "jqO0aTrQwo08",
        "colab": {
          "base_uri": "https://localhost:8080/",
          "height": 35
        },
        "outputId": "4a0ca8f1-a90b-406b-80a7-09e29095c66f"
      },
      "source": [
        "lines[idxs[\"names\"]]"
      ],
      "execution_count": 257,
      "outputs": [
        {
          "output_type": "execute_result",
          "data": {
            "application/vnd.google.colaboratory.intrinsic+json": {
              "type": "string"
            },
            "text/plain": [
              "'x,sig0,sig1,sig2'"
            ]
          },
          "metadata": {
            "tags": []
          },
          "execution_count": 257
        }
      ]
    },
    {
      "cell_type": "markdown",
      "metadata": {
        "id": "8zNlT9JYxswQ"
      },
      "source": [
        "We can create a `names` `list` directy by splitting on `,`"
      ]
    },
    {
      "cell_type": "code",
      "metadata": {
        "id": "CLdoJ06nxEkZ",
        "colab": {
          "base_uri": "https://localhost:8080/"
        },
        "outputId": "84726ac0-9dd7-4b5a-e619-a3713c0c0601"
      },
      "source": [
        "names = lines[idxs[\"names\"]].split(\",\")\n",
        "names"
      ],
      "execution_count": 258,
      "outputs": [
        {
          "output_type": "execute_result",
          "data": {
            "text/plain": [
              "['x', 'sig0', 'sig1', 'sig2']"
            ]
          },
          "metadata": {
            "tags": []
          },
          "execution_count": 258
        }
      ]
    },
    {
      "cell_type": "code",
      "metadata": {
        "id": "GrthEryKx7Ye",
        "colab": {
          "base_uri": "https://localhost:8080/"
        },
        "outputId": "40a9d102-0b64-4fa3-c79f-a64cd936d640"
      },
      "source": [
        "params_lines"
      ],
      "execution_count": 259,
      "outputs": [
        {
          "output_type": "execute_result",
          "data": {
            "text/plain": [
              "['measurement date,2020-05-06',\n",
              " 'measurement time,08:00:00',\n",
              " 'calibration factor sig0,0.55',\n",
              " 'calibration factor sig2,1.88']"
            ]
          },
          "metadata": {
            "tags": []
          },
          "execution_count": 259
        }
      ]
    },
    {
      "cell_type": "markdown",
      "metadata": {
        "id": "GAYlkbEwyJLI"
      },
      "source": [
        "Storing the parameters is another perfect application for a dictionary"
      ]
    },
    {
      "cell_type": "code",
      "metadata": {
        "id": "wavV8ncEyGks",
        "colab": {
          "base_uri": "https://localhost:8080/"
        },
        "outputId": "ab4236ee-ed11-473a-b0c2-286d84b34b5a"
      },
      "source": [
        "params = dict()\n",
        "for line in params_lines:\n",
        "    key, value = line.split(\",\")\n",
        "    params[key] = value\n",
        "params"
      ],
      "execution_count": 260,
      "outputs": [
        {
          "output_type": "execute_result",
          "data": {
            "text/plain": [
              "{'calibration factor sig0': '0.55',\n",
              " 'calibration factor sig2': '1.88',\n",
              " 'measurement date': '2020-05-06',\n",
              " 'measurement time': '08:00:00'}"
            ]
          },
          "metadata": {
            "tags": []
          },
          "execution_count": 260
        }
      ]
    },
    {
      "cell_type": "markdown",
      "metadata": {
        "id": "JAzxRLq_3jrn"
      },
      "source": [
        "perfect!\n",
        "\n",
        "... see how readable the code get's in the following:"
      ]
    },
    {
      "cell_type": "code",
      "metadata": {
        "id": "VBbl1BR8Ny-V",
        "colab": {
          "base_uri": "https://localhost:8080/",
          "height": 35
        },
        "outputId": "d6600cea-c828-47e4-ec31-8bbbba9c196e"
      },
      "source": [
        "params[\"measurement date\"]"
      ],
      "execution_count": 261,
      "outputs": [
        {
          "output_type": "execute_result",
          "data": {
            "application/vnd.google.colaboratory.intrinsic+json": {
              "type": "string"
            },
            "text/plain": [
              "'2020-05-06'"
            ]
          },
          "metadata": {
            "tags": []
          },
          "execution_count": 261
        }
      ]
    },
    {
      "cell_type": "markdown",
      "metadata": {
        "id": "a8XkLilGN9bn"
      },
      "source": [
        "There is yet one imperfection of the `params` dictionary: The `type` of all `values` is `str`. \n",
        "\n",
        "We will work on that later, after parsing the data."
      ]
    },
    {
      "cell_type": "markdown",
      "metadata": {
        "id": "d41l9Vzji3FD"
      },
      "source": [
        "## Parsing the data"
      ]
    },
    {
      "cell_type": "code",
      "metadata": {
        "id": "450eZoU-1Ds8"
      },
      "source": [
        "data_lines"
      ],
      "execution_count": null,
      "outputs": []
    },
    {
      "cell_type": "code",
      "metadata": {
        "id": "qSEiSuet4Dmx"
      },
      "source": [
        "names"
      ],
      "execution_count": null,
      "outputs": []
    },
    {
      "cell_type": "code",
      "metadata": {
        "id": "GNl6Ue8z4LRE"
      },
      "source": [
        "data_lines[0].split(\",\")"
      ],
      "execution_count": null,
      "outputs": []
    },
    {
      "cell_type": "markdown",
      "metadata": {
        "id": "ebTUEROM6RD2"
      },
      "source": [
        "## Functions"
      ]
    },
    {
      "cell_type": "markdown",
      "metadata": {
        "id": "mBDAw97P6V8H"
      },
      "source": [
        "A function is needs that:\n",
        "- takes a `str` input\n",
        "- converts the `str` to a `float`\n",
        "- removes `Ohms` text\n",
        "- removes `mOhms` text and divides the value by 1000\n",
        "\n",
        "Before programming the actual functionality, it is good practivce to write the test bench first:\n"
      ]
    },
    {
      "cell_type": "code",
      "metadata": {
        "id": "hUHIKsks7Mxg"
      },
      "source": [
        "test_vector = data_lines[0].split(\",\")    # reuse the first data line as test vector\n",
        "test_vector[-1] = \"100 mOhms\"             # replace the last item, so there is a 'mOhms' item\n",
        "test_vector"
      ],
      "execution_count": null,
      "outputs": []
    },
    {
      "cell_type": "code",
      "metadata": {
        "id": "h06PHeGn5vBh"
      },
      "source": [
        "def string_to_float(s):\n",
        "    return s + \" processed by 'string_to_float'\"\n",
        "\n",
        "for item in test_vector:\n",
        "    result = string_to_float(item)\n",
        "    print(type(result), result)"
      ],
      "execution_count": null,
      "outputs": []
    },
    {
      "cell_type": "markdown",
      "metadata": {
        "id": "4lqgh-KyHKMQ"
      },
      "source": [
        ""
      ]
    },
    {
      "cell_type": "markdown",
      "metadata": {
        "id": "NW8C-G3478hr"
      },
      "source": [
        "How to convert a `str` to a `float`?"
      ]
    },
    {
      "cell_type": "code",
      "metadata": {
        "id": "fYCZLCZx70Tm"
      },
      "source": [
        "float(\"3.33\")"
      ],
      "execution_count": null,
      "outputs": []
    },
    {
      "cell_type": "code",
      "metadata": {
        "id": "mAd0r5D38MPe"
      },
      "source": [
        "float(\"3.33 \")"
      ],
      "execution_count": null,
      "outputs": []
    },
    {
      "cell_type": "code",
      "metadata": {
        "id": "8hYwhmFL8QyZ"
      },
      "source": [
        "#float(\"3.33 Ohms\")"
      ],
      "execution_count": null,
      "outputs": []
    },
    {
      "cell_type": "markdown",
      "metadata": {
        "id": "3empzlmm8udj"
      },
      "source": [
        "Remove the \"Ohms\" first"
      ]
    },
    {
      "cell_type": "code",
      "metadata": {
        "id": "UGFUbvdp8U0M"
      },
      "source": [
        "for item in test_vector:\n",
        "    print(item, \"Ohms\" in item)"
      ],
      "execution_count": null,
      "outputs": []
    },
    {
      "cell_type": "markdown",
      "metadata": {
        "id": "iB1-yTTvQEt_"
      },
      "source": [
        "... that would work.\n",
        "\n",
        "However, using the `str` methon `find` has the advantage of providing the **index** where it was found."
      ]
    },
    {
      "cell_type": "code",
      "metadata": {
        "id": "I3LNRT-19Bwr"
      },
      "source": [
        "for item in test_vector:\n",
        "    print(item, item.find(\"Ohms\"))"
      ],
      "execution_count": null,
      "outputs": []
    },
    {
      "cell_type": "code",
      "metadata": {
        "id": "7RtcGJsf9Sdq"
      },
      "source": [
        "for item in test_vector:\n",
        "    idx = item.find(\"Ohms\")\n",
        "    if idx > 0:\n",
        "        prefix = item[idx-1]\n",
        "        mults = {\" \": 1, \"m\": 0.001}\n",
        "        print(item, mults[prefix])\n",
        "    else:\n",
        "        print(item)"
      ],
      "execution_count": null,
      "outputs": []
    },
    {
      "cell_type": "markdown",
      "metadata": {
        "id": "4yBwcj5EQ5gb"
      },
      "source": [
        "... almost done!\n",
        "\n",
        "Just to the *type casting* on the item and apply `mults`:"
      ]
    },
    {
      "cell_type": "code",
      "metadata": {
        "id": "hugf4UGzQrYl"
      },
      "source": [
        "def string_to_float(s):\n",
        "    idx = s.find(\"Ohms\")\n",
        "    if idx > 0:\n",
        "        number = s.split(\" \")[0]\n",
        "        prefix = s[idx-1]\n",
        "        return float(number) * {\" \": 1, \"m\": 0.001}[prefix]\n",
        "\n",
        "    return float(s)"
      ],
      "execution_count": null,
      "outputs": []
    },
    {
      "cell_type": "code",
      "metadata": {
        "id": "-n_C8yUQRjP4"
      },
      "source": [
        "test_vector"
      ],
      "execution_count": null,
      "outputs": []
    },
    {
      "cell_type": "code",
      "metadata": {
        "id": "iYsa656IRhXr"
      },
      "source": [
        "for item in test_vector:\n",
        "    result = string_to_float(item)\n",
        "    print(type(result), result)"
      ],
      "execution_count": null,
      "outputs": []
    },
    {
      "cell_type": "markdown",
      "metadata": {
        "id": "_-TsKKbA_CWj"
      },
      "source": [
        "Great, the function `string_to_float` works!\n",
        "\n",
        "Let's use it for parsing the data:"
      ]
    },
    {
      "cell_type": "code",
      "metadata": {
        "id": "18nUE0KkSfrh"
      },
      "source": [
        "data_lines"
      ],
      "execution_count": null,
      "outputs": []
    },
    {
      "cell_type": "markdown",
      "metadata": {
        "id": "x4640E3-_T3e"
      },
      "source": [
        "The data is 2-dimensional: \n",
        "- 4 values per sample / row\n",
        "- N rows\n",
        "\n",
        "One potential solution for this application is a list of lists:"
      ]
    },
    {
      "cell_type": "code",
      "metadata": {
        "id": "xpmK8yNS_S0W"
      },
      "source": [
        "data = list()\n",
        "\n",
        "for data_line in data_lines:\n",
        "    row = list()\n",
        "    for item in data_line.split(\",\"):\n",
        "        row.append(string_to_float(item))\n",
        "    data.append(row)\n",
        "\n",
        "data"
      ],
      "execution_count": null,
      "outputs": []
    },
    {
      "cell_type": "markdown",
      "metadata": {
        "id": "qzvU3bGKEdTc"
      },
      "source": [
        "**Status** on the logfile challenge. We got:\n",
        "- `data` in a list of lists (N x 4)\n",
        "- `names` list with column names\n",
        "- `params` parameter dictionary"
      ]
    },
    {
      "cell_type": "code",
      "metadata": {
        "id": "dStQT4z2D2tp"
      },
      "source": [
        "names"
      ],
      "execution_count": null,
      "outputs": []
    },
    {
      "cell_type": "code",
      "metadata": {
        "id": "8fOV5m7CD3z-"
      },
      "source": [
        "params"
      ],
      "execution_count": null,
      "outputs": []
    },
    {
      "cell_type": "markdown",
      "metadata": {
        "id": "x5beVw0O2Ka7"
      },
      "source": [
        "# Complete `parse_logfile_string` function"
      ]
    },
    {
      "cell_type": "markdown",
      "metadata": {
        "id": "V1LtpkIKGAmK"
      },
      "source": [
        "Let's summarize the functionality we got so far, into a function `parse_logfile_string` that:\n",
        "- takes the logfile string `s` as input and\n",
        "- returns `params`, `names` and `data`"
      ]
    },
    {
      "cell_type": "code",
      "metadata": {
        "id": "l0_yrdsCD5v4"
      },
      "source": [
        "def parse_logfile_string(s):\n",
        "    # split the input string on \"\\n\" new line\n",
        "    lines = s.split(\"\\n\")\n",
        "\n",
        "    # create a look-up table of sections and line numbers\n",
        "    idxs = dict()\n",
        "    for lineNo, line in enumerate(lines):\n",
        "        if line in ['measurements', \"header\"]:\n",
        "            idxs[line] = lineNo \n",
        "    idxs[\"names\"] = idxs[\"measurements\"] + 1\n",
        "    idxs[\"params_begin\"] = idxs[\"header\"] + 1\n",
        "    idxs[\"params_end\"] = idxs[\"measurements\"] - 1\n",
        "    idxs[\"data\"] = idxs[\"names\"] + 1\n",
        "\n",
        "    # parse the column \n",
        "    names = lines[idxs[\"names\"]].split(\",\")\n",
        "\n",
        "    # parse the params_lines list(str) into params dict{param: value}\n",
        "    params = dict()\n",
        "    for line in lines[idxs[\"params_begin\"] : idxs[\"params_end\"]]:\n",
        "        key, value = line.split(\",\")\n",
        "        params[key] = value\n",
        "\n",
        "    # converts str to float incl. \"Ohms\" removal\n",
        "    def string_to_float(s):\n",
        "        idx = s.find(\"Ohms\")\n",
        "        if idx > 0:\n",
        "            number = s.split(\" \")[0]\n",
        "            prefix = s[idx-1]\n",
        "            return float(number) * {\" \": 1, \"m\": 0.001}[prefix]\n",
        "        return float(s)\n",
        "\n",
        "    # parse data_lines list(str) into data list(list(floats))\n",
        "    data = list()\n",
        "    for data_line in lines[idxs[\"data\"] :]:\n",
        "        row = list()\n",
        "        for item in data_line.split(\",\"):\n",
        "            row.append(string_to_float(item))\n",
        "        data.append(row)\n",
        "\n",
        "    return {\"params\": params, \"names\": names, \"data\":data}"
      ],
      "execution_count": null,
      "outputs": []
    },
    {
      "cell_type": "code",
      "metadata": {
        "id": "ZEVZCuaTKvfn"
      },
      "source": [
        "log = parse_logfile_string(s)\n",
        "log"
      ],
      "execution_count": null,
      "outputs": []
    },
    {
      "cell_type": "code",
      "metadata": {
        "id": "Y_g23RwrmVBY"
      },
      "source": [
        "log.keys()"
      ],
      "execution_count": null,
      "outputs": []
    },
    {
      "cell_type": "markdown",
      "metadata": {
        "id": "34gQJ7YFmP5P"
      },
      "source": [
        "done!\n",
        "\n",
        "We successfully created a **function** `parse_logfile_string(s)` that parses the input text string `s` and returns a `dict` with \n",
        "- the header parameters `params`, \n",
        "- the actual data `data`,\n",
        "- the data column names `names` "
      ]
    },
    {
      "cell_type": "markdown",
      "metadata": {
        "id": "YZEpKAzdnW6k"
      },
      "source": [
        "# Limitations of Python basic containers"
      ]
    },
    {
      "cell_type": "markdown",
      "metadata": {
        "id": "8eYv_6x9oCzj"
      },
      "source": [
        "The Python general purpose container `list` worked great for reading and appending items from file. However, for further mathematical processing it's non-ideal, as we will see,..."
      ]
    },
    {
      "cell_type": "markdown",
      "metadata": {
        "id": "r5LywYlan6ET"
      },
      "source": [
        "## Apply calibration factors"
      ]
    },
    {
      "cell_type": "markdown",
      "metadata": {
        "id": "c4z_qmXHoDTA"
      },
      "source": [
        "The task:\n",
        "- search the `params` for `calibration factor sig?` keys\n",
        "- multiply all column values of `sig?` with the respective `calibration factor`\n"
      ]
    },
    {
      "cell_type": "code",
      "metadata": {
        "id": "hWro944AKxyB"
      },
      "source": [
        "log = parse_logfile_string(s)\n",
        "params = log[\"params\"]\n",
        "data = log[\"data\"]\n",
        "names = log[\"names\"]"
      ],
      "execution_count": null,
      "outputs": []
    },
    {
      "cell_type": "code",
      "metadata": {
        "id": "cmSqBSSDkxqn"
      },
      "source": [
        "for param, cal_factor in params.items():\n",
        "    if \"calibration factor\" in param:\n",
        "        sig = param.split(\" \")[-1]\n",
        "        print(\"Signal={}, cal_factor={}\".format(sig, cal_factor))"
      ],
      "execution_count": null,
      "outputs": []
    },
    {
      "cell_type": "markdown",
      "metadata": {
        "id": "BUpemlqqrSNU"
      },
      "source": [
        "Next step is to index the data: Get all rows of a specific column..."
      ]
    },
    {
      "cell_type": "code",
      "metadata": {
        "id": "_UNkeB4ptUvZ"
      },
      "source": [
        "names"
      ],
      "execution_count": null,
      "outputs": []
    },
    {
      "cell_type": "code",
      "metadata": {
        "id": "jmLb18LrtAN9"
      },
      "source": [
        "names.index(\"sig0\")"
      ],
      "execution_count": null,
      "outputs": []
    },
    {
      "cell_type": "code",
      "metadata": {
        "id": "usrGOJSXtW5w"
      },
      "source": [
        "for param, cal_factor in params.items():\n",
        "    if \"calibration factor\" in param:\n",
        "        sig = param.split(\" \")[-1]\n",
        "        col_index = names.index(sig)\n",
        "        print(\"Signal={}, col_index={}, cal_factor={}\".format(sig, col_index, cal_factor))"
      ],
      "execution_count": null,
      "outputs": []
    },
    {
      "cell_type": "markdown",
      "metadata": {
        "id": "BNCEgULauC02"
      },
      "source": [
        "Next, we need to index all rows of the col_index..."
      ]
    },
    {
      "cell_type": "code",
      "metadata": {
        "id": "z47ge9F6re5x"
      },
      "source": [
        "data[0]"
      ],
      "execution_count": null,
      "outputs": []
    },
    {
      "cell_type": "code",
      "metadata": {
        "id": "pjkyUOnurCol"
      },
      "source": [
        "data[0][col_index]"
      ],
      "execution_count": null,
      "outputs": []
    },
    {
      "cell_type": "markdown",
      "metadata": {
        "id": "uHMtSMkluXmP"
      },
      "source": [
        "The `list[rows][cols]` can't be sliced in `cols` first!\n",
        "\n",
        "As a solution, we can iterate over the rows and access the `col_index` within each row:"
      ]
    },
    {
      "cell_type": "code",
      "metadata": {
        "id": "WRP5twlFstKd"
      },
      "source": [
        "for data_row in data:\n",
        "    val = data_row[col_index]\n",
        "    print(val)"
      ],
      "execution_count": null,
      "outputs": []
    },
    {
      "cell_type": "markdown",
      "metadata": {
        "id": "LKw6lVpivG7q"
      },
      "source": [
        "Put it all together:\n"
      ]
    },
    {
      "cell_type": "code",
      "metadata": {
        "id": "9NirTuDLwxLu"
      },
      "source": [
        "data[:3]"
      ],
      "execution_count": null,
      "outputs": []
    },
    {
      "cell_type": "code",
      "metadata": {
        "id": "MsqnaTbDu-0d"
      },
      "source": [
        "for param, cal_factor in params.items():\n",
        "    if \"calibration factor\" in param:\n",
        "        sig = param.split(\" \")[-1]\n",
        "        col_index = names.index(sig)\n",
        "\n",
        "        for data_row in data:\n",
        "            data_row[col_index] *= float(cal_factor)"
      ],
      "execution_count": null,
      "outputs": []
    },
    {
      "cell_type": "code",
      "metadata": {
        "id": "ZHfSv1rGwMlP"
      },
      "source": [
        "data[:3]"
      ],
      "execution_count": null,
      "outputs": []
    },
    {
      "cell_type": "markdown",
      "metadata": {
        "id": "_5R_HkgJxNvB"
      },
      "source": [
        "This worked, **BUT**\n",
        "\n",
        "it would be much more convenient and readable to have something like \n",
        "\n",
        "`data[:, col_index] *= cal_factor`\n",
        "\n",
        "What we want is **arbitrary indexing** and **element-wise operations**!\n",
        "\n",
        "\n",
        "\n"
      ]
    },
    {
      "cell_type": "markdown",
      "metadata": {
        "id": "1Cfi5HWmz6lA"
      },
      "source": [
        "Maybe we even want **labeled indexing** like\n",
        "\n",
        "`data[:, sig] *= cal_factor`"
      ]
    },
    {
      "cell_type": "markdown",
      "metadata": {
        "id": "hCnKHAO20SDM"
      },
      "source": [
        "## Array slicing for visualization"
      ]
    },
    {
      "cell_type": "markdown",
      "metadata": {
        "id": "VdOlQ2F_z-pT"
      },
      "source": [
        "Another common usage is **arbitrary array slicing** for data visualization (e.g. using `matplotlib`)\n"
      ]
    },
    {
      "cell_type": "code",
      "metadata": {
        "id": "zbq3kjcSymLH"
      },
      "source": [
        "names"
      ],
      "execution_count": null,
      "outputs": []
    },
    {
      "cell_type": "code",
      "metadata": {
        "id": "UQ8DJZvWxmlI"
      },
      "source": [
        "x, y = list(), list()\n",
        "for data_row in data:\n",
        "    x.append(data_row[names.index(\"x\")])\n",
        "    y.append(data_row[names.index(\"sig0\")])"
      ],
      "execution_count": null,
      "outputs": []
    },
    {
      "cell_type": "code",
      "metadata": {
        "id": "MXOSEVRJw1hT"
      },
      "source": [
        "import matplotlib.pyplot as plt\n",
        "plt.plot(x, y, \"o\");"
      ],
      "execution_count": null,
      "outputs": []
    }
  ]
}