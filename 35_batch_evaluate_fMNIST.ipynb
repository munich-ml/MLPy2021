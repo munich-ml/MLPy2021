{
  "nbformat": 4,
  "nbformat_minor": 0,
  "metadata": {
    "kernelspec": {
      "name": "python3",
      "display_name": "Python 3"
    },
    "language_info": {
      "codemirror_mode": {
        "name": "ipython",
        "version": 3
      },
      "file_extension": ".py",
      "mimetype": "text/x-python",
      "name": "python",
      "nbconvert_exporter": "python",
      "pygments_lexer": "ipython3",
      "version": "3.7.3"
    },
    "nav_menu": {
      "height": "264px",
      "width": "369px"
    },
    "toc": {
      "navigate_menu": true,
      "number_sections": true,
      "sideBar": true,
      "threshold": 6,
      "toc_cell": false,
      "toc_section_display": "block",
      "toc_window_display": false
    },
    "colab": {
      "name": "35_batch_evaluate_fMNIST.ipynb",
      "provenance": [],
      "collapsed_sections": [],
      "toc_visible": true,
      "include_colab_link": true
    },
    "accelerator": "GPU"
  },
  "cells": [
    {
      "cell_type": "markdown",
      "metadata": {
        "id": "view-in-github",
        "colab_type": "text"
      },
      "source": [
        "<a href=\"https://colab.research.google.com/github/munich-ml/MLPy2020/blob/master/35_batch_evaluate_fMNIST.ipynb\" target=\"_parent\"><img src=\"https://colab.research.google.com/assets/colab-badge.svg\" alt=\"Open In Colab\"/></a>"
      ]
    },
    {
      "cell_type": "markdown",
      "metadata": {
        "id": "e2piuI4C-TVp",
        "colab_type": "text"
      },
      "source": [
        "# Intro"
      ]
    },
    {
      "cell_type": "markdown",
      "metadata": {
        "id": "C9_a-EzZ6x8B",
        "colab_type": "text"
      },
      "source": [
        "## References\n",
        "Resources used to create this notebook:\n",
        "- [scikit-learn website](https://scikit-learn.org)\n",
        "- [Matplotlib website](https://matplotlib.org/)\n",
        "- [Wikipedia](https://en.wikipedia.org/wiki/Main_Page)\n",
        "- Hands-on Machine Learning with Scikit-learn, Keras & TensorFlow, Aurelien Geron, [Book on Amazon](https://www.amazon.de/Aur%C3%A9lien-G%C3%A9ron/dp/1492032646/ref=sr_1_3?__mk_de_DE=%C3%85M%C3%85%C5%BD%C3%95%C3%91&dchild=1&keywords=Hands-on+Machine+Learning+with+Scikit-learn%2C+Keras+%26+TensorFlow%2C+Aurelien+Geron%2C&qid=1589875241&sr=8-3)\n",
        "- Introduction to Machine Learning with Python, Andreas Mueller, [Book on Amazon](https://www.amazon.de/Introduction-Machine-Learning-Python-Scientists/dp/1449369413)\n"
      ]
    },
    {
      "cell_type": "markdown",
      "metadata": {
        "id": "eNST_MlxjzH0",
        "colab_type": "text"
      },
      "source": [
        "## Setup"
      ]
    },
    {
      "cell_type": "markdown",
      "metadata": {
        "id": "kgdeO6WVjzH0",
        "colab_type": "text"
      },
      "source": [
        "First, do the common imports.\n",
        "\n",
        "Tensorflow must be 2.x, because there are major changes from 1.x"
      ]
    },
    {
      "cell_type": "code",
      "metadata": {
        "id": "4yPHaPsejzH1",
        "colab_type": "code",
        "outputId": "ba6d05f5-4093-4304-83e9-0f739613f66b",
        "colab": {
          "base_uri": "https://localhost:8080/",
          "height": 134
        }
      },
      "source": [
        "# Python ≥3.5 is required\n",
        "import sys\n",
        "assert sys.version_info >= (3, 5)\n",
        "\n",
        "# Forces tensorflow version (only in colab)\n",
        "%tensorflow_version 2.x           \n",
        "\n",
        "# TensorFlow ≥2.0 is required\n",
        "import tensorflow as tf\n",
        "from tensorflow import keras\n",
        "assert tf.__version__ >= \"2.0\"\n",
        "\n",
        "# Common imports\n",
        "import os\n",
        "import pickle\n",
        "import pandas as pd\n",
        "\n",
        "# Setup matplotlib\n",
        "%matplotlib inline\n",
        "import matplotlib as mpl\n",
        "import matplotlib.pyplot as plt\n",
        "mpl.rc('axes', labelsize=14)\n",
        "mpl.rc('xtick', labelsize=12)\n",
        "mpl.rc('ytick', labelsize=12)\n",
        "\n",
        "# Ignore useless warnings (see SciPy issue #5998)\n",
        "import warnings\n",
        "warnings.filterwarnings(action=\"ignore\", message=\"^internal gelsd\")\n",
        "\n",
        "# Get munich-ml helper functions from GitHub\n",
        "if \"MLPy2020\" in os.listdir():\n",
        "    !git -C MLPy2020 pull\n",
        "else:\n",
        "    !git clone https://github.com/munich-ml/MLPy2020/\n",
        "\n",
        "from MLPy2020.MLPy_helper_funcs import pickle_in"
      ],
      "execution_count": 0,
      "outputs": [
        {
          "output_type": "stream",
          "text": [
            "Cloning into 'MLPy2020'...\n",
            "remote: Enumerating objects: 41, done.\u001b[K\n",
            "remote: Counting objects: 100% (41/41), done.\u001b[K\n",
            "remote: Compressing objects: 100% (39/39), done.\u001b[K\n",
            "remote: Total 259 (delta 21), reused 4 (delta 2), pack-reused 218\u001b[K\n",
            "Receiving objects: 100% (259/259), 3.02 MiB | 5.66 MiB/s, done.\n",
            "Resolving deltas: 100% (137/137), done.\n"
          ],
          "name": "stdout"
        }
      ]
    },
    {
      "cell_type": "markdown",
      "metadata": {
        "id": "Gp2b1spIJJ3v",
        "colab_type": "text"
      },
      "source": [
        "## Mount google drive"
      ]
    },
    {
      "cell_type": "code",
      "metadata": {
        "id": "44td_VNCHIp0",
        "colab_type": "code",
        "outputId": "5fdabdc8-07db-4869-ea67-5da350359fdc",
        "colab": {
          "base_uri": "https://localhost:8080/",
          "height": 33
        }
      },
      "source": [
        "\n",
        "mount_dir = os.path.join(os.getcwd(), \"drive\")\n",
        "mount_dir"
      ],
      "execution_count": 0,
      "outputs": [
        {
          "output_type": "execute_result",
          "data": {
            "text/plain": [
              "'/content/drive'"
            ]
          },
          "metadata": {
            "tags": []
          },
          "execution_count": 2
        }
      ]
    },
    {
      "cell_type": "code",
      "metadata": {
        "id": "_SOHBBtZG6Ul",
        "colab_type": "code",
        "outputId": "4bb47236-ed7f-43d2-cdc8-836a9a46cfce",
        "colab": {
          "base_uri": "https://localhost:8080/",
          "height": 120
        }
      },
      "source": [
        "from google.colab import drive\n",
        "drive.mount(mount_dir)"
      ],
      "execution_count": 0,
      "outputs": [
        {
          "output_type": "stream",
          "text": [
            "Go to this URL in a browser: https://accounts.google.com/o/oauth2/auth?client_id=947318989803-6bn6qk8qdgf4n4g3pfee6491hc0brc4i.apps.googleusercontent.com&redirect_uri=urn%3aietf%3awg%3aoauth%3a2.0%3aoob&response_type=code&scope=email%20https%3a%2f%2fwww.googleapis.com%2fauth%2fdocs.test%20https%3a%2f%2fwww.googleapis.com%2fauth%2fdrive%20https%3a%2f%2fwww.googleapis.com%2fauth%2fdrive.photos.readonly%20https%3a%2f%2fwww.googleapis.com%2fauth%2fpeopleapi.readonly\n",
            "\n",
            "Enter your authorization code:\n",
            "··········\n",
            "Mounted at /content/drive\n"
          ],
          "name": "stdout"
        }
      ]
    },
    {
      "cell_type": "markdown",
      "metadata": {
        "id": "mkGEsbfh3SVQ",
        "colab_type": "text"
      },
      "source": [
        "#Batch Evaluation"
      ]
    },
    {
      "cell_type": "code",
      "metadata": {
        "id": "u7DGgId6He21",
        "colab_type": "code",
        "outputId": "187166aa-fe3b-4bd9-d084-e0673d35cb48",
        "colab": {
          "base_uri": "https://localhost:8080/",
          "height": 33
        }
      },
      "source": [
        "save_dir = os.path.join(mount_dir, \"My Drive\", \"Colab Notebooks\", \"models\")\n",
        "save_dir"
      ],
      "execution_count": 0,
      "outputs": [
        {
          "output_type": "execute_result",
          "data": {
            "text/plain": [
              "'/content/drive/My Drive/Colab Notebooks/models'"
            ]
          },
          "metadata": {
            "tags": []
          },
          "execution_count": 9
        }
      ]
    },
    {
      "cell_type": "code",
      "metadata": {
        "id": "aoCEpZbYogEB",
        "colab_type": "code",
        "outputId": "9228beb9-d77b-43f5-bfd2-8a1462236548",
        "colab": {
          "base_uri": "https://localhost:8080/",
          "height": 501
        }
      },
      "source": [
        "from time import time\n",
        "models = {}\n",
        "for fn in os.listdir(save_dir):\n",
        "    if fn.endswith(\".h5\"):\n",
        "        model = keras.models.load_model(os.path.join(save_dir, fn))\n",
        "        models[fn] = {\"params\": model.count_params(), \"layers\": len(model.layers)}\n",
        "        # load the testset\n",
        "        testset = fn.split(\".\")[0] + \"_data.pkl\"\n",
        "        if testset in os.listdir(save_dir):\n",
        "            pickle_in(os.path.join(save_dir, testset), locals())\n",
        "            print(\"{}, X_test.shape: {}\".format(fn, X_test.shape))\n",
        "        \n",
        "            t0 = time()\n",
        "            models[fn][\"accuracy\"] = model.evaluate(X_test, y_test)[1]\n",
        "            models[fn][\"tEval [s]\"] = time() - t0\n",
        "        print(\"\")\n",
        "pd.DataFrame(models).transpose()"
      ],
      "execution_count": 0,
      "outputs": [
        {
          "output_type": "stream",
          "text": [
            "pickle_in: Updating scope with the following variables:\n",
            "['X_test', 'y_test', 'X_valid', 'y_valid', 'class_names']\n",
            "fMNIST_CNN_v3_ageron.h5, X_test.shape: (10000, 28, 28, 1)\n",
            "313/313 [==============================] - 1s 3ms/step - loss: 0.3067 - accuracy: 0.9007\n",
            "\n",
            "pickle_in: Updating scope with the following variables:\n",
            "['X_test', 'y_test', 'class_names', 'X_valid', 'y_valid']\n",
            "fMNIST_NN_v2_ageron.h5, X_test.shape: (10000, 28, 28)\n",
            "313/313 [==============================] - 1s 2ms/step - loss: 0.3360 - accuracy: 0.8841\n",
            "\n",
            "pickle_in: Updating scope with the following variables:\n",
            "['X_test', 'y_test', 'X_valid', 'y_valid', 'class_names']\n",
            "fMNIST_CNN_v5_cmasch.h5, X_test.shape: (10000, 28, 28, 1)\n",
            "313/313 [==============================] - 1s 2ms/step - loss: 0.2245 - accuracy: 0.9237\n",
            "\n",
            "pickle_in: Updating scope with the following variables:\n",
            "['X_test', 'y_test', 'X_valid', 'y_valid', 'class_names']\n",
            "fMNIST_CNN_v6_cmasch_mod.h5, X_test.shape: (10000, 28, 28, 1)\n",
            "313/313 [==============================] - 1s 2ms/step - loss: 0.2189 - accuracy: 0.9224\n",
            "\n"
          ],
          "name": "stdout"
        },
        {
          "output_type": "execute_result",
          "data": {
            "text/html": [
              "<div>\n",
              "<style scoped>\n",
              "    .dataframe tbody tr th:only-of-type {\n",
              "        vertical-align: middle;\n",
              "    }\n",
              "\n",
              "    .dataframe tbody tr th {\n",
              "        vertical-align: top;\n",
              "    }\n",
              "\n",
              "    .dataframe thead th {\n",
              "        text-align: right;\n",
              "    }\n",
              "</style>\n",
              "<table border=\"1\" class=\"dataframe\">\n",
              "  <thead>\n",
              "    <tr style=\"text-align: right;\">\n",
              "      <th></th>\n",
              "      <th>params</th>\n",
              "      <th>layers</th>\n",
              "      <th>accuracy</th>\n",
              "      <th>tEval [s]</th>\n",
              "    </tr>\n",
              "  </thead>\n",
              "  <tbody>\n",
              "    <tr>\n",
              "      <th>fMNIST_CNN_v3_ageron.h5</th>\n",
              "      <td>1413834.0</td>\n",
              "      <td>14.0</td>\n",
              "      <td>0.9007</td>\n",
              "      <td>1.052071</td>\n",
              "    </tr>\n",
              "    <tr>\n",
              "      <th>fMNIST_NN_v2_ageron.h5</th>\n",
              "      <td>266610.0</td>\n",
              "      <td>4.0</td>\n",
              "      <td>0.8841</td>\n",
              "      <td>0.678097</td>\n",
              "    </tr>\n",
              "    <tr>\n",
              "      <th>fMNIST_CNN_v5_cmasch.h5</th>\n",
              "      <td>939150.0</td>\n",
              "      <td>13.0</td>\n",
              "      <td>0.9237</td>\n",
              "      <td>0.918721</td>\n",
              "    </tr>\n",
              "    <tr>\n",
              "      <th>fMNIST_CNN_v6_cmasch_mod.h5</th>\n",
              "      <td>953550.0</td>\n",
              "      <td>13.0</td>\n",
              "      <td>0.9224</td>\n",
              "      <td>0.952670</td>\n",
              "    </tr>\n",
              "  </tbody>\n",
              "</table>\n",
              "</div>"
            ],
            "text/plain": [
              "                                params  layers  accuracy  tEval [s]\n",
              "fMNIST_CNN_v3_ageron.h5      1413834.0    14.0    0.9007   1.052071\n",
              "fMNIST_NN_v2_ageron.h5        266610.0     4.0    0.8841   0.678097\n",
              "fMNIST_CNN_v5_cmasch.h5       939150.0    13.0    0.9237   0.918721\n",
              "fMNIST_CNN_v6_cmasch_mod.h5   953550.0    13.0    0.9224   0.952670"
            ]
          },
          "metadata": {
            "tags": []
          },
          "execution_count": 13
        }
      ]
    }
  ]
}