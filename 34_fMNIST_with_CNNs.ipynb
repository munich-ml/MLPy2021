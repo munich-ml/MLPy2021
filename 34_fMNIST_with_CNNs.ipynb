{
  "nbformat": 4,
  "nbformat_minor": 0,
  "metadata": {
    "kernelspec": {
      "name": "python3",
      "display_name": "Python 3"
    },
    "language_info": {
      "codemirror_mode": {
        "name": "ipython",
        "version": 3
      },
      "file_extension": ".py",
      "mimetype": "text/x-python",
      "name": "python",
      "nbconvert_exporter": "python",
      "pygments_lexer": "ipython3",
      "version": "3.7.3"
    },
    "nav_menu": {},
    "toc": {
      "navigate_menu": true,
      "number_sections": true,
      "sideBar": true,
      "threshold": 6,
      "toc_cell": false,
      "toc_section_display": "block",
      "toc_window_display": false
    },
    "colab": {
      "name": "34_fMNIST_with_CNNs.ipynb",
      "provenance": [],
      "collapsed_sections": [],
      "toc_visible": true,
      "include_colab_link": true
    },
    "accelerator": "GPU"
  },
  "cells": [
    {
      "cell_type": "markdown",
      "metadata": {
        "id": "view-in-github",
        "colab_type": "text"
      },
      "source": [
        "<a href=\"https://colab.research.google.com/github/munich-ml/MLPy2021/blob/main/34_fMNIST_with_CNNs.ipynb\" target=\"_parent\"><img src=\"https://colab.research.google.com/assets/colab-badge.svg\" alt=\"Open In Colab\"/></a>"
      ]
    },
    {
      "cell_type": "markdown",
      "metadata": {
        "id": "e2piuI4C-TVp"
      },
      "source": [
        "# Intro"
      ]
    },
    {
      "cell_type": "markdown",
      "metadata": {
        "id": "C9_a-EzZ6x8B"
      },
      "source": [
        "## References\n",
        "Resources used to create this notebook:\n",
        "- [scikit-learn website](https://scikit-learn.org)\n",
        "- [Matplotlib website](https://matplotlib.org/)\n",
        "- [Wikipedia](https://en.wikipedia.org/wiki/Main_Page)\n",
        "- Hands-on Machine Learning with Scikit-learn, Keras & TensorFlow, Aurelien Geron, [Book on Amazon](https://www.amazon.de/Aur%C3%A9lien-G%C3%A9ron/dp/1492032646/ref=sr_1_3?__mk_de_DE=%C3%85M%C3%85%C5%BD%C3%95%C3%91&dchild=1&keywords=Hands-on+Machine+Learning+with+Scikit-learn%2C+Keras+%26+TensorFlow%2C+Aurelien+Geron%2C&qid=1589875241&sr=8-3)\n",
        "- Introduction to Machine Learning with Python, Andreas Mueller, [Book on Amazon](https://www.amazon.de/Introduction-Machine-Learning-Python-Scientists/dp/1449369413)\n"
      ]
    },
    {
      "cell_type": "markdown",
      "metadata": {
        "id": "mtNoZjxCnoZR"
      },
      "source": [
        "## Setup"
      ]
    },
    {
      "cell_type": "code",
      "metadata": {
        "id": "QwkdebISnoZT",
        "colab": {
          "base_uri": "https://localhost:8080/"
        },
        "outputId": "7befe258-d706-4ad3-b8a3-2e76ccbef4bd"
      },
      "source": [
        "# Python ≥3.5 is required\n",
        "import sys\n",
        "assert sys.version_info >= (3, 5)\n",
        "\n",
        "# Common imports\n",
        "import os\n",
        "import numpy as np\n",
        "import pandas as pd\n",
        "\n",
        "# to make this notebook's output stable across runs\n",
        "np.random.seed(42)\n",
        "\n",
        "# Setup matplotlib\n",
        "%matplotlib inline\n",
        "import matplotlib as mpl\n",
        "import matplotlib.pyplot as plt\n",
        "mpl.rc('axes', labelsize=14)\n",
        "mpl.rc('xtick', labelsize=12)\n",
        "mpl.rc('ytick', labelsize=12)\n",
        "\n",
        "# Ignore useless warnings (see SciPy issue #5998)\n",
        "import warnings\n",
        "warnings.filterwarnings(action=\"ignore\", message=\"^internal gelsd\")\n",
        "\n",
        "# TensorFlow ≥2.0 is required\n",
        "import tensorflow as tf\n",
        "from tensorflow import keras\n",
        "assert tf.__version__ >= \"2.0\"\n",
        "\n",
        "in_colab = 'google.colab' in sys.modules   # check if note is executed within Colab\n",
        "\n",
        "# Forces tensorflow version (only in colab)\n",
        "if in_colab:\n",
        "    %tensorflow_version 2.x           \n",
        "\n",
        "# Clone the repository if executed in Google Colab\n",
        "if in_colab:  \n",
        "    if \"MLPy2021\" in os.listdir():\n",
        "        !git -C MLPy2021 pull\n",
        "    else:\n",
        "        !git clone https://github.com/munich-ml/MLPy2021/\n",
        "\n",
        "# lib.helper_funcs.py. The import path depends on Colab or local execution \n",
        "if in_colab:\n",
        "    from MLPy2021.lib.helper_funcs import pickle_out\n",
        "else: \n",
        "    from lib.helper_funcs import pickle_out"
      ],
      "execution_count": 59,
      "outputs": [
        {
          "output_type": "stream",
          "text": [
            "Already up to date.\n"
          ],
          "name": "stdout"
        }
      ]
    },
    {
      "cell_type": "markdown",
      "metadata": {
        "id": "Lck4IKZA-A7b"
      },
      "source": [
        "# The data"
      ]
    },
    {
      "cell_type": "markdown",
      "metadata": {
        "id": "NfMqmB2nnoao"
      },
      "source": [
        "## Load the data\n"
      ]
    },
    {
      "cell_type": "code",
      "metadata": {
        "id": "cfCPqOGunoap"
      },
      "source": [
        "(X_train_full, y_train_full), (X_test, y_test) = keras.datasets.fashion_mnist.load_data()"
      ],
      "execution_count": 60,
      "outputs": []
    },
    {
      "cell_type": "markdown",
      "metadata": {
        "id": "x5E9nQwJ-F_r"
      },
      "source": [
        "## Scale the data"
      ]
    },
    {
      "cell_type": "code",
      "metadata": {
        "id": "jf9aIV3P_M53"
      },
      "source": [
        "from sklearn.base import TransformerMixin,BaseEstimator\n",
        "\n",
        "class MaxScaler(BaseEstimator,TransformerMixin):\n",
        "\n",
        "    def fit(self, X, y=None):\n",
        "        self._scale = X.max()\n",
        "        return self\n",
        "\n",
        "    def transform(self, X):\n",
        "        return X / self._scale"
      ],
      "execution_count": 61,
      "outputs": []
    },
    {
      "cell_type": "code",
      "metadata": {
        "id": "oQ1qe7-a-eb3"
      },
      "source": [
        "scaler = MaxScaler()\n",
        "X_train_full = scaler.fit_transform(X_train_full)\n",
        "X_test = scaler.transform(X_test)"
      ],
      "execution_count": 62,
      "outputs": []
    },
    {
      "cell_type": "markdown",
      "metadata": {
        "id": "oabLmyFV-LlD"
      },
      "source": [
        "## Split the data"
      ]
    },
    {
      "cell_type": "code",
      "metadata": {
        "id": "9iDBBg0B_My6"
      },
      "source": [
        "from sklearn.model_selection import train_test_split\n",
        "X_train, X_valid, y_train, y_valid = train_test_split(X_train_full, y_train_full, \n",
        "                                                      test_size=5000)"
      ],
      "execution_count": 63,
      "outputs": []
    },
    {
      "cell_type": "markdown",
      "metadata": {
        "id": "3DHudEUCDvc5"
      },
      "source": [
        "## Reshape the data\n",
        "Convolutional layers require 4-dim data"
      ]
    },
    {
      "cell_type": "code",
      "metadata": {
        "id": "Iss3JHwODey0"
      },
      "source": [
        "X_train = X_train[..., np.newaxis]\n",
        "X_valid = X_valid[..., np.newaxis]\n",
        "X_test = X_test[..., np.newaxis]"
      ],
      "execution_count": 64,
      "outputs": []
    },
    {
      "cell_type": "markdown",
      "metadata": {
        "id": "xvZ_45eQJUKz"
      },
      "source": [
        "# The model\n"
      ]
    },
    {
      "cell_type": "markdown",
      "metadata": {
        "id": "Ggm1yemX93hB"
      },
      "source": [
        "## Create the model"
      ]
    },
    {
      "cell_type": "code",
      "metadata": {
        "id": "65Fw9e1Bnoar"
      },
      "source": [
        "# Reuse model from ageron: https://github.com/ageron/handson-ml2\n",
        "def create_model_ageron():\n",
        "    layers = [\n",
        "        keras.layers.Conv2D(filters=64, kernel_size=7, activation='relu', padding=\"same\", input_shape=[28, 28, 1]),\n",
        "        keras.layers.MaxPooling2D(pool_size=2),\n",
        "        keras.layers.Conv2D(filters=128, kernel_size=3, activation='relu', padding=\"same\"),\n",
        "        keras.layers.Conv2D(filters=128, kernel_size=3, activation='relu', padding=\"same\"),\n",
        "        keras.layers.MaxPooling2D(pool_size=2),\n",
        "        keras.layers.Conv2D(filters=256, kernel_size=3, activation='relu', padding=\"same\"),\n",
        "        keras.layers.Conv2D(filters=256, kernel_size=3, activation='relu', padding=\"same\"),\n",
        "        keras.layers.MaxPooling2D(pool_size=2),\n",
        "        keras.layers.Flatten(),\n",
        "        keras.layers.Dense(units=128, activation='relu'),\n",
        "        keras.layers.Dropout(0.5),\n",
        "        keras.layers.Dense(units=64, activation='relu'),\n",
        "        keras.layers.Dropout(0.5),\n",
        "        keras.layers.Dense(units=10, activation='softmax')]\n",
        "    return keras.models.Sequential(layers)"
      ],
      "execution_count": 65,
      "outputs": []
    },
    {
      "cell_type": "code",
      "metadata": {
        "id": "xTQ1Cep2gjk5"
      },
      "source": [
        "# Reuse model from cmasch: https://github.com/cmasch/zalando-fashion-mnist/\n",
        "def create_model_cmasch():\n",
        "    layers = [\n",
        "        keras.layers.InputLayer(input_shape=[28, 28, 1]),\n",
        "        keras.layers.BatchNormalization(),\n",
        "        keras.layers.Conv2D(filters=64, kernel_size=4, activation=\"relu\", padding=\"same\"),\n",
        "        keras.layers.MaxPooling2D(pool_size=2),\n",
        "        keras.layers.Dropout(0.1),\n",
        "        keras.layers.Conv2D(filters=64, kernel_size=4, activation=\"relu\", padding=\"same\"),\n",
        "        #keras.layers.Conv2D(filters=128, kernel_size=4, activation=\"relu\", padding=\"same\"),\n",
        "        keras.layers.MaxPooling2D(pool_size=2),\n",
        "        keras.layers.Dropout(0.3),\n",
        "        keras.layers.Flatten(),\n",
        "        keras.layers.Dense(units=256, activation=\"relu\"),\n",
        "        #keras.layers.Dense(units=128, activation=\"relu\"),\n",
        "        keras.layers.Dropout(0.5),\n",
        "        keras.layers.Dense(units=256, activation=\"relu\"),\n",
        "        #keras.layers.Dense(units=128, activation=\"relu\"),\n",
        "        keras.layers.BatchNormalization(),\n",
        "        keras.layers.Dense(units=10, activation='softmax')]\n",
        "    return keras.models.Sequential(layers)"
      ],
      "execution_count": 66,
      "outputs": []
    },
    {
      "cell_type": "code",
      "metadata": {
        "id": "rdJ3VRjIIk4o",
        "colab": {
          "base_uri": "https://localhost:8080/"
        },
        "outputId": "5dc84e44-f78e-4f06-f36b-066efb9a682a"
      },
      "source": [
        "model = create_model_cmasch()\n",
        "#model = create_model_ageron()\n",
        "model.summary()"
      ],
      "execution_count": 67,
      "outputs": [
        {
          "output_type": "stream",
          "text": [
            "Model: \"sequential_3\"\n",
            "_________________________________________________________________\n",
            "Layer (type)                 Output Shape              Param #   \n",
            "=================================================================\n",
            "batch_normalization_2 (Batch (None, 28, 28, 1)         4         \n",
            "_________________________________________________________________\n",
            "conv2d_12 (Conv2D)           (None, 28, 28, 64)        1088      \n",
            "_________________________________________________________________\n",
            "max_pooling2d_8 (MaxPooling2 (None, 14, 14, 64)        0         \n",
            "_________________________________________________________________\n",
            "dropout_7 (Dropout)          (None, 14, 14, 64)        0         \n",
            "_________________________________________________________________\n",
            "conv2d_13 (Conv2D)           (None, 14, 14, 64)        65600     \n",
            "_________________________________________________________________\n",
            "max_pooling2d_9 (MaxPooling2 (None, 7, 7, 64)          0         \n",
            "_________________________________________________________________\n",
            "dropout_8 (Dropout)          (None, 7, 7, 64)          0         \n",
            "_________________________________________________________________\n",
            "flatten_3 (Flatten)          (None, 3136)              0         \n",
            "_________________________________________________________________\n",
            "dense_9 (Dense)              (None, 256)               803072    \n",
            "_________________________________________________________________\n",
            "dropout_9 (Dropout)          (None, 256)               0         \n",
            "_________________________________________________________________\n",
            "dense_10 (Dense)             (None, 256)               65792     \n",
            "_________________________________________________________________\n",
            "batch_normalization_3 (Batch (None, 256)               1024      \n",
            "_________________________________________________________________\n",
            "dense_11 (Dense)             (None, 10)                2570      \n",
            "=================================================================\n",
            "Total params: 939,150\n",
            "Trainable params: 938,636\n",
            "Non-trainable params: 514\n",
            "_________________________________________________________________\n"
          ],
          "name": "stdout"
        }
      ]
    },
    {
      "cell_type": "markdown",
      "metadata": {
        "id": "E7GFEMdXJdEt"
      },
      "source": [
        "## Compile the model"
      ]
    },
    {
      "cell_type": "code",
      "metadata": {
        "id": "2hwSbjbInoat"
      },
      "source": [
        "model.compile(loss=\"sparse_categorical_crossentropy\", \n",
        "              optimizer=\"nadam\", metrics=[\"accuracy\"])"
      ],
      "execution_count": 68,
      "outputs": []
    },
    {
      "cell_type": "markdown",
      "metadata": {
        "id": "tRAroi9sTvkR"
      },
      "source": [
        "The `learning_rate` is set within the optimizer. Here, the default is taken:"
      ]
    },
    {
      "cell_type": "code",
      "metadata": {
        "id": "YRgJQzMvR-ES",
        "colab": {
          "base_uri": "https://localhost:8080/"
        },
        "outputId": "3d089bd1-93e7-4b22-9820-0a6a0923ee54"
      },
      "source": [
        "model.optimizer.learning_rate"
      ],
      "execution_count": 69,
      "outputs": [
        {
          "output_type": "execute_result",
          "data": {
            "text/plain": [
              "<tf.Variable 'learning_rate:0' shape=() dtype=float32, numpy=0.001>"
            ]
          },
          "metadata": {
            "tags": []
          },
          "execution_count": 69
        }
      ]
    },
    {
      "cell_type": "markdown",
      "metadata": {
        "id": "6AF_1GZzJpPn"
      },
      "source": [
        "## Train the model"
      ]
    },
    {
      "cell_type": "code",
      "metadata": {
        "id": "KXHv5yHDNIB7",
        "colab": {
          "base_uri": "https://localhost:8080/"
        },
        "outputId": "9635c2c3-fc91-4371-8d61-11ff44873400"
      },
      "source": [
        "X_train.shape"
      ],
      "execution_count": 70,
      "outputs": [
        {
          "output_type": "execute_result",
          "data": {
            "text/plain": [
              "(55000, 28, 28, 1)"
            ]
          },
          "metadata": {
            "tags": []
          },
          "execution_count": 70
        }
      ]
    },
    {
      "cell_type": "code",
      "metadata": {
        "id": "kOPOUe40NMWq",
        "colab": {
          "base_uri": "https://localhost:8080/"
        },
        "outputId": "d22ad6f9-4a87-45d4-d226-3f5609436380"
      },
      "source": [
        "X_valid.shape"
      ],
      "execution_count": 71,
      "outputs": [
        {
          "output_type": "execute_result",
          "data": {
            "text/plain": [
              "(5000, 28, 28, 1)"
            ]
          },
          "metadata": {
            "tags": []
          },
          "execution_count": 71
        }
      ]
    },
    {
      "cell_type": "code",
      "metadata": {
        "id": "qp-1IN6Oo6xK",
        "colab": {
          "base_uri": "https://localhost:8080/"
        },
        "outputId": "37dabc8a-525a-4556-8107-b0b573b87589"
      },
      "source": [
        "history = model.fit(X_train, y_train, epochs=20, validation_data=(X_valid, y_valid))"
      ],
      "execution_count": 72,
      "outputs": [
        {
          "output_type": "stream",
          "text": [
            "Epoch 1/20\n",
            "1719/1719 [==============================] - 13s 7ms/step - loss: 0.5241 - accuracy: 0.8125 - val_loss: 0.3056 - val_accuracy: 0.8876\n",
            "Epoch 2/20\n",
            "1719/1719 [==============================] - 12s 7ms/step - loss: 0.3471 - accuracy: 0.8743 - val_loss: 0.2685 - val_accuracy: 0.9002\n",
            "Epoch 3/20\n",
            "1719/1719 [==============================] - 12s 7ms/step - loss: 0.3094 - accuracy: 0.8876 - val_loss: 0.2433 - val_accuracy: 0.9114\n",
            "Epoch 4/20\n",
            "1719/1719 [==============================] - 11s 7ms/step - loss: 0.2822 - accuracy: 0.8966 - val_loss: 0.2463 - val_accuracy: 0.9088\n",
            "Epoch 5/20\n",
            "1719/1719 [==============================] - 11s 6ms/step - loss: 0.2644 - accuracy: 0.9041 - val_loss: 0.2295 - val_accuracy: 0.9134\n",
            "Epoch 6/20\n",
            "1719/1719 [==============================] - 11s 6ms/step - loss: 0.2511 - accuracy: 0.9076 - val_loss: 0.2260 - val_accuracy: 0.9152\n",
            "Epoch 7/20\n",
            "1719/1719 [==============================] - 11s 6ms/step - loss: 0.2338 - accuracy: 0.9165 - val_loss: 0.2206 - val_accuracy: 0.9184\n",
            "Epoch 8/20\n",
            "1719/1719 [==============================] - 11s 6ms/step - loss: 0.2276 - accuracy: 0.9168 - val_loss: 0.2196 - val_accuracy: 0.9186\n",
            "Epoch 9/20\n",
            "1719/1719 [==============================] - 11s 6ms/step - loss: 0.2183 - accuracy: 0.9205 - val_loss: 0.2210 - val_accuracy: 0.9186\n",
            "Epoch 10/20\n",
            "1719/1719 [==============================] - 11s 6ms/step - loss: 0.2093 - accuracy: 0.9246 - val_loss: 0.2142 - val_accuracy: 0.9204\n",
            "Epoch 11/20\n",
            "1719/1719 [==============================] - 11s 6ms/step - loss: 0.2026 - accuracy: 0.9248 - val_loss: 0.2036 - val_accuracy: 0.9230\n",
            "Epoch 12/20\n",
            "1719/1719 [==============================] - 11s 6ms/step - loss: 0.1932 - accuracy: 0.9291 - val_loss: 0.2056 - val_accuracy: 0.9216\n",
            "Epoch 13/20\n",
            "1719/1719 [==============================] - 11s 6ms/step - loss: 0.1895 - accuracy: 0.9303 - val_loss: 0.2028 - val_accuracy: 0.9260\n",
            "Epoch 14/20\n",
            "1719/1719 [==============================] - 11s 6ms/step - loss: 0.1828 - accuracy: 0.9326 - val_loss: 0.2041 - val_accuracy: 0.9226\n",
            "Epoch 15/20\n",
            "1719/1719 [==============================] - 11s 6ms/step - loss: 0.1786 - accuracy: 0.9343 - val_loss: 0.1975 - val_accuracy: 0.9252\n",
            "Epoch 16/20\n",
            "1719/1719 [==============================] - 11s 6ms/step - loss: 0.1706 - accuracy: 0.9368 - val_loss: 0.1982 - val_accuracy: 0.9290\n",
            "Epoch 17/20\n",
            "1719/1719 [==============================] - 11s 6ms/step - loss: 0.1693 - accuracy: 0.9367 - val_loss: 0.1983 - val_accuracy: 0.9278\n",
            "Epoch 18/20\n",
            "1719/1719 [==============================] - 11s 7ms/step - loss: 0.1633 - accuracy: 0.9391 - val_loss: 0.1985 - val_accuracy: 0.9244\n",
            "Epoch 19/20\n",
            "1719/1719 [==============================] - 11s 6ms/step - loss: 0.1593 - accuracy: 0.9412 - val_loss: 0.1911 - val_accuracy: 0.9302\n",
            "Epoch 20/20\n",
            "1719/1719 [==============================] - 11s 6ms/step - loss: 0.1569 - accuracy: 0.9418 - val_loss: 0.1950 - val_accuracy: 0.9306\n"
          ],
          "name": "stdout"
        }
      ]
    },
    {
      "cell_type": "code",
      "metadata": {
        "colab": {
          "base_uri": "https://localhost:8080/",
          "height": 286
        },
        "id": "o_daQJMMGHSb",
        "outputId": "90206942-e77d-4220-b89a-c124c3420981"
      },
      "source": [
        "fig = plt.figure(figsize=[12, 4]) \n",
        "axes = fig.subplots(nrows=1, ncols=2)\n",
        "for i, word in enumerate([\"loss\", \"accuracy\"]):\n",
        "    for key, vals in history.history.items():\n",
        "        if word in key:\n",
        "            axes[i].plot(vals, label=key)\n",
        "for ax in axes:\n",
        "    ax.grid(), ax.legend(), ax.set_xlabel(\"epoch\")"
      ],
      "execution_count": 85,
      "outputs": [
        {
          "output_type": "display_data",
          "data": {
            "image/png": "[encoded data removed]",
            "text/plain": [
              "<Figure size 864x288 with 2 Axes>"
            ]
          },
          "metadata": {
            "tags": [],
            "needs_background": "light"
          }
        }
      ]
    },
    {
      "cell_type": "markdown",
      "metadata": {
        "id": "PjJKN4PHJvhk"
      },
      "source": [
        "# Save model and testset\n"
      ]
    },
    {
      "cell_type": "markdown",
      "metadata": {
        "id": "5D23-to7G3HW"
      },
      "source": [
        "## Mount google drive"
      ]
    },
    {
      "cell_type": "code",
      "metadata": {
        "id": "44td_VNCHIp0",
        "colab": {
          "base_uri": "https://localhost:8080/",
          "height": 35
        },
        "outputId": "df64530b-e932-466f-b46a-5d047cf3e116"
      },
      "source": [
        "mount_dir = os.path.join(os.getcwd(), \"drive\")\n",
        "mount_dir"
      ],
      "execution_count": 74,
      "outputs": [
        {
          "output_type": "execute_result",
          "data": {
            "application/vnd.google.colaboratory.intrinsic+json": {
              "type": "string"
            },
            "text/plain": [
              "'/content/drive'"
            ]
          },
          "metadata": {
            "tags": []
          },
          "execution_count": 74
        }
      ]
    },
    {
      "cell_type": "code",
      "metadata": {
        "id": "_SOHBBtZG6Ul",
        "colab": {
          "base_uri": "https://localhost:8080/"
        },
        "outputId": "5456d674-54ef-4371-8c7c-a5f117496458"
      },
      "source": [
        "from google.colab import drive\n",
        "drive.mount(mount_dir)"
      ],
      "execution_count": 75,
      "outputs": [
        {
          "output_type": "stream",
          "text": [
            "Drive already mounted at /content/drive; to attempt to forcibly remount, call drive.mount(\"/content/drive\", force_remount=True).\n"
          ],
          "name": "stdout"
        }
      ]
    },
    {
      "cell_type": "markdown",
      "metadata": {
        "id": "4R-fkWQ7HahD"
      },
      "source": [
        "## model.save()\n"
      ]
    },
    {
      "cell_type": "code",
      "metadata": {
        "id": "u7DGgId6He21",
        "colab": {
          "base_uri": "https://localhost:8080/",
          "height": 35
        },
        "outputId": "a4c49fe8-c830-4c2d-815e-8c7c276f337f"
      },
      "source": [
        "save_dir = os.path.join(mount_dir, \"My Drive\", \"Colab Notebooks\", \"models\")\n",
        "save_dir"
      ],
      "execution_count": 76,
      "outputs": [
        {
          "output_type": "execute_result",
          "data": {
            "application/vnd.google.colaboratory.intrinsic+json": {
              "type": "string"
            },
            "text/plain": [
              "'/content/drive/My Drive/Colab Notebooks/models'"
            ]
          },
          "metadata": {
            "tags": []
          },
          "execution_count": 76
        }
      ]
    },
    {
      "cell_type": "code",
      "metadata": {
        "id": "qEmaH7azHexz"
      },
      "source": [
        "fn = \"fMNIST_CNN_v5_cmasch\"\n",
        "model.save(os.path.join(save_dir, fn + \".h5\"))"
      ],
      "execution_count": 77,
      "outputs": []
    },
    {
      "cell_type": "markdown",
      "metadata": {
        "id": "NhEbQfxOSGla"
      },
      "source": [
        "## Save validation and test data along with the model"
      ]
    },
    {
      "cell_type": "code",
      "metadata": {
        "id": "nFLHu8raSmCS"
      },
      "source": [
        "class_names = [\"T-shirt\", \"Trouser\", \"Pullover\", \"Dress\", \"Coat\",\n",
        "               \"Sandal\", \"Shirt\", \"Sneaker\", \"Bag\", \"Ankle boot\"]"
      ],
      "execution_count": 78,
      "outputs": []
    },
    {
      "cell_type": "code",
      "metadata": {
        "id": "EHXemS0IhA2t"
      },
      "source": [
        "pickle_out(os.path.join(save_dir, fn + \"_data.pkl\"), locals(),\n",
        "           X_valid, y_valid, X_test, y_test, class_names)"
      ],
      "execution_count": 79,
      "outputs": []
    },
    {
      "cell_type": "markdown",
      "metadata": {
        "id": "xX37-Acdp_Rp"
      },
      "source": [
        "# Evaluate"
      ]
    },
    {
      "cell_type": "code",
      "metadata": {
        "id": "WyLk9X2zo6u8",
        "colab": {
          "base_uri": "https://localhost:8080/"
        },
        "outputId": "e113be0f-3b5e-4c6a-a68c-93e075c577f7"
      },
      "source": [
        "model.evaluate(X_valid, y_valid)"
      ],
      "execution_count": 80,
      "outputs": [
        {
          "output_type": "stream",
          "text": [
            "157/157 [==============================] - 0s 3ms/step - loss: 0.1950 - accuracy: 0.9306\n"
          ],
          "name": "stdout"
        },
        {
          "output_type": "execute_result",
          "data": {
            "text/plain": [
              "[0.19502706825733185, 0.9305999875068665]"
            ]
          },
          "metadata": {
            "tags": []
          },
          "execution_count": 80
        }
      ]
    }
  ]
}