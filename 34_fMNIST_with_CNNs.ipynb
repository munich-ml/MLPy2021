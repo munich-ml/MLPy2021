{
  "nbformat": 4,
  "nbformat_minor": 0,
  "metadata": {
    "kernelspec": {
      "name": "python3",
      "display_name": "Python 3"
    },
    "language_info": {
      "codemirror_mode": {
        "name": "ipython",
        "version": 3
      },
      "file_extension": ".py",
      "mimetype": "text/x-python",
      "name": "python",
      "nbconvert_exporter": "python",
      "pygments_lexer": "ipython3",
      "version": "3.7.3"
    },
    "nav_menu": {},
    "toc": {
      "navigate_menu": true,
      "number_sections": true,
      "sideBar": true,
      "threshold": 6,
      "toc_cell": false,
      "toc_section_display": "block",
      "toc_window_display": false
    },
    "colab": {
      "name": "34_fMNIST_with_CNNs.ipynb",
      "provenance": [],
      "collapsed_sections": [],
      "toc_visible": true,
      "include_colab_link": true
    },
    "accelerator": "GPU"
  },
  "cells": [
    {
      "cell_type": "markdown",
      "metadata": {
        "id": "view-in-github",
        "colab_type": "text"
      },
      "source": [
        "<a href=\"https://colab.research.google.com/github/munich-ml/MLPy2021/blob/main/34_fMNIST_with_CNNs.ipynb\" target=\"_parent\"><img src=\"https://colab.research.google.com/assets/colab-badge.svg\" alt=\"Open In Colab\"/></a>"
      ]
    },
    {
      "cell_type": "markdown",
      "metadata": {
        "id": "e2piuI4C-TVp"
      },
      "source": [
        "# Intro"
      ]
    },
    {
      "cell_type": "markdown",
      "metadata": {
        "id": "C9_a-EzZ6x8B"
      },
      "source": [
        "## References\n",
        "Resources used to create this notebook:\n",
        "- [scikit-learn website](https://scikit-learn.org)\n",
        "- [Matplotlib website](https://matplotlib.org/)\n",
        "- [Wikipedia](https://en.wikipedia.org/wiki/Main_Page)\n",
        "- Hands-on Machine Learning with Scikit-learn, Keras & TensorFlow, Aurelien Geron, [Book on Amazon](https://www.amazon.de/Aur%C3%A9lien-G%C3%A9ron/dp/1492032646/ref=sr_1_3?__mk_de_DE=%C3%85M%C3%85%C5%BD%C3%95%C3%91&dchild=1&keywords=Hands-on+Machine+Learning+with+Scikit-learn%2C+Keras+%26+TensorFlow%2C+Aurelien+Geron%2C&qid=1589875241&sr=8-3)\n",
        "- Introduction to Machine Learning with Python, Andreas Mueller, [Book on Amazon](https://www.amazon.de/Introduction-Machine-Learning-Python-Scientists/dp/1449369413)\n"
      ]
    },
    {
      "cell_type": "markdown",
      "metadata": {
        "id": "mtNoZjxCnoZR"
      },
      "source": [
        "## Setup"
      ]
    },
    {
      "cell_type": "code",
      "metadata": {
        "id": "QwkdebISnoZT",
        "colab": {
          "base_uri": "https://localhost:8080/"
        },
        "outputId": "2d06defb-d6a4-400e-acab-b6f2ecd81a9a"
      },
      "source": [
        "# Python ≥3.5 is required\n",
        "import sys\n",
        "assert sys.version_info >= (3, 5)\n",
        "\n",
        "# Common imports\n",
        "import os\n",
        "import numpy as np\n",
        "import pandas as pd\n",
        "\n",
        "# to make this notebook's output stable across runs\n",
        "np.random.seed(42)\n",
        "\n",
        "# Setup matplotlib\n",
        "%matplotlib inline\n",
        "import matplotlib as mpl\n",
        "import matplotlib.pyplot as plt\n",
        "mpl.rc('axes', labelsize=14)\n",
        "mpl.rc('xtick', labelsize=12)\n",
        "mpl.rc('ytick', labelsize=12)\n",
        "\n",
        "# Ignore useless warnings (see SciPy issue #5998)\n",
        "import warnings\n",
        "warnings.filterwarnings(action=\"ignore\", message=\"^internal gelsd\")\n",
        "\n",
        "# TensorFlow ≥2.0 is required\n",
        "import tensorflow as tf\n",
        "from tensorflow import keras\n",
        "assert tf.__version__ >= \"2.0\"\n",
        "\n",
        "in_colab = 'google.colab' in sys.modules   # check if note is executed within Colab\n",
        "\n",
        "# Forces tensorflow version (only in colab)\n",
        "if in_colab:\n",
        "    %tensorflow_version 2.x           \n",
        "\n",
        "# Clone the repository if executed in Google Colab\n",
        "if in_colab:  \n",
        "    if \"MLPy2021\" in os.listdir():\n",
        "        !git -C MLPy2021 pull\n",
        "    else:\n",
        "        !git clone https://github.com/munich-ml/MLPy2021/\n",
        "\n",
        "# lib.helper_funcs.py. The import path depends on Colab or local execution \n",
        "if in_colab:\n",
        "    from MLPy2021.lib.helper_funcs import pickle_out\n",
        "else: \n",
        "    from lib.helper_funcs import pickle_out"
      ],
      "execution_count": 2,
      "outputs": [
        {
          "output_type": "stream",
          "text": [
            "Cloning into 'MLPy2021'...\n",
            "remote: Enumerating objects: 338, done.\u001b[K\n",
            "remote: Counting objects: 100% (338/338), done.\u001b[K\n",
            "remote: Compressing objects: 100% (298/298), done.\u001b[K\n",
            "remote: Total 338 (delta 178), reused 112 (delta 33), pack-reused 0\u001b[K\n",
            "Receiving objects: 100% (338/338), 13.45 MiB | 15.76 MiB/s, done.\n",
            "Resolving deltas: 100% (178/178), done.\n"
          ],
          "name": "stdout"
        }
      ]
    },
    {
      "cell_type": "markdown",
      "metadata": {
        "id": "Lck4IKZA-A7b"
      },
      "source": [
        "# The data"
      ]
    },
    {
      "cell_type": "markdown",
      "metadata": {
        "id": "NfMqmB2nnoao"
      },
      "source": [
        "## Load the data\n"
      ]
    },
    {
      "cell_type": "code",
      "metadata": {
        "id": "cfCPqOGunoap",
        "colab": {
          "base_uri": "https://localhost:8080/"
        },
        "outputId": "5c6adf31-2f83-49e2-b01d-55cb091cc10d"
      },
      "source": [
        "(X_train_full, y_train_full), (X_test, y_test) = keras.datasets.fashion_mnist.load_data()"
      ],
      "execution_count": 3,
      "outputs": [
        {
          "output_type": "stream",
          "text": [
            "Downloading data from https://storage.googleapis.com/tensorflow/tf-keras-datasets/train-labels-idx1-ubyte.gz\n",
            "32768/29515 [=================================] - 0s 0us/step\n",
            "Downloading data from https://storage.googleapis.com/tensorflow/tf-keras-datasets/train-images-idx3-ubyte.gz\n",
            "26427392/26421880 [==============================] - 0s 0us/step\n",
            "Downloading data from https://storage.googleapis.com/tensorflow/tf-keras-datasets/t10k-labels-idx1-ubyte.gz\n",
            "8192/5148 [===============================================] - 0s 0us/step\n",
            "Downloading data from https://storage.googleapis.com/tensorflow/tf-keras-datasets/t10k-images-idx3-ubyte.gz\n",
            "4423680/4422102 [==============================] - 0s 0us/step\n"
          ],
          "name": "stdout"
        }
      ]
    },
    {
      "cell_type": "markdown",
      "metadata": {
        "id": "x5E9nQwJ-F_r"
      },
      "source": [
        "## Scale the data"
      ]
    },
    {
      "cell_type": "code",
      "metadata": {
        "id": "jf9aIV3P_M53"
      },
      "source": [
        "from sklearn.base import TransformerMixin,BaseEstimator\n",
        "\n",
        "class MaxScaler(BaseEstimator,TransformerMixin):\n",
        "\n",
        "    def fit(self, X, y=None):\n",
        "        self._scale = X.max()\n",
        "        return self\n",
        "\n",
        "    def transform(self, X):\n",
        "        return X / self._scale"
      ],
      "execution_count": 4,
      "outputs": []
    },
    {
      "cell_type": "code",
      "metadata": {
        "id": "oQ1qe7-a-eb3"
      },
      "source": [
        "scaler = MaxScaler()\n",
        "X_train_full = scaler.fit_transform(X_train_full)\n",
        "X_test = scaler.transform(X_test)"
      ],
      "execution_count": 5,
      "outputs": []
    },
    {
      "cell_type": "markdown",
      "metadata": {
        "id": "oabLmyFV-LlD"
      },
      "source": [
        "## Split the data"
      ]
    },
    {
      "cell_type": "code",
      "metadata": {
        "id": "9iDBBg0B_My6"
      },
      "source": [
        "from sklearn.model_selection import train_test_split\n",
        "X_train, X_valid, y_train, y_valid = train_test_split(X_train_full, y_train_full, \n",
        "                                                      test_size=5000)"
      ],
      "execution_count": 6,
      "outputs": []
    },
    {
      "cell_type": "code",
      "metadata": {
        "id": "sS3L9SuU_Mt-"
      },
      "source": [
        "X_train = X_train[..., np.newaxis]\n",
        "X_valid = X_valid[..., np.newaxis]\n",
        "X_test = X_test[..., np.newaxis]"
      ],
      "execution_count": 7,
      "outputs": []
    },
    {
      "cell_type": "markdown",
      "metadata": {
        "id": "xvZ_45eQJUKz"
      },
      "source": [
        "# The model\n"
      ]
    },
    {
      "cell_type": "markdown",
      "metadata": {
        "id": "Ggm1yemX93hB"
      },
      "source": [
        "## Create the model"
      ]
    },
    {
      "cell_type": "code",
      "metadata": {
        "id": "65Fw9e1Bnoar"
      },
      "source": [
        "# Reuse model from ageron: https://github.com/ageron/handson-ml2\n",
        "def create_model_ageron():\n",
        "    layers = [\n",
        "        keras.layers.Conv2D(filters=64, kernel_size=7, activation='relu', padding=\"same\", input_shape=[28, 28, 1]),\n",
        "        keras.layers.MaxPooling2D(pool_size=2),\n",
        "        keras.layers.Conv2D(filters=128, kernel_size=3, activation='relu', padding=\"same\"),\n",
        "        keras.layers.Conv2D(filters=128, kernel_size=3, activation='relu', padding=\"same\"),\n",
        "        keras.layers.MaxPooling2D(pool_size=2),\n",
        "        keras.layers.Conv2D(filters=256, kernel_size=3, activation='relu', padding=\"same\"),\n",
        "        keras.layers.Conv2D(filters=256, kernel_size=3, activation='relu', padding=\"same\"),\n",
        "        keras.layers.MaxPooling2D(pool_size=2),\n",
        "        keras.layers.Flatten(),\n",
        "        keras.layers.Dense(units=128, activation='relu'),\n",
        "        keras.layers.Dropout(0.5),\n",
        "        keras.layers.Dense(units=64, activation='relu'),\n",
        "        keras.layers.Dropout(0.5),\n",
        "        keras.layers.Dense(units=10, activation='softmax')]\n",
        "    return keras.models.Sequential(layers)"
      ],
      "execution_count": 8,
      "outputs": []
    },
    {
      "cell_type": "code",
      "metadata": {
        "id": "xTQ1Cep2gjk5"
      },
      "source": [
        "# Reuse model from cmasch: https://github.com/cmasch/zalando-fashion-mnist/\n",
        "def create_model_cmasch():\n",
        "    layers = [\n",
        "        keras.layers.InputLayer(input_shape=[28, 28, 1]),\n",
        "        keras.layers.BatchNormalization(),\n",
        "        keras.layers.Conv2D(filters=64, kernel_size=4, activation=\"relu\", padding=\"same\"),\n",
        "        keras.layers.MaxPooling2D(pool_size=2),\n",
        "        keras.layers.Dropout(0.1),\n",
        "        keras.layers.Conv2D(filters=64, kernel_size=4, activation=\"relu\", padding=\"same\"),\n",
        "        #keras.layers.Conv2D(filters=128, kernel_size=4, activation=\"relu\", padding=\"same\"),\n",
        "        keras.layers.MaxPooling2D(pool_size=2),\n",
        "        keras.layers.Dropout(0.3),\n",
        "        keras.layers.Flatten(),\n",
        "        keras.layers.Dense(units=256, activation=\"relu\"),\n",
        "        #keras.layers.Dense(units=128, activation=\"relu\"),\n",
        "        keras.layers.Dropout(0.5),\n",
        "        keras.layers.Dense(units=256, activation=\"relu\"),\n",
        "        #keras.layers.Dense(units=128, activation=\"relu\"),\n",
        "        keras.layers.BatchNormalization(),\n",
        "        keras.layers.Dense(units=10, activation='softmax')]\n",
        "    return keras.models.Sequential(layers)"
      ],
      "execution_count": 9,
      "outputs": []
    },
    {
      "cell_type": "code",
      "metadata": {
        "id": "rdJ3VRjIIk4o",
        "colab": {
          "base_uri": "https://localhost:8080/"
        },
        "outputId": "630ae282-8d7f-46c3-f446-dc70ab8b1ed0"
      },
      "source": [
        "model = create_model_cmasch()\n",
        "#model = create_model_ageron()\n",
        "model.summary()"
      ],
      "execution_count": 10,
      "outputs": [
        {
          "output_type": "stream",
          "text": [
            "Model: \"sequential\"\n",
            "_________________________________________________________________\n",
            "Layer (type)                 Output Shape              Param #   \n",
            "=================================================================\n",
            "batch_normalization (BatchNo (None, 28, 28, 1)         4         \n",
            "_________________________________________________________________\n",
            "conv2d (Conv2D)              (None, 28, 28, 64)        1088      \n",
            "_________________________________________________________________\n",
            "max_pooling2d (MaxPooling2D) (None, 14, 14, 64)        0         \n",
            "_________________________________________________________________\n",
            "dropout (Dropout)            (None, 14, 14, 64)        0         \n",
            "_________________________________________________________________\n",
            "conv2d_1 (Conv2D)            (None, 14, 14, 64)        65600     \n",
            "_________________________________________________________________\n",
            "max_pooling2d_1 (MaxPooling2 (None, 7, 7, 64)          0         \n",
            "_________________________________________________________________\n",
            "dropout_1 (Dropout)          (None, 7, 7, 64)          0         \n",
            "_________________________________________________________________\n",
            "flatten (Flatten)            (None, 3136)              0         \n",
            "_________________________________________________________________\n",
            "dense (Dense)                (None, 256)               803072    \n",
            "_________________________________________________________________\n",
            "dropout_2 (Dropout)          (None, 256)               0         \n",
            "_________________________________________________________________\n",
            "dense_1 (Dense)              (None, 256)               65792     \n",
            "_________________________________________________________________\n",
            "batch_normalization_1 (Batch (None, 256)               1024      \n",
            "_________________________________________________________________\n",
            "dense_2 (Dense)              (None, 10)                2570      \n",
            "=================================================================\n",
            "Total params: 939,150\n",
            "Trainable params: 938,636\n",
            "Non-trainable params: 514\n",
            "_________________________________________________________________\n"
          ],
          "name": "stdout"
        }
      ]
    },
    {
      "cell_type": "markdown",
      "metadata": {
        "id": "E7GFEMdXJdEt"
      },
      "source": [
        "## Compile the model"
      ]
    },
    {
      "cell_type": "code",
      "metadata": {
        "id": "2hwSbjbInoat"
      },
      "source": [
        "model.compile(loss=\"sparse_categorical_crossentropy\", \n",
        "              optimizer=\"nadam\", metrics=[\"accuracy\"])"
      ],
      "execution_count": 11,
      "outputs": []
    },
    {
      "cell_type": "markdown",
      "metadata": {
        "id": "tRAroi9sTvkR"
      },
      "source": [
        "The `learning_rate` is set within the optimizer. Here, the default is taken:"
      ]
    },
    {
      "cell_type": "code",
      "metadata": {
        "id": "YRgJQzMvR-ES",
        "colab": {
          "base_uri": "https://localhost:8080/"
        },
        "outputId": "93a82bf9-7ea2-40dc-a999-440bddff1e57"
      },
      "source": [
        "model.optimizer.learning_rate"
      ],
      "execution_count": 12,
      "outputs": [
        {
          "output_type": "execute_result",
          "data": {
            "text/plain": [
              "<tf.Variable 'learning_rate:0' shape=() dtype=float32, numpy=0.001>"
            ]
          },
          "metadata": {
            "tags": []
          },
          "execution_count": 12
        }
      ]
    },
    {
      "cell_type": "markdown",
      "metadata": {
        "id": "6AF_1GZzJpPn"
      },
      "source": [
        "## Train the model"
      ]
    },
    {
      "cell_type": "code",
      "metadata": {
        "id": "KXHv5yHDNIB7",
        "colab": {
          "base_uri": "https://localhost:8080/"
        },
        "outputId": "73fefb31-3f20-423a-ee00-baec66c13854"
      },
      "source": [
        "X_train.shape"
      ],
      "execution_count": 13,
      "outputs": [
        {
          "output_type": "execute_result",
          "data": {
            "text/plain": [
              "(55000, 28, 28, 1)"
            ]
          },
          "metadata": {
            "tags": []
          },
          "execution_count": 13
        }
      ]
    },
    {
      "cell_type": "code",
      "metadata": {
        "id": "kOPOUe40NMWq",
        "colab": {
          "base_uri": "https://localhost:8080/"
        },
        "outputId": "337e604f-ac48-43f7-8bcd-5ab166e9e409"
      },
      "source": [
        "X_valid.shape"
      ],
      "execution_count": 14,
      "outputs": [
        {
          "output_type": "execute_result",
          "data": {
            "text/plain": [
              "(5000, 28, 28, 1)"
            ]
          },
          "metadata": {
            "tags": []
          },
          "execution_count": 14
        }
      ]
    },
    {
      "cell_type": "code",
      "metadata": {
        "id": "qp-1IN6Oo6xK",
        "colab": {
          "base_uri": "https://localhost:8080/"
        },
        "outputId": "e32020e2-0b4b-4024-e641-565d35b6b692"
      },
      "source": [
        "history = model.fit(X_train, y_train, epochs=20, validation_data=(X_valid, y_valid))"
      ],
      "execution_count": 15,
      "outputs": [
        {
          "output_type": "stream",
          "text": [
            "Epoch 1/20\n",
            "1719/1719 [==============================] - 43s 7ms/step - loss: 0.5314 - accuracy: 0.8086 - val_loss: 0.3151 - val_accuracy: 0.8832\n",
            "Epoch 2/20\n",
            "1719/1719 [==============================] - 11s 6ms/step - loss: 0.3521 - accuracy: 0.8728 - val_loss: 0.2682 - val_accuracy: 0.9030\n",
            "Epoch 3/20\n",
            "1719/1719 [==============================] - 11s 6ms/step - loss: 0.3045 - accuracy: 0.8901 - val_loss: 0.2436 - val_accuracy: 0.9082\n",
            "Epoch 4/20\n",
            "1719/1719 [==============================] - 11s 6ms/step - loss: 0.2799 - accuracy: 0.8989 - val_loss: 0.2482 - val_accuracy: 0.9070\n",
            "Epoch 5/20\n",
            "1719/1719 [==============================] - 11s 6ms/step - loss: 0.2620 - accuracy: 0.9050 - val_loss: 0.2326 - val_accuracy: 0.9120\n",
            "Epoch 6/20\n",
            "1719/1719 [==============================] - 11s 6ms/step - loss: 0.2490 - accuracy: 0.9102 - val_loss: 0.2233 - val_accuracy: 0.9178\n",
            "Epoch 7/20\n",
            "1719/1719 [==============================] - 11s 6ms/step - loss: 0.2348 - accuracy: 0.9161 - val_loss: 0.2358 - val_accuracy: 0.9164\n",
            "Epoch 8/20\n",
            "1719/1719 [==============================] - 11s 6ms/step - loss: 0.2268 - accuracy: 0.9168 - val_loss: 0.2214 - val_accuracy: 0.9184\n",
            "Epoch 9/20\n",
            "1719/1719 [==============================] - 11s 6ms/step - loss: 0.2131 - accuracy: 0.9221 - val_loss: 0.2025 - val_accuracy: 0.9258\n",
            "Epoch 10/20\n",
            "1719/1719 [==============================] - 11s 6ms/step - loss: 0.2067 - accuracy: 0.9253 - val_loss: 0.2331 - val_accuracy: 0.9136\n",
            "Epoch 11/20\n",
            "1719/1719 [==============================] - 11s 6ms/step - loss: 0.1989 - accuracy: 0.9272 - val_loss: 0.2296 - val_accuracy: 0.9154\n",
            "Epoch 12/20\n",
            "1719/1719 [==============================] - 11s 6ms/step - loss: 0.1931 - accuracy: 0.9301 - val_loss: 0.1964 - val_accuracy: 0.9264\n",
            "Epoch 13/20\n",
            "1719/1719 [==============================] - 11s 6ms/step - loss: 0.1892 - accuracy: 0.9301 - val_loss: 0.2050 - val_accuracy: 0.9236\n",
            "Epoch 14/20\n",
            "1719/1719 [==============================] - 11s 6ms/step - loss: 0.1804 - accuracy: 0.9348 - val_loss: 0.1958 - val_accuracy: 0.9272\n",
            "Epoch 15/20\n",
            "1719/1719 [==============================] - 11s 6ms/step - loss: 0.1743 - accuracy: 0.9356 - val_loss: 0.2070 - val_accuracy: 0.9232\n",
            "Epoch 16/20\n",
            "1719/1719 [==============================] - 11s 6ms/step - loss: 0.1727 - accuracy: 0.9368 - val_loss: 0.1941 - val_accuracy: 0.9258\n",
            "Epoch 17/20\n",
            "1719/1719 [==============================] - 11s 6ms/step - loss: 0.1673 - accuracy: 0.9379 - val_loss: 0.1863 - val_accuracy: 0.9332\n",
            "Epoch 18/20\n",
            "1719/1719 [==============================] - 11s 6ms/step - loss: 0.1612 - accuracy: 0.9419 - val_loss: 0.2100 - val_accuracy: 0.9258\n",
            "Epoch 19/20\n",
            "1719/1719 [==============================] - 11s 6ms/step - loss: 0.1569 - accuracy: 0.9417 - val_loss: 0.2015 - val_accuracy: 0.9258\n",
            "Epoch 20/20\n",
            "1719/1719 [==============================] - 11s 6ms/step - loss: 0.1566 - accuracy: 0.9428 - val_loss: 0.1868 - val_accuracy: 0.9308\n"
          ],
          "name": "stdout"
        }
      ]
    },
    {
      "cell_type": "code",
      "metadata": {
        "id": "o_daQJMMGHSb",
        "outputId": "18491fe7-94e5-4e6a-cbe1-09b1fe41dfe2",
        "colab": {
          "base_uri": "https://localhost:8080/",
          "height": 297
        }
      },
      "source": [
        "fig = plt.figure(figsize=[11, 4]) \n",
        "axes = fig.subplots(nrows=1, ncols=2)\n",
        "for i, word in enumerate([\"loss\", \"accuracy\"]):\n",
        "    for key, vals in history.history.items():\n",
        "        if word in key:\n",
        "            axes[i].plot(vals, label=key)\n",
        "for ax in axes:\n",
        "    ax.grid(), ax.legend()\n",
        "fig.tight_layout()"
      ],
      "execution_count": 16,
      "outputs": [
        {
          "output_type": "display_data",
          "data": {
            "image/png": "[encoded data removed]",
            "text/plain": [
              "<Figure size 792x288 with 2 Axes>"
            ]
          },
          "metadata": {
            "tags": [],
            "needs_background": "light"
          }
        }
      ]
    },
    {
      "cell_type": "markdown",
      "metadata": {
        "id": "PjJKN4PHJvhk"
      },
      "source": [
        "# Save model and testset\n"
      ]
    },
    {
      "cell_type": "markdown",
      "metadata": {
        "id": "5D23-to7G3HW"
      },
      "source": [
        "## Mount google drive"
      ]
    },
    {
      "cell_type": "code",
      "metadata": {
        "id": "44td_VNCHIp0",
        "colab": {
          "base_uri": "https://localhost:8080/",
          "height": 35
        },
        "outputId": "a05a1a73-060f-4272-993a-714e2870a23e"
      },
      "source": [
        "mount_dir = os.path.join(os.getcwd(), \"drive\")\n",
        "mount_dir"
      ],
      "execution_count": 17,
      "outputs": [
        {
          "output_type": "execute_result",
          "data": {
            "application/vnd.google.colaboratory.intrinsic+json": {
              "type": "string"
            },
            "text/plain": [
              "'/content/drive'"
            ]
          },
          "metadata": {
            "tags": []
          },
          "execution_count": 17
        }
      ]
    },
    {
      "cell_type": "code",
      "metadata": {
        "id": "_SOHBBtZG6Ul",
        "colab": {
          "base_uri": "https://localhost:8080/"
        },
        "outputId": "65745a49-d0e7-489e-972a-7423f4a9392a"
      },
      "source": [
        "from google.colab import drive\n",
        "drive.mount(mount_dir)"
      ],
      "execution_count": 18,
      "outputs": [
        {
          "output_type": "stream",
          "text": [
            "Mounted at /content/drive\n"
          ],
          "name": "stdout"
        }
      ]
    },
    {
      "cell_type": "markdown",
      "metadata": {
        "id": "4R-fkWQ7HahD"
      },
      "source": [
        "## model.save()\n"
      ]
    },
    {
      "cell_type": "code",
      "metadata": {
        "id": "u7DGgId6He21",
        "colab": {
          "base_uri": "https://localhost:8080/",
          "height": 35
        },
        "outputId": "303eabcc-9818-407b-c83c-9cac1868c0fc"
      },
      "source": [
        "save_dir = os.path.join(mount_dir, \"My Drive\", \"Colab Notebooks\", \"models\")\n",
        "save_dir"
      ],
      "execution_count": 19,
      "outputs": [
        {
          "output_type": "execute_result",
          "data": {
            "application/vnd.google.colaboratory.intrinsic+json": {
              "type": "string"
            },
            "text/plain": [
              "'/content/drive/My Drive/Colab Notebooks/models'"
            ]
          },
          "metadata": {
            "tags": []
          },
          "execution_count": 19
        }
      ]
    },
    {
      "cell_type": "code",
      "metadata": {
        "id": "qEmaH7azHexz"
      },
      "source": [
        "fn = \"fMNIST_CNN_v6_cmasch\"\n",
        "model.save(os.path.join(save_dir, fn + \".h5\"))"
      ],
      "execution_count": 20,
      "outputs": []
    },
    {
      "cell_type": "markdown",
      "metadata": {
        "id": "NhEbQfxOSGla"
      },
      "source": [
        "### Save validation and test data along with the model"
      ]
    },
    {
      "cell_type": "code",
      "metadata": {
        "id": "nFLHu8raSmCS"
      },
      "source": [
        "class_names = [\"T-shirt\", \"Trouser\", \"Pullover\", \"Dress\", \"Coat\",\n",
        "               \"Sandal\", \"Shirt\", \"Sneaker\", \"Bag\", \"Ankle boot\"]"
      ],
      "execution_count": 21,
      "outputs": []
    },
    {
      "cell_type": "code",
      "metadata": {
        "id": "EHXemS0IhA2t"
      },
      "source": [
        "pickle_out(os.path.join(save_dir, fn + \"_data.pkl\"), locals(),\n",
        "           X_valid, y_valid, X_test, y_test, class_names)"
      ],
      "execution_count": 22,
      "outputs": []
    },
    {
      "cell_type": "markdown",
      "metadata": {
        "id": "xX37-Acdp_Rp"
      },
      "source": [
        "# Evaluate"
      ]
    },
    {
      "cell_type": "code",
      "metadata": {
        "id": "WyLk9X2zo6u8",
        "colab": {
          "base_uri": "https://localhost:8080/"
        },
        "outputId": "9e5f068e-3cfa-4696-e79c-c5794b17f74c"
      },
      "source": [
        "model.evaluate(X_valid, y_valid)"
      ],
      "execution_count": 23,
      "outputs": [
        {
          "output_type": "stream",
          "text": [
            "157/157 [==============================] - 1s 3ms/step - loss: 0.1868 - accuracy: 0.9308\n"
          ],
          "name": "stdout"
        },
        {
          "output_type": "execute_result",
          "data": {
            "text/plain": [
              "[0.18677780032157898, 0.9308000206947327]"
            ]
          },
          "metadata": {
            "tags": []
          },
          "execution_count": 23
        }
      ]
    }
  ]
}