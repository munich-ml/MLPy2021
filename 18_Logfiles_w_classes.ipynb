{
  "nbformat": 4,
  "nbformat_minor": 0,
  "metadata": {
    "colab": {
      "name": "18_Logfiles_w_classes.ipynb",
      "provenance": [],
      "collapsed_sections": [],
      "toc_visible": true,
      "include_colab_link": true
    },
    "kernelspec": {
      "name": "python376jvsc74a57bd0b3ba2566441a7c06988d0923437866b63cedc61552a5af99d1f4fb67d367b25f",
      "display_name": "Python 3.7.6 64-bit ('base': conda)"
    }
  },
  "cells": [
    {
      "cell_type": "markdown",
      "metadata": {
        "id": "view-in-github",
        "colab_type": "text"
      },
      "source": [
        "<a href=\"https://colab.research.google.com/github/munich-ml/MLPy2021/blob/main/18_Logfiles_w_classes.ipynb\" target=\"_parent\"><img src=\"https://colab.research.google.com/assets/colab-badge.svg\" alt=\"Open In Colab\"/></a>"
      ]
    },
    {
      "cell_type": "markdown",
      "metadata": {
        "id": "827kwTxX0tuc"
      },
      "source": [
        "# Logfile challenge"
      ]
    },
    {
      "cell_type": "markdown",
      "metadata": {
        "id": "z12MmBNm4fXJ"
      },
      "source": [
        "## setup"
      ]
    },
    {
      "cell_type": "markdown",
      "metadata": {
        "id": "Wu8QLzNa0zNJ"
      },
      "source": [
        "The setup depends on whether the notebook is executed in **Google Colab** or **locally in Jupyter**.\n",
        "\n",
        "- Clone GitHub project `MLPy2021` if executed in Colab\n",
        "- import `parse_logfile_string` from `helper_funcs`\n",
        "- open file `logfile.csv` and store content into variable `s`\n"
      ]
    },
    {
      "cell_type": "code",
      "metadata": {
        "id": "7qFfDsKHO1DP",
        "colab": {
          "base_uri": "https://localhost:8080/"
        },
        "outputId": "47cb261f-c346-4806-82c4-1294238a3b1d"
      },
      "source": [
        "import os, sys\n",
        "import numpy as np\n",
        "import pandas as pd\n",
        "import matplotlib.pyplot as plt\n",
        "\n",
        "in_colab = 'google.colab' in sys.modules   # check if note is executed within Colab\n",
        "\n",
        "# Clone the repository if executed in Google Colab\n",
        "if in_colab:  \n",
        "    if \"MLPy2021\" in os.listdir():\n",
        "        !git -C MLPy2021 pull\n",
        "    else:\n",
        "        !git clone https://github.com/munich-ml/MLPy2021/\n",
        "\n",
        "# The function `parse_logfile_string` from 10_Logfile_challenge.ipynb has been moved \n",
        "# lib.helper_funcs.py. The import path depends on Colab or local execution \n",
        "if in_colab:\n",
        "    from MLPy2021.lib.helper_funcs import parse_logfile_string\n",
        "else:\n",
        "    from lib.helper_funcs import parse_logfile_string\n",
        "\n",
        "# Reading the logfile.csv content into the <st> variable s\n",
        "# The import path depends on Colab or local execution \n",
        "if in_colab:\n",
        "    filename = os.path.join(\"MLPy2021\", \"datasets\", \"logfile.csv\")\n",
        "else:\n",
        "    filename = os.path.join(\"datasets\", \"logfile.csv\")\n",
        "\n",
        "with open(filename, \"r\") as file:\n",
        "    s = file.read()\n",
        "\n",
        "    "
      ],
      "execution_count": 1,
      "outputs": [
        {
          "output_type": "stream",
          "text": [
            "Already up to date.\n"
          ],
          "name": "stdout"
        }
      ]
    },
    {
      "cell_type": "markdown",
      "metadata": {
        "id": "7SzNLgBYD-ht"
      },
      "source": [
        "## Reuse functions from **Pandas** session\n",
        "\n"
      ]
    },
    {
      "cell_type": "code",
      "metadata": {
        "id": "6cniKzzYslbu"
      },
      "source": [
        "def parse_logfile_string_to_pandas(s):\n",
        "    \"\"\"\n",
        "    Wraps 'parse_logfile_string' function and converts the \"data\" list of lists to a Pandas DataFrame\n",
        "    \"\"\"\n",
        "    log = parse_logfile_string(s)\n",
        "    df = pd.DataFrame(np.array(log[\"data\"]), \n",
        "                      columns=log[\"names\"])\n",
        "    return {\"params\": log[\"params\"], \"data\": df}"
      ],
      "execution_count": 2,
      "outputs": []
    },
    {
      "cell_type": "code",
      "metadata": {
        "id": "sRRYxA4it2CP"
      },
      "source": [
        "def apply_calibration(log):\n",
        "    for param, cal_factor in log[\"params\"].items():\n",
        "        if \"calibration factor\" in param:\n",
        "            sig = param.split(\" \")[-1]\n",
        "            log[\"data\"][sig + \"_cal\"] = log[\"data\"][sig] * float(cal_factor)"
      ],
      "execution_count": 3,
      "outputs": []
    },
    {
      "cell_type": "code",
      "metadata": {
        "id": "uDVooCoPwNxn"
      },
      "source": [
        "def plot(log, sig_names):\n",
        "    data = log[\"data\"]\n",
        "    for sig_name in sig_names:        \n",
        "        if sig_name in data.columns:\n",
        "            plt.plot(data[\"x\"], data[sig_name], \"o\", label=sig_name)\n",
        "        else:\n",
        "            print(\"Warning, '{}' is not in 'log['names']'!\".format(sig_name))\n",
        "    plt.grid(), plt.legend(), plt.tight_layout()\n",
        " "
      ],
      "execution_count": 4,
      "outputs": []
    },
    {
      "cell_type": "markdown",
      "metadata": {
        "id": "4BETLxUGq9Z5"
      },
      "source": [
        "## Testing Pandas version"
      ]
    },
    {
      "cell_type": "code",
      "metadata": {
        "id": "F0iTxPOmnFCo",
        "colab": {
          "base_uri": "https://localhost:8080/",
          "height": 137
        },
        "outputId": "ae069723-7b7d-42f1-99d6-ff9f22f7a96b"
      },
      "source": [
        "log_data = parse_logfile_string_to_pandas(s)\n",
        "log_data[\"data\"].head(3)"
      ],
      "execution_count": 5,
      "outputs": [
        {
          "output_type": "execute_result",
          "data": {
            "text/html": [
              "<div>\n",
              "<style scoped>\n",
              "    .dataframe tbody tr th:only-of-type {\n",
              "        vertical-align: middle;\n",
              "    }\n",
              "\n",
              "    .dataframe tbody tr th {\n",
              "        vertical-align: top;\n",
              "    }\n",
              "\n",
              "    .dataframe thead th {\n",
              "        text-align: right;\n",
              "    }\n",
              "</style>\n",
              "<table border=\"1\" class=\"dataframe\">\n",
              "  <thead>\n",
              "    <tr style=\"text-align: right;\">\n",
              "      <th></th>\n",
              "      <th>x</th>\n",
              "      <th>sig0</th>\n",
              "      <th>sig1</th>\n",
              "      <th>sig2</th>\n",
              "    </tr>\n",
              "  </thead>\n",
              "  <tbody>\n",
              "    <tr>\n",
              "      <th>0</th>\n",
              "      <td>5.17</td>\n",
              "      <td>6.40</td>\n",
              "      <td>16.050</td>\n",
              "      <td>10.610</td>\n",
              "    </tr>\n",
              "    <tr>\n",
              "      <th>1</th>\n",
              "      <td>9.47</td>\n",
              "      <td>34.21</td>\n",
              "      <td>5.950</td>\n",
              "      <td>0.293</td>\n",
              "    </tr>\n",
              "    <tr>\n",
              "      <th>2</th>\n",
              "      <td>7.65</td>\n",
              "      <td>21.11</td>\n",
              "      <td>0.366</td>\n",
              "      <td>4.800</td>\n",
              "    </tr>\n",
              "  </tbody>\n",
              "</table>\n",
              "</div>"
            ],
            "text/plain": [
              "      x   sig0    sig1    sig2\n",
              "0  5.17   6.40  16.050  10.610\n",
              "1  9.47  34.21   5.950   0.293\n",
              "2  7.65  21.11   0.366   4.800"
            ]
          },
          "metadata": {
            "tags": []
          },
          "execution_count": 5
        }
      ]
    },
    {
      "cell_type": "code",
      "metadata": {
        "id": "yJCs8SDWt6fW",
        "colab": {
          "base_uri": "https://localhost:8080/",
          "height": 137
        },
        "outputId": "27165b54-c2a5-43a5-f7f6-c653e1033421"
      },
      "source": [
        "apply_calibration(log_data)\n",
        "log_data[\"data\"].head(3)"
      ],
      "execution_count": 6,
      "outputs": [
        {
          "output_type": "execute_result",
          "data": {
            "text/html": [
              "<div>\n",
              "<style scoped>\n",
              "    .dataframe tbody tr th:only-of-type {\n",
              "        vertical-align: middle;\n",
              "    }\n",
              "\n",
              "    .dataframe tbody tr th {\n",
              "        vertical-align: top;\n",
              "    }\n",
              "\n",
              "    .dataframe thead th {\n",
              "        text-align: right;\n",
              "    }\n",
              "</style>\n",
              "<table border=\"1\" class=\"dataframe\">\n",
              "  <thead>\n",
              "    <tr style=\"text-align: right;\">\n",
              "      <th></th>\n",
              "      <th>x</th>\n",
              "      <th>sig0</th>\n",
              "      <th>sig1</th>\n",
              "      <th>sig2</th>\n",
              "      <th>sig0_cal</th>\n",
              "      <th>sig2_cal</th>\n",
              "    </tr>\n",
              "  </thead>\n",
              "  <tbody>\n",
              "    <tr>\n",
              "      <th>0</th>\n",
              "      <td>5.17</td>\n",
              "      <td>6.40</td>\n",
              "      <td>16.050</td>\n",
              "      <td>10.610</td>\n",
              "      <td>3.5200</td>\n",
              "      <td>19.94680</td>\n",
              "    </tr>\n",
              "    <tr>\n",
              "      <th>1</th>\n",
              "      <td>9.47</td>\n",
              "      <td>34.21</td>\n",
              "      <td>5.950</td>\n",
              "      <td>0.293</td>\n",
              "      <td>18.8155</td>\n",
              "      <td>0.55084</td>\n",
              "    </tr>\n",
              "    <tr>\n",
              "      <th>2</th>\n",
              "      <td>7.65</td>\n",
              "      <td>21.11</td>\n",
              "      <td>0.366</td>\n",
              "      <td>4.800</td>\n",
              "      <td>11.6105</td>\n",
              "      <td>9.02400</td>\n",
              "    </tr>\n",
              "  </tbody>\n",
              "</table>\n",
              "</div>"
            ],
            "text/plain": [
              "      x   sig0    sig1    sig2  sig0_cal  sig2_cal\n",
              "0  5.17   6.40  16.050  10.610    3.5200  19.94680\n",
              "1  9.47  34.21   5.950   0.293   18.8155   0.55084\n",
              "2  7.65  21.11   0.366   4.800   11.6105   9.02400"
            ]
          },
          "metadata": {
            "tags": []
          },
          "execution_count": 6
        }
      ]
    },
    {
      "cell_type": "code",
      "metadata": {
        "id": "i8Mh9YZYwylg",
        "colab": {
          "base_uri": "https://localhost:8080/",
          "height": 330
        },
        "outputId": "d26f7f1c-970f-4099-ff9c-c688aad9e842"
      },
      "source": [
        "plot(log_data, sig_names=[\"sig0_cal\", \"sig1_cal\", \"sig1\", \"sig42\", \"sig2_cal\"])"
      ],
      "execution_count": 7,
      "outputs": [
        {
          "output_type": "stream",
          "text": [
            "Warning, 'sig1_cal' is not in 'log['names']'!\n",
            "Warning, 'sig42' is not in 'log['names']'!\n"
          ],
          "name": "stdout"
        },
        {
          "output_type": "display_data",
          "data": {
            "image/png": "[encoded data removed]",
            "text/plain": [
              "<Figure size 432x288 with 1 Axes>"
            ]
          },
          "metadata": {
            "tags": [],
            "needs_background": "light"
          }
        }
      ]
    },
    {
      "cell_type": "markdown",
      "metadata": {
        "id": "LfyMCvh4qM37"
      },
      "source": [
        "ok, the Pandas version works. \n",
        "\n",
        "Next, lets create a **Log `class`**"
      ]
    },
    {
      "cell_type": "markdown",
      "metadata": {
        "id": "hAtXWdpbiVEE"
      },
      "source": [
        "# `Log` class \n"
      ]
    },
    {
      "cell_type": "code",
      "metadata": {
        "id": "aJTTQQuEsCZx"
      },
      "source": [
        "class Log:\n",
        "    \"\"\"\n",
        "    Class handling logfile.csv\n",
        "\n",
        "    Parameter 'filename' of <type 'str'>\n",
        "    \"\"\"\n",
        "    def __init__(self, filename):\n",
        "        self.filename = filename\n",
        "        self._read_and_parse_logfile()\n",
        "\n",
        "    def __repr__(self):\n",
        "        s = 50*\"#\" + \"\\nLog from file '{}'\\n\\nparameters:\".format(self.filename)\n",
        "        for param, value in self.params.items():\n",
        "            s += \"\\n- '{}' = {}\".format(param, value)\n",
        "        s += \"\\n\\ndata tail:\"\n",
        "        s += \"\\n\" + str(self.data.tail(3))\n",
        "        return s + \"\\n\" + 50*\"#\"\n",
        "\n",
        "    def _read_and_parse_logfile(self):\n",
        "        with open(self.filename, \"r\") as file:\n",
        "            s = file.read()\n",
        "        log_dict = parse_logfile_string(s)\n",
        "        self.data = pd.DataFrame(np.array(log_dict[\"data\"]), \n",
        "                                 columns=log_dict[\"names\"])\n",
        "        self.params = log_dict[\"params\"]\n",
        "\n",
        "    def apply_calibration(self):\n",
        "        \"\"\"\n",
        "        If the parameters contain 'calibration factor' values, those are being applied to the 'sig' data\n",
        "        \"\"\"\n",
        "        for param, cal_factor in self.params.items():\n",
        "            if \"calibration factor\" in param:\n",
        "                sig = param.split(\" \")[-1]\n",
        "                self.data[sig + \"_cal\"] = self.data[sig] * float(cal_factor)\n",
        "\n",
        "    def plot(self, sig_names=None):\n",
        "        \"\"\"\n",
        "        plots the 'sig' data over 'x'\n",
        "\n",
        "        optional parameter 'sig_names' of <type 'list'> of <type 'str'>\n",
        "        \"\"\"\n",
        "        if sig_names is None:\n",
        "            sig_names = list(self.data.columns)\n",
        "            sig_names.remove(\"x\")\n",
        "        \n",
        "        for sig_name in sig_names:        \n",
        "            if sig_name in self.data.columns:\n",
        "                plt.plot(self.data[\"x\"], self.data[sig_name], \"o\", label=sig_name)\n",
        "            else:\n",
        "                print(\"Warning, '{}' is not in 'data.columns'!\".format(sig_name))\n",
        "        plt.grid(), plt.legend(), plt.tight_layout()"
      ],
      "execution_count": 8,
      "outputs": []
    },
    {
      "cell_type": "markdown",
      "metadata": {
        "id": "K2T929e-zYiL"
      },
      "source": [
        "## Testting the `Log` class"
      ]
    },
    {
      "cell_type": "code",
      "metadata": {
        "id": "zMdBrLw9ssRu"
      },
      "source": [
        "fn = os.path.join(\"MLPy2021\", \"datasets\", \"logfile.csv\")"
      ],
      "execution_count": 9,
      "outputs": []
    },
    {
      "cell_type": "code",
      "metadata": {
        "id": "8zUO-x9_vc62",
        "colab": {
          "base_uri": "https://localhost:8080/"
        },
        "outputId": "a1c7c412-5479-41da-ba3b-31c380680d48"
      },
      "source": [
        "log = Log(fn)\n",
        "log"
      ],
      "execution_count": 10,
      "outputs": [
        {
          "output_type": "execute_result",
          "data": {
            "text/plain": [
              "##################################################\n",
              "Log from file 'MLPy2021/datasets/logfile.csv'\n",
              "\n",
              "parameters:\n",
              "- 'measurement date' = 2021-04-06\n",
              "- 'measurement time' = 08:00:00\n",
              "- 'calibration factor sig0' = 0.55\n",
              "- 'calibration factor sig2' = 1.88\n",
              "\n",
              "data tail:\n",
              "       x   sig0   sig1   sig2\n",
              "27  3.46  34.25  19.13   8.35\n",
              "28  8.70  35.46   1.46   1.68\n",
              "29  4.29  22.22  19.75  10.11\n",
              "##################################################"
            ]
          },
          "metadata": {
            "tags": []
          },
          "execution_count": 10
        }
      ]
    },
    {
      "cell_type": "code",
      "metadata": {
        "id": "6Cp0-2gNwVDp",
        "colab": {
          "base_uri": "https://localhost:8080/"
        },
        "outputId": "fbdcb0a7-59b9-4a93-ee02-553e6b31249d"
      },
      "source": [
        "log.apply_calibration()\n",
        "log"
      ],
      "execution_count": 11,
      "outputs": [
        {
          "output_type": "execute_result",
          "data": {
            "text/plain": [
              "##################################################\n",
              "Log from file 'MLPy2021/datasets/logfile.csv'\n",
              "\n",
              "parameters:\n",
              "- 'measurement date' = 2021-04-06\n",
              "- 'measurement time' = 08:00:00\n",
              "- 'calibration factor sig0' = 0.55\n",
              "- 'calibration factor sig2' = 1.88\n",
              "\n",
              "data tail:\n",
              "       x   sig0   sig1   sig2  sig0_cal  sig2_cal\n",
              "27  3.46  34.25  19.13   8.35   18.8375   15.6980\n",
              "28  8.70  35.46   1.46   1.68   19.5030    3.1584\n",
              "29  4.29  22.22  19.75  10.11   12.2210   19.0068\n",
              "##################################################"
            ]
          },
          "metadata": {
            "tags": []
          },
          "execution_count": 11
        }
      ]
    },
    {
      "cell_type": "code",
      "metadata": {
        "id": "8Dl5kVhZzncr",
        "colab": {
          "base_uri": "https://localhost:8080/",
          "height": 137
        },
        "outputId": "731b1af6-702a-4af2-f035-aa48cbf8d8a7"
      },
      "source": [
        "log.data.tail(3)"
      ],
      "execution_count": 12,
      "outputs": [
        {
          "output_type": "execute_result",
          "data": {
            "text/html": [
              "<div>\n",
              "<style scoped>\n",
              "    .dataframe tbody tr th:only-of-type {\n",
              "        vertical-align: middle;\n",
              "    }\n",
              "\n",
              "    .dataframe tbody tr th {\n",
              "        vertical-align: top;\n",
              "    }\n",
              "\n",
              "    .dataframe thead th {\n",
              "        text-align: right;\n",
              "    }\n",
              "</style>\n",
              "<table border=\"1\" class=\"dataframe\">\n",
              "  <thead>\n",
              "    <tr style=\"text-align: right;\">\n",
              "      <th></th>\n",
              "      <th>x</th>\n",
              "      <th>sig0</th>\n",
              "      <th>sig1</th>\n",
              "      <th>sig2</th>\n",
              "      <th>sig0_cal</th>\n",
              "      <th>sig2_cal</th>\n",
              "    </tr>\n",
              "  </thead>\n",
              "  <tbody>\n",
              "    <tr>\n",
              "      <th>27</th>\n",
              "      <td>3.46</td>\n",
              "      <td>34.25</td>\n",
              "      <td>19.13</td>\n",
              "      <td>8.35</td>\n",
              "      <td>18.8375</td>\n",
              "      <td>15.6980</td>\n",
              "    </tr>\n",
              "    <tr>\n",
              "      <th>28</th>\n",
              "      <td>8.70</td>\n",
              "      <td>35.46</td>\n",
              "      <td>1.46</td>\n",
              "      <td>1.68</td>\n",
              "      <td>19.5030</td>\n",
              "      <td>3.1584</td>\n",
              "    </tr>\n",
              "    <tr>\n",
              "      <th>29</th>\n",
              "      <td>4.29</td>\n",
              "      <td>22.22</td>\n",
              "      <td>19.75</td>\n",
              "      <td>10.11</td>\n",
              "      <td>12.2210</td>\n",
              "      <td>19.0068</td>\n",
              "    </tr>\n",
              "  </tbody>\n",
              "</table>\n",
              "</div>"
            ],
            "text/plain": [
              "       x   sig0   sig1   sig2  sig0_cal  sig2_cal\n",
              "27  3.46  34.25  19.13   8.35   18.8375   15.6980\n",
              "28  8.70  35.46   1.46   1.68   19.5030    3.1584\n",
              "29  4.29  22.22  19.75  10.11   12.2210   19.0068"
            ]
          },
          "metadata": {
            "tags": []
          },
          "execution_count": 12
        }
      ]
    },
    {
      "cell_type": "code",
      "metadata": {
        "id": "bGslT34Txv4E",
        "colab": {
          "base_uri": "https://localhost:8080/",
          "height": 297
        },
        "outputId": "d6ed21c6-c619-4755-c33a-c9bb3b33c9f4"
      },
      "source": [
        "log.plot()"
      ],
      "execution_count": 13,
      "outputs": [
        {
          "output_type": "display_data",
          "data": {
            "image/png": "[encoded data removed]",
            "text/plain": [
              "<Figure size 432x288 with 1 Axes>"
            ]
          },
          "metadata": {
            "tags": [],
            "needs_background": "light"
          }
        }
      ]
    }
  ]
}