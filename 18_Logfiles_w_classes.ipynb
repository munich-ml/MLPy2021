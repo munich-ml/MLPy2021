{
  "nbformat": 4,
  "nbformat_minor": 0,
  "metadata": {
    "colab": {
      "name": "18_Logfiles_w_classes.ipynb",
      "provenance": [],
      "collapsed_sections": [],
      "toc_visible": true,
      "include_colab_link": true
    },
    "kernelspec": {
      "name": "python3",
      "display_name": "Python 3"
    },
    "language_info": {
      "name": "python"
    }
  },
  "cells": [
    {
      "cell_type": "markdown",
      "metadata": {
        "id": "view-in-github",
        "colab_type": "text"
      },
      "source": [
        "<a href=\"https://colab.research.google.com/github/munich-ml/MLPy2021/blob/main/18_Logfiles_w_classes.ipynb\" target=\"_parent\"><img src=\"https://colab.research.google.com/assets/colab-badge.svg\" alt=\"Open In Colab\"/></a>"
      ]
    },
    {
      "cell_type": "markdown",
      "metadata": {
        "id": "827kwTxX0tuc"
      },
      "source": [
        "# Logfile challenge"
      ]
    },
    {
      "cell_type": "markdown",
      "metadata": {
        "id": "z12MmBNm4fXJ"
      },
      "source": [
        "## setup"
      ]
    },
    {
      "cell_type": "markdown",
      "metadata": {
        "id": "Wu8QLzNa0zNJ"
      },
      "source": [
        "The setup depends on whether the notebook is executed in **Google Colab** or **locally in Jupyter**.\n",
        "\n",
        "- Clone GitHub project `MLPy2021` if executed in Colab\n",
        "- import `parse_logfile_string` from `helper_funcs`\n",
        "- open file `logfile.csv` and store content into variable `s`\n"
      ]
    },
    {
      "cell_type": "code",
      "metadata": {
        "id": "7qFfDsKHO1DP",
        "colab": {
          "base_uri": "https://localhost:8080/"
        },
        "outputId": "16f1445c-ed6d-4d5c-b401-5f7efd6cb15f"
      },
      "source": [
        "import os, sys\n",
        "import numpy as np\n",
        "import pandas as pd\n",
        "import matplotlib.pyplot as plt\n",
        "\n",
        "in_colab = 'google.colab' in sys.modules   # check if note is executed within Colab\n",
        "\n",
        "# Clone the repository if executed in Google Colab\n",
        "if in_colab:  \n",
        "    if \"MLPy2021\" in os.listdir():\n",
        "        !git -C MLPy2021 pull\n",
        "    else:\n",
        "        !git clone https://github.com/munich-ml/MLPy2021/\n",
        "\n",
        "# The function `parse_logfile_string` from 10_Logfile_challenge.ipynb has been moved \n",
        "# lib.helper_funcs.py. The import path depends on Colab or local execution \n",
        "if in_colab:\n",
        "    from MLPy2021.lib.helper_funcs import parse_logfile_string\n",
        "else:\n",
        "    from lib.helper_funcs import parse_logfile_string\n",
        "\n",
        "# Reading the logfile.csv content into the <st> variable s\n",
        "# The import path depends on Colab or local execution \n",
        "if in_colab:\n",
        "    filename = os.path.join(\"MLPy2021\", \"datasets\", \"logfile.csv\")\n",
        "else:\n",
        "    filename = os.path.join(\"datasets\", \"logfile.csv\")\n",
        "\n",
        "with open(filename, \"r\") as file:\n",
        "    s = file.read()\n",
        "\n",
        "    "
      ],
      "execution_count": 1,
      "outputs": [
        {
          "output_type": "stream",
          "text": [
            "Already up to date.\n"
          ],
          "name": "stdout"
        }
      ]
    },
    {
      "cell_type": "markdown",
      "metadata": {
        "id": "7SzNLgBYD-ht"
      },
      "source": [
        "## Reuse functions from **Pandas** session\n",
        "\n"
      ]
    },
    {
      "cell_type": "code",
      "metadata": {
        "id": "6cniKzzYslbu"
      },
      "source": [
        "def parse_logfile_string_to_pandas(s):\n",
        "    \"\"\"\n",
        "    Wraps 'parse_logfile_string' function and converts the \"data\" list of lists to a Pandas DataFrame\n",
        "    \"\"\"\n",
        "    log = parse_logfile_string(s)\n",
        "    df = pd.DataFrame(np.array(log[\"data\"]), columns=log[\"names\"])\n",
        "    return {\"data\": df.set_index(\"x\"),\n",
        "            \"params\": pd.Series(log[\"params\"], name=\"params\")}"
      ],
      "execution_count": 14,
      "outputs": []
    },
    {
      "cell_type": "code",
      "metadata": {
        "id": "sRRYxA4it2CP"
      },
      "source": [
        "def apply_calibration(log):\n",
        "    for param, cal_factor in log[\"params\"].items():\n",
        "        if \"calibration factor\" in param:\n",
        "            sig = param.split(\" \")[-1]\n",
        "            log[\"data\"][sig + \"_cal\"] = log[\"data\"][sig] * float(cal_factor)"
      ],
      "execution_count": 15,
      "outputs": []
    },
    {
      "cell_type": "code",
      "metadata": {
        "id": "uDVooCoPwNxn"
      },
      "source": [
        "def plot(log, sig_names=None):\n",
        "    df = log[\"data\"]\n",
        "    if sig_names is None:\n",
        "        sig_names = df.columns\n",
        "    for sig_name in sig_names:        \n",
        "        if sig_name in df.columns:\n",
        "            plt.plot(df.index, df[sig_name], \"o\", label=sig_name)\n",
        "        else:\n",
        "            print(\"Warning, '{}' is not in 'log['names']'!\".format(sig_name))\n",
        "    plt.grid(), plt.legend()"
      ],
      "execution_count": 16,
      "outputs": []
    },
    {
      "cell_type": "markdown",
      "metadata": {
        "id": "4BETLxUGq9Z5"
      },
      "source": [
        "## Testing Pandas version"
      ]
    },
    {
      "cell_type": "code",
      "metadata": {
        "id": "F0iTxPOmnFCo",
        "colab": {
          "base_uri": "https://localhost:8080/",
          "height": 166
        },
        "outputId": "88b4a3a9-d348-4386-a094-f1bbd0c3400b"
      },
      "source": [
        "log_data = parse_logfile_string_to_pandas(s)\n",
        "log_data[\"data\"].head(3)"
      ],
      "execution_count": 17,
      "outputs": [
        {
          "output_type": "execute_result",
          "data": {
            "text/html": [
              "<div>\n",
              "<style scoped>\n",
              "    .dataframe tbody tr th:only-of-type {\n",
              "        vertical-align: middle;\n",
              "    }\n",
              "\n",
              "    .dataframe tbody tr th {\n",
              "        vertical-align: top;\n",
              "    }\n",
              "\n",
              "    .dataframe thead th {\n",
              "        text-align: right;\n",
              "    }\n",
              "</style>\n",
              "<table border=\"1\" class=\"dataframe\">\n",
              "  <thead>\n",
              "    <tr style=\"text-align: right;\">\n",
              "      <th></th>\n",
              "      <th>sig0</th>\n",
              "      <th>sig1</th>\n",
              "      <th>sig2</th>\n",
              "    </tr>\n",
              "    <tr>\n",
              "      <th>x</th>\n",
              "      <th></th>\n",
              "      <th></th>\n",
              "      <th></th>\n",
              "    </tr>\n",
              "  </thead>\n",
              "  <tbody>\n",
              "    <tr>\n",
              "      <th>5.17</th>\n",
              "      <td>6.40</td>\n",
              "      <td>16.050</td>\n",
              "      <td>10.610</td>\n",
              "    </tr>\n",
              "    <tr>\n",
              "      <th>9.47</th>\n",
              "      <td>34.21</td>\n",
              "      <td>5.950</td>\n",
              "      <td>0.293</td>\n",
              "    </tr>\n",
              "    <tr>\n",
              "      <th>7.65</th>\n",
              "      <td>21.11</td>\n",
              "      <td>0.366</td>\n",
              "      <td>4.800</td>\n",
              "    </tr>\n",
              "  </tbody>\n",
              "</table>\n",
              "</div>"
            ],
            "text/plain": [
              "       sig0    sig1    sig2\n",
              "x                          \n",
              "5.17   6.40  16.050  10.610\n",
              "9.47  34.21   5.950   0.293\n",
              "7.65  21.11   0.366   4.800"
            ]
          },
          "metadata": {
            "tags": []
          },
          "execution_count": 17
        }
      ]
    },
    {
      "cell_type": "code",
      "metadata": {
        "id": "yJCs8SDWt6fW",
        "colab": {
          "base_uri": "https://localhost:8080/",
          "height": 166
        },
        "outputId": "0eeff8d3-9bdd-4e8b-b8fc-e9fc384d8823"
      },
      "source": [
        "apply_calibration(log_data)\n",
        "log_data[\"data\"].head(3)"
      ],
      "execution_count": 18,
      "outputs": [
        {
          "output_type": "execute_result",
          "data": {
            "text/html": [
              "<div>\n",
              "<style scoped>\n",
              "    .dataframe tbody tr th:only-of-type {\n",
              "        vertical-align: middle;\n",
              "    }\n",
              "\n",
              "    .dataframe tbody tr th {\n",
              "        vertical-align: top;\n",
              "    }\n",
              "\n",
              "    .dataframe thead th {\n",
              "        text-align: right;\n",
              "    }\n",
              "</style>\n",
              "<table border=\"1\" class=\"dataframe\">\n",
              "  <thead>\n",
              "    <tr style=\"text-align: right;\">\n",
              "      <th></th>\n",
              "      <th>sig0</th>\n",
              "      <th>sig1</th>\n",
              "      <th>sig2</th>\n",
              "      <th>sig0_cal</th>\n",
              "      <th>sig2_cal</th>\n",
              "    </tr>\n",
              "    <tr>\n",
              "      <th>x</th>\n",
              "      <th></th>\n",
              "      <th></th>\n",
              "      <th></th>\n",
              "      <th></th>\n",
              "      <th></th>\n",
              "    </tr>\n",
              "  </thead>\n",
              "  <tbody>\n",
              "    <tr>\n",
              "      <th>5.17</th>\n",
              "      <td>6.40</td>\n",
              "      <td>16.050</td>\n",
              "      <td>10.610</td>\n",
              "      <td>3.5200</td>\n",
              "      <td>19.94680</td>\n",
              "    </tr>\n",
              "    <tr>\n",
              "      <th>9.47</th>\n",
              "      <td>34.21</td>\n",
              "      <td>5.950</td>\n",
              "      <td>0.293</td>\n",
              "      <td>18.8155</td>\n",
              "      <td>0.55084</td>\n",
              "    </tr>\n",
              "    <tr>\n",
              "      <th>7.65</th>\n",
              "      <td>21.11</td>\n",
              "      <td>0.366</td>\n",
              "      <td>4.800</td>\n",
              "      <td>11.6105</td>\n",
              "      <td>9.02400</td>\n",
              "    </tr>\n",
              "  </tbody>\n",
              "</table>\n",
              "</div>"
            ],
            "text/plain": [
              "       sig0    sig1    sig2  sig0_cal  sig2_cal\n",
              "x                                              \n",
              "5.17   6.40  16.050  10.610    3.5200  19.94680\n",
              "9.47  34.21   5.950   0.293   18.8155   0.55084\n",
              "7.65  21.11   0.366   4.800   11.6105   9.02400"
            ]
          },
          "metadata": {
            "tags": []
          },
          "execution_count": 18
        }
      ]
    },
    {
      "cell_type": "code",
      "metadata": {
        "id": "i8Mh9YZYwylg",
        "colab": {
          "base_uri": "https://localhost:8080/",
          "height": 298
        },
        "outputId": "a8f7c45f-363a-486b-e95b-20032f1fdbd1"
      },
      "source": [
        "plot(log_data, sig_names=[\"sig0_cal\", \"sig1_cal\", \"sig1\", \"sig42\", \"sig2_cal\"])"
      ],
      "execution_count": 19,
      "outputs": [
        {
          "output_type": "stream",
          "text": [
            "Warning, 'sig1_cal' is not in 'log['names']'!\n",
            "Warning, 'sig42' is not in 'log['names']'!\n"
          ],
          "name": "stdout"
        },
        {
          "output_type": "display_data",
          "data": {
            "image/png": "[encoded data removed]",
            "text/plain": [
              "<Figure size 432x288 with 1 Axes>"
            ]
          },
          "metadata": {
            "tags": [],
            "needs_background": "light"
          }
        }
      ]
    },
    {
      "cell_type": "markdown",
      "metadata": {
        "id": "LfyMCvh4qM37"
      },
      "source": [
        "ok, the Pandas version works. \n",
        "\n",
        "Next, lets create a **Log `class`**"
      ]
    },
    {
      "cell_type": "markdown",
      "metadata": {
        "id": "hAtXWdpbiVEE"
      },
      "source": [
        "# `Log` class \n"
      ]
    },
    {
      "cell_type": "code",
      "metadata": {
        "id": "aJTTQQuEsCZx"
      },
      "source": [
        "class Log:\n",
        "    \"\"\"\n",
        "    Class handling logfile.csv\n",
        "\n",
        "    Parameter 'filename' of <type 'str'>\n",
        "    \"\"\"\n",
        "    def __init__(self, filename):\n",
        "        self.filename = filename\n",
        "        self._read_and_parse_logfile()\n",
        "\n",
        "    def __repr__(self):\n",
        "        s = 50*\"#\" + \"\\nLog from file '{}'\\n\\nparameters:\".format(self.filename)\n",
        "        for param, value in self.params.items():\n",
        "            s += \"\\n- '{}' = {}\".format(param, value)\n",
        "        s += \"\\n\\ndata tail:\"\n",
        "        s += \"\\n\" + str(self.data.tail(3))\n",
        "        return s + \"\\n\" + 50*\"#\"\n",
        "\n",
        "    def _read_and_parse_logfile(self):\n",
        "        with open(self.filename, \"r\") as file:\n",
        "            s = file.read()\n",
        "        log = parse_logfile_string(s)\n",
        "        df = pd.DataFrame(np.array(log[\"data\"]), columns=log[\"names\"])\n",
        "        self.data = df.set_index(\"x\")\n",
        "        self.params = pd.Series(log[\"params\"], name=\"params\")\n",
        "\n",
        "    def apply_calibration(self):\n",
        "        \"\"\"\n",
        "        If the parameters contain 'calibration factor' values, those are being applied to the 'sig' data\n",
        "        \"\"\"\n",
        "        for param, cal_factor in self.params.items():\n",
        "            if \"calibration factor\" in param:\n",
        "                sig = param.split(\" \")[-1]\n",
        "                self.data[sig + \"_cal\"] = self.data[sig] * float(cal_factor)\n",
        "\n",
        "    def plot(self, sig_names=None):\n",
        "        \"\"\"\n",
        "        plots the 'sig' data over 'x' (index)\n",
        "\n",
        "        optional parameter 'sig_names' of <type 'list'> of <type 'str'>\n",
        "        \"\"\"\n",
        "        if sig_names is None:\n",
        "            sig_names = self.data.columns\n",
        "        \n",
        "        for sig_name in sig_names:        \n",
        "            if sig_name in self.data.columns:\n",
        "                plt.plot(self.data.index, self.data[sig_name], \"o\", label=sig_name)\n",
        "            else:\n",
        "                print(\"Warning, '{}' is not in 'data.columns'!\".format(sig_name))\n",
        "        plt.grid(), plt.legend()"
      ],
      "execution_count": 20,
      "outputs": []
    },
    {
      "cell_type": "markdown",
      "metadata": {
        "id": "K2T929e-zYiL"
      },
      "source": [
        "## Testting the `Log` class"
      ]
    },
    {
      "cell_type": "code",
      "metadata": {
        "id": "zMdBrLw9ssRu"
      },
      "source": [
        "fn = os.path.join(\"MLPy2021\", \"datasets\", \"logfile.csv\")"
      ],
      "execution_count": 21,
      "outputs": []
    },
    {
      "cell_type": "code",
      "metadata": {
        "id": "8zUO-x9_vc62",
        "colab": {
          "base_uri": "https://localhost:8080/"
        },
        "outputId": "3fdf2725-5ddf-42d0-ec0d-f1c966a8b138"
      },
      "source": [
        "log = Log(fn)\n",
        "log"
      ],
      "execution_count": 22,
      "outputs": [
        {
          "output_type": "execute_result",
          "data": {
            "text/plain": [
              "##################################################\n",
              "Log from file 'MLPy2021/datasets/logfile.csv'\n",
              "\n",
              "parameters:\n",
              "- 'measurement date' = 2021-04-06\n",
              "- 'measurement time' = 08:00:00\n",
              "- 'calibration factor sig0' = 0.55\n",
              "- 'calibration factor sig2' = 1.88\n",
              "\n",
              "data tail:\n",
              "       sig0   sig1   sig2\n",
              "x                        \n",
              "3.46  34.25  19.13   8.35\n",
              "8.70  35.46   1.46   1.68\n",
              "4.29  22.22  19.75  10.11\n",
              "##################################################"
            ]
          },
          "metadata": {
            "tags": []
          },
          "execution_count": 22
        }
      ]
    },
    {
      "cell_type": "code",
      "metadata": {
        "id": "6Cp0-2gNwVDp",
        "colab": {
          "base_uri": "https://localhost:8080/"
        },
        "outputId": "3fd7db63-cf0f-4c1b-895a-cd9096d75352"
      },
      "source": [
        "log.apply_calibration()\n",
        "log"
      ],
      "execution_count": 23,
      "outputs": [
        {
          "output_type": "execute_result",
          "data": {
            "text/plain": [
              "##################################################\n",
              "Log from file 'MLPy2021/datasets/logfile.csv'\n",
              "\n",
              "parameters:\n",
              "- 'measurement date' = 2021-04-06\n",
              "- 'measurement time' = 08:00:00\n",
              "- 'calibration factor sig0' = 0.55\n",
              "- 'calibration factor sig2' = 1.88\n",
              "\n",
              "data tail:\n",
              "       sig0   sig1   sig2  sig0_cal  sig2_cal\n",
              "x                                            \n",
              "3.46  34.25  19.13   8.35   18.8375   15.6980\n",
              "8.70  35.46   1.46   1.68   19.5030    3.1584\n",
              "4.29  22.22  19.75  10.11   12.2210   19.0068\n",
              "##################################################"
            ]
          },
          "metadata": {
            "tags": []
          },
          "execution_count": 23
        }
      ]
    },
    {
      "cell_type": "code",
      "metadata": {
        "id": "8Dl5kVhZzncr",
        "colab": {
          "base_uri": "https://localhost:8080/",
          "height": 166
        },
        "outputId": "d611c48c-788e-41d7-d975-0bb9a3d04ff7"
      },
      "source": [
        "log.data.tail(3)"
      ],
      "execution_count": 24,
      "outputs": [
        {
          "output_type": "execute_result",
          "data": {
            "text/html": [
              "<div>\n",
              "<style scoped>\n",
              "    .dataframe tbody tr th:only-of-type {\n",
              "        vertical-align: middle;\n",
              "    }\n",
              "\n",
              "    .dataframe tbody tr th {\n",
              "        vertical-align: top;\n",
              "    }\n",
              "\n",
              "    .dataframe thead th {\n",
              "        text-align: right;\n",
              "    }\n",
              "</style>\n",
              "<table border=\"1\" class=\"dataframe\">\n",
              "  <thead>\n",
              "    <tr style=\"text-align: right;\">\n",
              "      <th></th>\n",
              "      <th>sig0</th>\n",
              "      <th>sig1</th>\n",
              "      <th>sig2</th>\n",
              "      <th>sig0_cal</th>\n",
              "      <th>sig2_cal</th>\n",
              "    </tr>\n",
              "    <tr>\n",
              "      <th>x</th>\n",
              "      <th></th>\n",
              "      <th></th>\n",
              "      <th></th>\n",
              "      <th></th>\n",
              "      <th></th>\n",
              "    </tr>\n",
              "  </thead>\n",
              "  <tbody>\n",
              "    <tr>\n",
              "      <th>3.46</th>\n",
              "      <td>34.25</td>\n",
              "      <td>19.13</td>\n",
              "      <td>8.35</td>\n",
              "      <td>18.8375</td>\n",
              "      <td>15.6980</td>\n",
              "    </tr>\n",
              "    <tr>\n",
              "      <th>8.70</th>\n",
              "      <td>35.46</td>\n",
              "      <td>1.46</td>\n",
              "      <td>1.68</td>\n",
              "      <td>19.5030</td>\n",
              "      <td>3.1584</td>\n",
              "    </tr>\n",
              "    <tr>\n",
              "      <th>4.29</th>\n",
              "      <td>22.22</td>\n",
              "      <td>19.75</td>\n",
              "      <td>10.11</td>\n",
              "      <td>12.2210</td>\n",
              "      <td>19.0068</td>\n",
              "    </tr>\n",
              "  </tbody>\n",
              "</table>\n",
              "</div>"
            ],
            "text/plain": [
              "       sig0   sig1   sig2  sig0_cal  sig2_cal\n",
              "x                                            \n",
              "3.46  34.25  19.13   8.35   18.8375   15.6980\n",
              "8.70  35.46   1.46   1.68   19.5030    3.1584\n",
              "4.29  22.22  19.75  10.11   12.2210   19.0068"
            ]
          },
          "metadata": {
            "tags": []
          },
          "execution_count": 24
        }
      ]
    },
    {
      "cell_type": "code",
      "metadata": {
        "id": "bGslT34Txv4E",
        "colab": {
          "base_uri": "https://localhost:8080/",
          "height": 265
        },
        "outputId": "bc732f3f-6403-4ad6-ed2a-43122cfc6916"
      },
      "source": [
        "log.plot()"
      ],
      "execution_count": 25,
      "outputs": [
        {
          "output_type": "display_data",
          "data": {
            "image/png": "[encoded data removed]",
            "text/plain": [
              "<Figure size 432x288 with 1 Axes>"
            ]
          },
          "metadata": {
            "tags": [],
            "needs_background": "light"
          }
        }
      ]
    }
  ]
}